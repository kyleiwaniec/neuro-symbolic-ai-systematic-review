{
  "nbformat": 4,
  "nbformat_minor": 0,
  "metadata": {
    "colab": {
      "name": "Sankey_60.ipynb",
      "provenance": [],
      "collapsed_sections": []
    },
    "kernelspec": {
      "name": "python3",
      "display_name": "Python 3"
    },
    "language_info": {
      "name": "python"
    }
  },
  "cells": [
    {
      "cell_type": "code",
      "execution_count": 1,
      "metadata": {
        "colab": {
          "base_uri": "https://localhost:8080/"
        },
        "id": "QIa22Ij-SLKU",
        "outputId": "cdc8de89-505f-463f-d6c5-06c82b0d6965"
      },
      "outputs": [
        {
          "output_type": "stream",
          "name": "stdout",
          "text": [
            "\u001b[K\u001b[?25h\u001b[37;40mnpm\u001b[0m \u001b[0m\u001b[30;43mWARN\u001b[0m \u001b[0m\u001b[35mdeprecated\u001b[0m request@2.88.2: request has been deprecated, see https://github.com/request/request/issues/3142\n",
            "\u001b[K\u001b[?25h\u001b[37;40mnpm\u001b[0m \u001b[0m\u001b[30;43mWARN\u001b[0m \u001b[0m\u001b[35mdeprecated\u001b[0m har-validator@5.1.5: this library is no longer supported\n",
            "\u001b[K\u001b[?25h\u001b[37;40mnpm\u001b[0m \u001b[0m\u001b[30;43mWARN\u001b[0m \u001b[0m\u001b[35mdeprecated\u001b[0m uuid@3.4.0: Please upgrade  to version 7 or higher.  Older versions may use Math.random() in certain circumstances, which is known to be problematic.  See https://v8.dev/blog/math-random for details.\n",
            "\u001b[K\u001b[?25h\u001b[37;40mnpm\u001b[0m \u001b[0m\u001b[30;43mWARN\u001b[0m \u001b[0m\u001b[35mdeprecated\u001b[0m left-pad@1.3.0: use String.prototype.padStart()\n",
            "\u001b[0m\u001b[37;40mnpm\u001b[0m \u001b[0m\u001b[30;43mWARN\u001b[0m \u001b[0m\u001b[35mdeprecated\u001b[0m request-promise-native@1.0.9: request-promise-native has been deprecated because it extends the now deprecated request package, see https://github.com/request/request/issues/3142\n",
            "\u001b[K\u001b[?25h/tools/node/bin/electron -> /tools/node/lib/node_modules/electron/cli.js\n",
            "/tools/node/bin/orca -> /tools/node/lib/node_modules/orca/bin/orca.js\n",
            "\u001b[K\u001b[?25h\n",
            "> electron@6.1.4 postinstall /tools/node/lib/node_modules/electron\n",
            "> node install.js\n",
            "\n",
            "+ orca@1.3.1\n",
            "+ electron@6.1.4\n",
            "added 246 packages from 290 contributors in 13.633s\n",
            "Reading package lists... Done\n",
            "Building dependency tree       \n",
            "Reading state information... Done\n",
            "The following package was automatically installed and is no longer required:\n",
            "  libnvidia-common-460\n",
            "Use 'apt autoremove' to remove it.\n",
            "The following additional packages will be installed:\n",
            "  gconf-service gconf-service-backend gconf2-common libdbus-glib-1-2\n",
            "  libgail-common libgail18 libgtk2.0-bin libgtk2.0-common\n",
            "Suggested packages:\n",
            "  gvfs\n",
            "The following NEW packages will be installed:\n",
            "  gconf-service gconf-service-backend gconf2-common libdbus-glib-1-2\n",
            "  libgail-common libgail18 libgconf-2-4 libgtk2.0-0 libgtk2.0-bin\n",
            "  libgtk2.0-common xvfb\n",
            "0 upgraded, 11 newly installed, 0 to remove and 45 not upgraded.\n",
            "Need to get 3,715 kB of archives.\n",
            "After this operation, 17.2 MB of additional disk space will be used.\n",
            "Get:1 http://archive.ubuntu.com/ubuntu bionic/main amd64 libdbus-glib-1-2 amd64 0.110-2 [58.3 kB]\n",
            "Get:2 http://archive.ubuntu.com/ubuntu bionic/universe amd64 gconf2-common all 3.2.6-4ubuntu1 [700 kB]\n",
            "Get:3 http://archive.ubuntu.com/ubuntu bionic/universe amd64 libgconf-2-4 amd64 3.2.6-4ubuntu1 [84.8 kB]\n",
            "Get:4 http://archive.ubuntu.com/ubuntu bionic/universe amd64 gconf-service-backend amd64 3.2.6-4ubuntu1 [58.1 kB]\n",
            "Get:5 http://archive.ubuntu.com/ubuntu bionic/universe amd64 gconf-service amd64 3.2.6-4ubuntu1 [2,036 B]\n",
            "Get:6 http://archive.ubuntu.com/ubuntu bionic/main amd64 libgtk2.0-common all 2.24.32-1ubuntu1 [125 kB]\n",
            "Get:7 http://archive.ubuntu.com/ubuntu bionic/main amd64 libgtk2.0-0 amd64 2.24.32-1ubuntu1 [1,769 kB]\n",
            "Get:8 http://archive.ubuntu.com/ubuntu bionic/main amd64 libgail18 amd64 2.24.32-1ubuntu1 [14.2 kB]\n",
            "Get:9 http://archive.ubuntu.com/ubuntu bionic/main amd64 libgail-common amd64 2.24.32-1ubuntu1 [112 kB]\n",
            "Get:10 http://archive.ubuntu.com/ubuntu bionic/main amd64 libgtk2.0-bin amd64 2.24.32-1ubuntu1 [7,536 B]\n",
            "Get:11 http://archive.ubuntu.com/ubuntu bionic-updates/universe amd64 xvfb amd64 2:1.19.6-1ubuntu4.10 [784 kB]\n",
            "Fetched 3,715 kB in 0s (22.3 MB/s)\n",
            "Selecting previously unselected package libdbus-glib-1-2:amd64.\n",
            "(Reading database ... 155632 files and directories currently installed.)\n",
            "Preparing to unpack .../00-libdbus-glib-1-2_0.110-2_amd64.deb ...\n",
            "Unpacking libdbus-glib-1-2:amd64 (0.110-2) ...\n",
            "Selecting previously unselected package gconf2-common.\n",
            "Preparing to unpack .../01-gconf2-common_3.2.6-4ubuntu1_all.deb ...\n",
            "Unpacking gconf2-common (3.2.6-4ubuntu1) ...\n",
            "Selecting previously unselected package libgconf-2-4:amd64.\n",
            "Preparing to unpack .../02-libgconf-2-4_3.2.6-4ubuntu1_amd64.deb ...\n",
            "Unpacking libgconf-2-4:amd64 (3.2.6-4ubuntu1) ...\n",
            "Selecting previously unselected package gconf-service-backend.\n",
            "Preparing to unpack .../03-gconf-service-backend_3.2.6-4ubuntu1_amd64.deb ...\n",
            "Unpacking gconf-service-backend (3.2.6-4ubuntu1) ...\n",
            "Selecting previously unselected package gconf-service.\n",
            "Preparing to unpack .../04-gconf-service_3.2.6-4ubuntu1_amd64.deb ...\n",
            "Unpacking gconf-service (3.2.6-4ubuntu1) ...\n",
            "Selecting previously unselected package libgtk2.0-common.\n",
            "Preparing to unpack .../05-libgtk2.0-common_2.24.32-1ubuntu1_all.deb ...\n",
            "Unpacking libgtk2.0-common (2.24.32-1ubuntu1) ...\n",
            "Selecting previously unselected package libgtk2.0-0:amd64.\n",
            "Preparing to unpack .../06-libgtk2.0-0_2.24.32-1ubuntu1_amd64.deb ...\n",
            "Unpacking libgtk2.0-0:amd64 (2.24.32-1ubuntu1) ...\n",
            "Selecting previously unselected package libgail18:amd64.\n",
            "Preparing to unpack .../07-libgail18_2.24.32-1ubuntu1_amd64.deb ...\n",
            "Unpacking libgail18:amd64 (2.24.32-1ubuntu1) ...\n",
            "Selecting previously unselected package libgail-common:amd64.\n",
            "Preparing to unpack .../08-libgail-common_2.24.32-1ubuntu1_amd64.deb ...\n",
            "Unpacking libgail-common:amd64 (2.24.32-1ubuntu1) ...\n",
            "Selecting previously unselected package libgtk2.0-bin.\n",
            "Preparing to unpack .../09-libgtk2.0-bin_2.24.32-1ubuntu1_amd64.deb ...\n",
            "Unpacking libgtk2.0-bin (2.24.32-1ubuntu1) ...\n",
            "Selecting previously unselected package xvfb.\n",
            "Preparing to unpack .../10-xvfb_2%3a1.19.6-1ubuntu4.10_amd64.deb ...\n",
            "Unpacking xvfb (2:1.19.6-1ubuntu4.10) ...\n",
            "Setting up gconf2-common (3.2.6-4ubuntu1) ...\n",
            "\n",
            "Creating config file /etc/gconf/2/path with new version\n",
            "Setting up libgtk2.0-common (2.24.32-1ubuntu1) ...\n",
            "Setting up libdbus-glib-1-2:amd64 (0.110-2) ...\n",
            "Setting up xvfb (2:1.19.6-1ubuntu4.10) ...\n",
            "Setting up libgconf-2-4:amd64 (3.2.6-4ubuntu1) ...\n",
            "Setting up libgtk2.0-0:amd64 (2.24.32-1ubuntu1) ...\n",
            "Setting up libgail18:amd64 (2.24.32-1ubuntu1) ...\n",
            "Setting up libgail-common:amd64 (2.24.32-1ubuntu1) ...\n",
            "Setting up libgtk2.0-bin (2.24.32-1ubuntu1) ...\n",
            "Setting up gconf-service-backend (3.2.6-4ubuntu1) ...\n",
            "Setting up gconf-service (3.2.6-4ubuntu1) ...\n",
            "Processing triggers for libc-bin (2.27-3ubuntu1.3) ...\n",
            "/sbin/ldconfig.real: /usr/local/lib/python3.7/dist-packages/ideep4py/lib/libmkldnn.so.0 is not a symbolic link\n",
            "\n",
            "Processing triggers for man-db (2.8.3-2ubuntu0.1) ...\n"
          ]
        }
      ],
      "source": [
        "!npm install -g electron@6.1.4 orca --unsafe-perm=true --allow-root\n",
        "!apt-get install xvfb libgtk2.0-0 libgconf-2-4\n",
        "!chmod +x /tools/node/bin/orca"
      ]
    },
    {
      "cell_type": "code",
      "source": [
        "import pandas as pd\n",
        "import re\n",
        "import numpy as np\n",
        "import plotly.graph_objects as go\n",
        "\n",
        "df = pd.read_csv(\"NeSy-Review-Papers.csv\")"
      ],
      "metadata": {
        "id": "VcsbG5eISboJ"
      },
      "execution_count": 81,
      "outputs": []
    },
    {
      "cell_type": "code",
      "source": [
        "df['Technical Application'] = df['Technical Application'].replace(['reasoning','classification,\\nreasoning'],['inference','classification,\\ninference'])\n"
      ],
      "metadata": {
        "id": "h-43JecOG0bX"
      },
      "execution_count": 201,
      "outputs": []
    },
    {
      "cell_type": "code",
      "source": [
        "df['Technical Application']"
      ],
      "metadata": {
        "colab": {
          "base_uri": "https://localhost:8080/"
        },
        "id": "0yRgjOREJRca",
        "outputId": "d4f8fde6-6b26-471d-d1c9-ba0803f1eef2"
      },
      "execution_count": 202,
      "outputs": [
        {
          "output_type": "execute_result",
          "data": {
            "text/plain": [
              "0                 classification\n",
              "1                     generative\n",
              "2                 classification\n",
              "3         information extraction\n",
              "4         information extraction\n",
              "5                      inference\n",
              "6         information extraction\n",
              "7                      inference\n",
              "8                      inference\n",
              "9                 classification\n",
              "10        information extraction\n",
              "11                classification\n",
              "12                    generative\n",
              "13                classification\n",
              "14                classification\n",
              "15        information extraction\n",
              "16                     inference\n",
              "17        information extraction\n",
              "18                classification\n",
              "19                classification\n",
              "20                classification\n",
              "21                classification\n",
              "22                     inference\n",
              "23                     inference\n",
              "24        information extraction\n",
              "25                classification\n",
              "26                    generative\n",
              "27                classification\n",
              "28                classification\n",
              "29                classification\n",
              "30                classification\n",
              "31                     inference\n",
              "32                classification\n",
              "33                classification\n",
              "34                classification\n",
              "35                     inference\n",
              "36                classification\n",
              "37                classification\n",
              "38                classification\n",
              "39                     inference\n",
              "40                classification\n",
              "41                classification\n",
              "42                classification\n",
              "43                classification\n",
              "44                classification\n",
              "45                    similarity\n",
              "46                classification\n",
              "47                classification\n",
              "48                classification\n",
              "49                classification\n",
              "50                classification\n",
              "51                classification\n",
              "52    classification,\\ninference\n",
              "53                classification\n",
              "54                    generative\n",
              "55                classification\n",
              "56                    generative\n",
              "57                    generative\n",
              "58                    generative\n",
              "Name: Technical Application, dtype: object"
            ]
          },
          "metadata": {},
          "execution_count": 202
        }
      ]
    },
    {
      "cell_type": "code",
      "source": [
        "nesy.columns"
      ],
      "metadata": {
        "colab": {
          "base_uri": "https://localhost:8080/"
        },
        "id": "c9jHIMx7UjKi",
        "outputId": "40a6e267-56be-42df-80c7-50d599c845f8"
      },
      "execution_count": 203,
      "outputs": [
        {
          "output_type": "execute_result",
          "data": {
            "text/plain": [
              "Index(['Doc type', 'citation', 'Title', 'Abstract', 'Scopus Hash ID', 'DOI',\n",
              "       'Journal/Conference', 'Year', 'Business Use Case',\n",
              "       'Technical Application', 'Type of Learning', 'Key-intake',\n",
              "       'Contribution', 'Authors Definition of NeSy', 'Symbolic terms',\n",
              "       'Neural terms', 'NeSy Category', 'Kautz category', 'Datasets',\n",
              "       'Model description', 'Evaluation Metrics', 'Reported Score',\n",
              "       'Study Quality', 'Comments', 'MISC',\n",
              "       'leverages natural language structure',\n",
              "       'leverages relational structure', 'Knowledge representation',\n",
              "       'implicit vs explicit', 'reasoning',\n",
              "       'out-of-distribution generalization', 'interpretability',\n",
              "       'reduced data', 'transferability',\n",
              "       'NeSy (check if the authors label their work as NeSy)', 'Unnamed: 35',\n",
              "       'Unnamed: 36', 'Unnamed: 37', 'Unnamed: 38'],\n",
              "      dtype='object')"
            ]
          },
          "metadata": {},
          "execution_count": 203
        }
      ]
    },
    {
      "cell_type": "code",
      "source": [
        "#Business Use Case\n",
        "#Technical Application\n",
        "#Type of Learning\n",
        "#"
      ],
      "metadata": {
        "id": "KQO7Fc4sUpyr"
      },
      "execution_count": 204,
      "outputs": []
    },
    {
      "cell_type": "code",
      "source": [
        "layers = ['biz_case', 'tech_app', 'learning_type','kautz_cat','nesy_category','kr','leverage','implicit_expilit','goals']"
      ],
      "metadata": {
        "id": "zOOHLWtVws15"
      },
      "execution_count": 205,
      "outputs": []
    },
    {
      "cell_type": "code",
      "source": [
        "i=1\n",
        "terms=[]\n",
        "for t in df['Business Use Case'].unique():\n",
        "  _terms = t.split('\\n')\n",
        "  for term in _terms:\n",
        "    term=term.split(',')[0]\n",
        "    terms.append(term)\n",
        "for t in set(terms):\n",
        "  print(\"'\"+t+\"':\"+str(i)+\",\")\n",
        "  i+=1"
      ],
      "metadata": {
        "colab": {
          "base_uri": "https://localhost:8080/"
        },
        "id": "mCNsbJP0kFSf",
        "outputId": "0ff578c7-79b4-4ab7-ff6b-f390891102c4"
      },
      "execution_count": 206,
      "outputs": [
        {
          "output_type": "stream",
          "name": "stdout",
          "text": [
            "'Emotion recognition':1,\n",
            "'Sentiment analysis':2,\n",
            "'Text games':3,\n",
            "'Dialog system':4,\n",
            "'N2F':5,\n",
            "'KG Completion / link prediction':6,\n",
            "'Entity Linking':7,\n",
            "'Relation extraction':8,\n",
            "'Image captioning':9,\n",
            "'Opnion extraction':10,\n",
            "'Annotation':11,\n",
            "'Reading comprehension':12,\n",
            "'Text classification':13,\n",
            "'Causal Reasoning':14,\n",
            "'Question answering':15,\n",
            "'Decision support':16,\n",
            "'Argumentation mining':17,\n",
            "'Language modeling':18,\n",
            "'Information extraction':19,\n",
            "'Entity Resolution':20,\n",
            "'Text summarization':21,\n"
          ]
        }
      ]
    },
    {
      "cell_type": "code",
      "source": [
        "i=22\n",
        "terms=[]\n",
        "for t in df['Technical Application'].unique():\n",
        "  _terms = t.split('\\n')\n",
        "  for term in _terms:\n",
        "    term=term.split(',')[0]\n",
        "    terms.append(term)\n",
        "for t in set(terms):\n",
        "  print(\"'\"+t+\"':\"+str(i)+\",\")\n",
        "  i+=1"
      ],
      "metadata": {
        "colab": {
          "base_uri": "https://localhost:8080/"
        },
        "id": "4Qjm2CMBjySK",
        "outputId": "911fcf73-e746-4dd7-f547-4db49a463fd2"
      },
      "execution_count": 207,
      "outputs": [
        {
          "output_type": "stream",
          "name": "stdout",
          "text": [
            "'similarity':22,\n",
            "'classification':23,\n",
            "'generative':24,\n",
            "'inference':25,\n",
            "'information extraction':26,\n"
          ]
        }
      ]
    },
    {
      "cell_type": "code",
      "source": [
        "i=27\n",
        "terms=[]\n",
        "for t in df['Type of Learning'].unique():\n",
        "  _terms = t.split('\\n')\n",
        "  for term in _terms:\n",
        "    term=term.split(',')[0]\n",
        "    terms.append(term)\n",
        "for t in set(terms):\n",
        "  print(\"'\"+t+\"':\"+str(i)+\",\")\n",
        "  i+=1"
      ],
      "metadata": {
        "colab": {
          "base_uri": "https://localhost:8080/"
        },
        "id": "INvQAwdnkBjf",
        "outputId": "b8d396c9-7f9f-4732-845c-c164e389c75b"
      },
      "execution_count": 208,
      "outputs": [
        {
          "output_type": "stream",
          "name": "stdout",
          "text": [
            "'semi-supervised':27,\n",
            "'unsupervised':28,\n",
            "'supervised':29,\n",
            "'curriculum':30,\n",
            "'reinforcement':31,\n"
          ]
        }
      ]
    },
    {
      "cell_type": "code",
      "source": [
        "i=32\n",
        "terms=[]\n",
        "for t in df['Kautz category'].unique():\n",
        "  _terms = t.split('\\n')\n",
        "  for term in _terms:\n",
        "    term=term.split(',')[0]\n",
        "    terms.append(term)\n",
        "for t in set(terms):\n",
        "  print(\"'\"+t+\"':\"+str(i)+\",\")\n",
        "  i+=1"
      ],
      "metadata": {
        "colab": {
          "base_uri": "https://localhost:8080/"
        },
        "id": "DtQ41u3sk6nB",
        "outputId": "23149448-6b18-443f-c6b4-1d59154d2b1b"
      },
      "execution_count": 209,
      "outputs": [
        {
          "output_type": "stream",
          "name": "stdout",
          "text": [
            "'4. Neuro: Symbolic → Neuro':32,\n",
            "'5. Neuro_Symbolic':33,\n",
            "'3. Neuro; Symbolic':34,\n",
            "'2. Symbolic[Neuro]':35,\n",
            "'1. symbolic Neuro symbolic':36,\n"
          ]
        }
      ]
    },
    {
      "cell_type": "code",
      "source": [
        "i=37\n",
        "terms=[]\n",
        "for t in df['NeSy Category'].unique():\n",
        "  _terms = t.split('\\n')\n",
        "  for term in _terms:\n",
        "    term=term.split(',')[0]\n",
        "    terms.append(term)\n",
        "for t in set(terms):\n",
        "  print(\"'\"+t+\"':\"+str(i)+\",\")\n",
        "  i+=1 "
      ],
      "metadata": {
        "colab": {
          "base_uri": "https://localhost:8080/"
        },
        "id": "-BoCgNlIlm9g",
        "outputId": "b586f2f2-7d79-4be5-c973-5fa53e523c22"
      },
      "execution_count": 210,
      "outputs": [
        {
          "output_type": "stream",
          "name": "stdout",
          "text": [
            "'compiled':37,\n",
            "'cooperative':38,\n",
            "'nested':39,\n",
            "'sequential':40,\n"
          ]
        }
      ]
    },
    {
      "cell_type": "code",
      "source": [
        "i=41\n",
        "terms=[]\n",
        "for t in df['Knowledge representation'].unique():\n",
        "  _terms = t.split('\\n')\n",
        "  for term in _terms:\n",
        "    term=term.split(',')[0]\n",
        "    terms.append(term)\n",
        "for t in set(terms):\n",
        "  print(\"'\"+t+\"':\"+str(i)+\",\")\n",
        "  i+=1 "
      ],
      "metadata": {
        "colab": {
          "base_uri": "https://localhost:8080/"
        },
        "id": "qROXf52NlAYa",
        "outputId": "ab54dec5-b1cd-402c-f4cf-979dbd03d165"
      },
      "execution_count": 211,
      "outputs": [
        {
          "output_type": "stream",
          "name": "stdout",
          "text": [
            "'semantic network':41,\n",
            "'frames':42,\n",
            "'rules':43,\n",
            "'logical':44,\n"
          ]
        }
      ]
    },
    {
      "cell_type": "code",
      "source": [
        "cat_var_lookup = {\n",
        "\n",
        "'Emotion recognition':1,\n",
        "'Sentiment analysis':2,\n",
        "'Text games':3,\n",
        "'Dialog system':4,\n",
        "'N2F':5,\n",
        "'KG Completion / link prediction':6,\n",
        "'Entity Linking':7,\n",
        "'Relation extraction':8,\n",
        "'Image captioning':9,\n",
        "'Opnion extraction':10,\n",
        "'Annotation':11,\n",
        "'Reading comprehension':12,\n",
        "'Text classification':13,\n",
        "'Causal Reasoning':14,\n",
        "'Question answering':15,\n",
        "'Decision support':16,\n",
        "'Argumentation mining':17,\n",
        "'Language modeling':18,\n",
        "'Information extraction':19,\n",
        "'Entity Resolution':20,\n",
        "'Text summarization':21,\n",
        "\n",
        "'similarity':22,\n",
        "'classification':23,\n",
        "'generative':24,\n",
        "'inference':25,\n",
        "'information extraction':26,\n",
        "\n",
        "'semi-supervised':27,\n",
        "'unsupervised':28,\n",
        "'supervised':29,\n",
        "'curriculum':30,\n",
        "'reinforcement':31,\n",
        "\n",
        "'4. Neuro: Symbolic → Neuro':32,\n",
        "'5. Neuro_Symbolic':33,\n",
        "'3. Neuro; Symbolic':34,\n",
        "'2. Symbolic[Neuro]':35,\n",
        "'1. symbolic Neuro symbolic':36,\n",
        "\n",
        "'compiled':37,\n",
        "'cooperative':38,\n",
        "'nested':39,\n",
        "'sequential':40,\n",
        "\n",
        "'semantic network':41,\n",
        "'frames':42,\n",
        "'rules':43,\n",
        "'logical':44,\n",
        "\n",
        "'leverages natural language structure':45,'leverages relational structure':46, 'both' : 47,\n",
        "\n",
        "'implicit':48, 'explicit': 49,\n",
        "\n",
        "'reasoning':50,'out-of-distribution generalization':51, 'interpretability':52, 'reduced data':53,'transferability':54, 'no goals met':55,\n",
        "\n",
        "}\n",
        "\n",
        "var_cat_lookup = {v: k for k, v in cat_var_lookup.items()}"
      ],
      "metadata": {
        "id": "3CHhFS7plY_S"
      },
      "execution_count": 212,
      "outputs": []
    },
    {
      "cell_type": "code",
      "source": [
        "# generate data structures for sanky by combining columns from df\n",
        "\n",
        "cols=list(df.columns)\n",
        "\n",
        "# Sanky layers (these don't have to be Series, it's a leagcy idea)\n",
        "nesy_category = pd.Series([],dtype = 'object')\n",
        "kautz_cat = pd.Series([],dtype = 'object')\n",
        "leverage = pd.Series([],dtype = 'object')\n",
        "kr = pd.Series([],dtype = 'object')\n",
        "implicit_expilit = pd.Series([],dtype = 'object')\n",
        "goals = pd.Series([],dtype = 'object')\n",
        "biz_case = pd.Series([],dtype = 'object')\n",
        "tech_app = pd.Series([],dtype = 'object')\n",
        "learning_type = pd.Series([],dtype = 'object')\n",
        "for row in df.itertuples():\n",
        "  nesy_category[len(nesy_category)] = [cat_var_lookup[row[cols.index('NeSy Category')+1]]]\n",
        "  kautz_cat[len(kautz_cat)] =         [cat_var_lookup[row[cols.index('Kautz category')+1]]]\n",
        "\n",
        "  #leverage\n",
        "  _leverage = []\n",
        "  if row[cols.index('leverages natural language structure')+1]:\n",
        "    _leverage.append(cat_var_lookup['leverages natural language structure'])\n",
        "  if row[cols.index('leverages relational structure')+1]:\n",
        "    _leverage.append(cat_var_lookup['leverages relational structure'])  \n",
        "  leverage[len(leverage)]=_leverage\n",
        "\n",
        "  #implicit_expilit\n",
        "  _implicit_expilit = []\n",
        "  if type(row[cols.index('implicit vs explicit')+1]) == str:\n",
        "    vals=row[cols.index('implicit vs explicit')+1].split('\\n')\n",
        "    for v in vals:\n",
        "      v=v.split(',')[0]\n",
        "      _implicit_expilit.append(cat_var_lookup[v])\n",
        "    implicit_expilit[len(implicit_expilit)] = _implicit_expilit\n",
        "  else:implicit_expilit[len(implicit_expilit)]=[]\n",
        "\n",
        "  #knowledge representation\n",
        "  _kr = []\n",
        "  if type(row[cols.index('Knowledge representation')+1]) == str:\n",
        "    vals=row[cols.index('Knowledge representation')+1].split('\\n')\n",
        "    for v in vals:\n",
        "      v=v.split(',')[0]\n",
        "      _kr.append(cat_var_lookup[v])\n",
        "    kr[len(kr)] = _kr \n",
        "  else:kr[len(kr)]=[]\n",
        "  \n",
        "  #goals\n",
        "  goalstrings=['reasoning', 'out-of-distribution generalization', 'interpretability', 'reduced data', 'transferability']\n",
        "  _goals=[]\n",
        "  for gstr in goalstrings:\n",
        "    # print(row[cols.index(gstr)+1])\n",
        "    if row[cols.index(gstr)+1]:\n",
        "      _goals.append(cat_var_lookup[gstr])\n",
        "    #_goals.append(cat_var_lookup['no goals met'])\n",
        "  if len(_goals) == 0:\n",
        "    _goals.append(cat_var_lookup['no goals met'])\n",
        "  goals[len(goals)] = _goals\n",
        "\n",
        "\n",
        "  #business use case\n",
        "  _biz_case=[]\n",
        "  if type(row[cols.index('Business Use Case')+1]) == str:\n",
        "    vals=row[cols.index('Business Use Case')+1].split('\\n')\n",
        "    for v in vals:\n",
        "      v=v.split(',')[0]\n",
        "      _biz_case.append(cat_var_lookup[v])\n",
        "    biz_case[len(biz_case)] = _biz_case \n",
        "  else:biz_case[len(biz_case)]=[]\n",
        "\n",
        "\n",
        "  #Technical Application\n",
        "  _tech_app=[]\n",
        "  if type(row[cols.index('Technical Application')+1]) == str:\n",
        "    vals=row[cols.index('Technical Application')+1].split('\\n')\n",
        "    for v in vals:\n",
        "      v=v.split(',')[0]\n",
        "      _tech_app.append(cat_var_lookup[v])\n",
        "    tech_app[len(tech_app)] = _tech_app\n",
        "  else:tech_app[len(tech_app)]=[]\n",
        "\n",
        "\n",
        "  #Learning_type\n",
        "  _learning_type=[]\n",
        "  if type(row[cols.index('Type of Learning')+1]) == str:\n",
        "    vals=row[cols.index('Type of Learning')+1].split('\\n')\n",
        "    for v in vals:\n",
        "      v=v.split(',')[0]\n",
        "      _learning_type.append(cat_var_lookup[v])\n",
        "    learning_type[len(learning_type)] = _learning_type\n",
        "  else:learning_type[len(learning_type)]=[]\n"
      ],
      "metadata": {
        "id": "xGJ7IAdi0hnl"
      },
      "execution_count": 213,
      "outputs": []
    },
    {
      "cell_type": "code",
      "source": [
        "# make links based on above data structures\n",
        "def generateLinks(columns,palette):\n",
        "  links=[]\n",
        "  epsilon = 1.0e-10 #prevent division by zero\n",
        "\n",
        "  \n",
        "  # flatten_matrix = [val for sublist in matrix for val in sublist]\n",
        "  source_variables = set([e for el in columns[0] for e in el]) \n",
        "  colors_dict = collections.defaultdict()\n",
        "  for i,c in enumerate(source_variables):\n",
        "    colors_dict[c] = palette[i]\n",
        "\n",
        "  for row_idx in range(len(columns[0])):\n",
        "    for col_idx in range(len(columns)-1):\n",
        "      \n",
        "      sources = columns[col_idx][row_idx]\n",
        "\n",
        "      for source in sources:\n",
        "        # always use the color from the first column\n",
        "        if col_idx == 0:\n",
        "          color = colors_dict[source]\n",
        "\n",
        "        # 1 / epsilon + (length of sourse * length of target)\n",
        "        weight = 1/(epsilon+len(columns[col_idx][row_idx])*len(columns[col_idx+1][row_idx]))\n",
        "\n",
        "        targets = columns[col_idx+1][row_idx]\n",
        "\n",
        "        for target in targets:\n",
        "          links.append((source, target, weight, color))\n",
        "\n",
        "\n",
        "  return(np.array(links))"
      ],
      "metadata": {
        "id": "faASM-js0hp5"
      },
      "execution_count": 214,
      "outputs": []
    },
    {
      "cell_type": "code",
      "source": [
        "import plotly.graph_objects as go\n",
        "\n",
        "import collections"
      ],
      "metadata": {
        "id": "uQJZqPuz0hsR"
      },
      "execution_count": 215,
      "outputs": []
    },
    {
      "cell_type": "code",
      "source": [
        "colors=[\"#afe979\", \"#296afb\", \"#57bcd6\", \"#450256\", \"#89b79f\", \"#9c4397\", \"#2a91a7\", \"#ff2f6d\", \"#005d79\"]\n",
        "list(reversed(colors))"
      ],
      "metadata": {
        "colab": {
          "base_uri": "https://localhost:8080/"
        },
        "id": "n4jcmttR0huj",
        "outputId": "b9efe422-3651-42e4-d2da-fd24fb9d312e"
      },
      "execution_count": 216,
      "outputs": [
        {
          "output_type": "execute_result",
          "data": {
            "text/plain": [
              "['#005d79',\n",
              " '#ff2f6d',\n",
              " '#2a91a7',\n",
              " '#9c4397',\n",
              " '#89b79f',\n",
              " '#450256',\n",
              " '#57bcd6',\n",
              " '#296afb',\n",
              " '#afe979']"
            ]
          },
          "metadata": {},
          "execution_count": 216
        }
      ]
    },
    {
      "cell_type": "code",
      "source": [
        "def makeLabels(st_links):\n",
        "  labels=[None]*150\n",
        "\n",
        "  # source labels: set(st_links[:,0:1].flatten())\n",
        "  for i in set(st_links[:,0:1].flatten()):\n",
        "    labels[int(i)]=var_cat_lookup[int(i)]\n",
        "\n",
        "  # target labels: set(st_links[:,1:2].flatten())\n",
        "  for i in set(st_links[:,1:2].flatten()):\n",
        "    labels[int(i)]=var_cat_lookup[int(i)]\n",
        "\n",
        "  return labels"
      ],
      "metadata": {
        "id": "hhnPAEVj0hw4"
      },
      "execution_count": 217,
      "outputs": []
    },
    {
      "cell_type": "code",
      "source": [
        "\n",
        "colors=[\"rgba(32,112,180,.75)\",\"rgba(137,183,159,.75)\",\"rgba(69,2,86,.75)\",\"rgba(156,67,151,.75)\",\"rgba(87,188,214,.75)\"]*10\n",
        "colors=[\"#450256\",\"#57bcd6\",\"#89b79f\",\"#9c4397\",\"#ff2f6d\",\"#2a91a7\",\"#afe979\",\"#296afb\",\"#005d79\"]*10\n",
        "# colors=[\"#afe979\", \"#296afb\", \"#57bcd6\", \"#450256\", \"#89b79f\", \"#9c4397\", \"#2a91a7\", \"#ff2f6d\", \"#005d79\"]\n",
        "# colors=list(reversed(colors))*10\n"
      ],
      "metadata": {
        "id": "oTJrFlHm0hzF"
      },
      "execution_count": 218,
      "outputs": []
    },
    {
      "cell_type": "code",
      "source": [
        "import plotly.graph_objects as go\n",
        "def genSankey(st_links, title):\n",
        "# data to dict, dict to sankey\n",
        "  labels=makeLabels(st_links)\n",
        "  print(labels)\n",
        "  print(type(labels))\n",
        "  newlabel = []\n",
        "  for l in labels:\n",
        "    if(l != None):\n",
        "      newlabel.append(l.capitalize())\n",
        "    else:\n",
        "      newlabel.append('None')\n",
        "  newlabel[51] = \"OOD\"\n",
        "  link = dict(source = st_links[:,0:1].flatten(), target = st_links[:,1:2].flatten(), value = st_links[:,2:3].flatten(), color = st_links[:,3:4].flatten())\n",
        "  node = dict(label = newlabel, pad=25, thickness=10, color=\"#333333\")\n",
        "  data = go.Sankey(link = link, node=node)\n",
        "# plot\n",
        "\n",
        "  fig = go.Figure(data)\n",
        "  fig.update_layout(\n",
        "    hovermode = 'x',\n",
        "    title = title,\n",
        "    font=dict(size = 13, color = '#333333'),\n",
        "    height = 500,\n",
        "    width = 700,\n",
        "  font_family=\"Arial\"\n",
        "  )\n",
        "  fig.show()\n",
        "\n",
        "  fig.write_image(title+'.svg')"
      ],
      "metadata": {
        "id": "A_7wHlSg2jTe"
      },
      "execution_count": 227,
      "outputs": []
    },
    {
      "cell_type": "code",
      "source": [
        "layers"
      ],
      "metadata": {
        "colab": {
          "base_uri": "https://localhost:8080/"
        },
        "id": "ceHlvatZeNho",
        "outputId": "baeedf49-895d-42fd-d858-0f2ab4270bd6"
      },
      "execution_count": 231,
      "outputs": [
        {
          "output_type": "execute_result",
          "data": {
            "text/plain": [
              "['biz_case',\n",
              " 'tech_app',\n",
              " 'learning_type',\n",
              " 'kautz_cat',\n",
              " 'nesy_category',\n",
              " 'kr',\n",
              " 'leverage',\n",
              " 'implicit_expilit',\n",
              " 'goals']"
            ]
          },
          "metadata": {},
          "execution_count": 231
        }
      ]
    },
    {
      "cell_type": "code",
      "source": [
        "genSankey(generateLinks([leverage, goals], colors), \"Leverage goals\")\n",
        "genSankey(generateLinks([leverage, learning_type], colors), \"Leverage learning type\")\n",
        "genSankey(generateLinks([leverage, tech_app], colors), \"Leverage tech app\")\n",
        "genSankey(generateLinks([leverage, kr], colors), \"Leverage kr\")\n",
        "genSankey(generateLinks([leverage, implicit_expilit, goals], colors), \"Leverage reasoning goals\")\n",
        "genSankey(generateLinks([leverage, tech_app, goals], colors), \"Leverage tech_app goals\")\n",
        "genSankey(generateLinks([leverage, biz_case], colors), \"Leverage biz_case\")\n",
        "genSankey(generateLinks([leverage, biz_case, learning_type], colors), \"Leverage biz_case learning_type\")"
      ],
      "metadata": {
        "colab": {
          "base_uri": "https://localhost:8080/",
          "height": 1000
        },
        "id": "d6UAX7Kw2m2l",
        "outputId": "799374f6-bb74-41bb-b613-64efc4ac1f06"
      },
      "execution_count": 232,
      "outputs": [
        {
          "output_type": "stream",
          "name": "stdout",
          "text": [
            "[None, None, None, None, None, None, None, None, None, None, None, None, None, None, None, None, None, None, None, None, None, None, None, None, None, None, None, None, None, None, None, None, None, None, None, None, None, None, None, None, None, None, None, None, None, 'leverages natural language structure', 'leverages relational structure', None, None, None, 'reasoning', 'out-of-distribution generalization', 'interpretability', 'reduced data', 'transferability', 'no goals met', None, None, None, None, None, None, None, None, None, None, None, None, None, None, None, None, None, None, None, None, None, None, None, None, None, None, None, None, None, None, None, None, None, None, None, None, None, None, None, None, None, None, None, None, None, None, None, None, None, None, None, None, None, None, None, None, None, None, None, None, None, None, None, None, None, None, None, None, None, None, None, None, None, None, None, None, None, None, None, None, None, None, None, None, None, None, None, None, None, None, None, None, None, None]\n",
            "<class 'list'>\n"
          ]
        },
        {
          "output_type": "display_data",
          "data": {
            "text/html": [
              "<html>\n",
              "<head><meta charset=\"utf-8\" /></head>\n",
              "<body>\n",
              "    <div>            <script src=\"https://cdnjs.cloudflare.com/ajax/libs/mathjax/2.7.5/MathJax.js?config=TeX-AMS-MML_SVG\"></script><script type=\"text/javascript\">if (window.MathJax) {MathJax.Hub.Config({SVG: {font: \"STIX-Web\"}});}</script>                <script type=\"text/javascript\">window.PlotlyConfig = {MathJaxConfig: 'local'};</script>\n",
              "        <script src=\"https://cdn.plot.ly/plotly-2.8.3.min.js\"></script>                <div id=\"034ade86-2d46-47e3-92b7-fab9137349ac\" class=\"plotly-graph-div\" style=\"height:500px; width:700px;\"></div>            <script type=\"text/javascript\">                                    window.PLOTLYENV=window.PLOTLYENV || {};                                    if (document.getElementById(\"034ade86-2d46-47e3-92b7-fab9137349ac\")) {                    Plotly.newPlot(                        \"034ade86-2d46-47e3-92b7-fab9137349ac\",                        [{\"link\":{\"color\":[\"#57bcd6\",\"#57bcd6\",\"#450256\",\"#57bcd6\",\"#57bcd6\",\"#450256\",\"#450256\",\"#450256\",\"#57bcd6\",\"#450256\",\"#450256\",\"#450256\",\"#450256\",\"#57bcd6\",\"#57bcd6\",\"#57bcd6\",\"#57bcd6\",\"#450256\",\"#450256\",\"#450256\",\"#450256\",\"#57bcd6\",\"#57bcd6\",\"#57bcd6\",\"#57bcd6\",\"#450256\",\"#450256\",\"#450256\",\"#57bcd6\",\"#450256\",\"#57bcd6\",\"#450256\",\"#450256\",\"#450256\",\"#57bcd6\",\"#450256\",\"#450256\",\"#450256\",\"#450256\",\"#450256\",\"#450256\",\"#450256\",\"#57bcd6\",\"#450256\",\"#450256\",\"#450256\",\"#450256\",\"#450256\",\"#450256\",\"#57bcd6\",\"#57bcd6\",\"#57bcd6\",\"#57bcd6\",\"#57bcd6\",\"#57bcd6\",\"#450256\",\"#450256\",\"#57bcd6\",\"#57bcd6\",\"#450256\",\"#57bcd6\",\"#57bcd6\",\"#57bcd6\",\"#57bcd6\",\"#450256\",\"#57bcd6\",\"#450256\",\"#450256\",\"#450256\",\"#450256\",\"#57bcd6\",\"#57bcd6\",\"#57bcd6\",\"#57bcd6\",\"#57bcd6\",\"#57bcd6\",\"#57bcd6\",\"#57bcd6\",\"#450256\",\"#57bcd6\",\"#57bcd6\",\"#57bcd6\",\"#57bcd6\",\"#57bcd6\",\"#57bcd6\",\"#57bcd6\",\"#450256\",\"#57bcd6\",\"#450256\",\"#450256\",\"#450256\",\"#450256\",\"#57bcd6\",\"#450256\",\"#450256\",\"#450256\",\"#450256\",\"#450256\",\"#450256\",\"#450256\",\"#450256\",\"#450256\",\"#450256\",\"#57bcd6\",\"#57bcd6\",\"#57bcd6\",\"#450256\",\"#450256\",\"#450256\"],\"source\":[\"46\",\"46\",\"45\",\"46\",\"46\",\"45\",\"45\",\"45\",\"46\",\"45\",\"45\",\"45\",\"45\",\"46\",\"46\",\"46\",\"46\",\"45\",\"45\",\"45\",\"45\",\"46\",\"46\",\"46\",\"46\",\"45\",\"45\",\"45\",\"46\",\"45\",\"46\",\"45\",\"45\",\"45\",\"46\",\"45\",\"45\",\"45\",\"45\",\"45\",\"45\",\"45\",\"46\",\"45\",\"45\",\"45\",\"45\",\"45\",\"45\",\"46\",\"46\",\"46\",\"46\",\"46\",\"46\",\"45\",\"45\",\"46\",\"46\",\"45\",\"46\",\"46\",\"46\",\"46\",\"45\",\"46\",\"45\",\"45\",\"45\",\"45\",\"46\",\"46\",\"46\",\"46\",\"46\",\"46\",\"46\",\"46\",\"45\",\"46\",\"46\",\"46\",\"46\",\"46\",\"46\",\"46\",\"45\",\"46\",\"45\",\"45\",\"45\",\"45\",\"46\",\"45\",\"45\",\"45\",\"45\",\"45\",\"45\",\"45\",\"45\",\"45\",\"45\",\"46\",\"46\",\"46\",\"45\",\"45\",\"45\"],\"target\":[\"50\",\"52\",\"50\",\"50\",\"55\",\"55\",\"50\",\"54\",\"51\",\"50\",\"52\",\"53\",\"54\",\"50\",\"52\",\"53\",\"54\",\"51\",\"52\",\"53\",\"54\",\"51\",\"52\",\"53\",\"54\",\"52\",\"50\",\"55\",\"55\",\"52\",\"52\",\"50\",\"54\",\"55\",\"55\",\"50\",\"55\",\"50\",\"51\",\"52\",\"55\",\"50\",\"50\",\"50\",\"51\",\"52\",\"54\",\"50\",\"52\",\"50\",\"52\",\"52\",\"54\",\"51\",\"53\",\"51\",\"54\",\"50\",\"52\",\"55\",\"50\",\"51\",\"52\",\"50\",\"55\",\"55\",\"51\",\"52\",\"53\",\"54\",\"51\",\"52\",\"53\",\"54\",\"50\",\"52\",\"50\",\"52\",\"50\",\"50\",\"50\",\"50\",\"52\",\"53\",\"51\",\"53\",\"55\",\"55\",\"50\",\"50\",\"52\",\"50\",\"50\",\"50\",\"53\",\"50\",\"51\",\"52\",\"53\",\"55\",\"51\",\"53\",\"54\",\"51\",\"53\",\"54\",\"50\",\"52\",\"54\"],\"value\":[\"0.499999999975\",\"0.499999999975\",\"0.499999999975\",\"0.499999999975\",\"0.9999999999\",\"0.9999999999\",\"0.499999999975\",\"0.499999999975\",\"0.9999999999\",\"0.1249999999984375\",\"0.1249999999984375\",\"0.1249999999984375\",\"0.1249999999984375\",\"0.1249999999984375\",\"0.1249999999984375\",\"0.1249999999984375\",\"0.1249999999984375\",\"0.1249999999984375\",\"0.1249999999984375\",\"0.1249999999984375\",\"0.1249999999984375\",\"0.1249999999984375\",\"0.1249999999984375\",\"0.1249999999984375\",\"0.1249999999984375\",\"0.9999999999\",\"0.9999999999\",\"0.499999999975\",\"0.499999999975\",\"0.499999999975\",\"0.499999999975\",\"0.499999999975\",\"0.499999999975\",\"0.499999999975\",\"0.499999999975\",\"0.9999999999\",\"0.9999999999\",\"0.3333333333222222\",\"0.3333333333222222\",\"0.3333333333222222\",\"0.9999999999\",\"0.499999999975\",\"0.499999999975\",\"0.24999999999375\",\"0.24999999999375\",\"0.24999999999375\",\"0.24999999999375\",\"0.24999999999375\",\"0.24999999999375\",\"0.24999999999375\",\"0.24999999999375\",\"0.499999999975\",\"0.499999999975\",\"0.499999999975\",\"0.499999999975\",\"0.499999999975\",\"0.499999999975\",\"0.499999999975\",\"0.499999999975\",\"0.9999999999\",\"0.3333333333222222\",\"0.3333333333222222\",\"0.3333333333222222\",\"0.9999999999\",\"0.499999999975\",\"0.499999999975\",\"0.1249999999984375\",\"0.1249999999984375\",\"0.1249999999984375\",\"0.1249999999984375\",\"0.1249999999984375\",\"0.1249999999984375\",\"0.1249999999984375\",\"0.1249999999984375\",\"0.499999999975\",\"0.499999999975\",\"0.499999999975\",\"0.499999999975\",\"0.499999999975\",\"0.499999999975\",\"0.9999999999\",\"0.3333333333222222\",\"0.3333333333222222\",\"0.3333333333222222\",\"0.499999999975\",\"0.499999999975\",\"0.499999999975\",\"0.499999999975\",\"0.9999999999\",\"0.499999999975\",\"0.499999999975\",\"0.9999999999\",\"0.9999999999\",\"0.499999999975\",\"0.499999999975\",\"0.24999999999375\",\"0.24999999999375\",\"0.24999999999375\",\"0.24999999999375\",\"0.9999999999\",\"0.16666666666388888\",\"0.16666666666388888\",\"0.16666666666388888\",\"0.16666666666388888\",\"0.16666666666388888\",\"0.16666666666388888\",\"0.3333333333222222\",\"0.3333333333222222\",\"0.3333333333222222\"]},\"node\":{\"color\":\"#333333\",\"label\":[\"None\",\"None\",\"None\",\"None\",\"None\",\"None\",\"None\",\"None\",\"None\",\"None\",\"None\",\"None\",\"None\",\"None\",\"None\",\"None\",\"None\",\"None\",\"None\",\"None\",\"None\",\"None\",\"None\",\"None\",\"None\",\"None\",\"None\",\"None\",\"None\",\"None\",\"None\",\"None\",\"None\",\"None\",\"None\",\"None\",\"None\",\"None\",\"None\",\"None\",\"None\",\"None\",\"None\",\"None\",\"None\",\"Leverages natural language structure\",\"Leverages relational structure\",\"None\",\"None\",\"None\",\"Reasoning\",\"OOD\",\"Interpretability\",\"Reduced data\",\"Transferability\",\"No goals met\",\"None\",\"None\",\"None\",\"None\",\"None\",\"None\",\"None\",\"None\",\"None\",\"None\",\"None\",\"None\",\"None\",\"None\",\"None\",\"None\",\"None\",\"None\",\"None\",\"None\",\"None\",\"None\",\"None\",\"None\",\"None\",\"None\",\"None\",\"None\",\"None\",\"None\",\"None\",\"None\",\"None\",\"None\",\"None\",\"None\",\"None\",\"None\",\"None\",\"None\",\"None\",\"None\",\"None\",\"None\",\"None\",\"None\",\"None\",\"None\",\"None\",\"None\",\"None\",\"None\",\"None\",\"None\",\"None\",\"None\",\"None\",\"None\",\"None\",\"None\",\"None\",\"None\",\"None\",\"None\",\"None\",\"None\",\"None\",\"None\",\"None\",\"None\",\"None\",\"None\",\"None\",\"None\",\"None\",\"None\",\"None\",\"None\",\"None\",\"None\",\"None\",\"None\",\"None\",\"None\",\"None\",\"None\",\"None\",\"None\",\"None\",\"None\",\"None\",\"None\",\"None\",\"None\"],\"pad\":25,\"thickness\":10},\"type\":\"sankey\"}],                        {\"template\":{\"data\":{\"bar\":[{\"error_x\":{\"color\":\"#2a3f5f\"},\"error_y\":{\"color\":\"#2a3f5f\"},\"marker\":{\"line\":{\"color\":\"#E5ECF6\",\"width\":0.5},\"pattern\":{\"fillmode\":\"overlay\",\"size\":10,\"solidity\":0.2}},\"type\":\"bar\"}],\"barpolar\":[{\"marker\":{\"line\":{\"color\":\"#E5ECF6\",\"width\":0.5},\"pattern\":{\"fillmode\":\"overlay\",\"size\":10,\"solidity\":0.2}},\"type\":\"barpolar\"}],\"carpet\":[{\"aaxis\":{\"endlinecolor\":\"#2a3f5f\",\"gridcolor\":\"white\",\"linecolor\":\"white\",\"minorgridcolor\":\"white\",\"startlinecolor\":\"#2a3f5f\"},\"baxis\":{\"endlinecolor\":\"#2a3f5f\",\"gridcolor\":\"white\",\"linecolor\":\"white\",\"minorgridcolor\":\"white\",\"startlinecolor\":\"#2a3f5f\"},\"type\":\"carpet\"}],\"choropleth\":[{\"colorbar\":{\"outlinewidth\":0,\"ticks\":\"\"},\"type\":\"choropleth\"}],\"contour\":[{\"colorbar\":{\"outlinewidth\":0,\"ticks\":\"\"},\"colorscale\":[[0.0,\"#0d0887\"],[0.1111111111111111,\"#46039f\"],[0.2222222222222222,\"#7201a8\"],[0.3333333333333333,\"#9c179e\"],[0.4444444444444444,\"#bd3786\"],[0.5555555555555556,\"#d8576b\"],[0.6666666666666666,\"#ed7953\"],[0.7777777777777778,\"#fb9f3a\"],[0.8888888888888888,\"#fdca26\"],[1.0,\"#f0f921\"]],\"type\":\"contour\"}],\"contourcarpet\":[{\"colorbar\":{\"outlinewidth\":0,\"ticks\":\"\"},\"type\":\"contourcarpet\"}],\"heatmap\":[{\"colorbar\":{\"outlinewidth\":0,\"ticks\":\"\"},\"colorscale\":[[0.0,\"#0d0887\"],[0.1111111111111111,\"#46039f\"],[0.2222222222222222,\"#7201a8\"],[0.3333333333333333,\"#9c179e\"],[0.4444444444444444,\"#bd3786\"],[0.5555555555555556,\"#d8576b\"],[0.6666666666666666,\"#ed7953\"],[0.7777777777777778,\"#fb9f3a\"],[0.8888888888888888,\"#fdca26\"],[1.0,\"#f0f921\"]],\"type\":\"heatmap\"}],\"heatmapgl\":[{\"colorbar\":{\"outlinewidth\":0,\"ticks\":\"\"},\"colorscale\":[[0.0,\"#0d0887\"],[0.1111111111111111,\"#46039f\"],[0.2222222222222222,\"#7201a8\"],[0.3333333333333333,\"#9c179e\"],[0.4444444444444444,\"#bd3786\"],[0.5555555555555556,\"#d8576b\"],[0.6666666666666666,\"#ed7953\"],[0.7777777777777778,\"#fb9f3a\"],[0.8888888888888888,\"#fdca26\"],[1.0,\"#f0f921\"]],\"type\":\"heatmapgl\"}],\"histogram\":[{\"marker\":{\"pattern\":{\"fillmode\":\"overlay\",\"size\":10,\"solidity\":0.2}},\"type\":\"histogram\"}],\"histogram2d\":[{\"colorbar\":{\"outlinewidth\":0,\"ticks\":\"\"},\"colorscale\":[[0.0,\"#0d0887\"],[0.1111111111111111,\"#46039f\"],[0.2222222222222222,\"#7201a8\"],[0.3333333333333333,\"#9c179e\"],[0.4444444444444444,\"#bd3786\"],[0.5555555555555556,\"#d8576b\"],[0.6666666666666666,\"#ed7953\"],[0.7777777777777778,\"#fb9f3a\"],[0.8888888888888888,\"#fdca26\"],[1.0,\"#f0f921\"]],\"type\":\"histogram2d\"}],\"histogram2dcontour\":[{\"colorbar\":{\"outlinewidth\":0,\"ticks\":\"\"},\"colorscale\":[[0.0,\"#0d0887\"],[0.1111111111111111,\"#46039f\"],[0.2222222222222222,\"#7201a8\"],[0.3333333333333333,\"#9c179e\"],[0.4444444444444444,\"#bd3786\"],[0.5555555555555556,\"#d8576b\"],[0.6666666666666666,\"#ed7953\"],[0.7777777777777778,\"#fb9f3a\"],[0.8888888888888888,\"#fdca26\"],[1.0,\"#f0f921\"]],\"type\":\"histogram2dcontour\"}],\"mesh3d\":[{\"colorbar\":{\"outlinewidth\":0,\"ticks\":\"\"},\"type\":\"mesh3d\"}],\"parcoords\":[{\"line\":{\"colorbar\":{\"outlinewidth\":0,\"ticks\":\"\"}},\"type\":\"parcoords\"}],\"pie\":[{\"automargin\":true,\"type\":\"pie\"}],\"scatter\":[{\"marker\":{\"colorbar\":{\"outlinewidth\":0,\"ticks\":\"\"}},\"type\":\"scatter\"}],\"scatter3d\":[{\"line\":{\"colorbar\":{\"outlinewidth\":0,\"ticks\":\"\"}},\"marker\":{\"colorbar\":{\"outlinewidth\":0,\"ticks\":\"\"}},\"type\":\"scatter3d\"}],\"scattercarpet\":[{\"marker\":{\"colorbar\":{\"outlinewidth\":0,\"ticks\":\"\"}},\"type\":\"scattercarpet\"}],\"scattergeo\":[{\"marker\":{\"colorbar\":{\"outlinewidth\":0,\"ticks\":\"\"}},\"type\":\"scattergeo\"}],\"scattergl\":[{\"marker\":{\"colorbar\":{\"outlinewidth\":0,\"ticks\":\"\"}},\"type\":\"scattergl\"}],\"scattermapbox\":[{\"marker\":{\"colorbar\":{\"outlinewidth\":0,\"ticks\":\"\"}},\"type\":\"scattermapbox\"}],\"scatterpolar\":[{\"marker\":{\"colorbar\":{\"outlinewidth\":0,\"ticks\":\"\"}},\"type\":\"scatterpolar\"}],\"scatterpolargl\":[{\"marker\":{\"colorbar\":{\"outlinewidth\":0,\"ticks\":\"\"}},\"type\":\"scatterpolargl\"}],\"scatterternary\":[{\"marker\":{\"colorbar\":{\"outlinewidth\":0,\"ticks\":\"\"}},\"type\":\"scatterternary\"}],\"surface\":[{\"colorbar\":{\"outlinewidth\":0,\"ticks\":\"\"},\"colorscale\":[[0.0,\"#0d0887\"],[0.1111111111111111,\"#46039f\"],[0.2222222222222222,\"#7201a8\"],[0.3333333333333333,\"#9c179e\"],[0.4444444444444444,\"#bd3786\"],[0.5555555555555556,\"#d8576b\"],[0.6666666666666666,\"#ed7953\"],[0.7777777777777778,\"#fb9f3a\"],[0.8888888888888888,\"#fdca26\"],[1.0,\"#f0f921\"]],\"type\":\"surface\"}],\"table\":[{\"cells\":{\"fill\":{\"color\":\"#EBF0F8\"},\"line\":{\"color\":\"white\"}},\"header\":{\"fill\":{\"color\":\"#C8D4E3\"},\"line\":{\"color\":\"white\"}},\"type\":\"table\"}]},\"layout\":{\"annotationdefaults\":{\"arrowcolor\":\"#2a3f5f\",\"arrowhead\":0,\"arrowwidth\":1},\"autotypenumbers\":\"strict\",\"coloraxis\":{\"colorbar\":{\"outlinewidth\":0,\"ticks\":\"\"}},\"colorscale\":{\"diverging\":[[0,\"#8e0152\"],[0.1,\"#c51b7d\"],[0.2,\"#de77ae\"],[0.3,\"#f1b6da\"],[0.4,\"#fde0ef\"],[0.5,\"#f7f7f7\"],[0.6,\"#e6f5d0\"],[0.7,\"#b8e186\"],[0.8,\"#7fbc41\"],[0.9,\"#4d9221\"],[1,\"#276419\"]],\"sequential\":[[0.0,\"#0d0887\"],[0.1111111111111111,\"#46039f\"],[0.2222222222222222,\"#7201a8\"],[0.3333333333333333,\"#9c179e\"],[0.4444444444444444,\"#bd3786\"],[0.5555555555555556,\"#d8576b\"],[0.6666666666666666,\"#ed7953\"],[0.7777777777777778,\"#fb9f3a\"],[0.8888888888888888,\"#fdca26\"],[1.0,\"#f0f921\"]],\"sequentialminus\":[[0.0,\"#0d0887\"],[0.1111111111111111,\"#46039f\"],[0.2222222222222222,\"#7201a8\"],[0.3333333333333333,\"#9c179e\"],[0.4444444444444444,\"#bd3786\"],[0.5555555555555556,\"#d8576b\"],[0.6666666666666666,\"#ed7953\"],[0.7777777777777778,\"#fb9f3a\"],[0.8888888888888888,\"#fdca26\"],[1.0,\"#f0f921\"]]},\"colorway\":[\"#636efa\",\"#EF553B\",\"#00cc96\",\"#ab63fa\",\"#FFA15A\",\"#19d3f3\",\"#FF6692\",\"#B6E880\",\"#FF97FF\",\"#FECB52\"],\"font\":{\"color\":\"#2a3f5f\"},\"geo\":{\"bgcolor\":\"white\",\"lakecolor\":\"white\",\"landcolor\":\"#E5ECF6\",\"showlakes\":true,\"showland\":true,\"subunitcolor\":\"white\"},\"hoverlabel\":{\"align\":\"left\"},\"hovermode\":\"closest\",\"mapbox\":{\"style\":\"light\"},\"paper_bgcolor\":\"white\",\"plot_bgcolor\":\"#E5ECF6\",\"polar\":{\"angularaxis\":{\"gridcolor\":\"white\",\"linecolor\":\"white\",\"ticks\":\"\"},\"bgcolor\":\"#E5ECF6\",\"radialaxis\":{\"gridcolor\":\"white\",\"linecolor\":\"white\",\"ticks\":\"\"}},\"scene\":{\"xaxis\":{\"backgroundcolor\":\"#E5ECF6\",\"gridcolor\":\"white\",\"gridwidth\":2,\"linecolor\":\"white\",\"showbackground\":true,\"ticks\":\"\",\"zerolinecolor\":\"white\"},\"yaxis\":{\"backgroundcolor\":\"#E5ECF6\",\"gridcolor\":\"white\",\"gridwidth\":2,\"linecolor\":\"white\",\"showbackground\":true,\"ticks\":\"\",\"zerolinecolor\":\"white\"},\"zaxis\":{\"backgroundcolor\":\"#E5ECF6\",\"gridcolor\":\"white\",\"gridwidth\":2,\"linecolor\":\"white\",\"showbackground\":true,\"ticks\":\"\",\"zerolinecolor\":\"white\"}},\"shapedefaults\":{\"line\":{\"color\":\"#2a3f5f\"}},\"ternary\":{\"aaxis\":{\"gridcolor\":\"white\",\"linecolor\":\"white\",\"ticks\":\"\"},\"baxis\":{\"gridcolor\":\"white\",\"linecolor\":\"white\",\"ticks\":\"\"},\"bgcolor\":\"#E5ECF6\",\"caxis\":{\"gridcolor\":\"white\",\"linecolor\":\"white\",\"ticks\":\"\"}},\"title\":{\"x\":0.05},\"xaxis\":{\"automargin\":true,\"gridcolor\":\"white\",\"linecolor\":\"white\",\"ticks\":\"\",\"title\":{\"standoff\":15},\"zerolinecolor\":\"white\",\"zerolinewidth\":2},\"yaxis\":{\"automargin\":true,\"gridcolor\":\"white\",\"linecolor\":\"white\",\"ticks\":\"\",\"title\":{\"standoff\":15},\"zerolinecolor\":\"white\",\"zerolinewidth\":2}}},\"font\":{\"size\":13,\"color\":\"#333333\",\"family\":\"Arial\"},\"hovermode\":\"x\",\"title\":{\"text\":\"Leverage goals\"},\"height\":500,\"width\":700},                        {\"responsive\": true}                    ).then(function(){\n",
              "                            \n",
              "var gd = document.getElementById('034ade86-2d46-47e3-92b7-fab9137349ac');\n",
              "var x = new MutationObserver(function (mutations, observer) {{\n",
              "        var display = window.getComputedStyle(gd).display;\n",
              "        if (!display || display === 'none') {{\n",
              "            console.log([gd, 'removed!']);\n",
              "            Plotly.purge(gd);\n",
              "            observer.disconnect();\n",
              "        }}\n",
              "}});\n",
              "\n",
              "// Listen for the removal of the full notebook cells\n",
              "var notebookContainer = gd.closest('#notebook-container');\n",
              "if (notebookContainer) {{\n",
              "    x.observe(notebookContainer, {childList: true});\n",
              "}}\n",
              "\n",
              "// Listen for the clearing of the current output cell\n",
              "var outputEl = gd.closest('.output');\n",
              "if (outputEl) {{\n",
              "    x.observe(outputEl, {childList: true});\n",
              "}}\n",
              "\n",
              "                        })                };                            </script>        </div>\n",
              "</body>\n",
              "</html>"
            ]
          },
          "metadata": {}
        },
        {
          "output_type": "stream",
          "name": "stdout",
          "text": [
            "[None, None, None, None, None, None, None, None, None, None, None, None, None, None, None, None, None, None, None, None, None, None, None, None, None, None, None, 'semi-supervised', 'unsupervised', 'supervised', 'curriculum', 'reinforcement', None, None, None, None, None, None, None, None, None, None, None, None, None, 'leverages natural language structure', 'leverages relational structure', None, None, None, None, None, None, None, None, None, None, None, None, None, None, None, None, None, None, None, None, None, None, None, None, None, None, None, None, None, None, None, None, None, None, None, None, None, None, None, None, None, None, None, None, None, None, None, None, None, None, None, None, None, None, None, None, None, None, None, None, None, None, None, None, None, None, None, None, None, None, None, None, None, None, None, None, None, None, None, None, None, None, None, None, None, None, None, None, None, None, None, None, None, None, None, None, None, None, None, None, None, None, None]\n",
            "<class 'list'>\n"
          ]
        },
        {
          "output_type": "display_data",
          "data": {
            "text/html": [
              "<html>\n",
              "<head><meta charset=\"utf-8\" /></head>\n",
              "<body>\n",
              "    <div>            <script src=\"https://cdnjs.cloudflare.com/ajax/libs/mathjax/2.7.5/MathJax.js?config=TeX-AMS-MML_SVG\"></script><script type=\"text/javascript\">if (window.MathJax) {MathJax.Hub.Config({SVG: {font: \"STIX-Web\"}});}</script>                <script type=\"text/javascript\">window.PlotlyConfig = {MathJaxConfig: 'local'};</script>\n",
              "        <script src=\"https://cdn.plot.ly/plotly-2.8.3.min.js\"></script>                <div id=\"894be482-adc6-491f-86fb-1383ad253553\" class=\"plotly-graph-div\" style=\"height:500px; width:700px;\"></div>            <script type=\"text/javascript\">                                    window.PLOTLYENV=window.PLOTLYENV || {};                                    if (document.getElementById(\"894be482-adc6-491f-86fb-1383ad253553\")) {                    Plotly.newPlot(                        \"894be482-adc6-491f-86fb-1383ad253553\",                        [{\"link\":{\"color\":[\"#57bcd6\",\"#450256\",\"#57bcd6\",\"#57bcd6\",\"#450256\",\"#450256\",\"#57bcd6\",\"#450256\",\"#57bcd6\",\"#450256\",\"#57bcd6\",\"#450256\",\"#450256\",\"#450256\",\"#57bcd6\",\"#450256\",\"#57bcd6\",\"#450256\",\"#450256\",\"#57bcd6\",\"#450256\",\"#450256\",\"#450256\",\"#450256\",\"#450256\",\"#57bcd6\",\"#450256\",\"#450256\",\"#57bcd6\",\"#57bcd6\",\"#57bcd6\",\"#450256\",\"#57bcd6\",\"#450256\",\"#57bcd6\",\"#57bcd6\",\"#450256\",\"#57bcd6\",\"#450256\",\"#57bcd6\",\"#57bcd6\",\"#57bcd6\",\"#450256\",\"#57bcd6\",\"#57bcd6\",\"#57bcd6\",\"#57bcd6\",\"#450256\",\"#57bcd6\",\"#450256\",\"#450256\",\"#450256\",\"#57bcd6\",\"#450256\",\"#450256\",\"#450256\",\"#450256\",\"#450256\",\"#57bcd6\",\"#450256\"],\"source\":[\"46\",\"45\",\"46\",\"46\",\"45\",\"45\",\"46\",\"45\",\"46\",\"45\",\"46\",\"45\",\"45\",\"45\",\"46\",\"45\",\"46\",\"45\",\"45\",\"46\",\"45\",\"45\",\"45\",\"45\",\"45\",\"46\",\"45\",\"45\",\"46\",\"46\",\"46\",\"45\",\"46\",\"45\",\"46\",\"46\",\"45\",\"46\",\"45\",\"46\",\"46\",\"46\",\"45\",\"46\",\"46\",\"46\",\"46\",\"45\",\"46\",\"45\",\"45\",\"45\",\"46\",\"45\",\"45\",\"45\",\"45\",\"45\",\"46\",\"45\"],\"target\":[\"29\",\"29\",\"29\",\"29\",\"29\",\"29\",\"29\",\"29\",\"29\",\"31\",\"31\",\"29\",\"29\",\"28\",\"28\",\"29\",\"29\",\"29\",\"29\",\"29\",\"29\",\"27\",\"29\",\"29\",\"29\",\"29\",\"29\",\"29\",\"29\",\"28\",\"29\",\"28\",\"29\",\"29\",\"29\",\"29\",\"29\",\"29\",\"29\",\"29\",\"29\",\"29\",\"27\",\"27\",\"29\",\"31\",\"29\",\"29\",\"29\",\"29\",\"28\",\"29\",\"29\",\"29\",\"30\",\"28\",\"29\",\"28\",\"28\",\"29\"],\"value\":[\"0.9999999999\",\"0.499999999975\",\"0.499999999975\",\"0.9999999999\",\"0.9999999999\",\"0.9999999999\",\"0.9999999999\",\"0.499999999975\",\"0.499999999975\",\"0.499999999975\",\"0.499999999975\",\"0.9999999999\",\"0.9999999999\",\"0.499999999975\",\"0.499999999975\",\"0.499999999975\",\"0.499999999975\",\"0.9999999999\",\"0.499999999975\",\"0.499999999975\",\"0.9999999999\",\"0.9999999999\",\"0.9999999999\",\"0.9999999999\",\"0.499999999975\",\"0.499999999975\",\"0.9999999999\",\"0.499999999975\",\"0.499999999975\",\"0.9999999999\",\"0.9999999999\",\"0.9999999999\",\"0.9999999999\",\"0.9999999999\",\"0.9999999999\",\"0.9999999999\",\"0.499999999975\",\"0.499999999975\",\"0.499999999975\",\"0.499999999975\",\"0.9999999999\",\"0.9999999999\",\"0.499999999975\",\"0.499999999975\",\"0.9999999999\",\"0.9999999999\",\"0.9999999999\",\"0.499999999975\",\"0.499999999975\",\"0.9999999999\",\"0.9999999999\",\"0.9999999999\",\"0.9999999999\",\"0.9999999999\",\"0.499999999975\",\"0.499999999975\",\"0.9999999999\",\"0.499999999975\",\"0.499999999975\",\"0.9999999999\"]},\"node\":{\"color\":\"#333333\",\"label\":[\"None\",\"None\",\"None\",\"None\",\"None\",\"None\",\"None\",\"None\",\"None\",\"None\",\"None\",\"None\",\"None\",\"None\",\"None\",\"None\",\"None\",\"None\",\"None\",\"None\",\"None\",\"None\",\"None\",\"None\",\"None\",\"None\",\"None\",\"Semi-supervised\",\"Unsupervised\",\"Supervised\",\"Curriculum\",\"Reinforcement\",\"None\",\"None\",\"None\",\"None\",\"None\",\"None\",\"None\",\"None\",\"None\",\"None\",\"None\",\"None\",\"None\",\"Leverages natural language structure\",\"Leverages relational structure\",\"None\",\"None\",\"None\",\"None\",\"OOD\",\"None\",\"None\",\"None\",\"None\",\"None\",\"None\",\"None\",\"None\",\"None\",\"None\",\"None\",\"None\",\"None\",\"None\",\"None\",\"None\",\"None\",\"None\",\"None\",\"None\",\"None\",\"None\",\"None\",\"None\",\"None\",\"None\",\"None\",\"None\",\"None\",\"None\",\"None\",\"None\",\"None\",\"None\",\"None\",\"None\",\"None\",\"None\",\"None\",\"None\",\"None\",\"None\",\"None\",\"None\",\"None\",\"None\",\"None\",\"None\",\"None\",\"None\",\"None\",\"None\",\"None\",\"None\",\"None\",\"None\",\"None\",\"None\",\"None\",\"None\",\"None\",\"None\",\"None\",\"None\",\"None\",\"None\",\"None\",\"None\",\"None\",\"None\",\"None\",\"None\",\"None\",\"None\",\"None\",\"None\",\"None\",\"None\",\"None\",\"None\",\"None\",\"None\",\"None\",\"None\",\"None\",\"None\",\"None\",\"None\",\"None\",\"None\",\"None\",\"None\",\"None\",\"None\",\"None\",\"None\",\"None\",\"None\"],\"pad\":25,\"thickness\":10},\"type\":\"sankey\"}],                        {\"template\":{\"data\":{\"bar\":[{\"error_x\":{\"color\":\"#2a3f5f\"},\"error_y\":{\"color\":\"#2a3f5f\"},\"marker\":{\"line\":{\"color\":\"#E5ECF6\",\"width\":0.5},\"pattern\":{\"fillmode\":\"overlay\",\"size\":10,\"solidity\":0.2}},\"type\":\"bar\"}],\"barpolar\":[{\"marker\":{\"line\":{\"color\":\"#E5ECF6\",\"width\":0.5},\"pattern\":{\"fillmode\":\"overlay\",\"size\":10,\"solidity\":0.2}},\"type\":\"barpolar\"}],\"carpet\":[{\"aaxis\":{\"endlinecolor\":\"#2a3f5f\",\"gridcolor\":\"white\",\"linecolor\":\"white\",\"minorgridcolor\":\"white\",\"startlinecolor\":\"#2a3f5f\"},\"baxis\":{\"endlinecolor\":\"#2a3f5f\",\"gridcolor\":\"white\",\"linecolor\":\"white\",\"minorgridcolor\":\"white\",\"startlinecolor\":\"#2a3f5f\"},\"type\":\"carpet\"}],\"choropleth\":[{\"colorbar\":{\"outlinewidth\":0,\"ticks\":\"\"},\"type\":\"choropleth\"}],\"contour\":[{\"colorbar\":{\"outlinewidth\":0,\"ticks\":\"\"},\"colorscale\":[[0.0,\"#0d0887\"],[0.1111111111111111,\"#46039f\"],[0.2222222222222222,\"#7201a8\"],[0.3333333333333333,\"#9c179e\"],[0.4444444444444444,\"#bd3786\"],[0.5555555555555556,\"#d8576b\"],[0.6666666666666666,\"#ed7953\"],[0.7777777777777778,\"#fb9f3a\"],[0.8888888888888888,\"#fdca26\"],[1.0,\"#f0f921\"]],\"type\":\"contour\"}],\"contourcarpet\":[{\"colorbar\":{\"outlinewidth\":0,\"ticks\":\"\"},\"type\":\"contourcarpet\"}],\"heatmap\":[{\"colorbar\":{\"outlinewidth\":0,\"ticks\":\"\"},\"colorscale\":[[0.0,\"#0d0887\"],[0.1111111111111111,\"#46039f\"],[0.2222222222222222,\"#7201a8\"],[0.3333333333333333,\"#9c179e\"],[0.4444444444444444,\"#bd3786\"],[0.5555555555555556,\"#d8576b\"],[0.6666666666666666,\"#ed7953\"],[0.7777777777777778,\"#fb9f3a\"],[0.8888888888888888,\"#fdca26\"],[1.0,\"#f0f921\"]],\"type\":\"heatmap\"}],\"heatmapgl\":[{\"colorbar\":{\"outlinewidth\":0,\"ticks\":\"\"},\"colorscale\":[[0.0,\"#0d0887\"],[0.1111111111111111,\"#46039f\"],[0.2222222222222222,\"#7201a8\"],[0.3333333333333333,\"#9c179e\"],[0.4444444444444444,\"#bd3786\"],[0.5555555555555556,\"#d8576b\"],[0.6666666666666666,\"#ed7953\"],[0.7777777777777778,\"#fb9f3a\"],[0.8888888888888888,\"#fdca26\"],[1.0,\"#f0f921\"]],\"type\":\"heatmapgl\"}],\"histogram\":[{\"marker\":{\"pattern\":{\"fillmode\":\"overlay\",\"size\":10,\"solidity\":0.2}},\"type\":\"histogram\"}],\"histogram2d\":[{\"colorbar\":{\"outlinewidth\":0,\"ticks\":\"\"},\"colorscale\":[[0.0,\"#0d0887\"],[0.1111111111111111,\"#46039f\"],[0.2222222222222222,\"#7201a8\"],[0.3333333333333333,\"#9c179e\"],[0.4444444444444444,\"#bd3786\"],[0.5555555555555556,\"#d8576b\"],[0.6666666666666666,\"#ed7953\"],[0.7777777777777778,\"#fb9f3a\"],[0.8888888888888888,\"#fdca26\"],[1.0,\"#f0f921\"]],\"type\":\"histogram2d\"}],\"histogram2dcontour\":[{\"colorbar\":{\"outlinewidth\":0,\"ticks\":\"\"},\"colorscale\":[[0.0,\"#0d0887\"],[0.1111111111111111,\"#46039f\"],[0.2222222222222222,\"#7201a8\"],[0.3333333333333333,\"#9c179e\"],[0.4444444444444444,\"#bd3786\"],[0.5555555555555556,\"#d8576b\"],[0.6666666666666666,\"#ed7953\"],[0.7777777777777778,\"#fb9f3a\"],[0.8888888888888888,\"#fdca26\"],[1.0,\"#f0f921\"]],\"type\":\"histogram2dcontour\"}],\"mesh3d\":[{\"colorbar\":{\"outlinewidth\":0,\"ticks\":\"\"},\"type\":\"mesh3d\"}],\"parcoords\":[{\"line\":{\"colorbar\":{\"outlinewidth\":0,\"ticks\":\"\"}},\"type\":\"parcoords\"}],\"pie\":[{\"automargin\":true,\"type\":\"pie\"}],\"scatter\":[{\"marker\":{\"colorbar\":{\"outlinewidth\":0,\"ticks\":\"\"}},\"type\":\"scatter\"}],\"scatter3d\":[{\"line\":{\"colorbar\":{\"outlinewidth\":0,\"ticks\":\"\"}},\"marker\":{\"colorbar\":{\"outlinewidth\":0,\"ticks\":\"\"}},\"type\":\"scatter3d\"}],\"scattercarpet\":[{\"marker\":{\"colorbar\":{\"outlinewidth\":0,\"ticks\":\"\"}},\"type\":\"scattercarpet\"}],\"scattergeo\":[{\"marker\":{\"colorbar\":{\"outlinewidth\":0,\"ticks\":\"\"}},\"type\":\"scattergeo\"}],\"scattergl\":[{\"marker\":{\"colorbar\":{\"outlinewidth\":0,\"ticks\":\"\"}},\"type\":\"scattergl\"}],\"scattermapbox\":[{\"marker\":{\"colorbar\":{\"outlinewidth\":0,\"ticks\":\"\"}},\"type\":\"scattermapbox\"}],\"scatterpolar\":[{\"marker\":{\"colorbar\":{\"outlinewidth\":0,\"ticks\":\"\"}},\"type\":\"scatterpolar\"}],\"scatterpolargl\":[{\"marker\":{\"colorbar\":{\"outlinewidth\":0,\"ticks\":\"\"}},\"type\":\"scatterpolargl\"}],\"scatterternary\":[{\"marker\":{\"colorbar\":{\"outlinewidth\":0,\"ticks\":\"\"}},\"type\":\"scatterternary\"}],\"surface\":[{\"colorbar\":{\"outlinewidth\":0,\"ticks\":\"\"},\"colorscale\":[[0.0,\"#0d0887\"],[0.1111111111111111,\"#46039f\"],[0.2222222222222222,\"#7201a8\"],[0.3333333333333333,\"#9c179e\"],[0.4444444444444444,\"#bd3786\"],[0.5555555555555556,\"#d8576b\"],[0.6666666666666666,\"#ed7953\"],[0.7777777777777778,\"#fb9f3a\"],[0.8888888888888888,\"#fdca26\"],[1.0,\"#f0f921\"]],\"type\":\"surface\"}],\"table\":[{\"cells\":{\"fill\":{\"color\":\"#EBF0F8\"},\"line\":{\"color\":\"white\"}},\"header\":{\"fill\":{\"color\":\"#C8D4E3\"},\"line\":{\"color\":\"white\"}},\"type\":\"table\"}]},\"layout\":{\"annotationdefaults\":{\"arrowcolor\":\"#2a3f5f\",\"arrowhead\":0,\"arrowwidth\":1},\"autotypenumbers\":\"strict\",\"coloraxis\":{\"colorbar\":{\"outlinewidth\":0,\"ticks\":\"\"}},\"colorscale\":{\"diverging\":[[0,\"#8e0152\"],[0.1,\"#c51b7d\"],[0.2,\"#de77ae\"],[0.3,\"#f1b6da\"],[0.4,\"#fde0ef\"],[0.5,\"#f7f7f7\"],[0.6,\"#e6f5d0\"],[0.7,\"#b8e186\"],[0.8,\"#7fbc41\"],[0.9,\"#4d9221\"],[1,\"#276419\"]],\"sequential\":[[0.0,\"#0d0887\"],[0.1111111111111111,\"#46039f\"],[0.2222222222222222,\"#7201a8\"],[0.3333333333333333,\"#9c179e\"],[0.4444444444444444,\"#bd3786\"],[0.5555555555555556,\"#d8576b\"],[0.6666666666666666,\"#ed7953\"],[0.7777777777777778,\"#fb9f3a\"],[0.8888888888888888,\"#fdca26\"],[1.0,\"#f0f921\"]],\"sequentialminus\":[[0.0,\"#0d0887\"],[0.1111111111111111,\"#46039f\"],[0.2222222222222222,\"#7201a8\"],[0.3333333333333333,\"#9c179e\"],[0.4444444444444444,\"#bd3786\"],[0.5555555555555556,\"#d8576b\"],[0.6666666666666666,\"#ed7953\"],[0.7777777777777778,\"#fb9f3a\"],[0.8888888888888888,\"#fdca26\"],[1.0,\"#f0f921\"]]},\"colorway\":[\"#636efa\",\"#EF553B\",\"#00cc96\",\"#ab63fa\",\"#FFA15A\",\"#19d3f3\",\"#FF6692\",\"#B6E880\",\"#FF97FF\",\"#FECB52\"],\"font\":{\"color\":\"#2a3f5f\"},\"geo\":{\"bgcolor\":\"white\",\"lakecolor\":\"white\",\"landcolor\":\"#E5ECF6\",\"showlakes\":true,\"showland\":true,\"subunitcolor\":\"white\"},\"hoverlabel\":{\"align\":\"left\"},\"hovermode\":\"closest\",\"mapbox\":{\"style\":\"light\"},\"paper_bgcolor\":\"white\",\"plot_bgcolor\":\"#E5ECF6\",\"polar\":{\"angularaxis\":{\"gridcolor\":\"white\",\"linecolor\":\"white\",\"ticks\":\"\"},\"bgcolor\":\"#E5ECF6\",\"radialaxis\":{\"gridcolor\":\"white\",\"linecolor\":\"white\",\"ticks\":\"\"}},\"scene\":{\"xaxis\":{\"backgroundcolor\":\"#E5ECF6\",\"gridcolor\":\"white\",\"gridwidth\":2,\"linecolor\":\"white\",\"showbackground\":true,\"ticks\":\"\",\"zerolinecolor\":\"white\"},\"yaxis\":{\"backgroundcolor\":\"#E5ECF6\",\"gridcolor\":\"white\",\"gridwidth\":2,\"linecolor\":\"white\",\"showbackground\":true,\"ticks\":\"\",\"zerolinecolor\":\"white\"},\"zaxis\":{\"backgroundcolor\":\"#E5ECF6\",\"gridcolor\":\"white\",\"gridwidth\":2,\"linecolor\":\"white\",\"showbackground\":true,\"ticks\":\"\",\"zerolinecolor\":\"white\"}},\"shapedefaults\":{\"line\":{\"color\":\"#2a3f5f\"}},\"ternary\":{\"aaxis\":{\"gridcolor\":\"white\",\"linecolor\":\"white\",\"ticks\":\"\"},\"baxis\":{\"gridcolor\":\"white\",\"linecolor\":\"white\",\"ticks\":\"\"},\"bgcolor\":\"#E5ECF6\",\"caxis\":{\"gridcolor\":\"white\",\"linecolor\":\"white\",\"ticks\":\"\"}},\"title\":{\"x\":0.05},\"xaxis\":{\"automargin\":true,\"gridcolor\":\"white\",\"linecolor\":\"white\",\"ticks\":\"\",\"title\":{\"standoff\":15},\"zerolinecolor\":\"white\",\"zerolinewidth\":2},\"yaxis\":{\"automargin\":true,\"gridcolor\":\"white\",\"linecolor\":\"white\",\"ticks\":\"\",\"title\":{\"standoff\":15},\"zerolinecolor\":\"white\",\"zerolinewidth\":2}}},\"font\":{\"size\":13,\"color\":\"#333333\",\"family\":\"Arial\"},\"hovermode\":\"x\",\"title\":{\"text\":\"Leverage learning type\"},\"height\":500,\"width\":700},                        {\"responsive\": true}                    ).then(function(){\n",
              "                            \n",
              "var gd = document.getElementById('894be482-adc6-491f-86fb-1383ad253553');\n",
              "var x = new MutationObserver(function (mutations, observer) {{\n",
              "        var display = window.getComputedStyle(gd).display;\n",
              "        if (!display || display === 'none') {{\n",
              "            console.log([gd, 'removed!']);\n",
              "            Plotly.purge(gd);\n",
              "            observer.disconnect();\n",
              "        }}\n",
              "}});\n",
              "\n",
              "// Listen for the removal of the full notebook cells\n",
              "var notebookContainer = gd.closest('#notebook-container');\n",
              "if (notebookContainer) {{\n",
              "    x.observe(notebookContainer, {childList: true});\n",
              "}}\n",
              "\n",
              "// Listen for the clearing of the current output cell\n",
              "var outputEl = gd.closest('.output');\n",
              "if (outputEl) {{\n",
              "    x.observe(outputEl, {childList: true});\n",
              "}}\n",
              "\n",
              "                        })                };                            </script>        </div>\n",
              "</body>\n",
              "</html>"
            ]
          },
          "metadata": {}
        },
        {
          "output_type": "stream",
          "name": "stdout",
          "text": [
            "[None, None, None, None, None, None, None, None, None, None, None, None, None, None, None, None, None, None, None, None, None, None, None, 'classification', 'generative', 'inference', 'information extraction', None, None, None, None, None, None, None, None, None, None, None, None, None, None, None, None, None, None, 'leverages natural language structure', 'leverages relational structure', None, None, None, None, None, None, None, None, None, None, None, None, None, None, None, None, None, None, None, None, None, None, None, None, None, None, None, None, None, None, None, None, None, None, None, None, None, None, None, None, None, None, None, None, None, None, None, None, None, None, None, None, None, None, None, None, None, None, None, None, None, None, None, None, None, None, None, None, None, None, None, None, None, None, None, None, None, None, None, None, None, None, None, None, None, None, None, None, None, None, None, None, None, None, None, None, None, None, None, None, None, None, None]\n",
            "<class 'list'>\n"
          ]
        },
        {
          "output_type": "display_data",
          "data": {
            "text/html": [
              "<html>\n",
              "<head><meta charset=\"utf-8\" /></head>\n",
              "<body>\n",
              "    <div>            <script src=\"https://cdnjs.cloudflare.com/ajax/libs/mathjax/2.7.5/MathJax.js?config=TeX-AMS-MML_SVG\"></script><script type=\"text/javascript\">if (window.MathJax) {MathJax.Hub.Config({SVG: {font: \"STIX-Web\"}});}</script>                <script type=\"text/javascript\">window.PlotlyConfig = {MathJaxConfig: 'local'};</script>\n",
              "        <script src=\"https://cdn.plot.ly/plotly-2.8.3.min.js\"></script>                <div id=\"9748f4bb-4f11-4396-8b2f-d802dcc339ea\" class=\"plotly-graph-div\" style=\"height:500px; width:700px;\"></div>            <script type=\"text/javascript\">                                    window.PLOTLYENV=window.PLOTLYENV || {};                                    if (document.getElementById(\"9748f4bb-4f11-4396-8b2f-d802dcc339ea\")) {                    Plotly.newPlot(                        \"9748f4bb-4f11-4396-8b2f-d802dcc339ea\",                        [{\"link\":{\"color\":[\"#57bcd6\",\"#450256\",\"#57bcd6\",\"#57bcd6\",\"#450256\",\"#450256\",\"#57bcd6\",\"#450256\",\"#57bcd6\",\"#450256\",\"#57bcd6\",\"#450256\",\"#450256\",\"#450256\",\"#57bcd6\",\"#450256\",\"#57bcd6\",\"#450256\",\"#450256\",\"#57bcd6\",\"#450256\",\"#450256\",\"#450256\",\"#450256\",\"#450256\",\"#57bcd6\",\"#450256\",\"#450256\",\"#57bcd6\",\"#57bcd6\",\"#57bcd6\",\"#450256\",\"#57bcd6\",\"#450256\",\"#57bcd6\",\"#57bcd6\",\"#450256\",\"#57bcd6\",\"#450256\",\"#57bcd6\",\"#57bcd6\",\"#57bcd6\",\"#450256\",\"#57bcd6\",\"#57bcd6\",\"#57bcd6\",\"#57bcd6\",\"#450256\",\"#57bcd6\",\"#450256\",\"#450256\",\"#450256\",\"#57bcd6\",\"#450256\",\"#450256\",\"#450256\",\"#450256\",\"#450256\",\"#57bcd6\",\"#450256\"],\"source\":[\"46\",\"45\",\"46\",\"46\",\"45\",\"45\",\"46\",\"45\",\"46\",\"45\",\"46\",\"45\",\"45\",\"45\",\"46\",\"45\",\"46\",\"45\",\"45\",\"46\",\"45\",\"45\",\"45\",\"45\",\"45\",\"46\",\"45\",\"45\",\"46\",\"46\",\"46\",\"45\",\"46\",\"45\",\"46\",\"46\",\"45\",\"46\",\"45\",\"46\",\"46\",\"46\",\"45\",\"46\",\"46\",\"46\",\"46\",\"45\",\"46\",\"45\",\"45\",\"45\",\"46\",\"45\",\"45\",\"45\",\"45\",\"45\",\"46\",\"45\"],\"target\":[\"23\",\"23\",\"23\",\"26\",\"26\",\"25\",\"26\",\"25\",\"25\",\"25\",\"25\",\"23\",\"23\",\"24\",\"24\",\"23\",\"23\",\"25\",\"26\",\"26\",\"23\",\"23\",\"23\",\"23\",\"25\",\"25\",\"25\",\"26\",\"26\",\"23\",\"24\",\"23\",\"23\",\"23\",\"25\",\"23\",\"23\",\"23\",\"23\",\"23\",\"25\",\"23\",\"23\",\"23\",\"23\",\"25\",\"23\",\"23\",\"23\",\"23\",\"23\",\"23\",\"23\",\"23\",\"23\",\"25\",\"24\",\"24\",\"24\",\"24\"],\"value\":[\"0.9999999999\",\"0.499999999975\",\"0.499999999975\",\"0.9999999999\",\"0.9999999999\",\"0.9999999999\",\"0.9999999999\",\"0.499999999975\",\"0.499999999975\",\"0.499999999975\",\"0.499999999975\",\"0.9999999999\",\"0.9999999999\",\"0.499999999975\",\"0.499999999975\",\"0.499999999975\",\"0.499999999975\",\"0.9999999999\",\"0.499999999975\",\"0.499999999975\",\"0.9999999999\",\"0.9999999999\",\"0.9999999999\",\"0.9999999999\",\"0.499999999975\",\"0.499999999975\",\"0.9999999999\",\"0.499999999975\",\"0.499999999975\",\"0.9999999999\",\"0.9999999999\",\"0.9999999999\",\"0.9999999999\",\"0.9999999999\",\"0.9999999999\",\"0.9999999999\",\"0.499999999975\",\"0.499999999975\",\"0.499999999975\",\"0.499999999975\",\"0.9999999999\",\"0.9999999999\",\"0.499999999975\",\"0.499999999975\",\"0.9999999999\",\"0.9999999999\",\"0.9999999999\",\"0.499999999975\",\"0.499999999975\",\"0.9999999999\",\"0.9999999999\",\"0.9999999999\",\"0.9999999999\",\"0.9999999999\",\"0.499999999975\",\"0.499999999975\",\"0.9999999999\",\"0.499999999975\",\"0.499999999975\",\"0.9999999999\"]},\"node\":{\"color\":\"#333333\",\"label\":[\"None\",\"None\",\"None\",\"None\",\"None\",\"None\",\"None\",\"None\",\"None\",\"None\",\"None\",\"None\",\"None\",\"None\",\"None\",\"None\",\"None\",\"None\",\"None\",\"None\",\"None\",\"None\",\"None\",\"Classification\",\"Generative\",\"Inference\",\"Information extraction\",\"None\",\"None\",\"None\",\"None\",\"None\",\"None\",\"None\",\"None\",\"None\",\"None\",\"None\",\"None\",\"None\",\"None\",\"None\",\"None\",\"None\",\"None\",\"Leverages natural language structure\",\"Leverages relational structure\",\"None\",\"None\",\"None\",\"None\",\"OOD\",\"None\",\"None\",\"None\",\"None\",\"None\",\"None\",\"None\",\"None\",\"None\",\"None\",\"None\",\"None\",\"None\",\"None\",\"None\",\"None\",\"None\",\"None\",\"None\",\"None\",\"None\",\"None\",\"None\",\"None\",\"None\",\"None\",\"None\",\"None\",\"None\",\"None\",\"None\",\"None\",\"None\",\"None\",\"None\",\"None\",\"None\",\"None\",\"None\",\"None\",\"None\",\"None\",\"None\",\"None\",\"None\",\"None\",\"None\",\"None\",\"None\",\"None\",\"None\",\"None\",\"None\",\"None\",\"None\",\"None\",\"None\",\"None\",\"None\",\"None\",\"None\",\"None\",\"None\",\"None\",\"None\",\"None\",\"None\",\"None\",\"None\",\"None\",\"None\",\"None\",\"None\",\"None\",\"None\",\"None\",\"None\",\"None\",\"None\",\"None\",\"None\",\"None\",\"None\",\"None\",\"None\",\"None\",\"None\",\"None\",\"None\",\"None\",\"None\",\"None\",\"None\",\"None\",\"None\",\"None\",\"None\",\"None\"],\"pad\":25,\"thickness\":10},\"type\":\"sankey\"}],                        {\"template\":{\"data\":{\"bar\":[{\"error_x\":{\"color\":\"#2a3f5f\"},\"error_y\":{\"color\":\"#2a3f5f\"},\"marker\":{\"line\":{\"color\":\"#E5ECF6\",\"width\":0.5},\"pattern\":{\"fillmode\":\"overlay\",\"size\":10,\"solidity\":0.2}},\"type\":\"bar\"}],\"barpolar\":[{\"marker\":{\"line\":{\"color\":\"#E5ECF6\",\"width\":0.5},\"pattern\":{\"fillmode\":\"overlay\",\"size\":10,\"solidity\":0.2}},\"type\":\"barpolar\"}],\"carpet\":[{\"aaxis\":{\"endlinecolor\":\"#2a3f5f\",\"gridcolor\":\"white\",\"linecolor\":\"white\",\"minorgridcolor\":\"white\",\"startlinecolor\":\"#2a3f5f\"},\"baxis\":{\"endlinecolor\":\"#2a3f5f\",\"gridcolor\":\"white\",\"linecolor\":\"white\",\"minorgridcolor\":\"white\",\"startlinecolor\":\"#2a3f5f\"},\"type\":\"carpet\"}],\"choropleth\":[{\"colorbar\":{\"outlinewidth\":0,\"ticks\":\"\"},\"type\":\"choropleth\"}],\"contour\":[{\"colorbar\":{\"outlinewidth\":0,\"ticks\":\"\"},\"colorscale\":[[0.0,\"#0d0887\"],[0.1111111111111111,\"#46039f\"],[0.2222222222222222,\"#7201a8\"],[0.3333333333333333,\"#9c179e\"],[0.4444444444444444,\"#bd3786\"],[0.5555555555555556,\"#d8576b\"],[0.6666666666666666,\"#ed7953\"],[0.7777777777777778,\"#fb9f3a\"],[0.8888888888888888,\"#fdca26\"],[1.0,\"#f0f921\"]],\"type\":\"contour\"}],\"contourcarpet\":[{\"colorbar\":{\"outlinewidth\":0,\"ticks\":\"\"},\"type\":\"contourcarpet\"}],\"heatmap\":[{\"colorbar\":{\"outlinewidth\":0,\"ticks\":\"\"},\"colorscale\":[[0.0,\"#0d0887\"],[0.1111111111111111,\"#46039f\"],[0.2222222222222222,\"#7201a8\"],[0.3333333333333333,\"#9c179e\"],[0.4444444444444444,\"#bd3786\"],[0.5555555555555556,\"#d8576b\"],[0.6666666666666666,\"#ed7953\"],[0.7777777777777778,\"#fb9f3a\"],[0.8888888888888888,\"#fdca26\"],[1.0,\"#f0f921\"]],\"type\":\"heatmap\"}],\"heatmapgl\":[{\"colorbar\":{\"outlinewidth\":0,\"ticks\":\"\"},\"colorscale\":[[0.0,\"#0d0887\"],[0.1111111111111111,\"#46039f\"],[0.2222222222222222,\"#7201a8\"],[0.3333333333333333,\"#9c179e\"],[0.4444444444444444,\"#bd3786\"],[0.5555555555555556,\"#d8576b\"],[0.6666666666666666,\"#ed7953\"],[0.7777777777777778,\"#fb9f3a\"],[0.8888888888888888,\"#fdca26\"],[1.0,\"#f0f921\"]],\"type\":\"heatmapgl\"}],\"histogram\":[{\"marker\":{\"pattern\":{\"fillmode\":\"overlay\",\"size\":10,\"solidity\":0.2}},\"type\":\"histogram\"}],\"histogram2d\":[{\"colorbar\":{\"outlinewidth\":0,\"ticks\":\"\"},\"colorscale\":[[0.0,\"#0d0887\"],[0.1111111111111111,\"#46039f\"],[0.2222222222222222,\"#7201a8\"],[0.3333333333333333,\"#9c179e\"],[0.4444444444444444,\"#bd3786\"],[0.5555555555555556,\"#d8576b\"],[0.6666666666666666,\"#ed7953\"],[0.7777777777777778,\"#fb9f3a\"],[0.8888888888888888,\"#fdca26\"],[1.0,\"#f0f921\"]],\"type\":\"histogram2d\"}],\"histogram2dcontour\":[{\"colorbar\":{\"outlinewidth\":0,\"ticks\":\"\"},\"colorscale\":[[0.0,\"#0d0887\"],[0.1111111111111111,\"#46039f\"],[0.2222222222222222,\"#7201a8\"],[0.3333333333333333,\"#9c179e\"],[0.4444444444444444,\"#bd3786\"],[0.5555555555555556,\"#d8576b\"],[0.6666666666666666,\"#ed7953\"],[0.7777777777777778,\"#fb9f3a\"],[0.8888888888888888,\"#fdca26\"],[1.0,\"#f0f921\"]],\"type\":\"histogram2dcontour\"}],\"mesh3d\":[{\"colorbar\":{\"outlinewidth\":0,\"ticks\":\"\"},\"type\":\"mesh3d\"}],\"parcoords\":[{\"line\":{\"colorbar\":{\"outlinewidth\":0,\"ticks\":\"\"}},\"type\":\"parcoords\"}],\"pie\":[{\"automargin\":true,\"type\":\"pie\"}],\"scatter\":[{\"marker\":{\"colorbar\":{\"outlinewidth\":0,\"ticks\":\"\"}},\"type\":\"scatter\"}],\"scatter3d\":[{\"line\":{\"colorbar\":{\"outlinewidth\":0,\"ticks\":\"\"}},\"marker\":{\"colorbar\":{\"outlinewidth\":0,\"ticks\":\"\"}},\"type\":\"scatter3d\"}],\"scattercarpet\":[{\"marker\":{\"colorbar\":{\"outlinewidth\":0,\"ticks\":\"\"}},\"type\":\"scattercarpet\"}],\"scattergeo\":[{\"marker\":{\"colorbar\":{\"outlinewidth\":0,\"ticks\":\"\"}},\"type\":\"scattergeo\"}],\"scattergl\":[{\"marker\":{\"colorbar\":{\"outlinewidth\":0,\"ticks\":\"\"}},\"type\":\"scattergl\"}],\"scattermapbox\":[{\"marker\":{\"colorbar\":{\"outlinewidth\":0,\"ticks\":\"\"}},\"type\":\"scattermapbox\"}],\"scatterpolar\":[{\"marker\":{\"colorbar\":{\"outlinewidth\":0,\"ticks\":\"\"}},\"type\":\"scatterpolar\"}],\"scatterpolargl\":[{\"marker\":{\"colorbar\":{\"outlinewidth\":0,\"ticks\":\"\"}},\"type\":\"scatterpolargl\"}],\"scatterternary\":[{\"marker\":{\"colorbar\":{\"outlinewidth\":0,\"ticks\":\"\"}},\"type\":\"scatterternary\"}],\"surface\":[{\"colorbar\":{\"outlinewidth\":0,\"ticks\":\"\"},\"colorscale\":[[0.0,\"#0d0887\"],[0.1111111111111111,\"#46039f\"],[0.2222222222222222,\"#7201a8\"],[0.3333333333333333,\"#9c179e\"],[0.4444444444444444,\"#bd3786\"],[0.5555555555555556,\"#d8576b\"],[0.6666666666666666,\"#ed7953\"],[0.7777777777777778,\"#fb9f3a\"],[0.8888888888888888,\"#fdca26\"],[1.0,\"#f0f921\"]],\"type\":\"surface\"}],\"table\":[{\"cells\":{\"fill\":{\"color\":\"#EBF0F8\"},\"line\":{\"color\":\"white\"}},\"header\":{\"fill\":{\"color\":\"#C8D4E3\"},\"line\":{\"color\":\"white\"}},\"type\":\"table\"}]},\"layout\":{\"annotationdefaults\":{\"arrowcolor\":\"#2a3f5f\",\"arrowhead\":0,\"arrowwidth\":1},\"autotypenumbers\":\"strict\",\"coloraxis\":{\"colorbar\":{\"outlinewidth\":0,\"ticks\":\"\"}},\"colorscale\":{\"diverging\":[[0,\"#8e0152\"],[0.1,\"#c51b7d\"],[0.2,\"#de77ae\"],[0.3,\"#f1b6da\"],[0.4,\"#fde0ef\"],[0.5,\"#f7f7f7\"],[0.6,\"#e6f5d0\"],[0.7,\"#b8e186\"],[0.8,\"#7fbc41\"],[0.9,\"#4d9221\"],[1,\"#276419\"]],\"sequential\":[[0.0,\"#0d0887\"],[0.1111111111111111,\"#46039f\"],[0.2222222222222222,\"#7201a8\"],[0.3333333333333333,\"#9c179e\"],[0.4444444444444444,\"#bd3786\"],[0.5555555555555556,\"#d8576b\"],[0.6666666666666666,\"#ed7953\"],[0.7777777777777778,\"#fb9f3a\"],[0.8888888888888888,\"#fdca26\"],[1.0,\"#f0f921\"]],\"sequentialminus\":[[0.0,\"#0d0887\"],[0.1111111111111111,\"#46039f\"],[0.2222222222222222,\"#7201a8\"],[0.3333333333333333,\"#9c179e\"],[0.4444444444444444,\"#bd3786\"],[0.5555555555555556,\"#d8576b\"],[0.6666666666666666,\"#ed7953\"],[0.7777777777777778,\"#fb9f3a\"],[0.8888888888888888,\"#fdca26\"],[1.0,\"#f0f921\"]]},\"colorway\":[\"#636efa\",\"#EF553B\",\"#00cc96\",\"#ab63fa\",\"#FFA15A\",\"#19d3f3\",\"#FF6692\",\"#B6E880\",\"#FF97FF\",\"#FECB52\"],\"font\":{\"color\":\"#2a3f5f\"},\"geo\":{\"bgcolor\":\"white\",\"lakecolor\":\"white\",\"landcolor\":\"#E5ECF6\",\"showlakes\":true,\"showland\":true,\"subunitcolor\":\"white\"},\"hoverlabel\":{\"align\":\"left\"},\"hovermode\":\"closest\",\"mapbox\":{\"style\":\"light\"},\"paper_bgcolor\":\"white\",\"plot_bgcolor\":\"#E5ECF6\",\"polar\":{\"angularaxis\":{\"gridcolor\":\"white\",\"linecolor\":\"white\",\"ticks\":\"\"},\"bgcolor\":\"#E5ECF6\",\"radialaxis\":{\"gridcolor\":\"white\",\"linecolor\":\"white\",\"ticks\":\"\"}},\"scene\":{\"xaxis\":{\"backgroundcolor\":\"#E5ECF6\",\"gridcolor\":\"white\",\"gridwidth\":2,\"linecolor\":\"white\",\"showbackground\":true,\"ticks\":\"\",\"zerolinecolor\":\"white\"},\"yaxis\":{\"backgroundcolor\":\"#E5ECF6\",\"gridcolor\":\"white\",\"gridwidth\":2,\"linecolor\":\"white\",\"showbackground\":true,\"ticks\":\"\",\"zerolinecolor\":\"white\"},\"zaxis\":{\"backgroundcolor\":\"#E5ECF6\",\"gridcolor\":\"white\",\"gridwidth\":2,\"linecolor\":\"white\",\"showbackground\":true,\"ticks\":\"\",\"zerolinecolor\":\"white\"}},\"shapedefaults\":{\"line\":{\"color\":\"#2a3f5f\"}},\"ternary\":{\"aaxis\":{\"gridcolor\":\"white\",\"linecolor\":\"white\",\"ticks\":\"\"},\"baxis\":{\"gridcolor\":\"white\",\"linecolor\":\"white\",\"ticks\":\"\"},\"bgcolor\":\"#E5ECF6\",\"caxis\":{\"gridcolor\":\"white\",\"linecolor\":\"white\",\"ticks\":\"\"}},\"title\":{\"x\":0.05},\"xaxis\":{\"automargin\":true,\"gridcolor\":\"white\",\"linecolor\":\"white\",\"ticks\":\"\",\"title\":{\"standoff\":15},\"zerolinecolor\":\"white\",\"zerolinewidth\":2},\"yaxis\":{\"automargin\":true,\"gridcolor\":\"white\",\"linecolor\":\"white\",\"ticks\":\"\",\"title\":{\"standoff\":15},\"zerolinecolor\":\"white\",\"zerolinewidth\":2}}},\"font\":{\"size\":13,\"color\":\"#333333\",\"family\":\"Arial\"},\"hovermode\":\"x\",\"title\":{\"text\":\"Leverage tech app\"},\"height\":500,\"width\":700},                        {\"responsive\": true}                    ).then(function(){\n",
              "                            \n",
              "var gd = document.getElementById('9748f4bb-4f11-4396-8b2f-d802dcc339ea');\n",
              "var x = new MutationObserver(function (mutations, observer) {{\n",
              "        var display = window.getComputedStyle(gd).display;\n",
              "        if (!display || display === 'none') {{\n",
              "            console.log([gd, 'removed!']);\n",
              "            Plotly.purge(gd);\n",
              "            observer.disconnect();\n",
              "        }}\n",
              "}});\n",
              "\n",
              "// Listen for the removal of the full notebook cells\n",
              "var notebookContainer = gd.closest('#notebook-container');\n",
              "if (notebookContainer) {{\n",
              "    x.observe(notebookContainer, {childList: true});\n",
              "}}\n",
              "\n",
              "// Listen for the clearing of the current output cell\n",
              "var outputEl = gd.closest('.output');\n",
              "if (outputEl) {{\n",
              "    x.observe(outputEl, {childList: true});\n",
              "}}\n",
              "\n",
              "                        })                };                            </script>        </div>\n",
              "</body>\n",
              "</html>"
            ]
          },
          "metadata": {}
        },
        {
          "output_type": "stream",
          "name": "stdout",
          "text": [
            "[None, None, None, None, None, None, None, None, None, None, None, None, None, None, None, None, None, None, None, None, None, None, None, None, None, None, None, None, None, None, None, None, None, None, None, None, None, None, None, None, None, 'semantic network', 'frames', 'rules', 'logical', 'leverages natural language structure', 'leverages relational structure', None, None, None, None, None, None, None, None, None, None, None, None, None, None, None, None, None, None, None, None, None, None, None, None, None, None, None, None, None, None, None, None, None, None, None, None, None, None, None, None, None, None, None, None, None, None, None, None, None, None, None, None, None, None, None, None, None, None, None, None, None, None, None, None, None, None, None, None, None, None, None, None, None, None, None, None, None, None, None, None, None, None, None, None, None, None, None, None, None, None, None, None, None, None, None, None, None, None, None, None, None, None, None]\n",
            "<class 'list'>\n"
          ]
        },
        {
          "output_type": "display_data",
          "data": {
            "text/html": [
              "<html>\n",
              "<head><meta charset=\"utf-8\" /></head>\n",
              "<body>\n",
              "    <div>            <script src=\"https://cdnjs.cloudflare.com/ajax/libs/mathjax/2.7.5/MathJax.js?config=TeX-AMS-MML_SVG\"></script><script type=\"text/javascript\">if (window.MathJax) {MathJax.Hub.Config({SVG: {font: \"STIX-Web\"}});}</script>                <script type=\"text/javascript\">window.PlotlyConfig = {MathJaxConfig: 'local'};</script>\n",
              "        <script src=\"https://cdn.plot.ly/plotly-2.8.3.min.js\"></script>                <div id=\"ce3e3473-3a83-4d86-ab18-edfe96e603d5\" class=\"plotly-graph-div\" style=\"height:500px; width:700px;\"></div>            <script type=\"text/javascript\">                                    window.PLOTLYENV=window.PLOTLYENV || {};                                    if (document.getElementById(\"ce3e3473-3a83-4d86-ab18-edfe96e603d5\")) {                    Plotly.newPlot(                        \"ce3e3473-3a83-4d86-ab18-edfe96e603d5\",                        [{\"link\":{\"color\":[\"#57bcd6\",\"#450256\",\"#57bcd6\",\"#57bcd6\",\"#450256\",\"#450256\",\"#57bcd6\",\"#450256\",\"#57bcd6\",\"#450256\",\"#57bcd6\",\"#450256\",\"#450256\",\"#450256\",\"#57bcd6\",\"#450256\",\"#57bcd6\",\"#450256\",\"#450256\",\"#57bcd6\",\"#450256\",\"#450256\",\"#450256\",\"#450256\",\"#450256\",\"#57bcd6\",\"#450256\",\"#450256\",\"#57bcd6\",\"#57bcd6\",\"#57bcd6\",\"#450256\",\"#57bcd6\",\"#450256\",\"#57bcd6\",\"#57bcd6\",\"#450256\",\"#57bcd6\",\"#450256\",\"#57bcd6\",\"#57bcd6\",\"#57bcd6\",\"#450256\",\"#57bcd6\",\"#57bcd6\",\"#57bcd6\",\"#57bcd6\",\"#450256\",\"#57bcd6\",\"#450256\",\"#450256\",\"#450256\",\"#57bcd6\",\"#450256\",\"#450256\",\"#450256\",\"#450256\",\"#57bcd6\",\"#450256\"],\"source\":[\"46\",\"45\",\"46\",\"46\",\"45\",\"45\",\"46\",\"45\",\"46\",\"45\",\"46\",\"45\",\"45\",\"45\",\"46\",\"45\",\"46\",\"45\",\"45\",\"46\",\"45\",\"45\",\"45\",\"45\",\"45\",\"46\",\"45\",\"45\",\"46\",\"46\",\"46\",\"45\",\"46\",\"45\",\"46\",\"46\",\"45\",\"46\",\"45\",\"46\",\"46\",\"46\",\"45\",\"46\",\"46\",\"46\",\"46\",\"45\",\"46\",\"45\",\"45\",\"45\",\"46\",\"45\",\"45\",\"45\",\"45\",\"46\",\"45\"],\"target\":[\"44\",\"43\",\"43\",\"44\",\"44\",\"43\",\"41\",\"41\",\"41\",\"44\",\"44\",\"44\",\"44\",\"41\",\"41\",\"41\",\"41\",\"43\",\"41\",\"41\",\"42\",\"43\",\"43\",\"44\",\"41\",\"41\",\"42\",\"44\",\"44\",\"42\",\"43\",\"42\",\"41\",\"42\",\"41\",\"42\",\"42\",\"42\",\"41\",\"41\",\"44\",\"44\",\"41\",\"41\",\"41\",\"43\",\"44\",\"41\",\"41\",\"44\",\"43\",\"43\",\"41\",\"41\",\"43\",\"43\",\"43\",\"43\",\"42\"],\"value\":[\"0.9999999999\",\"0.499999999975\",\"0.499999999975\",\"0.9999999999\",\"0.9999999999\",\"0.9999999999\",\"0.9999999999\",\"0.499999999975\",\"0.499999999975\",\"0.499999999975\",\"0.499999999975\",\"0.9999999999\",\"0.9999999999\",\"0.499999999975\",\"0.499999999975\",\"0.499999999975\",\"0.499999999975\",\"0.9999999999\",\"0.499999999975\",\"0.499999999975\",\"0.9999999999\",\"0.9999999999\",\"0.9999999999\",\"0.9999999999\",\"0.499999999975\",\"0.499999999975\",\"0.9999999999\",\"0.499999999975\",\"0.499999999975\",\"0.9999999999\",\"0.9999999999\",\"0.9999999999\",\"0.9999999999\",\"0.9999999999\",\"0.9999999999\",\"0.9999999999\",\"0.499999999975\",\"0.499999999975\",\"0.499999999975\",\"0.499999999975\",\"0.9999999999\",\"0.9999999999\",\"0.499999999975\",\"0.499999999975\",\"0.9999999999\",\"0.9999999999\",\"0.9999999999\",\"0.499999999975\",\"0.499999999975\",\"0.9999999999\",\"0.9999999999\",\"0.9999999999\",\"0.9999999999\",\"0.9999999999\",\"0.9999999999\",\"0.9999999999\",\"0.499999999975\",\"0.499999999975\",\"0.9999999999\"]},\"node\":{\"color\":\"#333333\",\"label\":[\"None\",\"None\",\"None\",\"None\",\"None\",\"None\",\"None\",\"None\",\"None\",\"None\",\"None\",\"None\",\"None\",\"None\",\"None\",\"None\",\"None\",\"None\",\"None\",\"None\",\"None\",\"None\",\"None\",\"None\",\"None\",\"None\",\"None\",\"None\",\"None\",\"None\",\"None\",\"None\",\"None\",\"None\",\"None\",\"None\",\"None\",\"None\",\"None\",\"None\",\"None\",\"Semantic network\",\"Frames\",\"Rules\",\"Logical\",\"Leverages natural language structure\",\"Leverages relational structure\",\"None\",\"None\",\"None\",\"None\",\"OOD\",\"None\",\"None\",\"None\",\"None\",\"None\",\"None\",\"None\",\"None\",\"None\",\"None\",\"None\",\"None\",\"None\",\"None\",\"None\",\"None\",\"None\",\"None\",\"None\",\"None\",\"None\",\"None\",\"None\",\"None\",\"None\",\"None\",\"None\",\"None\",\"None\",\"None\",\"None\",\"None\",\"None\",\"None\",\"None\",\"None\",\"None\",\"None\",\"None\",\"None\",\"None\",\"None\",\"None\",\"None\",\"None\",\"None\",\"None\",\"None\",\"None\",\"None\",\"None\",\"None\",\"None\",\"None\",\"None\",\"None\",\"None\",\"None\",\"None\",\"None\",\"None\",\"None\",\"None\",\"None\",\"None\",\"None\",\"None\",\"None\",\"None\",\"None\",\"None\",\"None\",\"None\",\"None\",\"None\",\"None\",\"None\",\"None\",\"None\",\"None\",\"None\",\"None\",\"None\",\"None\",\"None\",\"None\",\"None\",\"None\",\"None\",\"None\",\"None\",\"None\",\"None\",\"None\",\"None\",\"None\",\"None\",\"None\"],\"pad\":25,\"thickness\":10},\"type\":\"sankey\"}],                        {\"template\":{\"data\":{\"bar\":[{\"error_x\":{\"color\":\"#2a3f5f\"},\"error_y\":{\"color\":\"#2a3f5f\"},\"marker\":{\"line\":{\"color\":\"#E5ECF6\",\"width\":0.5},\"pattern\":{\"fillmode\":\"overlay\",\"size\":10,\"solidity\":0.2}},\"type\":\"bar\"}],\"barpolar\":[{\"marker\":{\"line\":{\"color\":\"#E5ECF6\",\"width\":0.5},\"pattern\":{\"fillmode\":\"overlay\",\"size\":10,\"solidity\":0.2}},\"type\":\"barpolar\"}],\"carpet\":[{\"aaxis\":{\"endlinecolor\":\"#2a3f5f\",\"gridcolor\":\"white\",\"linecolor\":\"white\",\"minorgridcolor\":\"white\",\"startlinecolor\":\"#2a3f5f\"},\"baxis\":{\"endlinecolor\":\"#2a3f5f\",\"gridcolor\":\"white\",\"linecolor\":\"white\",\"minorgridcolor\":\"white\",\"startlinecolor\":\"#2a3f5f\"},\"type\":\"carpet\"}],\"choropleth\":[{\"colorbar\":{\"outlinewidth\":0,\"ticks\":\"\"},\"type\":\"choropleth\"}],\"contour\":[{\"colorbar\":{\"outlinewidth\":0,\"ticks\":\"\"},\"colorscale\":[[0.0,\"#0d0887\"],[0.1111111111111111,\"#46039f\"],[0.2222222222222222,\"#7201a8\"],[0.3333333333333333,\"#9c179e\"],[0.4444444444444444,\"#bd3786\"],[0.5555555555555556,\"#d8576b\"],[0.6666666666666666,\"#ed7953\"],[0.7777777777777778,\"#fb9f3a\"],[0.8888888888888888,\"#fdca26\"],[1.0,\"#f0f921\"]],\"type\":\"contour\"}],\"contourcarpet\":[{\"colorbar\":{\"outlinewidth\":0,\"ticks\":\"\"},\"type\":\"contourcarpet\"}],\"heatmap\":[{\"colorbar\":{\"outlinewidth\":0,\"ticks\":\"\"},\"colorscale\":[[0.0,\"#0d0887\"],[0.1111111111111111,\"#46039f\"],[0.2222222222222222,\"#7201a8\"],[0.3333333333333333,\"#9c179e\"],[0.4444444444444444,\"#bd3786\"],[0.5555555555555556,\"#d8576b\"],[0.6666666666666666,\"#ed7953\"],[0.7777777777777778,\"#fb9f3a\"],[0.8888888888888888,\"#fdca26\"],[1.0,\"#f0f921\"]],\"type\":\"heatmap\"}],\"heatmapgl\":[{\"colorbar\":{\"outlinewidth\":0,\"ticks\":\"\"},\"colorscale\":[[0.0,\"#0d0887\"],[0.1111111111111111,\"#46039f\"],[0.2222222222222222,\"#7201a8\"],[0.3333333333333333,\"#9c179e\"],[0.4444444444444444,\"#bd3786\"],[0.5555555555555556,\"#d8576b\"],[0.6666666666666666,\"#ed7953\"],[0.7777777777777778,\"#fb9f3a\"],[0.8888888888888888,\"#fdca26\"],[1.0,\"#f0f921\"]],\"type\":\"heatmapgl\"}],\"histogram\":[{\"marker\":{\"pattern\":{\"fillmode\":\"overlay\",\"size\":10,\"solidity\":0.2}},\"type\":\"histogram\"}],\"histogram2d\":[{\"colorbar\":{\"outlinewidth\":0,\"ticks\":\"\"},\"colorscale\":[[0.0,\"#0d0887\"],[0.1111111111111111,\"#46039f\"],[0.2222222222222222,\"#7201a8\"],[0.3333333333333333,\"#9c179e\"],[0.4444444444444444,\"#bd3786\"],[0.5555555555555556,\"#d8576b\"],[0.6666666666666666,\"#ed7953\"],[0.7777777777777778,\"#fb9f3a\"],[0.8888888888888888,\"#fdca26\"],[1.0,\"#f0f921\"]],\"type\":\"histogram2d\"}],\"histogram2dcontour\":[{\"colorbar\":{\"outlinewidth\":0,\"ticks\":\"\"},\"colorscale\":[[0.0,\"#0d0887\"],[0.1111111111111111,\"#46039f\"],[0.2222222222222222,\"#7201a8\"],[0.3333333333333333,\"#9c179e\"],[0.4444444444444444,\"#bd3786\"],[0.5555555555555556,\"#d8576b\"],[0.6666666666666666,\"#ed7953\"],[0.7777777777777778,\"#fb9f3a\"],[0.8888888888888888,\"#fdca26\"],[1.0,\"#f0f921\"]],\"type\":\"histogram2dcontour\"}],\"mesh3d\":[{\"colorbar\":{\"outlinewidth\":0,\"ticks\":\"\"},\"type\":\"mesh3d\"}],\"parcoords\":[{\"line\":{\"colorbar\":{\"outlinewidth\":0,\"ticks\":\"\"}},\"type\":\"parcoords\"}],\"pie\":[{\"automargin\":true,\"type\":\"pie\"}],\"scatter\":[{\"marker\":{\"colorbar\":{\"outlinewidth\":0,\"ticks\":\"\"}},\"type\":\"scatter\"}],\"scatter3d\":[{\"line\":{\"colorbar\":{\"outlinewidth\":0,\"ticks\":\"\"}},\"marker\":{\"colorbar\":{\"outlinewidth\":0,\"ticks\":\"\"}},\"type\":\"scatter3d\"}],\"scattercarpet\":[{\"marker\":{\"colorbar\":{\"outlinewidth\":0,\"ticks\":\"\"}},\"type\":\"scattercarpet\"}],\"scattergeo\":[{\"marker\":{\"colorbar\":{\"outlinewidth\":0,\"ticks\":\"\"}},\"type\":\"scattergeo\"}],\"scattergl\":[{\"marker\":{\"colorbar\":{\"outlinewidth\":0,\"ticks\":\"\"}},\"type\":\"scattergl\"}],\"scattermapbox\":[{\"marker\":{\"colorbar\":{\"outlinewidth\":0,\"ticks\":\"\"}},\"type\":\"scattermapbox\"}],\"scatterpolar\":[{\"marker\":{\"colorbar\":{\"outlinewidth\":0,\"ticks\":\"\"}},\"type\":\"scatterpolar\"}],\"scatterpolargl\":[{\"marker\":{\"colorbar\":{\"outlinewidth\":0,\"ticks\":\"\"}},\"type\":\"scatterpolargl\"}],\"scatterternary\":[{\"marker\":{\"colorbar\":{\"outlinewidth\":0,\"ticks\":\"\"}},\"type\":\"scatterternary\"}],\"surface\":[{\"colorbar\":{\"outlinewidth\":0,\"ticks\":\"\"},\"colorscale\":[[0.0,\"#0d0887\"],[0.1111111111111111,\"#46039f\"],[0.2222222222222222,\"#7201a8\"],[0.3333333333333333,\"#9c179e\"],[0.4444444444444444,\"#bd3786\"],[0.5555555555555556,\"#d8576b\"],[0.6666666666666666,\"#ed7953\"],[0.7777777777777778,\"#fb9f3a\"],[0.8888888888888888,\"#fdca26\"],[1.0,\"#f0f921\"]],\"type\":\"surface\"}],\"table\":[{\"cells\":{\"fill\":{\"color\":\"#EBF0F8\"},\"line\":{\"color\":\"white\"}},\"header\":{\"fill\":{\"color\":\"#C8D4E3\"},\"line\":{\"color\":\"white\"}},\"type\":\"table\"}]},\"layout\":{\"annotationdefaults\":{\"arrowcolor\":\"#2a3f5f\",\"arrowhead\":0,\"arrowwidth\":1},\"autotypenumbers\":\"strict\",\"coloraxis\":{\"colorbar\":{\"outlinewidth\":0,\"ticks\":\"\"}},\"colorscale\":{\"diverging\":[[0,\"#8e0152\"],[0.1,\"#c51b7d\"],[0.2,\"#de77ae\"],[0.3,\"#f1b6da\"],[0.4,\"#fde0ef\"],[0.5,\"#f7f7f7\"],[0.6,\"#e6f5d0\"],[0.7,\"#b8e186\"],[0.8,\"#7fbc41\"],[0.9,\"#4d9221\"],[1,\"#276419\"]],\"sequential\":[[0.0,\"#0d0887\"],[0.1111111111111111,\"#46039f\"],[0.2222222222222222,\"#7201a8\"],[0.3333333333333333,\"#9c179e\"],[0.4444444444444444,\"#bd3786\"],[0.5555555555555556,\"#d8576b\"],[0.6666666666666666,\"#ed7953\"],[0.7777777777777778,\"#fb9f3a\"],[0.8888888888888888,\"#fdca26\"],[1.0,\"#f0f921\"]],\"sequentialminus\":[[0.0,\"#0d0887\"],[0.1111111111111111,\"#46039f\"],[0.2222222222222222,\"#7201a8\"],[0.3333333333333333,\"#9c179e\"],[0.4444444444444444,\"#bd3786\"],[0.5555555555555556,\"#d8576b\"],[0.6666666666666666,\"#ed7953\"],[0.7777777777777778,\"#fb9f3a\"],[0.8888888888888888,\"#fdca26\"],[1.0,\"#f0f921\"]]},\"colorway\":[\"#636efa\",\"#EF553B\",\"#00cc96\",\"#ab63fa\",\"#FFA15A\",\"#19d3f3\",\"#FF6692\",\"#B6E880\",\"#FF97FF\",\"#FECB52\"],\"font\":{\"color\":\"#2a3f5f\"},\"geo\":{\"bgcolor\":\"white\",\"lakecolor\":\"white\",\"landcolor\":\"#E5ECF6\",\"showlakes\":true,\"showland\":true,\"subunitcolor\":\"white\"},\"hoverlabel\":{\"align\":\"left\"},\"hovermode\":\"closest\",\"mapbox\":{\"style\":\"light\"},\"paper_bgcolor\":\"white\",\"plot_bgcolor\":\"#E5ECF6\",\"polar\":{\"angularaxis\":{\"gridcolor\":\"white\",\"linecolor\":\"white\",\"ticks\":\"\"},\"bgcolor\":\"#E5ECF6\",\"radialaxis\":{\"gridcolor\":\"white\",\"linecolor\":\"white\",\"ticks\":\"\"}},\"scene\":{\"xaxis\":{\"backgroundcolor\":\"#E5ECF6\",\"gridcolor\":\"white\",\"gridwidth\":2,\"linecolor\":\"white\",\"showbackground\":true,\"ticks\":\"\",\"zerolinecolor\":\"white\"},\"yaxis\":{\"backgroundcolor\":\"#E5ECF6\",\"gridcolor\":\"white\",\"gridwidth\":2,\"linecolor\":\"white\",\"showbackground\":true,\"ticks\":\"\",\"zerolinecolor\":\"white\"},\"zaxis\":{\"backgroundcolor\":\"#E5ECF6\",\"gridcolor\":\"white\",\"gridwidth\":2,\"linecolor\":\"white\",\"showbackground\":true,\"ticks\":\"\",\"zerolinecolor\":\"white\"}},\"shapedefaults\":{\"line\":{\"color\":\"#2a3f5f\"}},\"ternary\":{\"aaxis\":{\"gridcolor\":\"white\",\"linecolor\":\"white\",\"ticks\":\"\"},\"baxis\":{\"gridcolor\":\"white\",\"linecolor\":\"white\",\"ticks\":\"\"},\"bgcolor\":\"#E5ECF6\",\"caxis\":{\"gridcolor\":\"white\",\"linecolor\":\"white\",\"ticks\":\"\"}},\"title\":{\"x\":0.05},\"xaxis\":{\"automargin\":true,\"gridcolor\":\"white\",\"linecolor\":\"white\",\"ticks\":\"\",\"title\":{\"standoff\":15},\"zerolinecolor\":\"white\",\"zerolinewidth\":2},\"yaxis\":{\"automargin\":true,\"gridcolor\":\"white\",\"linecolor\":\"white\",\"ticks\":\"\",\"title\":{\"standoff\":15},\"zerolinecolor\":\"white\",\"zerolinewidth\":2}}},\"font\":{\"size\":13,\"color\":\"#333333\",\"family\":\"Arial\"},\"hovermode\":\"x\",\"title\":{\"text\":\"Leverage kr\"},\"height\":500,\"width\":700},                        {\"responsive\": true}                    ).then(function(){\n",
              "                            \n",
              "var gd = document.getElementById('ce3e3473-3a83-4d86-ab18-edfe96e603d5');\n",
              "var x = new MutationObserver(function (mutations, observer) {{\n",
              "        var display = window.getComputedStyle(gd).display;\n",
              "        if (!display || display === 'none') {{\n",
              "            console.log([gd, 'removed!']);\n",
              "            Plotly.purge(gd);\n",
              "            observer.disconnect();\n",
              "        }}\n",
              "}});\n",
              "\n",
              "// Listen for the removal of the full notebook cells\n",
              "var notebookContainer = gd.closest('#notebook-container');\n",
              "if (notebookContainer) {{\n",
              "    x.observe(notebookContainer, {childList: true});\n",
              "}}\n",
              "\n",
              "// Listen for the clearing of the current output cell\n",
              "var outputEl = gd.closest('.output');\n",
              "if (outputEl) {{\n",
              "    x.observe(outputEl, {childList: true});\n",
              "}}\n",
              "\n",
              "                        })                };                            </script>        </div>\n",
              "</body>\n",
              "</html>"
            ]
          },
          "metadata": {}
        },
        {
          "output_type": "stream",
          "name": "stdout",
          "text": [
            "[None, None, None, None, None, None, None, None, None, None, None, None, None, None, None, None, None, None, None, None, None, None, None, None, None, None, None, None, None, None, None, None, None, None, None, None, None, None, None, None, None, None, None, None, None, 'leverages natural language structure', 'leverages relational structure', 'both', 'implicit', 'explicit', 'reasoning', 'out-of-distribution generalization', 'interpretability', 'reduced data', 'transferability', 'no goals met', None, None, None, None, None, None, None, None, None, None, None, None, None, None, None, None, None, None, None, None, None, None, None, None, None, None, None, None, None, None, None, None, None, None, None, None, None, None, None, None, None, None, None, None, None, None, None, None, None, None, None, None, None, None, None, None, None, None, None, None, None, None, None, None, None, None, None, None, None, None, None, None, None, None, None, None, None, None, None, None, None, None, None, None, None, None, None, None, None, None, None, None, None, None]\n",
            "<class 'list'>\n"
          ]
        },
        {
          "output_type": "display_data",
          "data": {
            "text/html": [
              "<html>\n",
              "<head><meta charset=\"utf-8\" /></head>\n",
              "<body>\n",
              "    <div>            <script src=\"https://cdnjs.cloudflare.com/ajax/libs/mathjax/2.7.5/MathJax.js?config=TeX-AMS-MML_SVG\"></script><script type=\"text/javascript\">if (window.MathJax) {MathJax.Hub.Config({SVG: {font: \"STIX-Web\"}});}</script>                <script type=\"text/javascript\">window.PlotlyConfig = {MathJaxConfig: 'local'};</script>\n",
              "        <script src=\"https://cdn.plot.ly/plotly-2.8.3.min.js\"></script>                <div id=\"eefa216c-2080-4dbf-af34-0b31a62d5e8a\" class=\"plotly-graph-div\" style=\"height:500px; width:700px;\"></div>            <script type=\"text/javascript\">                                    window.PLOTLYENV=window.PLOTLYENV || {};                                    if (document.getElementById(\"eefa216c-2080-4dbf-af34-0b31a62d5e8a\")) {                    Plotly.newPlot(                        \"eefa216c-2080-4dbf-af34-0b31a62d5e8a\",                        [{\"link\":{\"color\":[\"#57bcd6\",\"#57bcd6\",\"#57bcd6\",\"#57bcd6\",\"#57bcd6\",\"#57bcd6\",\"#57bcd6\",\"#450256\",\"#57bcd6\",\"#57bcd6\",\"#57bcd6\",\"#57bcd6\",\"#450256\",\"#450256\",\"#450256\",\"#450256\",\"#450256\",\"#57bcd6\",\"#57bcd6\",\"#450256\",\"#57bcd6\",\"#57bcd6\",\"#57bcd6\",\"#57bcd6\",\"#57bcd6\",\"#450256\",\"#57bcd6\",\"#57bcd6\",\"#57bcd6\",\"#57bcd6\",\"#57bcd6\",\"#450256\",\"#450256\",\"#450256\",\"#450256\",\"#450256\",\"#450256\",\"#450256\",\"#57bcd6\",\"#57bcd6\",\"#57bcd6\",\"#450256\",\"#57bcd6\",\"#57bcd6\",\"#57bcd6\",\"#57bcd6\",\"#57bcd6\",\"#57bcd6\",\"#450256\",\"#450256\",\"#450256\",\"#450256\",\"#57bcd6\",\"#57bcd6\",\"#450256\",\"#450256\",\"#450256\",\"#450256\",\"#450256\",\"#450256\",\"#450256\",\"#450256\",\"#450256\",\"#450256\",\"#450256\",\"#57bcd6\",\"#57bcd6\",\"#450256\",\"#450256\",\"#450256\",\"#450256\",\"#450256\",\"#450256\",\"#57bcd6\",\"#57bcd6\",\"#57bcd6\",\"#57bcd6\",\"#57bcd6\",\"#57bcd6\",\"#57bcd6\",\"#57bcd6\",\"#57bcd6\",\"#450256\",\"#450256\",\"#450256\",\"#57bcd6\",\"#57bcd6\",\"#57bcd6\",\"#450256\",\"#450256\",\"#450256\",\"#57bcd6\",\"#57bcd6\",\"#57bcd6\",\"#57bcd6\",\"#57bcd6\",\"#57bcd6\",\"#450256\",\"#57bcd6\",\"#57bcd6\",\"#450256\",\"#57bcd6\",\"#57bcd6\",\"#57bcd6\",\"#57bcd6\",\"#57bcd6\",\"#57bcd6\",\"#57bcd6\",\"#57bcd6\",\"#57bcd6\",\"#57bcd6\",\"#57bcd6\",\"#450256\",\"#57bcd6\",\"#57bcd6\",\"#57bcd6\",\"#57bcd6\",\"#57bcd6\",\"#57bcd6\",\"#57bcd6\",\"#57bcd6\",\"#57bcd6\",\"#57bcd6\",\"#57bcd6\",\"#57bcd6\",\"#57bcd6\",\"#57bcd6\",\"#450256\",\"#57bcd6\",\"#57bcd6\",\"#450256\",\"#450256\",\"#450256\",\"#450256\",\"#450256\",\"#450256\",\"#450256\",\"#450256\",\"#450256\",\"#57bcd6\",\"#57bcd6\",\"#450256\",\"#450256\",\"#450256\",\"#450256\",\"#450256\",\"#450256\",\"#450256\",\"#450256\",\"#450256\",\"#450256\",\"#450256\",\"#450256\",\"#450256\",\"#450256\",\"#450256\",\"#57bcd6\",\"#57bcd6\",\"#57bcd6\",\"#57bcd6\",\"#450256\",\"#450256\",\"#450256\",\"#450256\",\"#450256\",\"#450256\"],\"source\":[\"46\",\"49\",\"49\",\"49\",\"49\",\"49\",\"49\",\"45\",\"46\",\"48\",\"46\",\"49\",\"45\",\"49\",\"45\",\"48\",\"48\",\"46\",\"48\",\"45\",\"46\",\"49\",\"49\",\"49\",\"49\",\"45\",\"46\",\"48\",\"48\",\"48\",\"48\",\"45\",\"49\",\"49\",\"49\",\"45\",\"48\",\"45\",\"46\",\"48\",\"48\",\"45\",\"46\",\"48\",\"49\",\"49\",\"49\",\"49\",\"45\",\"48\",\"48\",\"45\",\"46\",\"48\",\"45\",\"48\",\"45\",\"49\",\"45\",\"49\",\"49\",\"49\",\"45\",\"48\",\"45\",\"46\",\"48\",\"45\",\"48\",\"48\",\"48\",\"48\",\"45\",\"46\",\"49\",\"49\",\"46\",\"49\",\"49\",\"46\",\"48\",\"48\",\"45\",\"48\",\"48\",\"46\",\"48\",\"48\",\"45\",\"48\",\"49\",\"46\",\"47\",\"47\",\"47\",\"46\",\"48\",\"45\",\"46\",\"48\",\"45\",\"46\",\"48\",\"48\",\"48\",\"48\",\"46\",\"47\",\"47\",\"46\",\"47\",\"47\",\"45\",\"46\",\"48\",\"46\",\"48\",\"46\",\"49\",\"49\",\"49\",\"49\",\"49\",\"47\",\"46\",\"49\",\"49\",\"45\",\"46\",\"48\",\"45\",\"49\",\"49\",\"49\",\"45\",\"48\",\"48\",\"45\",\"48\",\"46\",\"48\",\"45\",\"48\",\"48\",\"49\",\"49\",\"45\",\"49\",\"49\",\"49\",\"49\",\"49\",\"45\",\"48\",\"48\",\"45\",\"46\",\"48\",\"48\",\"48\",\"45\",\"48\",\"48\",\"48\",\"49\",\"49\"],\"target\":[\"49\",\"50\",\"52\",\"50\",\"51\",\"52\",\"53\",\"48\",\"48\",\"50\",\"49\",\"55\",\"49\",\"55\",\"48\",\"50\",\"54\",\"48\",\"51\",\"49\",\"49\",\"50\",\"52\",\"53\",\"54\",\"48\",\"48\",\"51\",\"52\",\"53\",\"54\",\"49\",\"52\",\"51\",\"53\",\"48\",\"50\",\"48\",\"48\",\"55\",\"53\",\"48\",\"48\",\"52\",\"51\",\"52\",\"53\",\"54\",\"48\",\"50\",\"54\",\"48\",\"48\",\"55\",\"48\",\"50\",\"49\",\"55\",\"49\",\"50\",\"51\",\"52\",\"48\",\"55\",\"48\",\"48\",\"50\",\"48\",\"50\",\"51\",\"52\",\"54\",\"49\",\"49\",\"50\",\"52\",\"49\",\"52\",\"54\",\"48\",\"51\",\"53\",\"48\",\"51\",\"54\",\"48\",\"50\",\"52\",\"48\",\"55\",\"55\",\"47\",\"50\",\"51\",\"52\",\"48\",\"50\",\"48\",\"48\",\"55\",\"48\",\"48\",\"51\",\"52\",\"53\",\"54\",\"47\",\"50\",\"52\",\"47\",\"50\",\"52\",\"48\",\"48\",\"50\",\"48\",\"50\",\"49\",\"50\",\"52\",\"53\",\"50\",\"54\",\"50\",\"49\",\"51\",\"53\",\"48\",\"48\",\"55\",\"49\",\"50\",\"50\",\"53\",\"48\",\"50\",\"52\",\"48\",\"50\",\"48\",\"50\",\"48\",\"50\",\"53\",\"53\",\"50\",\"49\",\"50\",\"51\",\"52\",\"53\",\"50\",\"48\",\"55\",\"55\",\"48\",\"48\",\"51\",\"53\",\"54\",\"48\",\"50\",\"52\",\"54\",\"50\",\"51\"],\"value\":[\"0.9999999999\",\"0.499999999975\",\"0.499999999975\",\"0.24999999999375\",\"0.24999999999375\",\"0.24999999999375\",\"0.24999999999375\",\"0.499999999975\",\"0.499999999975\",\"0.9999999999\",\"0.9999999999\",\"0.9999999999\",\"0.9999999999\",\"0.9999999999\",\"0.9999999999\",\"0.499999999975\",\"0.499999999975\",\"0.9999999999\",\"0.9999999999\",\"0.499999999975\",\"0.499999999975\",\"0.24999999999375\",\"0.24999999999375\",\"0.24999999999375\",\"0.24999999999375\",\"0.499999999975\",\"0.499999999975\",\"0.24999999999375\",\"0.24999999999375\",\"0.24999999999375\",\"0.24999999999375\",\"0.9999999999\",\"0.9999999999\",\"0.499999999975\",\"0.499999999975\",\"0.9999999999\",\"0.9999999999\",\"0.499999999975\",\"0.499999999975\",\"0.9999999999\",\"0.9999999999\",\"0.499999999975\",\"0.499999999975\",\"0.9999999999\",\"0.24999999999375\",\"0.24999999999375\",\"0.24999999999375\",\"0.24999999999375\",\"0.9999999999\",\"0.499999999975\",\"0.499999999975\",\"0.499999999975\",\"0.499999999975\",\"0.9999999999\",\"0.9999999999\",\"0.9999999999\",\"0.9999999999\",\"0.9999999999\",\"0.9999999999\",\"0.3333333333222222\",\"0.3333333333222222\",\"0.3333333333222222\",\"0.9999999999\",\"0.9999999999\",\"0.499999999975\",\"0.499999999975\",\"0.9999999999\",\"0.9999999999\",\"0.24999999999375\",\"0.24999999999375\",\"0.24999999999375\",\"0.24999999999375\",\"0.499999999975\",\"0.499999999975\",\"0.499999999975\",\"0.499999999975\",\"0.9999999999\",\"0.499999999975\",\"0.499999999975\",\"0.9999999999\",\"0.499999999975\",\"0.499999999975\",\"0.9999999999\",\"0.499999999975\",\"0.499999999975\",\"0.9999999999\",\"0.499999999975\",\"0.499999999975\",\"0.9999999999\",\"0.9999999999\",\"0.9999999999\",\"0.9999999999\",\"0.3333333333222222\",\"0.3333333333222222\",\"0.3333333333222222\",\"0.9999999999\",\"0.9999999999\",\"0.499999999975\",\"0.499999999975\",\"0.9999999999\",\"0.499999999975\",\"0.499999999975\",\"0.24999999999375\",\"0.24999999999375\",\"0.24999999999375\",\"0.24999999999375\",\"0.9999999999\",\"0.499999999975\",\"0.499999999975\",\"0.9999999999\",\"0.499999999975\",\"0.499999999975\",\"0.499999999975\",\"0.499999999975\",\"0.9999999999\",\"0.9999999999\",\"0.9999999999\",\"0.9999999999\",\"0.3333333333222222\",\"0.3333333333222222\",\"0.3333333333222222\",\"0.499999999975\",\"0.499999999975\",\"0.9999999999\",\"0.9999999999\",\"0.499999999975\",\"0.499999999975\",\"0.499999999975\",\"0.499999999975\",\"0.9999999999\",\"0.9999999999\",\"0.9999999999\",\"0.499999999975\",\"0.499999999975\",\"0.9999999999\",\"0.499999999975\",\"0.499999999975\",\"0.9999999999\",\"0.9999999999\",\"0.9999999999\",\"0.9999999999\",\"0.9999999999\",\"0.499999999975\",\"0.499999999975\",\"0.9999999999\",\"0.9999999999\",\"0.9999999999\",\"0.24999999999375\",\"0.24999999999375\",\"0.24999999999375\",\"0.24999999999375\",\"0.9999999999\",\"0.9999999999\",\"0.9999999999\",\"0.9999999999\",\"0.499999999975\",\"0.499999999975\",\"0.3333333333222222\",\"0.3333333333222222\",\"0.3333333333222222\",\"0.9999999999\",\"0.3333333333222222\",\"0.3333333333222222\",\"0.3333333333222222\",\"0.499999999975\",\"0.499999999975\"]},\"node\":{\"color\":\"#333333\",\"label\":[\"None\",\"None\",\"None\",\"None\",\"None\",\"None\",\"None\",\"None\",\"None\",\"None\",\"None\",\"None\",\"None\",\"None\",\"None\",\"None\",\"None\",\"None\",\"None\",\"None\",\"None\",\"None\",\"None\",\"None\",\"None\",\"None\",\"None\",\"None\",\"None\",\"None\",\"None\",\"None\",\"None\",\"None\",\"None\",\"None\",\"None\",\"None\",\"None\",\"None\",\"None\",\"None\",\"None\",\"None\",\"None\",\"Leverages natural language structure\",\"Leverages relational structure\",\"Both\",\"Implicit\",\"Explicit\",\"Reasoning\",\"OOD\",\"Interpretability\",\"Reduced data\",\"Transferability\",\"No goals met\",\"None\",\"None\",\"None\",\"None\",\"None\",\"None\",\"None\",\"None\",\"None\",\"None\",\"None\",\"None\",\"None\",\"None\",\"None\",\"None\",\"None\",\"None\",\"None\",\"None\",\"None\",\"None\",\"None\",\"None\",\"None\",\"None\",\"None\",\"None\",\"None\",\"None\",\"None\",\"None\",\"None\",\"None\",\"None\",\"None\",\"None\",\"None\",\"None\",\"None\",\"None\",\"None\",\"None\",\"None\",\"None\",\"None\",\"None\",\"None\",\"None\",\"None\",\"None\",\"None\",\"None\",\"None\",\"None\",\"None\",\"None\",\"None\",\"None\",\"None\",\"None\",\"None\",\"None\",\"None\",\"None\",\"None\",\"None\",\"None\",\"None\",\"None\",\"None\",\"None\",\"None\",\"None\",\"None\",\"None\",\"None\",\"None\",\"None\",\"None\",\"None\",\"None\",\"None\",\"None\",\"None\",\"None\",\"None\",\"None\",\"None\",\"None\",\"None\",\"None\",\"None\",\"None\"],\"pad\":25,\"thickness\":10},\"type\":\"sankey\"}],                        {\"template\":{\"data\":{\"bar\":[{\"error_x\":{\"color\":\"#2a3f5f\"},\"error_y\":{\"color\":\"#2a3f5f\"},\"marker\":{\"line\":{\"color\":\"#E5ECF6\",\"width\":0.5},\"pattern\":{\"fillmode\":\"overlay\",\"size\":10,\"solidity\":0.2}},\"type\":\"bar\"}],\"barpolar\":[{\"marker\":{\"line\":{\"color\":\"#E5ECF6\",\"width\":0.5},\"pattern\":{\"fillmode\":\"overlay\",\"size\":10,\"solidity\":0.2}},\"type\":\"barpolar\"}],\"carpet\":[{\"aaxis\":{\"endlinecolor\":\"#2a3f5f\",\"gridcolor\":\"white\",\"linecolor\":\"white\",\"minorgridcolor\":\"white\",\"startlinecolor\":\"#2a3f5f\"},\"baxis\":{\"endlinecolor\":\"#2a3f5f\",\"gridcolor\":\"white\",\"linecolor\":\"white\",\"minorgridcolor\":\"white\",\"startlinecolor\":\"#2a3f5f\"},\"type\":\"carpet\"}],\"choropleth\":[{\"colorbar\":{\"outlinewidth\":0,\"ticks\":\"\"},\"type\":\"choropleth\"}],\"contour\":[{\"colorbar\":{\"outlinewidth\":0,\"ticks\":\"\"},\"colorscale\":[[0.0,\"#0d0887\"],[0.1111111111111111,\"#46039f\"],[0.2222222222222222,\"#7201a8\"],[0.3333333333333333,\"#9c179e\"],[0.4444444444444444,\"#bd3786\"],[0.5555555555555556,\"#d8576b\"],[0.6666666666666666,\"#ed7953\"],[0.7777777777777778,\"#fb9f3a\"],[0.8888888888888888,\"#fdca26\"],[1.0,\"#f0f921\"]],\"type\":\"contour\"}],\"contourcarpet\":[{\"colorbar\":{\"outlinewidth\":0,\"ticks\":\"\"},\"type\":\"contourcarpet\"}],\"heatmap\":[{\"colorbar\":{\"outlinewidth\":0,\"ticks\":\"\"},\"colorscale\":[[0.0,\"#0d0887\"],[0.1111111111111111,\"#46039f\"],[0.2222222222222222,\"#7201a8\"],[0.3333333333333333,\"#9c179e\"],[0.4444444444444444,\"#bd3786\"],[0.5555555555555556,\"#d8576b\"],[0.6666666666666666,\"#ed7953\"],[0.7777777777777778,\"#fb9f3a\"],[0.8888888888888888,\"#fdca26\"],[1.0,\"#f0f921\"]],\"type\":\"heatmap\"}],\"heatmapgl\":[{\"colorbar\":{\"outlinewidth\":0,\"ticks\":\"\"},\"colorscale\":[[0.0,\"#0d0887\"],[0.1111111111111111,\"#46039f\"],[0.2222222222222222,\"#7201a8\"],[0.3333333333333333,\"#9c179e\"],[0.4444444444444444,\"#bd3786\"],[0.5555555555555556,\"#d8576b\"],[0.6666666666666666,\"#ed7953\"],[0.7777777777777778,\"#fb9f3a\"],[0.8888888888888888,\"#fdca26\"],[1.0,\"#f0f921\"]],\"type\":\"heatmapgl\"}],\"histogram\":[{\"marker\":{\"pattern\":{\"fillmode\":\"overlay\",\"size\":10,\"solidity\":0.2}},\"type\":\"histogram\"}],\"histogram2d\":[{\"colorbar\":{\"outlinewidth\":0,\"ticks\":\"\"},\"colorscale\":[[0.0,\"#0d0887\"],[0.1111111111111111,\"#46039f\"],[0.2222222222222222,\"#7201a8\"],[0.3333333333333333,\"#9c179e\"],[0.4444444444444444,\"#bd3786\"],[0.5555555555555556,\"#d8576b\"],[0.6666666666666666,\"#ed7953\"],[0.7777777777777778,\"#fb9f3a\"],[0.8888888888888888,\"#fdca26\"],[1.0,\"#f0f921\"]],\"type\":\"histogram2d\"}],\"histogram2dcontour\":[{\"colorbar\":{\"outlinewidth\":0,\"ticks\":\"\"},\"colorscale\":[[0.0,\"#0d0887\"],[0.1111111111111111,\"#46039f\"],[0.2222222222222222,\"#7201a8\"],[0.3333333333333333,\"#9c179e\"],[0.4444444444444444,\"#bd3786\"],[0.5555555555555556,\"#d8576b\"],[0.6666666666666666,\"#ed7953\"],[0.7777777777777778,\"#fb9f3a\"],[0.8888888888888888,\"#fdca26\"],[1.0,\"#f0f921\"]],\"type\":\"histogram2dcontour\"}],\"mesh3d\":[{\"colorbar\":{\"outlinewidth\":0,\"ticks\":\"\"},\"type\":\"mesh3d\"}],\"parcoords\":[{\"line\":{\"colorbar\":{\"outlinewidth\":0,\"ticks\":\"\"}},\"type\":\"parcoords\"}],\"pie\":[{\"automargin\":true,\"type\":\"pie\"}],\"scatter\":[{\"marker\":{\"colorbar\":{\"outlinewidth\":0,\"ticks\":\"\"}},\"type\":\"scatter\"}],\"scatter3d\":[{\"line\":{\"colorbar\":{\"outlinewidth\":0,\"ticks\":\"\"}},\"marker\":{\"colorbar\":{\"outlinewidth\":0,\"ticks\":\"\"}},\"type\":\"scatter3d\"}],\"scattercarpet\":[{\"marker\":{\"colorbar\":{\"outlinewidth\":0,\"ticks\":\"\"}},\"type\":\"scattercarpet\"}],\"scattergeo\":[{\"marker\":{\"colorbar\":{\"outlinewidth\":0,\"ticks\":\"\"}},\"type\":\"scattergeo\"}],\"scattergl\":[{\"marker\":{\"colorbar\":{\"outlinewidth\":0,\"ticks\":\"\"}},\"type\":\"scattergl\"}],\"scattermapbox\":[{\"marker\":{\"colorbar\":{\"outlinewidth\":0,\"ticks\":\"\"}},\"type\":\"scattermapbox\"}],\"scatterpolar\":[{\"marker\":{\"colorbar\":{\"outlinewidth\":0,\"ticks\":\"\"}},\"type\":\"scatterpolar\"}],\"scatterpolargl\":[{\"marker\":{\"colorbar\":{\"outlinewidth\":0,\"ticks\":\"\"}},\"type\":\"scatterpolargl\"}],\"scatterternary\":[{\"marker\":{\"colorbar\":{\"outlinewidth\":0,\"ticks\":\"\"}},\"type\":\"scatterternary\"}],\"surface\":[{\"colorbar\":{\"outlinewidth\":0,\"ticks\":\"\"},\"colorscale\":[[0.0,\"#0d0887\"],[0.1111111111111111,\"#46039f\"],[0.2222222222222222,\"#7201a8\"],[0.3333333333333333,\"#9c179e\"],[0.4444444444444444,\"#bd3786\"],[0.5555555555555556,\"#d8576b\"],[0.6666666666666666,\"#ed7953\"],[0.7777777777777778,\"#fb9f3a\"],[0.8888888888888888,\"#fdca26\"],[1.0,\"#f0f921\"]],\"type\":\"surface\"}],\"table\":[{\"cells\":{\"fill\":{\"color\":\"#EBF0F8\"},\"line\":{\"color\":\"white\"}},\"header\":{\"fill\":{\"color\":\"#C8D4E3\"},\"line\":{\"color\":\"white\"}},\"type\":\"table\"}]},\"layout\":{\"annotationdefaults\":{\"arrowcolor\":\"#2a3f5f\",\"arrowhead\":0,\"arrowwidth\":1},\"autotypenumbers\":\"strict\",\"coloraxis\":{\"colorbar\":{\"outlinewidth\":0,\"ticks\":\"\"}},\"colorscale\":{\"diverging\":[[0,\"#8e0152\"],[0.1,\"#c51b7d\"],[0.2,\"#de77ae\"],[0.3,\"#f1b6da\"],[0.4,\"#fde0ef\"],[0.5,\"#f7f7f7\"],[0.6,\"#e6f5d0\"],[0.7,\"#b8e186\"],[0.8,\"#7fbc41\"],[0.9,\"#4d9221\"],[1,\"#276419\"]],\"sequential\":[[0.0,\"#0d0887\"],[0.1111111111111111,\"#46039f\"],[0.2222222222222222,\"#7201a8\"],[0.3333333333333333,\"#9c179e\"],[0.4444444444444444,\"#bd3786\"],[0.5555555555555556,\"#d8576b\"],[0.6666666666666666,\"#ed7953\"],[0.7777777777777778,\"#fb9f3a\"],[0.8888888888888888,\"#fdca26\"],[1.0,\"#f0f921\"]],\"sequentialminus\":[[0.0,\"#0d0887\"],[0.1111111111111111,\"#46039f\"],[0.2222222222222222,\"#7201a8\"],[0.3333333333333333,\"#9c179e\"],[0.4444444444444444,\"#bd3786\"],[0.5555555555555556,\"#d8576b\"],[0.6666666666666666,\"#ed7953\"],[0.7777777777777778,\"#fb9f3a\"],[0.8888888888888888,\"#fdca26\"],[1.0,\"#f0f921\"]]},\"colorway\":[\"#636efa\",\"#EF553B\",\"#00cc96\",\"#ab63fa\",\"#FFA15A\",\"#19d3f3\",\"#FF6692\",\"#B6E880\",\"#FF97FF\",\"#FECB52\"],\"font\":{\"color\":\"#2a3f5f\"},\"geo\":{\"bgcolor\":\"white\",\"lakecolor\":\"white\",\"landcolor\":\"#E5ECF6\",\"showlakes\":true,\"showland\":true,\"subunitcolor\":\"white\"},\"hoverlabel\":{\"align\":\"left\"},\"hovermode\":\"closest\",\"mapbox\":{\"style\":\"light\"},\"paper_bgcolor\":\"white\",\"plot_bgcolor\":\"#E5ECF6\",\"polar\":{\"angularaxis\":{\"gridcolor\":\"white\",\"linecolor\":\"white\",\"ticks\":\"\"},\"bgcolor\":\"#E5ECF6\",\"radialaxis\":{\"gridcolor\":\"white\",\"linecolor\":\"white\",\"ticks\":\"\"}},\"scene\":{\"xaxis\":{\"backgroundcolor\":\"#E5ECF6\",\"gridcolor\":\"white\",\"gridwidth\":2,\"linecolor\":\"white\",\"showbackground\":true,\"ticks\":\"\",\"zerolinecolor\":\"white\"},\"yaxis\":{\"backgroundcolor\":\"#E5ECF6\",\"gridcolor\":\"white\",\"gridwidth\":2,\"linecolor\":\"white\",\"showbackground\":true,\"ticks\":\"\",\"zerolinecolor\":\"white\"},\"zaxis\":{\"backgroundcolor\":\"#E5ECF6\",\"gridcolor\":\"white\",\"gridwidth\":2,\"linecolor\":\"white\",\"showbackground\":true,\"ticks\":\"\",\"zerolinecolor\":\"white\"}},\"shapedefaults\":{\"line\":{\"color\":\"#2a3f5f\"}},\"ternary\":{\"aaxis\":{\"gridcolor\":\"white\",\"linecolor\":\"white\",\"ticks\":\"\"},\"baxis\":{\"gridcolor\":\"white\",\"linecolor\":\"white\",\"ticks\":\"\"},\"bgcolor\":\"#E5ECF6\",\"caxis\":{\"gridcolor\":\"white\",\"linecolor\":\"white\",\"ticks\":\"\"}},\"title\":{\"x\":0.05},\"xaxis\":{\"automargin\":true,\"gridcolor\":\"white\",\"linecolor\":\"white\",\"ticks\":\"\",\"title\":{\"standoff\":15},\"zerolinecolor\":\"white\",\"zerolinewidth\":2},\"yaxis\":{\"automargin\":true,\"gridcolor\":\"white\",\"linecolor\":\"white\",\"ticks\":\"\",\"title\":{\"standoff\":15},\"zerolinecolor\":\"white\",\"zerolinewidth\":2}}},\"font\":{\"size\":13,\"color\":\"#333333\",\"family\":\"Arial\"},\"hovermode\":\"x\",\"title\":{\"text\":\"Leverage reasoning goals\"},\"height\":500,\"width\":700},                        {\"responsive\": true}                    ).then(function(){\n",
              "                            \n",
              "var gd = document.getElementById('eefa216c-2080-4dbf-af34-0b31a62d5e8a');\n",
              "var x = new MutationObserver(function (mutations, observer) {{\n",
              "        var display = window.getComputedStyle(gd).display;\n",
              "        if (!display || display === 'none') {{\n",
              "            console.log([gd, 'removed!']);\n",
              "            Plotly.purge(gd);\n",
              "            observer.disconnect();\n",
              "        }}\n",
              "}});\n",
              "\n",
              "// Listen for the removal of the full notebook cells\n",
              "var notebookContainer = gd.closest('#notebook-container');\n",
              "if (notebookContainer) {{\n",
              "    x.observe(notebookContainer, {childList: true});\n",
              "}}\n",
              "\n",
              "// Listen for the clearing of the current output cell\n",
              "var outputEl = gd.closest('.output');\n",
              "if (outputEl) {{\n",
              "    x.observe(outputEl, {childList: true});\n",
              "}}\n",
              "\n",
              "                        })                };                            </script>        </div>\n",
              "</body>\n",
              "</html>"
            ]
          },
          "metadata": {}
        },
        {
          "output_type": "stream",
          "name": "stdout",
          "text": [
            "[None, None, None, None, None, None, None, None, None, None, None, None, None, None, None, None, None, None, None, None, None, None, 'similarity', 'classification', 'generative', 'inference', 'information extraction', None, None, None, None, None, None, None, None, None, None, None, None, None, None, None, None, None, None, 'leverages natural language structure', 'leverages relational structure', None, None, None, 'reasoning', 'out-of-distribution generalization', 'interpretability', 'reduced data', 'transferability', 'no goals met', None, None, None, None, None, None, None, None, None, None, None, None, None, None, None, None, None, None, None, None, None, None, None, None, None, None, None, None, None, None, None, None, None, None, None, None, None, None, None, None, None, None, None, None, None, None, None, None, None, None, None, None, None, None, None, None, None, None, None, None, None, None, None, None, None, None, None, None, None, None, None, None, None, None, None, None, None, None, None, None, None, None, None, None, None, None, None, None, None, None, None, None, None, None]\n",
            "<class 'list'>\n"
          ]
        },
        {
          "output_type": "display_data",
          "data": {
            "text/html": [
              "<html>\n",
              "<head><meta charset=\"utf-8\" /></head>\n",
              "<body>\n",
              "    <div>            <script src=\"https://cdnjs.cloudflare.com/ajax/libs/mathjax/2.7.5/MathJax.js?config=TeX-AMS-MML_SVG\"></script><script type=\"text/javascript\">if (window.MathJax) {MathJax.Hub.Config({SVG: {font: \"STIX-Web\"}});}</script>                <script type=\"text/javascript\">window.PlotlyConfig = {MathJaxConfig: 'local'};</script>\n",
              "        <script src=\"https://cdn.plot.ly/plotly-2.8.3.min.js\"></script>                <div id=\"d83b2aec-06e0-4ee7-bb98-64b3d90b04eb\" class=\"plotly-graph-div\" style=\"height:500px; width:700px;\"></div>            <script type=\"text/javascript\">                                    window.PLOTLYENV=window.PLOTLYENV || {};                                    if (document.getElementById(\"d83b2aec-06e0-4ee7-bb98-64b3d90b04eb\")) {                    Plotly.newPlot(                        \"d83b2aec-06e0-4ee7-bb98-64b3d90b04eb\",                        [{\"link\":{\"color\":[\"#57bcd6\",\"#57bcd6\",\"#57bcd6\",\"#57bcd6\",\"#57bcd6\",\"#57bcd6\",\"#57bcd6\",\"#450256\",\"#57bcd6\",\"#57bcd6\",\"#57bcd6\",\"#57bcd6\",\"#450256\",\"#450256\",\"#450256\",\"#450256\",\"#450256\",\"#57bcd6\",\"#57bcd6\",\"#450256\",\"#57bcd6\",\"#57bcd6\",\"#57bcd6\",\"#57bcd6\",\"#57bcd6\",\"#450256\",\"#57bcd6\",\"#57bcd6\",\"#57bcd6\",\"#57bcd6\",\"#57bcd6\",\"#450256\",\"#450256\",\"#450256\",\"#450256\",\"#450256\",\"#450256\",\"#450256\",\"#57bcd6\",\"#57bcd6\",\"#57bcd6\",\"#450256\",\"#57bcd6\",\"#57bcd6\",\"#57bcd6\",\"#57bcd6\",\"#57bcd6\",\"#57bcd6\",\"#450256\",\"#450256\",\"#450256\",\"#450256\",\"#57bcd6\",\"#57bcd6\",\"#450256\",\"#450256\",\"#450256\",\"#450256\",\"#450256\",\"#450256\",\"#450256\",\"#450256\",\"#450256\",\"#450256\",\"#450256\",\"#57bcd6\",\"#57bcd6\",\"#450256\",\"#450256\",\"#450256\",\"#450256\",\"#450256\",\"#450256\",\"#57bcd6\",\"#57bcd6\",\"#57bcd6\",\"#57bcd6\",\"#57bcd6\",\"#57bcd6\",\"#57bcd6\",\"#57bcd6\",\"#57bcd6\",\"#450256\",\"#450256\",\"#450256\",\"#57bcd6\",\"#57bcd6\",\"#57bcd6\",\"#450256\",\"#450256\",\"#450256\",\"#57bcd6\",\"#57bcd6\",\"#57bcd6\",\"#57bcd6\",\"#57bcd6\",\"#57bcd6\",\"#450256\",\"#57bcd6\",\"#57bcd6\",\"#450256\",\"#57bcd6\",\"#57bcd6\",\"#57bcd6\",\"#57bcd6\",\"#57bcd6\",\"#57bcd6\",\"#57bcd6\",\"#57bcd6\",\"#57bcd6\",\"#57bcd6\",\"#57bcd6\",\"#450256\",\"#57bcd6\",\"#57bcd6\",\"#57bcd6\",\"#57bcd6\",\"#57bcd6\",\"#57bcd6\",\"#57bcd6\",\"#57bcd6\",\"#57bcd6\",\"#57bcd6\",\"#57bcd6\",\"#57bcd6\",\"#57bcd6\",\"#57bcd6\",\"#450256\",\"#57bcd6\",\"#57bcd6\",\"#450256\",\"#450256\",\"#450256\",\"#450256\",\"#450256\",\"#450256\",\"#450256\",\"#450256\",\"#450256\",\"#57bcd6\",\"#57bcd6\",\"#450256\",\"#450256\",\"#450256\",\"#450256\",\"#450256\",\"#450256\",\"#450256\",\"#450256\",\"#450256\",\"#450256\",\"#450256\",\"#450256\",\"#450256\",\"#450256\",\"#450256\",\"#450256\",\"#450256\",\"#450256\",\"#450256\",\"#450256\",\"#57bcd6\",\"#57bcd6\",\"#57bcd6\",\"#57bcd6\",\"#450256\",\"#450256\",\"#450256\",\"#450256\",\"#450256\",\"#450256\"],\"source\":[\"46\",\"23\",\"23\",\"24\",\"24\",\"24\",\"24\",\"45\",\"46\",\"23\",\"46\",\"26\",\"45\",\"26\",\"45\",\"25\",\"25\",\"46\",\"26\",\"45\",\"46\",\"25\",\"25\",\"25\",\"25\",\"45\",\"46\",\"25\",\"25\",\"25\",\"25\",\"45\",\"23\",\"26\",\"26\",\"45\",\"23\",\"45\",\"46\",\"24\",\"23\",\"45\",\"46\",\"23\",\"26\",\"26\",\"26\",\"26\",\"45\",\"25\",\"25\",\"45\",\"46\",\"26\",\"45\",\"23\",\"45\",\"23\",\"45\",\"23\",\"23\",\"23\",\"45\",\"23\",\"45\",\"46\",\"25\",\"45\",\"25\",\"25\",\"25\",\"25\",\"45\",\"46\",\"26\",\"26\",\"46\",\"23\",\"23\",\"46\",\"24\",\"24\",\"45\",\"23\",\"23\",\"46\",\"23\",\"23\",\"45\",\"23\",\"23\",\"46\",\"25\",\"25\",\"25\",\"46\",\"23\",\"45\",\"46\",\"23\",\"45\",\"46\",\"23\",\"23\",\"23\",\"23\",\"46\",\"25\",\"25\",\"46\",\"23\",\"23\",\"45\",\"46\",\"23\",\"46\",\"23\",\"46\",\"25\",\"25\",\"25\",\"23\",\"23\",\"23\",\"46\",\"23\",\"23\",\"45\",\"46\",\"23\",\"45\",\"23\",\"22\",\"22\",\"45\",\"23\",\"23\",\"45\",\"23\",\"46\",\"23\",\"45\",\"23\",\"23\",\"23\",\"23\",\"45\",\"45\",\"23\",\"23\",\"23\",\"23\",\"25\",\"25\",\"25\",\"25\",\"23\",\"45\",\"24\",\"23\",\"45\",\"46\",\"24\",\"24\",\"24\",\"45\",\"24\",\"24\",\"24\",\"24\",\"24\"],\"target\":[\"23\",\"50\",\"52\",\"50\",\"51\",\"52\",\"53\",\"23\",\"23\",\"50\",\"26\",\"55\",\"26\",\"55\",\"25\",\"50\",\"54\",\"26\",\"51\",\"25\",\"25\",\"50\",\"52\",\"53\",\"54\",\"25\",\"25\",\"51\",\"52\",\"53\",\"54\",\"23\",\"52\",\"51\",\"53\",\"23\",\"50\",\"24\",\"24\",\"55\",\"53\",\"23\",\"23\",\"52\",\"51\",\"52\",\"53\",\"54\",\"25\",\"50\",\"54\",\"26\",\"26\",\"55\",\"23\",\"50\",\"23\",\"55\",\"23\",\"50\",\"51\",\"52\",\"23\",\"55\",\"25\",\"25\",\"50\",\"25\",\"50\",\"51\",\"52\",\"54\",\"26\",\"26\",\"50\",\"52\",\"23\",\"52\",\"54\",\"24\",\"51\",\"53\",\"23\",\"51\",\"54\",\"23\",\"50\",\"52\",\"23\",\"55\",\"55\",\"25\",\"50\",\"51\",\"52\",\"23\",\"50\",\"23\",\"23\",\"55\",\"23\",\"23\",\"51\",\"52\",\"53\",\"54\",\"25\",\"50\",\"52\",\"23\",\"50\",\"52\",\"23\",\"23\",\"50\",\"23\",\"50\",\"25\",\"50\",\"52\",\"53\",\"50\",\"54\",\"50\",\"23\",\"51\",\"53\",\"23\",\"23\",\"55\",\"23\",\"50\",\"50\",\"53\",\"23\",\"50\",\"52\",\"23\",\"50\",\"23\",\"50\",\"23\",\"50\",\"53\",\"53\",\"50\",\"23\",\"25\",\"50\",\"51\",\"52\",\"53\",\"50\",\"51\",\"52\",\"53\",\"50\",\"24\",\"55\",\"55\",\"24\",\"24\",\"51\",\"53\",\"54\",\"24\",\"50\",\"52\",\"54\",\"50\",\"51\"],\"value\":[\"0.9999999999\",\"0.499999999975\",\"0.499999999975\",\"0.24999999999375\",\"0.24999999999375\",\"0.24999999999375\",\"0.24999999999375\",\"0.499999999975\",\"0.499999999975\",\"0.9999999999\",\"0.9999999999\",\"0.9999999999\",\"0.9999999999\",\"0.9999999999\",\"0.9999999999\",\"0.499999999975\",\"0.499999999975\",\"0.9999999999\",\"0.9999999999\",\"0.499999999975\",\"0.499999999975\",\"0.24999999999375\",\"0.24999999999375\",\"0.24999999999375\",\"0.24999999999375\",\"0.499999999975\",\"0.499999999975\",\"0.24999999999375\",\"0.24999999999375\",\"0.24999999999375\",\"0.24999999999375\",\"0.9999999999\",\"0.9999999999\",\"0.499999999975\",\"0.499999999975\",\"0.9999999999\",\"0.9999999999\",\"0.499999999975\",\"0.499999999975\",\"0.9999999999\",\"0.9999999999\",\"0.499999999975\",\"0.499999999975\",\"0.9999999999\",\"0.24999999999375\",\"0.24999999999375\",\"0.24999999999375\",\"0.24999999999375\",\"0.9999999999\",\"0.499999999975\",\"0.499999999975\",\"0.499999999975\",\"0.499999999975\",\"0.9999999999\",\"0.9999999999\",\"0.9999999999\",\"0.9999999999\",\"0.9999999999\",\"0.9999999999\",\"0.3333333333222222\",\"0.3333333333222222\",\"0.3333333333222222\",\"0.9999999999\",\"0.9999999999\",\"0.499999999975\",\"0.499999999975\",\"0.9999999999\",\"0.9999999999\",\"0.24999999999375\",\"0.24999999999375\",\"0.24999999999375\",\"0.24999999999375\",\"0.499999999975\",\"0.499999999975\",\"0.499999999975\",\"0.499999999975\",\"0.9999999999\",\"0.499999999975\",\"0.499999999975\",\"0.9999999999\",\"0.499999999975\",\"0.499999999975\",\"0.9999999999\",\"0.499999999975\",\"0.499999999975\",\"0.9999999999\",\"0.499999999975\",\"0.499999999975\",\"0.9999999999\",\"0.9999999999\",\"0.9999999999\",\"0.9999999999\",\"0.3333333333222222\",\"0.3333333333222222\",\"0.3333333333222222\",\"0.9999999999\",\"0.9999999999\",\"0.499999999975\",\"0.499999999975\",\"0.9999999999\",\"0.499999999975\",\"0.499999999975\",\"0.24999999999375\",\"0.24999999999375\",\"0.24999999999375\",\"0.24999999999375\",\"0.9999999999\",\"0.499999999975\",\"0.499999999975\",\"0.9999999999\",\"0.499999999975\",\"0.499999999975\",\"0.499999999975\",\"0.499999999975\",\"0.9999999999\",\"0.9999999999\",\"0.9999999999\",\"0.9999999999\",\"0.3333333333222222\",\"0.3333333333222222\",\"0.3333333333222222\",\"0.499999999975\",\"0.499999999975\",\"0.9999999999\",\"0.9999999999\",\"0.499999999975\",\"0.499999999975\",\"0.499999999975\",\"0.499999999975\",\"0.9999999999\",\"0.9999999999\",\"0.9999999999\",\"0.499999999975\",\"0.499999999975\",\"0.9999999999\",\"0.499999999975\",\"0.499999999975\",\"0.9999999999\",\"0.9999999999\",\"0.9999999999\",\"0.9999999999\",\"0.9999999999\",\"0.499999999975\",\"0.499999999975\",\"0.9999999999\",\"0.9999999999\",\"0.499999999975\",\"0.499999999975\",\"0.1249999999984375\",\"0.1249999999984375\",\"0.1249999999984375\",\"0.1249999999984375\",\"0.1249999999984375\",\"0.1249999999984375\",\"0.1249999999984375\",\"0.1249999999984375\",\"0.9999999999\",\"0.9999999999\",\"0.9999999999\",\"0.9999999999\",\"0.499999999975\",\"0.499999999975\",\"0.3333333333222222\",\"0.3333333333222222\",\"0.3333333333222222\",\"0.9999999999\",\"0.3333333333222222\",\"0.3333333333222222\",\"0.3333333333222222\",\"0.499999999975\",\"0.499999999975\"]},\"node\":{\"color\":\"#333333\",\"label\":[\"None\",\"None\",\"None\",\"None\",\"None\",\"None\",\"None\",\"None\",\"None\",\"None\",\"None\",\"None\",\"None\",\"None\",\"None\",\"None\",\"None\",\"None\",\"None\",\"None\",\"None\",\"None\",\"Similarity\",\"Classification\",\"Generative\",\"Inference\",\"Information extraction\",\"None\",\"None\",\"None\",\"None\",\"None\",\"None\",\"None\",\"None\",\"None\",\"None\",\"None\",\"None\",\"None\",\"None\",\"None\",\"None\",\"None\",\"None\",\"Leverages natural language structure\",\"Leverages relational structure\",\"None\",\"None\",\"None\",\"Reasoning\",\"OOD\",\"Interpretability\",\"Reduced data\",\"Transferability\",\"No goals met\",\"None\",\"None\",\"None\",\"None\",\"None\",\"None\",\"None\",\"None\",\"None\",\"None\",\"None\",\"None\",\"None\",\"None\",\"None\",\"None\",\"None\",\"None\",\"None\",\"None\",\"None\",\"None\",\"None\",\"None\",\"None\",\"None\",\"None\",\"None\",\"None\",\"None\",\"None\",\"None\",\"None\",\"None\",\"None\",\"None\",\"None\",\"None\",\"None\",\"None\",\"None\",\"None\",\"None\",\"None\",\"None\",\"None\",\"None\",\"None\",\"None\",\"None\",\"None\",\"None\",\"None\",\"None\",\"None\",\"None\",\"None\",\"None\",\"None\",\"None\",\"None\",\"None\",\"None\",\"None\",\"None\",\"None\",\"None\",\"None\",\"None\",\"None\",\"None\",\"None\",\"None\",\"None\",\"None\",\"None\",\"None\",\"None\",\"None\",\"None\",\"None\",\"None\",\"None\",\"None\",\"None\",\"None\",\"None\",\"None\",\"None\",\"None\",\"None\",\"None\",\"None\",\"None\"],\"pad\":25,\"thickness\":10},\"type\":\"sankey\"}],                        {\"template\":{\"data\":{\"bar\":[{\"error_x\":{\"color\":\"#2a3f5f\"},\"error_y\":{\"color\":\"#2a3f5f\"},\"marker\":{\"line\":{\"color\":\"#E5ECF6\",\"width\":0.5},\"pattern\":{\"fillmode\":\"overlay\",\"size\":10,\"solidity\":0.2}},\"type\":\"bar\"}],\"barpolar\":[{\"marker\":{\"line\":{\"color\":\"#E5ECF6\",\"width\":0.5},\"pattern\":{\"fillmode\":\"overlay\",\"size\":10,\"solidity\":0.2}},\"type\":\"barpolar\"}],\"carpet\":[{\"aaxis\":{\"endlinecolor\":\"#2a3f5f\",\"gridcolor\":\"white\",\"linecolor\":\"white\",\"minorgridcolor\":\"white\",\"startlinecolor\":\"#2a3f5f\"},\"baxis\":{\"endlinecolor\":\"#2a3f5f\",\"gridcolor\":\"white\",\"linecolor\":\"white\",\"minorgridcolor\":\"white\",\"startlinecolor\":\"#2a3f5f\"},\"type\":\"carpet\"}],\"choropleth\":[{\"colorbar\":{\"outlinewidth\":0,\"ticks\":\"\"},\"type\":\"choropleth\"}],\"contour\":[{\"colorbar\":{\"outlinewidth\":0,\"ticks\":\"\"},\"colorscale\":[[0.0,\"#0d0887\"],[0.1111111111111111,\"#46039f\"],[0.2222222222222222,\"#7201a8\"],[0.3333333333333333,\"#9c179e\"],[0.4444444444444444,\"#bd3786\"],[0.5555555555555556,\"#d8576b\"],[0.6666666666666666,\"#ed7953\"],[0.7777777777777778,\"#fb9f3a\"],[0.8888888888888888,\"#fdca26\"],[1.0,\"#f0f921\"]],\"type\":\"contour\"}],\"contourcarpet\":[{\"colorbar\":{\"outlinewidth\":0,\"ticks\":\"\"},\"type\":\"contourcarpet\"}],\"heatmap\":[{\"colorbar\":{\"outlinewidth\":0,\"ticks\":\"\"},\"colorscale\":[[0.0,\"#0d0887\"],[0.1111111111111111,\"#46039f\"],[0.2222222222222222,\"#7201a8\"],[0.3333333333333333,\"#9c179e\"],[0.4444444444444444,\"#bd3786\"],[0.5555555555555556,\"#d8576b\"],[0.6666666666666666,\"#ed7953\"],[0.7777777777777778,\"#fb9f3a\"],[0.8888888888888888,\"#fdca26\"],[1.0,\"#f0f921\"]],\"type\":\"heatmap\"}],\"heatmapgl\":[{\"colorbar\":{\"outlinewidth\":0,\"ticks\":\"\"},\"colorscale\":[[0.0,\"#0d0887\"],[0.1111111111111111,\"#46039f\"],[0.2222222222222222,\"#7201a8\"],[0.3333333333333333,\"#9c179e\"],[0.4444444444444444,\"#bd3786\"],[0.5555555555555556,\"#d8576b\"],[0.6666666666666666,\"#ed7953\"],[0.7777777777777778,\"#fb9f3a\"],[0.8888888888888888,\"#fdca26\"],[1.0,\"#f0f921\"]],\"type\":\"heatmapgl\"}],\"histogram\":[{\"marker\":{\"pattern\":{\"fillmode\":\"overlay\",\"size\":10,\"solidity\":0.2}},\"type\":\"histogram\"}],\"histogram2d\":[{\"colorbar\":{\"outlinewidth\":0,\"ticks\":\"\"},\"colorscale\":[[0.0,\"#0d0887\"],[0.1111111111111111,\"#46039f\"],[0.2222222222222222,\"#7201a8\"],[0.3333333333333333,\"#9c179e\"],[0.4444444444444444,\"#bd3786\"],[0.5555555555555556,\"#d8576b\"],[0.6666666666666666,\"#ed7953\"],[0.7777777777777778,\"#fb9f3a\"],[0.8888888888888888,\"#fdca26\"],[1.0,\"#f0f921\"]],\"type\":\"histogram2d\"}],\"histogram2dcontour\":[{\"colorbar\":{\"outlinewidth\":0,\"ticks\":\"\"},\"colorscale\":[[0.0,\"#0d0887\"],[0.1111111111111111,\"#46039f\"],[0.2222222222222222,\"#7201a8\"],[0.3333333333333333,\"#9c179e\"],[0.4444444444444444,\"#bd3786\"],[0.5555555555555556,\"#d8576b\"],[0.6666666666666666,\"#ed7953\"],[0.7777777777777778,\"#fb9f3a\"],[0.8888888888888888,\"#fdca26\"],[1.0,\"#f0f921\"]],\"type\":\"histogram2dcontour\"}],\"mesh3d\":[{\"colorbar\":{\"outlinewidth\":0,\"ticks\":\"\"},\"type\":\"mesh3d\"}],\"parcoords\":[{\"line\":{\"colorbar\":{\"outlinewidth\":0,\"ticks\":\"\"}},\"type\":\"parcoords\"}],\"pie\":[{\"automargin\":true,\"type\":\"pie\"}],\"scatter\":[{\"marker\":{\"colorbar\":{\"outlinewidth\":0,\"ticks\":\"\"}},\"type\":\"scatter\"}],\"scatter3d\":[{\"line\":{\"colorbar\":{\"outlinewidth\":0,\"ticks\":\"\"}},\"marker\":{\"colorbar\":{\"outlinewidth\":0,\"ticks\":\"\"}},\"type\":\"scatter3d\"}],\"scattercarpet\":[{\"marker\":{\"colorbar\":{\"outlinewidth\":0,\"ticks\":\"\"}},\"type\":\"scattercarpet\"}],\"scattergeo\":[{\"marker\":{\"colorbar\":{\"outlinewidth\":0,\"ticks\":\"\"}},\"type\":\"scattergeo\"}],\"scattergl\":[{\"marker\":{\"colorbar\":{\"outlinewidth\":0,\"ticks\":\"\"}},\"type\":\"scattergl\"}],\"scattermapbox\":[{\"marker\":{\"colorbar\":{\"outlinewidth\":0,\"ticks\":\"\"}},\"type\":\"scattermapbox\"}],\"scatterpolar\":[{\"marker\":{\"colorbar\":{\"outlinewidth\":0,\"ticks\":\"\"}},\"type\":\"scatterpolar\"}],\"scatterpolargl\":[{\"marker\":{\"colorbar\":{\"outlinewidth\":0,\"ticks\":\"\"}},\"type\":\"scatterpolargl\"}],\"scatterternary\":[{\"marker\":{\"colorbar\":{\"outlinewidth\":0,\"ticks\":\"\"}},\"type\":\"scatterternary\"}],\"surface\":[{\"colorbar\":{\"outlinewidth\":0,\"ticks\":\"\"},\"colorscale\":[[0.0,\"#0d0887\"],[0.1111111111111111,\"#46039f\"],[0.2222222222222222,\"#7201a8\"],[0.3333333333333333,\"#9c179e\"],[0.4444444444444444,\"#bd3786\"],[0.5555555555555556,\"#d8576b\"],[0.6666666666666666,\"#ed7953\"],[0.7777777777777778,\"#fb9f3a\"],[0.8888888888888888,\"#fdca26\"],[1.0,\"#f0f921\"]],\"type\":\"surface\"}],\"table\":[{\"cells\":{\"fill\":{\"color\":\"#EBF0F8\"},\"line\":{\"color\":\"white\"}},\"header\":{\"fill\":{\"color\":\"#C8D4E3\"},\"line\":{\"color\":\"white\"}},\"type\":\"table\"}]},\"layout\":{\"annotationdefaults\":{\"arrowcolor\":\"#2a3f5f\",\"arrowhead\":0,\"arrowwidth\":1},\"autotypenumbers\":\"strict\",\"coloraxis\":{\"colorbar\":{\"outlinewidth\":0,\"ticks\":\"\"}},\"colorscale\":{\"diverging\":[[0,\"#8e0152\"],[0.1,\"#c51b7d\"],[0.2,\"#de77ae\"],[0.3,\"#f1b6da\"],[0.4,\"#fde0ef\"],[0.5,\"#f7f7f7\"],[0.6,\"#e6f5d0\"],[0.7,\"#b8e186\"],[0.8,\"#7fbc41\"],[0.9,\"#4d9221\"],[1,\"#276419\"]],\"sequential\":[[0.0,\"#0d0887\"],[0.1111111111111111,\"#46039f\"],[0.2222222222222222,\"#7201a8\"],[0.3333333333333333,\"#9c179e\"],[0.4444444444444444,\"#bd3786\"],[0.5555555555555556,\"#d8576b\"],[0.6666666666666666,\"#ed7953\"],[0.7777777777777778,\"#fb9f3a\"],[0.8888888888888888,\"#fdca26\"],[1.0,\"#f0f921\"]],\"sequentialminus\":[[0.0,\"#0d0887\"],[0.1111111111111111,\"#46039f\"],[0.2222222222222222,\"#7201a8\"],[0.3333333333333333,\"#9c179e\"],[0.4444444444444444,\"#bd3786\"],[0.5555555555555556,\"#d8576b\"],[0.6666666666666666,\"#ed7953\"],[0.7777777777777778,\"#fb9f3a\"],[0.8888888888888888,\"#fdca26\"],[1.0,\"#f0f921\"]]},\"colorway\":[\"#636efa\",\"#EF553B\",\"#00cc96\",\"#ab63fa\",\"#FFA15A\",\"#19d3f3\",\"#FF6692\",\"#B6E880\",\"#FF97FF\",\"#FECB52\"],\"font\":{\"color\":\"#2a3f5f\"},\"geo\":{\"bgcolor\":\"white\",\"lakecolor\":\"white\",\"landcolor\":\"#E5ECF6\",\"showlakes\":true,\"showland\":true,\"subunitcolor\":\"white\"},\"hoverlabel\":{\"align\":\"left\"},\"hovermode\":\"closest\",\"mapbox\":{\"style\":\"light\"},\"paper_bgcolor\":\"white\",\"plot_bgcolor\":\"#E5ECF6\",\"polar\":{\"angularaxis\":{\"gridcolor\":\"white\",\"linecolor\":\"white\",\"ticks\":\"\"},\"bgcolor\":\"#E5ECF6\",\"radialaxis\":{\"gridcolor\":\"white\",\"linecolor\":\"white\",\"ticks\":\"\"}},\"scene\":{\"xaxis\":{\"backgroundcolor\":\"#E5ECF6\",\"gridcolor\":\"white\",\"gridwidth\":2,\"linecolor\":\"white\",\"showbackground\":true,\"ticks\":\"\",\"zerolinecolor\":\"white\"},\"yaxis\":{\"backgroundcolor\":\"#E5ECF6\",\"gridcolor\":\"white\",\"gridwidth\":2,\"linecolor\":\"white\",\"showbackground\":true,\"ticks\":\"\",\"zerolinecolor\":\"white\"},\"zaxis\":{\"backgroundcolor\":\"#E5ECF6\",\"gridcolor\":\"white\",\"gridwidth\":2,\"linecolor\":\"white\",\"showbackground\":true,\"ticks\":\"\",\"zerolinecolor\":\"white\"}},\"shapedefaults\":{\"line\":{\"color\":\"#2a3f5f\"}},\"ternary\":{\"aaxis\":{\"gridcolor\":\"white\",\"linecolor\":\"white\",\"ticks\":\"\"},\"baxis\":{\"gridcolor\":\"white\",\"linecolor\":\"white\",\"ticks\":\"\"},\"bgcolor\":\"#E5ECF6\",\"caxis\":{\"gridcolor\":\"white\",\"linecolor\":\"white\",\"ticks\":\"\"}},\"title\":{\"x\":0.05},\"xaxis\":{\"automargin\":true,\"gridcolor\":\"white\",\"linecolor\":\"white\",\"ticks\":\"\",\"title\":{\"standoff\":15},\"zerolinecolor\":\"white\",\"zerolinewidth\":2},\"yaxis\":{\"automargin\":true,\"gridcolor\":\"white\",\"linecolor\":\"white\",\"ticks\":\"\",\"title\":{\"standoff\":15},\"zerolinecolor\":\"white\",\"zerolinewidth\":2}}},\"font\":{\"size\":13,\"color\":\"#333333\",\"family\":\"Arial\"},\"hovermode\":\"x\",\"title\":{\"text\":\"Leverage tech_app goals\"},\"height\":500,\"width\":700},                        {\"responsive\": true}                    ).then(function(){\n",
              "                            \n",
              "var gd = document.getElementById('d83b2aec-06e0-4ee7-bb98-64b3d90b04eb');\n",
              "var x = new MutationObserver(function (mutations, observer) {{\n",
              "        var display = window.getComputedStyle(gd).display;\n",
              "        if (!display || display === 'none') {{\n",
              "            console.log([gd, 'removed!']);\n",
              "            Plotly.purge(gd);\n",
              "            observer.disconnect();\n",
              "        }}\n",
              "}});\n",
              "\n",
              "// Listen for the removal of the full notebook cells\n",
              "var notebookContainer = gd.closest('#notebook-container');\n",
              "if (notebookContainer) {{\n",
              "    x.observe(notebookContainer, {childList: true});\n",
              "}}\n",
              "\n",
              "// Listen for the clearing of the current output cell\n",
              "var outputEl = gd.closest('.output');\n",
              "if (outputEl) {{\n",
              "    x.observe(outputEl, {childList: true});\n",
              "}}\n",
              "\n",
              "                        })                };                            </script>        </div>\n",
              "</body>\n",
              "</html>"
            ]
          },
          "metadata": {}
        },
        {
          "output_type": "stream",
          "name": "stdout",
          "text": [
            "[None, 'Emotion recognition', 'Sentiment analysis', 'Text games', 'Dialog system', 'N2F', 'KG Completion / link prediction', None, 'Relation extraction', 'Image captioning', 'Opnion extraction', 'Annotation', 'Reading comprehension', 'Text classification', 'Causal Reasoning', 'Question answering', 'Decision support', 'Argumentation mining', 'Language modeling', 'Information extraction', 'Entity Resolution', 'Text summarization', None, None, None, None, None, None, None, None, None, None, None, None, None, None, None, None, None, None, None, None, None, None, None, 'leverages natural language structure', 'leverages relational structure', None, None, None, None, None, None, None, None, None, None, None, None, None, None, None, None, None, None, None, None, None, None, None, None, None, None, None, None, None, None, None, None, None, None, None, None, None, None, None, None, None, None, None, None, None, None, None, None, None, None, None, None, None, None, None, None, None, None, None, None, None, None, None, None, None, None, None, None, None, None, None, None, None, None, None, None, None, None, None, None, None, None, None, None, None, None, None, None, None, None, None, None, None, None, None, None, None, None, None, None, None, None, None]\n",
            "<class 'list'>\n"
          ]
        },
        {
          "output_type": "display_data",
          "data": {
            "text/html": [
              "<html>\n",
              "<head><meta charset=\"utf-8\" /></head>\n",
              "<body>\n",
              "    <div>            <script src=\"https://cdnjs.cloudflare.com/ajax/libs/mathjax/2.7.5/MathJax.js?config=TeX-AMS-MML_SVG\"></script><script type=\"text/javascript\">if (window.MathJax) {MathJax.Hub.Config({SVG: {font: \"STIX-Web\"}});}</script>                <script type=\"text/javascript\">window.PlotlyConfig = {MathJaxConfig: 'local'};</script>\n",
              "        <script src=\"https://cdn.plot.ly/plotly-2.8.3.min.js\"></script>                <div id=\"0d4afbad-8136-48dc-810a-ca3c0adda99d\" class=\"plotly-graph-div\" style=\"height:500px; width:700px;\"></div>            <script type=\"text/javascript\">                                    window.PLOTLYENV=window.PLOTLYENV || {};                                    if (document.getElementById(\"0d4afbad-8136-48dc-810a-ca3c0adda99d\")) {                    Plotly.newPlot(                        \"0d4afbad-8136-48dc-810a-ca3c0adda99d\",                        [{\"link\":{\"color\":[\"#57bcd6\",\"#450256\",\"#57bcd6\",\"#57bcd6\",\"#450256\",\"#450256\",\"#57bcd6\",\"#450256\",\"#57bcd6\",\"#450256\",\"#57bcd6\",\"#450256\",\"#450256\",\"#450256\",\"#57bcd6\",\"#450256\",\"#57bcd6\",\"#450256\",\"#450256\",\"#57bcd6\",\"#450256\",\"#450256\",\"#450256\",\"#450256\",\"#450256\",\"#57bcd6\",\"#450256\",\"#450256\",\"#57bcd6\",\"#57bcd6\",\"#57bcd6\",\"#450256\",\"#57bcd6\",\"#450256\",\"#57bcd6\",\"#57bcd6\",\"#450256\",\"#57bcd6\",\"#450256\",\"#57bcd6\",\"#57bcd6\",\"#57bcd6\",\"#450256\",\"#57bcd6\",\"#57bcd6\",\"#57bcd6\",\"#57bcd6\",\"#450256\",\"#57bcd6\",\"#450256\",\"#450256\",\"#450256\",\"#57bcd6\",\"#450256\",\"#450256\",\"#450256\",\"#450256\",\"#57bcd6\",\"#450256\"],\"source\":[\"46\",\"45\",\"46\",\"46\",\"45\",\"45\",\"46\",\"45\",\"46\",\"45\",\"46\",\"45\",\"45\",\"45\",\"46\",\"45\",\"46\",\"45\",\"45\",\"46\",\"45\",\"45\",\"45\",\"45\",\"45\",\"46\",\"45\",\"45\",\"46\",\"46\",\"46\",\"45\",\"46\",\"45\",\"46\",\"46\",\"45\",\"46\",\"45\",\"46\",\"46\",\"46\",\"45\",\"46\",\"46\",\"46\",\"46\",\"45\",\"46\",\"45\",\"45\",\"45\",\"46\",\"45\",\"45\",\"45\",\"45\",\"46\",\"45\"],\"target\":[\"18\",\"17\",\"17\",\"19\",\"11\",\"14\",\"15\",\"15\",\"15\",\"3\",\"3\",\"15\",\"19\",\"21\",\"21\",\"16\",\"16\",\"12\",\"12\",\"12\",\"1\",\"14\",\"13\",\"10\",\"12\",\"12\",\"5\",\"8\",\"8\",\"6\",\"4\",\"6\",\"20\",\"13\",\"6\",\"6\",\"6\",\"6\",\"13\",\"13\",\"15\",\"16\",\"2\",\"2\",\"4\",\"15\",\"13\",\"13\",\"13\",\"2\",\"2\",\"14\",\"8\",\"11\",\"15\",\"9\",\"5\",\"5\",\"5\"],\"value\":[\"0.9999999999\",\"0.499999999975\",\"0.499999999975\",\"0.9999999999\",\"0.9999999999\",\"0.9999999999\",\"0.9999999999\",\"0.499999999975\",\"0.499999999975\",\"0.499999999975\",\"0.499999999975\",\"0.9999999999\",\"0.9999999999\",\"0.499999999975\",\"0.499999999975\",\"0.499999999975\",\"0.499999999975\",\"0.9999999999\",\"0.499999999975\",\"0.499999999975\",\"0.9999999999\",\"0.9999999999\",\"0.9999999999\",\"0.9999999999\",\"0.499999999975\",\"0.499999999975\",\"0.9999999999\",\"0.499999999975\",\"0.499999999975\",\"0.9999999999\",\"0.9999999999\",\"0.9999999999\",\"0.9999999999\",\"0.9999999999\",\"0.9999999999\",\"0.9999999999\",\"0.499999999975\",\"0.499999999975\",\"0.499999999975\",\"0.499999999975\",\"0.9999999999\",\"0.9999999999\",\"0.499999999975\",\"0.499999999975\",\"0.9999999999\",\"0.9999999999\",\"0.9999999999\",\"0.499999999975\",\"0.499999999975\",\"0.9999999999\",\"0.9999999999\",\"0.9999999999\",\"0.9999999999\",\"0.9999999999\",\"0.9999999999\",\"0.9999999999\",\"0.499999999975\",\"0.499999999975\",\"0.9999999999\"]},\"node\":{\"color\":\"#333333\",\"label\":[\"None\",\"Emotion recognition\",\"Sentiment analysis\",\"Text games\",\"Dialog system\",\"N2f\",\"Kg completion / link prediction\",\"None\",\"Relation extraction\",\"Image captioning\",\"Opnion extraction\",\"Annotation\",\"Reading comprehension\",\"Text classification\",\"Causal reasoning\",\"Question answering\",\"Decision support\",\"Argumentation mining\",\"Language modeling\",\"Information extraction\",\"Entity resolution\",\"Text summarization\",\"None\",\"None\",\"None\",\"None\",\"None\",\"None\",\"None\",\"None\",\"None\",\"None\",\"None\",\"None\",\"None\",\"None\",\"None\",\"None\",\"None\",\"None\",\"None\",\"None\",\"None\",\"None\",\"None\",\"Leverages natural language structure\",\"Leverages relational structure\",\"None\",\"None\",\"None\",\"None\",\"OOD\",\"None\",\"None\",\"None\",\"None\",\"None\",\"None\",\"None\",\"None\",\"None\",\"None\",\"None\",\"None\",\"None\",\"None\",\"None\",\"None\",\"None\",\"None\",\"None\",\"None\",\"None\",\"None\",\"None\",\"None\",\"None\",\"None\",\"None\",\"None\",\"None\",\"None\",\"None\",\"None\",\"None\",\"None\",\"None\",\"None\",\"None\",\"None\",\"None\",\"None\",\"None\",\"None\",\"None\",\"None\",\"None\",\"None\",\"None\",\"None\",\"None\",\"None\",\"None\",\"None\",\"None\",\"None\",\"None\",\"None\",\"None\",\"None\",\"None\",\"None\",\"None\",\"None\",\"None\",\"None\",\"None\",\"None\",\"None\",\"None\",\"None\",\"None\",\"None\",\"None\",\"None\",\"None\",\"None\",\"None\",\"None\",\"None\",\"None\",\"None\",\"None\",\"None\",\"None\",\"None\",\"None\",\"None\",\"None\",\"None\",\"None\",\"None\",\"None\",\"None\",\"None\",\"None\",\"None\",\"None\",\"None\",\"None\"],\"pad\":25,\"thickness\":10},\"type\":\"sankey\"}],                        {\"template\":{\"data\":{\"bar\":[{\"error_x\":{\"color\":\"#2a3f5f\"},\"error_y\":{\"color\":\"#2a3f5f\"},\"marker\":{\"line\":{\"color\":\"#E5ECF6\",\"width\":0.5},\"pattern\":{\"fillmode\":\"overlay\",\"size\":10,\"solidity\":0.2}},\"type\":\"bar\"}],\"barpolar\":[{\"marker\":{\"line\":{\"color\":\"#E5ECF6\",\"width\":0.5},\"pattern\":{\"fillmode\":\"overlay\",\"size\":10,\"solidity\":0.2}},\"type\":\"barpolar\"}],\"carpet\":[{\"aaxis\":{\"endlinecolor\":\"#2a3f5f\",\"gridcolor\":\"white\",\"linecolor\":\"white\",\"minorgridcolor\":\"white\",\"startlinecolor\":\"#2a3f5f\"},\"baxis\":{\"endlinecolor\":\"#2a3f5f\",\"gridcolor\":\"white\",\"linecolor\":\"white\",\"minorgridcolor\":\"white\",\"startlinecolor\":\"#2a3f5f\"},\"type\":\"carpet\"}],\"choropleth\":[{\"colorbar\":{\"outlinewidth\":0,\"ticks\":\"\"},\"type\":\"choropleth\"}],\"contour\":[{\"colorbar\":{\"outlinewidth\":0,\"ticks\":\"\"},\"colorscale\":[[0.0,\"#0d0887\"],[0.1111111111111111,\"#46039f\"],[0.2222222222222222,\"#7201a8\"],[0.3333333333333333,\"#9c179e\"],[0.4444444444444444,\"#bd3786\"],[0.5555555555555556,\"#d8576b\"],[0.6666666666666666,\"#ed7953\"],[0.7777777777777778,\"#fb9f3a\"],[0.8888888888888888,\"#fdca26\"],[1.0,\"#f0f921\"]],\"type\":\"contour\"}],\"contourcarpet\":[{\"colorbar\":{\"outlinewidth\":0,\"ticks\":\"\"},\"type\":\"contourcarpet\"}],\"heatmap\":[{\"colorbar\":{\"outlinewidth\":0,\"ticks\":\"\"},\"colorscale\":[[0.0,\"#0d0887\"],[0.1111111111111111,\"#46039f\"],[0.2222222222222222,\"#7201a8\"],[0.3333333333333333,\"#9c179e\"],[0.4444444444444444,\"#bd3786\"],[0.5555555555555556,\"#d8576b\"],[0.6666666666666666,\"#ed7953\"],[0.7777777777777778,\"#fb9f3a\"],[0.8888888888888888,\"#fdca26\"],[1.0,\"#f0f921\"]],\"type\":\"heatmap\"}],\"heatmapgl\":[{\"colorbar\":{\"outlinewidth\":0,\"ticks\":\"\"},\"colorscale\":[[0.0,\"#0d0887\"],[0.1111111111111111,\"#46039f\"],[0.2222222222222222,\"#7201a8\"],[0.3333333333333333,\"#9c179e\"],[0.4444444444444444,\"#bd3786\"],[0.5555555555555556,\"#d8576b\"],[0.6666666666666666,\"#ed7953\"],[0.7777777777777778,\"#fb9f3a\"],[0.8888888888888888,\"#fdca26\"],[1.0,\"#f0f921\"]],\"type\":\"heatmapgl\"}],\"histogram\":[{\"marker\":{\"pattern\":{\"fillmode\":\"overlay\",\"size\":10,\"solidity\":0.2}},\"type\":\"histogram\"}],\"histogram2d\":[{\"colorbar\":{\"outlinewidth\":0,\"ticks\":\"\"},\"colorscale\":[[0.0,\"#0d0887\"],[0.1111111111111111,\"#46039f\"],[0.2222222222222222,\"#7201a8\"],[0.3333333333333333,\"#9c179e\"],[0.4444444444444444,\"#bd3786\"],[0.5555555555555556,\"#d8576b\"],[0.6666666666666666,\"#ed7953\"],[0.7777777777777778,\"#fb9f3a\"],[0.8888888888888888,\"#fdca26\"],[1.0,\"#f0f921\"]],\"type\":\"histogram2d\"}],\"histogram2dcontour\":[{\"colorbar\":{\"outlinewidth\":0,\"ticks\":\"\"},\"colorscale\":[[0.0,\"#0d0887\"],[0.1111111111111111,\"#46039f\"],[0.2222222222222222,\"#7201a8\"],[0.3333333333333333,\"#9c179e\"],[0.4444444444444444,\"#bd3786\"],[0.5555555555555556,\"#d8576b\"],[0.6666666666666666,\"#ed7953\"],[0.7777777777777778,\"#fb9f3a\"],[0.8888888888888888,\"#fdca26\"],[1.0,\"#f0f921\"]],\"type\":\"histogram2dcontour\"}],\"mesh3d\":[{\"colorbar\":{\"outlinewidth\":0,\"ticks\":\"\"},\"type\":\"mesh3d\"}],\"parcoords\":[{\"line\":{\"colorbar\":{\"outlinewidth\":0,\"ticks\":\"\"}},\"type\":\"parcoords\"}],\"pie\":[{\"automargin\":true,\"type\":\"pie\"}],\"scatter\":[{\"marker\":{\"colorbar\":{\"outlinewidth\":0,\"ticks\":\"\"}},\"type\":\"scatter\"}],\"scatter3d\":[{\"line\":{\"colorbar\":{\"outlinewidth\":0,\"ticks\":\"\"}},\"marker\":{\"colorbar\":{\"outlinewidth\":0,\"ticks\":\"\"}},\"type\":\"scatter3d\"}],\"scattercarpet\":[{\"marker\":{\"colorbar\":{\"outlinewidth\":0,\"ticks\":\"\"}},\"type\":\"scattercarpet\"}],\"scattergeo\":[{\"marker\":{\"colorbar\":{\"outlinewidth\":0,\"ticks\":\"\"}},\"type\":\"scattergeo\"}],\"scattergl\":[{\"marker\":{\"colorbar\":{\"outlinewidth\":0,\"ticks\":\"\"}},\"type\":\"scattergl\"}],\"scattermapbox\":[{\"marker\":{\"colorbar\":{\"outlinewidth\":0,\"ticks\":\"\"}},\"type\":\"scattermapbox\"}],\"scatterpolar\":[{\"marker\":{\"colorbar\":{\"outlinewidth\":0,\"ticks\":\"\"}},\"type\":\"scatterpolar\"}],\"scatterpolargl\":[{\"marker\":{\"colorbar\":{\"outlinewidth\":0,\"ticks\":\"\"}},\"type\":\"scatterpolargl\"}],\"scatterternary\":[{\"marker\":{\"colorbar\":{\"outlinewidth\":0,\"ticks\":\"\"}},\"type\":\"scatterternary\"}],\"surface\":[{\"colorbar\":{\"outlinewidth\":0,\"ticks\":\"\"},\"colorscale\":[[0.0,\"#0d0887\"],[0.1111111111111111,\"#46039f\"],[0.2222222222222222,\"#7201a8\"],[0.3333333333333333,\"#9c179e\"],[0.4444444444444444,\"#bd3786\"],[0.5555555555555556,\"#d8576b\"],[0.6666666666666666,\"#ed7953\"],[0.7777777777777778,\"#fb9f3a\"],[0.8888888888888888,\"#fdca26\"],[1.0,\"#f0f921\"]],\"type\":\"surface\"}],\"table\":[{\"cells\":{\"fill\":{\"color\":\"#EBF0F8\"},\"line\":{\"color\":\"white\"}},\"header\":{\"fill\":{\"color\":\"#C8D4E3\"},\"line\":{\"color\":\"white\"}},\"type\":\"table\"}]},\"layout\":{\"annotationdefaults\":{\"arrowcolor\":\"#2a3f5f\",\"arrowhead\":0,\"arrowwidth\":1},\"autotypenumbers\":\"strict\",\"coloraxis\":{\"colorbar\":{\"outlinewidth\":0,\"ticks\":\"\"}},\"colorscale\":{\"diverging\":[[0,\"#8e0152\"],[0.1,\"#c51b7d\"],[0.2,\"#de77ae\"],[0.3,\"#f1b6da\"],[0.4,\"#fde0ef\"],[0.5,\"#f7f7f7\"],[0.6,\"#e6f5d0\"],[0.7,\"#b8e186\"],[0.8,\"#7fbc41\"],[0.9,\"#4d9221\"],[1,\"#276419\"]],\"sequential\":[[0.0,\"#0d0887\"],[0.1111111111111111,\"#46039f\"],[0.2222222222222222,\"#7201a8\"],[0.3333333333333333,\"#9c179e\"],[0.4444444444444444,\"#bd3786\"],[0.5555555555555556,\"#d8576b\"],[0.6666666666666666,\"#ed7953\"],[0.7777777777777778,\"#fb9f3a\"],[0.8888888888888888,\"#fdca26\"],[1.0,\"#f0f921\"]],\"sequentialminus\":[[0.0,\"#0d0887\"],[0.1111111111111111,\"#46039f\"],[0.2222222222222222,\"#7201a8\"],[0.3333333333333333,\"#9c179e\"],[0.4444444444444444,\"#bd3786\"],[0.5555555555555556,\"#d8576b\"],[0.6666666666666666,\"#ed7953\"],[0.7777777777777778,\"#fb9f3a\"],[0.8888888888888888,\"#fdca26\"],[1.0,\"#f0f921\"]]},\"colorway\":[\"#636efa\",\"#EF553B\",\"#00cc96\",\"#ab63fa\",\"#FFA15A\",\"#19d3f3\",\"#FF6692\",\"#B6E880\",\"#FF97FF\",\"#FECB52\"],\"font\":{\"color\":\"#2a3f5f\"},\"geo\":{\"bgcolor\":\"white\",\"lakecolor\":\"white\",\"landcolor\":\"#E5ECF6\",\"showlakes\":true,\"showland\":true,\"subunitcolor\":\"white\"},\"hoverlabel\":{\"align\":\"left\"},\"hovermode\":\"closest\",\"mapbox\":{\"style\":\"light\"},\"paper_bgcolor\":\"white\",\"plot_bgcolor\":\"#E5ECF6\",\"polar\":{\"angularaxis\":{\"gridcolor\":\"white\",\"linecolor\":\"white\",\"ticks\":\"\"},\"bgcolor\":\"#E5ECF6\",\"radialaxis\":{\"gridcolor\":\"white\",\"linecolor\":\"white\",\"ticks\":\"\"}},\"scene\":{\"xaxis\":{\"backgroundcolor\":\"#E5ECF6\",\"gridcolor\":\"white\",\"gridwidth\":2,\"linecolor\":\"white\",\"showbackground\":true,\"ticks\":\"\",\"zerolinecolor\":\"white\"},\"yaxis\":{\"backgroundcolor\":\"#E5ECF6\",\"gridcolor\":\"white\",\"gridwidth\":2,\"linecolor\":\"white\",\"showbackground\":true,\"ticks\":\"\",\"zerolinecolor\":\"white\"},\"zaxis\":{\"backgroundcolor\":\"#E5ECF6\",\"gridcolor\":\"white\",\"gridwidth\":2,\"linecolor\":\"white\",\"showbackground\":true,\"ticks\":\"\",\"zerolinecolor\":\"white\"}},\"shapedefaults\":{\"line\":{\"color\":\"#2a3f5f\"}},\"ternary\":{\"aaxis\":{\"gridcolor\":\"white\",\"linecolor\":\"white\",\"ticks\":\"\"},\"baxis\":{\"gridcolor\":\"white\",\"linecolor\":\"white\",\"ticks\":\"\"},\"bgcolor\":\"#E5ECF6\",\"caxis\":{\"gridcolor\":\"white\",\"linecolor\":\"white\",\"ticks\":\"\"}},\"title\":{\"x\":0.05},\"xaxis\":{\"automargin\":true,\"gridcolor\":\"white\",\"linecolor\":\"white\",\"ticks\":\"\",\"title\":{\"standoff\":15},\"zerolinecolor\":\"white\",\"zerolinewidth\":2},\"yaxis\":{\"automargin\":true,\"gridcolor\":\"white\",\"linecolor\":\"white\",\"ticks\":\"\",\"title\":{\"standoff\":15},\"zerolinecolor\":\"white\",\"zerolinewidth\":2}}},\"font\":{\"size\":13,\"color\":\"#333333\",\"family\":\"Arial\"},\"hovermode\":\"x\",\"title\":{\"text\":\"Leverage biz_case\"},\"height\":500,\"width\":700},                        {\"responsive\": true}                    ).then(function(){\n",
              "                            \n",
              "var gd = document.getElementById('0d4afbad-8136-48dc-810a-ca3c0adda99d');\n",
              "var x = new MutationObserver(function (mutations, observer) {{\n",
              "        var display = window.getComputedStyle(gd).display;\n",
              "        if (!display || display === 'none') {{\n",
              "            console.log([gd, 'removed!']);\n",
              "            Plotly.purge(gd);\n",
              "            observer.disconnect();\n",
              "        }}\n",
              "}});\n",
              "\n",
              "// Listen for the removal of the full notebook cells\n",
              "var notebookContainer = gd.closest('#notebook-container');\n",
              "if (notebookContainer) {{\n",
              "    x.observe(notebookContainer, {childList: true});\n",
              "}}\n",
              "\n",
              "// Listen for the clearing of the current output cell\n",
              "var outputEl = gd.closest('.output');\n",
              "if (outputEl) {{\n",
              "    x.observe(outputEl, {childList: true});\n",
              "}}\n",
              "\n",
              "                        })                };                            </script>        </div>\n",
              "</body>\n",
              "</html>"
            ]
          },
          "metadata": {}
        },
        {
          "output_type": "stream",
          "name": "stdout",
          "text": [
            "[None, 'Emotion recognition', 'Sentiment analysis', 'Text games', 'Dialog system', 'N2F', 'KG Completion / link prediction', 'Entity Linking', 'Relation extraction', 'Image captioning', 'Opnion extraction', 'Annotation', 'Reading comprehension', 'Text classification', 'Causal Reasoning', 'Question answering', 'Decision support', 'Argumentation mining', 'Language modeling', 'Information extraction', 'Entity Resolution', 'Text summarization', None, None, None, None, None, 'semi-supervised', 'unsupervised', 'supervised', 'curriculum', 'reinforcement', None, None, None, None, None, None, None, None, None, None, None, None, None, 'leverages natural language structure', 'leverages relational structure', None, None, None, None, None, None, None, None, None, None, None, None, None, None, None, None, None, None, None, None, None, None, None, None, None, None, None, None, None, None, None, None, None, None, None, None, None, None, None, None, None, None, None, None, None, None, None, None, None, None, None, None, None, None, None, None, None, None, None, None, None, None, None, None, None, None, None, None, None, None, None, None, None, None, None, None, None, None, None, None, None, None, None, None, None, None, None, None, None, None, None, None, None, None, None, None, None, None, None, None, None, None, None]\n",
            "<class 'list'>\n"
          ]
        },
        {
          "output_type": "display_data",
          "data": {
            "text/html": [
              "<html>\n",
              "<head><meta charset=\"utf-8\" /></head>\n",
              "<body>\n",
              "    <div>            <script src=\"https://cdnjs.cloudflare.com/ajax/libs/mathjax/2.7.5/MathJax.js?config=TeX-AMS-MML_SVG\"></script><script type=\"text/javascript\">if (window.MathJax) {MathJax.Hub.Config({SVG: {font: \"STIX-Web\"}});}</script>                <script type=\"text/javascript\">window.PlotlyConfig = {MathJaxConfig: 'local'};</script>\n",
              "        <script src=\"https://cdn.plot.ly/plotly-2.8.3.min.js\"></script>                <div id=\"afd7d390-b6db-407a-b8ea-7cba845e69cb\" class=\"plotly-graph-div\" style=\"height:500px; width:700px;\"></div>            <script type=\"text/javascript\">                                    window.PLOTLYENV=window.PLOTLYENV || {};                                    if (document.getElementById(\"afd7d390-b6db-407a-b8ea-7cba845e69cb\")) {                    Plotly.newPlot(                        \"afd7d390-b6db-407a-b8ea-7cba845e69cb\",                        [{\"link\":{\"color\":[\"#57bcd6\",\"#57bcd6\",\"#57bcd6\",\"#450256\",\"#57bcd6\",\"#57bcd6\",\"#57bcd6\",\"#57bcd6\",\"#450256\",\"#450256\",\"#450256\",\"#450256\",\"#57bcd6\",\"#57bcd6\",\"#450256\",\"#57bcd6\",\"#57bcd6\",\"#450256\",\"#57bcd6\",\"#57bcd6\",\"#450256\",\"#450256\",\"#450256\",\"#450256\",\"#450256\",\"#450256\",\"#57bcd6\",\"#57bcd6\",\"#57bcd6\",\"#450256\",\"#57bcd6\",\"#57bcd6\",\"#57bcd6\",\"#450256\",\"#450256\",\"#450256\",\"#57bcd6\",\"#57bcd6\",\"#450256\",\"#450256\",\"#450256\",\"#450256\",\"#450256\",\"#450256\",\"#450256\",\"#450256\",\"#450256\",\"#57bcd6\",\"#57bcd6\",\"#450256\",\"#450256\",\"#450256\",\"#57bcd6\",\"#57bcd6\",\"#57bcd6\",\"#57bcd6\",\"#57bcd6\",\"#57bcd6\",\"#450256\",\"#450256\",\"#57bcd6\",\"#57bcd6\",\"#450256\",\"#450256\",\"#450256\",\"#57bcd6\",\"#57bcd6\",\"#57bcd6\",\"#57bcd6\",\"#450256\",\"#57bcd6\",\"#57bcd6\",\"#450256\",\"#57bcd6\",\"#57bcd6\",\"#57bcd6\",\"#57bcd6\",\"#57bcd6\",\"#57bcd6\",\"#450256\",\"#57bcd6\",\"#57bcd6\",\"#57bcd6\",\"#57bcd6\",\"#57bcd6\",\"#57bcd6\",\"#57bcd6\",\"#57bcd6\",\"#57bcd6\",\"#57bcd6\",\"#450256\",\"#57bcd6\",\"#57bcd6\",\"#450256\",\"#450256\",\"#450256\",\"#450256\",\"#450256\",\"#450256\",\"#450256\",\"#57bcd6\",\"#57bcd6\",\"#450256\",\"#450256\",\"#450256\",\"#450256\",\"#450256\",\"#450256\",\"#450256\",\"#450256\",\"#450256\",\"#450256\",\"#450256\",\"#450256\",\"#57bcd6\",\"#57bcd6\",\"#450256\",\"#450256\",\"#450256\"],\"source\":[\"46\",\"18\",\"12\",\"45\",\"46\",\"17\",\"46\",\"19\",\"45\",\"11\",\"45\",\"14\",\"46\",\"15\",\"45\",\"46\",\"15\",\"45\",\"46\",\"3\",\"45\",\"15\",\"15\",\"45\",\"19\",\"45\",\"46\",\"21\",\"12\",\"45\",\"46\",\"16\",\"7\",\"45\",\"12\",\"45\",\"46\",\"12\",\"45\",\"1\",\"45\",\"14\",\"45\",\"13\",\"45\",\"10\",\"45\",\"46\",\"12\",\"45\",\"5\",\"45\",\"46\",\"8\",\"46\",\"6\",\"46\",\"4\",\"45\",\"6\",\"46\",\"20\",\"45\",\"13\",\"2\",\"46\",\"6\",\"46\",\"6\",\"45\",\"46\",\"6\",\"45\",\"46\",\"13\",\"46\",\"15\",\"46\",\"16\",\"45\",\"46\",\"2\",\"46\",\"4\",\"46\",\"15\",\"2\",\"13\",\"46\",\"13\",\"45\",\"46\",\"13\",\"45\",\"2\",\"15\",\"45\",\"2\",\"45\",\"14\",\"46\",\"8\",\"45\",\"11\",\"15\",\"19\",\"45\",\"15\",\"15\",\"15\",\"45\",\"9\",\"13\",\"45\",\"46\",\"5\",\"45\",\"5\",\"18\"],\"target\":[\"18\",\"29\",\"29\",\"17\",\"17\",\"29\",\"19\",\"29\",\"11\",\"29\",\"14\",\"29\",\"15\",\"29\",\"15\",\"15\",\"29\",\"3\",\"3\",\"31\",\"15\",\"29\",\"27\",\"19\",\"29\",\"21\",\"21\",\"28\",\"29\",\"16\",\"16\",\"29\",\"29\",\"12\",\"29\",\"12\",\"12\",\"29\",\"1\",\"29\",\"14\",\"27\",\"13\",\"29\",\"10\",\"29\",\"12\",\"12\",\"29\",\"5\",\"29\",\"8\",\"8\",\"29\",\"6\",\"28\",\"4\",\"29\",\"6\",\"28\",\"20\",\"29\",\"13\",\"29\",\"27\",\"6\",\"29\",\"6\",\"29\",\"6\",\"6\",\"29\",\"13\",\"13\",\"29\",\"15\",\"29\",\"16\",\"29\",\"2\",\"2\",\"27\",\"4\",\"29\",\"15\",\"31\",\"29\",\"29\",\"13\",\"29\",\"13\",\"13\",\"29\",\"2\",\"29\",\"28\",\"2\",\"28\",\"14\",\"29\",\"8\",\"29\",\"11\",\"29\",\"27\",\"29\",\"15\",\"30\",\"28\",\"29\",\"9\",\"29\",\"29\",\"5\",\"5\",\"28\",\"5\",\"29\",\"29\"],\"value\":[\"0.9999999999\",\"0.9999999999\",\"0.9999999999\",\"0.499999999975\",\"0.499999999975\",\"0.9999999999\",\"0.9999999999\",\"0.9999999999\",\"0.9999999999\",\"0.9999999999\",\"0.9999999999\",\"0.9999999999\",\"0.9999999999\",\"0.9999999999\",\"0.499999999975\",\"0.499999999975\",\"0.9999999999\",\"0.499999999975\",\"0.499999999975\",\"0.9999999999\",\"0.9999999999\",\"0.9999999999\",\"0.9999999999\",\"0.9999999999\",\"0.9999999999\",\"0.499999999975\",\"0.499999999975\",\"0.9999999999\",\"0.9999999999\",\"0.499999999975\",\"0.499999999975\",\"0.9999999999\",\"0.9999999999\",\"0.9999999999\",\"0.9999999999\",\"0.499999999975\",\"0.499999999975\",\"0.9999999999\",\"0.9999999999\",\"0.9999999999\",\"0.9999999999\",\"0.9999999999\",\"0.9999999999\",\"0.9999999999\",\"0.9999999999\",\"0.9999999999\",\"0.499999999975\",\"0.499999999975\",\"0.9999999999\",\"0.9999999999\",\"0.9999999999\",\"0.499999999975\",\"0.499999999975\",\"0.9999999999\",\"0.9999999999\",\"0.9999999999\",\"0.9999999999\",\"0.9999999999\",\"0.9999999999\",\"0.9999999999\",\"0.9999999999\",\"0.9999999999\",\"0.9999999999\",\"0.9999999999\",\"0.9999999999\",\"0.9999999999\",\"0.9999999999\",\"0.9999999999\",\"0.9999999999\",\"0.499999999975\",\"0.499999999975\",\"0.9999999999\",\"0.499999999975\",\"0.499999999975\",\"0.9999999999\",\"0.9999999999\",\"0.9999999999\",\"0.9999999999\",\"0.9999999999\",\"0.499999999975\",\"0.499999999975\",\"0.9999999999\",\"0.9999999999\",\"0.9999999999\",\"0.9999999999\",\"0.9999999999\",\"0.9999999999\",\"0.9999999999\",\"0.9999999999\",\"0.9999999999\",\"0.499999999975\",\"0.499999999975\",\"0.9999999999\",\"0.9999999999\",\"0.9999999999\",\"0.9999999999\",\"0.9999999999\",\"0.9999999999\",\"0.9999999999\",\"0.9999999999\",\"0.9999999999\",\"0.9999999999\",\"0.9999999999\",\"0.9999999999\",\"0.9999999999\",\"0.9999999999\",\"0.9999999999\",\"0.499999999975\",\"0.499999999975\",\"0.9999999999\",\"0.9999999999\",\"0.9999999999\",\"0.9999999999\",\"0.499999999975\",\"0.499999999975\",\"0.9999999999\",\"0.9999999999\",\"0.9999999999\",\"0.9999999999\"]},\"node\":{\"color\":\"#333333\",\"label\":[\"None\",\"Emotion recognition\",\"Sentiment analysis\",\"Text games\",\"Dialog system\",\"N2f\",\"Kg completion / link prediction\",\"Entity linking\",\"Relation extraction\",\"Image captioning\",\"Opnion extraction\",\"Annotation\",\"Reading comprehension\",\"Text classification\",\"Causal reasoning\",\"Question answering\",\"Decision support\",\"Argumentation mining\",\"Language modeling\",\"Information extraction\",\"Entity resolution\",\"Text summarization\",\"None\",\"None\",\"None\",\"None\",\"None\",\"Semi-supervised\",\"Unsupervised\",\"Supervised\",\"Curriculum\",\"Reinforcement\",\"None\",\"None\",\"None\",\"None\",\"None\",\"None\",\"None\",\"None\",\"None\",\"None\",\"None\",\"None\",\"None\",\"Leverages natural language structure\",\"Leverages relational structure\",\"None\",\"None\",\"None\",\"None\",\"OOD\",\"None\",\"None\",\"None\",\"None\",\"None\",\"None\",\"None\",\"None\",\"None\",\"None\",\"None\",\"None\",\"None\",\"None\",\"None\",\"None\",\"None\",\"None\",\"None\",\"None\",\"None\",\"None\",\"None\",\"None\",\"None\",\"None\",\"None\",\"None\",\"None\",\"None\",\"None\",\"None\",\"None\",\"None\",\"None\",\"None\",\"None\",\"None\",\"None\",\"None\",\"None\",\"None\",\"None\",\"None\",\"None\",\"None\",\"None\",\"None\",\"None\",\"None\",\"None\",\"None\",\"None\",\"None\",\"None\",\"None\",\"None\",\"None\",\"None\",\"None\",\"None\",\"None\",\"None\",\"None\",\"None\",\"None\",\"None\",\"None\",\"None\",\"None\",\"None\",\"None\",\"None\",\"None\",\"None\",\"None\",\"None\",\"None\",\"None\",\"None\",\"None\",\"None\",\"None\",\"None\",\"None\",\"None\",\"None\",\"None\",\"None\",\"None\",\"None\",\"None\",\"None\",\"None\",\"None\",\"None\",\"None\",\"None\"],\"pad\":25,\"thickness\":10},\"type\":\"sankey\"}],                        {\"template\":{\"data\":{\"bar\":[{\"error_x\":{\"color\":\"#2a3f5f\"},\"error_y\":{\"color\":\"#2a3f5f\"},\"marker\":{\"line\":{\"color\":\"#E5ECF6\",\"width\":0.5},\"pattern\":{\"fillmode\":\"overlay\",\"size\":10,\"solidity\":0.2}},\"type\":\"bar\"}],\"barpolar\":[{\"marker\":{\"line\":{\"color\":\"#E5ECF6\",\"width\":0.5},\"pattern\":{\"fillmode\":\"overlay\",\"size\":10,\"solidity\":0.2}},\"type\":\"barpolar\"}],\"carpet\":[{\"aaxis\":{\"endlinecolor\":\"#2a3f5f\",\"gridcolor\":\"white\",\"linecolor\":\"white\",\"minorgridcolor\":\"white\",\"startlinecolor\":\"#2a3f5f\"},\"baxis\":{\"endlinecolor\":\"#2a3f5f\",\"gridcolor\":\"white\",\"linecolor\":\"white\",\"minorgridcolor\":\"white\",\"startlinecolor\":\"#2a3f5f\"},\"type\":\"carpet\"}],\"choropleth\":[{\"colorbar\":{\"outlinewidth\":0,\"ticks\":\"\"},\"type\":\"choropleth\"}],\"contour\":[{\"colorbar\":{\"outlinewidth\":0,\"ticks\":\"\"},\"colorscale\":[[0.0,\"#0d0887\"],[0.1111111111111111,\"#46039f\"],[0.2222222222222222,\"#7201a8\"],[0.3333333333333333,\"#9c179e\"],[0.4444444444444444,\"#bd3786\"],[0.5555555555555556,\"#d8576b\"],[0.6666666666666666,\"#ed7953\"],[0.7777777777777778,\"#fb9f3a\"],[0.8888888888888888,\"#fdca26\"],[1.0,\"#f0f921\"]],\"type\":\"contour\"}],\"contourcarpet\":[{\"colorbar\":{\"outlinewidth\":0,\"ticks\":\"\"},\"type\":\"contourcarpet\"}],\"heatmap\":[{\"colorbar\":{\"outlinewidth\":0,\"ticks\":\"\"},\"colorscale\":[[0.0,\"#0d0887\"],[0.1111111111111111,\"#46039f\"],[0.2222222222222222,\"#7201a8\"],[0.3333333333333333,\"#9c179e\"],[0.4444444444444444,\"#bd3786\"],[0.5555555555555556,\"#d8576b\"],[0.6666666666666666,\"#ed7953\"],[0.7777777777777778,\"#fb9f3a\"],[0.8888888888888888,\"#fdca26\"],[1.0,\"#f0f921\"]],\"type\":\"heatmap\"}],\"heatmapgl\":[{\"colorbar\":{\"outlinewidth\":0,\"ticks\":\"\"},\"colorscale\":[[0.0,\"#0d0887\"],[0.1111111111111111,\"#46039f\"],[0.2222222222222222,\"#7201a8\"],[0.3333333333333333,\"#9c179e\"],[0.4444444444444444,\"#bd3786\"],[0.5555555555555556,\"#d8576b\"],[0.6666666666666666,\"#ed7953\"],[0.7777777777777778,\"#fb9f3a\"],[0.8888888888888888,\"#fdca26\"],[1.0,\"#f0f921\"]],\"type\":\"heatmapgl\"}],\"histogram\":[{\"marker\":{\"pattern\":{\"fillmode\":\"overlay\",\"size\":10,\"solidity\":0.2}},\"type\":\"histogram\"}],\"histogram2d\":[{\"colorbar\":{\"outlinewidth\":0,\"ticks\":\"\"},\"colorscale\":[[0.0,\"#0d0887\"],[0.1111111111111111,\"#46039f\"],[0.2222222222222222,\"#7201a8\"],[0.3333333333333333,\"#9c179e\"],[0.4444444444444444,\"#bd3786\"],[0.5555555555555556,\"#d8576b\"],[0.6666666666666666,\"#ed7953\"],[0.7777777777777778,\"#fb9f3a\"],[0.8888888888888888,\"#fdca26\"],[1.0,\"#f0f921\"]],\"type\":\"histogram2d\"}],\"histogram2dcontour\":[{\"colorbar\":{\"outlinewidth\":0,\"ticks\":\"\"},\"colorscale\":[[0.0,\"#0d0887\"],[0.1111111111111111,\"#46039f\"],[0.2222222222222222,\"#7201a8\"],[0.3333333333333333,\"#9c179e\"],[0.4444444444444444,\"#bd3786\"],[0.5555555555555556,\"#d8576b\"],[0.6666666666666666,\"#ed7953\"],[0.7777777777777778,\"#fb9f3a\"],[0.8888888888888888,\"#fdca26\"],[1.0,\"#f0f921\"]],\"type\":\"histogram2dcontour\"}],\"mesh3d\":[{\"colorbar\":{\"outlinewidth\":0,\"ticks\":\"\"},\"type\":\"mesh3d\"}],\"parcoords\":[{\"line\":{\"colorbar\":{\"outlinewidth\":0,\"ticks\":\"\"}},\"type\":\"parcoords\"}],\"pie\":[{\"automargin\":true,\"type\":\"pie\"}],\"scatter\":[{\"marker\":{\"colorbar\":{\"outlinewidth\":0,\"ticks\":\"\"}},\"type\":\"scatter\"}],\"scatter3d\":[{\"line\":{\"colorbar\":{\"outlinewidth\":0,\"ticks\":\"\"}},\"marker\":{\"colorbar\":{\"outlinewidth\":0,\"ticks\":\"\"}},\"type\":\"scatter3d\"}],\"scattercarpet\":[{\"marker\":{\"colorbar\":{\"outlinewidth\":0,\"ticks\":\"\"}},\"type\":\"scattercarpet\"}],\"scattergeo\":[{\"marker\":{\"colorbar\":{\"outlinewidth\":0,\"ticks\":\"\"}},\"type\":\"scattergeo\"}],\"scattergl\":[{\"marker\":{\"colorbar\":{\"outlinewidth\":0,\"ticks\":\"\"}},\"type\":\"scattergl\"}],\"scattermapbox\":[{\"marker\":{\"colorbar\":{\"outlinewidth\":0,\"ticks\":\"\"}},\"type\":\"scattermapbox\"}],\"scatterpolar\":[{\"marker\":{\"colorbar\":{\"outlinewidth\":0,\"ticks\":\"\"}},\"type\":\"scatterpolar\"}],\"scatterpolargl\":[{\"marker\":{\"colorbar\":{\"outlinewidth\":0,\"ticks\":\"\"}},\"type\":\"scatterpolargl\"}],\"scatterternary\":[{\"marker\":{\"colorbar\":{\"outlinewidth\":0,\"ticks\":\"\"}},\"type\":\"scatterternary\"}],\"surface\":[{\"colorbar\":{\"outlinewidth\":0,\"ticks\":\"\"},\"colorscale\":[[0.0,\"#0d0887\"],[0.1111111111111111,\"#46039f\"],[0.2222222222222222,\"#7201a8\"],[0.3333333333333333,\"#9c179e\"],[0.4444444444444444,\"#bd3786\"],[0.5555555555555556,\"#d8576b\"],[0.6666666666666666,\"#ed7953\"],[0.7777777777777778,\"#fb9f3a\"],[0.8888888888888888,\"#fdca26\"],[1.0,\"#f0f921\"]],\"type\":\"surface\"}],\"table\":[{\"cells\":{\"fill\":{\"color\":\"#EBF0F8\"},\"line\":{\"color\":\"white\"}},\"header\":{\"fill\":{\"color\":\"#C8D4E3\"},\"line\":{\"color\":\"white\"}},\"type\":\"table\"}]},\"layout\":{\"annotationdefaults\":{\"arrowcolor\":\"#2a3f5f\",\"arrowhead\":0,\"arrowwidth\":1},\"autotypenumbers\":\"strict\",\"coloraxis\":{\"colorbar\":{\"outlinewidth\":0,\"ticks\":\"\"}},\"colorscale\":{\"diverging\":[[0,\"#8e0152\"],[0.1,\"#c51b7d\"],[0.2,\"#de77ae\"],[0.3,\"#f1b6da\"],[0.4,\"#fde0ef\"],[0.5,\"#f7f7f7\"],[0.6,\"#e6f5d0\"],[0.7,\"#b8e186\"],[0.8,\"#7fbc41\"],[0.9,\"#4d9221\"],[1,\"#276419\"]],\"sequential\":[[0.0,\"#0d0887\"],[0.1111111111111111,\"#46039f\"],[0.2222222222222222,\"#7201a8\"],[0.3333333333333333,\"#9c179e\"],[0.4444444444444444,\"#bd3786\"],[0.5555555555555556,\"#d8576b\"],[0.6666666666666666,\"#ed7953\"],[0.7777777777777778,\"#fb9f3a\"],[0.8888888888888888,\"#fdca26\"],[1.0,\"#f0f921\"]],\"sequentialminus\":[[0.0,\"#0d0887\"],[0.1111111111111111,\"#46039f\"],[0.2222222222222222,\"#7201a8\"],[0.3333333333333333,\"#9c179e\"],[0.4444444444444444,\"#bd3786\"],[0.5555555555555556,\"#d8576b\"],[0.6666666666666666,\"#ed7953\"],[0.7777777777777778,\"#fb9f3a\"],[0.8888888888888888,\"#fdca26\"],[1.0,\"#f0f921\"]]},\"colorway\":[\"#636efa\",\"#EF553B\",\"#00cc96\",\"#ab63fa\",\"#FFA15A\",\"#19d3f3\",\"#FF6692\",\"#B6E880\",\"#FF97FF\",\"#FECB52\"],\"font\":{\"color\":\"#2a3f5f\"},\"geo\":{\"bgcolor\":\"white\",\"lakecolor\":\"white\",\"landcolor\":\"#E5ECF6\",\"showlakes\":true,\"showland\":true,\"subunitcolor\":\"white\"},\"hoverlabel\":{\"align\":\"left\"},\"hovermode\":\"closest\",\"mapbox\":{\"style\":\"light\"},\"paper_bgcolor\":\"white\",\"plot_bgcolor\":\"#E5ECF6\",\"polar\":{\"angularaxis\":{\"gridcolor\":\"white\",\"linecolor\":\"white\",\"ticks\":\"\"},\"bgcolor\":\"#E5ECF6\",\"radialaxis\":{\"gridcolor\":\"white\",\"linecolor\":\"white\",\"ticks\":\"\"}},\"scene\":{\"xaxis\":{\"backgroundcolor\":\"#E5ECF6\",\"gridcolor\":\"white\",\"gridwidth\":2,\"linecolor\":\"white\",\"showbackground\":true,\"ticks\":\"\",\"zerolinecolor\":\"white\"},\"yaxis\":{\"backgroundcolor\":\"#E5ECF6\",\"gridcolor\":\"white\",\"gridwidth\":2,\"linecolor\":\"white\",\"showbackground\":true,\"ticks\":\"\",\"zerolinecolor\":\"white\"},\"zaxis\":{\"backgroundcolor\":\"#E5ECF6\",\"gridcolor\":\"white\",\"gridwidth\":2,\"linecolor\":\"white\",\"showbackground\":true,\"ticks\":\"\",\"zerolinecolor\":\"white\"}},\"shapedefaults\":{\"line\":{\"color\":\"#2a3f5f\"}},\"ternary\":{\"aaxis\":{\"gridcolor\":\"white\",\"linecolor\":\"white\",\"ticks\":\"\"},\"baxis\":{\"gridcolor\":\"white\",\"linecolor\":\"white\",\"ticks\":\"\"},\"bgcolor\":\"#E5ECF6\",\"caxis\":{\"gridcolor\":\"white\",\"linecolor\":\"white\",\"ticks\":\"\"}},\"title\":{\"x\":0.05},\"xaxis\":{\"automargin\":true,\"gridcolor\":\"white\",\"linecolor\":\"white\",\"ticks\":\"\",\"title\":{\"standoff\":15},\"zerolinecolor\":\"white\",\"zerolinewidth\":2},\"yaxis\":{\"automargin\":true,\"gridcolor\":\"white\",\"linecolor\":\"white\",\"ticks\":\"\",\"title\":{\"standoff\":15},\"zerolinecolor\":\"white\",\"zerolinewidth\":2}}},\"font\":{\"size\":13,\"color\":\"#333333\",\"family\":\"Arial\"},\"hovermode\":\"x\",\"title\":{\"text\":\"Leverage biz_case learning_type\"},\"height\":500,\"width\":700},                        {\"responsive\": true}                    ).then(function(){\n",
              "                            \n",
              "var gd = document.getElementById('afd7d390-b6db-407a-b8ea-7cba845e69cb');\n",
              "var x = new MutationObserver(function (mutations, observer) {{\n",
              "        var display = window.getComputedStyle(gd).display;\n",
              "        if (!display || display === 'none') {{\n",
              "            console.log([gd, 'removed!']);\n",
              "            Plotly.purge(gd);\n",
              "            observer.disconnect();\n",
              "        }}\n",
              "}});\n",
              "\n",
              "// Listen for the removal of the full notebook cells\n",
              "var notebookContainer = gd.closest('#notebook-container');\n",
              "if (notebookContainer) {{\n",
              "    x.observe(notebookContainer, {childList: true});\n",
              "}}\n",
              "\n",
              "// Listen for the clearing of the current output cell\n",
              "var outputEl = gd.closest('.output');\n",
              "if (outputEl) {{\n",
              "    x.observe(outputEl, {childList: true});\n",
              "}}\n",
              "\n",
              "                        })                };                            </script>        </div>\n",
              "</body>\n",
              "</html>"
            ]
          },
          "metadata": {}
        }
      ]
    },
    {
      "cell_type": "code",
      "source": [
        "genSankey(generateLinks([learning_type, tech_app , goals], colors), \"Learning type tech app goals\")\n",
        "genSankey(generateLinks([biz_case, tech_app], colors), \"Business usecase to Technical Applications\")\n",
        "genSankey(generateLinks([biz_case, goals], colors), \"Business usecase to NeSy Goals\")\n",
        "genSankey(generateLinks([implicit_expilit, goals], colors), \"Reasoning type to goals\")\n",
        "genSankey(generateLinks([kr, implicit_expilit, goals], colors), \"KR, Reasoning type to goals\")\n",
        "genSankey(generateLinks([nesy_category, kautz_cat, goals], colors), \"NeSy Kautz cat to goals\")\n",
        "genSankey(generateLinks([biz_case, tech_app, goals], colors), \"Business usecase tech goals\")\n",
        "genSankey(generateLinks([learning_type, tech_app , goals], colors), \"Learning type tech app goals\")\n",
        "\n"
      ],
      "metadata": {
        "colab": {
          "base_uri": "https://localhost:8080/",
          "height": 1000
        },
        "id": "ZVHQZlCx2pl0",
        "outputId": "317bd1ab-ca90-4622-87b3-cb51beb7d7b8"
      },
      "execution_count": 229,
      "outputs": [
        {
          "output_type": "stream",
          "name": "stdout",
          "text": [
            "[None, 'Emotion recognition', 'Sentiment analysis', 'Text games', 'Dialog system', 'N2F', 'KG Completion / link prediction', 'Entity Linking', 'Relation extraction', 'Image captioning', 'Opnion extraction', 'Annotation', 'Reading comprehension', 'Text classification', 'Causal Reasoning', 'Question answering', 'Decision support', 'Argumentation mining', 'Language modeling', 'Information extraction', 'Entity Resolution', 'Text summarization', 'similarity', 'classification', 'generative', 'inference', 'information extraction', None, None, None, None, None, None, None, None, None, None, None, None, None, None, None, None, None, None, None, None, None, None, None, None, None, None, None, None, None, None, None, None, None, None, None, None, None, None, None, None, None, None, None, None, None, None, None, None, None, None, None, None, None, None, None, None, None, None, None, None, None, None, None, None, None, None, None, None, None, None, None, None, None, None, None, None, None, None, None, None, None, None, None, None, None, None, None, None, None, None, None, None, None, None, None, None, None, None, None, None, None, None, None, None, None, None, None, None, None, None, None, None, None, None, None, None, None, None, None, None, None, None, None]\n",
            "<class 'list'>\n"
          ]
        },
        {
          "output_type": "display_data",
          "data": {
            "text/html": [
              "<html>\n",
              "<head><meta charset=\"utf-8\" /></head>\n",
              "<body>\n",
              "    <div>            <script src=\"https://cdnjs.cloudflare.com/ajax/libs/mathjax/2.7.5/MathJax.js?config=TeX-AMS-MML_SVG\"></script><script type=\"text/javascript\">if (window.MathJax) {MathJax.Hub.Config({SVG: {font: \"STIX-Web\"}});}</script>                <script type=\"text/javascript\">window.PlotlyConfig = {MathJaxConfig: 'local'};</script>\n",
              "        <script src=\"https://cdn.plot.ly/plotly-2.8.3.min.js\"></script>                <div id=\"8d45de9c-dcb5-4936-bcdd-4d59d4861ac4\" class=\"plotly-graph-div\" style=\"height:500px; width:700px;\"></div>            <script type=\"text/javascript\">                                    window.PLOTLYENV=window.PLOTLYENV || {};                                    if (document.getElementById(\"8d45de9c-dcb5-4936-bcdd-4d59d4861ac4\")) {                    Plotly.newPlot(                        \"8d45de9c-dcb5-4936-bcdd-4d59d4861ac4\",                        [{\"link\":{\"color\":[\"#005d79\",\"#89b79f\",\"#296afb\",\"#450256\",\"#57bcd6\",\"#ff2f6d\",\"#2a91a7\",\"#2a91a7\",\"#89b79f\",\"#2a91a7\",\"#2a91a7\",\"#450256\",\"#89b79f\",\"#89b79f\",\"#afe979\",\"#afe979\",\"#89b79f\",\"#89b79f\",\"#450256\",\"#ff2f6d\",\"#9c4397\",\"#450256\",\"#89b79f\",\"#ff2f6d\",\"#296afb\",\"#2a91a7\",\"#9c4397\",\"#2a91a7\",\"#57bcd6\",\"#9c4397\",\"#57bcd6\",\"#2a91a7\",\"#2a91a7\",\"#2a91a7\",\"#9c4397\",\"#2a91a7\",\"#afe979\",\"#57bcd6\",\"#9c4397\",\"#2a91a7\",\"#57bcd6\",\"#9c4397\",\"#9c4397\",\"#9c4397\",\"#57bcd6\",\"#2a91a7\",\"#57bcd6\",\"#ff2f6d\",\"#296afb\",\"#57bcd6\",\"#2a91a7\",\"#450256\",\"#2a91a7\",\"#2a91a7\",\"#2a91a7\",\"#005d79\",\"#9c4397\",\"#ff2f6d\",\"#ff2f6d\",\"#005d79\"],\"source\":[\"18\",\"12\",\"17\",\"19\",\"11\",\"14\",\"15\",\"15\",\"3\",\"15\",\"15\",\"19\",\"21\",\"12\",\"16\",\"7\",\"12\",\"12\",\"1\",\"14\",\"13\",\"10\",\"12\",\"5\",\"8\",\"6\",\"4\",\"6\",\"20\",\"13\",\"2\",\"6\",\"6\",\"6\",\"13\",\"15\",\"16\",\"2\",\"4\",\"15\",\"2\",\"13\",\"13\",\"13\",\"2\",\"15\",\"2\",\"14\",\"8\",\"11\",\"15\",\"19\",\"15\",\"15\",\"15\",\"9\",\"13\",\"5\",\"5\",\"18\"],\"target\":[\"23\",\"24\",\"23\",\"26\",\"26\",\"25\",\"26\",\"25\",\"25\",\"23\",\"26\",\"23\",\"24\",\"23\",\"23\",\"26\",\"25\",\"26\",\"23\",\"23\",\"23\",\"23\",\"25\",\"25\",\"26\",\"23\",\"24\",\"23\",\"23\",\"23\",\"23\",\"25\",\"23\",\"23\",\"23\",\"25\",\"23\",\"23\",\"23\",\"25\",\"23\",\"23\",\"23\",\"23\",\"23\",\"22\",\"23\",\"23\",\"23\",\"23\",\"23\",\"23\",\"23\",\"25\",\"23\",\"24\",\"23\",\"24\",\"24\",\"24\"],\"value\":[\"0.9999999999\",\"0.9999999999\",\"0.9999999999\",\"0.9999999999\",\"0.9999999999\",\"0.9999999999\",\"0.9999999999\",\"0.9999999999\",\"0.9999999999\",\"0.9999999999\",\"0.9999999999\",\"0.9999999999\",\"0.9999999999\",\"0.9999999999\",\"0.9999999999\",\"0.9999999999\",\"0.9999999999\",\"0.9999999999\",\"0.9999999999\",\"0.9999999999\",\"0.9999999999\",\"0.9999999999\",\"0.9999999999\",\"0.9999999999\",\"0.9999999999\",\"0.9999999999\",\"0.9999999999\",\"0.9999999999\",\"0.9999999999\",\"0.9999999999\",\"0.9999999999\",\"0.9999999999\",\"0.9999999999\",\"0.9999999999\",\"0.9999999999\",\"0.9999999999\",\"0.9999999999\",\"0.9999999999\",\"0.9999999999\",\"0.9999999999\",\"0.9999999999\",\"0.9999999999\",\"0.9999999999\",\"0.9999999999\",\"0.9999999999\",\"0.9999999999\",\"0.9999999999\",\"0.9999999999\",\"0.9999999999\",\"0.9999999999\",\"0.9999999999\",\"0.9999999999\",\"0.499999999975\",\"0.499999999975\",\"0.9999999999\",\"0.9999999999\",\"0.9999999999\",\"0.9999999999\",\"0.9999999999\",\"0.9999999999\"]},\"node\":{\"color\":\"#333333\",\"label\":[\"None\",\"Emotion recognition\",\"Sentiment analysis\",\"Text games\",\"Dialog system\",\"N2f\",\"Kg completion / link prediction\",\"Entity linking\",\"Relation extraction\",\"Image captioning\",\"Opnion extraction\",\"Annotation\",\"Reading comprehension\",\"Text classification\",\"Causal reasoning\",\"Question answering\",\"Decision support\",\"Argumentation mining\",\"Language modeling\",\"Information extraction\",\"Entity resolution\",\"Text summarization\",\"Similarity\",\"Classification\",\"Generative\",\"Inference\",\"Information extraction\",\"None\",\"None\",\"None\",\"None\",\"None\",\"None\",\"None\",\"None\",\"None\",\"None\",\"None\",\"None\",\"None\",\"None\",\"None\",\"None\",\"None\",\"None\",\"None\",\"None\",\"None\",\"None\",\"None\",\"None\",\"OOD\",\"None\",\"None\",\"None\",\"None\",\"None\",\"None\",\"None\",\"None\",\"None\",\"None\",\"None\",\"None\",\"None\",\"None\",\"None\",\"None\",\"None\",\"None\",\"None\",\"None\",\"None\",\"None\",\"None\",\"None\",\"None\",\"None\",\"None\",\"None\",\"None\",\"None\",\"None\",\"None\",\"None\",\"None\",\"None\",\"None\",\"None\",\"None\",\"None\",\"None\",\"None\",\"None\",\"None\",\"None\",\"None\",\"None\",\"None\",\"None\",\"None\",\"None\",\"None\",\"None\",\"None\",\"None\",\"None\",\"None\",\"None\",\"None\",\"None\",\"None\",\"None\",\"None\",\"None\",\"None\",\"None\",\"None\",\"None\",\"None\",\"None\",\"None\",\"None\",\"None\",\"None\",\"None\",\"None\",\"None\",\"None\",\"None\",\"None\",\"None\",\"None\",\"None\",\"None\",\"None\",\"None\",\"None\",\"None\",\"None\",\"None\",\"None\",\"None\",\"None\",\"None\",\"None\",\"None\",\"None\",\"None\",\"None\"],\"pad\":25,\"thickness\":10},\"type\":\"sankey\"}],                        {\"template\":{\"data\":{\"bar\":[{\"error_x\":{\"color\":\"#2a3f5f\"},\"error_y\":{\"color\":\"#2a3f5f\"},\"marker\":{\"line\":{\"color\":\"#E5ECF6\",\"width\":0.5},\"pattern\":{\"fillmode\":\"overlay\",\"size\":10,\"solidity\":0.2}},\"type\":\"bar\"}],\"barpolar\":[{\"marker\":{\"line\":{\"color\":\"#E5ECF6\",\"width\":0.5},\"pattern\":{\"fillmode\":\"overlay\",\"size\":10,\"solidity\":0.2}},\"type\":\"barpolar\"}],\"carpet\":[{\"aaxis\":{\"endlinecolor\":\"#2a3f5f\",\"gridcolor\":\"white\",\"linecolor\":\"white\",\"minorgridcolor\":\"white\",\"startlinecolor\":\"#2a3f5f\"},\"baxis\":{\"endlinecolor\":\"#2a3f5f\",\"gridcolor\":\"white\",\"linecolor\":\"white\",\"minorgridcolor\":\"white\",\"startlinecolor\":\"#2a3f5f\"},\"type\":\"carpet\"}],\"choropleth\":[{\"colorbar\":{\"outlinewidth\":0,\"ticks\":\"\"},\"type\":\"choropleth\"}],\"contour\":[{\"colorbar\":{\"outlinewidth\":0,\"ticks\":\"\"},\"colorscale\":[[0.0,\"#0d0887\"],[0.1111111111111111,\"#46039f\"],[0.2222222222222222,\"#7201a8\"],[0.3333333333333333,\"#9c179e\"],[0.4444444444444444,\"#bd3786\"],[0.5555555555555556,\"#d8576b\"],[0.6666666666666666,\"#ed7953\"],[0.7777777777777778,\"#fb9f3a\"],[0.8888888888888888,\"#fdca26\"],[1.0,\"#f0f921\"]],\"type\":\"contour\"}],\"contourcarpet\":[{\"colorbar\":{\"outlinewidth\":0,\"ticks\":\"\"},\"type\":\"contourcarpet\"}],\"heatmap\":[{\"colorbar\":{\"outlinewidth\":0,\"ticks\":\"\"},\"colorscale\":[[0.0,\"#0d0887\"],[0.1111111111111111,\"#46039f\"],[0.2222222222222222,\"#7201a8\"],[0.3333333333333333,\"#9c179e\"],[0.4444444444444444,\"#bd3786\"],[0.5555555555555556,\"#d8576b\"],[0.6666666666666666,\"#ed7953\"],[0.7777777777777778,\"#fb9f3a\"],[0.8888888888888888,\"#fdca26\"],[1.0,\"#f0f921\"]],\"type\":\"heatmap\"}],\"heatmapgl\":[{\"colorbar\":{\"outlinewidth\":0,\"ticks\":\"\"},\"colorscale\":[[0.0,\"#0d0887\"],[0.1111111111111111,\"#46039f\"],[0.2222222222222222,\"#7201a8\"],[0.3333333333333333,\"#9c179e\"],[0.4444444444444444,\"#bd3786\"],[0.5555555555555556,\"#d8576b\"],[0.6666666666666666,\"#ed7953\"],[0.7777777777777778,\"#fb9f3a\"],[0.8888888888888888,\"#fdca26\"],[1.0,\"#f0f921\"]],\"type\":\"heatmapgl\"}],\"histogram\":[{\"marker\":{\"pattern\":{\"fillmode\":\"overlay\",\"size\":10,\"solidity\":0.2}},\"type\":\"histogram\"}],\"histogram2d\":[{\"colorbar\":{\"outlinewidth\":0,\"ticks\":\"\"},\"colorscale\":[[0.0,\"#0d0887\"],[0.1111111111111111,\"#46039f\"],[0.2222222222222222,\"#7201a8\"],[0.3333333333333333,\"#9c179e\"],[0.4444444444444444,\"#bd3786\"],[0.5555555555555556,\"#d8576b\"],[0.6666666666666666,\"#ed7953\"],[0.7777777777777778,\"#fb9f3a\"],[0.8888888888888888,\"#fdca26\"],[1.0,\"#f0f921\"]],\"type\":\"histogram2d\"}],\"histogram2dcontour\":[{\"colorbar\":{\"outlinewidth\":0,\"ticks\":\"\"},\"colorscale\":[[0.0,\"#0d0887\"],[0.1111111111111111,\"#46039f\"],[0.2222222222222222,\"#7201a8\"],[0.3333333333333333,\"#9c179e\"],[0.4444444444444444,\"#bd3786\"],[0.5555555555555556,\"#d8576b\"],[0.6666666666666666,\"#ed7953\"],[0.7777777777777778,\"#fb9f3a\"],[0.8888888888888888,\"#fdca26\"],[1.0,\"#f0f921\"]],\"type\":\"histogram2dcontour\"}],\"mesh3d\":[{\"colorbar\":{\"outlinewidth\":0,\"ticks\":\"\"},\"type\":\"mesh3d\"}],\"parcoords\":[{\"line\":{\"colorbar\":{\"outlinewidth\":0,\"ticks\":\"\"}},\"type\":\"parcoords\"}],\"pie\":[{\"automargin\":true,\"type\":\"pie\"}],\"scatter\":[{\"marker\":{\"colorbar\":{\"outlinewidth\":0,\"ticks\":\"\"}},\"type\":\"scatter\"}],\"scatter3d\":[{\"line\":{\"colorbar\":{\"outlinewidth\":0,\"ticks\":\"\"}},\"marker\":{\"colorbar\":{\"outlinewidth\":0,\"ticks\":\"\"}},\"type\":\"scatter3d\"}],\"scattercarpet\":[{\"marker\":{\"colorbar\":{\"outlinewidth\":0,\"ticks\":\"\"}},\"type\":\"scattercarpet\"}],\"scattergeo\":[{\"marker\":{\"colorbar\":{\"outlinewidth\":0,\"ticks\":\"\"}},\"type\":\"scattergeo\"}],\"scattergl\":[{\"marker\":{\"colorbar\":{\"outlinewidth\":0,\"ticks\":\"\"}},\"type\":\"scattergl\"}],\"scattermapbox\":[{\"marker\":{\"colorbar\":{\"outlinewidth\":0,\"ticks\":\"\"}},\"type\":\"scattermapbox\"}],\"scatterpolar\":[{\"marker\":{\"colorbar\":{\"outlinewidth\":0,\"ticks\":\"\"}},\"type\":\"scatterpolar\"}],\"scatterpolargl\":[{\"marker\":{\"colorbar\":{\"outlinewidth\":0,\"ticks\":\"\"}},\"type\":\"scatterpolargl\"}],\"scatterternary\":[{\"marker\":{\"colorbar\":{\"outlinewidth\":0,\"ticks\":\"\"}},\"type\":\"scatterternary\"}],\"surface\":[{\"colorbar\":{\"outlinewidth\":0,\"ticks\":\"\"},\"colorscale\":[[0.0,\"#0d0887\"],[0.1111111111111111,\"#46039f\"],[0.2222222222222222,\"#7201a8\"],[0.3333333333333333,\"#9c179e\"],[0.4444444444444444,\"#bd3786\"],[0.5555555555555556,\"#d8576b\"],[0.6666666666666666,\"#ed7953\"],[0.7777777777777778,\"#fb9f3a\"],[0.8888888888888888,\"#fdca26\"],[1.0,\"#f0f921\"]],\"type\":\"surface\"}],\"table\":[{\"cells\":{\"fill\":{\"color\":\"#EBF0F8\"},\"line\":{\"color\":\"white\"}},\"header\":{\"fill\":{\"color\":\"#C8D4E3\"},\"line\":{\"color\":\"white\"}},\"type\":\"table\"}]},\"layout\":{\"annotationdefaults\":{\"arrowcolor\":\"#2a3f5f\",\"arrowhead\":0,\"arrowwidth\":1},\"autotypenumbers\":\"strict\",\"coloraxis\":{\"colorbar\":{\"outlinewidth\":0,\"ticks\":\"\"}},\"colorscale\":{\"diverging\":[[0,\"#8e0152\"],[0.1,\"#c51b7d\"],[0.2,\"#de77ae\"],[0.3,\"#f1b6da\"],[0.4,\"#fde0ef\"],[0.5,\"#f7f7f7\"],[0.6,\"#e6f5d0\"],[0.7,\"#b8e186\"],[0.8,\"#7fbc41\"],[0.9,\"#4d9221\"],[1,\"#276419\"]],\"sequential\":[[0.0,\"#0d0887\"],[0.1111111111111111,\"#46039f\"],[0.2222222222222222,\"#7201a8\"],[0.3333333333333333,\"#9c179e\"],[0.4444444444444444,\"#bd3786\"],[0.5555555555555556,\"#d8576b\"],[0.6666666666666666,\"#ed7953\"],[0.7777777777777778,\"#fb9f3a\"],[0.8888888888888888,\"#fdca26\"],[1.0,\"#f0f921\"]],\"sequentialminus\":[[0.0,\"#0d0887\"],[0.1111111111111111,\"#46039f\"],[0.2222222222222222,\"#7201a8\"],[0.3333333333333333,\"#9c179e\"],[0.4444444444444444,\"#bd3786\"],[0.5555555555555556,\"#d8576b\"],[0.6666666666666666,\"#ed7953\"],[0.7777777777777778,\"#fb9f3a\"],[0.8888888888888888,\"#fdca26\"],[1.0,\"#f0f921\"]]},\"colorway\":[\"#636efa\",\"#EF553B\",\"#00cc96\",\"#ab63fa\",\"#FFA15A\",\"#19d3f3\",\"#FF6692\",\"#B6E880\",\"#FF97FF\",\"#FECB52\"],\"font\":{\"color\":\"#2a3f5f\"},\"geo\":{\"bgcolor\":\"white\",\"lakecolor\":\"white\",\"landcolor\":\"#E5ECF6\",\"showlakes\":true,\"showland\":true,\"subunitcolor\":\"white\"},\"hoverlabel\":{\"align\":\"left\"},\"hovermode\":\"closest\",\"mapbox\":{\"style\":\"light\"},\"paper_bgcolor\":\"white\",\"plot_bgcolor\":\"#E5ECF6\",\"polar\":{\"angularaxis\":{\"gridcolor\":\"white\",\"linecolor\":\"white\",\"ticks\":\"\"},\"bgcolor\":\"#E5ECF6\",\"radialaxis\":{\"gridcolor\":\"white\",\"linecolor\":\"white\",\"ticks\":\"\"}},\"scene\":{\"xaxis\":{\"backgroundcolor\":\"#E5ECF6\",\"gridcolor\":\"white\",\"gridwidth\":2,\"linecolor\":\"white\",\"showbackground\":true,\"ticks\":\"\",\"zerolinecolor\":\"white\"},\"yaxis\":{\"backgroundcolor\":\"#E5ECF6\",\"gridcolor\":\"white\",\"gridwidth\":2,\"linecolor\":\"white\",\"showbackground\":true,\"ticks\":\"\",\"zerolinecolor\":\"white\"},\"zaxis\":{\"backgroundcolor\":\"#E5ECF6\",\"gridcolor\":\"white\",\"gridwidth\":2,\"linecolor\":\"white\",\"showbackground\":true,\"ticks\":\"\",\"zerolinecolor\":\"white\"}},\"shapedefaults\":{\"line\":{\"color\":\"#2a3f5f\"}},\"ternary\":{\"aaxis\":{\"gridcolor\":\"white\",\"linecolor\":\"white\",\"ticks\":\"\"},\"baxis\":{\"gridcolor\":\"white\",\"linecolor\":\"white\",\"ticks\":\"\"},\"bgcolor\":\"#E5ECF6\",\"caxis\":{\"gridcolor\":\"white\",\"linecolor\":\"white\",\"ticks\":\"\"}},\"title\":{\"x\":0.05},\"xaxis\":{\"automargin\":true,\"gridcolor\":\"white\",\"linecolor\":\"white\",\"ticks\":\"\",\"title\":{\"standoff\":15},\"zerolinecolor\":\"white\",\"zerolinewidth\":2},\"yaxis\":{\"automargin\":true,\"gridcolor\":\"white\",\"linecolor\":\"white\",\"ticks\":\"\",\"title\":{\"standoff\":15},\"zerolinecolor\":\"white\",\"zerolinewidth\":2}}},\"font\":{\"size\":13,\"color\":\"#333333\",\"family\":\"Arial\"},\"hovermode\":\"x\",\"title\":{\"text\":\"Business usecase to Technical Applications\"},\"height\":500,\"width\":700},                        {\"responsive\": true}                    ).then(function(){\n",
              "                            \n",
              "var gd = document.getElementById('8d45de9c-dcb5-4936-bcdd-4d59d4861ac4');\n",
              "var x = new MutationObserver(function (mutations, observer) {{\n",
              "        var display = window.getComputedStyle(gd).display;\n",
              "        if (!display || display === 'none') {{\n",
              "            console.log([gd, 'removed!']);\n",
              "            Plotly.purge(gd);\n",
              "            observer.disconnect();\n",
              "        }}\n",
              "}});\n",
              "\n",
              "// Listen for the removal of the full notebook cells\n",
              "var notebookContainer = gd.closest('#notebook-container');\n",
              "if (notebookContainer) {{\n",
              "    x.observe(notebookContainer, {childList: true});\n",
              "}}\n",
              "\n",
              "// Listen for the clearing of the current output cell\n",
              "var outputEl = gd.closest('.output');\n",
              "if (outputEl) {{\n",
              "    x.observe(outputEl, {childList: true});\n",
              "}}\n",
              "\n",
              "                        })                };                            </script>        </div>\n",
              "</body>\n",
              "</html>"
            ]
          },
          "metadata": {}
        },
        {
          "output_type": "stream",
          "name": "stdout",
          "text": [
            "[None, 'Emotion recognition', 'Sentiment analysis', 'Text games', 'Dialog system', 'N2F', 'KG Completion / link prediction', 'Entity Linking', 'Relation extraction', 'Image captioning', 'Opnion extraction', 'Annotation', 'Reading comprehension', 'Text classification', 'Causal Reasoning', 'Question answering', 'Decision support', 'Argumentation mining', 'Language modeling', 'Information extraction', 'Entity Resolution', 'Text summarization', None, None, None, None, None, None, None, None, None, None, None, None, None, None, None, None, None, None, None, None, None, None, None, None, None, None, None, None, 'reasoning', 'out-of-distribution generalization', 'interpretability', 'reduced data', 'transferability', 'no goals met', None, None, None, None, None, None, None, None, None, None, None, None, None, None, None, None, None, None, None, None, None, None, None, None, None, None, None, None, None, None, None, None, None, None, None, None, None, None, None, None, None, None, None, None, None, None, None, None, None, None, None, None, None, None, None, None, None, None, None, None, None, None, None, None, None, None, None, None, None, None, None, None, None, None, None, None, None, None, None, None, None, None, None, None, None, None, None, None, None, None, None, None, None, None]\n",
            "<class 'list'>\n"
          ]
        },
        {
          "output_type": "display_data",
          "data": {
            "text/html": [
              "<html>\n",
              "<head><meta charset=\"utf-8\" /></head>\n",
              "<body>\n",
              "    <div>            <script src=\"https://cdnjs.cloudflare.com/ajax/libs/mathjax/2.7.5/MathJax.js?config=TeX-AMS-MML_SVG\"></script><script type=\"text/javascript\">if (window.MathJax) {MathJax.Hub.Config({SVG: {font: \"STIX-Web\"}});}</script>                <script type=\"text/javascript\">window.PlotlyConfig = {MathJaxConfig: 'local'};</script>\n",
              "        <script src=\"https://cdn.plot.ly/plotly-2.8.3.min.js\"></script>                <div id=\"551982b0-b62a-4c99-a61a-1dc253333c00\" class=\"plotly-graph-div\" style=\"height:500px; width:700px;\"></div>            <script type=\"text/javascript\">                                    window.PLOTLYENV=window.PLOTLYENV || {};                                    if (document.getElementById(\"551982b0-b62a-4c99-a61a-1dc253333c00\")) {                    Plotly.newPlot(                        \"551982b0-b62a-4c99-a61a-1dc253333c00\",                        [{\"link\":{\"color\":[\"#005d79\",\"#005d79\",\"#89b79f\",\"#89b79f\",\"#89b79f\",\"#89b79f\",\"#296afb\",\"#450256\",\"#57bcd6\",\"#ff2f6d\",\"#ff2f6d\",\"#2a91a7\",\"#2a91a7\",\"#2a91a7\",\"#2a91a7\",\"#2a91a7\",\"#89b79f\",\"#89b79f\",\"#89b79f\",\"#89b79f\",\"#2a91a7\",\"#2a91a7\",\"#2a91a7\",\"#450256\",\"#89b79f\",\"#89b79f\",\"#afe979\",\"#afe979\",\"#afe979\",\"#afe979\",\"#afe979\",\"#89b79f\",\"#89b79f\",\"#89b79f\",\"#450256\",\"#ff2f6d\",\"#9c4397\",\"#9c4397\",\"#9c4397\",\"#450256\",\"#89b79f\",\"#ff2f6d\",\"#ff2f6d\",\"#ff2f6d\",\"#ff2f6d\",\"#296afb\",\"#296afb\",\"#2a91a7\",\"#2a91a7\",\"#9c4397\",\"#9c4397\",\"#2a91a7\",\"#2a91a7\",\"#57bcd6\",\"#57bcd6\",\"#9c4397\",\"#57bcd6\",\"#2a91a7\",\"#2a91a7\",\"#2a91a7\",\"#2a91a7\",\"#2a91a7\",\"#9c4397\",\"#9c4397\",\"#9c4397\",\"#9c4397\",\"#2a91a7\",\"#2a91a7\",\"#afe979\",\"#afe979\",\"#57bcd6\",\"#9c4397\",\"#2a91a7\",\"#2a91a7\",\"#2a91a7\",\"#57bcd6\",\"#57bcd6\",\"#9c4397\",\"#9c4397\",\"#9c4397\",\"#9c4397\",\"#57bcd6\",\"#2a91a7\",\"#2a91a7\",\"#57bcd6\",\"#57bcd6\",\"#ff2f6d\",\"#296afb\",\"#57bcd6\",\"#57bcd6\",\"#2a91a7\",\"#450256\",\"#2a91a7\",\"#2a91a7\",\"#2a91a7\",\"#2a91a7\",\"#2a91a7\",\"#005d79\",\"#9c4397\",\"#ff2f6d\",\"#ff2f6d\",\"#ff2f6d\",\"#ff2f6d\",\"#ff2f6d\",\"#ff2f6d\",\"#005d79\",\"#005d79\"],\"source\":[\"18\",\"18\",\"12\",\"12\",\"12\",\"12\",\"17\",\"19\",\"11\",\"14\",\"14\",\"15\",\"15\",\"15\",\"15\",\"15\",\"3\",\"3\",\"3\",\"3\",\"15\",\"15\",\"15\",\"19\",\"21\",\"12\",\"16\",\"7\",\"7\",\"7\",\"7\",\"12\",\"12\",\"12\",\"1\",\"14\",\"13\",\"13\",\"13\",\"10\",\"12\",\"5\",\"5\",\"5\",\"5\",\"8\",\"8\",\"6\",\"6\",\"4\",\"4\",\"6\",\"6\",\"20\",\"20\",\"13\",\"2\",\"6\",\"6\",\"6\",\"6\",\"6\",\"13\",\"13\",\"13\",\"13\",\"15\",\"15\",\"16\",\"16\",\"2\",\"4\",\"15\",\"15\",\"15\",\"2\",\"2\",\"13\",\"13\",\"13\",\"13\",\"2\",\"15\",\"15\",\"2\",\"2\",\"14\",\"8\",\"11\",\"11\",\"15\",\"19\",\"15\",\"15\",\"15\",\"15\",\"15\",\"9\",\"13\",\"5\",\"5\",\"5\",\"5\",\"5\",\"5\",\"18\",\"18\"],\"target\":[\"50\",\"52\",\"50\",\"51\",\"52\",\"53\",\"50\",\"55\",\"55\",\"50\",\"54\",\"51\",\"50\",\"52\",\"53\",\"54\",\"51\",\"52\",\"53\",\"54\",\"52\",\"51\",\"53\",\"50\",\"55\",\"53\",\"52\",\"51\",\"52\",\"53\",\"54\",\"50\",\"54\",\"55\",\"50\",\"55\",\"50\",\"51\",\"52\",\"55\",\"50\",\"50\",\"51\",\"52\",\"54\",\"50\",\"52\",\"52\",\"54\",\"51\",\"53\",\"51\",\"54\",\"50\",\"52\",\"55\",\"55\",\"50\",\"51\",\"52\",\"50\",\"55\",\"51\",\"52\",\"53\",\"54\",\"50\",\"52\",\"50\",\"52\",\"50\",\"50\",\"50\",\"52\",\"53\",\"50\",\"54\",\"50\",\"51\",\"53\",\"55\",\"50\",\"50\",\"53\",\"50\",\"52\",\"50\",\"50\",\"50\",\"53\",\"53\",\"50\",\"50\",\"51\",\"52\",\"53\",\"50\",\"55\",\"55\",\"51\",\"53\",\"54\",\"50\",\"52\",\"54\",\"50\",\"51\"],\"value\":[\"0.499999999975\",\"0.499999999975\",\"0.24999999999375\",\"0.24999999999375\",\"0.24999999999375\",\"0.24999999999375\",\"0.9999999999\",\"0.9999999999\",\"0.9999999999\",\"0.499999999975\",\"0.499999999975\",\"0.9999999999\",\"0.24999999999375\",\"0.24999999999375\",\"0.24999999999375\",\"0.24999999999375\",\"0.24999999999375\",\"0.24999999999375\",\"0.24999999999375\",\"0.24999999999375\",\"0.9999999999\",\"0.499999999975\",\"0.499999999975\",\"0.9999999999\",\"0.9999999999\",\"0.9999999999\",\"0.9999999999\",\"0.24999999999375\",\"0.24999999999375\",\"0.24999999999375\",\"0.24999999999375\",\"0.499999999975\",\"0.499999999975\",\"0.9999999999\",\"0.9999999999\",\"0.9999999999\",\"0.3333333333222222\",\"0.3333333333222222\",\"0.3333333333222222\",\"0.9999999999\",\"0.9999999999\",\"0.24999999999375\",\"0.24999999999375\",\"0.24999999999375\",\"0.24999999999375\",\"0.499999999975\",\"0.499999999975\",\"0.499999999975\",\"0.499999999975\",\"0.499999999975\",\"0.499999999975\",\"0.499999999975\",\"0.499999999975\",\"0.499999999975\",\"0.499999999975\",\"0.9999999999\",\"0.9999999999\",\"0.3333333333222222\",\"0.3333333333222222\",\"0.3333333333222222\",\"0.9999999999\",\"0.9999999999\",\"0.24999999999375\",\"0.24999999999375\",\"0.24999999999375\",\"0.24999999999375\",\"0.499999999975\",\"0.499999999975\",\"0.499999999975\",\"0.499999999975\",\"0.9999999999\",\"0.9999999999\",\"0.3333333333222222\",\"0.3333333333222222\",\"0.3333333333222222\",\"0.499999999975\",\"0.499999999975\",\"0.9999999999\",\"0.499999999975\",\"0.499999999975\",\"0.9999999999\",\"0.9999999999\",\"0.499999999975\",\"0.499999999975\",\"0.499999999975\",\"0.499999999975\",\"0.9999999999\",\"0.9999999999\",\"0.499999999975\",\"0.499999999975\",\"0.9999999999\",\"0.9999999999\",\"0.24999999999375\",\"0.24999999999375\",\"0.24999999999375\",\"0.24999999999375\",\"0.9999999999\",\"0.9999999999\",\"0.9999999999\",\"0.3333333333222222\",\"0.3333333333222222\",\"0.3333333333222222\",\"0.3333333333222222\",\"0.3333333333222222\",\"0.3333333333222222\",\"0.499999999975\",\"0.499999999975\"]},\"node\":{\"color\":\"#333333\",\"label\":[\"None\",\"Emotion recognition\",\"Sentiment analysis\",\"Text games\",\"Dialog system\",\"N2f\",\"Kg completion / link prediction\",\"Entity linking\",\"Relation extraction\",\"Image captioning\",\"Opnion extraction\",\"Annotation\",\"Reading comprehension\",\"Text classification\",\"Causal reasoning\",\"Question answering\",\"Decision support\",\"Argumentation mining\",\"Language modeling\",\"Information extraction\",\"Entity resolution\",\"Text summarization\",\"None\",\"None\",\"None\",\"None\",\"None\",\"None\",\"None\",\"None\",\"None\",\"None\",\"None\",\"None\",\"None\",\"None\",\"None\",\"None\",\"None\",\"None\",\"None\",\"None\",\"None\",\"None\",\"None\",\"None\",\"None\",\"None\",\"None\",\"None\",\"Reasoning\",\"OOD\",\"Interpretability\",\"Reduced data\",\"Transferability\",\"No goals met\",\"None\",\"None\",\"None\",\"None\",\"None\",\"None\",\"None\",\"None\",\"None\",\"None\",\"None\",\"None\",\"None\",\"None\",\"None\",\"None\",\"None\",\"None\",\"None\",\"None\",\"None\",\"None\",\"None\",\"None\",\"None\",\"None\",\"None\",\"None\",\"None\",\"None\",\"None\",\"None\",\"None\",\"None\",\"None\",\"None\",\"None\",\"None\",\"None\",\"None\",\"None\",\"None\",\"None\",\"None\",\"None\",\"None\",\"None\",\"None\",\"None\",\"None\",\"None\",\"None\",\"None\",\"None\",\"None\",\"None\",\"None\",\"None\",\"None\",\"None\",\"None\",\"None\",\"None\",\"None\",\"None\",\"None\",\"None\",\"None\",\"None\",\"None\",\"None\",\"None\",\"None\",\"None\",\"None\",\"None\",\"None\",\"None\",\"None\",\"None\",\"None\",\"None\",\"None\",\"None\",\"None\",\"None\",\"None\",\"None\",\"None\",\"None\",\"None\",\"None\",\"None\",\"None\"],\"pad\":25,\"thickness\":10},\"type\":\"sankey\"}],                        {\"template\":{\"data\":{\"bar\":[{\"error_x\":{\"color\":\"#2a3f5f\"},\"error_y\":{\"color\":\"#2a3f5f\"},\"marker\":{\"line\":{\"color\":\"#E5ECF6\",\"width\":0.5},\"pattern\":{\"fillmode\":\"overlay\",\"size\":10,\"solidity\":0.2}},\"type\":\"bar\"}],\"barpolar\":[{\"marker\":{\"line\":{\"color\":\"#E5ECF6\",\"width\":0.5},\"pattern\":{\"fillmode\":\"overlay\",\"size\":10,\"solidity\":0.2}},\"type\":\"barpolar\"}],\"carpet\":[{\"aaxis\":{\"endlinecolor\":\"#2a3f5f\",\"gridcolor\":\"white\",\"linecolor\":\"white\",\"minorgridcolor\":\"white\",\"startlinecolor\":\"#2a3f5f\"},\"baxis\":{\"endlinecolor\":\"#2a3f5f\",\"gridcolor\":\"white\",\"linecolor\":\"white\",\"minorgridcolor\":\"white\",\"startlinecolor\":\"#2a3f5f\"},\"type\":\"carpet\"}],\"choropleth\":[{\"colorbar\":{\"outlinewidth\":0,\"ticks\":\"\"},\"type\":\"choropleth\"}],\"contour\":[{\"colorbar\":{\"outlinewidth\":0,\"ticks\":\"\"},\"colorscale\":[[0.0,\"#0d0887\"],[0.1111111111111111,\"#46039f\"],[0.2222222222222222,\"#7201a8\"],[0.3333333333333333,\"#9c179e\"],[0.4444444444444444,\"#bd3786\"],[0.5555555555555556,\"#d8576b\"],[0.6666666666666666,\"#ed7953\"],[0.7777777777777778,\"#fb9f3a\"],[0.8888888888888888,\"#fdca26\"],[1.0,\"#f0f921\"]],\"type\":\"contour\"}],\"contourcarpet\":[{\"colorbar\":{\"outlinewidth\":0,\"ticks\":\"\"},\"type\":\"contourcarpet\"}],\"heatmap\":[{\"colorbar\":{\"outlinewidth\":0,\"ticks\":\"\"},\"colorscale\":[[0.0,\"#0d0887\"],[0.1111111111111111,\"#46039f\"],[0.2222222222222222,\"#7201a8\"],[0.3333333333333333,\"#9c179e\"],[0.4444444444444444,\"#bd3786\"],[0.5555555555555556,\"#d8576b\"],[0.6666666666666666,\"#ed7953\"],[0.7777777777777778,\"#fb9f3a\"],[0.8888888888888888,\"#fdca26\"],[1.0,\"#f0f921\"]],\"type\":\"heatmap\"}],\"heatmapgl\":[{\"colorbar\":{\"outlinewidth\":0,\"ticks\":\"\"},\"colorscale\":[[0.0,\"#0d0887\"],[0.1111111111111111,\"#46039f\"],[0.2222222222222222,\"#7201a8\"],[0.3333333333333333,\"#9c179e\"],[0.4444444444444444,\"#bd3786\"],[0.5555555555555556,\"#d8576b\"],[0.6666666666666666,\"#ed7953\"],[0.7777777777777778,\"#fb9f3a\"],[0.8888888888888888,\"#fdca26\"],[1.0,\"#f0f921\"]],\"type\":\"heatmapgl\"}],\"histogram\":[{\"marker\":{\"pattern\":{\"fillmode\":\"overlay\",\"size\":10,\"solidity\":0.2}},\"type\":\"histogram\"}],\"histogram2d\":[{\"colorbar\":{\"outlinewidth\":0,\"ticks\":\"\"},\"colorscale\":[[0.0,\"#0d0887\"],[0.1111111111111111,\"#46039f\"],[0.2222222222222222,\"#7201a8\"],[0.3333333333333333,\"#9c179e\"],[0.4444444444444444,\"#bd3786\"],[0.5555555555555556,\"#d8576b\"],[0.6666666666666666,\"#ed7953\"],[0.7777777777777778,\"#fb9f3a\"],[0.8888888888888888,\"#fdca26\"],[1.0,\"#f0f921\"]],\"type\":\"histogram2d\"}],\"histogram2dcontour\":[{\"colorbar\":{\"outlinewidth\":0,\"ticks\":\"\"},\"colorscale\":[[0.0,\"#0d0887\"],[0.1111111111111111,\"#46039f\"],[0.2222222222222222,\"#7201a8\"],[0.3333333333333333,\"#9c179e\"],[0.4444444444444444,\"#bd3786\"],[0.5555555555555556,\"#d8576b\"],[0.6666666666666666,\"#ed7953\"],[0.7777777777777778,\"#fb9f3a\"],[0.8888888888888888,\"#fdca26\"],[1.0,\"#f0f921\"]],\"type\":\"histogram2dcontour\"}],\"mesh3d\":[{\"colorbar\":{\"outlinewidth\":0,\"ticks\":\"\"},\"type\":\"mesh3d\"}],\"parcoords\":[{\"line\":{\"colorbar\":{\"outlinewidth\":0,\"ticks\":\"\"}},\"type\":\"parcoords\"}],\"pie\":[{\"automargin\":true,\"type\":\"pie\"}],\"scatter\":[{\"marker\":{\"colorbar\":{\"outlinewidth\":0,\"ticks\":\"\"}},\"type\":\"scatter\"}],\"scatter3d\":[{\"line\":{\"colorbar\":{\"outlinewidth\":0,\"ticks\":\"\"}},\"marker\":{\"colorbar\":{\"outlinewidth\":0,\"ticks\":\"\"}},\"type\":\"scatter3d\"}],\"scattercarpet\":[{\"marker\":{\"colorbar\":{\"outlinewidth\":0,\"ticks\":\"\"}},\"type\":\"scattercarpet\"}],\"scattergeo\":[{\"marker\":{\"colorbar\":{\"outlinewidth\":0,\"ticks\":\"\"}},\"type\":\"scattergeo\"}],\"scattergl\":[{\"marker\":{\"colorbar\":{\"outlinewidth\":0,\"ticks\":\"\"}},\"type\":\"scattergl\"}],\"scattermapbox\":[{\"marker\":{\"colorbar\":{\"outlinewidth\":0,\"ticks\":\"\"}},\"type\":\"scattermapbox\"}],\"scatterpolar\":[{\"marker\":{\"colorbar\":{\"outlinewidth\":0,\"ticks\":\"\"}},\"type\":\"scatterpolar\"}],\"scatterpolargl\":[{\"marker\":{\"colorbar\":{\"outlinewidth\":0,\"ticks\":\"\"}},\"type\":\"scatterpolargl\"}],\"scatterternary\":[{\"marker\":{\"colorbar\":{\"outlinewidth\":0,\"ticks\":\"\"}},\"type\":\"scatterternary\"}],\"surface\":[{\"colorbar\":{\"outlinewidth\":0,\"ticks\":\"\"},\"colorscale\":[[0.0,\"#0d0887\"],[0.1111111111111111,\"#46039f\"],[0.2222222222222222,\"#7201a8\"],[0.3333333333333333,\"#9c179e\"],[0.4444444444444444,\"#bd3786\"],[0.5555555555555556,\"#d8576b\"],[0.6666666666666666,\"#ed7953\"],[0.7777777777777778,\"#fb9f3a\"],[0.8888888888888888,\"#fdca26\"],[1.0,\"#f0f921\"]],\"type\":\"surface\"}],\"table\":[{\"cells\":{\"fill\":{\"color\":\"#EBF0F8\"},\"line\":{\"color\":\"white\"}},\"header\":{\"fill\":{\"color\":\"#C8D4E3\"},\"line\":{\"color\":\"white\"}},\"type\":\"table\"}]},\"layout\":{\"annotationdefaults\":{\"arrowcolor\":\"#2a3f5f\",\"arrowhead\":0,\"arrowwidth\":1},\"autotypenumbers\":\"strict\",\"coloraxis\":{\"colorbar\":{\"outlinewidth\":0,\"ticks\":\"\"}},\"colorscale\":{\"diverging\":[[0,\"#8e0152\"],[0.1,\"#c51b7d\"],[0.2,\"#de77ae\"],[0.3,\"#f1b6da\"],[0.4,\"#fde0ef\"],[0.5,\"#f7f7f7\"],[0.6,\"#e6f5d0\"],[0.7,\"#b8e186\"],[0.8,\"#7fbc41\"],[0.9,\"#4d9221\"],[1,\"#276419\"]],\"sequential\":[[0.0,\"#0d0887\"],[0.1111111111111111,\"#46039f\"],[0.2222222222222222,\"#7201a8\"],[0.3333333333333333,\"#9c179e\"],[0.4444444444444444,\"#bd3786\"],[0.5555555555555556,\"#d8576b\"],[0.6666666666666666,\"#ed7953\"],[0.7777777777777778,\"#fb9f3a\"],[0.8888888888888888,\"#fdca26\"],[1.0,\"#f0f921\"]],\"sequentialminus\":[[0.0,\"#0d0887\"],[0.1111111111111111,\"#46039f\"],[0.2222222222222222,\"#7201a8\"],[0.3333333333333333,\"#9c179e\"],[0.4444444444444444,\"#bd3786\"],[0.5555555555555556,\"#d8576b\"],[0.6666666666666666,\"#ed7953\"],[0.7777777777777778,\"#fb9f3a\"],[0.8888888888888888,\"#fdca26\"],[1.0,\"#f0f921\"]]},\"colorway\":[\"#636efa\",\"#EF553B\",\"#00cc96\",\"#ab63fa\",\"#FFA15A\",\"#19d3f3\",\"#FF6692\",\"#B6E880\",\"#FF97FF\",\"#FECB52\"],\"font\":{\"color\":\"#2a3f5f\"},\"geo\":{\"bgcolor\":\"white\",\"lakecolor\":\"white\",\"landcolor\":\"#E5ECF6\",\"showlakes\":true,\"showland\":true,\"subunitcolor\":\"white\"},\"hoverlabel\":{\"align\":\"left\"},\"hovermode\":\"closest\",\"mapbox\":{\"style\":\"light\"},\"paper_bgcolor\":\"white\",\"plot_bgcolor\":\"#E5ECF6\",\"polar\":{\"angularaxis\":{\"gridcolor\":\"white\",\"linecolor\":\"white\",\"ticks\":\"\"},\"bgcolor\":\"#E5ECF6\",\"radialaxis\":{\"gridcolor\":\"white\",\"linecolor\":\"white\",\"ticks\":\"\"}},\"scene\":{\"xaxis\":{\"backgroundcolor\":\"#E5ECF6\",\"gridcolor\":\"white\",\"gridwidth\":2,\"linecolor\":\"white\",\"showbackground\":true,\"ticks\":\"\",\"zerolinecolor\":\"white\"},\"yaxis\":{\"backgroundcolor\":\"#E5ECF6\",\"gridcolor\":\"white\",\"gridwidth\":2,\"linecolor\":\"white\",\"showbackground\":true,\"ticks\":\"\",\"zerolinecolor\":\"white\"},\"zaxis\":{\"backgroundcolor\":\"#E5ECF6\",\"gridcolor\":\"white\",\"gridwidth\":2,\"linecolor\":\"white\",\"showbackground\":true,\"ticks\":\"\",\"zerolinecolor\":\"white\"}},\"shapedefaults\":{\"line\":{\"color\":\"#2a3f5f\"}},\"ternary\":{\"aaxis\":{\"gridcolor\":\"white\",\"linecolor\":\"white\",\"ticks\":\"\"},\"baxis\":{\"gridcolor\":\"white\",\"linecolor\":\"white\",\"ticks\":\"\"},\"bgcolor\":\"#E5ECF6\",\"caxis\":{\"gridcolor\":\"white\",\"linecolor\":\"white\",\"ticks\":\"\"}},\"title\":{\"x\":0.05},\"xaxis\":{\"automargin\":true,\"gridcolor\":\"white\",\"linecolor\":\"white\",\"ticks\":\"\",\"title\":{\"standoff\":15},\"zerolinecolor\":\"white\",\"zerolinewidth\":2},\"yaxis\":{\"automargin\":true,\"gridcolor\":\"white\",\"linecolor\":\"white\",\"ticks\":\"\",\"title\":{\"standoff\":15},\"zerolinecolor\":\"white\",\"zerolinewidth\":2}}},\"font\":{\"size\":13,\"color\":\"#333333\",\"family\":\"Arial\"},\"hovermode\":\"x\",\"title\":{\"text\":\"Business usecase to NeSy Goals\"},\"height\":500,\"width\":700},                        {\"responsive\": true}                    ).then(function(){\n",
              "                            \n",
              "var gd = document.getElementById('551982b0-b62a-4c99-a61a-1dc253333c00');\n",
              "var x = new MutationObserver(function (mutations, observer) {{\n",
              "        var display = window.getComputedStyle(gd).display;\n",
              "        if (!display || display === 'none') {{\n",
              "            console.log([gd, 'removed!']);\n",
              "            Plotly.purge(gd);\n",
              "            observer.disconnect();\n",
              "        }}\n",
              "}});\n",
              "\n",
              "// Listen for the removal of the full notebook cells\n",
              "var notebookContainer = gd.closest('#notebook-container');\n",
              "if (notebookContainer) {{\n",
              "    x.observe(notebookContainer, {childList: true});\n",
              "}}\n",
              "\n",
              "// Listen for the clearing of the current output cell\n",
              "var outputEl = gd.closest('.output');\n",
              "if (outputEl) {{\n",
              "    x.observe(outputEl, {childList: true});\n",
              "}}\n",
              "\n",
              "                        })                };                            </script>        </div>\n",
              "</body>\n",
              "</html>"
            ]
          },
          "metadata": {}
        },
        {
          "output_type": "stream",
          "name": "stdout",
          "text": [
            "[None, None, None, None, None, None, None, None, None, None, None, None, None, None, None, None, None, None, None, None, None, None, None, None, None, None, None, None, None, None, None, None, None, None, None, None, None, None, None, None, None, None, None, None, None, None, None, 'both', 'implicit', 'explicit', 'reasoning', 'out-of-distribution generalization', 'interpretability', 'reduced data', 'transferability', 'no goals met', None, None, None, None, None, None, None, None, None, None, None, None, None, None, None, None, None, None, None, None, None, None, None, None, None, None, None, None, None, None, None, None, None, None, None, None, None, None, None, None, None, None, None, None, None, None, None, None, None, None, None, None, None, None, None, None, None, None, None, None, None, None, None, None, None, None, None, None, None, None, None, None, None, None, None, None, None, None, None, None, None, None, None, None, None, None, None, None, None, None, None, None, None, None]\n",
            "<class 'list'>\n"
          ]
        },
        {
          "output_type": "display_data",
          "data": {
            "text/html": [
              "<html>\n",
              "<head><meta charset=\"utf-8\" /></head>\n",
              "<body>\n",
              "    <div>            <script src=\"https://cdnjs.cloudflare.com/ajax/libs/mathjax/2.7.5/MathJax.js?config=TeX-AMS-MML_SVG\"></script><script type=\"text/javascript\">if (window.MathJax) {MathJax.Hub.Config({SVG: {font: \"STIX-Web\"}});}</script>                <script type=\"text/javascript\">window.PlotlyConfig = {MathJaxConfig: 'local'};</script>\n",
              "        <script src=\"https://cdn.plot.ly/plotly-2.8.3.min.js\"></script>                <div id=\"74b60979-cb73-4ffd-ba6d-7a6688ea2cdb\" class=\"plotly-graph-div\" style=\"height:500px; width:700px;\"></div>            <script type=\"text/javascript\">                                    window.PLOTLYENV=window.PLOTLYENV || {};                                    if (document.getElementById(\"74b60979-cb73-4ffd-ba6d-7a6688ea2cdb\")) {                    Plotly.newPlot(                        \"74b60979-cb73-4ffd-ba6d-7a6688ea2cdb\",                        [{\"link\":{\"color\":[\"#57bcd6\",\"#57bcd6\",\"#57bcd6\",\"#57bcd6\",\"#57bcd6\",\"#57bcd6\",\"#450256\",\"#57bcd6\",\"#57bcd6\",\"#450256\",\"#450256\",\"#450256\",\"#57bcd6\",\"#57bcd6\",\"#57bcd6\",\"#57bcd6\",\"#450256\",\"#450256\",\"#450256\",\"#450256\",\"#57bcd6\",\"#57bcd6\",\"#57bcd6\",\"#450256\",\"#450256\",\"#450256\",\"#450256\",\"#57bcd6\",\"#57bcd6\",\"#57bcd6\",\"#57bcd6\",\"#450256\",\"#450256\",\"#450256\",\"#450256\",\"#57bcd6\",\"#57bcd6\",\"#57bcd6\",\"#57bcd6\",\"#450256\",\"#450256\",\"#450256\",\"#450256\",\"#450256\",\"#450256\",\"#57bcd6\",\"#57bcd6\",\"#57bcd6\",\"#57bcd6\",\"#450256\",\"#450256\",\"#450256\",\"#450256\",\"#450256\",\"#450256\",\"#450256\",\"#57bcd6\",\"#89b79f\",\"#89b79f\",\"#89b79f\",\"#450256\",\"#450256\",\"#450256\",\"#450256\",\"#450256\",\"#450256\",\"#89b79f\",\"#89b79f\",\"#89b79f\",\"#89b79f\",\"#450256\",\"#450256\",\"#57bcd6\",\"#57bcd6\",\"#57bcd6\",\"#57bcd6\",\"#57bcd6\",\"#89b79f\",\"#57bcd6\",\"#57bcd6\",\"#450256\",\"#57bcd6\",\"#57bcd6\",\"#57bcd6\",\"#450256\",\"#450256\",\"#450256\",\"#450256\",\"#450256\",\"#450256\",\"#57bcd6\",\"#57bcd6\",\"#57bcd6\",\"#57bcd6\",\"#57bcd6\",\"#57bcd6\",\"#57bcd6\",\"#450256\",\"#450256\",\"#450256\",\"#450256\",\"#450256\",\"#450256\",\"#450256\",\"#450256\",\"#57bcd6\",\"#57bcd6\"],\"source\":[\"49\",\"49\",\"49\",\"49\",\"49\",\"49\",\"48\",\"49\",\"49\",\"48\",\"48\",\"48\",\"49\",\"49\",\"49\",\"49\",\"48\",\"48\",\"48\",\"48\",\"49\",\"49\",\"49\",\"48\",\"48\",\"48\",\"48\",\"49\",\"49\",\"49\",\"49\",\"48\",\"48\",\"48\",\"48\",\"49\",\"49\",\"49\",\"49\",\"48\",\"48\",\"48\",\"48\",\"48\",\"48\",\"49\",\"49\",\"49\",\"49\",\"48\",\"48\",\"48\",\"48\",\"48\",\"48\",\"48\",\"49\",\"47\",\"47\",\"47\",\"48\",\"48\",\"48\",\"48\",\"48\",\"48\",\"47\",\"47\",\"47\",\"47\",\"48\",\"48\",\"49\",\"49\",\"49\",\"49\",\"49\",\"47\",\"49\",\"49\",\"48\",\"49\",\"49\",\"49\",\"48\",\"48\",\"48\",\"48\",\"48\",\"48\",\"49\",\"49\",\"49\",\"49\",\"49\",\"49\",\"49\",\"48\",\"48\",\"48\",\"48\",\"48\",\"48\",\"48\",\"48\",\"49\",\"49\"],\"target\":[\"50\",\"52\",\"50\",\"51\",\"52\",\"53\",\"50\",\"55\",\"55\",\"50\",\"54\",\"51\",\"50\",\"52\",\"53\",\"54\",\"51\",\"52\",\"53\",\"54\",\"52\",\"51\",\"53\",\"50\",\"55\",\"53\",\"52\",\"51\",\"52\",\"53\",\"54\",\"50\",\"54\",\"55\",\"50\",\"55\",\"50\",\"51\",\"52\",\"55\",\"50\",\"50\",\"51\",\"52\",\"54\",\"50\",\"52\",\"52\",\"54\",\"51\",\"53\",\"51\",\"54\",\"50\",\"52\",\"55\",\"55\",\"50\",\"51\",\"52\",\"50\",\"55\",\"51\",\"52\",\"53\",\"54\",\"50\",\"52\",\"50\",\"52\",\"50\",\"50\",\"50\",\"52\",\"53\",\"50\",\"54\",\"50\",\"51\",\"53\",\"55\",\"50\",\"50\",\"53\",\"50\",\"52\",\"50\",\"50\",\"50\",\"53\",\"53\",\"50\",\"50\",\"51\",\"52\",\"53\",\"50\",\"55\",\"55\",\"51\",\"53\",\"54\",\"50\",\"52\",\"54\",\"50\",\"51\"],\"value\":[\"0.499999999975\",\"0.499999999975\",\"0.24999999999375\",\"0.24999999999375\",\"0.24999999999375\",\"0.24999999999375\",\"0.9999999999\",\"0.9999999999\",\"0.9999999999\",\"0.499999999975\",\"0.499999999975\",\"0.9999999999\",\"0.24999999999375\",\"0.24999999999375\",\"0.24999999999375\",\"0.24999999999375\",\"0.24999999999375\",\"0.24999999999375\",\"0.24999999999375\",\"0.24999999999375\",\"0.9999999999\",\"0.499999999975\",\"0.499999999975\",\"0.9999999999\",\"0.9999999999\",\"0.9999999999\",\"0.9999999999\",\"0.24999999999375\",\"0.24999999999375\",\"0.24999999999375\",\"0.24999999999375\",\"0.499999999975\",\"0.499999999975\",\"0.9999999999\",\"0.9999999999\",\"0.9999999999\",\"0.3333333333222222\",\"0.3333333333222222\",\"0.3333333333222222\",\"0.9999999999\",\"0.9999999999\",\"0.24999999999375\",\"0.24999999999375\",\"0.24999999999375\",\"0.24999999999375\",\"0.499999999975\",\"0.499999999975\",\"0.499999999975\",\"0.499999999975\",\"0.499999999975\",\"0.499999999975\",\"0.499999999975\",\"0.499999999975\",\"0.499999999975\",\"0.499999999975\",\"0.9999999999\",\"0.9999999999\",\"0.3333333333222222\",\"0.3333333333222222\",\"0.3333333333222222\",\"0.9999999999\",\"0.9999999999\",\"0.24999999999375\",\"0.24999999999375\",\"0.24999999999375\",\"0.24999999999375\",\"0.499999999975\",\"0.499999999975\",\"0.499999999975\",\"0.499999999975\",\"0.9999999999\",\"0.9999999999\",\"0.3333333333222222\",\"0.3333333333222222\",\"0.3333333333222222\",\"0.499999999975\",\"0.499999999975\",\"0.9999999999\",\"0.499999999975\",\"0.499999999975\",\"0.9999999999\",\"0.9999999999\",\"0.499999999975\",\"0.499999999975\",\"0.499999999975\",\"0.499999999975\",\"0.9999999999\",\"0.9999999999\",\"0.499999999975\",\"0.499999999975\",\"0.9999999999\",\"0.9999999999\",\"0.24999999999375\",\"0.24999999999375\",\"0.24999999999375\",\"0.24999999999375\",\"0.9999999999\",\"0.9999999999\",\"0.9999999999\",\"0.3333333333222222\",\"0.3333333333222222\",\"0.3333333333222222\",\"0.3333333333222222\",\"0.3333333333222222\",\"0.3333333333222222\",\"0.499999999975\",\"0.499999999975\"]},\"node\":{\"color\":\"#333333\",\"label\":[\"None\",\"None\",\"None\",\"None\",\"None\",\"None\",\"None\",\"None\",\"None\",\"None\",\"None\",\"None\",\"None\",\"None\",\"None\",\"None\",\"None\",\"None\",\"None\",\"None\",\"None\",\"None\",\"None\",\"None\",\"None\",\"None\",\"None\",\"None\",\"None\",\"None\",\"None\",\"None\",\"None\",\"None\",\"None\",\"None\",\"None\",\"None\",\"None\",\"None\",\"None\",\"None\",\"None\",\"None\",\"None\",\"None\",\"None\",\"Both\",\"Implicit\",\"Explicit\",\"Reasoning\",\"OOD\",\"Interpretability\",\"Reduced data\",\"Transferability\",\"No goals met\",\"None\",\"None\",\"None\",\"None\",\"None\",\"None\",\"None\",\"None\",\"None\",\"None\",\"None\",\"None\",\"None\",\"None\",\"None\",\"None\",\"None\",\"None\",\"None\",\"None\",\"None\",\"None\",\"None\",\"None\",\"None\",\"None\",\"None\",\"None\",\"None\",\"None\",\"None\",\"None\",\"None\",\"None\",\"None\",\"None\",\"None\",\"None\",\"None\",\"None\",\"None\",\"None\",\"None\",\"None\",\"None\",\"None\",\"None\",\"None\",\"None\",\"None\",\"None\",\"None\",\"None\",\"None\",\"None\",\"None\",\"None\",\"None\",\"None\",\"None\",\"None\",\"None\",\"None\",\"None\",\"None\",\"None\",\"None\",\"None\",\"None\",\"None\",\"None\",\"None\",\"None\",\"None\",\"None\",\"None\",\"None\",\"None\",\"None\",\"None\",\"None\",\"None\",\"None\",\"None\",\"None\",\"None\",\"None\",\"None\",\"None\",\"None\",\"None\",\"None\",\"None\",\"None\"],\"pad\":25,\"thickness\":10},\"type\":\"sankey\"}],                        {\"template\":{\"data\":{\"bar\":[{\"error_x\":{\"color\":\"#2a3f5f\"},\"error_y\":{\"color\":\"#2a3f5f\"},\"marker\":{\"line\":{\"color\":\"#E5ECF6\",\"width\":0.5},\"pattern\":{\"fillmode\":\"overlay\",\"size\":10,\"solidity\":0.2}},\"type\":\"bar\"}],\"barpolar\":[{\"marker\":{\"line\":{\"color\":\"#E5ECF6\",\"width\":0.5},\"pattern\":{\"fillmode\":\"overlay\",\"size\":10,\"solidity\":0.2}},\"type\":\"barpolar\"}],\"carpet\":[{\"aaxis\":{\"endlinecolor\":\"#2a3f5f\",\"gridcolor\":\"white\",\"linecolor\":\"white\",\"minorgridcolor\":\"white\",\"startlinecolor\":\"#2a3f5f\"},\"baxis\":{\"endlinecolor\":\"#2a3f5f\",\"gridcolor\":\"white\",\"linecolor\":\"white\",\"minorgridcolor\":\"white\",\"startlinecolor\":\"#2a3f5f\"},\"type\":\"carpet\"}],\"choropleth\":[{\"colorbar\":{\"outlinewidth\":0,\"ticks\":\"\"},\"type\":\"choropleth\"}],\"contour\":[{\"colorbar\":{\"outlinewidth\":0,\"ticks\":\"\"},\"colorscale\":[[0.0,\"#0d0887\"],[0.1111111111111111,\"#46039f\"],[0.2222222222222222,\"#7201a8\"],[0.3333333333333333,\"#9c179e\"],[0.4444444444444444,\"#bd3786\"],[0.5555555555555556,\"#d8576b\"],[0.6666666666666666,\"#ed7953\"],[0.7777777777777778,\"#fb9f3a\"],[0.8888888888888888,\"#fdca26\"],[1.0,\"#f0f921\"]],\"type\":\"contour\"}],\"contourcarpet\":[{\"colorbar\":{\"outlinewidth\":0,\"ticks\":\"\"},\"type\":\"contourcarpet\"}],\"heatmap\":[{\"colorbar\":{\"outlinewidth\":0,\"ticks\":\"\"},\"colorscale\":[[0.0,\"#0d0887\"],[0.1111111111111111,\"#46039f\"],[0.2222222222222222,\"#7201a8\"],[0.3333333333333333,\"#9c179e\"],[0.4444444444444444,\"#bd3786\"],[0.5555555555555556,\"#d8576b\"],[0.6666666666666666,\"#ed7953\"],[0.7777777777777778,\"#fb9f3a\"],[0.8888888888888888,\"#fdca26\"],[1.0,\"#f0f921\"]],\"type\":\"heatmap\"}],\"heatmapgl\":[{\"colorbar\":{\"outlinewidth\":0,\"ticks\":\"\"},\"colorscale\":[[0.0,\"#0d0887\"],[0.1111111111111111,\"#46039f\"],[0.2222222222222222,\"#7201a8\"],[0.3333333333333333,\"#9c179e\"],[0.4444444444444444,\"#bd3786\"],[0.5555555555555556,\"#d8576b\"],[0.6666666666666666,\"#ed7953\"],[0.7777777777777778,\"#fb9f3a\"],[0.8888888888888888,\"#fdca26\"],[1.0,\"#f0f921\"]],\"type\":\"heatmapgl\"}],\"histogram\":[{\"marker\":{\"pattern\":{\"fillmode\":\"overlay\",\"size\":10,\"solidity\":0.2}},\"type\":\"histogram\"}],\"histogram2d\":[{\"colorbar\":{\"outlinewidth\":0,\"ticks\":\"\"},\"colorscale\":[[0.0,\"#0d0887\"],[0.1111111111111111,\"#46039f\"],[0.2222222222222222,\"#7201a8\"],[0.3333333333333333,\"#9c179e\"],[0.4444444444444444,\"#bd3786\"],[0.5555555555555556,\"#d8576b\"],[0.6666666666666666,\"#ed7953\"],[0.7777777777777778,\"#fb9f3a\"],[0.8888888888888888,\"#fdca26\"],[1.0,\"#f0f921\"]],\"type\":\"histogram2d\"}],\"histogram2dcontour\":[{\"colorbar\":{\"outlinewidth\":0,\"ticks\":\"\"},\"colorscale\":[[0.0,\"#0d0887\"],[0.1111111111111111,\"#46039f\"],[0.2222222222222222,\"#7201a8\"],[0.3333333333333333,\"#9c179e\"],[0.4444444444444444,\"#bd3786\"],[0.5555555555555556,\"#d8576b\"],[0.6666666666666666,\"#ed7953\"],[0.7777777777777778,\"#fb9f3a\"],[0.8888888888888888,\"#fdca26\"],[1.0,\"#f0f921\"]],\"type\":\"histogram2dcontour\"}],\"mesh3d\":[{\"colorbar\":{\"outlinewidth\":0,\"ticks\":\"\"},\"type\":\"mesh3d\"}],\"parcoords\":[{\"line\":{\"colorbar\":{\"outlinewidth\":0,\"ticks\":\"\"}},\"type\":\"parcoords\"}],\"pie\":[{\"automargin\":true,\"type\":\"pie\"}],\"scatter\":[{\"marker\":{\"colorbar\":{\"outlinewidth\":0,\"ticks\":\"\"}},\"type\":\"scatter\"}],\"scatter3d\":[{\"line\":{\"colorbar\":{\"outlinewidth\":0,\"ticks\":\"\"}},\"marker\":{\"colorbar\":{\"outlinewidth\":0,\"ticks\":\"\"}},\"type\":\"scatter3d\"}],\"scattercarpet\":[{\"marker\":{\"colorbar\":{\"outlinewidth\":0,\"ticks\":\"\"}},\"type\":\"scattercarpet\"}],\"scattergeo\":[{\"marker\":{\"colorbar\":{\"outlinewidth\":0,\"ticks\":\"\"}},\"type\":\"scattergeo\"}],\"scattergl\":[{\"marker\":{\"colorbar\":{\"outlinewidth\":0,\"ticks\":\"\"}},\"type\":\"scattergl\"}],\"scattermapbox\":[{\"marker\":{\"colorbar\":{\"outlinewidth\":0,\"ticks\":\"\"}},\"type\":\"scattermapbox\"}],\"scatterpolar\":[{\"marker\":{\"colorbar\":{\"outlinewidth\":0,\"ticks\":\"\"}},\"type\":\"scatterpolar\"}],\"scatterpolargl\":[{\"marker\":{\"colorbar\":{\"outlinewidth\":0,\"ticks\":\"\"}},\"type\":\"scatterpolargl\"}],\"scatterternary\":[{\"marker\":{\"colorbar\":{\"outlinewidth\":0,\"ticks\":\"\"}},\"type\":\"scatterternary\"}],\"surface\":[{\"colorbar\":{\"outlinewidth\":0,\"ticks\":\"\"},\"colorscale\":[[0.0,\"#0d0887\"],[0.1111111111111111,\"#46039f\"],[0.2222222222222222,\"#7201a8\"],[0.3333333333333333,\"#9c179e\"],[0.4444444444444444,\"#bd3786\"],[0.5555555555555556,\"#d8576b\"],[0.6666666666666666,\"#ed7953\"],[0.7777777777777778,\"#fb9f3a\"],[0.8888888888888888,\"#fdca26\"],[1.0,\"#f0f921\"]],\"type\":\"surface\"}],\"table\":[{\"cells\":{\"fill\":{\"color\":\"#EBF0F8\"},\"line\":{\"color\":\"white\"}},\"header\":{\"fill\":{\"color\":\"#C8D4E3\"},\"line\":{\"color\":\"white\"}},\"type\":\"table\"}]},\"layout\":{\"annotationdefaults\":{\"arrowcolor\":\"#2a3f5f\",\"arrowhead\":0,\"arrowwidth\":1},\"autotypenumbers\":\"strict\",\"coloraxis\":{\"colorbar\":{\"outlinewidth\":0,\"ticks\":\"\"}},\"colorscale\":{\"diverging\":[[0,\"#8e0152\"],[0.1,\"#c51b7d\"],[0.2,\"#de77ae\"],[0.3,\"#f1b6da\"],[0.4,\"#fde0ef\"],[0.5,\"#f7f7f7\"],[0.6,\"#e6f5d0\"],[0.7,\"#b8e186\"],[0.8,\"#7fbc41\"],[0.9,\"#4d9221\"],[1,\"#276419\"]],\"sequential\":[[0.0,\"#0d0887\"],[0.1111111111111111,\"#46039f\"],[0.2222222222222222,\"#7201a8\"],[0.3333333333333333,\"#9c179e\"],[0.4444444444444444,\"#bd3786\"],[0.5555555555555556,\"#d8576b\"],[0.6666666666666666,\"#ed7953\"],[0.7777777777777778,\"#fb9f3a\"],[0.8888888888888888,\"#fdca26\"],[1.0,\"#f0f921\"]],\"sequentialminus\":[[0.0,\"#0d0887\"],[0.1111111111111111,\"#46039f\"],[0.2222222222222222,\"#7201a8\"],[0.3333333333333333,\"#9c179e\"],[0.4444444444444444,\"#bd3786\"],[0.5555555555555556,\"#d8576b\"],[0.6666666666666666,\"#ed7953\"],[0.7777777777777778,\"#fb9f3a\"],[0.8888888888888888,\"#fdca26\"],[1.0,\"#f0f921\"]]},\"colorway\":[\"#636efa\",\"#EF553B\",\"#00cc96\",\"#ab63fa\",\"#FFA15A\",\"#19d3f3\",\"#FF6692\",\"#B6E880\",\"#FF97FF\",\"#FECB52\"],\"font\":{\"color\":\"#2a3f5f\"},\"geo\":{\"bgcolor\":\"white\",\"lakecolor\":\"white\",\"landcolor\":\"#E5ECF6\",\"showlakes\":true,\"showland\":true,\"subunitcolor\":\"white\"},\"hoverlabel\":{\"align\":\"left\"},\"hovermode\":\"closest\",\"mapbox\":{\"style\":\"light\"},\"paper_bgcolor\":\"white\",\"plot_bgcolor\":\"#E5ECF6\",\"polar\":{\"angularaxis\":{\"gridcolor\":\"white\",\"linecolor\":\"white\",\"ticks\":\"\"},\"bgcolor\":\"#E5ECF6\",\"radialaxis\":{\"gridcolor\":\"white\",\"linecolor\":\"white\",\"ticks\":\"\"}},\"scene\":{\"xaxis\":{\"backgroundcolor\":\"#E5ECF6\",\"gridcolor\":\"white\",\"gridwidth\":2,\"linecolor\":\"white\",\"showbackground\":true,\"ticks\":\"\",\"zerolinecolor\":\"white\"},\"yaxis\":{\"backgroundcolor\":\"#E5ECF6\",\"gridcolor\":\"white\",\"gridwidth\":2,\"linecolor\":\"white\",\"showbackground\":true,\"ticks\":\"\",\"zerolinecolor\":\"white\"},\"zaxis\":{\"backgroundcolor\":\"#E5ECF6\",\"gridcolor\":\"white\",\"gridwidth\":2,\"linecolor\":\"white\",\"showbackground\":true,\"ticks\":\"\",\"zerolinecolor\":\"white\"}},\"shapedefaults\":{\"line\":{\"color\":\"#2a3f5f\"}},\"ternary\":{\"aaxis\":{\"gridcolor\":\"white\",\"linecolor\":\"white\",\"ticks\":\"\"},\"baxis\":{\"gridcolor\":\"white\",\"linecolor\":\"white\",\"ticks\":\"\"},\"bgcolor\":\"#E5ECF6\",\"caxis\":{\"gridcolor\":\"white\",\"linecolor\":\"white\",\"ticks\":\"\"}},\"title\":{\"x\":0.05},\"xaxis\":{\"automargin\":true,\"gridcolor\":\"white\",\"linecolor\":\"white\",\"ticks\":\"\",\"title\":{\"standoff\":15},\"zerolinecolor\":\"white\",\"zerolinewidth\":2},\"yaxis\":{\"automargin\":true,\"gridcolor\":\"white\",\"linecolor\":\"white\",\"ticks\":\"\",\"title\":{\"standoff\":15},\"zerolinecolor\":\"white\",\"zerolinewidth\":2}}},\"font\":{\"size\":13,\"color\":\"#333333\",\"family\":\"Arial\"},\"hovermode\":\"x\",\"title\":{\"text\":\"Reasoning type to goals\"},\"height\":500,\"width\":700},                        {\"responsive\": true}                    ).then(function(){\n",
              "                            \n",
              "var gd = document.getElementById('74b60979-cb73-4ffd-ba6d-7a6688ea2cdb');\n",
              "var x = new MutationObserver(function (mutations, observer) {{\n",
              "        var display = window.getComputedStyle(gd).display;\n",
              "        if (!display || display === 'none') {{\n",
              "            console.log([gd, 'removed!']);\n",
              "            Plotly.purge(gd);\n",
              "            observer.disconnect();\n",
              "        }}\n",
              "}});\n",
              "\n",
              "// Listen for the removal of the full notebook cells\n",
              "var notebookContainer = gd.closest('#notebook-container');\n",
              "if (notebookContainer) {{\n",
              "    x.observe(notebookContainer, {childList: true});\n",
              "}}\n",
              "\n",
              "// Listen for the clearing of the current output cell\n",
              "var outputEl = gd.closest('.output');\n",
              "if (outputEl) {{\n",
              "    x.observe(outputEl, {childList: true});\n",
              "}}\n",
              "\n",
              "                        })                };                            </script>        </div>\n",
              "</body>\n",
              "</html>"
            ]
          },
          "metadata": {}
        },
        {
          "output_type": "stream",
          "name": "stdout",
          "text": [
            "[None, None, None, None, None, None, None, None, None, None, None, None, None, None, None, None, None, None, None, None, None, None, None, None, None, None, None, None, None, None, None, None, None, None, None, None, None, None, None, None, None, 'semantic network', 'frames', 'rules', 'logical', None, None, 'both', 'implicit', 'explicit', 'reasoning', 'out-of-distribution generalization', 'interpretability', 'reduced data', 'transferability', 'no goals met', None, None, None, None, None, None, None, None, None, None, None, None, None, None, None, None, None, None, None, None, None, None, None, None, None, None, None, None, None, None, None, None, None, None, None, None, None, None, None, None, None, None, None, None, None, None, None, None, None, None, None, None, None, None, None, None, None, None, None, None, None, None, None, None, None, None, None, None, None, None, None, None, None, None, None, None, None, None, None, None, None, None, None, None, None, None, None, None, None, None, None, None, None, None]\n",
            "<class 'list'>\n"
          ]
        },
        {
          "output_type": "display_data",
          "data": {
            "text/html": [
              "<html>\n",
              "<head><meta charset=\"utf-8\" /></head>\n",
              "<body>\n",
              "    <div>            <script src=\"https://cdnjs.cloudflare.com/ajax/libs/mathjax/2.7.5/MathJax.js?config=TeX-AMS-MML_SVG\"></script><script type=\"text/javascript\">if (window.MathJax) {MathJax.Hub.Config({SVG: {font: \"STIX-Web\"}});}</script>                <script type=\"text/javascript\">window.PlotlyConfig = {MathJaxConfig: 'local'};</script>\n",
              "        <script src=\"https://cdn.plot.ly/plotly-2.8.3.min.js\"></script>                <div id=\"340f66c8-380c-49b0-af8b-b6384494a023\" class=\"plotly-graph-div\" style=\"height:500px; width:700px;\"></div>            <script type=\"text/javascript\">                                    window.PLOTLYENV=window.PLOTLYENV || {};                                    if (document.getElementById(\"340f66c8-380c-49b0-af8b-b6384494a023\")) {                    Plotly.newPlot(                        \"340f66c8-380c-49b0-af8b-b6384494a023\",                        [{\"link\":{\"color\":[\"#9c4397\",\"#9c4397\",\"#9c4397\",\"#57bcd6\",\"#57bcd6\",\"#57bcd6\",\"#57bcd6\",\"#57bcd6\",\"#89b79f\",\"#89b79f\",\"#9c4397\",\"#9c4397\",\"#9c4397\",\"#9c4397\",\"#89b79f\",\"#89b79f\",\"#89b79f\",\"#450256\",\"#450256\",\"#450256\",\"#450256\",\"#450256\",\"#450256\",\"#450256\",\"#9c4397\",\"#9c4397\",\"#9c4397\",\"#9c4397\",\"#9c4397\",\"#9c4397\",\"#9c4397\",\"#89b79f\",\"#89b79f\",\"#89b79f\",\"#9c4397\",\"#9c4397\",\"#450256\",\"#450256\",\"#9c4397\",\"#9c4397\",\"#450256\",\"#450256\",\"#89b79f\",\"#89b79f\",\"#89b79f\",\"#89b79f\",\"#89b79f\",\"#89b79f\",\"#89b79f\",\"#89b79f\",\"#450256\",\"#450256\",\"#57bcd6\",\"#57bcd6\",\"#89b79f\",\"#89b79f\",\"#89b79f\",\"#89b79f\",\"#89b79f\",\"#89b79f\",\"#9c4397\",\"#9c4397\",\"#450256\",\"#450256\",\"#57bcd6\",\"#57bcd6\",\"#57bcd6\",\"#57bcd6\",\"#57bcd6\",\"#9c4397\",\"#9c4397\",\"#9c4397\",\"#57bcd6\",\"#57bcd6\",\"#57bcd6\",\"#89b79f\",\"#89b79f\",\"#89b79f\",\"#57bcd6\",\"#57bcd6\",\"#57bcd6\",\"#450256\",\"#450256\",\"#450256\",\"#57bcd6\",\"#57bcd6\",\"#9c4397\",\"#9c4397\",\"#450256\",\"#450256\",\"#450256\",\"#450256\",\"#57bcd6\",\"#57bcd6\",\"#57bcd6\",\"#57bcd6\",\"#450256\",\"#450256\",\"#450256\",\"#450256\",\"#450256\",\"#9c4397\",\"#9c4397\",\"#9c4397\",\"#9c4397\",\"#9c4397\",\"#9c4397\",\"#450256\",\"#450256\",\"#450256\",\"#450256\",\"#89b79f\",\"#89b79f\",\"#89b79f\",\"#89b79f\",\"#9c4397\",\"#9c4397\",\"#9c4397\",\"#9c4397\",\"#9c4397\",\"#9c4397\",\"#9c4397\",\"#9c4397\",\"#450256\",\"#450256\",\"#9c4397\",\"#9c4397\",\"#89b79f\",\"#89b79f\",\"#89b79f\",\"#89b79f\",\"#89b79f\",\"#89b79f\",\"#89b79f\",\"#89b79f\",\"#450256\",\"#450256\",\"#450256\",\"#450256\",\"#450256\",\"#89b79f\",\"#89b79f\",\"#9c4397\",\"#9c4397\",\"#89b79f\",\"#89b79f\",\"#89b79f\",\"#89b79f\",\"#89b79f\",\"#89b79f\",\"#89b79f\",\"#89b79f\",\"#89b79f\",\"#57bcd6\",\"#57bcd6\",\"#89b79f\",\"#89b79f\",\"#89b79f\",\"#89b79f\",\"#57bcd6\",\"#57bcd6\",\"#57bcd6\",\"#57bcd6\",\"#89b79f\",\"#89b79f\",\"#89b79f\"],\"source\":[\"44\",\"49\",\"49\",\"42\",\"49\",\"49\",\"49\",\"49\",\"43\",\"48\",\"44\",\"49\",\"44\",\"49\",\"43\",\"48\",\"48\",\"41\",\"48\",\"41\",\"49\",\"49\",\"49\",\"49\",\"44\",\"48\",\"48\",\"48\",\"48\",\"44\",\"49\",\"43\",\"49\",\"49\",\"44\",\"48\",\"41\",\"48\",\"44\",\"48\",\"41\",\"48\",\"43\",\"49\",\"49\",\"49\",\"49\",\"43\",\"48\",\"48\",\"41\",\"48\",\"42\",\"48\",\"43\",\"49\",\"43\",\"49\",\"49\",\"49\",\"44\",\"48\",\"41\",\"48\",\"42\",\"48\",\"48\",\"48\",\"48\",\"44\",\"49\",\"49\",\"42\",\"49\",\"49\",\"43\",\"48\",\"48\",\"42\",\"48\",\"48\",\"41\",\"48\",\"48\",\"42\",\"48\",\"44\",\"49\",\"41\",\"47\",\"47\",\"47\",\"42\",\"48\",\"42\",\"48\",\"41\",\"48\",\"48\",\"48\",\"48\",\"44\",\"47\",\"47\",\"44\",\"47\",\"47\",\"41\",\"48\",\"41\",\"48\",\"43\",\"49\",\"49\",\"49\",\"44\",\"49\",\"49\",\"44\",\"47\",\"44\",\"49\",\"49\",\"41\",\"48\",\"44\",\"49\",\"43\",\"49\",\"49\",\"43\",\"48\",\"48\",\"43\",\"48\",\"41\",\"48\",\"41\",\"48\",\"48\",\"43\",\"49\",\"44\",\"49\",\"43\",\"49\",\"49\",\"49\",\"49\",\"43\",\"49\",\"43\",\"48\",\"42\",\"48\",\"43\",\"48\",\"48\",\"48\",\"42\",\"48\",\"48\",\"48\",\"43\",\"49\",\"49\"],\"target\":[\"49\",\"50\",\"52\",\"49\",\"50\",\"51\",\"52\",\"53\",\"48\",\"50\",\"49\",\"55\",\"49\",\"55\",\"48\",\"50\",\"54\",\"48\",\"51\",\"49\",\"50\",\"52\",\"53\",\"54\",\"48\",\"51\",\"52\",\"53\",\"54\",\"49\",\"52\",\"49\",\"51\",\"53\",\"48\",\"50\",\"48\",\"55\",\"48\",\"53\",\"48\",\"52\",\"49\",\"51\",\"52\",\"53\",\"54\",\"48\",\"50\",\"54\",\"48\",\"55\",\"48\",\"50\",\"49\",\"55\",\"49\",\"50\",\"51\",\"52\",\"48\",\"55\",\"48\",\"50\",\"48\",\"50\",\"51\",\"52\",\"54\",\"49\",\"50\",\"52\",\"49\",\"52\",\"54\",\"48\",\"51\",\"53\",\"48\",\"51\",\"54\",\"48\",\"50\",\"52\",\"48\",\"55\",\"49\",\"55\",\"47\",\"50\",\"51\",\"52\",\"48\",\"50\",\"48\",\"55\",\"48\",\"51\",\"52\",\"53\",\"54\",\"47\",\"50\",\"52\",\"47\",\"50\",\"52\",\"48\",\"50\",\"48\",\"50\",\"49\",\"50\",\"52\",\"53\",\"49\",\"50\",\"54\",\"47\",\"50\",\"49\",\"51\",\"53\",\"48\",\"55\",\"49\",\"50\",\"49\",\"50\",\"53\",\"48\",\"50\",\"52\",\"48\",\"50\",\"48\",\"50\",\"48\",\"50\",\"53\",\"49\",\"53\",\"49\",\"50\",\"49\",\"50\",\"51\",\"52\",\"53\",\"49\",\"50\",\"48\",\"55\",\"48\",\"55\",\"48\",\"51\",\"53\",\"54\",\"48\",\"50\",\"52\",\"54\",\"49\",\"50\",\"51\"],\"value\":[\"0.9999999999\",\"0.499999999975\",\"0.499999999975\",\"0.9999999999\",\"0.24999999999375\",\"0.24999999999375\",\"0.24999999999375\",\"0.24999999999375\",\"0.9999999999\",\"0.9999999999\",\"0.9999999999\",\"0.9999999999\",\"0.9999999999\",\"0.9999999999\",\"0.9999999999\",\"0.499999999975\",\"0.499999999975\",\"0.9999999999\",\"0.9999999999\",\"0.9999999999\",\"0.24999999999375\",\"0.24999999999375\",\"0.24999999999375\",\"0.24999999999375\",\"0.9999999999\",\"0.24999999999375\",\"0.24999999999375\",\"0.24999999999375\",\"0.24999999999375\",\"0.9999999999\",\"0.9999999999\",\"0.9999999999\",\"0.499999999975\",\"0.499999999975\",\"0.9999999999\",\"0.9999999999\",\"0.9999999999\",\"0.9999999999\",\"0.9999999999\",\"0.9999999999\",\"0.9999999999\",\"0.9999999999\",\"0.9999999999\",\"0.24999999999375\",\"0.24999999999375\",\"0.24999999999375\",\"0.24999999999375\",\"0.9999999999\",\"0.499999999975\",\"0.499999999975\",\"0.9999999999\",\"0.9999999999\",\"0.9999999999\",\"0.9999999999\",\"0.9999999999\",\"0.9999999999\",\"0.9999999999\",\"0.3333333333222222\",\"0.3333333333222222\",\"0.3333333333222222\",\"0.9999999999\",\"0.9999999999\",\"0.9999999999\",\"0.9999999999\",\"0.9999999999\",\"0.24999999999375\",\"0.24999999999375\",\"0.24999999999375\",\"0.24999999999375\",\"0.9999999999\",\"0.499999999975\",\"0.499999999975\",\"0.9999999999\",\"0.499999999975\",\"0.499999999975\",\"0.9999999999\",\"0.499999999975\",\"0.499999999975\",\"0.9999999999\",\"0.499999999975\",\"0.499999999975\",\"0.9999999999\",\"0.499999999975\",\"0.499999999975\",\"0.9999999999\",\"0.9999999999\",\"0.9999999999\",\"0.9999999999\",\"0.9999999999\",\"0.3333333333222222\",\"0.3333333333222222\",\"0.3333333333222222\",\"0.9999999999\",\"0.9999999999\",\"0.9999999999\",\"0.9999999999\",\"0.9999999999\",\"0.24999999999375\",\"0.24999999999375\",\"0.24999999999375\",\"0.24999999999375\",\"0.9999999999\",\"0.499999999975\",\"0.499999999975\",\"0.9999999999\",\"0.499999999975\",\"0.499999999975\",\"0.9999999999\",\"0.9999999999\",\"0.9999999999\",\"0.9999999999\",\"0.9999999999\",\"0.3333333333222222\",\"0.3333333333222222\",\"0.3333333333222222\",\"0.9999999999\",\"0.499999999975\",\"0.499999999975\",\"0.9999999999\",\"0.9999999999\",\"0.9999999999\",\"0.499999999975\",\"0.499999999975\",\"0.9999999999\",\"0.9999999999\",\"0.9999999999\",\"0.9999999999\",\"0.9999999999\",\"0.499999999975\",\"0.499999999975\",\"0.9999999999\",\"0.499999999975\",\"0.499999999975\",\"0.9999999999\",\"0.9999999999\",\"0.9999999999\",\"0.9999999999\",\"0.9999999999\",\"0.499999999975\",\"0.499999999975\",\"0.9999999999\",\"0.9999999999\",\"0.9999999999\",\"0.9999999999\",\"0.9999999999\",\"0.24999999999375\",\"0.24999999999375\",\"0.24999999999375\",\"0.24999999999375\",\"0.9999999999\",\"0.9999999999\",\"0.9999999999\",\"0.9999999999\",\"0.9999999999\",\"0.9999999999\",\"0.9999999999\",\"0.3333333333222222\",\"0.3333333333222222\",\"0.3333333333222222\",\"0.9999999999\",\"0.3333333333222222\",\"0.3333333333222222\",\"0.3333333333222222\",\"0.9999999999\",\"0.499999999975\",\"0.499999999975\"]},\"node\":{\"color\":\"#333333\",\"label\":[\"None\",\"None\",\"None\",\"None\",\"None\",\"None\",\"None\",\"None\",\"None\",\"None\",\"None\",\"None\",\"None\",\"None\",\"None\",\"None\",\"None\",\"None\",\"None\",\"None\",\"None\",\"None\",\"None\",\"None\",\"None\",\"None\",\"None\",\"None\",\"None\",\"None\",\"None\",\"None\",\"None\",\"None\",\"None\",\"None\",\"None\",\"None\",\"None\",\"None\",\"None\",\"Semantic network\",\"Frames\",\"Rules\",\"Logical\",\"None\",\"None\",\"Both\",\"Implicit\",\"Explicit\",\"Reasoning\",\"OOD\",\"Interpretability\",\"Reduced data\",\"Transferability\",\"No goals met\",\"None\",\"None\",\"None\",\"None\",\"None\",\"None\",\"None\",\"None\",\"None\",\"None\",\"None\",\"None\",\"None\",\"None\",\"None\",\"None\",\"None\",\"None\",\"None\",\"None\",\"None\",\"None\",\"None\",\"None\",\"None\",\"None\",\"None\",\"None\",\"None\",\"None\",\"None\",\"None\",\"None\",\"None\",\"None\",\"None\",\"None\",\"None\",\"None\",\"None\",\"None\",\"None\",\"None\",\"None\",\"None\",\"None\",\"None\",\"None\",\"None\",\"None\",\"None\",\"None\",\"None\",\"None\",\"None\",\"None\",\"None\",\"None\",\"None\",\"None\",\"None\",\"None\",\"None\",\"None\",\"None\",\"None\",\"None\",\"None\",\"None\",\"None\",\"None\",\"None\",\"None\",\"None\",\"None\",\"None\",\"None\",\"None\",\"None\",\"None\",\"None\",\"None\",\"None\",\"None\",\"None\",\"None\",\"None\",\"None\",\"None\",\"None\",\"None\",\"None\",\"None\",\"None\"],\"pad\":25,\"thickness\":10},\"type\":\"sankey\"}],                        {\"template\":{\"data\":{\"bar\":[{\"error_x\":{\"color\":\"#2a3f5f\"},\"error_y\":{\"color\":\"#2a3f5f\"},\"marker\":{\"line\":{\"color\":\"#E5ECF6\",\"width\":0.5},\"pattern\":{\"fillmode\":\"overlay\",\"size\":10,\"solidity\":0.2}},\"type\":\"bar\"}],\"barpolar\":[{\"marker\":{\"line\":{\"color\":\"#E5ECF6\",\"width\":0.5},\"pattern\":{\"fillmode\":\"overlay\",\"size\":10,\"solidity\":0.2}},\"type\":\"barpolar\"}],\"carpet\":[{\"aaxis\":{\"endlinecolor\":\"#2a3f5f\",\"gridcolor\":\"white\",\"linecolor\":\"white\",\"minorgridcolor\":\"white\",\"startlinecolor\":\"#2a3f5f\"},\"baxis\":{\"endlinecolor\":\"#2a3f5f\",\"gridcolor\":\"white\",\"linecolor\":\"white\",\"minorgridcolor\":\"white\",\"startlinecolor\":\"#2a3f5f\"},\"type\":\"carpet\"}],\"choropleth\":[{\"colorbar\":{\"outlinewidth\":0,\"ticks\":\"\"},\"type\":\"choropleth\"}],\"contour\":[{\"colorbar\":{\"outlinewidth\":0,\"ticks\":\"\"},\"colorscale\":[[0.0,\"#0d0887\"],[0.1111111111111111,\"#46039f\"],[0.2222222222222222,\"#7201a8\"],[0.3333333333333333,\"#9c179e\"],[0.4444444444444444,\"#bd3786\"],[0.5555555555555556,\"#d8576b\"],[0.6666666666666666,\"#ed7953\"],[0.7777777777777778,\"#fb9f3a\"],[0.8888888888888888,\"#fdca26\"],[1.0,\"#f0f921\"]],\"type\":\"contour\"}],\"contourcarpet\":[{\"colorbar\":{\"outlinewidth\":0,\"ticks\":\"\"},\"type\":\"contourcarpet\"}],\"heatmap\":[{\"colorbar\":{\"outlinewidth\":0,\"ticks\":\"\"},\"colorscale\":[[0.0,\"#0d0887\"],[0.1111111111111111,\"#46039f\"],[0.2222222222222222,\"#7201a8\"],[0.3333333333333333,\"#9c179e\"],[0.4444444444444444,\"#bd3786\"],[0.5555555555555556,\"#d8576b\"],[0.6666666666666666,\"#ed7953\"],[0.7777777777777778,\"#fb9f3a\"],[0.8888888888888888,\"#fdca26\"],[1.0,\"#f0f921\"]],\"type\":\"heatmap\"}],\"heatmapgl\":[{\"colorbar\":{\"outlinewidth\":0,\"ticks\":\"\"},\"colorscale\":[[0.0,\"#0d0887\"],[0.1111111111111111,\"#46039f\"],[0.2222222222222222,\"#7201a8\"],[0.3333333333333333,\"#9c179e\"],[0.4444444444444444,\"#bd3786\"],[0.5555555555555556,\"#d8576b\"],[0.6666666666666666,\"#ed7953\"],[0.7777777777777778,\"#fb9f3a\"],[0.8888888888888888,\"#fdca26\"],[1.0,\"#f0f921\"]],\"type\":\"heatmapgl\"}],\"histogram\":[{\"marker\":{\"pattern\":{\"fillmode\":\"overlay\",\"size\":10,\"solidity\":0.2}},\"type\":\"histogram\"}],\"histogram2d\":[{\"colorbar\":{\"outlinewidth\":0,\"ticks\":\"\"},\"colorscale\":[[0.0,\"#0d0887\"],[0.1111111111111111,\"#46039f\"],[0.2222222222222222,\"#7201a8\"],[0.3333333333333333,\"#9c179e\"],[0.4444444444444444,\"#bd3786\"],[0.5555555555555556,\"#d8576b\"],[0.6666666666666666,\"#ed7953\"],[0.7777777777777778,\"#fb9f3a\"],[0.8888888888888888,\"#fdca26\"],[1.0,\"#f0f921\"]],\"type\":\"histogram2d\"}],\"histogram2dcontour\":[{\"colorbar\":{\"outlinewidth\":0,\"ticks\":\"\"},\"colorscale\":[[0.0,\"#0d0887\"],[0.1111111111111111,\"#46039f\"],[0.2222222222222222,\"#7201a8\"],[0.3333333333333333,\"#9c179e\"],[0.4444444444444444,\"#bd3786\"],[0.5555555555555556,\"#d8576b\"],[0.6666666666666666,\"#ed7953\"],[0.7777777777777778,\"#fb9f3a\"],[0.8888888888888888,\"#fdca26\"],[1.0,\"#f0f921\"]],\"type\":\"histogram2dcontour\"}],\"mesh3d\":[{\"colorbar\":{\"outlinewidth\":0,\"ticks\":\"\"},\"type\":\"mesh3d\"}],\"parcoords\":[{\"line\":{\"colorbar\":{\"outlinewidth\":0,\"ticks\":\"\"}},\"type\":\"parcoords\"}],\"pie\":[{\"automargin\":true,\"type\":\"pie\"}],\"scatter\":[{\"marker\":{\"colorbar\":{\"outlinewidth\":0,\"ticks\":\"\"}},\"type\":\"scatter\"}],\"scatter3d\":[{\"line\":{\"colorbar\":{\"outlinewidth\":0,\"ticks\":\"\"}},\"marker\":{\"colorbar\":{\"outlinewidth\":0,\"ticks\":\"\"}},\"type\":\"scatter3d\"}],\"scattercarpet\":[{\"marker\":{\"colorbar\":{\"outlinewidth\":0,\"ticks\":\"\"}},\"type\":\"scattercarpet\"}],\"scattergeo\":[{\"marker\":{\"colorbar\":{\"outlinewidth\":0,\"ticks\":\"\"}},\"type\":\"scattergeo\"}],\"scattergl\":[{\"marker\":{\"colorbar\":{\"outlinewidth\":0,\"ticks\":\"\"}},\"type\":\"scattergl\"}],\"scattermapbox\":[{\"marker\":{\"colorbar\":{\"outlinewidth\":0,\"ticks\":\"\"}},\"type\":\"scattermapbox\"}],\"scatterpolar\":[{\"marker\":{\"colorbar\":{\"outlinewidth\":0,\"ticks\":\"\"}},\"type\":\"scatterpolar\"}],\"scatterpolargl\":[{\"marker\":{\"colorbar\":{\"outlinewidth\":0,\"ticks\":\"\"}},\"type\":\"scatterpolargl\"}],\"scatterternary\":[{\"marker\":{\"colorbar\":{\"outlinewidth\":0,\"ticks\":\"\"}},\"type\":\"scatterternary\"}],\"surface\":[{\"colorbar\":{\"outlinewidth\":0,\"ticks\":\"\"},\"colorscale\":[[0.0,\"#0d0887\"],[0.1111111111111111,\"#46039f\"],[0.2222222222222222,\"#7201a8\"],[0.3333333333333333,\"#9c179e\"],[0.4444444444444444,\"#bd3786\"],[0.5555555555555556,\"#d8576b\"],[0.6666666666666666,\"#ed7953\"],[0.7777777777777778,\"#fb9f3a\"],[0.8888888888888888,\"#fdca26\"],[1.0,\"#f0f921\"]],\"type\":\"surface\"}],\"table\":[{\"cells\":{\"fill\":{\"color\":\"#EBF0F8\"},\"line\":{\"color\":\"white\"}},\"header\":{\"fill\":{\"color\":\"#C8D4E3\"},\"line\":{\"color\":\"white\"}},\"type\":\"table\"}]},\"layout\":{\"annotationdefaults\":{\"arrowcolor\":\"#2a3f5f\",\"arrowhead\":0,\"arrowwidth\":1},\"autotypenumbers\":\"strict\",\"coloraxis\":{\"colorbar\":{\"outlinewidth\":0,\"ticks\":\"\"}},\"colorscale\":{\"diverging\":[[0,\"#8e0152\"],[0.1,\"#c51b7d\"],[0.2,\"#de77ae\"],[0.3,\"#f1b6da\"],[0.4,\"#fde0ef\"],[0.5,\"#f7f7f7\"],[0.6,\"#e6f5d0\"],[0.7,\"#b8e186\"],[0.8,\"#7fbc41\"],[0.9,\"#4d9221\"],[1,\"#276419\"]],\"sequential\":[[0.0,\"#0d0887\"],[0.1111111111111111,\"#46039f\"],[0.2222222222222222,\"#7201a8\"],[0.3333333333333333,\"#9c179e\"],[0.4444444444444444,\"#bd3786\"],[0.5555555555555556,\"#d8576b\"],[0.6666666666666666,\"#ed7953\"],[0.7777777777777778,\"#fb9f3a\"],[0.8888888888888888,\"#fdca26\"],[1.0,\"#f0f921\"]],\"sequentialminus\":[[0.0,\"#0d0887\"],[0.1111111111111111,\"#46039f\"],[0.2222222222222222,\"#7201a8\"],[0.3333333333333333,\"#9c179e\"],[0.4444444444444444,\"#bd3786\"],[0.5555555555555556,\"#d8576b\"],[0.6666666666666666,\"#ed7953\"],[0.7777777777777778,\"#fb9f3a\"],[0.8888888888888888,\"#fdca26\"],[1.0,\"#f0f921\"]]},\"colorway\":[\"#636efa\",\"#EF553B\",\"#00cc96\",\"#ab63fa\",\"#FFA15A\",\"#19d3f3\",\"#FF6692\",\"#B6E880\",\"#FF97FF\",\"#FECB52\"],\"font\":{\"color\":\"#2a3f5f\"},\"geo\":{\"bgcolor\":\"white\",\"lakecolor\":\"white\",\"landcolor\":\"#E5ECF6\",\"showlakes\":true,\"showland\":true,\"subunitcolor\":\"white\"},\"hoverlabel\":{\"align\":\"left\"},\"hovermode\":\"closest\",\"mapbox\":{\"style\":\"light\"},\"paper_bgcolor\":\"white\",\"plot_bgcolor\":\"#E5ECF6\",\"polar\":{\"angularaxis\":{\"gridcolor\":\"white\",\"linecolor\":\"white\",\"ticks\":\"\"},\"bgcolor\":\"#E5ECF6\",\"radialaxis\":{\"gridcolor\":\"white\",\"linecolor\":\"white\",\"ticks\":\"\"}},\"scene\":{\"xaxis\":{\"backgroundcolor\":\"#E5ECF6\",\"gridcolor\":\"white\",\"gridwidth\":2,\"linecolor\":\"white\",\"showbackground\":true,\"ticks\":\"\",\"zerolinecolor\":\"white\"},\"yaxis\":{\"backgroundcolor\":\"#E5ECF6\",\"gridcolor\":\"white\",\"gridwidth\":2,\"linecolor\":\"white\",\"showbackground\":true,\"ticks\":\"\",\"zerolinecolor\":\"white\"},\"zaxis\":{\"backgroundcolor\":\"#E5ECF6\",\"gridcolor\":\"white\",\"gridwidth\":2,\"linecolor\":\"white\",\"showbackground\":true,\"ticks\":\"\",\"zerolinecolor\":\"white\"}},\"shapedefaults\":{\"line\":{\"color\":\"#2a3f5f\"}},\"ternary\":{\"aaxis\":{\"gridcolor\":\"white\",\"linecolor\":\"white\",\"ticks\":\"\"},\"baxis\":{\"gridcolor\":\"white\",\"linecolor\":\"white\",\"ticks\":\"\"},\"bgcolor\":\"#E5ECF6\",\"caxis\":{\"gridcolor\":\"white\",\"linecolor\":\"white\",\"ticks\":\"\"}},\"title\":{\"x\":0.05},\"xaxis\":{\"automargin\":true,\"gridcolor\":\"white\",\"linecolor\":\"white\",\"ticks\":\"\",\"title\":{\"standoff\":15},\"zerolinecolor\":\"white\",\"zerolinewidth\":2},\"yaxis\":{\"automargin\":true,\"gridcolor\":\"white\",\"linecolor\":\"white\",\"ticks\":\"\",\"title\":{\"standoff\":15},\"zerolinecolor\":\"white\",\"zerolinewidth\":2}}},\"font\":{\"size\":13,\"color\":\"#333333\",\"family\":\"Arial\"},\"hovermode\":\"x\",\"title\":{\"text\":\"KR, Reasoning type to goals\"},\"height\":500,\"width\":700},                        {\"responsive\": true}                    ).then(function(){\n",
              "                            \n",
              "var gd = document.getElementById('340f66c8-380c-49b0-af8b-b6384494a023');\n",
              "var x = new MutationObserver(function (mutations, observer) {{\n",
              "        var display = window.getComputedStyle(gd).display;\n",
              "        if (!display || display === 'none') {{\n",
              "            console.log([gd, 'removed!']);\n",
              "            Plotly.purge(gd);\n",
              "            observer.disconnect();\n",
              "        }}\n",
              "}});\n",
              "\n",
              "// Listen for the removal of the full notebook cells\n",
              "var notebookContainer = gd.closest('#notebook-container');\n",
              "if (notebookContainer) {{\n",
              "    x.observe(notebookContainer, {childList: true});\n",
              "}}\n",
              "\n",
              "// Listen for the clearing of the current output cell\n",
              "var outputEl = gd.closest('.output');\n",
              "if (outputEl) {{\n",
              "    x.observe(outputEl, {childList: true});\n",
              "}}\n",
              "\n",
              "                        })                };                            </script>        </div>\n",
              "</body>\n",
              "</html>"
            ]
          },
          "metadata": {}
        },
        {
          "output_type": "stream",
          "name": "stdout",
          "text": [
            "[None, None, None, None, None, None, None, None, None, None, None, None, None, None, None, None, None, None, None, None, None, None, None, None, None, None, None, None, None, None, None, None, '4. Neuro: Symbolic → Neuro', '5. Neuro_Symbolic', '3. Neuro; Symbolic', '2. Symbolic[Neuro]', '1. symbolic Neuro symbolic', 'compiled', 'cooperative', 'nested', 'sequential', None, None, None, None, None, None, None, None, None, 'reasoning', 'out-of-distribution generalization', 'interpretability', 'reduced data', 'transferability', 'no goals met', None, None, None, None, None, None, None, None, None, None, None, None, None, None, None, None, None, None, None, None, None, None, None, None, None, None, None, None, None, None, None, None, None, None, None, None, None, None, None, None, None, None, None, None, None, None, None, None, None, None, None, None, None, None, None, None, None, None, None, None, None, None, None, None, None, None, None, None, None, None, None, None, None, None, None, None, None, None, None, None, None, None, None, None, None, None, None, None, None, None, None, None, None, None]\n",
            "<class 'list'>\n"
          ]
        },
        {
          "output_type": "display_data",
          "data": {
            "text/html": [
              "<html>\n",
              "<head><meta charset=\"utf-8\" /></head>\n",
              "<body>\n",
              "    <div>            <script src=\"https://cdnjs.cloudflare.com/ajax/libs/mathjax/2.7.5/MathJax.js?config=TeX-AMS-MML_SVG\"></script><script type=\"text/javascript\">if (window.MathJax) {MathJax.Hub.Config({SVG: {font: \"STIX-Web\"}});}</script>                <script type=\"text/javascript\">window.PlotlyConfig = {MathJaxConfig: 'local'};</script>\n",
              "        <script src=\"https://cdn.plot.ly/plotly-2.8.3.min.js\"></script>                <div id=\"a78b4b93-6c34-4f3d-9161-8e717ddb6350\" class=\"plotly-graph-div\" style=\"height:500px; width:700px;\"></div>            <script type=\"text/javascript\">                                    window.PLOTLYENV=window.PLOTLYENV || {};                                    if (document.getElementById(\"a78b4b93-6c34-4f3d-9161-8e717ddb6350\")) {                    Plotly.newPlot(                        \"a78b4b93-6c34-4f3d-9161-8e717ddb6350\",                        [{\"link\":{\"color\":[\"#9c4397\",\"#9c4397\",\"#9c4397\",\"#9c4397\",\"#9c4397\",\"#9c4397\",\"#9c4397\",\"#9c4397\",\"#57bcd6\",\"#57bcd6\",\"#57bcd6\",\"#57bcd6\",\"#450256\",\"#450256\",\"#57bcd6\",\"#57bcd6\",\"#57bcd6\",\"#57bcd6\",\"#57bcd6\",\"#57bcd6\",\"#57bcd6\",\"#57bcd6\",\"#57bcd6\",\"#57bcd6\",\"#57bcd6\",\"#57bcd6\",\"#57bcd6\",\"#57bcd6\",\"#57bcd6\",\"#89b79f\",\"#89b79f\",\"#89b79f\",\"#89b79f\",\"#89b79f\",\"#89b79f\",\"#89b79f\",\"#450256\",\"#450256\",\"#57bcd6\",\"#57bcd6\",\"#57bcd6\",\"#57bcd6\",\"#57bcd6\",\"#57bcd6\",\"#57bcd6\",\"#57bcd6\",\"#57bcd6\",\"#89b79f\",\"#89b79f\",\"#89b79f\",\"#57bcd6\",\"#57bcd6\",\"#450256\",\"#450256\",\"#57bcd6\",\"#57bcd6\",\"#57bcd6\",\"#57bcd6\",\"#57bcd6\",\"#57bcd6\",\"#89b79f\",\"#89b79f\",\"#450256\",\"#450256\",\"#57bcd6\",\"#57bcd6\",\"#57bcd6\",\"#57bcd6\",\"#57bcd6\",\"#450256\",\"#450256\",\"#450256\",\"#450256\",\"#450256\",\"#450256\",\"#57bcd6\",\"#57bcd6\",\"#57bcd6\",\"#450256\",\"#450256\",\"#450256\",\"#450256\",\"#450256\",\"#450256\",\"#450256\",\"#450256\",\"#57bcd6\",\"#57bcd6\",\"#57bcd6\",\"#57bcd6\",\"#57bcd6\",\"#57bcd6\",\"#89b79f\",\"#89b79f\",\"#450256\",\"#450256\",\"#89b79f\",\"#89b79f\",\"#89b79f\",\"#89b79f\",\"#89b79f\",\"#450256\",\"#450256\",\"#450256\",\"#57bcd6\",\"#57bcd6\",\"#57bcd6\",\"#57bcd6\",\"#57bcd6\",\"#57bcd6\",\"#57bcd6\",\"#89b79f\",\"#89b79f\",\"#89b79f\",\"#89b79f\",\"#9c4397\",\"#9c4397\",\"#9c4397\",\"#450256\",\"#450256\",\"#450256\",\"#450256\",\"#450256\",\"#450256\",\"#450256\",\"#450256\",\"#450256\",\"#450256\",\"#450256\",\"#450256\",\"#450256\",\"#450256\",\"#450256\",\"#450256\",\"#450256\",\"#450256\",\"#450256\",\"#450256\",\"#450256\",\"#450256\",\"#9c4397\",\"#9c4397\",\"#450256\",\"#450256\",\"#89b79f\",\"#89b79f\",\"#89b79f\",\"#89b79f\",\"#89b79f\",\"#450256\",\"#450256\",\"#57bcd6\",\"#57bcd6\",\"#450256\",\"#450256\",\"#57bcd6\",\"#57bcd6\",\"#57bcd6\",\"#57bcd6\",\"#57bcd6\",\"#57bcd6\",\"#57bcd6\",\"#57bcd6\",\"#57bcd6\",\"#57bcd6\",\"#57bcd6\"],\"source\":[\"39\",\"35\",\"35\",\"39\",\"35\",\"35\",\"35\",\"35\",\"37\",\"32\",\"37\",\"32\",\"40\",\"36\",\"37\",\"32\",\"32\",\"37\",\"32\",\"37\",\"32\",\"32\",\"32\",\"32\",\"37\",\"32\",\"32\",\"32\",\"32\",\"38\",\"34\",\"38\",\"34\",\"34\",\"38\",\"34\",\"40\",\"36\",\"37\",\"33\",\"37\",\"32\",\"37\",\"32\",\"32\",\"32\",\"32\",\"38\",\"34\",\"34\",\"37\",\"32\",\"40\",\"36\",\"37\",\"32\",\"37\",\"32\",\"32\",\"32\",\"38\",\"34\",\"40\",\"36\",\"37\",\"32\",\"32\",\"32\",\"32\",\"40\",\"36\",\"36\",\"40\",\"36\",\"36\",\"37\",\"33\",\"33\",\"40\",\"36\",\"36\",\"40\",\"36\",\"36\",\"40\",\"36\",\"37\",\"33\",\"37\",\"33\",\"33\",\"33\",\"38\",\"34\",\"40\",\"36\",\"38\",\"34\",\"34\",\"34\",\"34\",\"40\",\"36\",\"36\",\"37\",\"32\",\"32\",\"37\",\"33\",\"37\",\"32\",\"38\",\"34\",\"34\",\"34\",\"39\",\"35\",\"35\",\"40\",\"36\",\"40\",\"36\",\"36\",\"40\",\"36\",\"40\",\"36\",\"40\",\"36\",\"36\",\"40\",\"36\",\"36\",\"40\",\"36\",\"40\",\"36\",\"40\",\"36\",\"36\",\"39\",\"35\",\"40\",\"36\",\"38\",\"34\",\"34\",\"34\",\"34\",\"40\",\"36\",\"37\",\"33\",\"40\",\"36\",\"37\",\"32\",\"32\",\"32\",\"37\",\"33\",\"33\",\"33\",\"37\",\"32\",\"32\"],\"target\":[\"35\",\"50\",\"52\",\"35\",\"50\",\"51\",\"52\",\"53\",\"32\",\"50\",\"32\",\"55\",\"36\",\"55\",\"32\",\"50\",\"54\",\"32\",\"51\",\"32\",\"50\",\"52\",\"53\",\"54\",\"32\",\"51\",\"52\",\"53\",\"54\",\"34\",\"52\",\"34\",\"51\",\"53\",\"34\",\"50\",\"36\",\"55\",\"33\",\"53\",\"32\",\"52\",\"32\",\"51\",\"52\",\"53\",\"54\",\"34\",\"50\",\"54\",\"32\",\"55\",\"36\",\"50\",\"32\",\"55\",\"32\",\"50\",\"51\",\"52\",\"34\",\"55\",\"36\",\"50\",\"32\",\"50\",\"51\",\"52\",\"54\",\"36\",\"50\",\"52\",\"36\",\"52\",\"54\",\"33\",\"51\",\"53\",\"36\",\"51\",\"54\",\"36\",\"50\",\"52\",\"36\",\"55\",\"33\",\"55\",\"33\",\"50\",\"51\",\"52\",\"34\",\"50\",\"36\",\"55\",\"34\",\"51\",\"52\",\"53\",\"54\",\"36\",\"50\",\"52\",\"32\",\"50\",\"52\",\"33\",\"50\",\"32\",\"50\",\"34\",\"50\",\"52\",\"53\",\"35\",\"50\",\"54\",\"36\",\"50\",\"36\",\"51\",\"53\",\"36\",\"55\",\"36\",\"50\",\"36\",\"50\",\"53\",\"36\",\"50\",\"52\",\"36\",\"50\",\"36\",\"50\",\"36\",\"50\",\"53\",\"35\",\"53\",\"36\",\"50\",\"34\",\"50\",\"51\",\"52\",\"53\",\"36\",\"50\",\"33\",\"55\",\"36\",\"55\",\"32\",\"51\",\"53\",\"54\",\"33\",\"50\",\"52\",\"54\",\"32\",\"50\",\"51\"],\"value\":[\"0.9999999999\",\"0.499999999975\",\"0.499999999975\",\"0.9999999999\",\"0.24999999999375\",\"0.24999999999375\",\"0.24999999999375\",\"0.24999999999375\",\"0.9999999999\",\"0.9999999999\",\"0.9999999999\",\"0.9999999999\",\"0.9999999999\",\"0.9999999999\",\"0.9999999999\",\"0.499999999975\",\"0.499999999975\",\"0.9999999999\",\"0.9999999999\",\"0.9999999999\",\"0.24999999999375\",\"0.24999999999375\",\"0.24999999999375\",\"0.24999999999375\",\"0.9999999999\",\"0.24999999999375\",\"0.24999999999375\",\"0.24999999999375\",\"0.24999999999375\",\"0.9999999999\",\"0.9999999999\",\"0.9999999999\",\"0.499999999975\",\"0.499999999975\",\"0.9999999999\",\"0.9999999999\",\"0.9999999999\",\"0.9999999999\",\"0.9999999999\",\"0.9999999999\",\"0.9999999999\",\"0.9999999999\",\"0.9999999999\",\"0.24999999999375\",\"0.24999999999375\",\"0.24999999999375\",\"0.24999999999375\",\"0.9999999999\",\"0.499999999975\",\"0.499999999975\",\"0.9999999999\",\"0.9999999999\",\"0.9999999999\",\"0.9999999999\",\"0.9999999999\",\"0.9999999999\",\"0.9999999999\",\"0.3333333333222222\",\"0.3333333333222222\",\"0.3333333333222222\",\"0.9999999999\",\"0.9999999999\",\"0.9999999999\",\"0.9999999999\",\"0.9999999999\",\"0.24999999999375\",\"0.24999999999375\",\"0.24999999999375\",\"0.24999999999375\",\"0.9999999999\",\"0.499999999975\",\"0.499999999975\",\"0.9999999999\",\"0.499999999975\",\"0.499999999975\",\"0.9999999999\",\"0.499999999975\",\"0.499999999975\",\"0.9999999999\",\"0.499999999975\",\"0.499999999975\",\"0.9999999999\",\"0.499999999975\",\"0.499999999975\",\"0.9999999999\",\"0.9999999999\",\"0.9999999999\",\"0.9999999999\",\"0.9999999999\",\"0.3333333333222222\",\"0.3333333333222222\",\"0.3333333333222222\",\"0.9999999999\",\"0.9999999999\",\"0.9999999999\",\"0.9999999999\",\"0.9999999999\",\"0.24999999999375\",\"0.24999999999375\",\"0.24999999999375\",\"0.24999999999375\",\"0.9999999999\",\"0.499999999975\",\"0.499999999975\",\"0.9999999999\",\"0.499999999975\",\"0.499999999975\",\"0.9999999999\",\"0.9999999999\",\"0.9999999999\",\"0.9999999999\",\"0.9999999999\",\"0.3333333333222222\",\"0.3333333333222222\",\"0.3333333333222222\",\"0.9999999999\",\"0.499999999975\",\"0.499999999975\",\"0.9999999999\",\"0.9999999999\",\"0.9999999999\",\"0.499999999975\",\"0.499999999975\",\"0.9999999999\",\"0.9999999999\",\"0.9999999999\",\"0.9999999999\",\"0.9999999999\",\"0.499999999975\",\"0.499999999975\",\"0.9999999999\",\"0.499999999975\",\"0.499999999975\",\"0.9999999999\",\"0.9999999999\",\"0.9999999999\",\"0.9999999999\",\"0.9999999999\",\"0.499999999975\",\"0.499999999975\",\"0.9999999999\",\"0.9999999999\",\"0.9999999999\",\"0.9999999999\",\"0.9999999999\",\"0.24999999999375\",\"0.24999999999375\",\"0.24999999999375\",\"0.24999999999375\",\"0.9999999999\",\"0.9999999999\",\"0.9999999999\",\"0.9999999999\",\"0.9999999999\",\"0.9999999999\",\"0.9999999999\",\"0.3333333333222222\",\"0.3333333333222222\",\"0.3333333333222222\",\"0.9999999999\",\"0.3333333333222222\",\"0.3333333333222222\",\"0.3333333333222222\",\"0.9999999999\",\"0.499999999975\",\"0.499999999975\"]},\"node\":{\"color\":\"#333333\",\"label\":[\"None\",\"None\",\"None\",\"None\",\"None\",\"None\",\"None\",\"None\",\"None\",\"None\",\"None\",\"None\",\"None\",\"None\",\"None\",\"None\",\"None\",\"None\",\"None\",\"None\",\"None\",\"None\",\"None\",\"None\",\"None\",\"None\",\"None\",\"None\",\"None\",\"None\",\"None\",\"None\",\"4. neuro: symbolic \\u2192 neuro\",\"5. neuro_symbolic\",\"3. neuro; symbolic\",\"2. symbolic[neuro]\",\"1. symbolic neuro symbolic\",\"Compiled\",\"Cooperative\",\"Nested\",\"Sequential\",\"None\",\"None\",\"None\",\"None\",\"None\",\"None\",\"None\",\"None\",\"None\",\"Reasoning\",\"OOD\",\"Interpretability\",\"Reduced data\",\"Transferability\",\"No goals met\",\"None\",\"None\",\"None\",\"None\",\"None\",\"None\",\"None\",\"None\",\"None\",\"None\",\"None\",\"None\",\"None\",\"None\",\"None\",\"None\",\"None\",\"None\",\"None\",\"None\",\"None\",\"None\",\"None\",\"None\",\"None\",\"None\",\"None\",\"None\",\"None\",\"None\",\"None\",\"None\",\"None\",\"None\",\"None\",\"None\",\"None\",\"None\",\"None\",\"None\",\"None\",\"None\",\"None\",\"None\",\"None\",\"None\",\"None\",\"None\",\"None\",\"None\",\"None\",\"None\",\"None\",\"None\",\"None\",\"None\",\"None\",\"None\",\"None\",\"None\",\"None\",\"None\",\"None\",\"None\",\"None\",\"None\",\"None\",\"None\",\"None\",\"None\",\"None\",\"None\",\"None\",\"None\",\"None\",\"None\",\"None\",\"None\",\"None\",\"None\",\"None\",\"None\",\"None\",\"None\",\"None\",\"None\",\"None\",\"None\",\"None\",\"None\",\"None\",\"None\",\"None\",\"None\"],\"pad\":25,\"thickness\":10},\"type\":\"sankey\"}],                        {\"template\":{\"data\":{\"bar\":[{\"error_x\":{\"color\":\"#2a3f5f\"},\"error_y\":{\"color\":\"#2a3f5f\"},\"marker\":{\"line\":{\"color\":\"#E5ECF6\",\"width\":0.5},\"pattern\":{\"fillmode\":\"overlay\",\"size\":10,\"solidity\":0.2}},\"type\":\"bar\"}],\"barpolar\":[{\"marker\":{\"line\":{\"color\":\"#E5ECF6\",\"width\":0.5},\"pattern\":{\"fillmode\":\"overlay\",\"size\":10,\"solidity\":0.2}},\"type\":\"barpolar\"}],\"carpet\":[{\"aaxis\":{\"endlinecolor\":\"#2a3f5f\",\"gridcolor\":\"white\",\"linecolor\":\"white\",\"minorgridcolor\":\"white\",\"startlinecolor\":\"#2a3f5f\"},\"baxis\":{\"endlinecolor\":\"#2a3f5f\",\"gridcolor\":\"white\",\"linecolor\":\"white\",\"minorgridcolor\":\"white\",\"startlinecolor\":\"#2a3f5f\"},\"type\":\"carpet\"}],\"choropleth\":[{\"colorbar\":{\"outlinewidth\":0,\"ticks\":\"\"},\"type\":\"choropleth\"}],\"contour\":[{\"colorbar\":{\"outlinewidth\":0,\"ticks\":\"\"},\"colorscale\":[[0.0,\"#0d0887\"],[0.1111111111111111,\"#46039f\"],[0.2222222222222222,\"#7201a8\"],[0.3333333333333333,\"#9c179e\"],[0.4444444444444444,\"#bd3786\"],[0.5555555555555556,\"#d8576b\"],[0.6666666666666666,\"#ed7953\"],[0.7777777777777778,\"#fb9f3a\"],[0.8888888888888888,\"#fdca26\"],[1.0,\"#f0f921\"]],\"type\":\"contour\"}],\"contourcarpet\":[{\"colorbar\":{\"outlinewidth\":0,\"ticks\":\"\"},\"type\":\"contourcarpet\"}],\"heatmap\":[{\"colorbar\":{\"outlinewidth\":0,\"ticks\":\"\"},\"colorscale\":[[0.0,\"#0d0887\"],[0.1111111111111111,\"#46039f\"],[0.2222222222222222,\"#7201a8\"],[0.3333333333333333,\"#9c179e\"],[0.4444444444444444,\"#bd3786\"],[0.5555555555555556,\"#d8576b\"],[0.6666666666666666,\"#ed7953\"],[0.7777777777777778,\"#fb9f3a\"],[0.8888888888888888,\"#fdca26\"],[1.0,\"#f0f921\"]],\"type\":\"heatmap\"}],\"heatmapgl\":[{\"colorbar\":{\"outlinewidth\":0,\"ticks\":\"\"},\"colorscale\":[[0.0,\"#0d0887\"],[0.1111111111111111,\"#46039f\"],[0.2222222222222222,\"#7201a8\"],[0.3333333333333333,\"#9c179e\"],[0.4444444444444444,\"#bd3786\"],[0.5555555555555556,\"#d8576b\"],[0.6666666666666666,\"#ed7953\"],[0.7777777777777778,\"#fb9f3a\"],[0.8888888888888888,\"#fdca26\"],[1.0,\"#f0f921\"]],\"type\":\"heatmapgl\"}],\"histogram\":[{\"marker\":{\"pattern\":{\"fillmode\":\"overlay\",\"size\":10,\"solidity\":0.2}},\"type\":\"histogram\"}],\"histogram2d\":[{\"colorbar\":{\"outlinewidth\":0,\"ticks\":\"\"},\"colorscale\":[[0.0,\"#0d0887\"],[0.1111111111111111,\"#46039f\"],[0.2222222222222222,\"#7201a8\"],[0.3333333333333333,\"#9c179e\"],[0.4444444444444444,\"#bd3786\"],[0.5555555555555556,\"#d8576b\"],[0.6666666666666666,\"#ed7953\"],[0.7777777777777778,\"#fb9f3a\"],[0.8888888888888888,\"#fdca26\"],[1.0,\"#f0f921\"]],\"type\":\"histogram2d\"}],\"histogram2dcontour\":[{\"colorbar\":{\"outlinewidth\":0,\"ticks\":\"\"},\"colorscale\":[[0.0,\"#0d0887\"],[0.1111111111111111,\"#46039f\"],[0.2222222222222222,\"#7201a8\"],[0.3333333333333333,\"#9c179e\"],[0.4444444444444444,\"#bd3786\"],[0.5555555555555556,\"#d8576b\"],[0.6666666666666666,\"#ed7953\"],[0.7777777777777778,\"#fb9f3a\"],[0.8888888888888888,\"#fdca26\"],[1.0,\"#f0f921\"]],\"type\":\"histogram2dcontour\"}],\"mesh3d\":[{\"colorbar\":{\"outlinewidth\":0,\"ticks\":\"\"},\"type\":\"mesh3d\"}],\"parcoords\":[{\"line\":{\"colorbar\":{\"outlinewidth\":0,\"ticks\":\"\"}},\"type\":\"parcoords\"}],\"pie\":[{\"automargin\":true,\"type\":\"pie\"}],\"scatter\":[{\"marker\":{\"colorbar\":{\"outlinewidth\":0,\"ticks\":\"\"}},\"type\":\"scatter\"}],\"scatter3d\":[{\"line\":{\"colorbar\":{\"outlinewidth\":0,\"ticks\":\"\"}},\"marker\":{\"colorbar\":{\"outlinewidth\":0,\"ticks\":\"\"}},\"type\":\"scatter3d\"}],\"scattercarpet\":[{\"marker\":{\"colorbar\":{\"outlinewidth\":0,\"ticks\":\"\"}},\"type\":\"scattercarpet\"}],\"scattergeo\":[{\"marker\":{\"colorbar\":{\"outlinewidth\":0,\"ticks\":\"\"}},\"type\":\"scattergeo\"}],\"scattergl\":[{\"marker\":{\"colorbar\":{\"outlinewidth\":0,\"ticks\":\"\"}},\"type\":\"scattergl\"}],\"scattermapbox\":[{\"marker\":{\"colorbar\":{\"outlinewidth\":0,\"ticks\":\"\"}},\"type\":\"scattermapbox\"}],\"scatterpolar\":[{\"marker\":{\"colorbar\":{\"outlinewidth\":0,\"ticks\":\"\"}},\"type\":\"scatterpolar\"}],\"scatterpolargl\":[{\"marker\":{\"colorbar\":{\"outlinewidth\":0,\"ticks\":\"\"}},\"type\":\"scatterpolargl\"}],\"scatterternary\":[{\"marker\":{\"colorbar\":{\"outlinewidth\":0,\"ticks\":\"\"}},\"type\":\"scatterternary\"}],\"surface\":[{\"colorbar\":{\"outlinewidth\":0,\"ticks\":\"\"},\"colorscale\":[[0.0,\"#0d0887\"],[0.1111111111111111,\"#46039f\"],[0.2222222222222222,\"#7201a8\"],[0.3333333333333333,\"#9c179e\"],[0.4444444444444444,\"#bd3786\"],[0.5555555555555556,\"#d8576b\"],[0.6666666666666666,\"#ed7953\"],[0.7777777777777778,\"#fb9f3a\"],[0.8888888888888888,\"#fdca26\"],[1.0,\"#f0f921\"]],\"type\":\"surface\"}],\"table\":[{\"cells\":{\"fill\":{\"color\":\"#EBF0F8\"},\"line\":{\"color\":\"white\"}},\"header\":{\"fill\":{\"color\":\"#C8D4E3\"},\"line\":{\"color\":\"white\"}},\"type\":\"table\"}]},\"layout\":{\"annotationdefaults\":{\"arrowcolor\":\"#2a3f5f\",\"arrowhead\":0,\"arrowwidth\":1},\"autotypenumbers\":\"strict\",\"coloraxis\":{\"colorbar\":{\"outlinewidth\":0,\"ticks\":\"\"}},\"colorscale\":{\"diverging\":[[0,\"#8e0152\"],[0.1,\"#c51b7d\"],[0.2,\"#de77ae\"],[0.3,\"#f1b6da\"],[0.4,\"#fde0ef\"],[0.5,\"#f7f7f7\"],[0.6,\"#e6f5d0\"],[0.7,\"#b8e186\"],[0.8,\"#7fbc41\"],[0.9,\"#4d9221\"],[1,\"#276419\"]],\"sequential\":[[0.0,\"#0d0887\"],[0.1111111111111111,\"#46039f\"],[0.2222222222222222,\"#7201a8\"],[0.3333333333333333,\"#9c179e\"],[0.4444444444444444,\"#bd3786\"],[0.5555555555555556,\"#d8576b\"],[0.6666666666666666,\"#ed7953\"],[0.7777777777777778,\"#fb9f3a\"],[0.8888888888888888,\"#fdca26\"],[1.0,\"#f0f921\"]],\"sequentialminus\":[[0.0,\"#0d0887\"],[0.1111111111111111,\"#46039f\"],[0.2222222222222222,\"#7201a8\"],[0.3333333333333333,\"#9c179e\"],[0.4444444444444444,\"#bd3786\"],[0.5555555555555556,\"#d8576b\"],[0.6666666666666666,\"#ed7953\"],[0.7777777777777778,\"#fb9f3a\"],[0.8888888888888888,\"#fdca26\"],[1.0,\"#f0f921\"]]},\"colorway\":[\"#636efa\",\"#EF553B\",\"#00cc96\",\"#ab63fa\",\"#FFA15A\",\"#19d3f3\",\"#FF6692\",\"#B6E880\",\"#FF97FF\",\"#FECB52\"],\"font\":{\"color\":\"#2a3f5f\"},\"geo\":{\"bgcolor\":\"white\",\"lakecolor\":\"white\",\"landcolor\":\"#E5ECF6\",\"showlakes\":true,\"showland\":true,\"subunitcolor\":\"white\"},\"hoverlabel\":{\"align\":\"left\"},\"hovermode\":\"closest\",\"mapbox\":{\"style\":\"light\"},\"paper_bgcolor\":\"white\",\"plot_bgcolor\":\"#E5ECF6\",\"polar\":{\"angularaxis\":{\"gridcolor\":\"white\",\"linecolor\":\"white\",\"ticks\":\"\"},\"bgcolor\":\"#E5ECF6\",\"radialaxis\":{\"gridcolor\":\"white\",\"linecolor\":\"white\",\"ticks\":\"\"}},\"scene\":{\"xaxis\":{\"backgroundcolor\":\"#E5ECF6\",\"gridcolor\":\"white\",\"gridwidth\":2,\"linecolor\":\"white\",\"showbackground\":true,\"ticks\":\"\",\"zerolinecolor\":\"white\"},\"yaxis\":{\"backgroundcolor\":\"#E5ECF6\",\"gridcolor\":\"white\",\"gridwidth\":2,\"linecolor\":\"white\",\"showbackground\":true,\"ticks\":\"\",\"zerolinecolor\":\"white\"},\"zaxis\":{\"backgroundcolor\":\"#E5ECF6\",\"gridcolor\":\"white\",\"gridwidth\":2,\"linecolor\":\"white\",\"showbackground\":true,\"ticks\":\"\",\"zerolinecolor\":\"white\"}},\"shapedefaults\":{\"line\":{\"color\":\"#2a3f5f\"}},\"ternary\":{\"aaxis\":{\"gridcolor\":\"white\",\"linecolor\":\"white\",\"ticks\":\"\"},\"baxis\":{\"gridcolor\":\"white\",\"linecolor\":\"white\",\"ticks\":\"\"},\"bgcolor\":\"#E5ECF6\",\"caxis\":{\"gridcolor\":\"white\",\"linecolor\":\"white\",\"ticks\":\"\"}},\"title\":{\"x\":0.05},\"xaxis\":{\"automargin\":true,\"gridcolor\":\"white\",\"linecolor\":\"white\",\"ticks\":\"\",\"title\":{\"standoff\":15},\"zerolinecolor\":\"white\",\"zerolinewidth\":2},\"yaxis\":{\"automargin\":true,\"gridcolor\":\"white\",\"linecolor\":\"white\",\"ticks\":\"\",\"title\":{\"standoff\":15},\"zerolinecolor\":\"white\",\"zerolinewidth\":2}}},\"font\":{\"size\":13,\"color\":\"#333333\",\"family\":\"Arial\"},\"hovermode\":\"x\",\"title\":{\"text\":\"NeSy Kautz cat to goals\"},\"height\":500,\"width\":700},                        {\"responsive\": true}                    ).then(function(){\n",
              "                            \n",
              "var gd = document.getElementById('a78b4b93-6c34-4f3d-9161-8e717ddb6350');\n",
              "var x = new MutationObserver(function (mutations, observer) {{\n",
              "        var display = window.getComputedStyle(gd).display;\n",
              "        if (!display || display === 'none') {{\n",
              "            console.log([gd, 'removed!']);\n",
              "            Plotly.purge(gd);\n",
              "            observer.disconnect();\n",
              "        }}\n",
              "}});\n",
              "\n",
              "// Listen for the removal of the full notebook cells\n",
              "var notebookContainer = gd.closest('#notebook-container');\n",
              "if (notebookContainer) {{\n",
              "    x.observe(notebookContainer, {childList: true});\n",
              "}}\n",
              "\n",
              "// Listen for the clearing of the current output cell\n",
              "var outputEl = gd.closest('.output');\n",
              "if (outputEl) {{\n",
              "    x.observe(outputEl, {childList: true});\n",
              "}}\n",
              "\n",
              "                        })                };                            </script>        </div>\n",
              "</body>\n",
              "</html>"
            ]
          },
          "metadata": {}
        },
        {
          "output_type": "stream",
          "name": "stdout",
          "text": [
            "[None, 'Emotion recognition', 'Sentiment analysis', 'Text games', 'Dialog system', 'N2F', 'KG Completion / link prediction', 'Entity Linking', 'Relation extraction', 'Image captioning', 'Opnion extraction', 'Annotation', 'Reading comprehension', 'Text classification', 'Causal Reasoning', 'Question answering', 'Decision support', 'Argumentation mining', 'Language modeling', 'Information extraction', 'Entity Resolution', 'Text summarization', 'similarity', 'classification', 'generative', 'inference', 'information extraction', None, None, None, None, None, None, None, None, None, None, None, None, None, None, None, None, None, None, None, None, None, None, None, 'reasoning', 'out-of-distribution generalization', 'interpretability', 'reduced data', 'transferability', 'no goals met', None, None, None, None, None, None, None, None, None, None, None, None, None, None, None, None, None, None, None, None, None, None, None, None, None, None, None, None, None, None, None, None, None, None, None, None, None, None, None, None, None, None, None, None, None, None, None, None, None, None, None, None, None, None, None, None, None, None, None, None, None, None, None, None, None, None, None, None, None, None, None, None, None, None, None, None, None, None, None, None, None, None, None, None, None, None, None, None, None, None, None, None, None, None]\n",
            "<class 'list'>\n"
          ]
        },
        {
          "output_type": "display_data",
          "data": {
            "text/html": [
              "<html>\n",
              "<head><meta charset=\"utf-8\" /></head>\n",
              "<body>\n",
              "    <div>            <script src=\"https://cdnjs.cloudflare.com/ajax/libs/mathjax/2.7.5/MathJax.js?config=TeX-AMS-MML_SVG\"></script><script type=\"text/javascript\">if (window.MathJax) {MathJax.Hub.Config({SVG: {font: \"STIX-Web\"}});}</script>                <script type=\"text/javascript\">window.PlotlyConfig = {MathJaxConfig: 'local'};</script>\n",
              "        <script src=\"https://cdn.plot.ly/plotly-2.8.3.min.js\"></script>                <div id=\"de728181-5ee5-4186-948b-6c23cdda9a65\" class=\"plotly-graph-div\" style=\"height:500px; width:700px;\"></div>            <script type=\"text/javascript\">                                    window.PLOTLYENV=window.PLOTLYENV || {};                                    if (document.getElementById(\"de728181-5ee5-4186-948b-6c23cdda9a65\")) {                    Plotly.newPlot(                        \"de728181-5ee5-4186-948b-6c23cdda9a65\",                        [{\"link\":{\"color\":[\"#005d79\",\"#005d79\",\"#005d79\",\"#89b79f\",\"#89b79f\",\"#89b79f\",\"#89b79f\",\"#89b79f\",\"#296afb\",\"#296afb\",\"#450256\",\"#450256\",\"#57bcd6\",\"#57bcd6\",\"#ff2f6d\",\"#ff2f6d\",\"#ff2f6d\",\"#2a91a7\",\"#2a91a7\",\"#2a91a7\",\"#2a91a7\",\"#2a91a7\",\"#2a91a7\",\"#2a91a7\",\"#89b79f\",\"#89b79f\",\"#89b79f\",\"#89b79f\",\"#89b79f\",\"#2a91a7\",\"#2a91a7\",\"#2a91a7\",\"#2a91a7\",\"#2a91a7\",\"#450256\",\"#450256\",\"#89b79f\",\"#89b79f\",\"#89b79f\",\"#89b79f\",\"#afe979\",\"#afe979\",\"#afe979\",\"#afe979\",\"#afe979\",\"#afe979\",\"#afe979\",\"#89b79f\",\"#89b79f\",\"#89b79f\",\"#89b79f\",\"#89b79f\",\"#450256\",\"#450256\",\"#ff2f6d\",\"#ff2f6d\",\"#9c4397\",\"#9c4397\",\"#9c4397\",\"#9c4397\",\"#450256\",\"#450256\",\"#89b79f\",\"#89b79f\",\"#ff2f6d\",\"#ff2f6d\",\"#ff2f6d\",\"#ff2f6d\",\"#ff2f6d\",\"#296afb\",\"#296afb\",\"#296afb\",\"#2a91a7\",\"#2a91a7\",\"#2a91a7\",\"#9c4397\",\"#9c4397\",\"#9c4397\",\"#2a91a7\",\"#2a91a7\",\"#2a91a7\",\"#57bcd6\",\"#57bcd6\",\"#57bcd6\",\"#9c4397\",\"#9c4397\",\"#57bcd6\",\"#57bcd6\",\"#2a91a7\",\"#2a91a7\",\"#2a91a7\",\"#2a91a7\",\"#2a91a7\",\"#2a91a7\",\"#2a91a7\",\"#2a91a7\",\"#9c4397\",\"#9c4397\",\"#9c4397\",\"#9c4397\",\"#9c4397\",\"#2a91a7\",\"#2a91a7\",\"#2a91a7\",\"#afe979\",\"#afe979\",\"#afe979\",\"#57bcd6\",\"#57bcd6\",\"#9c4397\",\"#9c4397\",\"#2a91a7\",\"#2a91a7\",\"#2a91a7\",\"#2a91a7\",\"#57bcd6\",\"#57bcd6\",\"#57bcd6\",\"#9c4397\",\"#9c4397\",\"#9c4397\",\"#9c4397\",\"#9c4397\",\"#9c4397\",\"#9c4397\",\"#57bcd6\",\"#57bcd6\",\"#2a91a7\",\"#2a91a7\",\"#2a91a7\",\"#57bcd6\",\"#57bcd6\",\"#57bcd6\",\"#ff2f6d\",\"#ff2f6d\",\"#296afb\",\"#296afb\",\"#57bcd6\",\"#57bcd6\",\"#57bcd6\",\"#2a91a7\",\"#2a91a7\",\"#450256\",\"#450256\",\"#2a91a7\",\"#2a91a7\",\"#2a91a7\",\"#2a91a7\",\"#2a91a7\",\"#2a91a7\",\"#2a91a7\",\"#2a91a7\",\"#2a91a7\",\"#2a91a7\",\"#2a91a7\",\"#2a91a7\",\"#005d79\",\"#005d79\",\"#9c4397\",\"#9c4397\",\"#ff2f6d\",\"#ff2f6d\",\"#ff2f6d\",\"#ff2f6d\",\"#ff2f6d\",\"#ff2f6d\",\"#ff2f6d\",\"#ff2f6d\",\"#005d79\",\"#005d79\",\"#005d79\"],\"source\":[\"18\",\"23\",\"23\",\"12\",\"24\",\"24\",\"24\",\"24\",\"17\",\"23\",\"19\",\"26\",\"11\",\"26\",\"14\",\"25\",\"25\",\"15\",\"26\",\"15\",\"25\",\"25\",\"25\",\"25\",\"3\",\"25\",\"25\",\"25\",\"25\",\"15\",\"23\",\"15\",\"26\",\"26\",\"19\",\"23\",\"21\",\"24\",\"12\",\"23\",\"16\",\"23\",\"7\",\"26\",\"26\",\"26\",\"26\",\"12\",\"25\",\"25\",\"12\",\"26\",\"1\",\"23\",\"14\",\"23\",\"13\",\"23\",\"23\",\"23\",\"10\",\"23\",\"12\",\"25\",\"5\",\"25\",\"25\",\"25\",\"25\",\"8\",\"26\",\"26\",\"6\",\"23\",\"23\",\"4\",\"24\",\"24\",\"6\",\"23\",\"23\",\"20\",\"23\",\"23\",\"13\",\"23\",\"2\",\"23\",\"6\",\"25\",\"25\",\"25\",\"6\",\"23\",\"6\",\"23\",\"13\",\"23\",\"23\",\"23\",\"23\",\"15\",\"25\",\"25\",\"16\",\"23\",\"23\",\"2\",\"23\",\"4\",\"23\",\"15\",\"25\",\"25\",\"25\",\"2\",\"23\",\"23\",\"13\",\"23\",\"13\",\"23\",\"23\",\"13\",\"23\",\"2\",\"23\",\"15\",\"22\",\"22\",\"2\",\"23\",\"23\",\"14\",\"23\",\"8\",\"23\",\"11\",\"23\",\"23\",\"15\",\"23\",\"19\",\"23\",\"15\",\"15\",\"23\",\"23\",\"23\",\"23\",\"25\",\"25\",\"25\",\"25\",\"15\",\"23\",\"9\",\"24\",\"13\",\"23\",\"5\",\"24\",\"24\",\"24\",\"5\",\"24\",\"24\",\"24\",\"18\",\"24\",\"24\"],\"target\":[\"23\",\"50\",\"52\",\"24\",\"50\",\"51\",\"52\",\"53\",\"23\",\"50\",\"26\",\"55\",\"26\",\"55\",\"25\",\"50\",\"54\",\"26\",\"51\",\"25\",\"50\",\"52\",\"53\",\"54\",\"25\",\"51\",\"52\",\"53\",\"54\",\"23\",\"52\",\"26\",\"51\",\"53\",\"23\",\"50\",\"24\",\"55\",\"23\",\"53\",\"23\",\"52\",\"26\",\"51\",\"52\",\"53\",\"54\",\"25\",\"50\",\"54\",\"26\",\"55\",\"23\",\"50\",\"23\",\"55\",\"23\",\"50\",\"51\",\"52\",\"23\",\"55\",\"25\",\"50\",\"25\",\"50\",\"51\",\"52\",\"54\",\"26\",\"50\",\"52\",\"23\",\"52\",\"54\",\"24\",\"51\",\"53\",\"23\",\"51\",\"54\",\"23\",\"50\",\"52\",\"23\",\"55\",\"23\",\"55\",\"25\",\"50\",\"51\",\"52\",\"23\",\"50\",\"23\",\"55\",\"23\",\"51\",\"52\",\"53\",\"54\",\"25\",\"50\",\"52\",\"23\",\"50\",\"52\",\"23\",\"50\",\"23\",\"50\",\"25\",\"50\",\"52\",\"53\",\"23\",\"50\",\"54\",\"23\",\"50\",\"23\",\"51\",\"53\",\"23\",\"55\",\"23\",\"50\",\"22\",\"50\",\"53\",\"23\",\"50\",\"52\",\"23\",\"50\",\"23\",\"50\",\"23\",\"50\",\"53\",\"23\",\"53\",\"23\",\"50\",\"23\",\"25\",\"50\",\"51\",\"52\",\"53\",\"50\",\"51\",\"52\",\"53\",\"23\",\"50\",\"24\",\"55\",\"23\",\"55\",\"24\",\"51\",\"53\",\"54\",\"24\",\"50\",\"52\",\"54\",\"24\",\"50\",\"51\"],\"value\":[\"0.9999999999\",\"0.499999999975\",\"0.499999999975\",\"0.9999999999\",\"0.24999999999375\",\"0.24999999999375\",\"0.24999999999375\",\"0.24999999999375\",\"0.9999999999\",\"0.9999999999\",\"0.9999999999\",\"0.9999999999\",\"0.9999999999\",\"0.9999999999\",\"0.9999999999\",\"0.499999999975\",\"0.499999999975\",\"0.9999999999\",\"0.9999999999\",\"0.9999999999\",\"0.24999999999375\",\"0.24999999999375\",\"0.24999999999375\",\"0.24999999999375\",\"0.9999999999\",\"0.24999999999375\",\"0.24999999999375\",\"0.24999999999375\",\"0.24999999999375\",\"0.9999999999\",\"0.9999999999\",\"0.9999999999\",\"0.499999999975\",\"0.499999999975\",\"0.9999999999\",\"0.9999999999\",\"0.9999999999\",\"0.9999999999\",\"0.9999999999\",\"0.9999999999\",\"0.9999999999\",\"0.9999999999\",\"0.9999999999\",\"0.24999999999375\",\"0.24999999999375\",\"0.24999999999375\",\"0.24999999999375\",\"0.9999999999\",\"0.499999999975\",\"0.499999999975\",\"0.9999999999\",\"0.9999999999\",\"0.9999999999\",\"0.9999999999\",\"0.9999999999\",\"0.9999999999\",\"0.9999999999\",\"0.3333333333222222\",\"0.3333333333222222\",\"0.3333333333222222\",\"0.9999999999\",\"0.9999999999\",\"0.9999999999\",\"0.9999999999\",\"0.9999999999\",\"0.24999999999375\",\"0.24999999999375\",\"0.24999999999375\",\"0.24999999999375\",\"0.9999999999\",\"0.499999999975\",\"0.499999999975\",\"0.9999999999\",\"0.499999999975\",\"0.499999999975\",\"0.9999999999\",\"0.499999999975\",\"0.499999999975\",\"0.9999999999\",\"0.499999999975\",\"0.499999999975\",\"0.9999999999\",\"0.499999999975\",\"0.499999999975\",\"0.9999999999\",\"0.9999999999\",\"0.9999999999\",\"0.9999999999\",\"0.9999999999\",\"0.3333333333222222\",\"0.3333333333222222\",\"0.3333333333222222\",\"0.9999999999\",\"0.9999999999\",\"0.9999999999\",\"0.9999999999\",\"0.9999999999\",\"0.24999999999375\",\"0.24999999999375\",\"0.24999999999375\",\"0.24999999999375\",\"0.9999999999\",\"0.499999999975\",\"0.499999999975\",\"0.9999999999\",\"0.499999999975\",\"0.499999999975\",\"0.9999999999\",\"0.9999999999\",\"0.9999999999\",\"0.9999999999\",\"0.9999999999\",\"0.3333333333222222\",\"0.3333333333222222\",\"0.3333333333222222\",\"0.9999999999\",\"0.499999999975\",\"0.499999999975\",\"0.9999999999\",\"0.9999999999\",\"0.9999999999\",\"0.499999999975\",\"0.499999999975\",\"0.9999999999\",\"0.9999999999\",\"0.9999999999\",\"0.9999999999\",\"0.9999999999\",\"0.499999999975\",\"0.499999999975\",\"0.9999999999\",\"0.499999999975\",\"0.499999999975\",\"0.9999999999\",\"0.9999999999\",\"0.9999999999\",\"0.9999999999\",\"0.9999999999\",\"0.499999999975\",\"0.499999999975\",\"0.9999999999\",\"0.9999999999\",\"0.9999999999\",\"0.9999999999\",\"0.499999999975\",\"0.499999999975\",\"0.1249999999984375\",\"0.1249999999984375\",\"0.1249999999984375\",\"0.1249999999984375\",\"0.1249999999984375\",\"0.1249999999984375\",\"0.1249999999984375\",\"0.1249999999984375\",\"0.9999999999\",\"0.9999999999\",\"0.9999999999\",\"0.9999999999\",\"0.9999999999\",\"0.9999999999\",\"0.9999999999\",\"0.3333333333222222\",\"0.3333333333222222\",\"0.3333333333222222\",\"0.9999999999\",\"0.3333333333222222\",\"0.3333333333222222\",\"0.3333333333222222\",\"0.9999999999\",\"0.499999999975\",\"0.499999999975\"]},\"node\":{\"color\":\"#333333\",\"label\":[\"None\",\"Emotion recognition\",\"Sentiment analysis\",\"Text games\",\"Dialog system\",\"N2f\",\"Kg completion / link prediction\",\"Entity linking\",\"Relation extraction\",\"Image captioning\",\"Opnion extraction\",\"Annotation\",\"Reading comprehension\",\"Text classification\",\"Causal reasoning\",\"Question answering\",\"Decision support\",\"Argumentation mining\",\"Language modeling\",\"Information extraction\",\"Entity resolution\",\"Text summarization\",\"Similarity\",\"Classification\",\"Generative\",\"Inference\",\"Information extraction\",\"None\",\"None\",\"None\",\"None\",\"None\",\"None\",\"None\",\"None\",\"None\",\"None\",\"None\",\"None\",\"None\",\"None\",\"None\",\"None\",\"None\",\"None\",\"None\",\"None\",\"None\",\"None\",\"None\",\"Reasoning\",\"OOD\",\"Interpretability\",\"Reduced data\",\"Transferability\",\"No goals met\",\"None\",\"None\",\"None\",\"None\",\"None\",\"None\",\"None\",\"None\",\"None\",\"None\",\"None\",\"None\",\"None\",\"None\",\"None\",\"None\",\"None\",\"None\",\"None\",\"None\",\"None\",\"None\",\"None\",\"None\",\"None\",\"None\",\"None\",\"None\",\"None\",\"None\",\"None\",\"None\",\"None\",\"None\",\"None\",\"None\",\"None\",\"None\",\"None\",\"None\",\"None\",\"None\",\"None\",\"None\",\"None\",\"None\",\"None\",\"None\",\"None\",\"None\",\"None\",\"None\",\"None\",\"None\",\"None\",\"None\",\"None\",\"None\",\"None\",\"None\",\"None\",\"None\",\"None\",\"None\",\"None\",\"None\",\"None\",\"None\",\"None\",\"None\",\"None\",\"None\",\"None\",\"None\",\"None\",\"None\",\"None\",\"None\",\"None\",\"None\",\"None\",\"None\",\"None\",\"None\",\"None\",\"None\",\"None\",\"None\",\"None\",\"None\",\"None\",\"None\",\"None\",\"None\"],\"pad\":25,\"thickness\":10},\"type\":\"sankey\"}],                        {\"template\":{\"data\":{\"bar\":[{\"error_x\":{\"color\":\"#2a3f5f\"},\"error_y\":{\"color\":\"#2a3f5f\"},\"marker\":{\"line\":{\"color\":\"#E5ECF6\",\"width\":0.5},\"pattern\":{\"fillmode\":\"overlay\",\"size\":10,\"solidity\":0.2}},\"type\":\"bar\"}],\"barpolar\":[{\"marker\":{\"line\":{\"color\":\"#E5ECF6\",\"width\":0.5},\"pattern\":{\"fillmode\":\"overlay\",\"size\":10,\"solidity\":0.2}},\"type\":\"barpolar\"}],\"carpet\":[{\"aaxis\":{\"endlinecolor\":\"#2a3f5f\",\"gridcolor\":\"white\",\"linecolor\":\"white\",\"minorgridcolor\":\"white\",\"startlinecolor\":\"#2a3f5f\"},\"baxis\":{\"endlinecolor\":\"#2a3f5f\",\"gridcolor\":\"white\",\"linecolor\":\"white\",\"minorgridcolor\":\"white\",\"startlinecolor\":\"#2a3f5f\"},\"type\":\"carpet\"}],\"choropleth\":[{\"colorbar\":{\"outlinewidth\":0,\"ticks\":\"\"},\"type\":\"choropleth\"}],\"contour\":[{\"colorbar\":{\"outlinewidth\":0,\"ticks\":\"\"},\"colorscale\":[[0.0,\"#0d0887\"],[0.1111111111111111,\"#46039f\"],[0.2222222222222222,\"#7201a8\"],[0.3333333333333333,\"#9c179e\"],[0.4444444444444444,\"#bd3786\"],[0.5555555555555556,\"#d8576b\"],[0.6666666666666666,\"#ed7953\"],[0.7777777777777778,\"#fb9f3a\"],[0.8888888888888888,\"#fdca26\"],[1.0,\"#f0f921\"]],\"type\":\"contour\"}],\"contourcarpet\":[{\"colorbar\":{\"outlinewidth\":0,\"ticks\":\"\"},\"type\":\"contourcarpet\"}],\"heatmap\":[{\"colorbar\":{\"outlinewidth\":0,\"ticks\":\"\"},\"colorscale\":[[0.0,\"#0d0887\"],[0.1111111111111111,\"#46039f\"],[0.2222222222222222,\"#7201a8\"],[0.3333333333333333,\"#9c179e\"],[0.4444444444444444,\"#bd3786\"],[0.5555555555555556,\"#d8576b\"],[0.6666666666666666,\"#ed7953\"],[0.7777777777777778,\"#fb9f3a\"],[0.8888888888888888,\"#fdca26\"],[1.0,\"#f0f921\"]],\"type\":\"heatmap\"}],\"heatmapgl\":[{\"colorbar\":{\"outlinewidth\":0,\"ticks\":\"\"},\"colorscale\":[[0.0,\"#0d0887\"],[0.1111111111111111,\"#46039f\"],[0.2222222222222222,\"#7201a8\"],[0.3333333333333333,\"#9c179e\"],[0.4444444444444444,\"#bd3786\"],[0.5555555555555556,\"#d8576b\"],[0.6666666666666666,\"#ed7953\"],[0.7777777777777778,\"#fb9f3a\"],[0.8888888888888888,\"#fdca26\"],[1.0,\"#f0f921\"]],\"type\":\"heatmapgl\"}],\"histogram\":[{\"marker\":{\"pattern\":{\"fillmode\":\"overlay\",\"size\":10,\"solidity\":0.2}},\"type\":\"histogram\"}],\"histogram2d\":[{\"colorbar\":{\"outlinewidth\":0,\"ticks\":\"\"},\"colorscale\":[[0.0,\"#0d0887\"],[0.1111111111111111,\"#46039f\"],[0.2222222222222222,\"#7201a8\"],[0.3333333333333333,\"#9c179e\"],[0.4444444444444444,\"#bd3786\"],[0.5555555555555556,\"#d8576b\"],[0.6666666666666666,\"#ed7953\"],[0.7777777777777778,\"#fb9f3a\"],[0.8888888888888888,\"#fdca26\"],[1.0,\"#f0f921\"]],\"type\":\"histogram2d\"}],\"histogram2dcontour\":[{\"colorbar\":{\"outlinewidth\":0,\"ticks\":\"\"},\"colorscale\":[[0.0,\"#0d0887\"],[0.1111111111111111,\"#46039f\"],[0.2222222222222222,\"#7201a8\"],[0.3333333333333333,\"#9c179e\"],[0.4444444444444444,\"#bd3786\"],[0.5555555555555556,\"#d8576b\"],[0.6666666666666666,\"#ed7953\"],[0.7777777777777778,\"#fb9f3a\"],[0.8888888888888888,\"#fdca26\"],[1.0,\"#f0f921\"]],\"type\":\"histogram2dcontour\"}],\"mesh3d\":[{\"colorbar\":{\"outlinewidth\":0,\"ticks\":\"\"},\"type\":\"mesh3d\"}],\"parcoords\":[{\"line\":{\"colorbar\":{\"outlinewidth\":0,\"ticks\":\"\"}},\"type\":\"parcoords\"}],\"pie\":[{\"automargin\":true,\"type\":\"pie\"}],\"scatter\":[{\"marker\":{\"colorbar\":{\"outlinewidth\":0,\"ticks\":\"\"}},\"type\":\"scatter\"}],\"scatter3d\":[{\"line\":{\"colorbar\":{\"outlinewidth\":0,\"ticks\":\"\"}},\"marker\":{\"colorbar\":{\"outlinewidth\":0,\"ticks\":\"\"}},\"type\":\"scatter3d\"}],\"scattercarpet\":[{\"marker\":{\"colorbar\":{\"outlinewidth\":0,\"ticks\":\"\"}},\"type\":\"scattercarpet\"}],\"scattergeo\":[{\"marker\":{\"colorbar\":{\"outlinewidth\":0,\"ticks\":\"\"}},\"type\":\"scattergeo\"}],\"scattergl\":[{\"marker\":{\"colorbar\":{\"outlinewidth\":0,\"ticks\":\"\"}},\"type\":\"scattergl\"}],\"scattermapbox\":[{\"marker\":{\"colorbar\":{\"outlinewidth\":0,\"ticks\":\"\"}},\"type\":\"scattermapbox\"}],\"scatterpolar\":[{\"marker\":{\"colorbar\":{\"outlinewidth\":0,\"ticks\":\"\"}},\"type\":\"scatterpolar\"}],\"scatterpolargl\":[{\"marker\":{\"colorbar\":{\"outlinewidth\":0,\"ticks\":\"\"}},\"type\":\"scatterpolargl\"}],\"scatterternary\":[{\"marker\":{\"colorbar\":{\"outlinewidth\":0,\"ticks\":\"\"}},\"type\":\"scatterternary\"}],\"surface\":[{\"colorbar\":{\"outlinewidth\":0,\"ticks\":\"\"},\"colorscale\":[[0.0,\"#0d0887\"],[0.1111111111111111,\"#46039f\"],[0.2222222222222222,\"#7201a8\"],[0.3333333333333333,\"#9c179e\"],[0.4444444444444444,\"#bd3786\"],[0.5555555555555556,\"#d8576b\"],[0.6666666666666666,\"#ed7953\"],[0.7777777777777778,\"#fb9f3a\"],[0.8888888888888888,\"#fdca26\"],[1.0,\"#f0f921\"]],\"type\":\"surface\"}],\"table\":[{\"cells\":{\"fill\":{\"color\":\"#EBF0F8\"},\"line\":{\"color\":\"white\"}},\"header\":{\"fill\":{\"color\":\"#C8D4E3\"},\"line\":{\"color\":\"white\"}},\"type\":\"table\"}]},\"layout\":{\"annotationdefaults\":{\"arrowcolor\":\"#2a3f5f\",\"arrowhead\":0,\"arrowwidth\":1},\"autotypenumbers\":\"strict\",\"coloraxis\":{\"colorbar\":{\"outlinewidth\":0,\"ticks\":\"\"}},\"colorscale\":{\"diverging\":[[0,\"#8e0152\"],[0.1,\"#c51b7d\"],[0.2,\"#de77ae\"],[0.3,\"#f1b6da\"],[0.4,\"#fde0ef\"],[0.5,\"#f7f7f7\"],[0.6,\"#e6f5d0\"],[0.7,\"#b8e186\"],[0.8,\"#7fbc41\"],[0.9,\"#4d9221\"],[1,\"#276419\"]],\"sequential\":[[0.0,\"#0d0887\"],[0.1111111111111111,\"#46039f\"],[0.2222222222222222,\"#7201a8\"],[0.3333333333333333,\"#9c179e\"],[0.4444444444444444,\"#bd3786\"],[0.5555555555555556,\"#d8576b\"],[0.6666666666666666,\"#ed7953\"],[0.7777777777777778,\"#fb9f3a\"],[0.8888888888888888,\"#fdca26\"],[1.0,\"#f0f921\"]],\"sequentialminus\":[[0.0,\"#0d0887\"],[0.1111111111111111,\"#46039f\"],[0.2222222222222222,\"#7201a8\"],[0.3333333333333333,\"#9c179e\"],[0.4444444444444444,\"#bd3786\"],[0.5555555555555556,\"#d8576b\"],[0.6666666666666666,\"#ed7953\"],[0.7777777777777778,\"#fb9f3a\"],[0.8888888888888888,\"#fdca26\"],[1.0,\"#f0f921\"]]},\"colorway\":[\"#636efa\",\"#EF553B\",\"#00cc96\",\"#ab63fa\",\"#FFA15A\",\"#19d3f3\",\"#FF6692\",\"#B6E880\",\"#FF97FF\",\"#FECB52\"],\"font\":{\"color\":\"#2a3f5f\"},\"geo\":{\"bgcolor\":\"white\",\"lakecolor\":\"white\",\"landcolor\":\"#E5ECF6\",\"showlakes\":true,\"showland\":true,\"subunitcolor\":\"white\"},\"hoverlabel\":{\"align\":\"left\"},\"hovermode\":\"closest\",\"mapbox\":{\"style\":\"light\"},\"paper_bgcolor\":\"white\",\"plot_bgcolor\":\"#E5ECF6\",\"polar\":{\"angularaxis\":{\"gridcolor\":\"white\",\"linecolor\":\"white\",\"ticks\":\"\"},\"bgcolor\":\"#E5ECF6\",\"radialaxis\":{\"gridcolor\":\"white\",\"linecolor\":\"white\",\"ticks\":\"\"}},\"scene\":{\"xaxis\":{\"backgroundcolor\":\"#E5ECF6\",\"gridcolor\":\"white\",\"gridwidth\":2,\"linecolor\":\"white\",\"showbackground\":true,\"ticks\":\"\",\"zerolinecolor\":\"white\"},\"yaxis\":{\"backgroundcolor\":\"#E5ECF6\",\"gridcolor\":\"white\",\"gridwidth\":2,\"linecolor\":\"white\",\"showbackground\":true,\"ticks\":\"\",\"zerolinecolor\":\"white\"},\"zaxis\":{\"backgroundcolor\":\"#E5ECF6\",\"gridcolor\":\"white\",\"gridwidth\":2,\"linecolor\":\"white\",\"showbackground\":true,\"ticks\":\"\",\"zerolinecolor\":\"white\"}},\"shapedefaults\":{\"line\":{\"color\":\"#2a3f5f\"}},\"ternary\":{\"aaxis\":{\"gridcolor\":\"white\",\"linecolor\":\"white\",\"ticks\":\"\"},\"baxis\":{\"gridcolor\":\"white\",\"linecolor\":\"white\",\"ticks\":\"\"},\"bgcolor\":\"#E5ECF6\",\"caxis\":{\"gridcolor\":\"white\",\"linecolor\":\"white\",\"ticks\":\"\"}},\"title\":{\"x\":0.05},\"xaxis\":{\"automargin\":true,\"gridcolor\":\"white\",\"linecolor\":\"white\",\"ticks\":\"\",\"title\":{\"standoff\":15},\"zerolinecolor\":\"white\",\"zerolinewidth\":2},\"yaxis\":{\"automargin\":true,\"gridcolor\":\"white\",\"linecolor\":\"white\",\"ticks\":\"\",\"title\":{\"standoff\":15},\"zerolinecolor\":\"white\",\"zerolinewidth\":2}}},\"font\":{\"size\":13,\"color\":\"#333333\",\"family\":\"Arial\"},\"hovermode\":\"x\",\"title\":{\"text\":\"Business usecase tech goals\"},\"height\":500,\"width\":700},                        {\"responsive\": true}                    ).then(function(){\n",
              "                            \n",
              "var gd = document.getElementById('de728181-5ee5-4186-948b-6c23cdda9a65');\n",
              "var x = new MutationObserver(function (mutations, observer) {{\n",
              "        var display = window.getComputedStyle(gd).display;\n",
              "        if (!display || display === 'none') {{\n",
              "            console.log([gd, 'removed!']);\n",
              "            Plotly.purge(gd);\n",
              "            observer.disconnect();\n",
              "        }}\n",
              "}});\n",
              "\n",
              "// Listen for the removal of the full notebook cells\n",
              "var notebookContainer = gd.closest('#notebook-container');\n",
              "if (notebookContainer) {{\n",
              "    x.observe(notebookContainer, {childList: true});\n",
              "}}\n",
              "\n",
              "// Listen for the clearing of the current output cell\n",
              "var outputEl = gd.closest('.output');\n",
              "if (outputEl) {{\n",
              "    x.observe(outputEl, {childList: true});\n",
              "}}\n",
              "\n",
              "                        })                };                            </script>        </div>\n",
              "</body>\n",
              "</html>"
            ]
          },
          "metadata": {}
        },
        {
          "output_type": "stream",
          "name": "stdout",
          "text": [
            "[None, None, None, None, None, None, None, None, None, None, None, None, None, None, None, None, None, None, None, None, None, None, 'similarity', 'classification', 'generative', 'inference', 'information extraction', 'semi-supervised', 'unsupervised', 'supervised', 'curriculum', 'reinforcement', None, None, None, None, None, None, None, None, None, None, None, None, None, None, None, None, None, None, 'reasoning', 'out-of-distribution generalization', 'interpretability', 'reduced data', 'transferability', 'no goals met', None, None, None, None, None, None, None, None, None, None, None, None, None, None, None, None, None, None, None, None, None, None, None, None, None, None, None, None, None, None, None, None, None, None, None, None, None, None, None, None, None, None, None, None, None, None, None, None, None, None, None, None, None, None, None, None, None, None, None, None, None, None, None, None, None, None, None, None, None, None, None, None, None, None, None, None, None, None, None, None, None, None, None, None, None, None, None, None, None, None, None, None, None, None]\n",
            "<class 'list'>\n"
          ]
        },
        {
          "output_type": "display_data",
          "data": {
            "text/html": [
              "<html>\n",
              "<head><meta charset=\"utf-8\" /></head>\n",
              "<body>\n",
              "    <div>            <script src=\"https://cdnjs.cloudflare.com/ajax/libs/mathjax/2.7.5/MathJax.js?config=TeX-AMS-MML_SVG\"></script><script type=\"text/javascript\">if (window.MathJax) {MathJax.Hub.Config({SVG: {font: \"STIX-Web\"}});}</script>                <script type=\"text/javascript\">window.PlotlyConfig = {MathJaxConfig: 'local'};</script>\n",
              "        <script src=\"https://cdn.plot.ly/plotly-2.8.3.min.js\"></script>                <div id=\"915eb5e6-1103-4a31-8a86-6fb7fec9e5a4\" class=\"plotly-graph-div\" style=\"height:500px; width:700px;\"></div>            <script type=\"text/javascript\">                                    window.PLOTLYENV=window.PLOTLYENV || {};                                    if (document.getElementById(\"915eb5e6-1103-4a31-8a86-6fb7fec9e5a4\")) {                    Plotly.newPlot(                        \"915eb5e6-1103-4a31-8a86-6fb7fec9e5a4\",                        [{\"link\":{\"color\":[\"#89b79f\",\"#89b79f\",\"#89b79f\",\"#89b79f\",\"#89b79f\",\"#89b79f\",\"#89b79f\",\"#89b79f\",\"#89b79f\",\"#89b79f\",\"#89b79f\",\"#89b79f\",\"#89b79f\",\"#89b79f\",\"#89b79f\",\"#89b79f\",\"#89b79f\",\"#89b79f\",\"#89b79f\",\"#89b79f\",\"#89b79f\",\"#89b79f\",\"#89b79f\",\"#89b79f\",\"#ff2f6d\",\"#ff2f6d\",\"#ff2f6d\",\"#ff2f6d\",\"#ff2f6d\",\"#89b79f\",\"#89b79f\",\"#450256\",\"#450256\",\"#450256\",\"#89b79f\",\"#89b79f\",\"#57bcd6\",\"#57bcd6\",\"#89b79f\",\"#89b79f\",\"#89b79f\",\"#89b79f\",\"#89b79f\",\"#89b79f\",\"#89b79f\",\"#89b79f\",\"#89b79f\",\"#89b79f\",\"#89b79f\",\"#89b79f\",\"#89b79f\",\"#89b79f\",\"#89b79f\",\"#89b79f\",\"#450256\",\"#450256\",\"#89b79f\",\"#89b79f\",\"#89b79f\",\"#89b79f\",\"#89b79f\",\"#89b79f\",\"#89b79f\",\"#89b79f\",\"#89b79f\",\"#89b79f\",\"#89b79f\",\"#89b79f\",\"#89b79f\",\"#89b79f\",\"#89b79f\",\"#89b79f\",\"#57bcd6\",\"#57bcd6\",\"#57bcd6\",\"#89b79f\",\"#89b79f\",\"#89b79f\",\"#57bcd6\",\"#57bcd6\",\"#57bcd6\",\"#89b79f\",\"#89b79f\",\"#89b79f\",\"#89b79f\",\"#89b79f\",\"#450256\",\"#450256\",\"#89b79f\",\"#89b79f\",\"#89b79f\",\"#89b79f\",\"#89b79f\",\"#89b79f\",\"#89b79f\",\"#89b79f\",\"#89b79f\",\"#89b79f\",\"#89b79f\",\"#89b79f\",\"#89b79f\",\"#89b79f\",\"#89b79f\",\"#89b79f\",\"#89b79f\",\"#89b79f\",\"#89b79f\",\"#450256\",\"#450256\",\"#89b79f\",\"#89b79f\",\"#ff2f6d\",\"#ff2f6d\",\"#ff2f6d\",\"#ff2f6d\",\"#89b79f\",\"#89b79f\",\"#89b79f\",\"#89b79f\",\"#89b79f\",\"#89b79f\",\"#89b79f\",\"#89b79f\",\"#89b79f\",\"#89b79f\",\"#89b79f\",\"#89b79f\",\"#57bcd6\",\"#57bcd6\",\"#57bcd6\",\"#57bcd6\",\"#57bcd6\",\"#57bcd6\",\"#89b79f\",\"#89b79f\",\"#89b79f\",\"#89b79f\",\"#89b79f\",\"#89b79f\",\"#89b79f\",\"#450256\",\"#450256\",\"#89b79f\",\"#89b79f\",\"#9c4397\",\"#9c4397\",\"#57bcd6\",\"#57bcd6\",\"#57bcd6\",\"#57bcd6\",\"#57bcd6\",\"#57bcd6\",\"#57bcd6\",\"#57bcd6\",\"#57bcd6\",\"#57bcd6\",\"#89b79f\",\"#89b79f\",\"#89b79f\",\"#89b79f\",\"#89b79f\",\"#89b79f\",\"#57bcd6\",\"#57bcd6\",\"#57bcd6\",\"#57bcd6\",\"#89b79f\",\"#89b79f\",\"#89b79f\",\"#89b79f\",\"#89b79f\",\"#89b79f\",\"#89b79f\"],\"source\":[\"29\",\"23\",\"23\",\"29\",\"24\",\"24\",\"24\",\"24\",\"29\",\"23\",\"29\",\"26\",\"29\",\"26\",\"29\",\"25\",\"25\",\"29\",\"26\",\"29\",\"25\",\"25\",\"25\",\"25\",\"31\",\"25\",\"25\",\"25\",\"25\",\"29\",\"23\",\"27\",\"26\",\"26\",\"29\",\"23\",\"28\",\"24\",\"29\",\"23\",\"29\",\"23\",\"29\",\"26\",\"26\",\"26\",\"26\",\"29\",\"25\",\"25\",\"29\",\"26\",\"29\",\"23\",\"27\",\"23\",\"29\",\"23\",\"23\",\"23\",\"29\",\"23\",\"29\",\"25\",\"29\",\"25\",\"25\",\"25\",\"25\",\"29\",\"26\",\"26\",\"28\",\"23\",\"23\",\"29\",\"24\",\"24\",\"28\",\"23\",\"23\",\"29\",\"23\",\"23\",\"29\",\"23\",\"27\",\"23\",\"29\",\"25\",\"25\",\"25\",\"29\",\"23\",\"29\",\"23\",\"29\",\"23\",\"23\",\"23\",\"23\",\"29\",\"25\",\"25\",\"29\",\"23\",\"23\",\"27\",\"23\",\"29\",\"23\",\"31\",\"25\",\"25\",\"25\",\"29\",\"23\",\"23\",\"29\",\"23\",\"29\",\"23\",\"23\",\"29\",\"23\",\"29\",\"23\",\"28\",\"22\",\"22\",\"28\",\"23\",\"23\",\"29\",\"23\",\"29\",\"23\",\"29\",\"23\",\"23\",\"27\",\"23\",\"29\",\"23\",\"30\",\"30\",\"28\",\"28\",\"23\",\"23\",\"23\",\"23\",\"25\",\"25\",\"25\",\"25\",\"29\",\"23\",\"29\",\"24\",\"29\",\"23\",\"28\",\"24\",\"24\",\"24\",\"29\",\"24\",\"24\",\"24\",\"29\",\"24\",\"24\"],\"target\":[\"23\",\"50\",\"52\",\"24\",\"50\",\"51\",\"52\",\"53\",\"23\",\"50\",\"26\",\"55\",\"26\",\"55\",\"25\",\"50\",\"54\",\"26\",\"51\",\"25\",\"50\",\"52\",\"53\",\"54\",\"25\",\"51\",\"52\",\"53\",\"54\",\"23\",\"52\",\"26\",\"51\",\"53\",\"23\",\"50\",\"24\",\"55\",\"23\",\"53\",\"23\",\"52\",\"26\",\"51\",\"52\",\"53\",\"54\",\"25\",\"50\",\"54\",\"26\",\"55\",\"23\",\"50\",\"23\",\"55\",\"23\",\"50\",\"51\",\"52\",\"23\",\"55\",\"25\",\"50\",\"25\",\"50\",\"51\",\"52\",\"54\",\"26\",\"50\",\"52\",\"23\",\"52\",\"54\",\"24\",\"51\",\"53\",\"23\",\"51\",\"54\",\"23\",\"50\",\"52\",\"23\",\"55\",\"23\",\"55\",\"25\",\"50\",\"51\",\"52\",\"23\",\"50\",\"23\",\"55\",\"23\",\"51\",\"52\",\"53\",\"54\",\"25\",\"50\",\"52\",\"23\",\"50\",\"52\",\"23\",\"50\",\"23\",\"50\",\"25\",\"50\",\"52\",\"53\",\"23\",\"50\",\"54\",\"23\",\"50\",\"23\",\"51\",\"53\",\"23\",\"55\",\"23\",\"50\",\"22\",\"50\",\"53\",\"23\",\"50\",\"52\",\"23\",\"50\",\"23\",\"50\",\"23\",\"50\",\"53\",\"23\",\"53\",\"23\",\"50\",\"23\",\"25\",\"23\",\"25\",\"50\",\"51\",\"52\",\"53\",\"50\",\"51\",\"52\",\"53\",\"23\",\"50\",\"24\",\"55\",\"23\",\"55\",\"24\",\"51\",\"53\",\"54\",\"24\",\"50\",\"52\",\"54\",\"24\",\"50\",\"51\"],\"value\":[\"0.9999999999\",\"0.499999999975\",\"0.499999999975\",\"0.9999999999\",\"0.24999999999375\",\"0.24999999999375\",\"0.24999999999375\",\"0.24999999999375\",\"0.9999999999\",\"0.9999999999\",\"0.9999999999\",\"0.9999999999\",\"0.9999999999\",\"0.9999999999\",\"0.9999999999\",\"0.499999999975\",\"0.499999999975\",\"0.9999999999\",\"0.9999999999\",\"0.9999999999\",\"0.24999999999375\",\"0.24999999999375\",\"0.24999999999375\",\"0.24999999999375\",\"0.9999999999\",\"0.24999999999375\",\"0.24999999999375\",\"0.24999999999375\",\"0.24999999999375\",\"0.9999999999\",\"0.9999999999\",\"0.9999999999\",\"0.499999999975\",\"0.499999999975\",\"0.9999999999\",\"0.9999999999\",\"0.9999999999\",\"0.9999999999\",\"0.9999999999\",\"0.9999999999\",\"0.9999999999\",\"0.9999999999\",\"0.9999999999\",\"0.24999999999375\",\"0.24999999999375\",\"0.24999999999375\",\"0.24999999999375\",\"0.9999999999\",\"0.499999999975\",\"0.499999999975\",\"0.9999999999\",\"0.9999999999\",\"0.9999999999\",\"0.9999999999\",\"0.9999999999\",\"0.9999999999\",\"0.9999999999\",\"0.3333333333222222\",\"0.3333333333222222\",\"0.3333333333222222\",\"0.9999999999\",\"0.9999999999\",\"0.9999999999\",\"0.9999999999\",\"0.9999999999\",\"0.24999999999375\",\"0.24999999999375\",\"0.24999999999375\",\"0.24999999999375\",\"0.9999999999\",\"0.499999999975\",\"0.499999999975\",\"0.9999999999\",\"0.499999999975\",\"0.499999999975\",\"0.9999999999\",\"0.499999999975\",\"0.499999999975\",\"0.9999999999\",\"0.499999999975\",\"0.499999999975\",\"0.9999999999\",\"0.499999999975\",\"0.499999999975\",\"0.9999999999\",\"0.9999999999\",\"0.9999999999\",\"0.9999999999\",\"0.9999999999\",\"0.3333333333222222\",\"0.3333333333222222\",\"0.3333333333222222\",\"0.9999999999\",\"0.9999999999\",\"0.9999999999\",\"0.9999999999\",\"0.9999999999\",\"0.24999999999375\",\"0.24999999999375\",\"0.24999999999375\",\"0.24999999999375\",\"0.9999999999\",\"0.499999999975\",\"0.499999999975\",\"0.9999999999\",\"0.499999999975\",\"0.499999999975\",\"0.9999999999\",\"0.9999999999\",\"0.9999999999\",\"0.9999999999\",\"0.9999999999\",\"0.3333333333222222\",\"0.3333333333222222\",\"0.3333333333222222\",\"0.9999999999\",\"0.499999999975\",\"0.499999999975\",\"0.9999999999\",\"0.9999999999\",\"0.9999999999\",\"0.499999999975\",\"0.499999999975\",\"0.9999999999\",\"0.9999999999\",\"0.9999999999\",\"0.9999999999\",\"0.9999999999\",\"0.499999999975\",\"0.499999999975\",\"0.9999999999\",\"0.499999999975\",\"0.499999999975\",\"0.9999999999\",\"0.9999999999\",\"0.9999999999\",\"0.9999999999\",\"0.9999999999\",\"0.499999999975\",\"0.499999999975\",\"0.9999999999\",\"0.9999999999\",\"0.9999999999\",\"0.9999999999\",\"0.24999999999375\",\"0.24999999999375\",\"0.24999999999375\",\"0.24999999999375\",\"0.1249999999984375\",\"0.1249999999984375\",\"0.1249999999984375\",\"0.1249999999984375\",\"0.1249999999984375\",\"0.1249999999984375\",\"0.1249999999984375\",\"0.1249999999984375\",\"0.9999999999\",\"0.9999999999\",\"0.9999999999\",\"0.9999999999\",\"0.9999999999\",\"0.9999999999\",\"0.9999999999\",\"0.3333333333222222\",\"0.3333333333222222\",\"0.3333333333222222\",\"0.9999999999\",\"0.3333333333222222\",\"0.3333333333222222\",\"0.3333333333222222\",\"0.9999999999\",\"0.499999999975\",\"0.499999999975\"]},\"node\":{\"color\":\"#333333\",\"label\":[\"None\",\"None\",\"None\",\"None\",\"None\",\"None\",\"None\",\"None\",\"None\",\"None\",\"None\",\"None\",\"None\",\"None\",\"None\",\"None\",\"None\",\"None\",\"None\",\"None\",\"None\",\"None\",\"Similarity\",\"Classification\",\"Generative\",\"Inference\",\"Information extraction\",\"Semi-supervised\",\"Unsupervised\",\"Supervised\",\"Curriculum\",\"Reinforcement\",\"None\",\"None\",\"None\",\"None\",\"None\",\"None\",\"None\",\"None\",\"None\",\"None\",\"None\",\"None\",\"None\",\"None\",\"None\",\"None\",\"None\",\"None\",\"Reasoning\",\"OOD\",\"Interpretability\",\"Reduced data\",\"Transferability\",\"No goals met\",\"None\",\"None\",\"None\",\"None\",\"None\",\"None\",\"None\",\"None\",\"None\",\"None\",\"None\",\"None\",\"None\",\"None\",\"None\",\"None\",\"None\",\"None\",\"None\",\"None\",\"None\",\"None\",\"None\",\"None\",\"None\",\"None\",\"None\",\"None\",\"None\",\"None\",\"None\",\"None\",\"None\",\"None\",\"None\",\"None\",\"None\",\"None\",\"None\",\"None\",\"None\",\"None\",\"None\",\"None\",\"None\",\"None\",\"None\",\"None\",\"None\",\"None\",\"None\",\"None\",\"None\",\"None\",\"None\",\"None\",\"None\",\"None\",\"None\",\"None\",\"None\",\"None\",\"None\",\"None\",\"None\",\"None\",\"None\",\"None\",\"None\",\"None\",\"None\",\"None\",\"None\",\"None\",\"None\",\"None\",\"None\",\"None\",\"None\",\"None\",\"None\",\"None\",\"None\",\"None\",\"None\",\"None\",\"None\",\"None\",\"None\",\"None\",\"None\",\"None\",\"None\",\"None\"],\"pad\":25,\"thickness\":10},\"type\":\"sankey\"}],                        {\"template\":{\"data\":{\"bar\":[{\"error_x\":{\"color\":\"#2a3f5f\"},\"error_y\":{\"color\":\"#2a3f5f\"},\"marker\":{\"line\":{\"color\":\"#E5ECF6\",\"width\":0.5},\"pattern\":{\"fillmode\":\"overlay\",\"size\":10,\"solidity\":0.2}},\"type\":\"bar\"}],\"barpolar\":[{\"marker\":{\"line\":{\"color\":\"#E5ECF6\",\"width\":0.5},\"pattern\":{\"fillmode\":\"overlay\",\"size\":10,\"solidity\":0.2}},\"type\":\"barpolar\"}],\"carpet\":[{\"aaxis\":{\"endlinecolor\":\"#2a3f5f\",\"gridcolor\":\"white\",\"linecolor\":\"white\",\"minorgridcolor\":\"white\",\"startlinecolor\":\"#2a3f5f\"},\"baxis\":{\"endlinecolor\":\"#2a3f5f\",\"gridcolor\":\"white\",\"linecolor\":\"white\",\"minorgridcolor\":\"white\",\"startlinecolor\":\"#2a3f5f\"},\"type\":\"carpet\"}],\"choropleth\":[{\"colorbar\":{\"outlinewidth\":0,\"ticks\":\"\"},\"type\":\"choropleth\"}],\"contour\":[{\"colorbar\":{\"outlinewidth\":0,\"ticks\":\"\"},\"colorscale\":[[0.0,\"#0d0887\"],[0.1111111111111111,\"#46039f\"],[0.2222222222222222,\"#7201a8\"],[0.3333333333333333,\"#9c179e\"],[0.4444444444444444,\"#bd3786\"],[0.5555555555555556,\"#d8576b\"],[0.6666666666666666,\"#ed7953\"],[0.7777777777777778,\"#fb9f3a\"],[0.8888888888888888,\"#fdca26\"],[1.0,\"#f0f921\"]],\"type\":\"contour\"}],\"contourcarpet\":[{\"colorbar\":{\"outlinewidth\":0,\"ticks\":\"\"},\"type\":\"contourcarpet\"}],\"heatmap\":[{\"colorbar\":{\"outlinewidth\":0,\"ticks\":\"\"},\"colorscale\":[[0.0,\"#0d0887\"],[0.1111111111111111,\"#46039f\"],[0.2222222222222222,\"#7201a8\"],[0.3333333333333333,\"#9c179e\"],[0.4444444444444444,\"#bd3786\"],[0.5555555555555556,\"#d8576b\"],[0.6666666666666666,\"#ed7953\"],[0.7777777777777778,\"#fb9f3a\"],[0.8888888888888888,\"#fdca26\"],[1.0,\"#f0f921\"]],\"type\":\"heatmap\"}],\"heatmapgl\":[{\"colorbar\":{\"outlinewidth\":0,\"ticks\":\"\"},\"colorscale\":[[0.0,\"#0d0887\"],[0.1111111111111111,\"#46039f\"],[0.2222222222222222,\"#7201a8\"],[0.3333333333333333,\"#9c179e\"],[0.4444444444444444,\"#bd3786\"],[0.5555555555555556,\"#d8576b\"],[0.6666666666666666,\"#ed7953\"],[0.7777777777777778,\"#fb9f3a\"],[0.8888888888888888,\"#fdca26\"],[1.0,\"#f0f921\"]],\"type\":\"heatmapgl\"}],\"histogram\":[{\"marker\":{\"pattern\":{\"fillmode\":\"overlay\",\"size\":10,\"solidity\":0.2}},\"type\":\"histogram\"}],\"histogram2d\":[{\"colorbar\":{\"outlinewidth\":0,\"ticks\":\"\"},\"colorscale\":[[0.0,\"#0d0887\"],[0.1111111111111111,\"#46039f\"],[0.2222222222222222,\"#7201a8\"],[0.3333333333333333,\"#9c179e\"],[0.4444444444444444,\"#bd3786\"],[0.5555555555555556,\"#d8576b\"],[0.6666666666666666,\"#ed7953\"],[0.7777777777777778,\"#fb9f3a\"],[0.8888888888888888,\"#fdca26\"],[1.0,\"#f0f921\"]],\"type\":\"histogram2d\"}],\"histogram2dcontour\":[{\"colorbar\":{\"outlinewidth\":0,\"ticks\":\"\"},\"colorscale\":[[0.0,\"#0d0887\"],[0.1111111111111111,\"#46039f\"],[0.2222222222222222,\"#7201a8\"],[0.3333333333333333,\"#9c179e\"],[0.4444444444444444,\"#bd3786\"],[0.5555555555555556,\"#d8576b\"],[0.6666666666666666,\"#ed7953\"],[0.7777777777777778,\"#fb9f3a\"],[0.8888888888888888,\"#fdca26\"],[1.0,\"#f0f921\"]],\"type\":\"histogram2dcontour\"}],\"mesh3d\":[{\"colorbar\":{\"outlinewidth\":0,\"ticks\":\"\"},\"type\":\"mesh3d\"}],\"parcoords\":[{\"line\":{\"colorbar\":{\"outlinewidth\":0,\"ticks\":\"\"}},\"type\":\"parcoords\"}],\"pie\":[{\"automargin\":true,\"type\":\"pie\"}],\"scatter\":[{\"marker\":{\"colorbar\":{\"outlinewidth\":0,\"ticks\":\"\"}},\"type\":\"scatter\"}],\"scatter3d\":[{\"line\":{\"colorbar\":{\"outlinewidth\":0,\"ticks\":\"\"}},\"marker\":{\"colorbar\":{\"outlinewidth\":0,\"ticks\":\"\"}},\"type\":\"scatter3d\"}],\"scattercarpet\":[{\"marker\":{\"colorbar\":{\"outlinewidth\":0,\"ticks\":\"\"}},\"type\":\"scattercarpet\"}],\"scattergeo\":[{\"marker\":{\"colorbar\":{\"outlinewidth\":0,\"ticks\":\"\"}},\"type\":\"scattergeo\"}],\"scattergl\":[{\"marker\":{\"colorbar\":{\"outlinewidth\":0,\"ticks\":\"\"}},\"type\":\"scattergl\"}],\"scattermapbox\":[{\"marker\":{\"colorbar\":{\"outlinewidth\":0,\"ticks\":\"\"}},\"type\":\"scattermapbox\"}],\"scatterpolar\":[{\"marker\":{\"colorbar\":{\"outlinewidth\":0,\"ticks\":\"\"}},\"type\":\"scatterpolar\"}],\"scatterpolargl\":[{\"marker\":{\"colorbar\":{\"outlinewidth\":0,\"ticks\":\"\"}},\"type\":\"scatterpolargl\"}],\"scatterternary\":[{\"marker\":{\"colorbar\":{\"outlinewidth\":0,\"ticks\":\"\"}},\"type\":\"scatterternary\"}],\"surface\":[{\"colorbar\":{\"outlinewidth\":0,\"ticks\":\"\"},\"colorscale\":[[0.0,\"#0d0887\"],[0.1111111111111111,\"#46039f\"],[0.2222222222222222,\"#7201a8\"],[0.3333333333333333,\"#9c179e\"],[0.4444444444444444,\"#bd3786\"],[0.5555555555555556,\"#d8576b\"],[0.6666666666666666,\"#ed7953\"],[0.7777777777777778,\"#fb9f3a\"],[0.8888888888888888,\"#fdca26\"],[1.0,\"#f0f921\"]],\"type\":\"surface\"}],\"table\":[{\"cells\":{\"fill\":{\"color\":\"#EBF0F8\"},\"line\":{\"color\":\"white\"}},\"header\":{\"fill\":{\"color\":\"#C8D4E3\"},\"line\":{\"color\":\"white\"}},\"type\":\"table\"}]},\"layout\":{\"annotationdefaults\":{\"arrowcolor\":\"#2a3f5f\",\"arrowhead\":0,\"arrowwidth\":1},\"autotypenumbers\":\"strict\",\"coloraxis\":{\"colorbar\":{\"outlinewidth\":0,\"ticks\":\"\"}},\"colorscale\":{\"diverging\":[[0,\"#8e0152\"],[0.1,\"#c51b7d\"],[0.2,\"#de77ae\"],[0.3,\"#f1b6da\"],[0.4,\"#fde0ef\"],[0.5,\"#f7f7f7\"],[0.6,\"#e6f5d0\"],[0.7,\"#b8e186\"],[0.8,\"#7fbc41\"],[0.9,\"#4d9221\"],[1,\"#276419\"]],\"sequential\":[[0.0,\"#0d0887\"],[0.1111111111111111,\"#46039f\"],[0.2222222222222222,\"#7201a8\"],[0.3333333333333333,\"#9c179e\"],[0.4444444444444444,\"#bd3786\"],[0.5555555555555556,\"#d8576b\"],[0.6666666666666666,\"#ed7953\"],[0.7777777777777778,\"#fb9f3a\"],[0.8888888888888888,\"#fdca26\"],[1.0,\"#f0f921\"]],\"sequentialminus\":[[0.0,\"#0d0887\"],[0.1111111111111111,\"#46039f\"],[0.2222222222222222,\"#7201a8\"],[0.3333333333333333,\"#9c179e\"],[0.4444444444444444,\"#bd3786\"],[0.5555555555555556,\"#d8576b\"],[0.6666666666666666,\"#ed7953\"],[0.7777777777777778,\"#fb9f3a\"],[0.8888888888888888,\"#fdca26\"],[1.0,\"#f0f921\"]]},\"colorway\":[\"#636efa\",\"#EF553B\",\"#00cc96\",\"#ab63fa\",\"#FFA15A\",\"#19d3f3\",\"#FF6692\",\"#B6E880\",\"#FF97FF\",\"#FECB52\"],\"font\":{\"color\":\"#2a3f5f\"},\"geo\":{\"bgcolor\":\"white\",\"lakecolor\":\"white\",\"landcolor\":\"#E5ECF6\",\"showlakes\":true,\"showland\":true,\"subunitcolor\":\"white\"},\"hoverlabel\":{\"align\":\"left\"},\"hovermode\":\"closest\",\"mapbox\":{\"style\":\"light\"},\"paper_bgcolor\":\"white\",\"plot_bgcolor\":\"#E5ECF6\",\"polar\":{\"angularaxis\":{\"gridcolor\":\"white\",\"linecolor\":\"white\",\"ticks\":\"\"},\"bgcolor\":\"#E5ECF6\",\"radialaxis\":{\"gridcolor\":\"white\",\"linecolor\":\"white\",\"ticks\":\"\"}},\"scene\":{\"xaxis\":{\"backgroundcolor\":\"#E5ECF6\",\"gridcolor\":\"white\",\"gridwidth\":2,\"linecolor\":\"white\",\"showbackground\":true,\"ticks\":\"\",\"zerolinecolor\":\"white\"},\"yaxis\":{\"backgroundcolor\":\"#E5ECF6\",\"gridcolor\":\"white\",\"gridwidth\":2,\"linecolor\":\"white\",\"showbackground\":true,\"ticks\":\"\",\"zerolinecolor\":\"white\"},\"zaxis\":{\"backgroundcolor\":\"#E5ECF6\",\"gridcolor\":\"white\",\"gridwidth\":2,\"linecolor\":\"white\",\"showbackground\":true,\"ticks\":\"\",\"zerolinecolor\":\"white\"}},\"shapedefaults\":{\"line\":{\"color\":\"#2a3f5f\"}},\"ternary\":{\"aaxis\":{\"gridcolor\":\"white\",\"linecolor\":\"white\",\"ticks\":\"\"},\"baxis\":{\"gridcolor\":\"white\",\"linecolor\":\"white\",\"ticks\":\"\"},\"bgcolor\":\"#E5ECF6\",\"caxis\":{\"gridcolor\":\"white\",\"linecolor\":\"white\",\"ticks\":\"\"}},\"title\":{\"x\":0.05},\"xaxis\":{\"automargin\":true,\"gridcolor\":\"white\",\"linecolor\":\"white\",\"ticks\":\"\",\"title\":{\"standoff\":15},\"zerolinecolor\":\"white\",\"zerolinewidth\":2},\"yaxis\":{\"automargin\":true,\"gridcolor\":\"white\",\"linecolor\":\"white\",\"ticks\":\"\",\"title\":{\"standoff\":15},\"zerolinecolor\":\"white\",\"zerolinewidth\":2}}},\"font\":{\"size\":13,\"color\":\"#333333\",\"family\":\"Arial\"},\"hovermode\":\"x\",\"title\":{\"text\":\"Learning type tech app goals\"},\"height\":500,\"width\":700},                        {\"responsive\": true}                    ).then(function(){\n",
              "                            \n",
              "var gd = document.getElementById('915eb5e6-1103-4a31-8a86-6fb7fec9e5a4');\n",
              "var x = new MutationObserver(function (mutations, observer) {{\n",
              "        var display = window.getComputedStyle(gd).display;\n",
              "        if (!display || display === 'none') {{\n",
              "            console.log([gd, 'removed!']);\n",
              "            Plotly.purge(gd);\n",
              "            observer.disconnect();\n",
              "        }}\n",
              "}});\n",
              "\n",
              "// Listen for the removal of the full notebook cells\n",
              "var notebookContainer = gd.closest('#notebook-container');\n",
              "if (notebookContainer) {{\n",
              "    x.observe(notebookContainer, {childList: true});\n",
              "}}\n",
              "\n",
              "// Listen for the clearing of the current output cell\n",
              "var outputEl = gd.closest('.output');\n",
              "if (outputEl) {{\n",
              "    x.observe(outputEl, {childList: true});\n",
              "}}\n",
              "\n",
              "                        })                };                            </script>        </div>\n",
              "</body>\n",
              "</html>"
            ]
          },
          "metadata": {}
        }
      ]
    },
    {
      "cell_type": "code",
      "source": [
        ""
      ],
      "metadata": {
        "id": "LGDWpVYB-Wcr"
      },
      "execution_count": null,
      "outputs": []
    },
    {
      "cell_type": "code",
      "source": [
        ""
      ],
      "metadata": {
        "id": "CNeBqgwIAJt-"
      },
      "execution_count": null,
      "outputs": []
    },
    {
      "cell_type": "code",
      "source": [
        ""
      ],
      "metadata": {
        "id": "OCVV4wYMAJwZ"
      },
      "execution_count": null,
      "outputs": []
    },
    {
      "cell_type": "code",
      "source": [
        ""
      ],
      "metadata": {
        "id": "zU7DxVCOAJy1"
      },
      "execution_count": null,
      "outputs": []
    },
    {
      "cell_type": "code",
      "source": [
        ""
      ],
      "metadata": {
        "id": "3605VoiMAJ1N"
      },
      "execution_count": null,
      "outputs": []
    },
    {
      "cell_type": "code",
      "source": [
        "layers"
      ],
      "metadata": {
        "colab": {
          "base_uri": "https://localhost:8080/"
        },
        "id": "JdiBnVep3DnC",
        "outputId": "2dce2254-31d0-4199-c077-5086a0a4caed"
      },
      "execution_count": 143,
      "outputs": [
        {
          "output_type": "execute_result",
          "data": {
            "text/plain": [
              "['biz_case',\n",
              " 'tech_app',\n",
              " 'learning_type',\n",
              " 'kautz_cat',\n",
              " 'nesy_category',\n",
              " 'kr',\n",
              " 'leverage',\n",
              " 'implicit_expilit',\n",
              " 'goals']"
            ]
          },
          "metadata": {},
          "execution_count": 143
        }
      ]
    },
    {
      "cell_type": "code",
      "source": [
        ""
      ],
      "metadata": {
        "id": "QAz-SVkf-JxP"
      },
      "execution_count": null,
      "outputs": []
    }
  ]
}