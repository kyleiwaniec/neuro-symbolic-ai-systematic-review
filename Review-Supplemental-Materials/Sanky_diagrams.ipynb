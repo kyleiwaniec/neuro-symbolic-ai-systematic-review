{
 "cells": [
  {
   "cell_type": "markdown",
   "metadata": {
    "id": "O4CEe04OXdzV"
   },
   "source": [
    "# The Sanky diagrams were generated using google colab.\n",
    "This is the notebook downloaded from colab. It might not run locally."
   ]
  },
  {
   "cell_type": "markdown",
   "metadata": {
    "id": "O4CEe04OXdzV"
   },
   "source": [
    "## Installs"
   ]
  },
  {
   "cell_type": "code",
   "execution_count": 2,
   "metadata": {
    "colab": {
     "base_uri": "https://localhost:8080/"
    },
    "id": "NkaMLf2jbtt8",
    "outputId": "083cdebd-79bb-40b1-986a-8fe122dc9c66"
   },
   "outputs": [
    {
     "name": "stdout",
     "output_type": "stream",
     "text": [
      "Collecting pySankey\n",
      "  Downloading pySankey-0.0.1-py3-none-any.whl (4.9 kB)\n",
      "Installing collected packages: pySankey\n",
      "Successfully installed pySankey-0.0.1\n"
     ]
    }
   ],
   "source": [
    "pip install pySankey\n"
   ]
  },
  {
   "cell_type": "code",
   "execution_count": 3,
   "metadata": {
    "colab": {
     "base_uri": "https://localhost:8080/"
    },
    "id": "inCAKYwRUEki",
    "outputId": "4bcb2bce-e97c-4ce8-f59b-d983b59e5c09"
   },
   "outputs": [
    {
     "name": "stdout",
     "output_type": "stream",
     "text": [
      "\u001b[K\u001b[?25h\u001b[37;40mnpm\u001b[0m \u001b[0m\u001b[30;43mWARN\u001b[0m \u001b[0m\u001b[35mdeprecated\u001b[0m request@2.88.2: request has been deprecated, see https://github.com/request/request/issues/3142\n",
      "\u001b[K\u001b[?25h\u001b[37;40mnpm\u001b[0m \u001b[0m\u001b[30;43mWARN\u001b[0m \u001b[0m\u001b[35mdeprecated\u001b[0m har-validator@5.1.5: this library is no longer supported\n",
      "\u001b[K\u001b[?25h\u001b[37;40mnpm\u001b[0m \u001b[0m\u001b[30;43mWARN\u001b[0m \u001b[0m\u001b[35mdeprecated\u001b[0m uuid@3.4.0: Please upgrade  to version 7 or higher.  Older versions may use Math.random() in certain circumstances, which is known to be problematic.  See https://v8.dev/blog/math-random for details.\n",
      "\u001b[K\u001b[?25h\u001b[37;40mnpm\u001b[0m \u001b[0m\u001b[30;43mWARN\u001b[0m \u001b[0m\u001b[35mdeprecated\u001b[0m left-pad@1.3.0: use String.prototype.padStart()\n",
      "\u001b[0m\u001b[37;40mnpm\u001b[0m \u001b[0m\u001b[30;43mWARN\u001b[0m \u001b[0m\u001b[35mdeprecated\u001b[0m request-promise-native@1.0.9: request-promise-native has been deprecated because it extends the now deprecated request package, see https://github.com/request/request/issues/3142\n",
      "\u001b[K\u001b[?25h/tools/node/bin/electron -> /tools/node/lib/node_modules/electron/cli.js\n",
      "\u001b[K\u001b[?25h/tools/node/bin/orca -> /tools/node/lib/node_modules/orca/bin/orca.js\n",
      "\u001b[K\u001b[?25h\n",
      "> electron@6.1.4 postinstall /tools/node/lib/node_modules/electron\n",
      "> node install.js\n",
      "\n",
      "+ electron@6.1.4\n",
      "+ orca@1.3.1\n",
      "added 290 packages from 312 contributors in 38.814s\n",
      "Reading package lists... Done\n",
      "Building dependency tree       \n",
      "Reading state information... Done\n",
      "The following packages were automatically installed and are no longer required:\n",
      "  cuda-command-line-tools-10-0 cuda-command-line-tools-10-1\n",
      "  cuda-command-line-tools-11-0 cuda-compiler-10-0 cuda-compiler-10-1\n",
      "  cuda-compiler-11-0 cuda-cuobjdump-10-0 cuda-cuobjdump-10-1\n",
      "  cuda-cuobjdump-11-0 cuda-cupti-10-0 cuda-cupti-10-1 cuda-cupti-11-0\n",
      "  cuda-cupti-dev-11-0 cuda-documentation-10-0 cuda-documentation-10-1\n",
      "  cuda-documentation-11-0 cuda-documentation-11-1 cuda-gdb-10-0 cuda-gdb-10-1\n",
      "  cuda-gdb-11-0 cuda-gpu-library-advisor-10-0 cuda-gpu-library-advisor-10-1\n",
      "  cuda-libraries-10-0 cuda-libraries-10-1 cuda-libraries-11-0\n",
      "  cuda-memcheck-10-0 cuda-memcheck-10-1 cuda-memcheck-11-0 cuda-nsight-10-0\n",
      "  cuda-nsight-10-1 cuda-nsight-11-0 cuda-nsight-11-1 cuda-nsight-compute-10-0\n",
      "  cuda-nsight-compute-10-1 cuda-nsight-compute-11-0 cuda-nsight-compute-11-1\n",
      "  cuda-nsight-systems-10-1 cuda-nsight-systems-11-0 cuda-nsight-systems-11-1\n",
      "  cuda-nvcc-10-0 cuda-nvcc-10-1 cuda-nvcc-11-0 cuda-nvdisasm-10-0\n",
      "  cuda-nvdisasm-10-1 cuda-nvdisasm-11-0 cuda-nvml-dev-10-0 cuda-nvml-dev-10-1\n",
      "  cuda-nvml-dev-11-0 cuda-nvprof-10-0 cuda-nvprof-10-1 cuda-nvprof-11-0\n",
      "  cuda-nvprune-10-0 cuda-nvprune-10-1 cuda-nvprune-11-0 cuda-nvtx-10-0\n",
      "  cuda-nvtx-10-1 cuda-nvtx-11-0 cuda-nvvp-10-0 cuda-nvvp-10-1 cuda-nvvp-11-0\n",
      "  cuda-nvvp-11-1 cuda-samples-10-0 cuda-samples-10-1 cuda-samples-11-0\n",
      "  cuda-samples-11-1 cuda-sanitizer-11-0 cuda-sanitizer-api-10-1\n",
      "  cuda-toolkit-10-0 cuda-toolkit-10-1 cuda-toolkit-11-0 cuda-toolkit-11-1\n",
      "  cuda-tools-10-0 cuda-tools-10-1 cuda-tools-11-0 cuda-tools-11-1\n",
      "  cuda-visual-tools-10-0 cuda-visual-tools-10-1 cuda-visual-tools-11-0\n",
      "  cuda-visual-tools-11-1 default-jre dkms freeglut3 freeglut3-dev\n",
      "  keyboard-configuration libargon2-0 libcap2 libcryptsetup12\n",
      "  libdevmapper1.02.1 libidn11 libip4tc0 libjansson4 libnvidia-cfg1-510\n",
      "  libnvidia-common-460 libnvidia-common-510 libnvidia-extra-510\n",
      "  libnvidia-fbc1-510 libnvidia-gl-510 libpam-systemd libpolkit-agent-1-0\n",
      "  libpolkit-backend-1-0 libpolkit-gobject-1-0 libxi-dev libxmu-dev\n",
      "  libxmu-headers libxnvctrl0 libxtst6 nsight-compute-2020.2.1\n",
      "  nsight-compute-2022.1.0 nsight-systems-2020.3.2 nsight-systems-2020.3.4\n",
      "  nsight-systems-2021.5.2 nvidia-dkms-510 nvidia-kernel-common-510\n",
      "  nvidia-kernel-source-510 nvidia-modprobe nvidia-settings openjdk-11-jre\n",
      "  policykit-1 policykit-1-gnome python3-xkit screen-resolution-extra systemd\n",
      "  systemd-sysv udev xserver-xorg-core-hwe-18.04 xserver-xorg-video-nvidia-510\n",
      "Use 'apt autoremove' to remove them.\n",
      "The following additional packages will be installed:\n",
      "  gconf-service gconf-service-backend gconf2-common libdbus-glib-1-2\n",
      "  libgail-common libgail18 libgtk2.0-bin libgtk2.0-common\n",
      "Suggested packages:\n",
      "  gvfs\n",
      "The following NEW packages will be installed:\n",
      "  gconf-service gconf-service-backend gconf2-common libdbus-glib-1-2\n",
      "  libgail-common libgail18 libgconf-2-4 libgtk2.0-0 libgtk2.0-bin\n",
      "  libgtk2.0-common xvfb\n",
      "0 upgraded, 11 newly installed, 0 to remove and 39 not upgraded.\n",
      "Need to get 3,715 kB of archives.\n",
      "After this operation, 17.2 MB of additional disk space will be used.\n",
      "Get:1 http://archive.ubuntu.com/ubuntu bionic/main amd64 libdbus-glib-1-2 amd64 0.110-2 [58.3 kB]\n",
      "Get:2 http://archive.ubuntu.com/ubuntu bionic/universe amd64 gconf2-common all 3.2.6-4ubuntu1 [700 kB]\n",
      "Get:3 http://archive.ubuntu.com/ubuntu bionic/universe amd64 libgconf-2-4 amd64 3.2.6-4ubuntu1 [84.8 kB]\n",
      "Get:4 http://archive.ubuntu.com/ubuntu bionic/universe amd64 gconf-service-backend amd64 3.2.6-4ubuntu1 [58.1 kB]\n",
      "Get:5 http://archive.ubuntu.com/ubuntu bionic/universe amd64 gconf-service amd64 3.2.6-4ubuntu1 [2,036 B]\n",
      "Get:6 http://archive.ubuntu.com/ubuntu bionic/main amd64 libgtk2.0-common all 2.24.32-1ubuntu1 [125 kB]\n",
      "Get:7 http://archive.ubuntu.com/ubuntu bionic/main amd64 libgtk2.0-0 amd64 2.24.32-1ubuntu1 [1,769 kB]\n",
      "Get:8 http://archive.ubuntu.com/ubuntu bionic/main amd64 libgail18 amd64 2.24.32-1ubuntu1 [14.2 kB]\n",
      "Get:9 http://archive.ubuntu.com/ubuntu bionic/main amd64 libgail-common amd64 2.24.32-1ubuntu1 [112 kB]\n",
      "Get:10 http://archive.ubuntu.com/ubuntu bionic/main amd64 libgtk2.0-bin amd64 2.24.32-1ubuntu1 [7,536 B]\n",
      "Get:11 http://archive.ubuntu.com/ubuntu bionic-updates/universe amd64 xvfb amd64 2:1.19.6-1ubuntu4.10 [784 kB]\n",
      "Fetched 3,715 kB in 3s (1,436 kB/s)\n",
      "Selecting previously unselected package libdbus-glib-1-2:amd64.\n",
      "(Reading database ... 155113 files and directories currently installed.)\n",
      "Preparing to unpack .../00-libdbus-glib-1-2_0.110-2_amd64.deb ...\n",
      "Unpacking libdbus-glib-1-2:amd64 (0.110-2) ...\n",
      "Selecting previously unselected package gconf2-common.\n",
      "Preparing to unpack .../01-gconf2-common_3.2.6-4ubuntu1_all.deb ...\n",
      "Unpacking gconf2-common (3.2.6-4ubuntu1) ...\n",
      "Selecting previously unselected package libgconf-2-4:amd64.\n",
      "Preparing to unpack .../02-libgconf-2-4_3.2.6-4ubuntu1_amd64.deb ...\n",
      "Unpacking libgconf-2-4:amd64 (3.2.6-4ubuntu1) ...\n",
      "Selecting previously unselected package gconf-service-backend.\n",
      "Preparing to unpack .../03-gconf-service-backend_3.2.6-4ubuntu1_amd64.deb ...\n",
      "Unpacking gconf-service-backend (3.2.6-4ubuntu1) ...\n",
      "Selecting previously unselected package gconf-service.\n",
      "Preparing to unpack .../04-gconf-service_3.2.6-4ubuntu1_amd64.deb ...\n",
      "Unpacking gconf-service (3.2.6-4ubuntu1) ...\n",
      "Selecting previously unselected package libgtk2.0-common.\n",
      "Preparing to unpack .../05-libgtk2.0-common_2.24.32-1ubuntu1_all.deb ...\n",
      "Unpacking libgtk2.0-common (2.24.32-1ubuntu1) ...\n",
      "Selecting previously unselected package libgtk2.0-0:amd64.\n",
      "Preparing to unpack .../06-libgtk2.0-0_2.24.32-1ubuntu1_amd64.deb ...\n",
      "Unpacking libgtk2.0-0:amd64 (2.24.32-1ubuntu1) ...\n",
      "Selecting previously unselected package libgail18:amd64.\n",
      "Preparing to unpack .../07-libgail18_2.24.32-1ubuntu1_amd64.deb ...\n",
      "Unpacking libgail18:amd64 (2.24.32-1ubuntu1) ...\n",
      "Selecting previously unselected package libgail-common:amd64.\n",
      "Preparing to unpack .../08-libgail-common_2.24.32-1ubuntu1_amd64.deb ...\n",
      "Unpacking libgail-common:amd64 (2.24.32-1ubuntu1) ...\n",
      "Selecting previously unselected package libgtk2.0-bin.\n",
      "Preparing to unpack .../09-libgtk2.0-bin_2.24.32-1ubuntu1_amd64.deb ...\n",
      "Unpacking libgtk2.0-bin (2.24.32-1ubuntu1) ...\n",
      "Selecting previously unselected package xvfb.\n",
      "Preparing to unpack .../10-xvfb_2%3a1.19.6-1ubuntu4.10_amd64.deb ...\n",
      "Unpacking xvfb (2:1.19.6-1ubuntu4.10) ...\n",
      "Setting up gconf2-common (3.2.6-4ubuntu1) ...\n",
      "\n",
      "Creating config file /etc/gconf/2/path with new version\n",
      "Setting up libgtk2.0-common (2.24.32-1ubuntu1) ...\n",
      "Setting up libdbus-glib-1-2:amd64 (0.110-2) ...\n",
      "Setting up xvfb (2:1.19.6-1ubuntu4.10) ...\n",
      "Setting up libgconf-2-4:amd64 (3.2.6-4ubuntu1) ...\n",
      "Setting up libgtk2.0-0:amd64 (2.24.32-1ubuntu1) ...\n",
      "Setting up libgail18:amd64 (2.24.32-1ubuntu1) ...\n",
      "Setting up libgail-common:amd64 (2.24.32-1ubuntu1) ...\n",
      "Setting up libgtk2.0-bin (2.24.32-1ubuntu1) ...\n",
      "Setting up gconf-service-backend (3.2.6-4ubuntu1) ...\n",
      "Setting up gconf-service (3.2.6-4ubuntu1) ...\n",
      "Processing triggers for libc-bin (2.27-3ubuntu1.3) ...\n",
      "/sbin/ldconfig.real: /usr/local/lib/python3.7/dist-packages/ideep4py/lib/libmkldnn.so.0 is not a symbolic link\n",
      "\n",
      "Processing triggers for man-db (2.8.3-2ubuntu0.1) ...\n"
     ]
    }
   ],
   "source": [
    "!npm install -g electron@6.1.4 orca --unsafe-perm=true --allow-root\n",
    "!apt-get install xvfb libgtk2.0-0 libgconf-2-4\n",
    "!chmod +x /tools/node/bin/orca"
   ]
  },
  {
   "cell_type": "code",
   "execution_count": 4,
   "metadata": {
    "colab": {
     "base_uri": "https://localhost:8080/"
    },
    "id": "9iKXOV94rc1g",
    "outputId": "bd88d074-726f-4df4-ae22-fb4e0122c5e8"
   },
   "outputs": [
    {
     "name": "stdout",
     "output_type": "stream",
     "text": [
      "Mounted at /content/drive\n"
     ]
    }
   ],
   "source": [
    "from google.colab import drive\n",
    "drive.mount('/content/drive')"
   ]
  },
  {
   "cell_type": "markdown",
   "metadata": {
    "id": "YVIzxtLYwYnB"
   },
   "source": [
    "# Imports and data"
   ]
  },
  {
   "cell_type": "code",
   "execution_count": 5,
   "metadata": {
    "id": "GDHuRZ0_bY9O"
   },
   "outputs": [],
   "source": [
    "import pandas as pd\n",
    "import re\n",
    "import numpy as np\n",
    "from collections import defaultdict\n",
    "\n",
    "promises=pd.read_csv(\"/content/drive/MyDrive/nesy/Final_41 - Promises.csv\")\n",
    "protocol=pd.read_csv(\"/content/drive/MyDrive/nesy/Final_41 - Protocol.csv\")\n",
    "\n",
    "promises = promises.loc[promises['eliminate'] != 1].reset_index()\n",
    "protocol = protocol.loc[protocol['eliminate'] != 1].reset_index()\n"
   ]
  },
  {
   "cell_type": "code",
   "execution_count": 6,
   "metadata": {
    "id": "XGw7GsWxzy_h"
   },
   "outputs": [],
   "source": [
    "#promises.columns"
   ]
  },
  {
   "cell_type": "code",
   "execution_count": 7,
   "metadata": {
    "id": "mhh0GZi4HJ-M"
   },
   "outputs": [],
   "source": [
    "promises = promises[['citation',\n",
    "       'leverages natural language structure',\n",
    "       'leverages relational structure', 'Knowledge representation',\n",
    "       'logic vs rules', 'implicit vs explicit', 'reasoning',\n",
    "       'out-of-distribution generalization', 'interpretability',\n",
    "       'reduced data', 'transferability']]"
   ]
  },
  {
   "cell_type": "code",
   "execution_count": 8,
   "metadata": {
    "id": "AX9Khjt00_X1"
   },
   "outputs": [],
   "source": [
    "#protocol.columns"
   ]
  },
  {
   "cell_type": "code",
   "execution_count": 9,
   "metadata": {
    "id": "FrFZ3Uju1ELg"
   },
   "outputs": [],
   "source": [
    "protocol = protocol[['citation','Business Use Case',\n",
    "       'Technical Application', 'Type of Learning', 'Symbolic terms',\n",
    "       'Neural terms', 'NeSy Category', 'Kautz category','Datasets','Study Quality']]"
   ]
  },
  {
   "cell_type": "code",
   "execution_count": 10,
   "metadata": {
    "id": "Ynooz82t1VAH"
   },
   "outputs": [],
   "source": [
    "df=pd.merge(promises, protocol, on=\"citation\", how='inner')\n",
    "df=df.reset_index()"
   ]
  },
  {
   "cell_type": "code",
   "execution_count": 11,
   "metadata": {
    "id": "z59k6uqh-tp-"
   },
   "outputs": [],
   "source": [
    "#df.columns"
   ]
  },
  {
   "cell_type": "code",
   "execution_count": 12,
   "metadata": {
    "id": "RVU47_ceDl4g"
   },
   "outputs": [],
   "source": [
    "neural_sup_terms = ['Stacked Hidden Layers',\n",
    "                    'Euclidean Space',\n",
    "                    'Sequence-to-Sequence',\n",
    "                    'Neuro-Symbolic',\n",
    "                    'Early Generation',\n",
    "                    'Graphical Models',\n",
    "                    'Memory Networks',\n",
    "                    'Linear Models',\n",
    "                    'Hybrid Models']\n",
    "bool_columns =    ['leverages natural language structure','leverages relational structure','No Structure Leverage',\n",
    "                   'reasoning', 'out-of-distribution generalization', 'interpretability','reduced data', 'transferability','none']\n",
    "columns =         ['NeSy Category','Kautz category',  \n",
    "                   'Knowledge representation', 'implicit vs explicit', \n",
    "                   'Business Use Case','Technical Application','Type of Learning', \n",
    "                   'Symbolic terms', 'Neural terms']"
   ]
  },
  {
   "cell_type": "code",
   "execution_count": 13,
   "metadata": {
    "id": "ssJRYuf5Lub6"
   },
   "outputs": [],
   "source": [
    "cat_var_lookup = defaultdict(int)\n",
    "i = 0\n",
    "\n",
    "for itm in neural_sup_terms:\n",
    "  cat_var_lookup[itm]=i\n",
    "  i+=1\n",
    "\n",
    "for itm in bool_columns:\n",
    "  cat_var_lookup[itm]=i\n",
    "  i+=1\n",
    "\n",
    "for col in columns:\n",
    "  terms = []\n",
    "  for t in df[col].unique():\n",
    "    _terms = str(t).split('\\n')\n",
    "    for term in _terms:\n",
    "      term=term.split(',')[0]\n",
    "      if term != '': terms.append(term)\n",
    "  for t in set(terms):\n",
    "    cat_var_lookup[t]=i\n",
    "    i+=1"
   ]
  },
  {
   "cell_type": "code",
   "execution_count": 14,
   "metadata": {
    "id": "6BvVp1AMI7dV"
   },
   "outputs": [],
   "source": [
    "# cat_var_lookup_list = sorted(list(cat_var_lookup.items()),key=lambda tup: tup[1])"
   ]
  },
  {
   "cell_type": "code",
   "execution_count": 14,
   "metadata": {
    "id": "WrL06AwAMbA4"
   },
   "outputs": [],
   "source": [
    "\n"
   ]
  },
  {
   "cell_type": "code",
   "execution_count": 15,
   "metadata": {
    "id": "SZoAiahFUujz"
   },
   "outputs": [],
   "source": [
    "var_cat_lookup = {v: k for k, v in cat_var_lookup.items()}"
   ]
  },
  {
   "cell_type": "code",
   "execution_count": 16,
   "metadata": {
    "id": "XlHYSF93RYsj"
   },
   "outputs": [],
   "source": [
    "def parseValue(s):\n",
    "  m = re.match(r\".*(\\((.*)\\))\",s)\n",
    "  try:\n",
    "    s = m.group(2)\n",
    "  except:\n",
    "    pass\n",
    "  return ' '.join(word[0].upper() + word[1:] for word in s.split())"
   ]
  },
  {
   "cell_type": "code",
   "execution_count": 17,
   "metadata": {
    "id": "KmN7i6mqPvL5"
   },
   "outputs": [],
   "source": [
    "for k,v in var_cat_lookup.items():\n",
    "  var_cat_lookup[k] = parseValue(v)\n",
    "# var_cat_lookup"
   ]
  },
  {
   "cell_type": "markdown",
   "metadata": {
    "id": "27o0NWYaQIAt"
   },
   "source": [
    "# Code"
   ]
  },
  {
   "cell_type": "code",
   "execution_count": 18,
   "metadata": {
    "id": "HnmA4iVHCt50"
   },
   "outputs": [],
   "source": [
    "# generate data structures for sanky by combining columns from df\n",
    "\n",
    "cols=list(df.columns)\n",
    "\n",
    "# Sanky layers (these don't have to be Series, it's a leagcy idea)\n",
    "nesy_category = pd.Series([],dtype = 'object')\n",
    "kautz_cat = pd.Series([],dtype = 'object')\n",
    "leverage = pd.Series([],dtype = 'object')\n",
    "kr = pd.Series([],dtype = 'object')\n",
    "implicit_explicit = pd.Series([],dtype = 'object')\n",
    "goals = pd.Series([],dtype = 'object')\n",
    "biz_case = pd.Series([],dtype = 'object')\n",
    "tech_app = pd.Series([],dtype = 'object')\n",
    "learning_type = pd.Series([],dtype = 'object')\n",
    "symb_terms = pd.Series([],dtype = 'object')\n",
    "neural_terms = pd.Series([],dtype = 'object')\n",
    "neural_sup_terms = pd.Series([],dtype = 'object')\n",
    "\n",
    "for row in df.itertuples():\n",
    "  nesy_category[len(nesy_category)] = [cat_var_lookup[row[cols.index('NeSy Category')+1]]]\n",
    "  kautz_cat[len(kautz_cat)] =         [cat_var_lookup[row[cols.index('Kautz category')+1]]]\n",
    "\n",
    "  #leverage\n",
    "  _leverage = []\n",
    "  if row[cols.index('leverages natural language structure')+1]:\n",
    "    _leverage.append(cat_var_lookup['leverages natural language structure'])\n",
    "  if row[cols.index('leverages relational structure')+1]:\n",
    "    _leverage.append(cat_var_lookup['leverages relational structure'])  \n",
    "\n",
    "  if len(_leverage) == 0:\n",
    "    _leverage.append(cat_var_lookup['No Structure Leverage'])\n",
    "  leverage[len(leverage)]=_leverage\n",
    "\n",
    "  #knowledge representation\n",
    "  _kr = []\n",
    "  if type(row[cols.index('Knowledge representation')+1]) == str:\n",
    "    vals=row[cols.index('Knowledge representation')+1].split('\\n')\n",
    "    for v in vals:\n",
    "      v=v.split(',')[0]\n",
    "      if v != '':_kr.append(cat_var_lookup[v])\n",
    "    kr[len(kr)] = _kr \n",
    "  else:kr[len(kr)]=[]\n",
    "   \n",
    "  #implicit_explicit\n",
    "  _implicit_explicit = []\n",
    "  if type(row[cols.index('implicit vs explicit')+1]) == str:\n",
    "    vals=row[cols.index('implicit vs explicit')+1].split('\\n')\n",
    "    for v in vals:\n",
    "      v=v.split(',')[0]\n",
    "      if v != '':_implicit_explicit.append(cat_var_lookup[v])\n",
    "    implicit_explicit[len(implicit_explicit)] = _implicit_explicit\n",
    "  else:implicit_explicit[len(implicit_explicit)]=[]\n",
    "\n",
    "  #goals\n",
    "  goalstrings=['reasoning', 'out-of-distribution generalization', 'interpretability', 'reduced data', 'transferability']\n",
    "  _goals=[]\n",
    "  for gstr in goalstrings:\n",
    "    # print(row[cols.index(gstr)+1])\n",
    "    if row[cols.index(gstr)+1]:\n",
    "      if v != '':_goals.append(cat_var_lookup[gstr])\n",
    "  if len(_goals) == 0:\n",
    "    _goals.append(cat_var_lookup['none'])\n",
    "  goals[len(goals)] = _goals\n",
    "\n",
    "\n",
    "  #business use case\n",
    "  _biz_case=[]\n",
    "  if type(row[cols.index('Business Use Case')+1]) == str:\n",
    "    vals=row[cols.index('Business Use Case')+1].split('\\n')\n",
    "    for v in vals:\n",
    "      v=v.split(',')[0]\n",
    "      if v != '':_biz_case.append(cat_var_lookup[v])\n",
    "    biz_case[len(biz_case)] = _biz_case \n",
    "  else:biz_case[len(biz_case)]=[]\n",
    "\n",
    "\n",
    "  #Technical Application\n",
    "  _tech_app=[]\n",
    "  if type(row[cols.index('Technical Application')+1]) == str:\n",
    "    vals=row[cols.index('Technical Application')+1].split('\\n')\n",
    "    for v in vals:\n",
    "      v=v.split(',')[0]\n",
    "      if v != '':_tech_app.append(cat_var_lookup[v])\n",
    "    tech_app[len(tech_app)] = _tech_app\n",
    "  else:tech_app[len(tech_app)]=[]\n",
    "\n",
    "\n",
    "  #Learning_type\n",
    "  _learning_type=[]\n",
    "  if type(row[cols.index('Type of Learning')+1]) == str:\n",
    "    vals=row[cols.index('Type of Learning')+1].split('\\n')\n",
    "    for v in vals:\n",
    "      v=v.split(',')[0]\n",
    "      if v != '':_learning_type.append(cat_var_lookup[v])\n",
    "    learning_type[len(learning_type)] = _learning_type\n",
    "  else:learning_type[len(learning_type)]=[]\n",
    "\n",
    "  #symb_terms\n",
    "  _symb_terms=[]\n",
    "  if type(row[cols.index('Symbolic terms')+1]) == str:\n",
    "    vals=row[cols.index('Symbolic terms')+1].split('\\n')\n",
    "    for v in vals:\n",
    "      v=v.split(',')[0]\n",
    "      if v != '':_symb_terms.append(cat_var_lookup[v])\n",
    "    symb_terms[len(symb_terms)] = _symb_terms\n",
    "  else:symb_terms[len(symb_terms)]=[]\n",
    "\n",
    "  #neural_terms\n",
    "  _neural_terms=[]\n",
    "  if type(row[cols.index('Neural terms')+1]) == str:\n",
    "    vals=row[cols.index('Neural terms')+1].split('\\n')\n",
    "    for v in vals:\n",
    "      v=v.split(',')[0]\n",
    "      if v != '': _neural_terms.append(cat_var_lookup[v])\n",
    "    neural_terms[len(neural_terms)] = _neural_terms\n",
    "  else:neural_terms[len(neural_terms)]=[]\n",
    "\n",
    "\n",
    "  # neural_sup_terms\n",
    "  \n",
    "  \n",
    "  neural_sup_terms_dict={\n",
    "  'Early Generation':       ['neural network (NN)','convolutional neural network (CNN)'],\n",
    "  'Graphical Models':       ['graph neural network (GNN)','deep belief network (DBN)'],\n",
    "  'Sequence-to-Sequence':   ['recurrent neural network (RNN)','recursive neural network (RcNN)'],\n",
    "  'Neuro-Symbolic':         ['logic tensor network (LTN)','recursive neural knowledge network (RNKN)','Tensor Product Representation (TPR)'],\n",
    "  'Memory Networks':        ['transformer','attention network (Attn)','Memory Network'],\n",
    "  'Hybrid Models':          ['reinforcement learning (RL)'],\n",
    "  'Linear Models' :         ['SVM']\n",
    "  }\n",
    "  \n",
    "\n",
    "  \n",
    "  \n",
    "\n",
    "\n",
    "  _neural_sup_terms=[]\n",
    "  for key in neural_sup_terms_dict.keys():\n",
    "    vals=row[cols.index('Neural terms')+1].split('\\n')\n",
    "    for v in vals:\n",
    "      v=v.split(',')[0]\n",
    "      # try:\n",
    "      if v in neural_sup_terms_dict[key]:\n",
    "        _neural_sup_terms.append(cat_var_lookup[key])\n",
    "      # except:\n",
    "        # pass  \n",
    "  neural_sup_terms[len(neural_sup_terms)] = _neural_sup_terms\n",
    "\n"
   ]
  },
  {
   "cell_type": "code",
   "execution_count": 19,
   "metadata": {
    "id": "ouDMcycqkb8B"
   },
   "outputs": [],
   "source": [
    "def generateLinks(columns,palette):\n",
    "  links=[]\n",
    "  epsilon = 1.0e-10 #prevent division by zero\n",
    "\n",
    "  \n",
    "  # flatten_matrix = [val for sublist in matrix for val in sublist]\n",
    "  source_variables = set([e for el in columns[0] for e in el]) \n",
    "  colors_dict = defaultdict()\n",
    "  for i,c in enumerate(source_variables):\n",
    "    colors_dict[c] = palette[i]\n",
    "\n",
    "  for row_idx in range(len(columns[0])):\n",
    "    for col_idx in range(len(columns)-1):\n",
    "      \n",
    "      sources = columns[col_idx][row_idx]\n",
    "\n",
    "      for source in sources:\n",
    "        # always use the color from the first column\n",
    "        if col_idx == 0:\n",
    "          color = colors_dict[source]\n",
    "\n",
    "        # 1 / epsilon + (length of sourse * length of target)\n",
    "        # weight = 1/(epsilon+len(columns[col_idx][row_idx])*len(columns[col_idx+1][row_idx]))\n",
    "        weight = 1/len(columns[col_idx+1][row_idx])\n",
    "        targets = columns[col_idx+1][row_idx]\n",
    "\n",
    "        for target in targets:\n",
    "          links.append((source, target, weight, color))\n",
    "\n",
    "\n",
    "  return(np.array(links))"
   ]
  },
  {
   "cell_type": "markdown",
   "metadata": {
    "id": "H0jJBtNqSqGB"
   },
   "source": [
    "# Choose your layers and make sanky"
   ]
  },
  {
   "cell_type": "code",
   "execution_count": 20,
   "metadata": {
    "colab": {
     "base_uri": "https://localhost:8080/"
    },
    "id": "3qd0StEOHBRA",
    "outputId": "ceff5622-b562-420a-c83f-26f492854bb3"
   },
   "outputs": [
    {
     "data": {
      "text/plain": [
       "['#005d79',\n",
       " '#ff2f6d',\n",
       " '#2a91a7',\n",
       " '#9c4397',\n",
       " '#89b79f',\n",
       " '#450256',\n",
       " '#57bcd6',\n",
       " '#296afb',\n",
       " '#afe979']"
      ]
     },
     "execution_count": 20,
     "metadata": {},
     "output_type": "execute_result"
    }
   ],
   "source": [
    "colors=[\"#afe979\", \"#296afb\", \"#57bcd6\", \"#450256\", \"#89b79f\", \"#9c4397\", \"#2a91a7\", \"#ff2f6d\", \"#005d79\"]\n",
    "list(reversed(colors))"
   ]
  },
  {
   "cell_type": "code",
   "execution_count": 21,
   "metadata": {
    "id": "EXkNDUrLkbqD"
   },
   "outputs": [],
   "source": [
    "def makeLabels(st_links):\n",
    "  labels=[None]*150\n",
    "\n",
    "  # source labels: set(st_links[:,0:1].flatten())\n",
    "  for i in set(st_links[:,0:1].flatten()):\n",
    "    labels[int(i)]=var_cat_lookup[int(i)]\n",
    "\n",
    "\n",
    "  # target labels: set(st_links[:,1:2].flatten())\n",
    "  for i in set(st_links[:,1:2].flatten()):\n",
    "    labels[int(i)]=var_cat_lookup[int(i)]\n",
    "\n",
    "  return labels"
   ]
  },
  {
   "cell_type": "code",
   "execution_count": 22,
   "metadata": {
    "id": "dlR-H6DjPbIi"
   },
   "outputs": [],
   "source": [
    "\n",
    "colors=[\"rgba(32,112,180,.75)\",\"rgba(137,183,159,.75)\",\"rgba(69,2,86,.75)\",\"rgba(156,67,151,.75)\",\"rgba(87,188,214,.75)\"]*10\n",
    "colors=[\"#450256\",\"#57bcd6\",\"#89b79f\",\"#9c4397\",\"#ff2f6d\",\"#2a91a7\",\"#afe979\",\"#296afb\",\"#005d79\"]*10\n",
    "# colors=[\"#afe979\", \"#296afb\", \"#57bcd6\", \"#450256\", \"#89b79f\", \"#9c4397\", \"#2a91a7\", \"#ff2f6d\", \"#005d79\"]\n",
    "# colors=list(reversed(colors))*10\n"
   ]
  },
  {
   "cell_type": "code",
   "execution_count": 23,
   "metadata": {
    "colab": {
     "base_uri": "https://localhost:8080/"
    },
    "id": "uAPmk7ovPcxX",
    "outputId": "6e41d24c-c1fc-4513-c396-b08aac10342e"
   },
   "outputs": [
    {
     "data": {
      "text/plain": [
       "['nesy_category',\n",
       " 'leverage',\n",
       " 'kr',\n",
       " 'implicit_explicit',\n",
       " 'goals',\n",
       " 'biz_case',\n",
       " 'tech_app',\n",
       " 'learning_type',\n",
       " 'symb_terms',\n",
       " 'neural_terms',\n",
       " 'neural_sup_terms',\n",
       " 'kautz_cat']"
      ]
     },
     "execution_count": 23,
     "metadata": {},
     "output_type": "execute_result"
    }
   ],
   "source": [
    "# Choose from below sanky layers:\n",
    "layers=['nesy_category','leverage','kr','implicit_explicit','goals','biz_case','tech_app','learning_type','symb_terms','neural_terms','neural_sup_terms','kautz_cat']\n",
    "layers"
   ]
  },
  {
   "cell_type": "code",
   "execution_count": 24,
   "metadata": {
    "id": "EP4bErwnOyf9"
   },
   "outputs": [],
   "source": [
    "import plotly.graph_objects as go"
   ]
  },
  {
   "cell_type": "code",
   "execution_count": 25,
   "metadata": {
    "colab": {
     "base_uri": "https://localhost:8080/",
     "height": 517
    },
    "id": "XIiG-fzCIYkg",
    "outputId": "affa0e2f-db19-4a8f-86f8-f38363042db7"
   },
   "outputs": [
    {
     "data": {
      "text/html": [
       "<html>\n",
       "<head><meta charset=\"utf-8\" /></head>\n",
       "<body>\n",
       "    <div>            <script src=\"https://cdnjs.cloudflare.com/ajax/libs/mathjax/2.7.5/MathJax.js?config=TeX-AMS-MML_SVG\"></script><script type=\"text/javascript\">if (window.MathJax) {MathJax.Hub.Config({SVG: {font: \"STIX-Web\"}});}</script>                <script type=\"text/javascript\">window.PlotlyConfig = {MathJaxConfig: 'local'};</script>\n",
       "        <script src=\"https://cdn.plot.ly/plotly-2.8.3.min.js\"></script>                <div id=\"75a1bde6-0ff2-4470-b7cc-579115dd9fe6\" class=\"plotly-graph-div\" style=\"height:500px; width:600px;\"></div>            <script type=\"text/javascript\">                                    window.PLOTLYENV=window.PLOTLYENV || {};                                    if (document.getElementById(\"75a1bde6-0ff2-4470-b7cc-579115dd9fe6\")) {                    Plotly.newPlot(                        \"75a1bde6-0ff2-4470-b7cc-579115dd9fe6\",                        [{\"link\":{\"color\":[\"#450256\",\"#57bcd6\",\"#450256\",\"#89b79f\",\"#57bcd6\",\"#57bcd6\",\"#450256\",\"#57bcd6\",\"#450256\",\"#450256\",\"#57bcd6\",\"#57bcd6\",\"#89b79f\",\"#57bcd6\",\"#450256\",\"#57bcd6\",\"#450256\",\"#57bcd6\",\"#57bcd6\",\"#57bcd6\",\"#89b79f\",\"#89b79f\",\"#57bcd6\",\"#450256\",\"#57bcd6\",\"#450256\",\"#89b79f\",\"#450256\",\"#450256\",\"#57bcd6\",\"#450256\",\"#89b79f\",\"#89b79f\",\"#450256\",\"#450256\",\"#89b79f\",\"#450256\",\"#89b79f\",\"#450256\",\"#57bcd6\",\"#450256\",\"#89b79f\"],\"source\":[\"9\",\"10\",\"9\",\"11\",\"10\",\"10\",\"9\",\"10\",\"9\",\"9\",\"10\",\"10\",\"11\",\"10\",\"9\",\"10\",\"9\",\"10\",\"10\",\"10\",\"11\",\"11\",\"10\",\"9\",\"10\",\"9\",\"11\",\"9\",\"9\",\"10\",\"9\",\"11\",\"11\",\"9\",\"9\",\"11\",\"9\",\"11\",\"9\",\"10\",\"9\",\"11\"],\"target\":[\"51\",\"51\",\"51\",\"51\",\"52\",\"51\",\"51\",\"51\",\"51\",\"51\",\"51\",\"52\",\"51\",\"51\",\"54\",\"54\",\"51\",\"51\",\"51\",\"52\",\"51\",\"51\",\"51\",\"51\",\"51\",\"51\",\"53\",\"51\",\"51\",\"51\",\"51\",\"51\",\"51\",\"51\",\"52\",\"51\",\"54\",\"51\",\"54\",\"54\",\"54\",\"54\"],\"value\":[\"1.0\",\"1.0\",\"1.0\",\"1.0\",\"1.0\",\"1.0\",\"1.0\",\"1.0\",\"1.0\",\"1.0\",\"1.0\",\"1.0\",\"1.0\",\"1.0\",\"1.0\",\"1.0\",\"1.0\",\"1.0\",\"1.0\",\"1.0\",\"1.0\",\"1.0\",\"1.0\",\"1.0\",\"1.0\",\"1.0\",\"1.0\",\"1.0\",\"1.0\",\"1.0\",\"1.0\",\"1.0\",\"1.0\",\"0.5\",\"0.5\",\"1.0\",\"1.0\",\"1.0\",\"1.0\",\"1.0\",\"1.0\",\"1.0\"]},\"node\":{\"color\":\"#333333\",\"label\":[null,null,null,null,null,null,null,null,null,\"Leverages Natural Language Structure\",\"Leverages Relational Structure\",\"No Structure Leverage\",null,null,null,null,null,null,null,null,null,null,null,null,null,null,null,null,null,null,null,null,null,null,null,null,null,null,null,null,null,null,null,null,null,null,null,null,null,null,null,\"Classification\",\"Inference\",\"Similarity\",\"Generative\",null,null,null,null,null,null,null,null,null,null,null,null,null,null,null,null,null,null,null,null,null,null,null,null,null,null,null,null,null,null,null,null,null,null,null,null,null,null,null,null,null,null,null,null,null,null,null,null,null,null,null,null,null,null,null,null,null,null,null,null,null,null,null,null,null,null,null,null,null,null,null,null,null,null,null,null,null,null,null,null,null,null,null,null,null,null,null,null,null,null,null,null,null,null,null],\"pad\":25,\"thickness\":10},\"type\":\"sankey\"}],                        {\"template\":{\"data\":{\"bar\":[{\"error_x\":{\"color\":\"#2a3f5f\"},\"error_y\":{\"color\":\"#2a3f5f\"},\"marker\":{\"line\":{\"color\":\"#E5ECF6\",\"width\":0.5},\"pattern\":{\"fillmode\":\"overlay\",\"size\":10,\"solidity\":0.2}},\"type\":\"bar\"}],\"barpolar\":[{\"marker\":{\"line\":{\"color\":\"#E5ECF6\",\"width\":0.5},\"pattern\":{\"fillmode\":\"overlay\",\"size\":10,\"solidity\":0.2}},\"type\":\"barpolar\"}],\"carpet\":[{\"aaxis\":{\"endlinecolor\":\"#2a3f5f\",\"gridcolor\":\"white\",\"linecolor\":\"white\",\"minorgridcolor\":\"white\",\"startlinecolor\":\"#2a3f5f\"},\"baxis\":{\"endlinecolor\":\"#2a3f5f\",\"gridcolor\":\"white\",\"linecolor\":\"white\",\"minorgridcolor\":\"white\",\"startlinecolor\":\"#2a3f5f\"},\"type\":\"carpet\"}],\"choropleth\":[{\"colorbar\":{\"outlinewidth\":0,\"ticks\":\"\"},\"type\":\"choropleth\"}],\"contour\":[{\"colorbar\":{\"outlinewidth\":0,\"ticks\":\"\"},\"colorscale\":[[0.0,\"#0d0887\"],[0.1111111111111111,\"#46039f\"],[0.2222222222222222,\"#7201a8\"],[0.3333333333333333,\"#9c179e\"],[0.4444444444444444,\"#bd3786\"],[0.5555555555555556,\"#d8576b\"],[0.6666666666666666,\"#ed7953\"],[0.7777777777777778,\"#fb9f3a\"],[0.8888888888888888,\"#fdca26\"],[1.0,\"#f0f921\"]],\"type\":\"contour\"}],\"contourcarpet\":[{\"colorbar\":{\"outlinewidth\":0,\"ticks\":\"\"},\"type\":\"contourcarpet\"}],\"heatmap\":[{\"colorbar\":{\"outlinewidth\":0,\"ticks\":\"\"},\"colorscale\":[[0.0,\"#0d0887\"],[0.1111111111111111,\"#46039f\"],[0.2222222222222222,\"#7201a8\"],[0.3333333333333333,\"#9c179e\"],[0.4444444444444444,\"#bd3786\"],[0.5555555555555556,\"#d8576b\"],[0.6666666666666666,\"#ed7953\"],[0.7777777777777778,\"#fb9f3a\"],[0.8888888888888888,\"#fdca26\"],[1.0,\"#f0f921\"]],\"type\":\"heatmap\"}],\"heatmapgl\":[{\"colorbar\":{\"outlinewidth\":0,\"ticks\":\"\"},\"colorscale\":[[0.0,\"#0d0887\"],[0.1111111111111111,\"#46039f\"],[0.2222222222222222,\"#7201a8\"],[0.3333333333333333,\"#9c179e\"],[0.4444444444444444,\"#bd3786\"],[0.5555555555555556,\"#d8576b\"],[0.6666666666666666,\"#ed7953\"],[0.7777777777777778,\"#fb9f3a\"],[0.8888888888888888,\"#fdca26\"],[1.0,\"#f0f921\"]],\"type\":\"heatmapgl\"}],\"histogram\":[{\"marker\":{\"pattern\":{\"fillmode\":\"overlay\",\"size\":10,\"solidity\":0.2}},\"type\":\"histogram\"}],\"histogram2d\":[{\"colorbar\":{\"outlinewidth\":0,\"ticks\":\"\"},\"colorscale\":[[0.0,\"#0d0887\"],[0.1111111111111111,\"#46039f\"],[0.2222222222222222,\"#7201a8\"],[0.3333333333333333,\"#9c179e\"],[0.4444444444444444,\"#bd3786\"],[0.5555555555555556,\"#d8576b\"],[0.6666666666666666,\"#ed7953\"],[0.7777777777777778,\"#fb9f3a\"],[0.8888888888888888,\"#fdca26\"],[1.0,\"#f0f921\"]],\"type\":\"histogram2d\"}],\"histogram2dcontour\":[{\"colorbar\":{\"outlinewidth\":0,\"ticks\":\"\"},\"colorscale\":[[0.0,\"#0d0887\"],[0.1111111111111111,\"#46039f\"],[0.2222222222222222,\"#7201a8\"],[0.3333333333333333,\"#9c179e\"],[0.4444444444444444,\"#bd3786\"],[0.5555555555555556,\"#d8576b\"],[0.6666666666666666,\"#ed7953\"],[0.7777777777777778,\"#fb9f3a\"],[0.8888888888888888,\"#fdca26\"],[1.0,\"#f0f921\"]],\"type\":\"histogram2dcontour\"}],\"mesh3d\":[{\"colorbar\":{\"outlinewidth\":0,\"ticks\":\"\"},\"type\":\"mesh3d\"}],\"parcoords\":[{\"line\":{\"colorbar\":{\"outlinewidth\":0,\"ticks\":\"\"}},\"type\":\"parcoords\"}],\"pie\":[{\"automargin\":true,\"type\":\"pie\"}],\"scatter\":[{\"marker\":{\"colorbar\":{\"outlinewidth\":0,\"ticks\":\"\"}},\"type\":\"scatter\"}],\"scatter3d\":[{\"line\":{\"colorbar\":{\"outlinewidth\":0,\"ticks\":\"\"}},\"marker\":{\"colorbar\":{\"outlinewidth\":0,\"ticks\":\"\"}},\"type\":\"scatter3d\"}],\"scattercarpet\":[{\"marker\":{\"colorbar\":{\"outlinewidth\":0,\"ticks\":\"\"}},\"type\":\"scattercarpet\"}],\"scattergeo\":[{\"marker\":{\"colorbar\":{\"outlinewidth\":0,\"ticks\":\"\"}},\"type\":\"scattergeo\"}],\"scattergl\":[{\"marker\":{\"colorbar\":{\"outlinewidth\":0,\"ticks\":\"\"}},\"type\":\"scattergl\"}],\"scattermapbox\":[{\"marker\":{\"colorbar\":{\"outlinewidth\":0,\"ticks\":\"\"}},\"type\":\"scattermapbox\"}],\"scatterpolar\":[{\"marker\":{\"colorbar\":{\"outlinewidth\":0,\"ticks\":\"\"}},\"type\":\"scatterpolar\"}],\"scatterpolargl\":[{\"marker\":{\"colorbar\":{\"outlinewidth\":0,\"ticks\":\"\"}},\"type\":\"scatterpolargl\"}],\"scatterternary\":[{\"marker\":{\"colorbar\":{\"outlinewidth\":0,\"ticks\":\"\"}},\"type\":\"scatterternary\"}],\"surface\":[{\"colorbar\":{\"outlinewidth\":0,\"ticks\":\"\"},\"colorscale\":[[0.0,\"#0d0887\"],[0.1111111111111111,\"#46039f\"],[0.2222222222222222,\"#7201a8\"],[0.3333333333333333,\"#9c179e\"],[0.4444444444444444,\"#bd3786\"],[0.5555555555555556,\"#d8576b\"],[0.6666666666666666,\"#ed7953\"],[0.7777777777777778,\"#fb9f3a\"],[0.8888888888888888,\"#fdca26\"],[1.0,\"#f0f921\"]],\"type\":\"surface\"}],\"table\":[{\"cells\":{\"fill\":{\"color\":\"#EBF0F8\"},\"line\":{\"color\":\"white\"}},\"header\":{\"fill\":{\"color\":\"#C8D4E3\"},\"line\":{\"color\":\"white\"}},\"type\":\"table\"}]},\"layout\":{\"annotationdefaults\":{\"arrowcolor\":\"#2a3f5f\",\"arrowhead\":0,\"arrowwidth\":1},\"autotypenumbers\":\"strict\",\"coloraxis\":{\"colorbar\":{\"outlinewidth\":0,\"ticks\":\"\"}},\"colorscale\":{\"diverging\":[[0,\"#8e0152\"],[0.1,\"#c51b7d\"],[0.2,\"#de77ae\"],[0.3,\"#f1b6da\"],[0.4,\"#fde0ef\"],[0.5,\"#f7f7f7\"],[0.6,\"#e6f5d0\"],[0.7,\"#b8e186\"],[0.8,\"#7fbc41\"],[0.9,\"#4d9221\"],[1,\"#276419\"]],\"sequential\":[[0.0,\"#0d0887\"],[0.1111111111111111,\"#46039f\"],[0.2222222222222222,\"#7201a8\"],[0.3333333333333333,\"#9c179e\"],[0.4444444444444444,\"#bd3786\"],[0.5555555555555556,\"#d8576b\"],[0.6666666666666666,\"#ed7953\"],[0.7777777777777778,\"#fb9f3a\"],[0.8888888888888888,\"#fdca26\"],[1.0,\"#f0f921\"]],\"sequentialminus\":[[0.0,\"#0d0887\"],[0.1111111111111111,\"#46039f\"],[0.2222222222222222,\"#7201a8\"],[0.3333333333333333,\"#9c179e\"],[0.4444444444444444,\"#bd3786\"],[0.5555555555555556,\"#d8576b\"],[0.6666666666666666,\"#ed7953\"],[0.7777777777777778,\"#fb9f3a\"],[0.8888888888888888,\"#fdca26\"],[1.0,\"#f0f921\"]]},\"colorway\":[\"#636efa\",\"#EF553B\",\"#00cc96\",\"#ab63fa\",\"#FFA15A\",\"#19d3f3\",\"#FF6692\",\"#B6E880\",\"#FF97FF\",\"#FECB52\"],\"font\":{\"color\":\"#2a3f5f\"},\"geo\":{\"bgcolor\":\"white\",\"lakecolor\":\"white\",\"landcolor\":\"#E5ECF6\",\"showlakes\":true,\"showland\":true,\"subunitcolor\":\"white\"},\"hoverlabel\":{\"align\":\"left\"},\"hovermode\":\"closest\",\"mapbox\":{\"style\":\"light\"},\"paper_bgcolor\":\"white\",\"plot_bgcolor\":\"#E5ECF6\",\"polar\":{\"angularaxis\":{\"gridcolor\":\"white\",\"linecolor\":\"white\",\"ticks\":\"\"},\"bgcolor\":\"#E5ECF6\",\"radialaxis\":{\"gridcolor\":\"white\",\"linecolor\":\"white\",\"ticks\":\"\"}},\"scene\":{\"xaxis\":{\"backgroundcolor\":\"#E5ECF6\",\"gridcolor\":\"white\",\"gridwidth\":2,\"linecolor\":\"white\",\"showbackground\":true,\"ticks\":\"\",\"zerolinecolor\":\"white\"},\"yaxis\":{\"backgroundcolor\":\"#E5ECF6\",\"gridcolor\":\"white\",\"gridwidth\":2,\"linecolor\":\"white\",\"showbackground\":true,\"ticks\":\"\",\"zerolinecolor\":\"white\"},\"zaxis\":{\"backgroundcolor\":\"#E5ECF6\",\"gridcolor\":\"white\",\"gridwidth\":2,\"linecolor\":\"white\",\"showbackground\":true,\"ticks\":\"\",\"zerolinecolor\":\"white\"}},\"shapedefaults\":{\"line\":{\"color\":\"#2a3f5f\"}},\"ternary\":{\"aaxis\":{\"gridcolor\":\"white\",\"linecolor\":\"white\",\"ticks\":\"\"},\"baxis\":{\"gridcolor\":\"white\",\"linecolor\":\"white\",\"ticks\":\"\"},\"bgcolor\":\"#E5ECF6\",\"caxis\":{\"gridcolor\":\"white\",\"linecolor\":\"white\",\"ticks\":\"\"}},\"title\":{\"x\":0.05},\"xaxis\":{\"automargin\":true,\"gridcolor\":\"white\",\"linecolor\":\"white\",\"ticks\":\"\",\"title\":{\"standoff\":15},\"zerolinecolor\":\"white\",\"zerolinewidth\":2},\"yaxis\":{\"automargin\":true,\"gridcolor\":\"white\",\"linecolor\":\"white\",\"ticks\":\"\",\"title\":{\"standoff\":15},\"zerolinecolor\":\"white\",\"zerolinewidth\":2}}},\"font\":{\"size\":13,\"color\":\"#333333\",\"family\":\"Arial\"},\"hovermode\":\"x\",\"title\":{\"text\":\"\"},\"height\":500,\"width\":600},                        {\"responsive\": true}                    ).then(function(){\n",
       "                            \n",
       "var gd = document.getElementById('75a1bde6-0ff2-4470-b7cc-579115dd9fe6');\n",
       "var x = new MutationObserver(function (mutations, observer) {{\n",
       "        var display = window.getComputedStyle(gd).display;\n",
       "        if (!display || display === 'none') {{\n",
       "            console.log([gd, 'removed!']);\n",
       "            Plotly.purge(gd);\n",
       "            observer.disconnect();\n",
       "        }}\n",
       "}});\n",
       "\n",
       "// Listen for the removal of the full notebook cells\n",
       "var notebookContainer = gd.closest('#notebook-container');\n",
       "if (notebookContainer) {{\n",
       "    x.observe(notebookContainer, {childList: true});\n",
       "}}\n",
       "\n",
       "// Listen for the clearing of the current output cell\n",
       "var outputEl = gd.closest('.output');\n",
       "if (outputEl) {{\n",
       "    x.observe(outputEl, {childList: true});\n",
       "}}\n",
       "\n",
       "                        })                };                            </script>        </div>\n",
       "</body>\n",
       "</html>"
      ]
     },
     "metadata": {},
     "output_type": "display_data"
    }
   ],
   "source": [
    "st_links = generateLinks([leverage,tech_app],colors)\n",
    "labels=makeLabels(st_links)\n",
    "\n",
    "weights = [1]*len(st_links[:,2:3].flatten())\n",
    "weights = st_links[:,2:3].flatten()\n",
    "\n",
    "# data to dict, dict to sankey\n",
    "link = dict(source = st_links[:,0:1].flatten(), target = st_links[:,1:2].flatten(), value = weights, color = st_links[:,3:4].flatten())\n",
    "node = dict(label = labels, pad=25, thickness=10, color=\"#333333\")\n",
    "data = go.Sankey(link = link, node=node)\n",
    "# plot\n",
    "\n",
    "fig = go.Figure(data)\n",
    "fig.update_layout(\n",
    "    hovermode = 'x',\n",
    "    title = \"\",\n",
    "    font=dict(size = 13, color = '#333333'),\n",
    "    height = 500,\n",
    "    width = 600,\n",
    "  font_family=\"Arial\"\n",
    "  )\n",
    "fig.show()"
   ]
  },
  {
   "cell_type": "code",
   "execution_count": 26,
   "metadata": {
    "id": "BHVrVuYowcA2"
   },
   "outputs": [],
   "source": [
    "fig.write_image('kr-neural_sup_terms.svg')"
   ]
  },
  {
   "cell_type": "code",
   "execution_count": 27,
   "metadata": {
    "id": "viic1-nXculz"
   },
   "outputs": [],
   "source": []
  }
 ],
 "metadata": {
  "colab": {
   "collapsed_sections": [],
   "name": "Sanky_nesy.ipynb",
   "provenance": []
  },
  "kernelspec": {
   "display_name": "Python 3",
   "language": "python",
   "name": "python3"
  },
  "language_info": {
   "codemirror_mode": {
    "name": "ipython",
    "version": 3
   },
   "file_extension": ".py",
   "mimetype": "text/x-python",
   "name": "python",
   "nbconvert_exporter": "python",
   "pygments_lexer": "ipython3",
   "version": "3.7.3"
  }
 },
 "nbformat": 4,
 "nbformat_minor": 4
}
