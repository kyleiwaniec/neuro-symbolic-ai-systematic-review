{
 "cells": [
  {
   "cell_type": "markdown",
   "metadata": {},
   "source": [
    "# ACL \n",
    "We download the entire ACL database bib file. We then manually add entries from the most recent issue as this one is not in the database."
   ]
  },
  {
   "cell_type": "code",
   "execution_count": 1,
   "metadata": {},
   "outputs": [],
   "source": [
    "import pandas as pd\n",
    "import numpy as np"
   ]
  },
  {
   "cell_type": "code",
   "execution_count": 12,
   "metadata": {},
   "outputs": [
    {
     "name": "stdout",
     "output_type": "stream",
     "text": [
      "Collecting bibtexparser\n",
      "  Downloading bibtexparser-1.2.0.tar.gz (46 kB)\n",
      "\u001b[2K     \u001b[38;2;114;156;31m━━━━━━━━━━━━━━━━━━━━━━━━━━━━━━━━━━━━━━━━\u001b[0m \u001b[32m46.9/46.9 KB\u001b[0m \u001b[31m2.2 MB/s\u001b[0m eta \u001b[36m0:00:00\u001b[0m\n",
      "\u001b[?25h  Preparing metadata (setup.py) ... \u001b[?25ldone\n",
      "\u001b[?25hRequirement already satisfied: pyparsing>=2.0.3 in /Users/kylehamilton/anaconda3/lib/python3.7/site-packages (from bibtexparser) (2.4.7)\n",
      "Requirement already satisfied: future>=0.16.0 in /Users/kylehamilton/anaconda3/lib/python3.7/site-packages (from bibtexparser) (0.18.2)\n",
      "Building wheels for collected packages: bibtexparser\n",
      "  Building wheel for bibtexparser (setup.py) ... \u001b[?25ldone\n",
      "\u001b[?25h  Created wheel for bibtexparser: filename=bibtexparser-1.2.0-py3-none-any.whl size=36713 sha256=f1d07ae8b9825dec7f318d7f9d323e3021ca6140bc8dee039b95b32e8353a120\n",
      "  Stored in directory: /Users/kylehamilton/Library/Caches/pip/wheels/3e/13/1d/09c37a40f39ddd7b226719a797f1896a5b95d730de27e7a505\n",
      "Successfully built bibtexparser\n",
      "Installing collected packages: bibtexparser\n",
      "Successfully installed bibtexparser-1.2.0\n",
      "Note: you may need to restart the kernel to use updated packages.\n"
     ]
    }
   ],
   "source": [
    "# https://bibtexparser.readthedocs.io/en/master/index.html\n",
    "pip install bibtexparser"
   ]
  },
  {
   "cell_type": "code",
   "execution_count": 20,
   "metadata": {},
   "outputs": [],
   "source": [
    "# with open(\"../../ACL/anthology+abstracts.bib\") as bibtex_file:\n",
    "#     bib_database = bibtexparser.load(bibtex_file)\n",
    "    \n",
    "# df = pd.DataFrame(bib_database.entries)\n",
    "# # selection = df[['doi', 'number']]\n",
    "# # selection.to_csv('temp.csv', index=False)"
   ]
  },
  {
   "cell_type": "code",
   "execution_count": 19,
   "metadata": {},
   "outputs": [],
   "source": [
    "import bibtexparser\n",
    "from bibtexparser.bparser import BibTexParser\n",
    "\n",
    "with open('../../ACL/anthology+abstracts.bib') as bibtex_file:\n",
    "    bibtex_str = bibtex_file.read()\n",
    "    \n",
    "parser = BibTexParser(common_strings=True)\n",
    "parser.ignore_nonstandard_types = True\n",
    "parser.homogenise_fields = True\n",
    "\n",
    "bib_database = bibtexparser.loads(bibtex_str, parser)"
   ]
  },
  {
   "cell_type": "code",
   "execution_count": 99,
   "metadata": {},
   "outputs": [],
   "source": [
    "df = pd.DataFrame(bib_database.entries)"
   ]
  },
  {
   "cell_type": "markdown",
   "metadata": {},
   "source": [
    "### Add 2022 entries"
   ]
  },
  {
   "cell_type": "code",
   "execution_count": 100,
   "metadata": {},
   "outputs": [],
   "source": [
    "acl22 = pd.read_csv('../../ACL/ACL-2022.csv')"
   ]
  },
  {
   "cell_type": "code",
   "execution_count": 101,
   "metadata": {},
   "outputs": [
    {
     "data": {
      "text/plain": [
       "Index(['url', 'publisher', 'address', 'year', 'month', 'editor', 'title',\n",
       "       'ENTRYTYPE', 'ID', 'pages', 'booktitle', 'author', 'abstract', 'doi',\n",
       "       'volume', 'journal', 'language', 'number', 'isbn', 'note'],\n",
       "      dtype='object')"
      ]
     },
     "execution_count": 101,
     "metadata": {},
     "output_type": "execute_result"
    }
   ],
   "source": [
    "acl22.columns"
   ]
  },
  {
   "cell_type": "code",
   "execution_count": 102,
   "metadata": {},
   "outputs": [],
   "source": [
    "df = pd.concat([df,acl22])"
   ]
  },
  {
   "cell_type": "code",
   "execution_count": 103,
   "metadata": {},
   "outputs": [],
   "source": [
    "df.to_csv('../../ACL/anthology+abstracts.csv',index=None)"
   ]
  },
  {
   "cell_type": "markdown",
   "metadata": {},
   "source": [
    "# START HERE"
   ]
  },
  {
   "cell_type": "code",
   "execution_count": 65,
   "metadata": {},
   "outputs": [
    {
     "name": "stderr",
     "output_type": "stream",
     "text": [
      "/Users/kylehamilton/anaconda3/lib/python3.7/site-packages/IPython/core/interactiveshell.py:3186: DtypeWarning: Columns (14,17,19) have mixed types.Specify dtype option on import or set low_memory=False.\n",
      "  interactivity=interactivity, compiler=compiler, result=result)\n"
     ]
    }
   ],
   "source": [
    "df = pd.read_csv('../../ACL/anthology+abstracts.csv')"
   ]
  },
  {
   "cell_type": "code",
   "execution_count": 66,
   "metadata": {},
   "outputs": [
    {
     "data": {
      "text/plain": [
       "74585"
      ]
     },
     "execution_count": 66,
     "metadata": {},
     "output_type": "execute_result"
    }
   ],
   "source": [
    "len(df)"
   ]
  },
  {
   "cell_type": "code",
   "execution_count": 67,
   "metadata": {},
   "outputs": [
    {
     "data": {
      "text/plain": [
       "Index(['url', 'publisher', 'address', 'year', 'month', 'editor', 'title',\n",
       "       'ENTRYTYPE', 'ID', 'pages', 'booktitle', 'author', 'abstract', 'doi',\n",
       "       'volume', 'journal', 'language', 'number', 'isbn', 'note'],\n",
       "      dtype='object')"
      ]
     },
     "execution_count": 67,
     "metadata": {},
     "output_type": "execute_result"
    }
   ],
   "source": [
    "df.columns"
   ]
  },
  {
   "cell_type": "code",
   "execution_count": 68,
   "metadata": {},
   "outputs": [
    {
     "data": {
      "text/plain": [
       "url          object\n",
       "publisher    object\n",
       "address      object\n",
       "year          int64\n",
       "month        object\n",
       "editor       object\n",
       "title        object\n",
       "ENTRYTYPE    object\n",
       "ID           object\n",
       "pages        object\n",
       "booktitle    object\n",
       "author       object\n",
       "abstract     object\n",
       "doi          object\n",
       "volume       object\n",
       "journal      object\n",
       "language     object\n",
       "number       object\n",
       "isbn         object\n",
       "note         object\n",
       "dtype: object"
      ]
     },
     "execution_count": 68,
     "metadata": {},
     "output_type": "execute_result"
    }
   ],
   "source": [
    "df.dtypes"
   ]
  },
  {
   "cell_type": "code",
   "execution_count": 69,
   "metadata": {},
   "outputs": [
    {
     "data": {
      "text/plain": [
       "array([nan,\n",
       "       'Transactions of the Association for Computational Linguistics',\n",
       "       'Computational Linguistics',\n",
       "       'American Journal of Computational Linguistics'], dtype=object)"
      ]
     },
     "execution_count": 69,
     "metadata": {},
     "output_type": "execute_result"
    }
   ],
   "source": [
    "df.journal.unique()"
   ]
  },
  {
   "cell_type": "code",
   "execution_count": 70,
   "metadata": {},
   "outputs": [
    {
     "data": {
      "text/plain": [
       "Computational Linguistics                                        1733\n",
       "Transactions of the Association for Computational Linguistics     444\n",
       "American Journal of Computational Linguistics                     368\n",
       "Name: journal, dtype: int64"
      ]
     },
     "execution_count": 70,
     "metadata": {},
     "output_type": "execute_result"
    }
   ],
   "source": [
    "df.journal.value_counts()"
   ]
  },
  {
   "cell_type": "code",
   "execution_count": 71,
   "metadata": {},
   "outputs": [
    {
     "data": {
      "text/plain": [
       "inproceedings    69990\n",
       "article           2538\n",
       "proceedings       2050\n",
       "Name: ENTRYTYPE, dtype: int64"
      ]
     },
     "execution_count": 71,
     "metadata": {},
     "output_type": "execute_result"
    }
   ],
   "source": [
    "df.ENTRYTYPE.value_counts()"
   ]
  },
  {
   "cell_type": "code",
   "execution_count": 73,
   "metadata": {},
   "outputs": [
    {
     "data": {
      "text/html": [
       "<div>\n",
       "<style scoped>\n",
       "    .dataframe tbody tr th:only-of-type {\n",
       "        vertical-align: middle;\n",
       "    }\n",
       "\n",
       "    .dataframe tbody tr th {\n",
       "        vertical-align: top;\n",
       "    }\n",
       "\n",
       "    .dataframe thead th {\n",
       "        text-align: right;\n",
       "    }\n",
       "</style>\n",
       "<table border=\"1\" class=\"dataframe\">\n",
       "  <thead>\n",
       "    <tr style=\"text-align: right;\">\n",
       "      <th></th>\n",
       "      <th>url</th>\n",
       "      <th>publisher</th>\n",
       "      <th>address</th>\n",
       "      <th>year</th>\n",
       "      <th>month</th>\n",
       "      <th>editor</th>\n",
       "      <th>title</th>\n",
       "      <th>ENTRYTYPE</th>\n",
       "      <th>ID</th>\n",
       "      <th>pages</th>\n",
       "      <th>booktitle</th>\n",
       "      <th>author</th>\n",
       "      <th>abstract</th>\n",
       "      <th>doi</th>\n",
       "      <th>volume</th>\n",
       "      <th>journal</th>\n",
       "      <th>language</th>\n",
       "      <th>number</th>\n",
       "      <th>isbn</th>\n",
       "      <th>note</th>\n",
       "    </tr>\n",
       "  </thead>\n",
       "  <tbody>\n",
       "    <tr>\n",
       "      <th>1514</th>\n",
       "      <td>https://aclanthology.org/2021.nuse-1.10</td>\n",
       "      <td>Association for Computational Linguistics</td>\n",
       "      <td>Virtual</td>\n",
       "      <td>2021</td>\n",
       "      <td>June</td>\n",
       "      <td>NaN</td>\n",
       "      <td>Towards a Model-Theoretic View of Narratives</td>\n",
       "      <td>inproceedings</td>\n",
       "      <td>castricato-etal-2021-towards</td>\n",
       "      <td>95--104</td>\n",
       "      <td>Proceedings of the Third Workshop on Narrative...</td>\n",
       "      <td>Castricato, Louis  and\\nBiderman, Stella  and\\...</td>\n",
       "      <td>In this paper, we propose the beginnings of a ...</td>\n",
       "      <td>10.18653/v1/2021.nuse-1.10</td>\n",
       "      <td>NaN</td>\n",
       "      <td>NaN</td>\n",
       "      <td>NaN</td>\n",
       "      <td>NaN</td>\n",
       "      <td>NaN</td>\n",
       "      <td>NaN</td>\n",
       "    </tr>\n",
       "  </tbody>\n",
       "</table>\n",
       "</div>"
      ],
      "text/plain": [
       "                                          url  \\\n",
       "1514  https://aclanthology.org/2021.nuse-1.10   \n",
       "\n",
       "                                      publisher  address  year month editor  \\\n",
       "1514  Association for Computational Linguistics  Virtual  2021  June    NaN   \n",
       "\n",
       "                                             title      ENTRYTYPE  \\\n",
       "1514  Towards a Model-Theoretic View of Narratives  inproceedings   \n",
       "\n",
       "                                ID    pages  \\\n",
       "1514  castricato-etal-2021-towards  95--104   \n",
       "\n",
       "                                              booktitle  \\\n",
       "1514  Proceedings of the Third Workshop on Narrative...   \n",
       "\n",
       "                                                 author  \\\n",
       "1514  Castricato, Louis  and\\nBiderman, Stella  and\\...   \n",
       "\n",
       "                                               abstract  \\\n",
       "1514  In this paper, we propose the beginnings of a ...   \n",
       "\n",
       "                             doi volume journal language number isbn note  \n",
       "1514  10.18653/v1/2021.nuse-1.10    NaN     NaN      NaN    NaN  NaN  NaN  "
      ]
     },
     "execution_count": 73,
     "metadata": {},
     "output_type": "execute_result"
    }
   ],
   "source": [
    "# quick sanity check\n",
    "txt = \"Towards a Model-Theoretic View of Narratives\"\n",
    "df[df.title.str.contains(txt)]"
   ]
  },
  {
   "cell_type": "markdown",
   "metadata": {},
   "source": [
    "## Filter out entries older than 3 years"
   ]
  },
  {
   "cell_type": "code",
   "execution_count": 32,
   "metadata": {},
   "outputs": [],
   "source": [
    "df['year'] = df['year'].astype(int)\n",
    "df = df[df['year']>2018]"
   ]
  },
  {
   "cell_type": "code",
   "execution_count": 33,
   "metadata": {},
   "outputs": [
    {
     "data": {
      "text/plain": [
       "19022"
      ]
     },
     "execution_count": 33,
     "metadata": {},
     "output_type": "execute_result"
    }
   ],
   "source": [
    "len(df)"
   ]
  },
  {
   "cell_type": "code",
   "execution_count": 224,
   "metadata": {},
   "outputs": [
    {
     "data": {
      "text/plain": [
       "19022"
      ]
     },
     "execution_count": 224,
     "metadata": {},
     "output_type": "execute_result"
    }
   ],
   "source": [
    "len(df[df['year']>2018])"
   ]
  },
  {
   "cell_type": "code",
   "execution_count": 225,
   "metadata": {},
   "outputs": [
    {
     "data": {
      "text/plain": [
       "26574"
      ]
     },
     "execution_count": 225,
     "metadata": {},
     "output_type": "execute_result"
    }
   ],
   "source": [
    "len(df[(df['journal'].isna())])"
   ]
  },
  {
   "cell_type": "code",
   "execution_count": 226,
   "metadata": {},
   "outputs": [
    {
     "data": {
      "text/plain": [
       "Transactions of the Association for Computational Linguistics    281\n",
       "Computational Linguistics                                        154\n",
       "Name: journal, dtype: int64"
      ]
     },
     "execution_count": 226,
     "metadata": {},
     "output_type": "execute_result"
    }
   ],
   "source": [
    "df.journal.value_counts()"
   ]
  },
  {
   "cell_type": "code",
   "execution_count": 227,
   "metadata": {},
   "outputs": [
    {
     "data": {
      "text/plain": [
       "25916"
      ]
     },
     "execution_count": 227,
     "metadata": {},
     "output_type": "execute_result"
    }
   ],
   "source": [
    "len(df[df['ENTRYTYPE']=='inproceedings'])"
   ]
  },
  {
   "cell_type": "markdown",
   "metadata": {},
   "source": [
    "## Filter out proceedings as these are collections of already included articles"
   ]
  },
  {
   "cell_type": "code",
   "execution_count": 34,
   "metadata": {},
   "outputs": [],
   "source": [
    "df = df[df['ENTRYTYPE']!='proceedings']"
   ]
  },
  {
   "cell_type": "code",
   "execution_count": 35,
   "metadata": {},
   "outputs": [
    {
     "data": {
      "text/plain": [
       "18578"
      ]
     },
     "execution_count": 35,
     "metadata": {},
     "output_type": "execute_result"
    }
   ],
   "source": [
    "len(df)"
   ]
  },
  {
   "cell_type": "code",
   "execution_count": 230,
   "metadata": {},
   "outputs": [
    {
     "data": {
      "text/plain": [
       "3442"
      ]
     },
     "execution_count": 230,
     "metadata": {},
     "output_type": "execute_result"
    }
   ],
   "source": [
    "len(df[(df['abstract'].isna())])"
   ]
  },
  {
   "cell_type": "markdown",
   "metadata": {},
   "source": [
    "## Filter out survey papers using the title field"
   ]
  },
  {
   "cell_type": "code",
   "execution_count": 231,
   "metadata": {},
   "outputs": [],
   "source": [
    "surveys = df[df['title'].str.contains('survey',case=False)]"
   ]
  },
  {
   "cell_type": "code",
   "execution_count": 232,
   "metadata": {},
   "outputs": [
    {
     "data": {
      "text/plain": [
       "84"
      ]
     },
     "execution_count": 232,
     "metadata": {},
     "output_type": "execute_result"
    }
   ],
   "source": [
    "len(surveys)"
   ]
  },
  {
   "cell_type": "code",
   "execution_count": 233,
   "metadata": {},
   "outputs": [],
   "source": [
    "surveys.to_csv('../../ACL/surveys.csv',index=None)"
   ]
  },
  {
   "cell_type": "code",
   "execution_count": 234,
   "metadata": {},
   "outputs": [],
   "source": [
    "df = df[~df['title'].str.contains('survey',case=False)]"
   ]
  },
  {
   "cell_type": "markdown",
   "metadata": {},
   "source": [
    "# Filter by keywords using abstract and title\n",
    "\n",
    "The following keywords were used to search the Scopus database. We will perform the same search for ACL.\n",
    "```\n",
    "TITLE-ABS-KEY ( ( ( \"sub-symbolic\"  OR  \"machine learning\"  OR  \"deep learning\" )  AND  ( \"symbolic\"  OR  \"reasoning\"  OR  \"logic\" ) )  OR  ( \"neuro-symbolic\"  OR  \"neural-symbolic\"  OR  \"neuro symbolic\"  OR  \"neural symbolic\"  OR  \"neurosymbolic\" ) ) ```"
   ]
  },
  {
   "cell_type": "code",
   "execution_count": 235,
   "metadata": {},
   "outputs": [],
   "source": [
    "import re"
   ]
  },
  {
   "cell_type": "code",
   "execution_count": 236,
   "metadata": {},
   "outputs": [
    {
     "data": {
      "text/plain": [
       "Index(['url', 'publisher', 'address', 'year', 'month', 'editor', 'title',\n",
       "       'ENTRYTYPE', 'ID', 'pages', 'booktitle', 'author', 'abstract', 'doi',\n",
       "       'volume', 'journal', 'language', 'number', 'isbn', 'note'],\n",
       "      dtype='object')"
      ]
     },
     "execution_count": 236,
     "metadata": {},
     "output_type": "execute_result"
    }
   ],
   "source": [
    "df.columns"
   ]
  },
  {
   "cell_type": "code",
   "execution_count": 237,
   "metadata": {},
   "outputs": [],
   "source": [
    "df['title_abstract'] = df[['title', 'abstract']].astype(str).agg(' '.join, axis=1)"
   ]
  },
  {
   "cell_type": "code",
   "execution_count": 250,
   "metadata": {},
   "outputs": [],
   "source": [
    "pattern1 = 'sub-symbolic|machine\\slearning|deep\\slearning'\n",
    "pattern2 = 'symbolic|reasoning|logic'\n",
    "pattern3 = 'neuro-symbolic|neural-symbolic|neuro\\ssymbolic|neural\\ssymbolic|neurosymbolic'"
   ]
  },
  {
   "cell_type": "code",
   "execution_count": 239,
   "metadata": {},
   "outputs": [],
   "source": [
    "df = df[((df['title_abstract'].str.contains(pattern1, flags=re.IGNORECASE, regex=True))\n",
    "        &(df['title_abstract'].str.contains(pattern2, flags=re.IGNORECASE, regex=True)))\n",
    "        |(df['title_abstract'].str.contains(pattern3, flags=re.IGNORECASE, regex=True))\n",
    "  ]"
   ]
  },
  {
   "cell_type": "markdown",
   "metadata": {},
   "source": [
    "# Save to file"
   ]
  },
  {
   "cell_type": "code",
   "execution_count": 243,
   "metadata": {},
   "outputs": [],
   "source": [
    "df = df[['ENTRYTYPE','title','abstract','url', 'doi', 'journal','year']]"
   ]
  },
  {
   "cell_type": "code",
   "execution_count": 254,
   "metadata": {},
   "outputs": [
    {
     "data": {
      "text/plain": [
       "175"
      ]
     },
     "execution_count": 254,
     "metadata": {},
     "output_type": "execute_result"
    }
   ],
   "source": [
    "len(df)"
   ]
  },
  {
   "cell_type": "code",
   "execution_count": 244,
   "metadata": {},
   "outputs": [
    {
     "data": {
      "text/plain": [
       "2020    50\n",
       "2021    43\n",
       "2019    38\n",
       "2018    22\n",
       "2017    22\n",
       "Name: year, dtype: int64"
      ]
     },
     "execution_count": 244,
     "metadata": {},
     "output_type": "execute_result"
    }
   ],
   "source": [
    "df['year'].value_counts()"
   ]
  },
  {
   "cell_type": "code",
   "execution_count": 245,
   "metadata": {},
   "outputs": [],
   "source": [
    "df.to_csv('../../ACL/filtered_results.csv',index=None)"
   ]
  },
  {
   "cell_type": "code",
   "execution_count": 2,
   "metadata": {},
   "outputs": [],
   "source": [
    "import pandas as pd\n",
    "df = pd.read_csv('../../ACL/filtered_results.csv')"
   ]
  },
  {
   "cell_type": "code",
   "execution_count": 4,
   "metadata": {},
   "outputs": [],
   "source": [
    "df = df[df['year']>2018]"
   ]
  },
  {
   "cell_type": "code",
   "execution_count": 6,
   "metadata": {},
   "outputs": [
    {
     "data": {
      "text/plain": [
       "131"
      ]
     },
     "execution_count": 6,
     "metadata": {},
     "output_type": "execute_result"
    }
   ],
   "source": [
    "len(df)"
   ]
  },
  {
   "cell_type": "code",
   "execution_count": 22,
   "metadata": {},
   "outputs": [],
   "source": [
    "dois = pd.read_clipboard(header=None)"
   ]
  },
  {
   "cell_type": "code",
   "execution_count": 23,
   "metadata": {},
   "outputs": [
    {
     "data": {
      "text/html": [
       "<div>\n",
       "<style scoped>\n",
       "    .dataframe tbody tr th:only-of-type {\n",
       "        vertical-align: middle;\n",
       "    }\n",
       "\n",
       "    .dataframe tbody tr th {\n",
       "        vertical-align: top;\n",
       "    }\n",
       "\n",
       "    .dataframe thead th {\n",
       "        text-align: right;\n",
       "    }\n",
       "</style>\n",
       "<table border=\"1\" class=\"dataframe\">\n",
       "  <thead>\n",
       "    <tr style=\"text-align: right;\">\n",
       "      <th></th>\n",
       "      <th>0</th>\n",
       "      <th>1</th>\n",
       "      <th>2</th>\n",
       "      <th>3</th>\n",
       "      <th>4</th>\n",
       "      <th>5</th>\n",
       "      <th>6</th>\n",
       "    </tr>\n",
       "  </thead>\n",
       "  <tbody>\n",
       "    <tr>\n",
       "      <th>0</th>\n",
       "      <td>1</td>\n",
       "      <td>NaN</td>\n",
       "      <td>article</td>\n",
       "      <td>Modeling Content and Context with Deep Relatio...</td>\n",
       "      <td>Building models for realistic natural language...</td>\n",
       "      <td>https://aclanthology.org/2021.tacl-1.7</td>\n",
       "      <td>10.1162/tacl_a_00357</td>\n",
       "    </tr>\n",
       "    <tr>\n",
       "      <th>1</th>\n",
       "      <td>1</td>\n",
       "      <td>NaN</td>\n",
       "      <td>inproceedings</td>\n",
       "      <td>{N}eural{L}og: Natural Language Inference with...</td>\n",
       "      <td>Deep learning (DL) based language models achie...</td>\n",
       "      <td>https://aclanthology.org/2021.starsem-1.7</td>\n",
       "      <td>10.18653/v1/2021.starsem-1.7</td>\n",
       "    </tr>\n",
       "    <tr>\n",
       "      <th>2</th>\n",
       "      <td>1</td>\n",
       "      <td>NaN</td>\n",
       "      <td>inproceedings</td>\n",
       "      <td>{NLPIITR} at {S}em{E}val-2021 Task 6: {R}o{BER...</td>\n",
       "      <td>This paper describes and examines different sy...</td>\n",
       "      <td>https://aclanthology.org/2021.semeval-1.147</td>\n",
       "      <td>10.18653/v1/2021.semeval-1.147</td>\n",
       "    </tr>\n",
       "    <tr>\n",
       "      <th>3</th>\n",
       "      <td>1</td>\n",
       "      <td>NaN</td>\n",
       "      <td>inproceedings</td>\n",
       "      <td>Graph-based Argument Quality Assessment</td>\n",
       "      <td>The paper presents a novel discourse-based app...</td>\n",
       "      <td>https://aclanthology.org/2021.ranlp-1.143</td>\n",
       "      <td>NaN</td>\n",
       "    </tr>\n",
       "    <tr>\n",
       "      <th>4</th>\n",
       "      <td>1</td>\n",
       "      <td>NaN</td>\n",
       "      <td>inproceedings</td>\n",
       "      <td>A Deep Learning System for Automatic Extractio...</td>\n",
       "      <td>Linguistic typology is an area of linguistics ...</td>\n",
       "      <td>https://aclanthology.org/2021.ranlp-1.166</td>\n",
       "      <td>NaN</td>\n",
       "    </tr>\n",
       "    <tr>\n",
       "      <th>...</th>\n",
       "      <td>...</td>\n",
       "      <td>...</td>\n",
       "      <td>...</td>\n",
       "      <td>...</td>\n",
       "      <td>...</td>\n",
       "      <td>...</td>\n",
       "      <td>...</td>\n",
       "    </tr>\n",
       "    <tr>\n",
       "      <th>59</th>\n",
       "      <td>1</td>\n",
       "      <td>NaN</td>\n",
       "      <td>article</td>\n",
       "      <td>{B}ayesian Learning of Latent Representations ...</td>\n",
       "      <td>We borrow the concept of representation learni...</td>\n",
       "      <td>https://aclanthology.org/J19-2001</td>\n",
       "      <td>10.1162/coli_a_00346</td>\n",
       "    </tr>\n",
       "    <tr>\n",
       "      <th>60</th>\n",
       "      <td>1</td>\n",
       "      <td>NaN</td>\n",
       "      <td>inproceedings</td>\n",
       "      <td>Towards Generalizable Neuro-Symbolic Systems f...</td>\n",
       "      <td>Non-extractive commonsense QA remains a challe...</td>\n",
       "      <td>https://aclanthology.org/D19-6003</td>\n",
       "      <td>10.18653/v1/D19-6003</td>\n",
       "    </tr>\n",
       "    <tr>\n",
       "      <th>61</th>\n",
       "      <td>1</td>\n",
       "      <td>NaN</td>\n",
       "      <td>inproceedings</td>\n",
       "      <td>Deep neural model with enhanced embeddings for...</td>\n",
       "      <td>In this work, we introduce a Deep Learning arc...</td>\n",
       "      <td>https://aclanthology.org/D19-5707</td>\n",
       "      <td>10.18653/v1/D19-5707</td>\n",
       "    </tr>\n",
       "    <tr>\n",
       "      <th>62</th>\n",
       "      <td>1</td>\n",
       "      <td>NaN</td>\n",
       "      <td>inproceedings</td>\n",
       "      <td>Team {SVM}rank: Leveraging Feature-rich Suppor...</td>\n",
       "      <td>The TextGraphs 2019 Shared Task on Multi-Hop I...</td>\n",
       "      <td>https://aclanthology.org/D19-5312</td>\n",
       "      <td>10.18653/v1/D19-5312</td>\n",
       "    </tr>\n",
       "    <tr>\n",
       "      <th>63</th>\n",
       "      <td>1</td>\n",
       "      <td>NaN</td>\n",
       "      <td>inproceedings</td>\n",
       "      <td>Graph Enhanced Cross-Domain Text-to-{SQL} Gene...</td>\n",
       "      <td>Semantic parsing is a fundamental problem in n...</td>\n",
       "      <td>https://aclanthology.org/D19-5319</td>\n",
       "      <td>10.18653/v1/D19-5319</td>\n",
       "    </tr>\n",
       "  </tbody>\n",
       "</table>\n",
       "<p>64 rows × 7 columns</p>\n",
       "</div>"
      ],
      "text/plain": [
       "    0    1              2                                                  3  \\\n",
       "0   1  NaN        article  Modeling Content and Context with Deep Relatio...   \n",
       "1   1  NaN  inproceedings  {N}eural{L}og: Natural Language Inference with...   \n",
       "2   1  NaN  inproceedings  {NLPIITR} at {S}em{E}val-2021 Task 6: {R}o{BER...   \n",
       "3   1  NaN  inproceedings            Graph-based Argument Quality Assessment   \n",
       "4   1  NaN  inproceedings  A Deep Learning System for Automatic Extractio...   \n",
       ".. ..  ...            ...                                                ...   \n",
       "59  1  NaN        article  {B}ayesian Learning of Latent Representations ...   \n",
       "60  1  NaN  inproceedings  Towards Generalizable Neuro-Symbolic Systems f...   \n",
       "61  1  NaN  inproceedings  Deep neural model with enhanced embeddings for...   \n",
       "62  1  NaN  inproceedings  Team {SVM}rank: Leveraging Feature-rich Suppor...   \n",
       "63  1  NaN  inproceedings  Graph Enhanced Cross-Domain Text-to-{SQL} Gene...   \n",
       "\n",
       "                                                    4  \\\n",
       "0   Building models for realistic natural language...   \n",
       "1   Deep learning (DL) based language models achie...   \n",
       "2   This paper describes and examines different sy...   \n",
       "3   The paper presents a novel discourse-based app...   \n",
       "4   Linguistic typology is an area of linguistics ...   \n",
       "..                                                ...   \n",
       "59  We borrow the concept of representation learni...   \n",
       "60  Non-extractive commonsense QA remains a challe...   \n",
       "61  In this work, we introduce a Deep Learning arc...   \n",
       "62  The TextGraphs 2019 Shared Task on Multi-Hop I...   \n",
       "63  Semantic parsing is a fundamental problem in n...   \n",
       "\n",
       "                                              5  \\\n",
       "0        https://aclanthology.org/2021.tacl-1.7   \n",
       "1     https://aclanthology.org/2021.starsem-1.7   \n",
       "2   https://aclanthology.org/2021.semeval-1.147   \n",
       "3     https://aclanthology.org/2021.ranlp-1.143   \n",
       "4     https://aclanthology.org/2021.ranlp-1.166   \n",
       "..                                          ...   \n",
       "59            https://aclanthology.org/J19-2001   \n",
       "60            https://aclanthology.org/D19-6003   \n",
       "61            https://aclanthology.org/D19-5707   \n",
       "62            https://aclanthology.org/D19-5312   \n",
       "63            https://aclanthology.org/D19-5319   \n",
       "\n",
       "                                 6  \n",
       "0             10.1162/tacl_a_00357  \n",
       "1     10.18653/v1/2021.starsem-1.7  \n",
       "2   10.18653/v1/2021.semeval-1.147  \n",
       "3                              NaN  \n",
       "4                              NaN  \n",
       "..                             ...  \n",
       "59            10.1162/coli_a_00346  \n",
       "60            10.18653/v1/D19-6003  \n",
       "61            10.18653/v1/D19-5707  \n",
       "62            10.18653/v1/D19-5312  \n",
       "63            10.18653/v1/D19-5319  \n",
       "\n",
       "[64 rows x 7 columns]"
      ]
     },
     "execution_count": 23,
     "metadata": {},
     "output_type": "execute_result"
    }
   ],
   "source": [
    "dois"
   ]
  },
  {
   "cell_type": "code",
   "execution_count": 39,
   "metadata": {},
   "outputs": [],
   "source": [
    "dois = dois.rename(columns={5:'url',6:'doi'})"
   ]
  },
  {
   "cell_type": "code",
   "execution_count": 40,
   "metadata": {},
   "outputs": [],
   "source": [
    "dois['include'] = 1"
   ]
  },
  {
   "cell_type": "code",
   "execution_count": 42,
   "metadata": {},
   "outputs": [
    {
     "data": {
      "text/plain": [
       "64"
      ]
     },
     "execution_count": 42,
     "metadata": {},
     "output_type": "execute_result"
    }
   ],
   "source": [
    "len(dois)"
   ]
  },
  {
   "cell_type": "code",
   "execution_count": 43,
   "metadata": {},
   "outputs": [],
   "source": [
    "ndf = pd.merge(\n",
    "    df,\n",
    "    dois,\n",
    "    how=\"inner\",\n",
    "    on='url')"
   ]
  },
  {
   "cell_type": "code",
   "execution_count": 44,
   "metadata": {},
   "outputs": [],
   "source": [
    "ndf = ndf[ndf['include']==1]"
   ]
  },
  {
   "cell_type": "code",
   "execution_count": 46,
   "metadata": {},
   "outputs": [
    {
     "data": {
      "text/plain": [
       "Index([      'url', 'publisher',   'address',      'year',     'month',\n",
       "          'editor',     'title', 'ENTRYTYPE',        'ID',     'pages',\n",
       "       'booktitle',    'author',  'abstract',     'doi_x',    'volume',\n",
       "         'journal',  'language',    'number',      'isbn',      'note',\n",
       "                 0,           1,           2,           3,           4,\n",
       "           'doi_y',   'include'],\n",
       "      dtype='object')"
      ]
     },
     "execution_count": 46,
     "metadata": {},
     "output_type": "execute_result"
    }
   ],
   "source": [
    "ndf.columns"
   ]
  },
  {
   "cell_type": "code",
   "execution_count": 47,
   "metadata": {},
   "outputs": [],
   "source": [
    "ndf = ndf[[  'url', 'publisher',   'address',      'year',     'month',\n",
    "          'editor',     'title', 'ENTRYTYPE',        'ID',     'pages',\n",
    "       'booktitle',    'author',  'abstract',     'doi_x',    'volume',\n",
    "         'journal',  'language',    'number',      'isbn',      'note']]"
   ]
  },
  {
   "cell_type": "code",
   "execution_count": 49,
   "metadata": {},
   "outputs": [],
   "source": [
    "ndf = ndf.rename(columns={'doi_x':'doi'})"
   ]
  },
  {
   "cell_type": "code",
   "execution_count": 50,
   "metadata": {},
   "outputs": [],
   "source": [
    "ndf.fillna('').to_csv('../../ACL/include_results.csv',index=None,header=None)"
   ]
  },
  {
   "cell_type": "code",
   "execution_count": 63,
   "metadata": {},
   "outputs": [],
   "source": [
    "ndf = ndf.astype(str)"
   ]
  },
  {
   "cell_type": "code",
   "execution_count": 64,
   "metadata": {},
   "outputs": [],
   "source": [
    "from bibtexparser.bwriter import BibTexWriter\n",
    "from bibtexparser.bibdatabase import BibDatabase\n",
    "import json\n",
    "db = BibDatabase()\n",
    "db.entries = json.loads(ndf.fillna(' ').to_json(orient='records'))\n",
    "\n",
    "'''\n",
    "[{'journal': 'Nice Journal',\n",
    "     'comments': 'A comment',\n",
    "     'pages': '12--23',\n",
    "     'month': 'jan',\n",
    "     'abstract': 'This is an abstract. This line should be long enough to test\\nmultilines...',\n",
    "     'title': 'An amazing title',\n",
    "     'year': '2013',\n",
    "     'volume': '12',\n",
    "     'ID': 'Cesar2013',\n",
    "     'author': 'Jean César',\n",
    "     'keyword': 'keyword1, keyword2',\n",
    "     'ENTRYTYPE': 'article'}]\n",
    "'''\n",
    "\n",
    "writer = BibTexWriter()\n",
    "with open('bibtex.bib', 'w') as bibfile:\n",
    "    bibfile.write(writer.write(db))"
   ]
  },
  {
   "cell_type": "code",
   "execution_count": 58,
   "metadata": {
    "collapsed": true,
    "jupyter": {
     "outputs_hidden": true
    }
   },
   "outputs": [
    {
     "data": {
      "text/plain": [
       "[{'url': 'https://aclanthology.org/2021.tacl-1.7',\n",
       "  'publisher': 'MIT Press',\n",
       "  'address': 'Cambridge, MA',\n",
       "  'year': 2021,\n",
       "  'month': None,\n",
       "  'editor': None,\n",
       "  'title': 'Modeling Content and Context with Deep Relational Learning',\n",
       "  'ENTRYTYPE': 'article',\n",
       "  'ID': 'pacheco-goldwasser-2021-modeling',\n",
       "  'pages': '100--119',\n",
       "  'booktitle': None,\n",
       "  'author': 'Pacheco, Maria Leonor  and\\nGoldwasser, Dan',\n",
       "  'abstract': 'Building models for realistic natural language tasks requires dealing with long texts and accounting for complicated structural dependencies. Neural-symbolic representations have emerged as a way to combine the reasoning capabilities of symbolic methods, with the expressiveness of neural networks. However, most of the existing frameworks for combining neural and symbolic representations have been designed for classic relational learning tasks that work over a universe of symbolic entities and relations. In this paper, we present DRaiL, an open-source declarative framework for specifying deep relational models, designed to support a variety of NLP scenarios. Our framework supports easy integration with expressive language encoders, and provides an interface to study the interactions between representation, inference and learning.',\n",
       "  'doi': '10.1162/tacl_a_00357',\n",
       "  'volume': 9.0,\n",
       "  'journal': 'Transactions of the Association for Computational Linguistics',\n",
       "  'language': None,\n",
       "  'number': None,\n",
       "  'isbn': None,\n",
       "  'note': None},\n",
       " {'url': 'https://aclanthology.org/2021.starsem-1.7',\n",
       "  'publisher': 'Association for Computational Linguistics',\n",
       "  'address': 'Online',\n",
       "  'year': 2021,\n",
       "  'month': 'August',\n",
       "  'editor': None,\n",
       "  'title': '{N}eural{L}og: Natural Language Inference with Joint Neural and Logical Reasoning',\n",
       "  'ENTRYTYPE': 'inproceedings',\n",
       "  'ID': 'chen-etal-2021-neurallog',\n",
       "  'pages': '78--88',\n",
       "  'booktitle': 'Proceedings of *SEM 2021: The Tenth Joint Conference on Lexical and Computational Semantics',\n",
       "  'author': 'Chen, Zeming  and\\nGao, Qiyue  and\\nMoss, Lawrence S.',\n",
       "  'abstract': 'Deep learning (DL) based language models achieve high performance on various benchmarks for Natural Language Inference (NLI). And at this time, symbolic approaches to NLI are receiving less attention. Both approaches (symbolic and DL) have their advantages and weaknesses. However, currently, no method combines them in a system to solve the task of NLI. To merge symbolic and deep learning methods, we propose an inference framework called NeuralLog, which utilizes both a monotonicity-based logical inference engine and a neural network language model for phrase alignment. Our framework models the NLI task as a classic search problem and uses the beam search algorithm to search for optimal inference paths. Experiments show that our joint logic and neural inference system improves accuracy on the NLI task and can achieve state-of-art accuracy on the SICK and MED datasets.',\n",
       "  'doi': '10.18653/v1/2021.starsem-1.7',\n",
       "  'volume': None,\n",
       "  'journal': None,\n",
       "  'language': None,\n",
       "  'number': None,\n",
       "  'isbn': None,\n",
       "  'note': None},\n",
       " {'url': 'https://aclanthology.org/2021.semeval-1.147',\n",
       "  'publisher': 'Association for Computational Linguistics',\n",
       "  'address': 'Online',\n",
       "  'year': 2021,\n",
       "  'month': 'August',\n",
       "  'editor': None,\n",
       "  'title': '{NLPIITR} at {S}em{E}val-2021 Task 6: {R}o{BERT}a Model with Data Augmentation for Persuasion Techniques Detection',\n",
       "  'ENTRYTYPE': 'inproceedings',\n",
       "  'ID': 'gupta-sharma-2021-nlpiitr',\n",
       "  'pages': '1061--1067',\n",
       "  'booktitle': 'Proceedings of the 15th International Workshop on Semantic Evaluation (SemEval-2021)',\n",
       "  'author': 'Gupta, Vansh  and\\nSharma, Raksha',\n",
       "  'abstract': 'This paper describes and examines different systems to address Task 6 of SemEval-2021: Detection of Persuasion Techniques In Texts And Images, Subtask 1. The task aims to build a model for identifying rhetorical and psycho- logical techniques (such as causal oversimplification, name-calling, smear) in the textual content of a meme which is often used in a disinformation campaign to influence the users. The paper provides an extensive comparison among various machine learning systems as a solution to the task. We elaborate on the pre-processing of the text data in favor of the task and present ways to overcome the class imbalance. The results show that fine-tuning a RoBERTa model gave the best results with an F1-Micro score of 0.51 on the development set.',\n",
       "  'doi': '10.18653/v1/2021.semeval-1.147',\n",
       "  'volume': None,\n",
       "  'journal': None,\n",
       "  'language': None,\n",
       "  'number': None,\n",
       "  'isbn': None,\n",
       "  'note': None},\n",
       " {'url': 'https://aclanthology.org/2021.ranlp-1.143',\n",
       "  'publisher': 'INCOMA Ltd.',\n",
       "  'address': 'Held Online',\n",
       "  'year': 2021,\n",
       "  'month': 'September',\n",
       "  'editor': None,\n",
       "  'title': 'Graph-based Argument Quality Assessment',\n",
       "  'ENTRYTYPE': 'inproceedings',\n",
       "  'ID': 'saveleva-etal-2021-graph',\n",
       "  'pages': '1268--1280',\n",
       "  'booktitle': 'Proceedings of the International Conference on Recent Advances in Natural Language Processing (RANLP 2021)',\n",
       "  'author': 'Saveleva, Ekaterina  and\\nPetukhova, Volha  and\\nMosbach, Marius  and\\nKlakow, Dietrich',\n",
       "  'abstract': 'The paper presents a novel discourse-based approach to argument quality assessment defined as a graph classification task, where the depth of reasoning (argumentation) is evident from the number and type of detected discourse units and relations between them. We successfully applied state-of-the-art discourse parsers and machine learning models to reconstruct argument graphs with the identified and classified discourse units as nodes and relations between them as edges. Then Graph Neural Networks were trained to predict the argument quality assessing its acceptability, relevance, sufficiency and overall cogency. The obtained accuracy ranges from 74.5{\\\\%} to 85.0{\\\\%} and indicates that discourse-based argument structures reflect qualitative properties of natural language arguments. The results open many interesting prospects for future research in the field of argumentation mining.',\n",
       "  'doi': None,\n",
       "  'volume': None,\n",
       "  'journal': None,\n",
       "  'language': None,\n",
       "  'number': None,\n",
       "  'isbn': None,\n",
       "  'note': None},\n",
       " {'url': 'https://aclanthology.org/2021.ranlp-1.166',\n",
       "  'publisher': 'INCOMA Ltd.',\n",
       "  'address': 'Held Online',\n",
       "  'year': 2021,\n",
       "  'month': 'September',\n",
       "  'editor': None,\n",
       "  'title': 'A Deep Learning System for Automatic Extraction of Typological Linguistic Information from Descriptive Grammars',\n",
       "  'ENTRYTYPE': 'inproceedings',\n",
       "  'ID': 'virk-etal-2021-deep',\n",
       "  'pages': '1480--1489',\n",
       "  'booktitle': 'Proceedings of the International Conference on Recent Advances in Natural Language Processing (RANLP 2021)',\n",
       "  'author': 'Virk, Shafqat Mumtaz  and\\nFoster, Daniel  and\\nSheikh Muhammad, Azam  and\\nSaleem, Raheela',\n",
       "  'abstract': 'Linguistic typology is an area of linguistics concerned with analysis of and comparison between natural languages of the world based on their certain linguistic features. For that purpose, historically, the area has relied on manual extraction of linguistic feature values from textural descriptions of languages. This makes it a laborious and time expensive task and is also bound by human brain capacity. In this study, we present a deep learning system for the task of automatic extraction of linguistic features from textual descriptions of natural languages. First, textual descriptions are manually annotated with special structures called semantic frames. Those annotations are learned by a recurrent neural network, which is then used to annotate un-annotated text. Finally, the annotations are converted to linguistic feature values using a separate rule based module. Word embeddings, learned from general purpose text, are used as a major source of knowledge by the recurrent neural network. We compare the proposed deep learning system to a previously reported machine learning based system for the same task, and the deep learning system wins in terms of F1 scores with a fair margin. Such a system is expected to be a useful contribution for the automatic curation of typological databases, which otherwise are manually developed.',\n",
       "  'doi': None,\n",
       "  'volume': None,\n",
       "  'journal': None,\n",
       "  'language': None,\n",
       "  'number': None,\n",
       "  'isbn': None,\n",
       "  'note': None},\n",
       " {'url': 'https://aclanthology.org/2021.paclic-1.5',\n",
       "  'publisher': 'Association for Computational Lingustics',\n",
       "  'address': 'Shanghai, China',\n",
       "  'year': 2021,\n",
       "  'month': '11',\n",
       "  'editor': None,\n",
       "  'title': 'A Neuro-Symbolic Approach for Question Answering on Research Articles',\n",
       "  'ENTRYTYPE': 'inproceedings',\n",
       "  'ID': 'gupta-etal-2021-neuro',\n",
       "  'pages': '40--49',\n",
       "  'booktitle': 'Proceedings of the 35th Pacific Asia Conference on Language, Information and Computation',\n",
       "  'author': 'Gupta, Komal  and\\nGhosal, Tirthankar  and\\nEkbal, Asif',\n",
       "  'abstract': None,\n",
       "  'doi': None,\n",
       "  'volume': None,\n",
       "  'journal': None,\n",
       "  'language': None,\n",
       "  'number': None,\n",
       "  'isbn': None,\n",
       "  'note': None},\n",
       " {'url': 'https://aclanthology.org/2021.naloma-1.2',\n",
       "  'publisher': 'Association for Computational Linguistics',\n",
       "  'address': 'Groningen, the Netherlands (online)',\n",
       "  'year': 2021,\n",
       "  'month': 'June',\n",
       "  'editor': None,\n",
       "  'title': 'Applied Medical Code Mapping with Character-based Deep Learning Models and Word-based Logic',\n",
       "  'ENTRYTYPE': 'inproceedings',\n",
       "  'ID': 'langton-srihasam-2021-applied',\n",
       "  'pages': '7--11',\n",
       "  'booktitle': 'Proceedings of the 1st and 2nd Workshops on Natural Logic Meets Machine Learning (NALOMA)',\n",
       "  'author': 'Langton, John  and\\nSrihasam, Krishna',\n",
       "  'abstract': 'Logical Observation Identifiers Names and Codes (LOINC) is a standard set of codes that enable clinicians to communicate about medical tests. Laboratories depend on LOINC to identify what tests a doctor orders for a patient. However, clinicians often use site specific, custom codes in their medical records systems that can include shorthand, spelling mistakes, and invented acronyms. Software solutions must map from these custom codes to the LOINC standard to support data interoperability. A key challenge is that LOINC is comprised of six elements. Mapping requires not only extracting those elements, but also combining them according to LOINC logic. We found that character-based deep learning excels at extracting LOINC elements while logic based methods are more effective for combining those elements into complete LOINC values. In this paper, we present an ensemble of machine learning and logic that is currently used in several medical facilities to map from',\n",
       "  'doi': None,\n",
       "  'volume': None,\n",
       "  'journal': None,\n",
       "  'language': None,\n",
       "  'number': None,\n",
       "  'isbn': None,\n",
       "  'note': None},\n",
       " {'url': 'https://aclanthology.org/2021.naacl-main.107',\n",
       "  'publisher': 'Association for Computational Linguistics',\n",
       "  'address': 'Online',\n",
       "  'year': 2021,\n",
       "  'month': 'June',\n",
       "  'editor': None,\n",
       "  'title': 'Temporal Reasoning on Implicit Events from Distant Supervision',\n",
       "  'ENTRYTYPE': 'inproceedings',\n",
       "  'ID': 'zhou-etal-2021-temporal',\n",
       "  'pages': '1361--1371',\n",
       "  'booktitle': 'Proceedings of the 2021 Conference of the North American Chapter of the Association for Computational Linguistics: Human Language Technologies',\n",
       "  'author': 'Zhou, Ben  and\\nRichardson, Kyle  and\\nNing, Qiang  and\\nKhot, Tushar  and\\nSabharwal, Ashish  and\\nRoth, Dan',\n",
       "  'abstract': 'We propose TRACIE, a novel temporal reasoning dataset that evaluates the degree to which systems understand implicit events{---}events that are not mentioned explicitly in natural language text but can be inferred from it. This introduces a new challenge in temporal reasoning research, where prior work has focused on explicitly mentioned events. Human readers can infer implicit events via commonsense reasoning, resulting in a more comprehensive understanding of the situation and, consequently, better reasoning about time. We find, however, that state-of-the-art models struggle when predicting temporal relationships between implicit and explicit events. To address this, we propose a neuro-symbolic temporal reasoning model, SymTime, which exploits distant supervision signals from large-scale text and uses temporal rules to combine start times and durations to infer end times. SymTime outperforms strong baseline systems on TRACIE by 5{\\\\%}, and by 11{\\\\%} in a zero prior knowledge training setting. Our approach also generalizes to other temporal reasoning tasks, as evidenced by a gain of 1{\\\\%}-9{\\\\%} on MATRES, an explicit event benchmark.',\n",
       "  'doi': '10.18653/v1/2021.naacl-main.107',\n",
       "  'volume': None,\n",
       "  'journal': None,\n",
       "  'language': None,\n",
       "  'number': None,\n",
       "  'isbn': None,\n",
       "  'note': None},\n",
       " {'url': 'https://aclanthology.org/2021.naacl-main.288',\n",
       "  'publisher': 'Association for Computational Linguistics',\n",
       "  'address': 'Online',\n",
       "  'year': 2021,\n",
       "  'month': 'June',\n",
       "  'editor': None,\n",
       "  'title': 'Adaptable and Interpretable Neural {M}emory{O}ver Symbolic Knowledge',\n",
       "  'ENTRYTYPE': 'inproceedings',\n",
       "  'ID': 'verga-etal-2021-adaptable',\n",
       "  'pages': '3678--3691',\n",
       "  'booktitle': 'Proceedings of the 2021 Conference of the North American Chapter of the Association for Computational Linguistics: Human Language Technologies',\n",
       "  'author': 'Verga, Pat  and\\nSun, Haitian  and\\nBaldini Soares, Livio  and\\nCohen, William',\n",
       "  'abstract': \"Past research has demonstrated that large neural language models (LMs) encode surprising amounts of factual information: however, augmenting or modifying this information requires modifying a corpus and retraining, which is computationally expensive. To address this problem, we develop a neural LM that includes an interpretable neuro-symbolic KB in the form of a {``}fact memory{''}. Each element of the fact memory is formed from a triple of vectors, where each vector corresponds to a KB entity or relation. Our LM improves performance on knowledge-intensive question-answering tasks, sometimes dramatically, including a 27 point increase in one setting of WebQuestionsSP over a state-of-the-art open-book model, despite using 5{\\\\%} of the parameters. Most interestingly, we demonstrate that the model can be modified, without \\\\textit{any} re-training, by updating the fact memory.\",\n",
       "  'doi': '10.18653/v1/2021.naacl-main.288',\n",
       "  'volume': None,\n",
       "  'journal': None,\n",
       "  'language': None,\n",
       "  'number': None,\n",
       "  'isbn': None,\n",
       "  'note': None},\n",
       " {'url': 'https://aclanthology.org/2021.findings-emnlp.350',\n",
       "  'publisher': 'Association for Computational Linguistics',\n",
       "  'address': 'Punta Cana, Dominican Republic',\n",
       "  'year': 2021,\n",
       "  'month': 'November',\n",
       "  'editor': None,\n",
       "  'title': '{NOAHQA}: Numerical Reasoning with Interpretable Graph Question Answering Dataset',\n",
       "  'ENTRYTYPE': 'inproceedings',\n",
       "  'ID': 'zhang-etal-2021-noahqa-numerical',\n",
       "  'pages': '4147--4161',\n",
       "  'booktitle': 'Findings of the Association for Computational Linguistics: EMNLP 2021',\n",
       "  'author': 'Zhang, Qiyuan  and\\nWang, Lei  and\\nYu, Sicheng  and\\nWang, Shuohang  and\\nWang, Yang  and\\nJiang, Jing  and\\nLim, Ee-Peng',\n",
       "  'abstract': 'While diverse question answering (QA) datasets have been proposed and contributed significantly to the development of deep learning models for QA tasks, the existing datasets fall short in two aspects. First, we lack QA datasets covering complex questions that involve answers as well as the reasoning processes to get them. As a result, the state-of-the-art QA research on numerical reasoning still focuses on simple calculations and does not provide the mathematical expressions or evidence justifying the answers. Second, the QA community has contributed a lot of effort to improve the interpretability of QA models. However, they fail to explicitly show the reasoning process, such as the evidence order for reasoning and the interactions between different pieces of evidence. To address the above shortcoming, we introduce NOAHQA, a conversational and bilingual QA dataset with questions requiring numerical reasoning with compound mathematical expressions. With NOAHQA, we develop an interpretable reasoning graph as well as the appropriate evaluation metric to measure the answer quality. We evaluate the state-of-the-art QA models trained using existing QA datasets on NOAHQA and show that the best among them can only achieve 55.5 exact match scores, while the human performance is 89.7. We also present a new QA model for generating a reasoning graph where the reasoning graph metric still has a large gap compared with that of humans, eg, 28 scores.',\n",
       "  'doi': '10.18653/v1/2021.findings-emnlp.350',\n",
       "  'volume': None,\n",
       "  'journal': None,\n",
       "  'language': None,\n",
       "  'number': None,\n",
       "  'isbn': None,\n",
       "  'note': None},\n",
       " {'url': 'https://aclanthology.org/2021.findings-emnlp.413',\n",
       "  'publisher': 'Association for Computational Linguistics',\n",
       "  'address': 'Punta Cana, Dominican Republic',\n",
       "  'year': 2021,\n",
       "  'month': 'November',\n",
       "  'editor': None,\n",
       "  'title': 'Counterfactual Adversarial Learning with Representation Interpolation',\n",
       "  'ENTRYTYPE': 'inproceedings',\n",
       "  'ID': 'wang-etal-2021-counterfactual-adversarial',\n",
       "  'pages': '4809--4820',\n",
       "  'booktitle': 'Findings of the Association for Computational Linguistics: EMNLP 2021',\n",
       "  'author': 'Wang, Wei  and\\nWang, Boxin  and\\nShi, Ning  and\\nLi, Jinfeng  and\\nZhu, Bingyu  and\\nLiu, Xiangyu  and\\nZhang, Rong',\n",
       "  'abstract': 'Deep learning models exhibit a preference for statistical fitting over logical reasoning. Spurious correlations might be memorized when there exists statistical bias in training data, which severely limits the model performance especially in small data scenarios. In this work, we introduce Counterfactual Adversarial Training framework (CAT) to tackle the problem from a causality perspective. Particularly, for a specific sample, CAT first generates a counterfactual representation through latent space interpolation in an adversarial manner, and then performs Counterfactual Risk Minimization (CRM) on each original-counterfactual pair to adjust sample-wise loss weight dynamically, which encourages the model to explore the true causal effect. Extensive experiments demonstrate that CAT achieves substantial performance improvement over SOTA across different downstream tasks, including sentence classification, natural language inference and question answering.',\n",
       "  'doi': '10.18653/v1/2021.findings-emnlp.413',\n",
       "  'volume': None,\n",
       "  'journal': None,\n",
       "  'language': None,\n",
       "  'number': None,\n",
       "  'isbn': None,\n",
       "  'note': None},\n",
       " {'url': 'https://aclanthology.org/2021.emnlp-main.113',\n",
       "  'publisher': 'Association for Computational Linguistics',\n",
       "  'address': 'Online and Punta Cana, Dominican Republic',\n",
       "  'year': 2021,\n",
       "  'month': 'November',\n",
       "  'editor': None,\n",
       "  'title': 'Shortcutted Commonsense: Data Spuriousness in Deep Learning of Commonsense Reasoning',\n",
       "  'ENTRYTYPE': 'inproceedings',\n",
       "  'ID': 'branco-etal-2021-shortcutted',\n",
       "  'pages': '1504--1521',\n",
       "  'booktitle': 'Proceedings of the 2021 Conference on Empirical Methods in Natural Language Processing',\n",
       "  'author': \"Branco, Ruben  and\\nBranco, Ant{\\\\'o}nio  and\\nAnt{\\\\'o}nio Rodrigues, Jo{\\\\~a}o  and\\nSilva, Jo{\\\\~a}o Ricardo\",\n",
       "  'abstract': 'Commonsense is a quintessential human capacity that has been a core challenge to Artificial Intelligence since its inception. Impressive results in Natural Language Processing tasks, including in commonsense reasoning, have consistently been achieved with Transformer neural language models, even matching or surpassing human performance in some benchmarks. Recently, some of these advances have been called into question: so called data artifacts in the training data have been made evident as spurious correlations and shallow shortcuts that in some cases are leveraging these outstanding results. In this paper we seek to further pursue this analysis into the realm of commonsense related language processing tasks. We undertake a study on different prominent benchmarks that involve commonsense reasoning, along a number of key stress experiments, thus seeking to gain insight on whether the models are learning transferable generalizations intrinsic to the problem at stake or just taking advantage of incidental shortcuts in the data items. The results obtained indicate that most datasets experimented with are problematic, with models resorting to non-robust features and appearing not to be learning and generalizing towards the overall tasks intended to be conveyed or exemplified by the datasets.',\n",
       "  'doi': '10.18653/v1/2021.emnlp-main.113',\n",
       "  'volume': None,\n",
       "  'journal': None,\n",
       "  'language': None,\n",
       "  'number': None,\n",
       "  'isbn': None,\n",
       "  'note': None},\n",
       " {'url': 'https://aclanthology.org/2021.emnlp-main.245',\n",
       "  'publisher': 'Association for Computational Linguistics',\n",
       "  'address': 'Online and Punta Cana, Dominican Republic',\n",
       "  'year': 2021,\n",
       "  'month': 'November',\n",
       "  'editor': None,\n",
       "  'title': 'Neuro-Symbolic Approaches for Text-Based Policy Learning',\n",
       "  'ENTRYTYPE': 'inproceedings',\n",
       "  'ID': 'chaudhury-etal-2021-neuro',\n",
       "  'pages': '3073--3078',\n",
       "  'booktitle': 'Proceedings of the 2021 Conference on Empirical Methods in Natural Language Processing',\n",
       "  'author': 'Chaudhury, Subhajit  and\\nSen, Prithviraj  and\\nOno, Masaki  and\\nKimura, Daiki  and\\nTatsubori, Michiaki  and\\nMunawar, Asim',\n",
       "  'abstract': 'Text-Based Games (TBGs) have emerged as important testbeds for reinforcement learning (RL) in the natural language domain. Previous methods using LSTM-based action policies are uninterpretable and often overfit the training games showing poor performance to unseen test games. We present SymboLic Action policy for Textual Environments (SLATE), that learns interpretable action policy rules from symbolic abstractions of textual observations for improved generalization. We outline a method for end-to-end differentiable symbolic rule learning and show that such symbolic policies outperform previous state-of-the-art methods in text-based RL for the coin collector environment from 5-10x fewer training games. Additionally, our method provides human-understandable policy rules that can be readily verified for their logical consistency and can be easily debugged.',\n",
       "  'doi': '10.18653/v1/2021.emnlp-main.245',\n",
       "  'volume': None,\n",
       "  'journal': None,\n",
       "  'language': None,\n",
       "  'number': None,\n",
       "  'isbn': None,\n",
       "  'note': None},\n",
       " {'url': 'https://aclanthology.org/2021.emnlp-main.283',\n",
       "  'publisher': 'Association for Computational Linguistics',\n",
       "  'address': 'Online and Punta Cana, Dominican Republic',\n",
       "  'year': 2021,\n",
       "  'month': 'November',\n",
       "  'editor': None,\n",
       "  'title': 'Neuro-Symbolic Reinforcement Learning with First-Order Logic',\n",
       "  'ENTRYTYPE': 'inproceedings',\n",
       "  'ID': 'kimura-etal-2021-neuro',\n",
       "  'pages': '3505--3511',\n",
       "  'booktitle': 'Proceedings of the 2021 Conference on Empirical Methods in Natural Language Processing',\n",
       "  'author': 'Kimura, Daiki  and\\nOno, Masaki  and\\nChaudhury, Subhajit  and\\nKohita, Ryosuke  and\\nWachi, Akifumi  and\\nAgravante, Don Joven  and\\nTatsubori, Michiaki  and\\nMunawar, Asim  and\\nGray, Alexander',\n",
       "  'abstract': 'Deep reinforcement learning (RL) methods often require many trials before convergence, and no direct interpretability of trained policies is provided. In order to achieve fast convergence and interpretability for the policy in RL, we propose a novel RL method for text-based games with a recent neuro-symbolic framework called Logical Neural Network, which can learn symbolic and interpretable rules in their differentiable network. The method is first to extract first-order logical facts from text observation and external word meaning network (ConceptNet), then train a policy in the network with directly interpretable logical operators. Our experimental results show RL training with the proposed method converges significantly faster than other state-of-the-art neuro-symbolic methods in a TextWorld benchmark.',\n",
       "  'doi': '10.18653/v1/2021.emnlp-main.283',\n",
       "  'volume': None,\n",
       "  'journal': None,\n",
       "  'language': None,\n",
       "  'number': None,\n",
       "  'isbn': None,\n",
       "  'note': None},\n",
       " {'url': 'https://aclanthology.org/2021.emnlp-main.298',\n",
       "  'publisher': 'Association for Computational Linguistics',\n",
       "  'address': 'Online and Punta Cana, Dominican Republic',\n",
       "  'year': 2021,\n",
       "  'month': 'November',\n",
       "  'editor': None,\n",
       "  'title': 'Neural Natural Logic Inference for Interpretable Question Answering',\n",
       "  'ENTRYTYPE': 'inproceedings',\n",
       "  'ID': 'shi-etal-2021-neural',\n",
       "  'pages': '3673--3684',\n",
       "  'booktitle': 'Proceedings of the 2021 Conference on Empirical Methods in Natural Language Processing',\n",
       "  'author': 'Shi, Jihao  and\\nDing, Xiao  and\\nDu, Li  and\\nLiu, Ting  and\\nQin, Bing',\n",
       "  'abstract': 'Many open-domain question answering problems can be cast as a textual entailment task, where a question and candidate answers are concatenated to form hypotheses. A QA system then determines if the supporting knowledge bases, regarded as potential premises, entail the hypotheses. In this paper, we investigate a neural-symbolic QA approach that integrates natural logic reasoning within deep learning architectures, towards developing effective and yet explainable question answering models. The proposed model gradually bridges a hypothesis and candidate premises following natural logic inference steps to build proof paths. Entailment scores between the acquired intermediate hypotheses and candidate premises are measured to determine if a premise entails the hypothesis. As the natural logic reasoning process forms a tree-like, hierarchical structure, we embed hypotheses and premises in a Hyperbolic space rather than Euclidean space to acquire more precise representations. Empirically, our method outperforms prior work on answering multiple-choice science questions, achieving the best results on two publicly available datasets. The natural logic inference process inherently provides evidence to help explain the prediction process.',\n",
       "  'doi': '10.18653/v1/2021.emnlp-main.298',\n",
       "  'volume': None,\n",
       "  'journal': None,\n",
       "  'language': None,\n",
       "  'number': None,\n",
       "  'isbn': None,\n",
       "  'note': None},\n",
       " {'url': 'https://aclanthology.org/2021.emnlp-main.755',\n",
       "  'publisher': 'Association for Computational Linguistics',\n",
       "  'address': 'Online and Punta Cana, Dominican Republic',\n",
       "  'year': 2021,\n",
       "  'month': 'November',\n",
       "  'editor': None,\n",
       "  'title': 'Case-based Reasoning for Natural Language Queries over Knowledge Bases',\n",
       "  'ENTRYTYPE': 'inproceedings',\n",
       "  'ID': 'das-etal-2021-case',\n",
       "  'pages': '9594--9611',\n",
       "  'booktitle': 'Proceedings of the 2021 Conference on Empirical Methods in Natural Language Processing',\n",
       "  'author': 'Das, Rajarshi  and\\nZaheer, Manzil  and\\nThai, Dung  and\\nGodbole, Ameya  and\\nPerez, Ethan  and\\nLee, Jay Yoon  and\\nTan, Lizhen  and\\nPolymenakos, Lazaros  and\\nMcCallum, Andrew',\n",
       "  'abstract': 'It is often challenging to solve a complex problem from scratch, but much easier if we can access other similar problems with their solutions {---} a paradigm known as case-based reasoning (CBR). We propose a neuro-symbolic CBR approach (CBR-KBQA) for question answering over large knowledge bases. CBR-KBQA consists of a nonparametric memory that stores cases (question and logical forms) and a parametric model that can generate a logical form for a new question by retrieving cases that are relevant to it. On several KBQA datasets that contain complex questions, CBR-KBQA achieves competitive performance. For example, on the CWQ dataset, CBR-KBQA outperforms the current state of the art by 11{\\\\%} on accuracy. Furthermore, we show that CBR-KBQA is capable of using new cases \\\\textit{without} any further training: by incorporating a few human-labeled examples in the case memory, CBR-KBQA is able to successfully generate logical forms containing unseen KB entities as well as relations.',\n",
       "  'doi': '10.18653/v1/2021.emnlp-main.755',\n",
       "  'volume': None,\n",
       "  'journal': None,\n",
       "  'language': None,\n",
       "  'number': None,\n",
       "  'isbn': None,\n",
       "  'note': None},\n",
       " {'url': 'https://aclanthology.org/2021.emnlp-main.802',\n",
       "  'publisher': 'Association for Computational Linguistics',\n",
       "  'address': 'Online and Punta Cana, Dominican Republic',\n",
       "  'year': 2021,\n",
       "  'month': 'November',\n",
       "  'editor': None,\n",
       "  'title': '{XTREME}-{R}: Towards More Challenging and Nuanced Multilingual Evaluation',\n",
       "  'ENTRYTYPE': 'inproceedings',\n",
       "  'ID': 'ruder-etal-2021-xtreme',\n",
       "  'pages': '10215--10245',\n",
       "  'booktitle': 'Proceedings of the 2021 Conference on Empirical Methods in Natural Language Processing',\n",
       "  'author': 'Ruder, Sebastian  and\\nConstant, Noah  and\\nBotha, Jan  and\\nSiddhant, Aditya  and\\nFirat, Orhan  and\\nFu, Jinlan  and\\nLiu, Pengfei  and\\nHu, Junjie  and\\nGarrette, Dan  and\\nNeubig, Graham  and\\nJohnson, Melvin',\n",
       "  'abstract': 'Machine learning has brought striking advances in multilingual natural language processing capabilities over the past year. For example, the latest techniques have improved the state-of-the-art performance on the XTREME multilingual benchmark by more than 13 points. While a sizeable gap to human-level performance remains, improvements have been easier to achieve in some tasks than in others. This paper analyzes the current state of cross-lingual transfer learning and summarizes some lessons learned. In order to catalyze meaningful progress, we extend XTREME to XTREME-R, which consists of an improved set of ten natural language understanding tasks, including challenging language-agnostic retrieval tasks, and covers 50 typologically diverse languages. In addition, we provide a massively multilingual diagnostic suite and fine-grained multi-dataset evaluation capabilities through an interactive public leaderboard to gain a better understanding of such models.',\n",
       "  'doi': '10.18653/v1/2021.emnlp-main.802',\n",
       "  'volume': None,\n",
       "  'journal': None,\n",
       "  'language': None,\n",
       "  'number': None,\n",
       "  'isbn': None,\n",
       "  'note': None},\n",
       " {'url': 'https://aclanthology.org/2021.emnlp-demo.27',\n",
       "  'publisher': 'Association for Computational Linguistics',\n",
       "  'address': 'Online and Punta Cana, Dominican Republic',\n",
       "  'year': 2021,\n",
       "  'month': 'November',\n",
       "  'editor': None,\n",
       "  'title': '{D}omi{K}now{S}: A Library for Integration of Symbolic Domain Knowledge in Deep Learning',\n",
       "  'ENTRYTYPE': 'inproceedings',\n",
       "  'ID': 'rajaby-faghihi-etal-2021-domiknows',\n",
       "  'pages': '231--241',\n",
       "  'booktitle': 'Proceedings of the 2021 Conference on Empirical Methods in Natural Language Processing: System Demonstrations',\n",
       "  'author': 'Rajaby Faghihi, Hossein  and\\nGuo, Quan  and\\nUszok, Andrzej  and\\nNafar, Aliakbar  and\\nKordjamshidi, Parisa',\n",
       "  'abstract': 'We demonstrate a library for the integration of domain knowledge in deep learning architectures. Using this library, the structure of the data is expressed symbolically via graph declarations and the logical constraints over outputs or latent variables can be seamlessly added to the deep models. The domain knowledge can be defined explicitly, which improves the explainability of the models in addition to their performance and generalizability in the low-data regime. Several approaches for such integration of symbolic and sub-symbolic models have been introduced; however, there is no library to facilitate the programming for such integration in a generic way while various underlying algorithms can be used. Our library aims to simplify programming for such integration in both training and inference phases while separating the knowledge representation from learning algorithms. We showcase various NLP benchmark tasks and beyond. The framework is publicly available at Github(https://github.com/HLR/DomiKnowS).',\n",
       "  'doi': '10.18653/v1/2021.emnlp-demo.27',\n",
       "  'volume': None,\n",
       "  'journal': None,\n",
       "  'language': None,\n",
       "  'number': None,\n",
       "  'isbn': None,\n",
       "  'note': None},\n",
       " {'url': 'https://aclanthology.org/2021.eacl-main.226',\n",
       "  'publisher': 'Association for Computational Linguistics',\n",
       "  'address': 'Online',\n",
       "  'year': 2021,\n",
       "  'month': 'April',\n",
       "  'editor': None,\n",
       "  'title': 'On the Computational Modelling of {M}ichif Verbal Morphology',\n",
       "  'ENTRYTYPE': 'inproceedings',\n",
       "  'ID': 'davis-etal-2021-computational',\n",
       "  'pages': '2631--2636',\n",
       "  'booktitle': 'Proceedings of the 16th Conference of the European Chapter of the Association for Computational Linguistics: Main Volume',\n",
       "  'author': 'Davis, Fineen  and\\nSantos, Eddie Antonio  and\\nSouter, Heather',\n",
       "  'abstract': \"This paper presents a finite-state computational model of the verbal morphology of Michif. Michif, the official language of the M{\\\\'e}tis peoples, is a uniquely mixed language with Algonquian and French origins. It is spoken across the M{\\\\'e}tis homelands in what is now called Canada and the United States, but it is highly endangered with less than 100 speakers. The verbal morphology is remarkably complex, as the already polysynthetic Algonquian patterns are combined with French elements and unique morpho-phonological interactions.The model presented in this paper, LI VERB KAA-OOSHITAHK DI MICHIF handles this complexity by using a series of composed finite-state transducers to model the concatenative morphology and phonological rule alternations that are unique to Michif. Such a rule-based approach is necessary as there is insufficient language data for an approach that uses machine learning. A language model such as LI VERB KAA-OOSHITAHK DI MICHIF furthers the goals of Indigenous computational linguistics in Canada while also supporting the creation of tools for documentation, education, and revitalization that are desired by the M{\\\\'e}tis community.\",\n",
       "  'doi': '10.18653/v1/2021.eacl-main.226',\n",
       "  'volume': None,\n",
       "  'journal': None,\n",
       "  'language': None,\n",
       "  'number': None,\n",
       "  'isbn': None,\n",
       "  'note': None},\n",
       " {'url': 'https://aclanthology.org/2021.dash-1.1',\n",
       "  'publisher': 'Association for Computational Linguistics',\n",
       "  'address': 'Online',\n",
       "  'year': 2021,\n",
       "  'month': 'June',\n",
       "  'editor': None,\n",
       "  'title': 'Leveraging {W}ikipedia Navigational Templates for Curating Domain-Specific Fuzzy Conceptual Bases',\n",
       "  'ENTRYTYPE': 'inproceedings',\n",
       "  'ID': 'saxena-etal-2021-leveraging',\n",
       "  'pages': '1--7',\n",
       "  'booktitle': 'Proceedings of the Second Workshop on Data Science with Human in the Loop: Language Advances',\n",
       "  'author': 'Saxena, Krati  and\\nSingh, Tushita  and\\nPatil, Ashwini  and\\nSunkle, Sagar  and\\nKulkarni, Vinay',\n",
       "  'abstract': \"Domain-specific conceptual bases use key concepts to capture domain scope and relevant information. Conceptual bases serve as a foundation for various downstream tasks, including ontology construction, information mapping, and analysis. However, building conceptual bases necessitates domain awareness and takes time. Wikipedia navigational templates offer multiple articles on the same/similar domain. It is possible to use the templates to recognize fundamental concepts that shape the domain. Earlier work in this domain used Wikipedia{'}s structured and unstructured data to construct open-domain ontologies, domain terminologies, and knowledge bases. We present a novel method for leveraging navigational templates to create domain-specific fuzzy conceptual bases in this work. Our system generates knowledge graphs from the articles mentioned in the template, which we then process using Wikidata and machine learning algorithms. We filter important concepts using fuzzy logic on network metrics to create a crude conceptual base. Finally, the expert helps by refining the conceptual base. We demonstrate our system using an example of RNA virus antiviral drugs.\",\n",
       "  'doi': '10.18653/v1/2021.dash-1.1',\n",
       "  'volume': None,\n",
       "  'journal': None,\n",
       "  'language': None,\n",
       "  'number': None,\n",
       "  'isbn': None,\n",
       "  'note': None},\n",
       " {'url': 'https://aclanthology.org/2021.cnl-1.12',\n",
       "  'publisher': 'Special Interest Group on Controlled Natural Language',\n",
       "  'address': 'Amsterdam, Netherlands',\n",
       "  'year': 2021,\n",
       "  'month': 'September',\n",
       "  'editor': None,\n",
       "  'title': 'Human-understandable and Machine-processable Explanations for Sub-symbolic Predictions',\n",
       "  'ENTRYTYPE': 'inproceedings',\n",
       "  'ID': 'salam-etal-2021-human',\n",
       "  'pages': None,\n",
       "  'booktitle': 'Proceedings of the Seventh International Workshop on Controlled Natural Language (CNL 2020/21)',\n",
       "  'author': 'Salam, Abdus  and\\nSchwitter, Rolf  and\\nOrgun, Mehmet',\n",
       "  'abstract': None,\n",
       "  'doi': None,\n",
       "  'volume': None,\n",
       "  'journal': None,\n",
       "  'language': None,\n",
       "  'number': None,\n",
       "  'isbn': None,\n",
       "  'note': None},\n",
       " {'url': 'https://aclanthology.org/2021.cmcl-1.18',\n",
       "  'publisher': 'Association for Computational Linguistics',\n",
       "  'address': 'Online',\n",
       "  'year': 2021,\n",
       "  'month': 'June',\n",
       "  'editor': None,\n",
       "  'title': 'Enhancing Cognitive Models of Emotions with Representation Learning',\n",
       "  'ENTRYTYPE': 'inproceedings',\n",
       "  'ID': 'guo-choi-2021-enhancing',\n",
       "  'pages': '141--148',\n",
       "  'booktitle': 'Proceedings of the Workshop on Cognitive Modeling and Computational Linguistics',\n",
       "  'author': 'Guo, Yuting  and\\nChoi, Jinho D.',\n",
       "  'abstract': \"We present a novel deep learning-based framework to generate embedding representations of fine-grained emotions that can be used to computationally describe psychological models of emotions. Our framework integrates a contextualized embedding encoder with a multi-head probing model that enables to interpret dynamically learned representations optimized for an emotion classification task. Our model is evaluated on the Empathetic Dialogue dataset and shows the state-of-the-art result for classifying 32 emotions. Our layer analysis can derive an emotion graph to depict hierarchical relations among the emotions. Our emotion representations can be used to generate an emotion wheel directly comparable to the one from Plutchik{'}s model, and also augment the values of missing emotions in the PAD emotional state model.\",\n",
       "  'doi': '10.18653/v1/2021.cmcl-1.18',\n",
       "  'volume': None,\n",
       "  'journal': None,\n",
       "  'language': None,\n",
       "  'number': None,\n",
       "  'isbn': None,\n",
       "  'note': None},\n",
       " {'url': 'https://aclanthology.org/2021.cl-4.26',\n",
       "  'publisher': 'MIT Press',\n",
       "  'address': 'Cambridge, MA',\n",
       "  'year': 2021,\n",
       "  'month': 'December',\n",
       "  'editor': None,\n",
       "  'title': 'Variational Deep Logic Network for Joint Inference of Entities and Relations',\n",
       "  'ENTRYTYPE': 'article',\n",
       "  'ID': 'wang-pan-2021-variational',\n",
       "  'pages': '775--812',\n",
       "  'booktitle': None,\n",
       "  'author': 'Wang, Wenya  and\\nPan, Sinno Jialin',\n",
       "  'abstract': 'Abstract Currently, deep learning models have been widely adopted and achieved promising results on various application domains. Despite their intriguing performance, most deep learning models function as black boxes, lacking explicit reasoning capabilities and explanations, which are usually essential for complex problems. Take joint inference in information extraction as an example. This task requires the identification of multiple structured knowledge from texts, which is inter-correlated, including entities, events, and the relationships between them. Various deep neural networks have been proposed to jointly perform entity extraction and relation prediction, which only propagate information implicitly via representation learning. However, they fail to encode the intensive correlations between entity types and relations to enforce their coexistence. On the other hand, some approaches adopt rules to explicitly constrain certain relational facts, although the separation of rules with representation learning usually restrains the approaches with error propagation. Moreover, the predefined rules are inflexible and might result in negative effects when data is noisy. To address these limitations, we propose a variational deep logic network that incorporates both representation learning and relational reasoning via the variational EM algorithm. The model consists of a deep neural network to learn high-level features with implicit interactions via the self-attention mechanism and a relational logic network to explicitly exploit target interactions. These two components are trained interactively to bring the best of both worlds. We conduct extensive experiments ranging from fine-grained sentiment terms extraction, end-to-end relation prediction, to end-to-end event extraction to demonstrate the effectiveness of our proposed method.',\n",
       "  'doi': '10.1162/coli_a_00415',\n",
       "  'volume': 47.0,\n",
       "  'journal': 'Computational Linguistics',\n",
       "  'language': None,\n",
       "  'number': 4.0,\n",
       "  'isbn': None,\n",
       "  'note': None},\n",
       " {'url': 'https://aclanthology.org/2021.cl-4.27',\n",
       "  'publisher': 'MIT Press',\n",
       "  'address': 'Cambridge, MA',\n",
       "  'year': 2021,\n",
       "  'month': 'December',\n",
       "  'editor': None,\n",
       "  'title': 'Abstractive Text Summarization: Enhancing Sequence-to-Sequence Models Using Word Sense Disambiguation and Semantic Content Generalization',\n",
       "  'ENTRYTYPE': 'article',\n",
       "  'ID': 'kouris-etal-2021-abstractive',\n",
       "  'pages': '813--859',\n",
       "  'booktitle': None,\n",
       "  'author': 'Kouris, Panagiotis  and\\nAlexandridis, Georgios  and\\nStafylopatis, Andreas',\n",
       "  'abstract': 'Abstract Nowadays, most research conducted in the field of abstractive text summarization focuses on neural-based models alone, without considering their combination with knowledge-based approaches that could further enhance their efficiency. In this direction, this work presents a novel framework that combines sequence-to-sequence neural-based text summarization along with structure and semantic-based methodologies. The proposed framework is capable of dealing with the problem of out-of-vocabulary or rare words, improving the performance of the deep learning models. The overall methodology is based on a well-defined theoretical model of knowledge-based content generalization and deep learning predictions for generating abstractive summaries. The framework is composed of three key elements: (i) a pre-processing task, (ii) a machine learning methodology, and (iii) a post-processing task. The pre-processing task is a knowledge-based approach, based on ontological knowledge resources, word sense disambiguation, and named entity recognition, along with content generalization, that transforms ordinary text into a generalized form. A deep learning model of attentive encoder-decoder architecture, which is expanded to enable a coping and coverage mechanism, as well as reinforcement learning and transformer-based architectures, is trained on a generalized version of text-summary pairs, learning to predict summaries in a generalized form. The post-processing task utilizes knowledge resources, word embeddings, word sense disambiguation, and heuristic algorithms based on text similarity methods in order to transform the generalized version of a predicted summary to a final, human-readable form. An extensive experimental procedure on three popular data sets evaluates key aspects of the proposed framework, while the obtained results exhibit promising performance, validating the robustness of the proposed approach.',\n",
       "  'doi': '10.1162/coli_a_00417',\n",
       "  'volume': 47.0,\n",
       "  'journal': 'Computational Linguistics',\n",
       "  'language': None,\n",
       "  'number': 4.0,\n",
       "  'isbn': None,\n",
       "  'note': None},\n",
       " {'url': 'https://aclanthology.org/2021.ccl-1.105',\n",
       "  'publisher': 'Chinese Information Processing Society of China',\n",
       "  'address': 'Huhhot, China',\n",
       "  'year': 2021,\n",
       "  'month': 'August',\n",
       "  'editor': None,\n",
       "  'title': '{BDCN}: Semantic Embedding Self-explanatory Breast Diagnostic Capsules Network',\n",
       "  'ENTRYTYPE': 'inproceedings',\n",
       "  'ID': 'dehua-etal-2021-bdcn',\n",
       "  'pages': '1178--1189',\n",
       "  'booktitle': 'Proceedings of the 20th Chinese National Conference on Computational Linguistics',\n",
       "  'author': 'Dehua, Chen  and\\nKeting, Zhong  and\\nJianrong, He',\n",
       "  'abstract': \"Building an interpretable AI diagnosis system for breast cancer is an important embodiment ofAI assisted medicine. Traditional breast cancer diagnosis methods based on machine learning areeasy to explain but the accuracy is very low. Deep neural network greatly improves the accuracy of diagnosis but the black box model does not provide transparency and interpretation. In this work we propose a semantic embedding self-explanatory Breast Diagnostic Capsules Network(BDCN). This model is the first to combine the capsule network with semantic embedding for theAI diagnosis of breast tumors using capsules to simulate semantics. We pre-trained the extrac-tion word vector by embedding the semantic tree into the BERT and used the capsule network to improve the semantic representation of multiple heads of attention to construct the extraction feature the capsule network was extended from the computer vision classification task to the text classification task. Simultaneously both the back propagation principle and dynamic routing algorithm are used to realize the local interpretability of the diagnostic model. The experimental results show that this breast diagnosis model improves the model performance and has good interpretability which is more suitable for clinical situations.IntroductionBreast cancer is an important killer threatening women{'}s health because of rising incidence. Early detection and diagnosis are the key to reduce the mortality rate of breast cancer and improve the quality of life of patients. Mammary gland molybdenum target report contains rich semantic information whichcan directly reflect the results of breast cancer screening (CACA-CBCS 2019) and AI-assisted diagno-sis of breast cancer is an important means. Therefore various diagnostic models were born. Mengwan(2020) used support vector machine(SVM) and Naive Bayes to classify morphological features with anaccuracy of 91.11{\\\\%}. Wei (2009) proposed a classification method of breast cancer based on SVM andthe accuracy of the classifier experiment is 79.25{\\\\%}. These traditional AI diagnoses of breast tumors havelimited data volume and low accuracy. Deep Neural Networks (DNN) enters into the ranks of the diagno-sis of breast tumor. Wang (2019) put forward a kind of based on feature fusion with CNN deep features of breast computer-aided diagnosis methods the accuracy is 92.3{\\\\%}. Zhao (2018) investigated capsule networks with dynamic routing for text classification which proves the feasibility of text categorization. Existing models have poor predictive effect and lack of interpretation which can not meet the clinical needs.\",\n",
       "  'doi': None,\n",
       "  'volume': None,\n",
       "  'journal': None,\n",
       "  'language': 'English',\n",
       "  'number': None,\n",
       "  'isbn': None,\n",
       "  'note': None},\n",
       " {'url': 'https://aclanthology.org/2021.alta-1.15',\n",
       "  'publisher': 'Australasian Language Technology Association',\n",
       "  'address': 'Online',\n",
       "  'year': 2021,\n",
       "  'month': 'December',\n",
       "  'editor': None,\n",
       "  'title': 'Generating and Modifying Natural Language Explanations',\n",
       "  'ENTRYTYPE': 'inproceedings',\n",
       "  'ID': 'salam-etal-2021-generating',\n",
       "  'pages': '149--157',\n",
       "  'booktitle': 'Proceedings of the The 19th Annual Workshop of the Australasian Language Technology Association',\n",
       "  'author': 'Salam, Abdus  and\\nSchwitter, Rolf  and\\nOrgun, Mehmet',\n",
       "  'abstract': 'HESIP is a hybrid explanation system for image predictions that combines sub-symbolic and symbolic machine learning techniques to explain the predictions of image classification tasks. The sub-symbolic component makes a prediction for an image and the symbolic component learns probabilistic symbolic rules in order to explain that prediction. In HESIP, the explanations are generated in controlled natural language from the learned probabilistic rules using a bi-directional logic grammar. In this paper, we present an explanation modification method where a human-in-the-loop can modify an incorrect explanation generated by the HESIP system and afterwards, the modified explanation is used by HESIP to learn a better explanation.',\n",
       "  'doi': None,\n",
       "  'volume': None,\n",
       "  'journal': None,\n",
       "  'language': None,\n",
       "  'number': None,\n",
       "  'isbn': None,\n",
       "  'note': None},\n",
       " {'url': 'https://aclanthology.org/2021.acl-short.100',\n",
       "  'publisher': 'Association for Computational Linguistics',\n",
       "  'address': 'Online',\n",
       "  'year': 2021,\n",
       "  'month': 'August',\n",
       "  'editor': None,\n",
       "  'title': 'Neural-Symbolic Commonsense Reasoner with Relation Predictors',\n",
       "  'ENTRYTYPE': 'inproceedings',\n",
       "  'ID': 'moghimifar-etal-2021-neural',\n",
       "  'pages': '797--802',\n",
       "  'booktitle': 'Proceedings of the 59th Annual Meeting of the Association for Computational Linguistics and the 11th International Joint Conference on Natural Language Processing (Volume 2: Short Papers)',\n",
       "  'author': 'Moghimifar, Farhad  and\\nQu, Lizhen  and\\nZhuo, Terry Yue  and\\nHaffari, Gholamreza  and\\nBaktashmotlagh, Mahsa',\n",
       "  'abstract': 'Commonsense reasoning aims to incorporate sets of commonsense facts, retrieved from Commonsense Knowledge Graphs (CKG), to draw conclusion about ordinary situations. The dynamic nature of commonsense knowledge postulates models capable of performing multi-hop reasoning over new situations. This feature also results in having large-scale sparse Knowledge Graphs, where such reasoning process is needed to predict relations between new events. However, existing approaches in this area are limited by considering CKGs as a limited set of facts, thus rendering them unfit for reasoning over new unseen situations and events. In this paper, we present a neural-symbolic reasoner, which is capable of reasoning over large-scale dynamic CKGs. The logic rules for reasoning over CKGs are learned during training by our model. In addition to providing interpretable explanation, the learned logic rules help to generalise prediction to newly introduced events. Experimental results on the task of link prediction on CKGs prove the effectiveness of our model by outperforming the state-of-the-art models.',\n",
       "  'doi': '10.18653/v1/2021.acl-short.100',\n",
       "  'volume': None,\n",
       "  'journal': None,\n",
       "  'language': None,\n",
       "  'number': None,\n",
       "  'isbn': None,\n",
       "  'note': None},\n",
       " {'url': 'https://aclanthology.org/2021.acl-long.64',\n",
       "  'publisher': 'Association for Computational Linguistics',\n",
       "  'address': 'Online',\n",
       "  'year': 2021,\n",
       "  'month': 'August',\n",
       "  'editor': None,\n",
       "  'title': '{LNN}-{EL}: A Neuro-Symbolic Approach to Short-text Entity Linking',\n",
       "  'ENTRYTYPE': 'inproceedings',\n",
       "  'ID': 'jiang-etal-2021-lnn',\n",
       "  'pages': '775--787',\n",
       "  'booktitle': 'Proceedings of the 59th Annual Meeting of the Association for Computational Linguistics and the 11th International Joint Conference on Natural Language Processing (Volume 1: Long Papers)',\n",
       "  'author': 'Jiang, Hang  and\\nGurajada, Sairam  and\\nLu, Qiuhao  and\\nNeelam, Sumit  and\\nPopa, Lucian  and\\nSen, Prithviraj  and\\nLi, Yunyao  and\\nGray, Alexander',\n",
       "  'abstract': 'Entity linking (EL) is the task of disambiguating mentions appearing in text by linking them to entities in a knowledge graph, a crucial task for text understanding, question answering or conversational systems. In the special case of short-text EL, which poses additional challenges due to limited context, prior approaches have reached good performance by employing heuristics-based methods or purely neural approaches. Here, we take a different, neuro-symbolic approach that combines the advantages of using interpretable rules based on first-order logic with the performance of neural learning. Even though constrained to use rules, we show that we reach competitive or better performance with SoTA black-box neural approaches. Furthermore, our framework has the benefits of extensibility and transferability. We show that we can easily blend existing rule templates given by a human expert, with multiple types of features (priors, BERT encodings, box embeddings, etc), and even with scores resulting from previous EL methods, thus improving on such methods. As an example of improvement, on the LC-QuAD-1.0 dataset, we show more than 3{\\\\%} increase in F1 score relative to previous SoTA. Finally, we show that the inductive bias offered by using logic results in a set of learned rules that transfers from one dataset to another, sometimes without finetuning, while still having high accuracy.',\n",
       "  'doi': '10.18653/v1/2021.acl-long.64',\n",
       "  'volume': None,\n",
       "  'journal': None,\n",
       "  'language': None,\n",
       "  'number': None,\n",
       "  'isbn': None,\n",
       "  'note': None},\n",
       " {'url': 'https://aclanthology.org/2021.acl-long.159',\n",
       "  'publisher': 'Association for Computational Linguistics',\n",
       "  'address': 'Online',\n",
       "  'year': 2021,\n",
       "  'month': 'August',\n",
       "  'editor': None,\n",
       "  'title': '{PIGL}e{T}: Language Grounding Through Neuro-Symbolic Interaction in a 3{D} World',\n",
       "  'ENTRYTYPE': 'inproceedings',\n",
       "  'ID': 'zellers-etal-2021-piglet',\n",
       "  'pages': '2040--2050',\n",
       "  'booktitle': 'Proceedings of the 59th Annual Meeting of the Association for Computational Linguistics and the 11th International Joint Conference on Natural Language Processing (Volume 1: Long Papers)',\n",
       "  'author': 'Zellers, Rowan  and\\nHoltzman, Ari  and\\nPeters, Matthew  and\\nMottaghi, Roozbeh  and\\nKembhavi, Aniruddha  and\\nFarhadi, Ali  and\\nChoi, Yejin',\n",
       "  'abstract': \"We propose PIGLeT: a model that learns physical commonsense knowledge through interaction, and then uses this knowledge to ground language. We factorize PIGLeT into a physical dynamics model, and a separate language model. Our dynamics model learns not just what objects are but also what they do: glass cups break when thrown, plastic ones don{'}t. We then use it as the interface to our language model, giving us a unified model of linguistic form and grounded meaning. PIGLeT can read a sentence, simulate neurally what might happen next, and then communicate that result through a literal symbolic representation, or natural language. Experimental results show that our model effectively learns world dynamics, along with how to communicate them. It is able to correctly forecast what happens next given an English sentence over 80{\\\\%} of the time, outperforming a 100x larger, text-to-text approach by over 10{\\\\%}. Likewise, its natural language summaries of physical interactions are also judged by humans as more accurate than LM alternatives. We present comprehensive analysis showing room for future work.\",\n",
       "  'doi': '10.18653/v1/2021.acl-long.159',\n",
       "  'volume': None,\n",
       "  'journal': None,\n",
       "  'language': None,\n",
       "  'number': None,\n",
       "  'isbn': None,\n",
       "  'note': None},\n",
       " {'url': 'https://aclanthology.org/2021.acl-long.430',\n",
       "  'publisher': 'Association for Computational Linguistics',\n",
       "  'address': 'Online',\n",
       "  'year': 2021,\n",
       "  'month': 'August',\n",
       "  'editor': None,\n",
       "  'title': 'De-Confounded Variational Encoder-Decoder for Logical Table-to-Text Generation',\n",
       "  'ENTRYTYPE': 'inproceedings',\n",
       "  'ID': 'chen-etal-2021-de',\n",
       "  'pages': '5532--5542',\n",
       "  'booktitle': 'Proceedings of the 59th Annual Meeting of the Association for Computational Linguistics and the 11th International Joint Conference on Natural Language Processing (Volume 1: Long Papers)',\n",
       "  'author': 'Chen, Wenqing  and\\nTian, Jidong  and\\nLi, Yitian  and\\nHe, Hao  and\\nJin, Yaohui',\n",
       "  'abstract': \"Logical table-to-text generation aims to automatically generate fluent and logically faithful text from tables. The task remains challenging where deep learning models often generated linguistically fluent but logically inconsistent text. The underlying reason may be that deep learning models often capture surface-level spurious correlations rather than the causal relationships between the table $\\\\boldsymbol{x}$ and the sentence $\\\\boldsymbol{y}$. Specifically, in the training stage, a model can get a low empirical loss without understanding $\\\\boldsymbol{x}$ and use spurious statistical cues instead. In this paper, we propose a de-confounded variational encoder-decoder (DCVED) based on causal intervention, learning the objective $p(\\\\boldsymbol{y}|\\\\textrm{do}(\\\\boldsymbol{x}))$. Firstly, we propose to use variational inference to estimate the confounders in the latent space and cooperate with the causal intervention based on Pearl{'}s do-calculus to alleviate the spurious correlations. Secondly, to make the latent confounder meaningful, we propose a back-prediction process to predict the not-used entities but linguistically similar to the exactly selected ones. Finally, since our variational model can generate multiple candidates, we train a table-text selector to find out the best candidate sentence for the given table. An extensive set of experiments show that our model outperforms the baselines and achieves new state-of-the-art performance on two logical table-to-text datasets in terms of logical fidelity.\",\n",
       "  'doi': '10.18653/v1/2021.acl-long.430',\n",
       "  'volume': None,\n",
       "  'journal': None,\n",
       "  'language': None,\n",
       "  'number': None,\n",
       "  'isbn': None,\n",
       "  'note': None},\n",
       " {'url': 'https://aclanthology.org/2021.acl-long.456',\n",
       "  'publisher': 'Association for Computational Linguistics',\n",
       "  'address': 'Online',\n",
       "  'year': 2021,\n",
       "  'month': 'August',\n",
       "  'editor': None,\n",
       "  'title': 'Neural-Symbolic Solver for Math Word Problems with Auxiliary Tasks',\n",
       "  'ENTRYTYPE': 'inproceedings',\n",
       "  'ID': 'qin-etal-2021-neural',\n",
       "  'pages': '5870--5881',\n",
       "  'booktitle': 'Proceedings of the 59th Annual Meeting of the Association for Computational Linguistics and the 11th International Joint Conference on Natural Language Processing (Volume 1: Long Papers)',\n",
       "  'author': 'Qin, Jinghui  and\\nLiang, Xiaodan  and\\nHong, Yining  and\\nTang, Jianheng  and\\nLin, Liang',\n",
       "  'abstract': \"Previous math word problem solvers following the encoder-decoder paradigm fail to explicitly incorporate essential math symbolic constraints, leading to unexplainable and unreasonable predictions. Herein, we propose Neural-Symbolic Solver (NS-Solver) to explicitly and seamlessly incorporate different levels of symbolic constraints by auxiliary tasks. Our NS-Solver consists of a problem reader to encode problems, a programmer to generate symbolic equations, and a symbolic executor to obtain answers. Along with target expression supervision, our solver is also optimized via 4 new auxiliary objectives to enforce different symbolic reasoning: a) self-supervised number prediction task predicting both number quantity and number locations; b) commonsense constant prediction task predicting what prior knowledge (e.g. how many legs a chicken has) is required; c) program consistency checker computing the semantic loss between predicted equation and target equation to ensure reasonable equation mapping; d) duality exploiting task exploiting the quasi-duality between symbolic equation generation and problem{'}s part-of-speech generation to enhance the understanding ability of a solver. Besides, to provide a more realistic and challenging benchmark for developing a universal and scalable solver, we also construct a new largescale MWP benchmark CM17K consisting of 4 kinds of MWPs (arithmetic, one-unknown linear, one-unknown non-linear, equation set) with more than 17K samples. Extensive experiments on Math23K and our CM17k demonstrate the superiority of our NS-Solver compared to state-of-the-art methods.\",\n",
       "  'doi': '10.18653/v1/2021.acl-long.456',\n",
       "  'volume': None,\n",
       "  'journal': None,\n",
       "  'language': None,\n",
       "  'number': None,\n",
       "  'isbn': None,\n",
       "  'note': None},\n",
       " {'url': 'https://aclanthology.org/2021.acl-long.545',\n",
       "  'publisher': 'Association for Computational Linguistics',\n",
       "  'address': 'Online',\n",
       "  'year': 2021,\n",
       "  'month': 'August',\n",
       "  'editor': None,\n",
       "  'title': 'Using Meta-Knowledge Mined from Identifiers to Improve Intent Recognition in Conversational Systems',\n",
       "  'ENTRYTYPE': 'inproceedings',\n",
       "  'ID': 'pinhanez-etal-2021-using',\n",
       "  'pages': '7014--7027',\n",
       "  'booktitle': 'Proceedings of the 59th Annual Meeting of the Association for Computational Linguistics and the 11th International Joint Conference on Natural Language Processing (Volume 1: Long Papers)',\n",
       "  'author': 'Pinhanez, Claudio  and\\nCavalin, Paulo  and\\nAlves Ribeiro, Victor Henrique  and\\nAppel, Ana  and\\nCandello, Heloisa  and\\nNogima, Julio  and\\nPichiliani, Mauro  and\\nGuerra, Melina  and\\nde Bayser, Maira  and\\nMalfatti, Gabriel  and\\nFerreira, Henrique',\n",
       "  'abstract': 'In this paper we explore the improvement of intent recognition in conversational systems by the use of meta-knowledge embedded in intent identifiers. Developers often include such knowledge, structure as taxonomies, in the documentation of chatbots. By using neuro-symbolic algorithms to incorporate those taxonomies into embeddings of the output space, we were able to improve accuracy in intent recognition. In datasets with intents and example utterances from 200 professional chatbots, we saw decreases in the equal error rate (EER) in more than 40{\\\\%} of the chatbots in comparison to the baseline of the same algorithm without the meta-knowledge. The meta-knowledge proved also to be effective in detecting out-of-scope utterances, improving the false acceptance rate (FAR) in two thirds of the chatbots, with decreases of 0.05 or more in FAR in almost 40{\\\\%} of the chatbots. When considering only the well-developed workspaces with a high level use of taxonomies, FAR decreased more than 0.05 in 77{\\\\%} of them, and more than 0.1 in 39{\\\\%} of the chatbots.',\n",
       "  'doi': '10.18653/v1/2021.acl-long.545',\n",
       "  'volume': None,\n",
       "  'journal': None,\n",
       "  'language': None,\n",
       "  'number': None,\n",
       "  'isbn': None,\n",
       "  'note': None},\n",
       " {'url': 'https://aclanthology.org/2021.acl-long.547',\n",
       "  'publisher': 'Association for Computational Linguistics',\n",
       "  'address': 'Online',\n",
       "  'year': 2021,\n",
       "  'month': 'August',\n",
       "  'editor': None,\n",
       "  'title': '{D}ialogue{CRN}: Contextual Reasoning Networks for Emotion Recognition in Conversations',\n",
       "  'ENTRYTYPE': 'inproceedings',\n",
       "  'ID': 'hu-etal-2021-dialoguecrn',\n",
       "  'pages': '7042--7052',\n",
       "  'booktitle': 'Proceedings of the 59th Annual Meeting of the Association for Computational Linguistics and the 11th International Joint Conference on Natural Language Processing (Volume 1: Long Papers)',\n",
       "  'author': 'Hu, Dou  and\\nWei, Lingwei  and\\nHuai, Xiaoyong',\n",
       "  'abstract': 'Emotion Recognition in Conversations (ERC) has gained increasing attention for developing empathetic machines. Recently, many approaches have been devoted to perceiving conversational context by deep learning models. However, these approaches are insufficient in understanding the context due to lacking the ability to extract and integrate emotional clues. In this work, we propose novel Contextual Reasoning Networks (DialogueCRN) to fully understand the conversational context from a cognitive perspective. Inspired by the Cognitive Theory of Emotion, we design multi-turn reasoning modules to extract and integrate emotional clues. The reasoning module iteratively performs an intuitive retrieving process and a conscious reasoning process, which imitates human unique cognitive thinking. Extensive experiments on three public benchmark datasets demonstrate the effectiveness and superiority of the proposed model.',\n",
       "  'doi': '10.18653/v1/2021.acl-long.547',\n",
       "  'volume': None,\n",
       "  'journal': None,\n",
       "  'language': None,\n",
       "  'number': None,\n",
       "  'isbn': None,\n",
       "  'note': None},\n",
       " {'url': 'https://aclanthology.org/2021.acl-demo.8',\n",
       "  'publisher': 'Association for Computational Linguistics',\n",
       "  'address': 'Online',\n",
       "  'year': 2021,\n",
       "  'month': 'August',\n",
       "  'editor': None,\n",
       "  'title': '{P}ar{C}our{E}: A Parallel Corpus Explorer for a Massively Multilingual Corpus',\n",
       "  'ENTRYTYPE': 'inproceedings',\n",
       "  'ID': 'imanigooghari-etal-2021-parcoure',\n",
       "  'pages': '63--72',\n",
       "  'booktitle': 'Proceedings of the 59th Annual Meeting of the Association for Computational Linguistics and the 11th International Joint Conference on Natural Language Processing: System Demonstrations',\n",
       "  'author': 'ImaniGooghari, Ayyoob  and\\nJalili Sabet, Masoud  and\\nDufter, Philipp  and\\nCysou, Michael  and\\nSch{\\\\\"u}tze, Hinrich',\n",
       "  'abstract': 'With more than 7000 languages worldwide, multilingual natural language processing (NLP) is essential both from an academic and commercial perspective. Researching typological properties of languages is fundamental for progress in multilingual NLP. Examples include assessing language similarity for effective transfer learning, injecting inductive biases into machine learning models or creating resources such as dictionaries and inflection tables. We provide ParCourE, an online tool that allows to browse a word-aligned parallel corpus, covering 1334 languages. We give evidence that this is useful for typological research. ParCourE can be set up for any parallel corpus and can thus be used for typological research on other corpora as well as for exploring their quality and properties.',\n",
       "  'doi': '10.18653/v1/2021.acl-demo.8',\n",
       "  'volume': None,\n",
       "  'journal': None,\n",
       "  'language': None,\n",
       "  'number': None,\n",
       "  'isbn': None,\n",
       "  'note': None},\n",
       " {'url': 'https://aclanthology.org/2021.acl-demo.27',\n",
       "  'publisher': 'Association for Computational Linguistics',\n",
       "  'address': 'Online',\n",
       "  'year': 2021,\n",
       "  'month': 'August',\n",
       "  'editor': None,\n",
       "  'title': '{LOA}: Logical Optimal Actions for Text-based Interaction Games',\n",
       "  'ENTRYTYPE': 'inproceedings',\n",
       "  'ID': 'kimura-etal-2021-loa',\n",
       "  'pages': '227--231',\n",
       "  'booktitle': 'Proceedings of the 59th Annual Meeting of the Association for Computational Linguistics and the 11th International Joint Conference on Natural Language Processing: System Demonstrations',\n",
       "  'author': 'Kimura, Daiki  and\\nChaudhury, Subhajit  and\\nOno, Masaki  and\\nTatsubori, Michiaki  and\\nAgravante, Don Joven  and\\nMunawar, Asim  and\\nWachi, Akifumi  and\\nKohita, Ryosuke  and\\nGray, Alexander',\n",
       "  'abstract': 'We present Logical Optimal Actions (LOA), an action decision architecture of reinforcement learning applications with a neuro-symbolic framework which is a combination of neural network and symbolic knowledge acquisition approach for natural language interaction games. The demonstration for LOA experiments consists of a web-based interactive platform for text-based games and visualization for acquired knowledge for improving interpretability for trained rules. This demonstration also provides a comparison module with other neuro-symbolic approaches as well as non-symbolic state-of-the-art agent models on the same text-based games. Our LOA also provides open-sourced implementation in Python for the reinforcement learning environment to facilitate an experiment for studying neuro-symbolic agents. Demo site: https://ibm.biz/acl21-loa, Code: https://github.com/ibm/loa',\n",
       "  'doi': '10.18653/v1/2021.acl-demo.27',\n",
       "  'volume': None,\n",
       "  'journal': None,\n",
       "  'language': None,\n",
       "  'number': None,\n",
       "  'isbn': None,\n",
       "  'note': None},\n",
       " {'url': 'https://aclanthology.org/2020.wnut-1.39',\n",
       "  'publisher': 'Association for Computational Linguistics',\n",
       "  'address': 'Online',\n",
       "  'year': 2020,\n",
       "  'month': 'November',\n",
       "  'editor': None,\n",
       "  'title': 'Fancy Man Launches Zippo at {WNUT} 2020 Shared Task-1: A Bert Case Model for Wet Lab Entity Extraction',\n",
       "  'ENTRYTYPE': 'inproceedings',\n",
       "  'ID': 'zeng-etal-2020-fancy',\n",
       "  'pages': '299--304',\n",
       "  'booktitle': 'Proceedings of the Sixth Workshop on Noisy User-generated Text (W-NUT 2020)',\n",
       "  'author': 'Zeng, Qingcheng  and\\nFang, Xiaoyang  and\\nLiang, Zhexin  and\\nMeng, Haoding',\n",
       "  'abstract': \"Automatic or semi-automatic conversion of protocols specifying steps in performing a lab procedure into machine-readable format benefits biological research a lot. These noisy, dense, and domain-specific lab protocols processing draws more and more interests with the development of deep learning. This paper presents our teamwork on WNUT 2020 shared task-1: wet lab entity extract, that we conducted studies in several models, including a BiLSTM CRF model and a Bert case model which can be used to complete wet lab entity extraction. And we mainly discussed the performance differences of Bert case under different situations such as transformers versions, case sensitivity that may don{'}t get enough attention before.\",\n",
       "  'doi': '10.18653/v1/2020.wnut-1.39',\n",
       "  'volume': None,\n",
       "  'journal': None,\n",
       "  'language': None,\n",
       "  'number': None,\n",
       "  'isbn': None,\n",
       "  'note': None},\n",
       " {'url': 'https://aclanthology.org/2020.semeval-1.43',\n",
       "  'publisher': 'International Committee for Computational Linguistics',\n",
       "  'address': 'Barcelona (online)',\n",
       "  'year': 2020,\n",
       "  'month': 'December',\n",
       "  'editor': None,\n",
       "  'title': '{HIT}-{SCIR} at {S}em{E}val-2020 Task 5: Training Pre-trained Language Model with Pseudo-labeling Data for Counterfactuals Detection',\n",
       "  'ENTRYTYPE': 'inproceedings',\n",
       "  'ID': 'ding-etal-2020-hit',\n",
       "  'pages': '354--360',\n",
       "  'booktitle': 'Proceedings of the Fourteenth Workshop on Semantic Evaluation',\n",
       "  'author': 'Ding, Xiao  and\\nHao, Dingkui  and\\nZhang, Yuewei  and\\nLiao, Kuo  and\\nLi, Zhongyang  and\\nQin, Bing  and\\nLiu, Ting',\n",
       "  'abstract': \"We describe our system for Task 5 of SemEval 2020: Modelling Causal Reasoning in Language: Detecting Counterfactuals. Despite deep learning has achieved significant success in many fields, it still hardly drives today{'}s AI to strong AI, as it lacks of causation, which is a fundamental concept in human thinking and reasoning. In this task, we dedicate to detecting causation, especially counterfactuals from texts. We explore multiple pre-trained models to learn basic features and then fine-tune models with counterfactual data and pseudo-labeling data. Our team HIT-SCIR wins the first place (1st) in Sub-task 1 {---} Detecting Counterfactual Statements and is ranked 4th in Sub-task 2 {---} Detecting Antecedent and Consequence. In this paper we provide a detailed description of the approach, as well as the results obtained in this task.\",\n",
       "  'doi': '10.18653/v1/2020.semeval-1.43',\n",
       "  'volume': None,\n",
       "  'journal': None,\n",
       "  'language': None,\n",
       "  'number': None,\n",
       "  'isbn': None,\n",
       "  'note': None},\n",
       " {'url': 'https://aclanthology.org/2020.semeval-1.83',\n",
       "  'publisher': 'International Committee for Computational Linguistics',\n",
       "  'address': 'Barcelona (online)',\n",
       "  'year': 2020,\n",
       "  'month': 'December',\n",
       "  'editor': None,\n",
       "  'title': '{ETHAN} at {S}em{E}val-2020 Task 5: Modelling Causal Reasoning in Language Using Neuro-symbolic Cloud Computing',\n",
       "  'ENTRYTYPE': 'inproceedings',\n",
       "  'ID': 'yabloko-2020-ethan',\n",
       "  'pages': '645--652',\n",
       "  'booktitle': 'Proceedings of the Fourteenth Workshop on Semantic Evaluation',\n",
       "  'author': 'Yabloko, Len',\n",
       "  'abstract': 'I present ETHAN: Experimental Testing of Hybrid AI Node implemented entirely on free cloud computing infrastructure. The ultimate goal of this research is to create modular reusable hybrid neuro-symbolic architecture for Artificial Intelligence. As a test case I model natural language comprehension of causal relations from open domain text corpus that combines semi-supervised language model (Huggingface Transformers) with constituency and dependency parsers (Allen Institute for Artificial Intelligence.)',\n",
       "  'doi': '10.18653/v1/2020.semeval-1.83',\n",
       "  'volume': None,\n",
       "  'journal': None,\n",
       "  'language': None,\n",
       "  'number': None,\n",
       "  'isbn': None,\n",
       "  'note': None},\n",
       " {'url': 'https://aclanthology.org/2020.lt4hala-1.15',\n",
       "  'publisher': 'European Language Resources Association (ELRA)',\n",
       "  'address': 'Marseille, France',\n",
       "  'year': 2020,\n",
       "  'month': 'May',\n",
       "  'editor': None,\n",
       "  'title': 'Detecting Direct Speech in Multilingual Collection of 19th-century Novels',\n",
       "  'ENTRYTYPE': 'inproceedings',\n",
       "  'ID': 'byszuk-etal-2020-detecting',\n",
       "  'pages': '100--104',\n",
       "  'booktitle': 'Proceedings of LT4HALA 2020 - 1st Workshop on Language Technologies for Historical and Ancient Languages',\n",
       "  'author': \"Byszuk, Joanna  and\\nWo{\\\\'z}niak, Micha{\\\\l}  and\\nKestemont, Mike  and\\nLe{\\\\'s}niak, Albert  and\\n{\\\\L}ukasik, Wojciech  and\\n{\\\\v{S}}e{\\\\c{l}}a, Artjoms  and\\nEder, Maciej\",\n",
       "  'abstract': 'Fictional prose can be broadly divided into narrative and discursive forms with direct speech being central to any discourse representation (alongside indirect reported speech and free indirect discourse). This distinction is crucial in digital literary studies and enables interesting forms of narratological or stylistic analysis. The difficulty of automatically detecting direct speech, however, is currently under-estimated. Rule-based systems that work reasonably well for modern languages struggle with (the lack of) typographical conventions in 19th-century literature. While machine learning approaches to sequence modeling can be applied to solve the task, they typically face a severed skewness in the availability of training material, especially for lesser resourced languages. In this paper, we report the result of a multilingual approach to direct speech detection in a diverse corpus of 19th-century fiction in 9 European languages. The proposed method finetunes a transformer architecture with multilingual sentence embedder on a minimal amount of annotated training in each language, and improves performance across languages with ambiguous direct speech marking, in comparison to a carefully constructed regular expression baseline.',\n",
       "  'doi': None,\n",
       "  'volume': None,\n",
       "  'journal': None,\n",
       "  'language': 'English',\n",
       "  'number': None,\n",
       "  'isbn': '979-10-95546-53-5',\n",
       "  'note': None},\n",
       " {'url': 'https://aclanthology.org/2020.emnlp-main.345',\n",
       "  'publisher': 'Association for Computational Linguistics',\n",
       "  'address': 'Online',\n",
       "  'year': 2020,\n",
       "  'month': 'November',\n",
       "  'editor': None,\n",
       "  'title': 'Learning Explainable Linguistic Expressions with Neural Inductive Logic Programming for Sentence Classification',\n",
       "  'ENTRYTYPE': 'inproceedings',\n",
       "  'ID': 'sen-etal-2020-learning',\n",
       "  'pages': '4211--4221',\n",
       "  'booktitle': 'Proceedings of the 2020 Conference on Empirical Methods in Natural Language Processing (EMNLP)',\n",
       "  'author': 'Sen, Prithviraj  and\\nDanilevsky, Marina  and\\nLi, Yunyao  and\\nBrahma, Siddhartha  and\\nBoehm, Matthias  and\\nChiticariu, Laura  and\\nKrishnamurthy, Rajasekar',\n",
       "  'abstract': 'Interpretability of predictive models is becoming increasingly important with growing adoption in the real-world. We present RuleNN, a neural network architecture for learning transparent models for sentence classification. The models are in the form of rules expressed in first-order logic, a dialect with well-defined, human-understandable semantics. More precisely, RuleNN learns linguistic expressions (LE) built on top of predicates extracted using shallow natural language understanding. Our experimental results show that RuleNN outperforms statistical relational learning and other neuro-symbolic methods, and performs comparably with black-box recurrent neural networks. Our user studies confirm that the learned LEs are explainable and capture domain semantics. Moreover, allowing domain experts to modify LEs and instill more domain knowledge leads to human-machine co-creation of models with better performance.',\n",
       "  'doi': '10.18653/v1/2020.emnlp-main.345',\n",
       "  'volume': None,\n",
       "  'journal': None,\n",
       "  'language': None,\n",
       "  'number': None,\n",
       "  'isbn': None,\n",
       "  'note': None},\n",
       " {'url': 'https://aclanthology.org/2020.emnlp-main.453',\n",
       "  'publisher': 'Association for Computational Linguistics',\n",
       "  'address': 'Online',\n",
       "  'year': 2020,\n",
       "  'month': 'November',\n",
       "  'editor': None,\n",
       "  'title': '{D}eep {W}eighted {M}ax{SAT} for {A}spect-based {O}pinion {E}xtraction',\n",
       "  'ENTRYTYPE': 'inproceedings',\n",
       "  'ID': 'wu-etal-2020-deep',\n",
       "  'pages': '5618--5628',\n",
       "  'booktitle': 'Proceedings of the 2020 Conference on Empirical Methods in Natural Language Processing (EMNLP)',\n",
       "  'author': 'Wu, Meixi  and\\nWang, Wenya  and\\nPan, Sinno Jialin',\n",
       "  'abstract': 'Though deep learning has achieved significant success in various NLP tasks, most deep learning models lack the capability of encoding explicit domain knowledge to model complex causal relationships among different types of variables. On the other hand, logic rules offer a compact expression to represent the causal relationships to guide the training process. Logic programs can be cast as a satisfiability problem which aims to find truth assignments to logic variables by maximizing the number of satisfiable clauses (MaxSAT). We adopt the MaxSAT semantics to model logic inference process and smoothly incorporate a weighted version of MaxSAT that connects deep neural networks and a graphical model in a joint framework. The joint model feeds deep learning outputs to a weighted MaxSAT layer to rectify the erroneous predictions and can be trained via end-to-end gradient descent. Our proposed model associates the benefits of high-level feature learning, knowledge reasoning, and structured learning with observable performance gain for the task of aspect-based opinion extraction.',\n",
       "  'doi': '10.18653/v1/2020.emnlp-main.453',\n",
       "  'volume': None,\n",
       "  'journal': None,\n",
       "  'language': None,\n",
       "  'number': None,\n",
       "  'isbn': None,\n",
       "  'note': None},\n",
       " {'url': 'https://aclanthology.org/2020.emnlp-main.549',\n",
       "  'publisher': 'Association for Computational Linguistics',\n",
       "  'address': 'Online',\n",
       "  'year': 2020,\n",
       "  'month': 'November',\n",
       "  'editor': None,\n",
       "  'title': 'Question Directed Graph Attention Network for Numerical Reasoning over Text',\n",
       "  'ENTRYTYPE': 'inproceedings',\n",
       "  'ID': 'chen-etal-2020-question',\n",
       "  'pages': '6759--6768',\n",
       "  'booktitle': 'Proceedings of the 2020 Conference on Empirical Methods in Natural Language Processing (EMNLP)',\n",
       "  'author': 'Chen, Kunlong  and\\nXu, Weidi  and\\nCheng, Xingyi  and\\nXiaochuan, Zou  and\\nZhang, Yuyu  and\\nSong, Le  and\\nWang, Taifeng  and\\nQi, Yuan  and\\nChu, Wei',\n",
       "  'abstract': 'Numerical reasoning over texts, such as addition, subtraction, sorting and counting, is a challenging machine reading comprehension task, since it requires both natural language understanding and arithmetic computation. To address this challenge, we propose a heterogeneous graph representation for the context of the passage and question needed for such reasoning, and design a question directed graph attention network to drive multi-step numerical reasoning over this context graph. Our model, which combines deep learning and graph reasoning, achieves remarkable results in benchmark datasets such as DROP.',\n",
       "  'doi': '10.18653/v1/2020.emnlp-main.549',\n",
       "  'volume': None,\n",
       "  'journal': None,\n",
       "  'language': None,\n",
       "  'number': None,\n",
       "  'isbn': None,\n",
       "  'note': None},\n",
       " {'url': 'https://aclanthology.org/2020.eamt-1.27',\n",
       "  'publisher': 'European Association for Machine Translation',\n",
       "  'address': 'Lisboa, Portugal',\n",
       "  'year': 2020,\n",
       "  'month': 'November',\n",
       "  'editor': None,\n",
       "  'title': 'Domain Informed Neural Machine Translation: Developing Translation Services for Healthcare Enterprise',\n",
       "  'ENTRYTYPE': 'inproceedings',\n",
       "  'ID': 'manchanda-grunin-2020-domain',\n",
       "  'pages': '255--261',\n",
       "  'booktitle': 'Proceedings of the 22nd Annual Conference of the European Association for Machine Translation',\n",
       "  'author': 'Manchanda, Sahil  and\\nGrunin, Galina',\n",
       "  'abstract': 'Neural Machine Translation (NMT) is a deep learning based approach that has achieved outstanding results lately in the translation community. The performance of NMT systems, however, is dependent on the availability of large amounts of in-domain parallel corpora. The business enterprises in domains such as legal and healthcare require specialized vocabulary but translation systems trained for a general purpose do not cater to these needs. The data in these domains is either hard to acquire or is very small in comparison to public data sets. This is a detailed report of using an open-source library to implement a machine translation system and successfully customizing it for the needs of a particular client in the healthcare domain. This report details the chronological development of every component of this system, namely, extraction of data from in-domain healthcare documents, a pre-processing pipeline for the data, data alignment and augmentation, training and a fully automated and robust deployment pipeline. This work proposes an efficient way for the continuous deployment of newly trained deep learning models. The deployed translation models are optimized for both inference time and cost.',\n",
       "  'doi': None,\n",
       "  'volume': None,\n",
       "  'journal': None,\n",
       "  'language': None,\n",
       "  'number': None,\n",
       "  'isbn': None,\n",
       "  'note': None},\n",
       " {'url': 'https://aclanthology.org/2020.conll-1.3',\n",
       "  'publisher': 'Association for Computational Linguistics',\n",
       "  'address': 'Online',\n",
       "  'year': 2020,\n",
       "  'month': 'November',\n",
       "  'editor': None,\n",
       "  'title': 'Neural Proof Nets',\n",
       "  'ENTRYTYPE': 'inproceedings',\n",
       "  'ID': 'kogkalidis-etal-2020-neural',\n",
       "  'pages': '26--40',\n",
       "  'booktitle': 'Proceedings of the 24th Conference on Computational Natural Language Learning',\n",
       "  'author': 'Kogkalidis, Konstantinos  and\\nMoortgat, Michael  and\\nMoot, Richard',\n",
       "  'abstract': 'Linear logic and the linear λ-calculus have a long standing tradition in the study of natural language form and meaning. Among the proof calculi of linear logic, proof nets are of particular interest, offering an attractive geometric representation of derivations that is unburdened by the bureaucratic complications of conventional prooftheoretic formats. Building on recent advances in set-theoretic learning, we propose a neural variant of proof nets based on Sinkhorn networks, which allows us to translate parsing as the problem of extracting syntactic primitives and permuting them into alignment. Our methodology induces a batch-efficient, end-to-end differentiable architecture that actualizes a formally grounded yet highly efficient neuro-symbolic parser. We test our approach on {\\\\AE}Thel, a dataset of type-logical derivations for written Dutch, where it manages to correctly transcribe raw text sentences into proofs and terms of the linear λ-calculus with an accuracy of as high as 70{\\\\%}.',\n",
       "  'doi': '10.18653/v1/2020.conll-1.3',\n",
       "  'volume': None,\n",
       "  'journal': None,\n",
       "  'language': None,\n",
       "  'number': None,\n",
       "  'isbn': None,\n",
       "  'note': None},\n",
       " {'url': 'https://aclanthology.org/2020.coling-main.459',\n",
       "  'publisher': 'International Committee on Computational Linguistics',\n",
       "  'address': 'Barcelona, Spain (Online)',\n",
       "  'year': 2020,\n",
       "  'month': 'December',\n",
       "  'editor': None,\n",
       "  'title': 'Hy-{NLI}: a Hybrid system for Natural Language Inference',\n",
       "  'ENTRYTYPE': 'inproceedings',\n",
       "  'ID': 'kalouli-etal-2020-hy',\n",
       "  'pages': '5235--5249',\n",
       "  'booktitle': 'Proceedings of the 28th International Conference on Computational Linguistics',\n",
       "  'author': 'Kalouli, Aikaterini-Lida  and\\nCrouch, Richard  and\\nde Paiva, Valeria',\n",
       "  'abstract': 'Despite the advances in Natural Language Inference through the training of massive deep models, recent work has revealed the generalization difficulties of such models, which fail to perform on adversarial datasets with challenging linguistic phenomena. Such phenomena, however, can be handled well by symbolic systems. Thus, we propose Hy-NLI, a hybrid system that learns to identify an NLI pair as linguistically challenging or not. Based on that, it uses its symbolic or deep learning component, respectively, to make the final inference decision. We show how linguistically less complex cases are best solved by robust state-of-the-art models, like BERT and XLNet, while hard linguistic phenomena are best handled by our implemented symbolic engine. Our thorough evaluation shows that our hybrid system achieves state-of-the-art performance across mainstream and adversarial datasets and opens the way for further research into the hybrid direction.',\n",
       "  'doi': '10.18653/v1/2020.coling-main.459',\n",
       "  'volume': None,\n",
       "  'journal': None,\n",
       "  'language': None,\n",
       "  'number': None,\n",
       "  'isbn': None,\n",
       "  'note': None},\n",
       " {'url': 'https://aclanthology.org/2020.bionlp-1.18',\n",
       "  'publisher': 'Association for Computational Linguistics',\n",
       "  'address': 'Online',\n",
       "  'year': 2020,\n",
       "  'month': 'July',\n",
       "  'editor': None,\n",
       "  'title': 'Benchmark and Best Practices for Biomedical Knowledge Graph Embeddings',\n",
       "  'ENTRYTYPE': 'inproceedings',\n",
       "  'ID': 'chang-etal-2020-benchmark',\n",
       "  'pages': '167--176',\n",
       "  'booktitle': 'Proceedings of the 19th SIGBioMed Workshop on Biomedical Language Processing',\n",
       "  'author': \"Chang, David  and\\nBala{\\\\v{z}}evi{\\\\'c}, Ivana  and\\nAllen, Carl  and\\nChawla, Daniel  and\\nBrandt, Cynthia  and\\nTaylor, Andrew\",\n",
       "  'abstract': 'Much of biomedical and healthcare data is encoded in discrete, symbolic form such as text and medical codes. There is a wealth of expert-curated biomedical domain knowledge stored in knowledge bases and ontologies, but the lack of reliable methods for learning knowledge representation has limited their usefulness in machine learning applications. While text-based representation learning has significantly improved in recent years through advances in natural language processing, attempts to learn biomedical concept embeddings so far have been lacking. A recent family of models called knowledge graph embeddings have shown promising results on general domain knowledge graphs, and we explore their capabilities in the biomedical domain. We train several state-of-the-art knowledge graph embedding models on the SNOMED-CT knowledge graph, provide a benchmark with comparison to existing methods and in-depth discussion on best practices, and make a case for the importance of leveraging the multi-relational nature of knowledge graphs for learning biomedical knowledge representation. The embeddings, code, and materials will be made available to the community.',\n",
       "  'doi': '10.18653/v1/2020.bionlp-1.18',\n",
       "  'volume': None,\n",
       "  'journal': None,\n",
       "  'language': None,\n",
       "  'number': None,\n",
       "  'isbn': None,\n",
       "  'note': None},\n",
       " {'url': 'https://aclanthology.org/2020.acl-srw.35',\n",
       "  'publisher': 'Association for Computational Linguistics',\n",
       "  'address': 'Online',\n",
       "  'year': 2020,\n",
       "  'month': 'July',\n",
       "  'editor': None,\n",
       "  'title': 'Logical Inferences with Comparatives and Generalized Quantifiers',\n",
       "  'ENTRYTYPE': 'inproceedings',\n",
       "  'ID': 'haruta-etal-2020-logical',\n",
       "  'pages': '263--270',\n",
       "  'booktitle': 'Proceedings of the 58th Annual Meeting of the Association for Computational Linguistics: Student Research Workshop',\n",
       "  'author': 'Haruta, Izumi  and\\nMineshima, Koji  and\\nBekki, Daisuke',\n",
       "  'abstract': 'Comparative constructions pose a challenge in Natural Language Inference (NLI), which is the task of determining whether a text entails a hypothesis. Comparatives are structurally complex in that they interact with other linguistic phenomena such as quantifiers, numerals, and lexical antonyms. In formal semantics, there is a rich body of work on comparatives and gradable expressions using the notion of degree. However, a logical inference system for comparatives has not been sufficiently developed for use in the NLI task. In this paper, we present a compositional semantics that maps various comparative constructions in English to semantic representations via Combinatory Categorial Grammar (CCG) parsers and combine it with an inference system based on automated theorem proving. We evaluate our system on three NLI datasets that contain complex logical inferences with comparatives, generalized quantifiers, and numerals. We show that the system outperforms previous logic-based systems as well as recent deep learning-based models.',\n",
       "  'doi': '10.18653/v1/2020.acl-srw.35',\n",
       "  'volume': None,\n",
       "  'journal': None,\n",
       "  'language': None,\n",
       "  'number': None,\n",
       "  'isbn': None,\n",
       "  'note': None},\n",
       " {'url': 'https://aclanthology.org/2020.acl-main.492',\n",
       "  'publisher': 'Association for Computational Linguistics',\n",
       "  'address': 'Online',\n",
       "  'year': 2020,\n",
       "  'month': 'July',\n",
       "  'editor': None,\n",
       "  'title': 'Explaining Black Box Predictions and Unveiling Data Artifacts through Influence Functions',\n",
       "  'ENTRYTYPE': 'inproceedings',\n",
       "  'ID': 'han-etal-2020-explaining',\n",
       "  'pages': '5553--5563',\n",
       "  'booktitle': 'Proceedings of the 58th Annual Meeting of the Association for Computational Linguistics',\n",
       "  'author': 'Han, Xiaochuang  and\\nWallace, Byron C.  and\\nTsvetkov, Yulia',\n",
       "  'abstract': \"Modern deep learning models for NLP are notoriously opaque. This has motivated the development of methods for interpreting such models, e.g., via gradient-based saliency maps or the visualization of attention weights. Such approaches aim to provide explanations for a particular model prediction by highlighting important words in the corresponding input text. While this might be useful for tasks where decisions are explicitly influenced by individual tokens in the input, we suspect that such highlighting is not suitable for tasks where model decisions should be driven by more complex reasoning. In this work, we investigate the use of influence functions for NLP, providing an alternative approach to interpreting neural text classifiers. Influence functions explain the decisions of a model by identifying influential training examples. Despite the promise of this approach, influence functions have not yet been extensively evaluated in the context of NLP, a gap addressed by this work. We conduct a comparison between influence functions and common word-saliency methods on representative tasks. As suspected, we find that influence functions are particularly useful for natural language inference, a task in which {`}saliency maps{'} may not have clear interpretation. Furthermore, we develop a new quantitative measure based on influence functions that can reveal artifacts in training data.\",\n",
       "  'doi': '10.18653/v1/2020.acl-main.492',\n",
       "  'volume': None,\n",
       "  'journal': None,\n",
       "  'language': None,\n",
       "  'number': None,\n",
       "  'isbn': None,\n",
       "  'note': None},\n",
       " {'url': 'https://aclanthology.org/W19-8714',\n",
       "  'publisher': 'Incoma Ltd., Shoumen, Bulgaria',\n",
       "  'address': 'Varna, Bulgaria',\n",
       "  'year': 2019,\n",
       "  'month': 'September',\n",
       "  'editor': None,\n",
       "  'title': 'Towards a Proactive {MWE} Terminological Platform for Cross-Lingual Mediation in the Age of Big Data',\n",
       "  'ENTRYTYPE': 'inproceedings',\n",
       "  'ID': 'tsou-etal-2019-towards',\n",
       "  'pages': '116--121',\n",
       "  'booktitle': 'Proceedings of the Human-Informed Translation and Interpreting Technology Workshop (HiT-IT 2019)',\n",
       "  'author': 'Tsou, Benjamin K.  and\\nChow, Kapo  and\\nNie, Junru  and\\nYuan, Yuan',\n",
       "  'abstract': \"The emergence of China as a global economic power in the 21st Century has brought about surging needs for cross-lingual and cross-cultural mediation, typically performed by translators. Advances in Artificial Intelligence and Language Engineering have been bolstered by Machine learning and suitable Big Data cultivation. They have helped to meet some of the translator{'}s needs, though the technical specialists have not kept pace with the practical and expanding requirements in language mediation. One major technical and linguistic hurdle involves words outside the vocabulary of the translator or the lexical database he/she consults, especially Multi-Word Expressions (Compound Words) in technical subjects. A further problem is in the multiplicity of renditions of a term in the target language. This paper discusses a proactive approach following the successful extraction and application of sizable bilingual Multi-Word Expressions (Compound Words) for language mediation in technical subjects, which do not fall within the expertise of typical translators, who have inadequate appreciation of the range of new technical tools available to help him/her. Our approach draws on the personal reflections of translators and teachers of translation and is based on the prior R{\\\\&}D efforts relating to 300,000 comparable Chinese-English patents. The subsequent protocol we have developed aims to be proactive in meeting four identified practical challenges in technical translation (e.g. patents). It has broader economic implication in the Age of Big Data (Tsou et al, 2015) and Trade War, as the workload, if not, the challenges, increasingly cannot be met by currently available front-line translators. We shall demonstrate how new tools can be harnessed to spearhead the application of language technology not only in language mediation but also in the {``}teaching{''} and {``}learning{''} of translation. It shows how a better appreciation of their needs may enhance the contributions of the technical specialists, and thus enhance the resultant synergetic benefits.\",\n",
       "  'doi': '10.26615/issn.2683-0078.2019_014',\n",
       "  'volume': None,\n",
       "  'journal': None,\n",
       "  'language': None,\n",
       "  'number': None,\n",
       "  'isbn': None,\n",
       "  'note': None},\n",
       " {'url': 'https://aclanthology.org/W19-3107',\n",
       "  'publisher': 'Association for Computational Linguistics',\n",
       "  'address': 'Dresden, Germany',\n",
       "  'year': 2019,\n",
       "  'month': 'September',\n",
       "  'editor': None,\n",
       "  'title': 'Finite State Transducer Calculus for Whole Word Morphology',\n",
       "  'ENTRYTYPE': 'inproceedings',\n",
       "  'ID': 'janicki-2019-finite',\n",
       "  'pages': '37--45',\n",
       "  'booktitle': 'Proceedings of the 14th International Conference on Finite-State Methods and Natural Language Processing',\n",
       "  'author': 'Janicki, Maciej',\n",
       "  'abstract': 'The research on machine learning of morphology often involves formulating morphological descriptions directly on surface forms of words. As the established two-level morphology paradigm requires the knowledge of the underlying structure, it is not widely used in such settings. In this paper, we propose a formalism describing structural relationships between words based on theories of morphology that reject the notions of internal word structure and morpheme. The formalism covers a wide variety of morphological phenomena (including non-concatenative ones like stem vowel alternation) without the need of workarounds and extensions. Furthermore, we show that morphological rules formulated in such way can be easily translated to FSTs, which enables us to derive performant approaches to morphological analysis, generation and automatic rule discovery.',\n",
       "  'doi': '10.18653/v1/W19-3107',\n",
       "  'volume': None,\n",
       "  'journal': None,\n",
       "  'language': None,\n",
       "  'number': None,\n",
       "  'isbn': None,\n",
       "  'note': None},\n",
       " {'url': 'https://aclanthology.org/W19-2402',\n",
       "  'publisher': 'Association for Computational Linguistics',\n",
       "  'address': 'Minneapolis, Minnesota',\n",
       "  'year': 2019,\n",
       "  'month': 'June',\n",
       "  'editor': None,\n",
       "  'title': 'Character Identification Refined: A Proposal',\n",
       "  'ENTRYTYPE': 'inproceedings',\n",
       "  'ID': 'jahan-finlayson-2019-character',\n",
       "  'pages': '12--18',\n",
       "  'booktitle': 'Proceedings of the First Workshop on Narrative Understanding',\n",
       "  'author': 'Jahan, Labiba  and\\nFinlayson, Mark',\n",
       "  'abstract': 'Characters are a key element of narrative and so character identification plays an important role in automatic narrative understanding. Unfortunately, most prior work that incorporates character identification is not built upon a clear, theoretically grounded concept of character. They either take character identification for granted (e.g., using simple heuristics on referring expressions), or rely on simplified definitions that do not capture important distinctions between characters and other referents in the story. Prior approaches have also been rather complicated, relying, for example, on predefined case bases or ontologies. In this paper we propose a narratologically grounded definition of character for discussion at the workshop, and also demonstrate a preliminary yet straightforward supervised machine learning model with a small set of features that performs well on two corpora. The most important of the two corpora is a set of 46 Russian folktales, on which the model achieves an F1 of 0.81. Error analysis suggests that features relevant to the plot will be necessary for further improvements in performance.',\n",
       "  'doi': '10.18653/v1/W19-2402',\n",
       "  'volume': None,\n",
       "  'journal': None,\n",
       "  'language': None,\n",
       "  'number': None,\n",
       "  'isbn': None,\n",
       "  'note': None},\n",
       " {'url': 'https://aclanthology.org/S19-2154',\n",
       "  'publisher': 'Association for Computational Linguistics',\n",
       "  'address': 'Minneapolis, Minnesota, USA',\n",
       "  'year': 2019,\n",
       "  'month': 'June',\n",
       "  'editor': None,\n",
       "  'title': '{A}i{F}u at {S}em{E}val-2019 Task 10: A Symbolic and Sub-symbolic Integrated System for {SAT} Math Question Answering',\n",
       "  'ENTRYTYPE': 'inproceedings',\n",
       "  'ID': 'liu-etal-2019-aifu',\n",
       "  'pages': '900--906',\n",
       "  'booktitle': 'Proceedings of the 13th International Workshop on Semantic Evaluation',\n",
       "  'author': 'Liu, Yifan  and\\nDing, Keyu  and\\nZhou, Yi',\n",
       "  'abstract': \"AiFu has won the first place in the SemEval-2019 Task 10 - {''}Math Question Answering{''}competition. This paper is to describe how it works technically and to report and analyze some essential experimental results\",\n",
       "  'doi': '10.18653/v1/S19-2154',\n",
       "  'volume': None,\n",
       "  'journal': None,\n",
       "  'language': None,\n",
       "  'number': None,\n",
       "  'isbn': None,\n",
       "  'note': None},\n",
       " {'url': 'https://aclanthology.org/R19-1076',\n",
       "  'publisher': 'INCOMA Ltd.',\n",
       "  'address': 'Varna, Bulgaria',\n",
       "  'year': 2019,\n",
       "  'month': 'September',\n",
       "  'editor': None,\n",
       "  'title': 'The Impact of Semantic Linguistic Features in Relation Extraction: A Logical Relational Learning Approach',\n",
       "  'ENTRYTYPE': 'inproceedings',\n",
       "  'ID': 'lima-etal-2019-impact',\n",
       "  'pages': '648--654',\n",
       "  'booktitle': 'Proceedings of the International Conference on Recent Advances in Natural Language Processing (RANLP 2019)',\n",
       "  'author': 'Lima, Rinaldo  and\\nEspinasse, Bernard  and\\nFreitas, Frederico',\n",
       "  'abstract': 'Relation Extraction (RE) consists in detecting and classifying semantic relations between entities in a sentence. The vast majority of the state-of-the-art RE systems relies on morphosyntactic features and supervised machine learning algorithms. This paper tries to answer important questions concerning both the impact of semantic based features, and the integration of external linguistic knowledge resources on RE performance. For that, a RE system based on a logical and relational learning algorithm was used and evaluated on three reference datasets from two distinct domains. The yielded results confirm that the classifiers induced using the proposed richer feature set outperformed the classifiers built with morphosyntactic features in average 4{\\\\%} (F1-measure).',\n",
       "  'doi': '10.26615/978-954-452-056-4_076',\n",
       "  'volume': None,\n",
       "  'journal': None,\n",
       "  'language': None,\n",
       "  'number': None,\n",
       "  'isbn': None,\n",
       "  'note': None},\n",
       " {'url': 'https://aclanthology.org/Q19-1012',\n",
       "  'publisher': 'MIT Press',\n",
       "  'address': 'Cambridge, MA',\n",
       "  'year': 2019,\n",
       "  'month': None,\n",
       "  'editor': None,\n",
       "  'title': 'Complex Program Induction for Querying Knowledge Bases in the Absence of Gold Programs',\n",
       "  'ENTRYTYPE': 'article',\n",
       "  'ID': 'saha-etal-2019-complex',\n",
       "  'pages': '185--200',\n",
       "  'booktitle': None,\n",
       "  'author': 'Saha, Amrita  and\\nAnsari, Ghulam Ahmed  and\\nLaddha, Abhishek  and\\nSankaranarayanan, Karthik  and\\nChakrabarti, Soumen',\n",
       "  'abstract': \"Recent years have seen increasingly complex question-answering on knowledge bases (KBQA) involving logical, quantitative, and comparative reasoning over KB subgraphs. Neural Program Induction (NPI) is a pragmatic approach toward modularizing the reasoning process by translating a complex natural language query into a multi-step executable program. While NPI has been commonly trained with the {`}{`}gold{'}{'} program or its sketch, for realistic KBQA applications such gold programs are expensive to obtain. There, practically only natural language queries and the corresponding answers can be provided for training. The resulting combinatorial explosion in program space, along with extremely sparse rewards, makes NPI for KBQA ambitious and challenging. We present Complex Imperative Program Induction from Terminal Rewards (CIPITR), an advanced neural programmer that mitigates reward sparsity with auxiliary rewards, and restricts the program space to semantically correct programs using high-level constraints, KB schema, and inferred answer type. CIPITR solves complex KBQA considerably more accurately than key-value memory networks and neural symbolic machines (NSM). For moderately complex queries requiring 2- to 5-step programs, CIPITR scores at least 3{\\\\mbox{$\\\\times$}} higher F1 than the competing systems. On one of the hardest class of programs (comparative reasoning) with 5{--}10 steps, CIPITR outperforms NSM by a factor of 89 and memory networks by 9 times.\",\n",
       "  'doi': '10.1162/tacl_a_00262',\n",
       "  'volume': 7.0,\n",
       "  'journal': 'Transactions of the Association for Computational Linguistics',\n",
       "  'language': None,\n",
       "  'number': None,\n",
       "  'isbn': None,\n",
       "  'note': None},\n",
       " {'url': 'https://aclanthology.org/Q19-1014',\n",
       "  'publisher': 'MIT Press',\n",
       "  'address': 'Cambridge, MA',\n",
       "  'year': 2019,\n",
       "  'month': None,\n",
       "  'editor': None,\n",
       "  'title': '{DREAM}: A Challenge Data Set and Models for Dialogue-Based Reading Comprehension',\n",
       "  'ENTRYTYPE': 'article',\n",
       "  'ID': 'sun-etal-2019-dream',\n",
       "  'pages': '217--231',\n",
       "  'booktitle': None,\n",
       "  'author': 'Sun, Kai  and\\nYu, Dian  and\\nChen, Jianshu  and\\nYu, Dong  and\\nChoi, Yejin  and\\nCardie, Claire',\n",
       "  'abstract': 'We present DREAM, the first dialogue-based multiple-choice reading comprehension data set. Collected from English as a Foreign Language examinations designed by human experts to evaluate the comprehension level of Chinese learners of English, our data set contains 10,197 multiple-choice questions for 6,444 dialogues. In contrast to existing reading comprehension data sets, DREAM is the first to focus on in-depth multi-turn multi-party dialogue understanding. DREAM is likely to present significant challenges for existing reading comprehension systems: 84{\\\\%} of answers are non-extractive, 85{\\\\%} of questions require reasoning beyond a single sentence, and 34{\\\\%} of questions also involve commonsense knowledge. We apply several popular neural reading comprehension models that primarily exploit surface information within the text and find them to, at best, just barely outperform a rule-based approach. We next investigate the effects of incorporating dialogue structure and different kinds of general world knowledge into both rule-based and (neural and non-neural) machine learning-based reading comprehension models. Experimental results on the DREAM data set show the effectiveness of dialogue structure and general world knowledge. DREAM is available at https://dataset.org/dream/.',\n",
       "  'doi': '10.1162/tacl_a_00264',\n",
       "  'volume': 7.0,\n",
       "  'journal': 'Transactions of the Association for Computational Linguistics',\n",
       "  'language': None,\n",
       "  'number': None,\n",
       "  'isbn': None,\n",
       "  'note': None},\n",
       " {'url': 'https://aclanthology.org/P19-3023',\n",
       "  'publisher': 'Association for Computational Linguistics',\n",
       "  'address': 'Florence, Italy',\n",
       "  'year': 2019,\n",
       "  'month': 'July',\n",
       "  'editor': None,\n",
       "  'title': '{HEIDL}: Learning Linguistic Expressions with Deep Learning and Human-in-the-Loop',\n",
       "  'ENTRYTYPE': 'inproceedings',\n",
       "  'ID': 'sen-etal-2019-heidl',\n",
       "  'pages': '135--140',\n",
       "  'booktitle': 'Proceedings of the 57th Annual Meeting of the Association for Computational Linguistics: System Demonstrations',\n",
       "  'author': 'Sen, Prithviraj  and\\nLi, Yunyao  and\\nKandogan, Eser  and\\nYang, Yiwei  and\\nLasecki, Walter',\n",
       "  'abstract': \"While the role of humans is increasingly recognized in machine learning community, representation of and interaction with models in current human-in-the-loop machine learning (HITL-ML) approaches are too low-level and far-removed from human{'}s conceptual models. We demonstrate HEIDL, a prototype HITL-ML system that exposes the machine-learned model through high-level, explainable linguistic expressions formed of predicates representing semantic structure of text. In HEIDL, human{'}s role is elevated from simply evaluating model predictions to interpreting and even updating the model logic directly by enabling interaction with rule predicates themselves. Raising the currency of interaction to such semantic levels calls for new interaction paradigms between humans and machines that result in improved productivity for text analytics model development process. Moreover, by involving humans in the process, the human-machine co-created models generalize better to unseen data as domain experts are able to instill their expertise by extrapolating from what has been learned by automated algorithms from few labelled data.\",\n",
       "  'doi': '10.18653/v1/P19-3023',\n",
       "  'volume': None,\n",
       "  'journal': None,\n",
       "  'language': None,\n",
       "  'number': None,\n",
       "  'isbn': None,\n",
       "  'note': None},\n",
       " {'url': 'https://aclanthology.org/P19-1026',\n",
       "  'publisher': 'Association for Computational Linguistics',\n",
       "  'address': 'Florence, Italy',\n",
       "  'year': 2019,\n",
       "  'month': 'July',\n",
       "  'editor': None,\n",
       "  'title': 'Relation Embedding with Dihedral Group in Knowledge Graph',\n",
       "  'ENTRYTYPE': 'inproceedings',\n",
       "  'ID': 'xu-li-2019-relation',\n",
       "  'pages': '263--272',\n",
       "  'booktitle': 'Proceedings of the 57th Annual Meeting of the Association for Computational Linguistics',\n",
       "  'author': 'Xu, Canran  and\\nLi, Ruijiang',\n",
       "  'abstract': 'Link prediction is critical for the application of incomplete knowledge graph (KG) in the downstream tasks. As a family of effective approaches for link predictions, embedding methods try to learn low-rank representations for both entities and relations such that the bilinear form defined therein is a well-behaved scoring function. Despite of their successful performances, existing bilinear forms overlook the modeling of relation compositions, resulting in lacks of interpretability for reasoning on KG. To fulfill this gap, we propose a new model called DihEdral, named after dihedral symmetry group. This new model learns knowledge graph embeddings that can capture relation compositions by nature. Furthermore, our approach models the relation embeddings parametrized by discrete values, thereby decrease the solution space drastically. Our experiments show that DihEdral is able to capture all desired properties such as (skew-) symmetry, inversion and (non-) Abelian composition, and outperforms existing bilinear form based approach and is comparable to or better than deep learning models such as ConvE.',\n",
       "  'doi': '10.18653/v1/P19-1026',\n",
       "  'volume': None,\n",
       "  'journal': None,\n",
       "  'language': None,\n",
       "  'number': None,\n",
       "  'isbn': None,\n",
       "  'note': None},\n",
       " {'url': 'https://aclanthology.org/P19-1172',\n",
       "  'publisher': 'Association for Computational Linguistics',\n",
       "  'address': 'Florence, Italy',\n",
       "  'year': 2019,\n",
       "  'month': 'July',\n",
       "  'editor': None,\n",
       "  'title': 'Learning Morphosyntactic Analyzers from the {B}ible via Iterative Annotation Projection across 26 Languages',\n",
       "  'ENTRYTYPE': 'inproceedings',\n",
       "  'ID': 'nicolai-yarowsky-2019-learning',\n",
       "  'pages': '1765--1774',\n",
       "  'booktitle': 'Proceedings of the 57th Annual Meeting of the Association for Computational Linguistics',\n",
       "  'author': 'Nicolai, Garrett  and\\nYarowsky, David',\n",
       "  'abstract': \"A large percentage of computational tools are concentrated in a very small subset of the planet{'}s languages. Compounding the issue, many languages lack the high-quality linguistic annotation necessary for the construction of such tools with current machine learning methods. In this paper, we address both issues simultaneously: leveraging the high accuracy of English taggers and parsers, we project morphological information onto translations of the Bible in 26 varied test languages. Using an iterative discovery, constraint, and training process, we build inflectional lexica in the target languages. Through a combination of iteration, ensembling, and reranking, we see double-digit relative error reductions in lemmatization and morphological analysis over a strong initial system.\",\n",
       "  'doi': '10.18653/v1/P19-1172',\n",
       "  'volume': None,\n",
       "  'journal': None,\n",
       "  'language': None,\n",
       "  'number': None,\n",
       "  'isbn': None,\n",
       "  'note': None},\n",
       " {'url': 'https://aclanthology.org/P19-1283',\n",
       "  'publisher': 'Association for Computational Linguistics',\n",
       "  'address': 'Florence, Italy',\n",
       "  'year': 2019,\n",
       "  'month': 'July',\n",
       "  'editor': None,\n",
       "  'title': 'Correlating Neural and Symbolic Representations of Language',\n",
       "  'ENTRYTYPE': 'inproceedings',\n",
       "  'ID': 'chrupala-alishahi-2019-correlating',\n",
       "  'pages': '2952--2962',\n",
       "  'booktitle': 'Proceedings of the 57th Annual Meeting of the Association for Computational Linguistics',\n",
       "  'author': 'Chrupa{\\\\l}a, Grzegorz  and\\nAlishahi, Afra',\n",
       "  'abstract': 'Analysis methods which enable us to better understand the representations and functioning of neural models of language are increasingly needed as deep learning becomes the dominant approach in NLP. Here we present two methods based on Representational Similarity Analysis (RSA) and Tree Kernels (TK) which allow us to directly quantify how strongly the information encoded in neural activation patterns corresponds to information represented by symbolic structures such as syntax trees. We first validate our methods on the case of a simple synthetic language for arithmetic expressions with clearly defined syntax and semantics, and show that they exhibit the expected pattern of results. We then our methods to correlate neural representations of English sentences with their constituency parse trees.',\n",
       "  'doi': '10.18653/v1/P19-1283',\n",
       "  'volume': None,\n",
       "  'journal': None,\n",
       "  'language': None,\n",
       "  'number': None,\n",
       "  'isbn': None,\n",
       "  'note': None},\n",
       " {'url': 'https://aclanthology.org/J19-2001',\n",
       "  'publisher': 'MIT Press',\n",
       "  'address': 'Cambridge, MA',\n",
       "  'year': 2019,\n",
       "  'month': 'June',\n",
       "  'editor': None,\n",
       "  'title': '{B}ayesian Learning of Latent Representations of Language Structures',\n",
       "  'ENTRYTYPE': 'article',\n",
       "  'ID': 'murawaki-2019-bayesian',\n",
       "  'pages': '199--228',\n",
       "  'booktitle': None,\n",
       "  'author': 'Murawaki, Yugo',\n",
       "  'abstract': 'We borrow the concept of representation learning from deep learning research, and we argue that the quest for Greenbergian implicational universals can be reformulated as the learning of good latent representations of languages, or sequences of surface typological features. By projecting languages into latent representations and performing inference in the latent space, we can handle complex dependencies among features in an implicit manner. The most challenging problem in turning the idea into a concrete computational model is the alarmingly large number of missing values in existing typological databases. To address this problem, we keep the number of model parameters relatively small to avoid overfitting, adopt the Bayesian learning framework for its robustness, and exploit phylogenetically and/or spatially related languages as additional clues. Experiments show that the proposed model recovers missing values more accurately than others and that some latent variables exhibit phylogenetic and spatial signals comparable to those of surface features.',\n",
       "  'doi': '10.1162/coli_a_00346',\n",
       "  'volume': 45.0,\n",
       "  'journal': 'Computational Linguistics',\n",
       "  'language': None,\n",
       "  'number': 2.0,\n",
       "  'isbn': None,\n",
       "  'note': None},\n",
       " {'url': 'https://aclanthology.org/D19-6003',\n",
       "  'publisher': 'Association for Computational Linguistics',\n",
       "  'address': 'Hong Kong, China',\n",
       "  'year': 2019,\n",
       "  'month': 'November',\n",
       "  'editor': None,\n",
       "  'title': 'Towards Generalizable Neuro-Symbolic Systems for Commonsense Question Answering',\n",
       "  'ENTRYTYPE': 'inproceedings',\n",
       "  'ID': 'ma-etal-2019-towards',\n",
       "  'pages': '22--32',\n",
       "  'booktitle': 'Proceedings of the First Workshop on Commonsense Inference in Natural Language Processing',\n",
       "  'author': 'Ma, Kaixin  and\\nFrancis, Jonathan  and\\nLu, Quanyang  and\\nNyberg, Eric  and\\nOltramari, Alessandro',\n",
       "  'abstract': 'Non-extractive commonsense QA remains a challenging AI task, as it requires systems to reason about, synthesize, and gather disparate pieces of information, in order to generate responses to queries. Recent approaches on such tasks show increased performance, only when models are either pre-trained with additional information or when domain-specific heuristics are used, without any special consideration regarding the knowledge resource type. In this paper, we perform a survey of recent commonsense QA methods and we provide a systematic analysis of popular knowledge resources and knowledge-integration methods, across benchmarks from multiple commonsense datasets. Our results and analysis show that attention-based injection seems to be a preferable choice for knowledge integration and that the degree of domain overlap, between knowledge bases and datasets, plays a crucial role in determining model success.',\n",
       "  'doi': '10.18653/v1/D19-6003',\n",
       "  'volume': None,\n",
       "  'journal': None,\n",
       "  'language': None,\n",
       "  'number': None,\n",
       "  'isbn': None,\n",
       "  'note': None},\n",
       " {'url': 'https://aclanthology.org/D19-5707',\n",
       "  'publisher': 'Association for Computational Linguistics',\n",
       "  'address': 'Hong Kong, China',\n",
       "  'year': 2019,\n",
       "  'month': 'November',\n",
       "  'editor': None,\n",
       "  'title': 'Deep neural model with enhanced embeddings for pharmaceutical and chemical entities recognition in {S}panish clinical text',\n",
       "  'ENTRYTYPE': 'inproceedings',\n",
       "  'ID': 'rivera-martinez-2019-deep',\n",
       "  'pages': '38--46',\n",
       "  'booktitle': 'Proceedings of The 5th Workshop on BioNLP Open Shared Tasks',\n",
       "  'author': \"Rivera, Renzo  and\\nMart{\\\\'\\\\i}nez, Paloma\",\n",
       "  'abstract': 'In this work, we introduce a Deep Learning architecture for pharmaceutical and chemical Named Entity Recognition in Spanish clinical cases texts. We propose a hybrid model approach based on two Bidirectional Long Short-Term Memory (Bi-LSTM) network and Conditional Random Field (CRF) network using character, word, concept and sense embeddings to deal with the extraction of semantic, syntactic and morphological features. The approach was evaluated on the PharmaCoNER Corpus obtaining an F-measure of 85.24{\\\\%} for subtask 1 and 49.36{\\\\%} for subtask2. These results prove that deep learning methods with specific domain embedding representations can outperform the state-of-the-art approaches.',\n",
       "  'doi': '10.18653/v1/D19-5707',\n",
       "  'volume': None,\n",
       "  'journal': None,\n",
       "  'language': None,\n",
       "  'number': None,\n",
       "  'isbn': None,\n",
       "  'note': None},\n",
       " {'url': 'https://aclanthology.org/D19-5312',\n",
       "  'publisher': 'Association for Computational Linguistics',\n",
       "  'address': 'Hong Kong',\n",
       "  'year': 2019,\n",
       "  'month': 'November',\n",
       "  'editor': None,\n",
       "  'title': 'Team {SVM}rank: Leveraging Feature-rich Support Vector Machines for Ranking Explanations to Elementary Science Questions',\n",
       "  'ENTRYTYPE': 'inproceedings',\n",
       "  'ID': 'dsouza-etal-2019-team',\n",
       "  'pages': '90--100',\n",
       "  'booktitle': 'Proceedings of the Thirteenth Workshop on Graph-Based Methods for Natural Language Processing (TextGraphs-13)',\n",
       "  'author': 'D{\\'}Souza, Jennifer  and\\nMulang{\\'}, Isaiah Onando  and\\nAuer, S{\\\\\"o}ren',\n",
       "  'abstract': 'The TextGraphs 2019 Shared Task on Multi-Hop Inference for Explanation Regeneration (MIER-19) tackles explanation generation for answers to elementary science questions. It builds on the AI2 Reasoning Challenge 2018 (ARC-18) which was organized as an advanced question answering task on a dataset of elementary science questions. The ARC-18 questions were shown to be hard to answer with systems focusing on surface-level cues alone, instead requiring far more powerful knowledge and reasoning. To address MIER-19, we adopt a hybrid pipelined architecture comprising a featurerich learning-to-rank (LTR) machine learning model, followed by a rule-based system for reranking the LTR model predictions. Our system was ranked fourth in the official evaluation, scoring close to the second and third ranked teams, achieving 39.4{\\\\%} MAP.',\n",
       "  'doi': '10.18653/v1/D19-5312',\n",
       "  'volume': None,\n",
       "  'journal': None,\n",
       "  'language': None,\n",
       "  'number': None,\n",
       "  'isbn': None,\n",
       "  'note': None},\n",
       " {'url': 'https://aclanthology.org/D19-5319',\n",
       "  'publisher': 'Association for Computational Linguistics',\n",
       "  'address': 'Hong Kong',\n",
       "  'year': 2019,\n",
       "  'month': 'November',\n",
       "  'editor': None,\n",
       "  'title': 'Graph Enhanced Cross-Domain Text-to-{SQL} Generation',\n",
       "  'ENTRYTYPE': 'inproceedings',\n",
       "  'ID': 'huo-etal-2019-graph',\n",
       "  'pages': '159--163',\n",
       "  'booktitle': 'Proceedings of the Thirteenth Workshop on Graph-Based Methods for Natural Language Processing (TextGraphs-13)',\n",
       "  'author': 'Huo, Siyu  and\\nMa, Tengfei  and\\nChen, Jie  and\\nChang, Maria  and\\nWu, Lingfei  and\\nWitbrock, Michael',\n",
       "  'abstract': 'Semantic parsing is a fundamental problem in natural language understanding, as it involves the mapping of natural language to structured forms such as executable queries or logic-like knowledge representations. Existing deep learning approaches for semantic parsing have shown promise on a variety of benchmark data sets, particularly on text-to-SQL parsing. However, most text-to-SQL parsers do not generalize to unseen data sets in different domains. In this paper, we propose a new cross-domain learning scheme to perform text-to-SQL translation and demonstrate its use on Spider, a large-scale cross-domain text-to-SQL data set. We improve upon a state-of-the-art Spider model, SyntaxSQLNet, by constructing a graph of column names for all databases and using graph neural networks to compute their embeddings. The resulting embeddings offer better cross-domain representations and SQL queries, as evidenced by substantial improvement on the Spider data set compared to SyntaxSQLNet.',\n",
       "  'doi': '10.18653/v1/D19-5319',\n",
       "  'volume': None,\n",
       "  'journal': None,\n",
       "  'language': None,\n",
       "  'number': None,\n",
       "  'isbn': None,\n",
       "  'note': None}]"
      ]
     },
     "execution_count": 58,
     "metadata": {},
     "output_type": "execute_result"
    }
   ],
   "source": [
    "\n",
    "json.loads(ndf.to_json(orient='records'))"
   ]
  },
  {
   "cell_type": "code",
   "execution_count": 50,
   "metadata": {},
   "outputs": [],
   "source": []
  },
  {
   "cell_type": "code",
   "execution_count": 50,
   "metadata": {},
   "outputs": [],
   "source": []
  },
  {
   "attachments": {
    "a3a0b097-35fd-4151-a46c-d27dfedcecf6.png": {
     "image/png": "[encoded data removed]"
    }
   },
   "cell_type": "markdown",
   "metadata": {},
   "source": [
    "# NOTE\n",
    "This search strategy returns results like: \n",
    "\n",
    "![image.png](attachment:a3a0b097-35fd-4151-a46c-d27dfedcecf6.png)\n",
    "\n",
    "So off the bat, some of the results will not be relevant to our review"
   ]
  },
  {
   "cell_type": "code",
   "execution_count": null,
   "metadata": {},
   "outputs": [],
   "source": []
  },
  {
   "cell_type": "markdown",
   "metadata": {},
   "source": [
    "# Get wrod clouds by decade"
   ]
  },
  {
   "cell_type": "code",
   "execution_count": 2,
   "metadata": {},
   "outputs": [
    {
     "name": "stderr",
     "output_type": "stream",
     "text": [
      "/Users/kylehamilton/anaconda3/lib/python3.7/site-packages/IPython/core/interactiveshell.py:3186: DtypeWarning: Columns (14,17,19) have mixed types.Specify dtype option on import or set low_memory=False.\n",
      "  interactivity=interactivity, compiler=compiler, result=result)\n"
     ]
    }
   ],
   "source": [
    "df = pd.read_csv('../../ACL/anthology+abstracts.csv')"
   ]
  },
  {
   "cell_type": "code",
   "execution_count": 3,
   "metadata": {},
   "outputs": [
    {
     "data": {
      "text/plain": [
       "Index(['url', 'publisher', 'address', 'year', 'month', 'editor', 'title',\n",
       "       'ENTRYTYPE', 'ID', 'pages', 'booktitle', 'author', 'abstract', 'doi',\n",
       "       'volume', 'journal', 'language', 'number', 'isbn', 'note'],\n",
       "      dtype='object')"
      ]
     },
     "execution_count": 3,
     "metadata": {},
     "output_type": "execute_result"
    }
   ],
   "source": [
    "df.columns"
   ]
  },
  {
   "cell_type": "code",
   "execution_count": 61,
   "metadata": {},
   "outputs": [],
   "source": [
    "dft = df[['abstract','year']]"
   ]
  },
  {
   "cell_type": "code",
   "execution_count": 14,
   "metadata": {},
   "outputs": [
    {
     "name": "stderr",
     "output_type": "stream",
     "text": [
      "/Users/kylehamilton/anaconda3/lib/python3.7/site-packages/ipykernel_launcher.py:1: SettingWithCopyWarning: \n",
      "A value is trying to be set on a copy of a slice from a DataFrame.\n",
      "Try using .loc[row_indexer,col_indexer] = value instead\n",
      "\n",
      "See the caveats in the documentation: https://pandas.pydata.org/pandas-docs/stable/user_guide/indexing.html#returning-a-view-versus-a-copy\n",
      "  \"\"\"Entry point for launching an IPython kernel.\n"
     ]
    }
   ],
   "source": [
    "# dft['text'] = dft['title'].astype(str) +\" \"+ dft['abstract'].astype(str)"
   ]
  },
  {
   "cell_type": "code",
   "execution_count": 16,
   "metadata": {},
   "outputs": [],
   "source": []
  },
  {
   "cell_type": "code",
   "execution_count": 32,
   "metadata": {},
   "outputs": [
    {
     "data": {
      "text/plain": [
       "(array([   63.,   189.,   234.,   467.,  1451.,  3142.,  5268., 10128.,\n",
       "        19497., 34146.]),\n",
       " array([1952., 1959., 1966., 1973., 1980., 1987., 1994., 2001., 2008.,\n",
       "        2015., 2022.]),\n",
       " <BarContainer object of 10 artists>)"
      ]
     },
     "execution_count": 32,
     "metadata": {},
     "output_type": "execute_result"
    }
   ],
   "source": [
    "import matplotlib.pyplot as plt\n",
    "plt.hist(dft['year'])"
   ]
  },
  {
   "cell_type": "code",
   "execution_count": 33,
   "metadata": {},
   "outputs": [
    {
     "data": {
      "image/png": "[encoded data removed]",
      "text/plain": [
       "<Figure size 640x480 with 1 Axes>"
      ]
     },
     "metadata": {},
     "output_type": "display_data"
    }
   ],
   "source": [
    "plt.show()"
   ]
  },
  {
   "cell_type": "code",
   "execution_count": 34,
   "metadata": {
    "collapsed": true,
    "jupyter": {
     "outputs_hidden": true
    }
   },
   "outputs": [
    {
     "data": {
      "text/html": [
       "<div>\n",
       "<style scoped>\n",
       "    .dataframe tbody tr th:only-of-type {\n",
       "        vertical-align: middle;\n",
       "    }\n",
       "\n",
       "    .dataframe tbody tr th {\n",
       "        vertical-align: top;\n",
       "    }\n",
       "\n",
       "    .dataframe thead th {\n",
       "        text-align: right;\n",
       "    }\n",
       "</style>\n",
       "<table border=\"1\" class=\"dataframe\">\n",
       "  <thead>\n",
       "    <tr style=\"text-align: right;\">\n",
       "      <th></th>\n",
       "      <th>year</th>\n",
       "      <th>text</th>\n",
       "    </tr>\n",
       "  </thead>\n",
       "  <tbody>\n",
       "    <tr>\n",
       "      <th>0</th>\n",
       "      <td>1952</td>\n",
       "      <td>26</td>\n",
       "    </tr>\n",
       "    <tr>\n",
       "      <th>1</th>\n",
       "      <td>1956</td>\n",
       "      <td>11</td>\n",
       "    </tr>\n",
       "    <tr>\n",
       "      <th>2</th>\n",
       "      <td>1957</td>\n",
       "      <td>26</td>\n",
       "    </tr>\n",
       "    <tr>\n",
       "      <th>3</th>\n",
       "      <td>1960</td>\n",
       "      <td>81</td>\n",
       "    </tr>\n",
       "    <tr>\n",
       "      <th>4</th>\n",
       "      <td>1961</td>\n",
       "      <td>39</td>\n",
       "    </tr>\n",
       "    <tr>\n",
       "      <th>...</th>\n",
       "      <td>...</td>\n",
       "      <td>...</td>\n",
       "    </tr>\n",
       "    <tr>\n",
       "      <th>56</th>\n",
       "      <td>2018</td>\n",
       "      <td>4626</td>\n",
       "    </tr>\n",
       "    <tr>\n",
       "      <th>57</th>\n",
       "      <td>2019</td>\n",
       "      <td>4980</td>\n",
       "    </tr>\n",
       "    <tr>\n",
       "      <th>58</th>\n",
       "      <td>2020</td>\n",
       "      <td>7139</td>\n",
       "    </tr>\n",
       "    <tr>\n",
       "      <th>59</th>\n",
       "      <td>2021</td>\n",
       "      <td>6869</td>\n",
       "    </tr>\n",
       "    <tr>\n",
       "      <th>60</th>\n",
       "      <td>2022</td>\n",
       "      <td>34</td>\n",
       "    </tr>\n",
       "  </tbody>\n",
       "</table>\n",
       "<p>61 rows × 2 columns</p>\n",
       "</div>"
      ],
      "text/plain": [
       "    year  text\n",
       "0   1952    26\n",
       "1   1956    11\n",
       "2   1957    26\n",
       "3   1960    81\n",
       "4   1961    39\n",
       "..   ...   ...\n",
       "56  2018  4626\n",
       "57  2019  4980\n",
       "58  2020  7139\n",
       "59  2021  6869\n",
       "60  2022    34\n",
       "\n",
       "[61 rows x 2 columns]"
      ]
     },
     "execution_count": 34,
     "metadata": {},
     "output_type": "execute_result"
    }
   ],
   "source": [
    "dft.groupby('year').count().reset_index()"
   ]
  },
  {
   "cell_type": "code",
   "execution_count": null,
   "metadata": {},
   "outputs": [],
   "source": []
  },
  {
   "cell_type": "code",
   "execution_count": 6,
   "metadata": {},
   "outputs": [],
   "source": [
    "# some_file.py\n",
    "import sys\n",
    "# insert at 1, 0 is the script path (or '' in REPL)\n",
    "sys.path.insert(1, '../')\n",
    "\n",
    "# import file"
   ]
  },
  {
   "cell_type": "code",
   "execution_count": 35,
   "metadata": {},
   "outputs": [
    {
     "data": {
      "text/plain": [
       "<module 'utils' from '/Users/kylehamilton/MyDocuments/ML-Labs/neuro-symbolic-AI/neuro-symbolic-ai-systematic-review/Working-Files/utils.py'>"
      ]
     },
     "execution_count": 35,
     "metadata": {},
     "output_type": "execute_result"
    }
   ],
   "source": [
    "%matplotlib inline \n",
    "import matplotlib.pyplot as plt\n",
    "import pandas as pd\n",
    "pd.set_option('display.max_colwidth', None)\n",
    "import numpy as np\n",
    "from wordcloud import WordCloud\n",
    "import utils\n",
    "import umap\n",
    "import hdbscan\n",
    "import importlib\n",
    "importlib.reload(utils)"
   ]
  },
  {
   "cell_type": "code",
   "execution_count": 63,
   "metadata": {},
   "outputs": [
    {
     "name": "stdout",
     "output_type": "stream",
     "text": [
      "defaultdict(<class 'str'>, {'nan': 1.0})\n"
     ]
    },
    {
     "data": {
      "text/plain": [
       "<matplotlib.image.AxesImage at 0x7f957c9fe3c8>"
      ]
     },
     "execution_count": 63,
     "metadata": {},
     "output_type": "execute_result"
    },
    {
     "data": {
      "image/png": "[encoded data removed]",
      "text/plain": [
       "<Figure size 360x720 with 1 Axes>"
      ]
     },
     "metadata": {
      "needs_background": "light"
     },
     "output_type": "display_data"
    }
   ],
   "source": [
    "ap=dft[(dft['year']<1960)]\n",
    "a_abstracts=list(ap['abstract'].astype(str))\n",
    "text=utils.getTFIDF(a_abstracts,top_n=100,mindf=0.1,maxdf=5.0)\n",
    "print(text)\n",
    "utils.drawCloud(text,max_words=100,figsize=(5,10),raw=False, title=\"1950s\\n----------\\n\",save=True,path='images/1950.svg')"
   ]
  },
  {
   "cell_type": "code",
   "execution_count": 65,
   "metadata": {},
   "outputs": [
    {
     "name": "stdout",
     "output_type": "stream",
     "text": [
      "defaultdict(<class 'str'>, {'nan': 1.0})\n"
     ]
    },
    {
     "data": {
      "text/plain": [
       "<matplotlib.image.AxesImage at 0x7f9535688470>"
      ]
     },
     "execution_count": 65,
     "metadata": {},
     "output_type": "execute_result"
    },
    {
     "data": {
      "image/png": "[encoded data removed]",
      "text/plain": [
       "<Figure size 360x720 with 1 Axes>"
      ]
     },
     "metadata": {
      "needs_background": "light"
     },
     "output_type": "display_data"
    }
   ],
   "source": [
    "ap=dft[(dft['year']>=1960)&(dft['year']<1970)]\n",
    "a_abstracts=list(ap['abstract'].astype(str))\n",
    "text=utils.getTFIDF(a_abstracts,top_n=100,mindf=0.1,maxdf=1.0)\n",
    "print(text)\n",
    "utils.drawCloud(text,max_words=100,figsize=(5,10),raw=False, title=\"1960s\\n----------\\n\",save=True,path='images/1960.svg')"
   ]
  },
  {
   "cell_type": "code",
   "execution_count": 66,
   "metadata": {},
   "outputs": [
    {
     "name": "stdout",
     "output_type": "stream",
     "text": [
      "defaultdict(<class 'str'>, {'nan': 1.0, 'officers': 0.0, 'personal': 0.0, 'institute': 0.0, 'ashington': 0.0, 'literary': 0.0, 'information': 0.0, 'linguistic': 0.0, 'jr': 0.0, 'acm': 0.0, 'donald walker': 0.0, 'papers': 0.0, 'international': 0.0, 'indexing': 0.0, 'project': 0.0, 'james': 0.0, 'seminar': 0.0, 'science': 0.0, 'language': 0.0, 'association': 0.0, 'report': 0.0, 'nsf': 0.0, 'asis': 0.0, 'new': 0.0, '1977': 0.0, 'ashington report': 0.0, 'mt': 0.0, 'acl': 0.0, 'new journal': 0.0, 'coling': 0.0, 'ajcl': 0.0, '76': 0.0, 'bibliography': 0.0, 'journal': 0.0, 'john': 0.0, '1978': 0.0, 'afips ashington': 0.0, 'data': 0.0, 'research': 0.0, 'processing': 0.0, 'congress': 0.0, 'annual': 0.0, 'computer conference': 0.0, 'computer': 0.0, 'conferences': 0.0, 'program': 0.0, 'walker': 0.0, '1976': 0.0, 'notes': 0.0, 'dr': 0.0, 'systems': 0.0, 'conference': 0.0, 'nfais': 0.0, 'current bibliography': 0.0, 'linguistics': 0.0, 'national': 0.0, 'afips': 0.0, 'semantics': 0.0, 'personal notes': 0.0, 'robert': 0.0, 'current': 0.0, 'afips ashington report': 0.0, 'computing': 0.0, 'computational': 0.0, 'richard': 0.0, 'meeting': 0.0, 'donald': 0.0})\n"
     ]
    },
    {
     "data": {
      "text/plain": [
       "<matplotlib.image.AxesImage at 0x7f9559140748>"
      ]
     },
     "execution_count": 66,
     "metadata": {},
     "output_type": "execute_result"
    },
    {
     "data": {
      "image/png": "[encoded data removed]",
      "text/plain": [
       "<Figure size 360x720 with 1 Axes>"
      ]
     },
     "metadata": {
      "needs_background": "light"
     },
     "output_type": "display_data"
    }
   ],
   "source": [
    "ap=dft[(dft['year']>=1970)&(dft['year']<1980)]\n",
    "a_abstracts=list(ap['abstract'].astype(str))\n",
    "text=utils.getTFIDF(a_abstracts,top_n=100,mindf=0.01,maxdf=5.0)\n",
    "print(text)\n",
    "utils.drawCloud(text,max_words=100,figsize=(5,10),raw=False, title=\"1970s\\n----------\\n\",save=True,path='images/1970.svg')"
   ]
  },
  {
   "cell_type": "code",
   "execution_count": 67,
   "metadata": {},
   "outputs": [
    {
     "name": "stdout",
     "output_type": "stream",
     "text": [
      "defaultdict(<class 'str'>, {'nan': 1.0, 'like': 0.0, 'order': 0.0, 'instead': 0.0, 'information': 0.0, 'classifier': 0.0, 'evaluating': 0.0, 'usually': 0.0, 'extraction': 0.0, 'conversations': 0.0, 'pair': 0.0, 'space': 0.0, 'applications': 0.0, 'short': 0.0, 'training data': 0.0, 'real world': 0.0, 'alignment': 0.0, 'presents': 0.0, 'complexity': 0.0, 'language pairs': 0.0, 'detection': 0.0, 'syntactic': 0.0, 'predict': 0.0, 'achieve': 0.0, 'way': 0.0, 'learn': 0.0, 'improve': 0.0, 'performs': 0.0, 'dans': 0.0, 'proposed method': 0.0, 'designed': 0.0, 'paper propose': 0.0, 'users': 0.0, 'evaluation': 0.0, 'error': 0.0, 'extend': 0.0, 'unsupervised': 0.0, 'incorporating': 0.0, 'contextual': 0.0, 'detecting': 0.0, 'rules': 0.0, 'comprehensive': 0.0, 'language': 0.0, 'challenges': 0.0, 'outperform': 0.0, 'approaches': 0.0, 'second': 0.0, 'additional': 0.0, 'conversation': 0.0, 'test': 0.0, 'real': 0.0, 'languages': 0.0, 'useful': 0.0, 'inter': 0.0, 'contrast': 0.0, 'encoder decoder': 0.0, 'version': 0.0, 'performing': 0.0, 'release': 0.0, 'instances': 0.0, 'aim': 0.0, 'comparing': 0.0, 'describes': 0.0, 'decoding': 0.0, 'challenging': 0.0, 'domain': 0.0, 'generates': 0.0, 'measure': 0.0, 'post': 0.0, 'practical': 0.0, 'evaluations': 0.0, 'graphs': 0.0, 'art performance': 0.0, 'global': 0.0, 'source': 0.0, 'able': 0.0, 'state art performance': 0.0, 'representations': 0.0, 'open': 0.0, 'machine translation': 0.0, 'image': 0.0, 'focuses': 0.0, 'labels': 0.0, 'widely': 0.0, 'modern': 0.0, 'structures': 0.0, 'used': 0.0, 'improve performance': 0.0, 'rule': 0.0, 'points': 0.0, 'human evaluation': 0.0, 'includes': 0.0, 'modeling': 0.0, 'impact': 0.0, 'random': 0.0, 'results': 0.0, 'rely': 0.0, 'graph': 0.0, 'using': 0.0, 'external': 0.0})\n"
     ]
    },
    {
     "data": {
      "text/plain": [
       "<matplotlib.image.AxesImage at 0x7f952d6f4b70>"
      ]
     },
     "execution_count": 67,
     "metadata": {},
     "output_type": "execute_result"
    },
    {
     "data": {
      "image/png": "[encoded data removed]",
      "text/plain": [
       "<Figure size 360x720 with 1 Axes>"
      ]
     },
     "metadata": {
      "needs_background": "light"
     },
     "output_type": "display_data"
    }
   ],
   "source": [
    "ap=dft[(dft['year']>=2010)&(dft['year']<2023)]\n",
    "a_abstracts=list(ap['abstract'].astype(str))\n",
    "text=utils.getTFIDF(a_abstracts,top_n=100,mindf=0.01,maxdf=5.0)\n",
    "print(text)\n",
    "utils.drawCloud(text,max_words=100,figsize=(5,10),raw=False, title=\"1970s\\n----------\\n\",save=True,path='images/2010.svg')"
   ]
  },
  {
   "cell_type": "code",
   "execution_count": 68,
   "metadata": {},
   "outputs": [
    {
     "data": {
      "text/plain": [
       "defaultdict(str,\n",
       "            {'nan': 1.0,\n",
       "             'like': 0.0,\n",
       "             'order': 0.0,\n",
       "             'instead': 0.0,\n",
       "             'information': 0.0,\n",
       "             'classifier': 0.0,\n",
       "             'evaluating': 0.0,\n",
       "             'usually': 0.0,\n",
       "             'extraction': 0.0,\n",
       "             'conversations': 0.0,\n",
       "             'pair': 0.0,\n",
       "             'space': 0.0,\n",
       "             'applications': 0.0,\n",
       "             'short': 0.0,\n",
       "             'training data': 0.0,\n",
       "             'real world': 0.0,\n",
       "             'alignment': 0.0,\n",
       "             'presents': 0.0,\n",
       "             'complexity': 0.0,\n",
       "             'language pairs': 0.0,\n",
       "             'detection': 0.0,\n",
       "             'syntactic': 0.0,\n",
       "             'predict': 0.0,\n",
       "             'achieve': 0.0,\n",
       "             'way': 0.0,\n",
       "             'learn': 0.0,\n",
       "             'improve': 0.0,\n",
       "             'performs': 0.0,\n",
       "             'dans': 0.0,\n",
       "             'proposed method': 0.0,\n",
       "             'designed': 0.0,\n",
       "             'paper propose': 0.0,\n",
       "             'users': 0.0,\n",
       "             'evaluation': 0.0,\n",
       "             'error': 0.0,\n",
       "             'extend': 0.0,\n",
       "             'unsupervised': 0.0,\n",
       "             'incorporating': 0.0,\n",
       "             'contextual': 0.0,\n",
       "             'detecting': 0.0,\n",
       "             'rules': 0.0,\n",
       "             'comprehensive': 0.0,\n",
       "             'language': 0.0,\n",
       "             'challenges': 0.0,\n",
       "             'outperform': 0.0,\n",
       "             'approaches': 0.0,\n",
       "             'second': 0.0,\n",
       "             'additional': 0.0,\n",
       "             'conversation': 0.0,\n",
       "             'test': 0.0,\n",
       "             'real': 0.0,\n",
       "             'languages': 0.0,\n",
       "             'useful': 0.0,\n",
       "             'inter': 0.0,\n",
       "             'contrast': 0.0,\n",
       "             'encoder decoder': 0.0,\n",
       "             'version': 0.0,\n",
       "             'performing': 0.0,\n",
       "             'release': 0.0,\n",
       "             'instances': 0.0,\n",
       "             'aim': 0.0,\n",
       "             'comparing': 0.0,\n",
       "             'describes': 0.0,\n",
       "             'decoding': 0.0,\n",
       "             'challenging': 0.0,\n",
       "             'domain': 0.0,\n",
       "             'generates': 0.0,\n",
       "             'measure': 0.0,\n",
       "             'post': 0.0,\n",
       "             'practical': 0.0,\n",
       "             'evaluations': 0.0,\n",
       "             'graphs': 0.0,\n",
       "             'art performance': 0.0,\n",
       "             'global': 0.0,\n",
       "             'source': 0.0,\n",
       "             'able': 0.0,\n",
       "             'state art performance': 0.0,\n",
       "             'representations': 0.0,\n",
       "             'open': 0.0,\n",
       "             'machine translation': 0.0,\n",
       "             'image': 0.0,\n",
       "             'focuses': 0.0,\n",
       "             'labels': 0.0,\n",
       "             'widely': 0.0,\n",
       "             'modern': 0.0,\n",
       "             'structures': 0.0,\n",
       "             'used': 0.0,\n",
       "             'improve performance': 0.0,\n",
       "             'rule': 0.0,\n",
       "             'points': 0.0,\n",
       "             'human evaluation': 0.0,\n",
       "             'includes': 0.0,\n",
       "             'modeling': 0.0,\n",
       "             'impact': 0.0,\n",
       "             'random': 0.0,\n",
       "             'results': 0.0,\n",
       "             'rely': 0.0,\n",
       "             'graph': 0.0,\n",
       "             'using': 0.0,\n",
       "             'external': 0.0})"
      ]
     },
     "execution_count": 68,
     "metadata": {},
     "output_type": "execute_result"
    }
   ],
   "source": [
    "text"
   ]
  },
  {
   "cell_type": "code",
   "execution_count": null,
   "metadata": {},
   "outputs": [],
   "source": []
  }
 ],
 "metadata": {
  "kernelspec": {
   "display_name": "Python 3",
   "language": "python",
   "name": "python3"
  },
  "language_info": {
   "codemirror_mode": {
    "name": "ipython",
    "version": 3
   },
   "file_extension": ".py",
   "mimetype": "text/x-python",
   "name": "python",
   "nbconvert_exporter": "python",
   "pygments_lexer": "ipython3",
   "version": "3.7.3"
  }
 },
 "nbformat": 4,
 "nbformat_minor": 4
}
