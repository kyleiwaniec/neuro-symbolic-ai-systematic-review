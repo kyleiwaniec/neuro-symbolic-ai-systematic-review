{
 "cells": [
  {
   "cell_type": "markdown",
   "metadata": {},
   "source": [
    "# ACL \n",
    "We download the entire ACL database bib file. We then manually add entries from the most recent issue as this one is not in the database."
   ]
  },
  {
   "cell_type": "code",
   "execution_count": 121,
   "metadata": {},
   "outputs": [],
   "source": [
    "import pandas as pd\n",
    "import numpy as np"
   ]
  },
  {
   "cell_type": "code",
   "execution_count": 12,
   "metadata": {},
   "outputs": [
    {
     "name": "stdout",
     "output_type": "stream",
     "text": [
      "Collecting bibtexparser\n",
      "  Downloading bibtexparser-1.2.0.tar.gz (46 kB)\n",
      "\u001b[2K     \u001b[38;2;114;156;31m━━━━━━━━━━━━━━━━━━━━━━━━━━━━━━━━━━━━━━━━\u001b[0m \u001b[32m46.9/46.9 KB\u001b[0m \u001b[31m2.2 MB/s\u001b[0m eta \u001b[36m0:00:00\u001b[0m\n",
      "\u001b[?25h  Preparing metadata (setup.py) ... \u001b[?25ldone\n",
      "\u001b[?25hRequirement already satisfied: pyparsing>=2.0.3 in /Users/kylehamilton/anaconda3/lib/python3.7/site-packages (from bibtexparser) (2.4.7)\n",
      "Requirement already satisfied: future>=0.16.0 in /Users/kylehamilton/anaconda3/lib/python3.7/site-packages (from bibtexparser) (0.18.2)\n",
      "Building wheels for collected packages: bibtexparser\n",
      "  Building wheel for bibtexparser (setup.py) ... \u001b[?25ldone\n",
      "\u001b[?25h  Created wheel for bibtexparser: filename=bibtexparser-1.2.0-py3-none-any.whl size=36713 sha256=f1d07ae8b9825dec7f318d7f9d323e3021ca6140bc8dee039b95b32e8353a120\n",
      "  Stored in directory: /Users/kylehamilton/Library/Caches/pip/wheels/3e/13/1d/09c37a40f39ddd7b226719a797f1896a5b95d730de27e7a505\n",
      "Successfully built bibtexparser\n",
      "Installing collected packages: bibtexparser\n",
      "Successfully installed bibtexparser-1.2.0\n",
      "Note: you may need to restart the kernel to use updated packages.\n"
     ]
    }
   ],
   "source": [
    "# https://bibtexparser.readthedocs.io/en/master/index.html\n",
    "pip install bibtexparser"
   ]
  },
  {
   "cell_type": "code",
   "execution_count": 20,
   "metadata": {},
   "outputs": [],
   "source": [
    "# with open(\"../../ACL/anthology+abstracts.bib\") as bibtex_file:\n",
    "#     bib_database = bibtexparser.load(bibtex_file)\n",
    "    \n",
    "# df = pd.DataFrame(bib_database.entries)\n",
    "# # selection = df[['doi', 'number']]\n",
    "# # selection.to_csv('temp.csv', index=False)"
   ]
  },
  {
   "cell_type": "code",
   "execution_count": 19,
   "metadata": {},
   "outputs": [],
   "source": [
    "import bibtexparser\n",
    "from bibtexparser.bparser import BibTexParser\n",
    "\n",
    "with open('../../ACL/anthology+abstracts.bib') as bibtex_file:\n",
    "    bibtex_str = bibtex_file.read()\n",
    "    \n",
    "parser = BibTexParser(common_strings=True)\n",
    "parser.ignore_nonstandard_types = True\n",
    "parser.homogenise_fields = True\n",
    "\n",
    "bib_database = bibtexparser.loads(bibtex_str, parser)"
   ]
  },
  {
   "cell_type": "code",
   "execution_count": 99,
   "metadata": {},
   "outputs": [],
   "source": [
    "df = pd.DataFrame(bib_database.entries)"
   ]
  },
  {
   "cell_type": "markdown",
   "metadata": {},
   "source": [
    "### Add 2022 entries"
   ]
  },
  {
   "cell_type": "code",
   "execution_count": 100,
   "metadata": {},
   "outputs": [],
   "source": [
    "acl22 = pd.read_csv('../../ACL/ACL-2022.csv')"
   ]
  },
  {
   "cell_type": "code",
   "execution_count": 101,
   "metadata": {},
   "outputs": [
    {
     "data": {
      "text/plain": [
       "Index(['url', 'publisher', 'address', 'year', 'month', 'editor', 'title',\n",
       "       'ENTRYTYPE', 'ID', 'pages', 'booktitle', 'author', 'abstract', 'doi',\n",
       "       'volume', 'journal', 'language', 'number', 'isbn', 'note'],\n",
       "      dtype='object')"
      ]
     },
     "execution_count": 101,
     "metadata": {},
     "output_type": "execute_result"
    }
   ],
   "source": [
    "acl22.columns"
   ]
  },
  {
   "cell_type": "code",
   "execution_count": 102,
   "metadata": {},
   "outputs": [],
   "source": [
    "df = pd.concat([df,acl22])"
   ]
  },
  {
   "cell_type": "code",
   "execution_count": 103,
   "metadata": {},
   "outputs": [],
   "source": [
    "df.to_csv('../../ACL/anthology+abstracts.csv',index=None)"
   ]
  },
  {
   "cell_type": "markdown",
   "metadata": {},
   "source": [
    "# START HERE"
   ]
  },
  {
   "cell_type": "code",
   "execution_count": 214,
   "metadata": {},
   "outputs": [
    {
     "name": "stderr",
     "output_type": "stream",
     "text": [
      "/Users/kylehamilton/anaconda3/lib/python3.7/site-packages/IPython/core/interactiveshell.py:3186: DtypeWarning: Columns (14,17,19) have mixed types.Specify dtype option on import or set low_memory=False.\n",
      "  interactivity=interactivity, compiler=compiler, result=result)\n"
     ]
    }
   ],
   "source": [
    "df = pd.read_csv('../../ACL/anthology+abstracts.csv')"
   ]
  },
  {
   "cell_type": "code",
   "execution_count": 215,
   "metadata": {},
   "outputs": [
    {
     "data": {
      "text/plain": [
       "74585"
      ]
     },
     "execution_count": 215,
     "metadata": {},
     "output_type": "execute_result"
    }
   ],
   "source": [
    "len(df)"
   ]
  },
  {
   "cell_type": "code",
   "execution_count": 216,
   "metadata": {},
   "outputs": [
    {
     "data": {
      "text/plain": [
       "Index(['url', 'publisher', 'address', 'year', 'month', 'editor', 'title',\n",
       "       'ENTRYTYPE', 'ID', 'pages', 'booktitle', 'author', 'abstract', 'doi',\n",
       "       'volume', 'journal', 'language', 'number', 'isbn', 'note'],\n",
       "      dtype='object')"
      ]
     },
     "execution_count": 216,
     "metadata": {},
     "output_type": "execute_result"
    }
   ],
   "source": [
    "df.columns"
   ]
  },
  {
   "cell_type": "code",
   "execution_count": 217,
   "metadata": {},
   "outputs": [
    {
     "data": {
      "text/plain": [
       "url          object\n",
       "publisher    object\n",
       "address      object\n",
       "year          int64\n",
       "month        object\n",
       "editor       object\n",
       "title        object\n",
       "ENTRYTYPE    object\n",
       "ID           object\n",
       "pages        object\n",
       "booktitle    object\n",
       "author       object\n",
       "abstract     object\n",
       "doi          object\n",
       "volume       object\n",
       "journal      object\n",
       "language     object\n",
       "number       object\n",
       "isbn         object\n",
       "note         object\n",
       "dtype: object"
      ]
     },
     "execution_count": 217,
     "metadata": {},
     "output_type": "execute_result"
    }
   ],
   "source": [
    "df.dtypes"
   ]
  },
  {
   "cell_type": "code",
   "execution_count": 218,
   "metadata": {},
   "outputs": [
    {
     "data": {
      "text/plain": [
       "array([nan,\n",
       "       'Transactions of the Association for Computational Linguistics',\n",
       "       'Computational Linguistics',\n",
       "       'American Journal of Computational Linguistics'], dtype=object)"
      ]
     },
     "execution_count": 218,
     "metadata": {},
     "output_type": "execute_result"
    }
   ],
   "source": [
    "df.journal.unique()"
   ]
  },
  {
   "cell_type": "code",
   "execution_count": 219,
   "metadata": {},
   "outputs": [
    {
     "data": {
      "text/plain": [
       "Computational Linguistics                                        1733\n",
       "Transactions of the Association for Computational Linguistics     444\n",
       "American Journal of Computational Linguistics                     368\n",
       "Name: journal, dtype: int64"
      ]
     },
     "execution_count": 219,
     "metadata": {},
     "output_type": "execute_result"
    }
   ],
   "source": [
    "df.journal.value_counts()"
   ]
  },
  {
   "cell_type": "code",
   "execution_count": 220,
   "metadata": {},
   "outputs": [
    {
     "data": {
      "text/plain": [
       "inproceedings    69990\n",
       "article           2538\n",
       "proceedings       2050\n",
       "Name: ENTRYTYPE, dtype: int64"
      ]
     },
     "execution_count": 220,
     "metadata": {},
     "output_type": "execute_result"
    }
   ],
   "source": [
    "df.ENTRYTYPE.value_counts()"
   ]
  },
  {
   "cell_type": "code",
   "execution_count": 221,
   "metadata": {},
   "outputs": [
    {
     "data": {
      "text/html": [
       "<div>\n",
       "<style scoped>\n",
       "    .dataframe tbody tr th:only-of-type {\n",
       "        vertical-align: middle;\n",
       "    }\n",
       "\n",
       "    .dataframe tbody tr th {\n",
       "        vertical-align: top;\n",
       "    }\n",
       "\n",
       "    .dataframe thead th {\n",
       "        text-align: right;\n",
       "    }\n",
       "</style>\n",
       "<table border=\"1\" class=\"dataframe\">\n",
       "  <thead>\n",
       "    <tr style=\"text-align: right;\">\n",
       "      <th></th>\n",
       "      <th>url</th>\n",
       "      <th>publisher</th>\n",
       "      <th>address</th>\n",
       "      <th>year</th>\n",
       "      <th>month</th>\n",
       "      <th>editor</th>\n",
       "      <th>title</th>\n",
       "      <th>ENTRYTYPE</th>\n",
       "      <th>ID</th>\n",
       "      <th>pages</th>\n",
       "      <th>booktitle</th>\n",
       "      <th>author</th>\n",
       "      <th>abstract</th>\n",
       "      <th>doi</th>\n",
       "      <th>volume</th>\n",
       "      <th>journal</th>\n",
       "      <th>language</th>\n",
       "      <th>number</th>\n",
       "      <th>isbn</th>\n",
       "      <th>note</th>\n",
       "    </tr>\n",
       "  </thead>\n",
       "  <tbody>\n",
       "    <tr>\n",
       "      <th>74582</th>\n",
       "      <td>https://direct.mit.edu/coli/article/48/1/155/1...</td>\n",
       "      <td>NaN</td>\n",
       "      <td>NaN</td>\n",
       "      <td>2022</td>\n",
       "      <td>March</td>\n",
       "      <td>NaN</td>\n",
       "      <td>Deep Learning for Text Style Transfer: A Survey</td>\n",
       "      <td>NaN</td>\n",
       "      <td>NaN</td>\n",
       "      <td>155-205</td>\n",
       "      <td>NaN</td>\n",
       "      <td>Di Jin, Zhijing Jin, Zhiting Hu, Olga Vechtomo...</td>\n",
       "      <td>Text style transfer is an important task in na...</td>\n",
       "      <td>https://doi.org/10.1162/coli_a_00426</td>\n",
       "      <td>48(1)</td>\n",
       "      <td>Computational Linguistics</td>\n",
       "      <td>NaN</td>\n",
       "      <td>NaN</td>\n",
       "      <td>NaN</td>\n",
       "      <td>NaN</td>\n",
       "    </tr>\n",
       "  </tbody>\n",
       "</table>\n",
       "</div>"
      ],
      "text/plain": [
       "                                                     url publisher address  \\\n",
       "74582  https://direct.mit.edu/coli/article/48/1/155/1...       NaN     NaN   \n",
       "\n",
       "       year  month editor                                            title  \\\n",
       "74582  2022  March    NaN  Deep Learning for Text Style Transfer: A Survey   \n",
       "\n",
       "      ENTRYTYPE   ID    pages booktitle  \\\n",
       "74582       NaN  NaN  155-205       NaN   \n",
       "\n",
       "                                                  author  \\\n",
       "74582  Di Jin, Zhijing Jin, Zhiting Hu, Olga Vechtomo...   \n",
       "\n",
       "                                                abstract  \\\n",
       "74582  Text style transfer is an important task in na...   \n",
       "\n",
       "                                        doi volume                    journal  \\\n",
       "74582  https://doi.org/10.1162/coli_a_00426  48(1)  Computational Linguistics   \n",
       "\n",
       "      language number isbn note  \n",
       "74582      NaN    NaN  NaN  NaN  "
      ]
     },
     "execution_count": 221,
     "metadata": {},
     "output_type": "execute_result"
    }
   ],
   "source": [
    "txt = \"Deep Learning for Text Style Transfer\"\n",
    "df[df.title.str.contains(txt)]"
   ]
  },
  {
   "cell_type": "markdown",
   "metadata": {},
   "source": [
    "## Filter out entries older than 5 years"
   ]
  },
  {
   "cell_type": "code",
   "execution_count": 222,
   "metadata": {},
   "outputs": [],
   "source": [
    "df['year'] = df['year'].astype(int)\n",
    "df = df[df['year']>2016]"
   ]
  },
  {
   "cell_type": "code",
   "execution_count": 223,
   "metadata": {},
   "outputs": [
    {
     "data": {
      "text/plain": [
       "27009"
      ]
     },
     "execution_count": 223,
     "metadata": {},
     "output_type": "execute_result"
    }
   ],
   "source": [
    "len(df)"
   ]
  },
  {
   "cell_type": "code",
   "execution_count": 224,
   "metadata": {},
   "outputs": [
    {
     "data": {
      "text/plain": [
       "19022"
      ]
     },
     "execution_count": 224,
     "metadata": {},
     "output_type": "execute_result"
    }
   ],
   "source": [
    "len(df[df['year']>2018])"
   ]
  },
  {
   "cell_type": "code",
   "execution_count": 225,
   "metadata": {},
   "outputs": [
    {
     "data": {
      "text/plain": [
       "26574"
      ]
     },
     "execution_count": 225,
     "metadata": {},
     "output_type": "execute_result"
    }
   ],
   "source": [
    "len(df[(df['journal'].isna())])"
   ]
  },
  {
   "cell_type": "code",
   "execution_count": 226,
   "metadata": {},
   "outputs": [
    {
     "data": {
      "text/plain": [
       "Transactions of the Association for Computational Linguistics    281\n",
       "Computational Linguistics                                        154\n",
       "Name: journal, dtype: int64"
      ]
     },
     "execution_count": 226,
     "metadata": {},
     "output_type": "execute_result"
    }
   ],
   "source": [
    "df.journal.value_counts()"
   ]
  },
  {
   "cell_type": "code",
   "execution_count": 227,
   "metadata": {},
   "outputs": [
    {
     "data": {
      "text/plain": [
       "25916"
      ]
     },
     "execution_count": 227,
     "metadata": {},
     "output_type": "execute_result"
    }
   ],
   "source": [
    "len(df[df['ENTRYTYPE']=='inproceedings'])"
   ]
  },
  {
   "cell_type": "markdown",
   "metadata": {},
   "source": [
    "## Filter out proceedings as these are collections of already included articles"
   ]
  },
  {
   "cell_type": "code",
   "execution_count": 228,
   "metadata": {},
   "outputs": [],
   "source": [
    "df = df[df['ENTRYTYPE']!='proceedings']"
   ]
  },
  {
   "cell_type": "code",
   "execution_count": 229,
   "metadata": {},
   "outputs": [
    {
     "data": {
      "text/plain": [
       "26351"
      ]
     },
     "execution_count": 229,
     "metadata": {},
     "output_type": "execute_result"
    }
   ],
   "source": [
    "len(df)"
   ]
  },
  {
   "cell_type": "code",
   "execution_count": 230,
   "metadata": {},
   "outputs": [
    {
     "data": {
      "text/plain": [
       "3442"
      ]
     },
     "execution_count": 230,
     "metadata": {},
     "output_type": "execute_result"
    }
   ],
   "source": [
    "len(df[(df['abstract'].isna())])"
   ]
  },
  {
   "cell_type": "markdown",
   "metadata": {},
   "source": [
    "## Filter out survey papers using the title field"
   ]
  },
  {
   "cell_type": "code",
   "execution_count": 231,
   "metadata": {},
   "outputs": [],
   "source": [
    "surveys = df[df['title'].str.contains('survey',case=False)]"
   ]
  },
  {
   "cell_type": "code",
   "execution_count": 232,
   "metadata": {},
   "outputs": [
    {
     "data": {
      "text/plain": [
       "84"
      ]
     },
     "execution_count": 232,
     "metadata": {},
     "output_type": "execute_result"
    }
   ],
   "source": [
    "len(surveys)"
   ]
  },
  {
   "cell_type": "code",
   "execution_count": 233,
   "metadata": {},
   "outputs": [],
   "source": [
    "surveys.to_csv('../../ACL/surveys.csv',index=None)"
   ]
  },
  {
   "cell_type": "code",
   "execution_count": 234,
   "metadata": {},
   "outputs": [],
   "source": [
    "df = df[~df['title'].str.contains('survey',case=False)]"
   ]
  },
  {
   "cell_type": "markdown",
   "metadata": {},
   "source": [
    "# Filter by keywords using abstract and title\n",
    "\n",
    "The following keywords were used to search the Scopus database. We will perform the same search for ACL.\n",
    "```\n",
    "TITLE-ABS-KEY ( ( ( \"sub-symbolic\"  OR  \"machine learning\"  OR  \"deep learning\" )  AND  ( \"symbolic\"  OR  \"reasoning\"  OR  \"logic\" ) )  OR  ( \"neuro-symbolic\"  OR  \"neural-symbolic\"  OR  \"neuro symbolic\"  OR  \"neural symbolic\"  OR  \"neurosymbolic\" ) ) ```"
   ]
  },
  {
   "cell_type": "code",
   "execution_count": 235,
   "metadata": {},
   "outputs": [],
   "source": [
    "import re"
   ]
  },
  {
   "cell_type": "code",
   "execution_count": 236,
   "metadata": {},
   "outputs": [
    {
     "data": {
      "text/plain": [
       "Index(['url', 'publisher', 'address', 'year', 'month', 'editor', 'title',\n",
       "       'ENTRYTYPE', 'ID', 'pages', 'booktitle', 'author', 'abstract', 'doi',\n",
       "       'volume', 'journal', 'language', 'number', 'isbn', 'note'],\n",
       "      dtype='object')"
      ]
     },
     "execution_count": 236,
     "metadata": {},
     "output_type": "execute_result"
    }
   ],
   "source": [
    "df.columns"
   ]
  },
  {
   "cell_type": "code",
   "execution_count": 237,
   "metadata": {},
   "outputs": [],
   "source": [
    "df['title_abstract'] = df[['title', 'abstract']].astype(str).agg(' '.join, axis=1)"
   ]
  },
  {
   "cell_type": "code",
   "execution_count": 250,
   "metadata": {},
   "outputs": [],
   "source": [
    "pattern1 = 'sub-symbolic|machine\\slearning|deep\\slearning'\n",
    "pattern2 = 'symbolic|reasoning|logic'\n",
    "pattern3 = 'neuro-symbolic|neural-symbolic|neuro\\ssymbolic|neural\\ssymbolic|neurosymbolic'"
   ]
  },
  {
   "cell_type": "code",
   "execution_count": 239,
   "metadata": {},
   "outputs": [],
   "source": [
    "df = df[((df['title_abstract'].str.contains(pattern1, flags=re.IGNORECASE, regex=True))\n",
    "        &(df['title_abstract'].str.contains(pattern2, flags=re.IGNORECASE, regex=True)))\n",
    "        |(df['title_abstract'].str.contains(pattern3, flags=re.IGNORECASE, regex=True))\n",
    "  ]"
   ]
  },
  {
   "cell_type": "markdown",
   "metadata": {},
   "source": [
    "# Save to file"
   ]
  },
  {
   "cell_type": "code",
   "execution_count": 243,
   "metadata": {},
   "outputs": [],
   "source": [
    "df = df[['ENTRYTYPE','title','abstract','url', 'doi', 'journal','year']]"
   ]
  },
  {
   "cell_type": "code",
   "execution_count": 244,
   "metadata": {},
   "outputs": [
    {
     "data": {
      "text/plain": [
       "2020    50\n",
       "2021    43\n",
       "2019    38\n",
       "2018    22\n",
       "2017    22\n",
       "Name: year, dtype: int64"
      ]
     },
     "execution_count": 244,
     "metadata": {},
     "output_type": "execute_result"
    }
   ],
   "source": [
    "df['year'].value_counts()"
   ]
  },
  {
   "cell_type": "code",
   "execution_count": 245,
   "metadata": {},
   "outputs": [],
   "source": [
    "df.to_csv('../../ACL/filtered_results.csv',index=None)"
   ]
  },
  {
   "cell_type": "code",
   "execution_count": null,
   "metadata": {},
   "outputs": [],
   "source": []
  },
  {
   "attachments": {
    "a3a0b097-35fd-4151-a46c-d27dfedcecf6.png": {
     "image/png": "[encoded data removed]"
    }
   },
   "cell_type": "markdown",
   "metadata": {},
   "source": [
    "# NOTE\n",
    "This search strategy returns results like: \n",
    "\n",
    "![image.png](attachment:a3a0b097-35fd-4151-a46c-d27dfedcecf6.png)\n",
    "\n",
    "So off the bat, some of the results will not be relevant to our review"
   ]
  },
  {
   "cell_type": "code",
   "execution_count": null,
   "metadata": {},
   "outputs": [],
   "source": []
  }
 ],
 "metadata": {
  "kernelspec": {
   "display_name": "Python 3",
   "language": "python",
   "name": "python3"
  },
  "language_info": {
   "codemirror_mode": {
    "name": "ipython",
    "version": 3
   },
   "file_extension": ".py",
   "mimetype": "text/x-python",
   "name": "python",
   "nbconvert_exporter": "python",
   "pygments_lexer": "ipython3",
   "version": "3.7.3"
  }
 },
 "nbformat": 4,
 "nbformat_minor": 4
}
