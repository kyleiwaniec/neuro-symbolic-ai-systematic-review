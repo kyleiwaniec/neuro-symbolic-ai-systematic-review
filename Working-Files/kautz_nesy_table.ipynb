{
 "cells": [
  {
   "cell_type": "code",
   "execution_count": 1,
   "metadata": {},
   "outputs": [],
   "source": [
    "from tabulate import tabulate\n",
    "from tabulate import tabulate\n",
    "from texttable import Texttable\n",
    "import latextable\n",
    "\n",
    "import pandas as pd"
   ]
  },
  {
   "cell_type": "code",
   "execution_count": 3,
   "metadata": {},
   "outputs": [],
   "source": [
    "df=pd.read_csv('Data/NeSy-Review-Papers_60.csv')"
   ]
  },
  {
   "cell_type": "code",
   "execution_count": 23,
   "metadata": {},
   "outputs": [],
   "source": [
    "def get_collections(row):\n",
    "    first = row[:3].str.strip()\n",
    "    return first[first!=''].tolist()"
   ]
  },
  {
   "cell_type": "code",
   "execution_count": 24,
   "metadata": {},
   "outputs": [],
   "source": [
    "rows = df[['citation', 'NeSy Category', 'Kautz category' ]].apply(get_collections, axis=1).tolist()"
   ]
  },
  {
   "cell_type": "code",
   "execution_count": 29,
   "metadata": {},
   "outputs": [
    {
     "name": "stdout",
     "output_type": "stream",
     "text": [
      "\n",
      "Tabulate Latex:\n",
      "\\begin{tabular}{lll}\n",
      "\\hline\n",
      " \\textbackslash{}cite\\{Pacheco\\_Goldwasser\\_2021\\}                & nested      & 2. Symbolic[Neuro]         \\\\\n",
      " \\textbackslash{}cite\\{Chen\\_Gao\\_Moss\\_2021\\}                     & nested      & 2. Symbolic[Neuro]         \\\\\n",
      " \\textbackslash{}cite\\{Saveleva\\_Petukhova\\_Mosbach\\_Klakow\\_2021\\} & compiled    & 4. Neuro: Symbolic → Neuro \\\\\n",
      " \\textbackslash{}cite\\{Gupta\\_Ghosal\\_Ekbal\\_2021\\}                & compiled    & 4. Neuro: Symbolic → Neuro \\\\\n",
      " \\textbackslash{}cite\\{Langton\\_Srihasam\\_2021\\}                  & sequential  & 1. symbolic Neuro symbolic \\\\\n",
      " \\textbackslash{}cite\\{Zhou\\_Richardson\\_2021\\}                   & compiled    & 4. Neuro: Symbolic → Neuro \\\\\n",
      " \\textbackslash{}cite\\{Verga\\_Sun\\_Baldini\\_2021\\}                 & compiled    & 4. Neuro: Symbolic → Neuro \\\\\n",
      " \\textbackslash{}cite\\{Zhang\\_Wang\\_Yu\\_Wang\\_Wang\\_Jiang\\_Lim\\_2021\\} & compiled    & 4. Neuro: Symbolic → Neuro \\\\\n",
      " \\textbackslash{}cite\\{Chaudhury\\_Sen\\_Ono\\_2021\\}                 & compiled    & 4. Neuro: Symbolic → Neuro \\\\\n",
      " \\textbackslash{}cite\\{Shi\\_Ding\\_Du\\_Liu\\_Qin\\_2021\\}               & cooperative & 3. Neuro; Symbolic         \\\\\n",
      " \\textbackslash{}cite\\{Das\\_Zaheer\\_Thai\\_2021\\}                   & cooperative & 3. Neuro; Symbolic         \\\\\n",
      " \\textbackslash{}cite\\{Wang\\_Pan\\_2021\\}                          & cooperative & 3. Neuro; Symbolic         \\\\\n",
      " \\textbackslash{}cite\\{Kouris\\_Alexandridis\\_Stafylopatis\\_2021\\}  & sequential  & 1. symbolic Neuro symbolic \\\\\n",
      " \\textbackslash{}cite\\{Li\\_Srikumar\\_2019\\}                       & compiled    & 5. Neuro\\_Symbolic          \\\\\n",
      " \\textbackslash{}cite\\{Dehua\\_Keting\\_Jianrong\\_2021\\}             & compiled    & 4. Neuro: Symbolic → Neuro \\\\\n",
      " \\textbackslash{}cite\\{Jiang\\_Gurajada\\_Lu\\_2021\\}                 & compiled    & 4. Neuro: Symbolic → Neuro \\\\\n",
      " \\textbackslash{}cite\\{Qin\\_Liang\\_Hong\\_Tang\\_Lin\\_2021\\}           & cooperative & 3. Neuro; Symbolic         \\\\\n",
      " \\textbackslash{}cite\\{Pinhanez\\_Cavalin\\_Alves\\_2021\\}            & compiled    & 4. Neuro: Symbolic → Neuro \\\\\n",
      " \\textbackslash{}cite\\{Hu\\_Wei\\_Huai\\_2021\\}                       & sequential  & 1. symbolic Neuro symbolic \\\\\n",
      " \\textbackslash{}cite\\{Yabloko\\_2020\\}                           & compiled    & 4. Neuro: Symbolic → Neuro \\\\\n",
      " \\textbackslash{}cite\\{Sen\\_Danilevsky\\_Li\\_2020\\}                 & compiled    & 4. Neuro: Symbolic → Neuro \\\\\n",
      " \\textbackslash{}cite\\{Wu\\_Wang\\_Pan\\_2020\\}                       & cooperative & 3. Neuro; Symbolic         \\\\\n",
      " \\textbackslash{}cite\\{Chen\\_Xu\\_Cheng\\_2020\\}                     & sequential  & 1. symbolic Neuro symbolic \\\\\n",
      " \\textbackslash{}cite\\{Kogkalidis\\_Moortgat\\_Moot\\_2020\\}          & compiled    & 4. Neuro: Symbolic → Neuro \\\\\n",
      " \\textbackslash{}cite\\{Lima\\_Espinasse\\_Freitas\\_2019\\}            & sequential  & 1. symbolic Neuro symbolic \\\\\n",
      " \\textbackslash{}cite\\{Xu\\_Li\\_2019\\}                             & sequential  & 1. symbolic Neuro symbolic \\\\\n",
      " \\textbackslash{}cite\\{AltszylerBBBV21\\}                        & compiled    & 5. Neuro\\_Symbolic          \\\\\n",
      " \\textbackslash{}cite\\{cowen2019neural\\}                        & sequential  & 1. symbolic Neuro symbolic \\\\\n",
      " \\textbackslash{}cite\\{gu2019local\\}                            & sequential  & 1. symbolic Neuro symbolic \\\\\n",
      " \\textbackslash{}cite\\{Brasoveanu2019656\\}                      & sequential  & 1. symbolic Neuro symbolic \\\\\n",
      " \\textbackslash{}cite\\{Graziani2019185\\}                        & compiled    & 5. Neuro\\_Symbolic          \\\\\n",
      " \\textbackslash{}cite\\{Bianchi2019161\\}                         & compiled    & 5. Neuro\\_Symbolic          \\\\\n",
      " \\textbackslash{}cite\\{Lemos2020647\\}                           & cooperative & 3. Neuro; Symbolic         \\\\\n",
      " \\textbackslash{}cite\\{Cui2021419\\}                             & sequential  & 1. symbolic Neuro symbolic \\\\\n",
      " \\textbackslash{}cite\\{Skrlj2021989\\}                           & cooperative & 3. Neuro; Symbolic         \\\\\n",
      " \\textbackslash{}cite\\{Schon2019293\\}                           & sequential  & 1. symbolic Neuro symbolic \\\\\n",
      " \\textbackslash{}cite\\{Jiang2020\\}                              & compiled    & 4. Neuro: Symbolic → Neuro \\\\\n",
      " \\textbackslash{}cite\\{Hussain20181662\\}                        & compiled    & 5. Neuro\\_Symbolic          \\\\\n",
      " \\textbackslash{}cite\\{Liu2021260\\}                             & compiled    & 4. Neuro: Symbolic → Neuro \\\\\n",
      " \\textbackslash{}cite\\{Yao201842\\}                              & cooperative & 3. Neuro; Symbolic         \\\\\n",
      " \\textbackslash{}cite\\{Chaturvedi2019264\\}                      & nested      & 2. Symbolic[Neuro]         \\\\\n",
      " \\textbackslash{}cite\\{Bounabi2021229\\}                         & sequential  & 1. symbolic Neuro symbolic \\\\\n",
      " \\textbackslash{}cite\\{Honda2019152368\\}                        & sequential  & 1. symbolic Neuro symbolic \\\\\n",
      " \\textbackslash{}cite\\{Gong202030885\\}                          & sequential  & 1. symbolic Neuro symbolic \\\\\n",
      " \\textbackslash{}cite\\{Es-Sabery202117943\\}                     & sequential  & 1. symbolic Neuro symbolic \\\\\n",
      " \\textbackslash{}cite\\{Amin2019133\\}                            & sequential  & 1. symbolic Neuro symbolic \\\\\n",
      " \\textbackslash{}cite\\{Sutherland2019\\}                         & sequential  & 1. symbolic Neuro symbolic \\\\\n",
      " \\textbackslash{}cite\\{Ayyanar2019\\}                            & sequential  & 1. symbolic Neuro symbolic \\\\\n",
      " \\textbackslash{}cite\\{Zhou20212015\\}                           & sequential  & 1. symbolic Neuro symbolic \\\\\n",
      " \\textbackslash{}cite\\{Manda2020\\}                              & sequential  & 1. symbolic Neuro symbolic \\\\\n",
      " \\textbackslash{}cite\\{Chen2021328\\}                            & nested      & 2. Symbolic[Neuro]         \\\\\n",
      " \\textbackslash{}cite\\{Fazlic20191025\\}                         & sequential  & 1. symbolic Neuro symbolic \\\\\n",
      " \\textbackslash{}cite\\{Mao2019\\}                                & cooperative & 3. Neuro; Symbolic         \\\\\n",
      " \\textbackslash{}cite\\{DSouza201990\\}                           & sequential  & 1. symbolic Neuro symbolic \\\\\n",
      " \\textbackslash{}cite\\{Huang20191344\\}                          & compiled    & 5. Neuro\\_Symbolic          \\\\\n",
      " \\textbackslash{}cite\\{Tato2019623\\}                            & sequential  & 1. symbolic Neuro symbolic \\\\\n",
      " \\textbackslash{}cite\\{Huo2019159\\}                             & compiled    & 4. Neuro: Symbolic → Neuro \\\\\n",
      " \\textbackslash{}cite\\{Chen20201544\\}                           & compiled    & 5. Neuro\\_Symbolic          \\\\\n",
      " \\textbackslash{}cite\\{Demeter20207634\\}                        & compiled    & 4. Neuro: Symbolic → Neuro \\\\\n",
      "\\hline\n",
      "\\end{tabular}\n"
     ]
    }
   ],
   "source": [
    "table = Texttable()\n",
    "table.set_cols_align([\"c\"] * 3)\n",
    "table.set_deco(Texttable.HEADER | Texttable.VLINES)\n",
    "table.add_rows(rows)\n",
    "\n",
    "print('\\nTabulate Latex:')\n",
    "print(tabulate(rows, tablefmt='latex'))"
   ]
  },
  {
   "cell_type": "code",
   "execution_count": null,
   "metadata": {},
   "outputs": [],
   "source": []
  }
 ],
 "metadata": {
  "kernelspec": {
   "display_name": ".deeplearningClass",
   "language": "python",
   "name": ".deeplearningclass"
  },
  "language_info": {
   "codemirror_mode": {
    "name": "ipython",
    "version": 3
   },
   "file_extension": ".py",
   "mimetype": "text/x-python",
   "name": "python",
   "nbconvert_exporter": "python",
   "pygments_lexer": "ipython3",
   "version": "3.6.9"
  }
 },
 "nbformat": 4,
 "nbformat_minor": 4
}
