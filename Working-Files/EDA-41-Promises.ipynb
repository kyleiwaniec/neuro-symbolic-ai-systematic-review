{
 "cells": [
  {
   "cell_type": "markdown",
   "metadata": {},
   "source": [
    "# Final 34 Articles - Promises\n",
    "\n"
   ]
  },
  {
   "cell_type": "code",
   "execution_count": null,
   "metadata": {},
   "outputs": [],
   "source": []
  },
  {
   "cell_type": "code",
   "execution_count": 1,
   "metadata": {},
   "outputs": [],
   "source": [
    "import pandas as pd\n",
    "import numpy as np\n",
    "import itertools\n",
    "from collections import defaultdict"
   ]
  },
  {
   "cell_type": "code",
   "execution_count": 2,
   "metadata": {},
   "outputs": [
    {
     "data": {
      "text/plain": [
       "'/Users/kylehamilton/MyDocuments/ML-Labs/neuro-symbolic-AI/neuro-symbolic-ai-systematic-review/Scopus/matplotlibrc'"
      ]
     },
     "execution_count": 2,
     "metadata": {},
     "output_type": "execute_result"
    }
   ],
   "source": [
    "%matplotlib inline \n",
    "import matplotlib.pyplot as plt\n",
    "import matplotlib as mpl\n",
    "plt.style.use('presentation.mplstyle')\n",
    "mpl.matplotlib_fname()"
   ]
  },
  {
   "cell_type": "code",
   "execution_count": 3,
   "metadata": {},
   "outputs": [],
   "source": [
    "df=pd.read_csv('Data/Final_41 - Promises.csv')"
   ]
  },
  {
   "cell_type": "code",
   "execution_count": 4,
   "metadata": {},
   "outputs": [
    {
     "data": {
      "text/plain": [
       "Index(['ID', 'citation', 'Title', 'Nesy Category', 'Kautz category',\n",
       "       'Type of Learning', 'technical Application',\n",
       "       'leverages natural language structure',\n",
       "       'leverages relational structure', 'Knowledge representation',\n",
       "       'logic vs rules', 'implicit vs explicit', 'reasoning',\n",
       "       'out-of-distribution generalization', 'interpretability',\n",
       "       'reduced data', 'transferability',\n",
       "       'NeSy (check if the authors label their work as NeSy)', 'performance',\n",
       "       'computational cost', 'comments', 'eliminate'],\n",
       "      dtype='object')"
      ]
     },
     "execution_count": 4,
     "metadata": {},
     "output_type": "execute_result"
    }
   ],
   "source": [
    "(df).columns"
   ]
  },
  {
   "cell_type": "code",
   "execution_count": 5,
   "metadata": {},
   "outputs": [],
   "source": [
    "df.drop(df[df.eliminate == 1].index, inplace=True)"
   ]
  },
  {
   "cell_type": "code",
   "execution_count": 6,
   "metadata": {},
   "outputs": [],
   "source": [
    "df=df.loc[df['eliminate'] != '1'].reset_index()\n"
   ]
  },
  {
   "cell_type": "code",
   "execution_count": 7,
   "metadata": {},
   "outputs": [
    {
     "data": {
      "text/plain": [
       "34"
      ]
     },
     "execution_count": 7,
     "metadata": {},
     "output_type": "execute_result"
    }
   ],
   "source": [
    "len(df)"
   ]
  },
  {
   "cell_type": "raw",
   "metadata": {},
   "source": [
    "# add citations column. these were pasted into the google sheet, no need to run again.\n",
    "\n",
    "\n",
    "citations=[\n",
    "\"\\cite{Ramrakhiyani2019102}\",\n",
    "\"\\cite{Brasoveanu2019656}\",\n",
    "\"\\cite{Graziani2019185}\",\n",
    "\"\\cite{Bianchi2019161}\",\n",
    "\"\\cite{Ezzat2020111}\",\n",
    "\"\\cite{Lemos2020647}\",\n",
    "\"\\cite{Cui2021419}\",\n",
    "\"\\cite{Silva2011137}\",\n",
    "\"\\cite{Skrlj2021989}\",\n",
    "\"\\cite{Schon2019293}\",\n",
    "\"\\cite{Diligenti2017143}\",\n",
    "\"\\cite{Jiang2020}\",\n",
    "\"\\cite{Belkebir201643}\",\n",
    "\"\\cite{Hussain20181662}\",\n",
    "\"\\cite{Liu2021260}\",\n",
    "\"\\cite{Mehler2012159}\",\n",
    "\"\\cite{Yao201842}\",\n",
    "\"\\cite{Chaturvedi2019264}\",\n",
    "\"\\cite{Bounabi2021229}\",\n",
    "\"\\cite{Honda2019152368}\",\n",
    "\"\\cite{Gong202030885}\",\n",
    "\"\\cite{Es-Sabery202117943}\",\n",
    "\"\\cite{Amin2019133}\",\n",
    "\"\\cite{Sutherland2019}\",\n",
    "\"\\cite{Ayyanar2019}\",\n",
    "\"\\cite{Zhou20212015}\",\n",
    "\"\\cite{Manda2020}\",\n",
    "\"\\cite{Chen2021328}\",\n",
    "\"\\cite{Fazlic20191025}\",\n",
    "\"\\cite{Mao2019}\",\n",
    "\"\\cite{DSouza201990}\",\n",
    "\"\\cite{Huang20191344}\",\n",
    "\"\\cite{Tato2019623}\",\n",
    "\"\\cite{Huo2019159}\",\n",
    "\"\\cite{Chen20201544}\",\n",
    "\"\\cite{Demeter20207634}\"\n",
    "]\n",
    "df['citation']=citations"
   ]
  },
  {
   "cell_type": "code",
   "execution_count": null,
   "metadata": {},
   "outputs": [],
   "source": []
  },
  {
   "cell_type": "code",
   "execution_count": null,
   "metadata": {},
   "outputs": [],
   "source": []
  },
  {
   "cell_type": "code",
   "execution_count": 9,
   "metadata": {},
   "outputs": [],
   "source": [
    "df[['reasoning', \n",
    "    'out-of-distribution generalization',\n",
    "    'leverages natural language structure',\n",
    "    'leverages relational structure',\n",
    "    'interpretability', 'reduced data', 'transferability',\n",
    "    'NeSy (check if the authors label their work as NeSy)']] = df[['reasoning', \n",
    "                                                                   'out-of-distribution generalization',\n",
    "                                                                    'leverages natural language structure',\n",
    "                                                                    'leverages relational structure',\n",
    "                                                                    'interpretability', 'reduced data', 'transferability',\n",
    "                                                                    'NeSy (check if the authors label their work as NeSy)']].astype(int)"
   ]
  },
  {
   "cell_type": "code",
   "execution_count": 10,
   "metadata": {},
   "outputs": [],
   "source": [
    "df.rename(columns={'reasoning (check if the authors claim their approach does reasoning)': 'reasoning', 'NeSy (check if the authors label their work as NeSy)': 'nesy', 'out-of-distribution generaization': 'OOD'}, inplace=True)\n"
   ]
  },
  {
   "cell_type": "code",
   "execution_count": 11,
   "metadata": {},
   "outputs": [],
   "source": [
    "df['nesy_score'] = df['reasoning']+df['out-of-distribution generalization']+df['interpretability']+df['reduced data']+df['transferability']"
   ]
  },
  {
   "cell_type": "code",
   "execution_count": 12,
   "metadata": {},
   "outputs": [
    {
     "data": {
      "text/plain": [
       "Index(['index', 'ID', 'citation', 'Title', 'Nesy Category', 'Kautz category',\n",
       "       'Type of Learning', 'technical Application',\n",
       "       'leverages natural language structure',\n",
       "       'leverages relational structure', 'Knowledge representation',\n",
       "       'logic vs rules', 'implicit vs explicit', 'reasoning', 'OOD',\n",
       "       'interpretability', 'reduced data', 'transferability', 'nesy',\n",
       "       'performance', 'computational cost', 'comments', 'eliminate',\n",
       "       'nesy_score'],\n",
       "      dtype='object')"
      ]
     },
     "execution_count": 12,
     "metadata": {},
     "output_type": "execute_result"
    }
   ],
   "source": [
    "df = df.rename(columns={'out-of-distribution generalization': 'OOD'}, inplace=False)\n",
    "df.columns"
   ]
  },
  {
   "cell_type": "code",
   "execution_count": null,
   "metadata": {},
   "outputs": [],
   "source": []
  },
  {
   "cell_type": "code",
   "execution_count": 13,
   "metadata": {},
   "outputs": [],
   "source": [
    "nesy=df[df['nesy']==1]"
   ]
  },
  {
   "cell_type": "code",
   "execution_count": 14,
   "metadata": {},
   "outputs": [
    {
     "data": {
      "text/html": [
       "<div>\n",
       "<style scoped>\n",
       "    .dataframe tbody tr th:only-of-type {\n",
       "        vertical-align: middle;\n",
       "    }\n",
       "\n",
       "    .dataframe tbody tr th {\n",
       "        vertical-align: top;\n",
       "    }\n",
       "\n",
       "    .dataframe thead th {\n",
       "        text-align: right;\n",
       "    }\n",
       "</style>\n",
       "<table border=\"1\" class=\"dataframe\">\n",
       "  <thead>\n",
       "    <tr style=\"text-align: right;\">\n",
       "      <th></th>\n",
       "      <th>index</th>\n",
       "      <th>ID</th>\n",
       "      <th>citation</th>\n",
       "      <th>Title</th>\n",
       "      <th>Nesy Category</th>\n",
       "      <th>Kautz category</th>\n",
       "      <th>Type of Learning</th>\n",
       "      <th>technical Application</th>\n",
       "      <th>leverages natural language structure</th>\n",
       "      <th>leverages relational structure</th>\n",
       "      <th>...</th>\n",
       "      <th>OOD</th>\n",
       "      <th>interpretability</th>\n",
       "      <th>reduced data</th>\n",
       "      <th>transferability</th>\n",
       "      <th>nesy</th>\n",
       "      <th>performance</th>\n",
       "      <th>computational cost</th>\n",
       "      <th>comments</th>\n",
       "      <th>eliminate</th>\n",
       "      <th>nesy_score</th>\n",
       "    </tr>\n",
       "  </thead>\n",
       "  <tbody>\n",
       "    <tr>\n",
       "      <th>3</th>\n",
       "      <td>3</td>\n",
       "      <td>2-s2.0-85075592929</td>\n",
       "      <td>\\cite{Bianchi2019161}</td>\n",
       "      <td>Complementing logical reasoning with sub-symbo...</td>\n",
       "      <td>compiled</td>\n",
       "      <td>5. Neuro_Symbolic</td>\n",
       "      <td>supervised</td>\n",
       "      <td>inference</td>\n",
       "      <td>0</td>\n",
       "      <td>1</td>\n",
       "      <td>...</td>\n",
       "      <td>1</td>\n",
       "      <td>1</td>\n",
       "      <td>0</td>\n",
       "      <td>0</td>\n",
       "      <td>1</td>\n",
       "      <td>on par with baselines</td>\n",
       "      <td>higher than baselines</td>\n",
       "      <td>Logic Tensor Networks (LTNs). \\nThe authors de...</td>\n",
       "      <td>dual process; \"subsymbolic commonsense\" (stron...</td>\n",
       "      <td>3</td>\n",
       "    </tr>\n",
       "    <tr>\n",
       "      <th>4</th>\n",
       "      <td>5</td>\n",
       "      <td>2-s2.0-85096590382</td>\n",
       "      <td>\\cite{Lemos2020647}</td>\n",
       "      <td>Neural-Symbolic Relational Reasoning on Graph ...</td>\n",
       "      <td>cooperative</td>\n",
       "      <td>3. Neuro; Symbolic</td>\n",
       "      <td>supervised</td>\n",
       "      <td>classification</td>\n",
       "      <td>0</td>\n",
       "      <td>1</td>\n",
       "      <td>...</td>\n",
       "      <td>0</td>\n",
       "      <td>0</td>\n",
       "      <td>0</td>\n",
       "      <td>0</td>\n",
       "      <td>1</td>\n",
       "      <td>better than baselines</td>\n",
       "      <td>NaN</td>\n",
       "      <td>\"reasoning and inference on link prediction\"\\n...</td>\n",
       "      <td>NaN</td>\n",
       "      <td>1</td>\n",
       "    </tr>\n",
       "    <tr>\n",
       "      <th>7</th>\n",
       "      <td>8</td>\n",
       "      <td>JN4IZETG</td>\n",
       "      <td>\\cite{Skrlj2021989}</td>\n",
       "      <td>autoBOT: evolving neuro-symbolic representatio...</td>\n",
       "      <td>cooperative</td>\n",
       "      <td>3. Neuro; Symbolic</td>\n",
       "      <td>supervised</td>\n",
       "      <td>classification</td>\n",
       "      <td>1</td>\n",
       "      <td>1</td>\n",
       "      <td>...</td>\n",
       "      <td>1</td>\n",
       "      <td>1</td>\n",
       "      <td>1</td>\n",
       "      <td>1</td>\n",
       "      <td>1</td>\n",
       "      <td>on par with baselines</td>\n",
       "      <td>lower than baselines</td>\n",
       "      <td>\"autoBOT also explores novel representation ty...</td>\n",
       "      <td>NaN</td>\n",
       "      <td>4</td>\n",
       "    </tr>\n",
       "    <tr>\n",
       "      <th>9</th>\n",
       "      <td>12</td>\n",
       "      <td>7Q5JRVK2</td>\n",
       "      <td>\\cite{Diligenti2017143}</td>\n",
       "      <td>Semantic-based regularization for learning and...</td>\n",
       "      <td>compiled</td>\n",
       "      <td>5. Neuro_Symbolic</td>\n",
       "      <td>semi-supervised</td>\n",
       "      <td>classification</td>\n",
       "      <td>0</td>\n",
       "      <td>0</td>\n",
       "      <td>...</td>\n",
       "      <td>0</td>\n",
       "      <td>0</td>\n",
       "      <td>1</td>\n",
       "      <td>0</td>\n",
       "      <td>1</td>\n",
       "      <td>better than baselines</td>\n",
       "      <td>NaN</td>\n",
       "      <td>symbolic logic is embedded in the regularizati...</td>\n",
       "      <td>NaN</td>\n",
       "      <td>2</td>\n",
       "    </tr>\n",
       "    <tr>\n",
       "      <th>21</th>\n",
       "      <td>27</td>\n",
       "      <td>2-s2.0-85073214635</td>\n",
       "      <td>\\cite{Sutherland2019}</td>\n",
       "      <td>Leveraging Recursive Processing for Neural-Sym...</td>\n",
       "      <td>sequential</td>\n",
       "      <td>1. symbolic Neuro symbolic</td>\n",
       "      <td>unsupervised</td>\n",
       "      <td>classification</td>\n",
       "      <td>1</td>\n",
       "      <td>0</td>\n",
       "      <td>...</td>\n",
       "      <td>0</td>\n",
       "      <td>1</td>\n",
       "      <td>0</td>\n",
       "      <td>0</td>\n",
       "      <td>1</td>\n",
       "      <td>better than baselines</td>\n",
       "      <td>NaN</td>\n",
       "      <td>leverages symbolic structure but does not reas...</td>\n",
       "      <td>NaN</td>\n",
       "      <td>2</td>\n",
       "    </tr>\n",
       "    <tr>\n",
       "      <th>25</th>\n",
       "      <td>32</td>\n",
       "      <td>2-s2.0-85108908770</td>\n",
       "      <td>\\cite{Chen2021328}</td>\n",
       "      <td>Web question answering with neurosymbolic prog...</td>\n",
       "      <td>nested</td>\n",
       "      <td>2. Symbolic[Neuro]</td>\n",
       "      <td>semi-supervised</td>\n",
       "      <td>information extraction</td>\n",
       "      <td>0</td>\n",
       "      <td>0</td>\n",
       "      <td>...</td>\n",
       "      <td>0</td>\n",
       "      <td>0</td>\n",
       "      <td>1</td>\n",
       "      <td>0</td>\n",
       "      <td>1</td>\n",
       "      <td>better than baselines</td>\n",
       "      <td>NaN</td>\n",
       "      <td>The authors don't explictly talk about reasoni...</td>\n",
       "      <td>NaN</td>\n",
       "      <td>1</td>\n",
       "    </tr>\n",
       "    <tr>\n",
       "      <th>27</th>\n",
       "      <td>34</td>\n",
       "      <td>2-s2.0-85083954234</td>\n",
       "      <td>\\cite{Mao2019}</td>\n",
       "      <td>The neuro-symbolic concept learner: Interpreti...</td>\n",
       "      <td>cooperative</td>\n",
       "      <td>3. Neuro; Symbolic</td>\n",
       "      <td>curriculum,\\nunsupervised\\n</td>\n",
       "      <td>classification,\\ninference</td>\n",
       "      <td>1</td>\n",
       "      <td>0</td>\n",
       "      <td>...</td>\n",
       "      <td>1</td>\n",
       "      <td>1</td>\n",
       "      <td>1</td>\n",
       "      <td>0</td>\n",
       "      <td>1</td>\n",
       "      <td>better than baselines</td>\n",
       "      <td>lower than baselines</td>\n",
       "      <td>The authors acknowledge impllict and explicit ...</td>\n",
       "      <td>NaN</td>\n",
       "      <td>4</td>\n",
       "    </tr>\n",
       "    <tr>\n",
       "      <th>33</th>\n",
       "      <td>40</td>\n",
       "      <td>2-s2.0-85106687657</td>\n",
       "      <td>\\cite{Demeter20207634}</td>\n",
       "      <td>Just Add Functions: A Neural-Symbolic Language...</td>\n",
       "      <td>compiled</td>\n",
       "      <td>4. Neuro: Symbolic → Neuro</td>\n",
       "      <td>supervised</td>\n",
       "      <td>generative</td>\n",
       "      <td>0</td>\n",
       "      <td>0</td>\n",
       "      <td>...</td>\n",
       "      <td>1</td>\n",
       "      <td>0</td>\n",
       "      <td>0</td>\n",
       "      <td>0</td>\n",
       "      <td>1</td>\n",
       "      <td>better than baselines</td>\n",
       "      <td>NaN</td>\n",
       "      <td>NNLM (neural network language model) cannot le...</td>\n",
       "      <td>NaN</td>\n",
       "      <td>2</td>\n",
       "    </tr>\n",
       "  </tbody>\n",
       "</table>\n",
       "<p>8 rows × 24 columns</p>\n",
       "</div>"
      ],
      "text/plain": [
       "    index                  ID                 citation  \\\n",
       "3       3  2-s2.0-85075592929    \\cite{Bianchi2019161}   \n",
       "4       5  2-s2.0-85096590382      \\cite{Lemos2020647}   \n",
       "7       8            JN4IZETG      \\cite{Skrlj2021989}   \n",
       "9      12            7Q5JRVK2  \\cite{Diligenti2017143}   \n",
       "21     27  2-s2.0-85073214635    \\cite{Sutherland2019}   \n",
       "25     32  2-s2.0-85108908770       \\cite{Chen2021328}   \n",
       "27     34  2-s2.0-85083954234           \\cite{Mao2019}   \n",
       "33     40  2-s2.0-85106687657   \\cite{Demeter20207634}   \n",
       "\n",
       "                                                Title Nesy Category  \\\n",
       "3   Complementing logical reasoning with sub-symbo...      compiled   \n",
       "4   Neural-Symbolic Relational Reasoning on Graph ...   cooperative   \n",
       "7   autoBOT: evolving neuro-symbolic representatio...   cooperative   \n",
       "9   Semantic-based regularization for learning and...      compiled   \n",
       "21  Leveraging Recursive Processing for Neural-Sym...    sequential   \n",
       "25  Web question answering with neurosymbolic prog...        nested   \n",
       "27  The neuro-symbolic concept learner: Interpreti...   cooperative   \n",
       "33  Just Add Functions: A Neural-Symbolic Language...      compiled   \n",
       "\n",
       "                Kautz category             Type of Learning  \\\n",
       "3            5. Neuro_Symbolic                   supervised   \n",
       "4           3. Neuro; Symbolic                   supervised   \n",
       "7           3. Neuro; Symbolic                   supervised   \n",
       "9            5. Neuro_Symbolic              semi-supervised   \n",
       "21  1. symbolic Neuro symbolic                 unsupervised   \n",
       "25          2. Symbolic[Neuro]              semi-supervised   \n",
       "27          3. Neuro; Symbolic  curriculum,\\nunsupervised\\n   \n",
       "33  4. Neuro: Symbolic → Neuro                   supervised   \n",
       "\n",
       "         technical Application  leverages natural language structure  \\\n",
       "3                    inference                                     0   \n",
       "4               classification                                     0   \n",
       "7               classification                                     1   \n",
       "9               classification                                     0   \n",
       "21              classification                                     1   \n",
       "25      information extraction                                     0   \n",
       "27  classification,\\ninference                                     1   \n",
       "33                  generative                                     0   \n",
       "\n",
       "    leverages relational structure  ... OOD interpretability reduced data  \\\n",
       "3                                1  ...   1                1            0   \n",
       "4                                1  ...   0                0            0   \n",
       "7                                1  ...   1                1            1   \n",
       "9                                0  ...   0                0            1   \n",
       "21                               0  ...   0                1            0   \n",
       "25                               0  ...   0                0            1   \n",
       "27                               0  ...   1                1            1   \n",
       "33                               0  ...   1                0            0   \n",
       "\n",
       "    transferability  nesy            performance     computational cost  \\\n",
       "3                 0     1  on par with baselines  higher than baselines   \n",
       "4                 0     1  better than baselines                    NaN   \n",
       "7                 1     1  on par with baselines   lower than baselines   \n",
       "9                 0     1  better than baselines                    NaN   \n",
       "21                0     1  better than baselines                    NaN   \n",
       "25                0     1  better than baselines                    NaN   \n",
       "27                0     1  better than baselines   lower than baselines   \n",
       "33                0     1  better than baselines                    NaN   \n",
       "\n",
       "                                             comments  \\\n",
       "3   Logic Tensor Networks (LTNs). \\nThe authors de...   \n",
       "4   \"reasoning and inference on link prediction\"\\n...   \n",
       "7   \"autoBOT also explores novel representation ty...   \n",
       "9   symbolic logic is embedded in the regularizati...   \n",
       "21  leverages symbolic structure but does not reas...   \n",
       "25  The authors don't explictly talk about reasoni...   \n",
       "27  The authors acknowledge impllict and explicit ...   \n",
       "33  NNLM (neural network language model) cannot le...   \n",
       "\n",
       "                                            eliminate nesy_score  \n",
       "3   dual process; \"subsymbolic commonsense\" (stron...          3  \n",
       "4                                                 NaN          1  \n",
       "7                                                 NaN          4  \n",
       "9                                                 NaN          2  \n",
       "21                                                NaN          2  \n",
       "25                                                NaN          1  \n",
       "27                                                NaN          4  \n",
       "33                                                NaN          2  \n",
       "\n",
       "[8 rows x 24 columns]"
      ]
     },
     "execution_count": 14,
     "metadata": {},
     "output_type": "execute_result"
    }
   ],
   "source": [
    "nesy"
   ]
  },
  {
   "cell_type": "code",
   "execution_count": 15,
   "metadata": {},
   "outputs": [
    {
     "data": {
      "text/plain": [
       "34"
      ]
     },
     "execution_count": 15,
     "metadata": {},
     "output_type": "execute_result"
    }
   ],
   "source": [
    "len(df)"
   ]
  },
  {
   "cell_type": "code",
   "execution_count": 16,
   "metadata": {},
   "outputs": [
    {
     "data": {
      "text/plain": [
       "1    10\n",
       "2    10\n",
       "0     8\n",
       "3     4\n",
       "4     2\n",
       "Name: nesy_score, dtype: int64"
      ]
     },
     "execution_count": 16,
     "metadata": {},
     "output_type": "execute_result"
    }
   ],
   "source": [
    "df['nesy_score'].value_counts()"
   ]
  },
  {
   "cell_type": "code",
   "execution_count": 17,
   "metadata": {},
   "outputs": [
    {
     "data": {
      "image/png": "[encoded data removed]",
      "text/plain": [
       "<Figure size 432x288 with 1 Axes>"
      ]
     },
     "metadata": {
      "needs_background": "light"
     },
     "output_type": "display_data"
    }
   ],
   "source": [
    "plt.bar([0,1,2,3,4],df['nesy_score'].value_counts())\n",
    "plt.xticks([0,1,2,3,4,5])\n",
    "plt.title(\"NeSy Score Distribution\\nConsidering all 36 papers\")\n",
    "plt.xlabel('Score')\n",
    "plt.ylabel('Number of Articles')\n",
    "plt.show()"
   ]
  },
  {
   "cell_type": "code",
   "execution_count": 18,
   "metadata": {},
   "outputs": [
    {
     "data": {
      "text/plain": [
       "2    3\n",
       "1    2\n",
       "4    2\n",
       "3    1\n",
       "Name: nesy_score, dtype: int64"
      ]
     },
     "execution_count": 18,
     "metadata": {},
     "output_type": "execute_result"
    }
   ],
   "source": [
    "nesy['nesy_score'].value_counts()"
   ]
  },
  {
   "cell_type": "code",
   "execution_count": 19,
   "metadata": {},
   "outputs": [
    {
     "data": {
      "image/png": "[encoded data removed]",
      "text/plain": [
       "<Figure size 432x288 with 1 Axes>"
      ]
     },
     "metadata": {
      "needs_background": "light"
     },
     "output_type": "display_data"
    }
   ],
   "source": [
    "plt.bar([1,2,3,4],nesy['nesy_score'].value_counts())\n",
    "plt.xticks([0,1,2,3,4,5])\n",
    "plt.title(\"NeSy Score Distribution\\nConsidering only papers which call themselves NeSy\")\n",
    "plt.xlabel('Score')\n",
    "plt.ylabel('Number of Articles')\n",
    "plt.show()"
   ]
  },
  {
   "cell_type": "code",
   "execution_count": 20,
   "metadata": {},
   "outputs": [],
   "source": [
    "x = ['Reasoning', 'OOD Generaization','Interpretability', 'Reduced data', 'Transferability']"
   ]
  },
  {
   "cell_type": "code",
   "execution_count": null,
   "metadata": {},
   "outputs": [],
   "source": []
  },
  {
   "cell_type": "code",
   "execution_count": 31,
   "metadata": {},
   "outputs": [
    {
     "data": {
      "image/png": "[encoded data removed]",
      "text/plain": [
       "<Figure size 432x288 with 1 Axes>"
      ]
     },
     "metadata": {
      "needs_background": "light"
     },
     "output_type": "display_data"
    }
   ],
   "source": [
    "y = [sum(df['reasoning']),sum(df['OOD']),sum(df['interpretability']),sum(df['reduced data']),sum(df['transferability'])]\n",
    "\n",
    "fig, ax = plt.subplots()\n",
    "\n",
    "plt.bar(x,[36]*5,color=\"#efeee8\")\n",
    "plt.bar(x,y,color=\"#450256\")\n",
    "plt.title(\"Number of studies meeting each promise,\\n(out of all 34 studies)\")\n",
    "plt.box(False)\n",
    "plt.yticks(range(0, 40, 4))\n",
    "plt.yticks([])\n",
    "plt.xticks(rotation=45,ha=\"right\") \n",
    "\n",
    "for index,data in enumerate(y):\n",
    "    ax.text(x=index-0.12 , y = data+1 , s=f\"{data}\")\n",
    "\n",
    "\n",
    "plt.savefig(\"images/all_promises.svg\", format=\"svg\")\n",
    "plt.show()\n"
   ]
  },
  {
   "cell_type": "code",
   "execution_count": 30,
   "metadata": {},
   "outputs": [
    {
     "data": {
      "image/png": "[encoded data removed]",
      "text/plain": [
       "<Figure size 432x288 with 1 Axes>"
      ]
     },
     "metadata": {
      "needs_background": "light"
     },
     "output_type": "display_data"
    }
   ],
   "source": [
    "y = [sum(nesy['reasoning']),sum(nesy['OOD']),sum(nesy['interpretability']),sum(nesy['reduced data']),sum(nesy['transferability'])]\n",
    "\n",
    "fig, ax = plt.subplots()\n",
    "plt.box(False)\n",
    "plt.bar(x,[8]*5,color=\"#efeee8\")\n",
    "plt.bar(x,y,color=\"#450256\")\n",
    "plt.title(\"Number of studies meeting each promise,\\n(out of the 8 studies which call themselves NeSy)\")\n",
    "plt.yticks(range(0, 8, 1))\n",
    "plt.yticks([])\n",
    "plt.xticks(rotation=45,ha=\"right\") \n",
    "for index,data in enumerate(y):\n",
    "    ax.text(x=index-0.12 , y = data+.3 , s=f\"{data}\")\n",
    "plt.savefig(\"images/nesy_promises.svg\", format=\"svg\")\n",
    "plt.show()"
   ]
  },
  {
   "cell_type": "raw",
   "metadata": {},
   "source": [
    "index = df['ID']\n",
    "columns = ['Reasoning', 'OOD Generaization','Interpretability', 'Reduced data', 'Transferability']\n",
    "# heatmap_df = pd.DataFrame(df[['reasoning', 'OOD', 'interpretability', 'reduced data',\n",
    "#        'transferability', 'nesy']], index=index, columns=columns)\n",
    "fig, ax = plt.subplots(figsize=(5, 20))\n",
    "heatmap_df=df[['reasoning', 'OOD', 'interpretability', 'reduced data',\n",
    "       'transferability', 'nesy']]\n",
    "\n",
    "plt.pcolor(heatmap_df)\n",
    "plt.yticks(np.arange(0.5, len(heatmap_df.index), 1), heatmap_df.index)\n",
    "plt.xticks(np.arange(0.5, len(heatmap_df.columns), 1), heatmap_df.columns, rotation=90)\n",
    "plt.show()"
   ]
  },
  {
   "cell_type": "code",
   "execution_count": 42,
   "metadata": {},
   "outputs": [],
   "source": [
    "heat_df=df[['reasoning', 'OOD', 'interpretability', 'reduced data',\n",
    "       'transferability', 'nesy','nesy_score']]\n",
    "heat_df=heat_df.style.background_gradient(cmap='Blues')"
   ]
  },
  {
   "cell_type": "code",
   "execution_count": 43,
   "metadata": {},
   "outputs": [],
   "source": [
    "# !pip install dataframe_image\n",
    "# !pip install ipython --upgrade\n",
    "# !python -m pip install --upgrade pandas"
   ]
  },
  {
   "cell_type": "code",
   "execution_count": 44,
   "metadata": {},
   "outputs": [
    {
     "name": "stdout",
     "output_type": "stream",
     "text": [
      "1.3.5\n"
     ]
    }
   ],
   "source": [
    "import pandas as pd\n",
    "print(pd.__version__)"
   ]
  },
  {
   "cell_type": "code",
   "execution_count": 45,
   "metadata": {},
   "outputs": [
    {
     "data": {
      "text/html": [
       "<style type=\"text/css\">\n",
       "#T_d3198_row0_col0, #T_d3198_row0_col1, #T_d3198_row0_col2, #T_d3198_row0_col3, #T_d3198_row0_col4, #T_d3198_row0_col5, #T_d3198_row0_col6, #T_d3198_row1_col0, #T_d3198_row1_col1, #T_d3198_row1_col2, #T_d3198_row1_col3, #T_d3198_row1_col4, #T_d3198_row1_col5, #T_d3198_row1_col6, #T_d3198_row2_col0, #T_d3198_row2_col1, #T_d3198_row2_col2, #T_d3198_row2_col3, #T_d3198_row2_col4, #T_d3198_row2_col5, #T_d3198_row2_col6, #T_d3198_row3_col3, #T_d3198_row3_col4, #T_d3198_row4_col0, #T_d3198_row4_col1, #T_d3198_row4_col2, #T_d3198_row4_col3, #T_d3198_row4_col4, #T_d3198_row4_col5, #T_d3198_row4_col6, #T_d3198_row5_col1, #T_d3198_row5_col2, #T_d3198_row5_col3, #T_d3198_row5_col4, #T_d3198_row6_col0, #T_d3198_row6_col1, #T_d3198_row6_col2, #T_d3198_row6_col3, #T_d3198_row6_col4, #T_d3198_row6_col5, #T_d3198_row6_col6, #T_d3198_row7_col0, #T_d3198_row7_col1, #T_d3198_row7_col2, #T_d3198_row7_col3, #T_d3198_row7_col4, #T_d3198_row7_col5, #T_d3198_row7_col6, #T_d3198_row8_col0, #T_d3198_row9_col1, #T_d3198_row9_col3, #T_d3198_row9_col4, #T_d3198_row9_col5, #T_d3198_row10_col1, #T_d3198_row10_col2, #T_d3198_row10_col4, #T_d3198_row11_col1, #T_d3198_row11_col3, #T_d3198_row11_col4, #T_d3198_row11_col5, #T_d3198_row12_col2, #T_d3198_row12_col3, #T_d3198_row12_col4, #T_d3198_row12_col5, #T_d3198_row13_col1, #T_d3198_row13_col2, #T_d3198_row13_col3, #T_d3198_row13_col4, #T_d3198_row13_col5, #T_d3198_row14_col1, #T_d3198_row14_col2, #T_d3198_row14_col3, #T_d3198_row14_col4, #T_d3198_row14_col5, #T_d3198_row15_col1, #T_d3198_row15_col4, #T_d3198_row15_col5, #T_d3198_row16_col1, #T_d3198_row16_col2, #T_d3198_row16_col3, #T_d3198_row16_col5, #T_d3198_row17_col1, #T_d3198_row17_col2, #T_d3198_row17_col3, #T_d3198_row17_col4, #T_d3198_row17_col5, #T_d3198_row18_col0, #T_d3198_row18_col2, #T_d3198_row18_col4, #T_d3198_row18_col5, #T_d3198_row19_col0, #T_d3198_row19_col1, #T_d3198_row19_col2, #T_d3198_row19_col3, #T_d3198_row19_col4, #T_d3198_row19_col5, #T_d3198_row19_col6, #T_d3198_row20_col1, #T_d3198_row20_col2, #T_d3198_row20_col3, #T_d3198_row20_col4, #T_d3198_row20_col5, #T_d3198_row21_col1, #T_d3198_row21_col2, #T_d3198_row21_col4, #T_d3198_row21_col5, #T_d3198_row22_col1, #T_d3198_row22_col3, #T_d3198_row22_col4, #T_d3198_row23_col1, #T_d3198_row23_col2, #T_d3198_row23_col3, #T_d3198_row23_col4, #T_d3198_row23_col5, #T_d3198_row24_col1, #T_d3198_row24_col2, #T_d3198_row24_col3, #T_d3198_row24_col4, #T_d3198_row24_col5, #T_d3198_row25_col1, #T_d3198_row25_col2, #T_d3198_row25_col4, #T_d3198_row25_col5, #T_d3198_row26_col0, #T_d3198_row26_col1, #T_d3198_row26_col2, #T_d3198_row26_col4, #T_d3198_row27_col1, #T_d3198_row27_col2, #T_d3198_row27_col3, #T_d3198_row27_col4, #T_d3198_row27_col5, #T_d3198_row28_col4, #T_d3198_row29_col1, #T_d3198_row29_col2, #T_d3198_row29_col3, #T_d3198_row29_col4, #T_d3198_row29_col5, #T_d3198_row30_col0, #T_d3198_row30_col1, #T_d3198_row30_col2, #T_d3198_row30_col3, #T_d3198_row30_col4, #T_d3198_row30_col5, #T_d3198_row30_col6, #T_d3198_row31_col0, #T_d3198_row31_col1, #T_d3198_row31_col2, #T_d3198_row31_col3, #T_d3198_row31_col4, #T_d3198_row31_col5, #T_d3198_row31_col6, #T_d3198_row32_col0, #T_d3198_row32_col2, #T_d3198_row32_col5, #T_d3198_row33_col1, #T_d3198_row33_col3, #T_d3198_row33_col5, #T_d3198_row34_col2, #T_d3198_row34_col3, #T_d3198_row34_col4 {\n",
       "  background-color: #f7fbff;\n",
       "  color: #000000;\n",
       "}\n",
       "#T_d3198_row3_col0, #T_d3198_row3_col1, #T_d3198_row3_col2, #T_d3198_row3_col5, #T_d3198_row5_col0, #T_d3198_row5_col5, #T_d3198_row8_col1, #T_d3198_row8_col2, #T_d3198_row8_col3, #T_d3198_row8_col4, #T_d3198_row8_col5, #T_d3198_row8_col6, #T_d3198_row9_col0, #T_d3198_row9_col2, #T_d3198_row10_col0, #T_d3198_row10_col3, #T_d3198_row10_col5, #T_d3198_row11_col0, #T_d3198_row11_col2, #T_d3198_row12_col0, #T_d3198_row12_col1, #T_d3198_row13_col0, #T_d3198_row14_col0, #T_d3198_row15_col0, #T_d3198_row15_col2, #T_d3198_row15_col3, #T_d3198_row16_col0, #T_d3198_row16_col4, #T_d3198_row17_col0, #T_d3198_row18_col1, #T_d3198_row18_col3, #T_d3198_row20_col0, #T_d3198_row21_col0, #T_d3198_row21_col3, #T_d3198_row22_col0, #T_d3198_row22_col2, #T_d3198_row22_col5, #T_d3198_row23_col0, #T_d3198_row24_col0, #T_d3198_row25_col0, #T_d3198_row25_col3, #T_d3198_row26_col3, #T_d3198_row26_col5, #T_d3198_row27_col0, #T_d3198_row28_col0, #T_d3198_row28_col1, #T_d3198_row28_col2, #T_d3198_row28_col3, #T_d3198_row28_col5, #T_d3198_row28_col6, #T_d3198_row29_col0, #T_d3198_row32_col1, #T_d3198_row32_col3, #T_d3198_row32_col4, #T_d3198_row33_col0, #T_d3198_row33_col2, #T_d3198_row33_col4, #T_d3198_row34_col0, #T_d3198_row34_col1, #T_d3198_row34_col5 {\n",
       "  background-color: #08306b;\n",
       "  color: #f1f1f1;\n",
       "}\n",
       "#T_d3198_row3_col6, #T_d3198_row15_col6, #T_d3198_row32_col6, #T_d3198_row33_col6 {\n",
       "  background-color: #2070b4;\n",
       "  color: #f1f1f1;\n",
       "}\n",
       "#T_d3198_row5_col6, #T_d3198_row13_col6, #T_d3198_row14_col6, #T_d3198_row17_col6, #T_d3198_row20_col6, #T_d3198_row23_col6, #T_d3198_row24_col6, #T_d3198_row26_col6, #T_d3198_row27_col6, #T_d3198_row29_col6 {\n",
       "  background-color: #c6dbef;\n",
       "  color: #000000;\n",
       "}\n",
       "#T_d3198_row9_col6, #T_d3198_row10_col6, #T_d3198_row11_col6, #T_d3198_row12_col6, #T_d3198_row16_col6, #T_d3198_row18_col6, #T_d3198_row21_col6, #T_d3198_row22_col6, #T_d3198_row25_col6, #T_d3198_row34_col6 {\n",
       "  background-color: #6aaed6;\n",
       "  color: #f1f1f1;\n",
       "}\n",
       "</style>\n",
       "<table id=\"T_d3198_\">\n",
       "  <thead>\n",
       "    <tr>\n",
       "      <th class=\"blank level0\" >&nbsp;</th>\n",
       "      <th class=\"col_heading level0 col0\" >reasoning</th>\n",
       "      <th class=\"col_heading level0 col1\" >OOD</th>\n",
       "      <th class=\"col_heading level0 col2\" >interpretability</th>\n",
       "      <th class=\"col_heading level0 col3\" >reduced data</th>\n",
       "      <th class=\"col_heading level0 col4\" >transferability</th>\n",
       "      <th class=\"col_heading level0 col5\" >nesy</th>\n",
       "      <th class=\"col_heading level0 col6\" >nesy_score</th>\n",
       "    </tr>\n",
       "  </thead>\n",
       "  <tbody>\n",
       "    <tr>\n",
       "      <th id=\"T_d3198_level0_row0\" class=\"row_heading level0 row0\" >0</th>\n",
       "      <td id=\"T_d3198_row0_col0\" class=\"data row0 col0\" >0</td>\n",
       "      <td id=\"T_d3198_row0_col1\" class=\"data row0 col1\" >0</td>\n",
       "      <td id=\"T_d3198_row0_col2\" class=\"data row0 col2\" >0</td>\n",
       "      <td id=\"T_d3198_row0_col3\" class=\"data row0 col3\" >0</td>\n",
       "      <td id=\"T_d3198_row0_col4\" class=\"data row0 col4\" >0</td>\n",
       "      <td id=\"T_d3198_row0_col5\" class=\"data row0 col5\" >0</td>\n",
       "      <td id=\"T_d3198_row0_col6\" class=\"data row0 col6\" >0</td>\n",
       "    </tr>\n",
       "    <tr>\n",
       "      <th id=\"T_d3198_level0_row1\" class=\"row_heading level0 row1\" >1</th>\n",
       "      <td id=\"T_d3198_row1_col0\" class=\"data row1 col0\" >0</td>\n",
       "      <td id=\"T_d3198_row1_col1\" class=\"data row1 col1\" >0</td>\n",
       "      <td id=\"T_d3198_row1_col2\" class=\"data row1 col2\" >0</td>\n",
       "      <td id=\"T_d3198_row1_col3\" class=\"data row1 col3\" >0</td>\n",
       "      <td id=\"T_d3198_row1_col4\" class=\"data row1 col4\" >0</td>\n",
       "      <td id=\"T_d3198_row1_col5\" class=\"data row1 col5\" >0</td>\n",
       "      <td id=\"T_d3198_row1_col6\" class=\"data row1 col6\" >0</td>\n",
       "    </tr>\n",
       "    <tr>\n",
       "      <th id=\"T_d3198_level0_row2\" class=\"row_heading level0 row2\" >2</th>\n",
       "      <td id=\"T_d3198_row2_col0\" class=\"data row2 col0\" >0</td>\n",
       "      <td id=\"T_d3198_row2_col1\" class=\"data row2 col1\" >0</td>\n",
       "      <td id=\"T_d3198_row2_col2\" class=\"data row2 col2\" >0</td>\n",
       "      <td id=\"T_d3198_row2_col3\" class=\"data row2 col3\" >0</td>\n",
       "      <td id=\"T_d3198_row2_col4\" class=\"data row2 col4\" >0</td>\n",
       "      <td id=\"T_d3198_row2_col5\" class=\"data row2 col5\" >0</td>\n",
       "      <td id=\"T_d3198_row2_col6\" class=\"data row2 col6\" >0</td>\n",
       "    </tr>\n",
       "    <tr>\n",
       "      <th id=\"T_d3198_level0_row3\" class=\"row_heading level0 row3\" >3</th>\n",
       "      <td id=\"T_d3198_row3_col0\" class=\"data row3 col0\" >1</td>\n",
       "      <td id=\"T_d3198_row3_col1\" class=\"data row3 col1\" >1</td>\n",
       "      <td id=\"T_d3198_row3_col2\" class=\"data row3 col2\" >1</td>\n",
       "      <td id=\"T_d3198_row3_col3\" class=\"data row3 col3\" >0</td>\n",
       "      <td id=\"T_d3198_row3_col4\" class=\"data row3 col4\" >0</td>\n",
       "      <td id=\"T_d3198_row3_col5\" class=\"data row3 col5\" >1</td>\n",
       "      <td id=\"T_d3198_row3_col6\" class=\"data row3 col6\" >3</td>\n",
       "    </tr>\n",
       "    <tr>\n",
       "      <th id=\"T_d3198_level0_row4\" class=\"row_heading level0 row4\" >4</th>\n",
       "      <td id=\"T_d3198_row4_col0\" class=\"data row4 col0\" >0</td>\n",
       "      <td id=\"T_d3198_row4_col1\" class=\"data row4 col1\" >0</td>\n",
       "      <td id=\"T_d3198_row4_col2\" class=\"data row4 col2\" >0</td>\n",
       "      <td id=\"T_d3198_row4_col3\" class=\"data row4 col3\" >0</td>\n",
       "      <td id=\"T_d3198_row4_col4\" class=\"data row4 col4\" >0</td>\n",
       "      <td id=\"T_d3198_row4_col5\" class=\"data row4 col5\" >0</td>\n",
       "      <td id=\"T_d3198_row4_col6\" class=\"data row4 col6\" >0</td>\n",
       "    </tr>\n",
       "    <tr>\n",
       "      <th id=\"T_d3198_level0_row5\" class=\"row_heading level0 row5\" >5</th>\n",
       "      <td id=\"T_d3198_row5_col0\" class=\"data row5 col0\" >1</td>\n",
       "      <td id=\"T_d3198_row5_col1\" class=\"data row5 col1\" >0</td>\n",
       "      <td id=\"T_d3198_row5_col2\" class=\"data row5 col2\" >0</td>\n",
       "      <td id=\"T_d3198_row5_col3\" class=\"data row5 col3\" >0</td>\n",
       "      <td id=\"T_d3198_row5_col4\" class=\"data row5 col4\" >0</td>\n",
       "      <td id=\"T_d3198_row5_col5\" class=\"data row5 col5\" >1</td>\n",
       "      <td id=\"T_d3198_row5_col6\" class=\"data row5 col6\" >1</td>\n",
       "    </tr>\n",
       "    <tr>\n",
       "      <th id=\"T_d3198_level0_row6\" class=\"row_heading level0 row6\" >6</th>\n",
       "      <td id=\"T_d3198_row6_col0\" class=\"data row6 col0\" >0</td>\n",
       "      <td id=\"T_d3198_row6_col1\" class=\"data row6 col1\" >0</td>\n",
       "      <td id=\"T_d3198_row6_col2\" class=\"data row6 col2\" >0</td>\n",
       "      <td id=\"T_d3198_row6_col3\" class=\"data row6 col3\" >0</td>\n",
       "      <td id=\"T_d3198_row6_col4\" class=\"data row6 col4\" >0</td>\n",
       "      <td id=\"T_d3198_row6_col5\" class=\"data row6 col5\" >0</td>\n",
       "      <td id=\"T_d3198_row6_col6\" class=\"data row6 col6\" >0</td>\n",
       "    </tr>\n",
       "    <tr>\n",
       "      <th id=\"T_d3198_level0_row7\" class=\"row_heading level0 row7\" >7</th>\n",
       "      <td id=\"T_d3198_row7_col0\" class=\"data row7 col0\" >0</td>\n",
       "      <td id=\"T_d3198_row7_col1\" class=\"data row7 col1\" >0</td>\n",
       "      <td id=\"T_d3198_row7_col2\" class=\"data row7 col2\" >0</td>\n",
       "      <td id=\"T_d3198_row7_col3\" class=\"data row7 col3\" >0</td>\n",
       "      <td id=\"T_d3198_row7_col4\" class=\"data row7 col4\" >0</td>\n",
       "      <td id=\"T_d3198_row7_col5\" class=\"data row7 col5\" >0</td>\n",
       "      <td id=\"T_d3198_row7_col6\" class=\"data row7 col6\" >0</td>\n",
       "    </tr>\n",
       "    <tr>\n",
       "      <th id=\"T_d3198_level0_row8\" class=\"row_heading level0 row8\" >8</th>\n",
       "      <td id=\"T_d3198_row8_col0\" class=\"data row8 col0\" >0</td>\n",
       "      <td id=\"T_d3198_row8_col1\" class=\"data row8 col1\" >1</td>\n",
       "      <td id=\"T_d3198_row8_col2\" class=\"data row8 col2\" >1</td>\n",
       "      <td id=\"T_d3198_row8_col3\" class=\"data row8 col3\" >1</td>\n",
       "      <td id=\"T_d3198_row8_col4\" class=\"data row8 col4\" >1</td>\n",
       "      <td id=\"T_d3198_row8_col5\" class=\"data row8 col5\" >1</td>\n",
       "      <td id=\"T_d3198_row8_col6\" class=\"data row8 col6\" >4</td>\n",
       "    </tr>\n",
       "    <tr>\n",
       "      <th id=\"T_d3198_level0_row9\" class=\"row_heading level0 row9\" >9</th>\n",
       "      <td id=\"T_d3198_row9_col0\" class=\"data row9 col0\" >1</td>\n",
       "      <td id=\"T_d3198_row9_col1\" class=\"data row9 col1\" >0</td>\n",
       "      <td id=\"T_d3198_row9_col2\" class=\"data row9 col2\" >1</td>\n",
       "      <td id=\"T_d3198_row9_col3\" class=\"data row9 col3\" >0</td>\n",
       "      <td id=\"T_d3198_row9_col4\" class=\"data row9 col4\" >0</td>\n",
       "      <td id=\"T_d3198_row9_col5\" class=\"data row9 col5\" >0</td>\n",
       "      <td id=\"T_d3198_row9_col6\" class=\"data row9 col6\" >2</td>\n",
       "    </tr>\n",
       "    <tr>\n",
       "      <th id=\"T_d3198_level0_row10\" class=\"row_heading level0 row10\" >10</th>\n",
       "      <td id=\"T_d3198_row10_col0\" class=\"data row10 col0\" >1</td>\n",
       "      <td id=\"T_d3198_row10_col1\" class=\"data row10 col1\" >0</td>\n",
       "      <td id=\"T_d3198_row10_col2\" class=\"data row10 col2\" >0</td>\n",
       "      <td id=\"T_d3198_row10_col3\" class=\"data row10 col3\" >1</td>\n",
       "      <td id=\"T_d3198_row10_col4\" class=\"data row10 col4\" >0</td>\n",
       "      <td id=\"T_d3198_row10_col5\" class=\"data row10 col5\" >1</td>\n",
       "      <td id=\"T_d3198_row10_col6\" class=\"data row10 col6\" >2</td>\n",
       "    </tr>\n",
       "    <tr>\n",
       "      <th id=\"T_d3198_level0_row11\" class=\"row_heading level0 row11\" >11</th>\n",
       "      <td id=\"T_d3198_row11_col0\" class=\"data row11 col0\" >1</td>\n",
       "      <td id=\"T_d3198_row11_col1\" class=\"data row11 col1\" >0</td>\n",
       "      <td id=\"T_d3198_row11_col2\" class=\"data row11 col2\" >1</td>\n",
       "      <td id=\"T_d3198_row11_col3\" class=\"data row11 col3\" >0</td>\n",
       "      <td id=\"T_d3198_row11_col4\" class=\"data row11 col4\" >0</td>\n",
       "      <td id=\"T_d3198_row11_col5\" class=\"data row11 col5\" >0</td>\n",
       "      <td id=\"T_d3198_row11_col6\" class=\"data row11 col6\" >2</td>\n",
       "    </tr>\n",
       "    <tr>\n",
       "      <th id=\"T_d3198_level0_row12\" class=\"row_heading level0 row12\" >12</th>\n",
       "      <td id=\"T_d3198_row12_col0\" class=\"data row12 col0\" >1</td>\n",
       "      <td id=\"T_d3198_row12_col1\" class=\"data row12 col1\" >1</td>\n",
       "      <td id=\"T_d3198_row12_col2\" class=\"data row12 col2\" >0</td>\n",
       "      <td id=\"T_d3198_row12_col3\" class=\"data row12 col3\" >0</td>\n",
       "      <td id=\"T_d3198_row12_col4\" class=\"data row12 col4\" >0</td>\n",
       "      <td id=\"T_d3198_row12_col5\" class=\"data row12 col5\" >0</td>\n",
       "      <td id=\"T_d3198_row12_col6\" class=\"data row12 col6\" >2</td>\n",
       "    </tr>\n",
       "    <tr>\n",
       "      <th id=\"T_d3198_level0_row13\" class=\"row_heading level0 row13\" >13</th>\n",
       "      <td id=\"T_d3198_row13_col0\" class=\"data row13 col0\" >1</td>\n",
       "      <td id=\"T_d3198_row13_col1\" class=\"data row13 col1\" >0</td>\n",
       "      <td id=\"T_d3198_row13_col2\" class=\"data row13 col2\" >0</td>\n",
       "      <td id=\"T_d3198_row13_col3\" class=\"data row13 col3\" >0</td>\n",
       "      <td id=\"T_d3198_row13_col4\" class=\"data row13 col4\" >0</td>\n",
       "      <td id=\"T_d3198_row13_col5\" class=\"data row13 col5\" >0</td>\n",
       "      <td id=\"T_d3198_row13_col6\" class=\"data row13 col6\" >1</td>\n",
       "    </tr>\n",
       "    <tr>\n",
       "      <th id=\"T_d3198_level0_row14\" class=\"row_heading level0 row14\" >14</th>\n",
       "      <td id=\"T_d3198_row14_col0\" class=\"data row14 col0\" >1</td>\n",
       "      <td id=\"T_d3198_row14_col1\" class=\"data row14 col1\" >0</td>\n",
       "      <td id=\"T_d3198_row14_col2\" class=\"data row14 col2\" >0</td>\n",
       "      <td id=\"T_d3198_row14_col3\" class=\"data row14 col3\" >0</td>\n",
       "      <td id=\"T_d3198_row14_col4\" class=\"data row14 col4\" >0</td>\n",
       "      <td id=\"T_d3198_row14_col5\" class=\"data row14 col5\" >0</td>\n",
       "      <td id=\"T_d3198_row14_col6\" class=\"data row14 col6\" >1</td>\n",
       "    </tr>\n",
       "    <tr>\n",
       "      <th id=\"T_d3198_level0_row15\" class=\"row_heading level0 row15\" >15</th>\n",
       "      <td id=\"T_d3198_row15_col0\" class=\"data row15 col0\" >1</td>\n",
       "      <td id=\"T_d3198_row15_col1\" class=\"data row15 col1\" >0</td>\n",
       "      <td id=\"T_d3198_row15_col2\" class=\"data row15 col2\" >1</td>\n",
       "      <td id=\"T_d3198_row15_col3\" class=\"data row15 col3\" >1</td>\n",
       "      <td id=\"T_d3198_row15_col4\" class=\"data row15 col4\" >0</td>\n",
       "      <td id=\"T_d3198_row15_col5\" class=\"data row15 col5\" >0</td>\n",
       "      <td id=\"T_d3198_row15_col6\" class=\"data row15 col6\" >3</td>\n",
       "    </tr>\n",
       "    <tr>\n",
       "      <th id=\"T_d3198_level0_row16\" class=\"row_heading level0 row16\" >16</th>\n",
       "      <td id=\"T_d3198_row16_col0\" class=\"data row16 col0\" >1</td>\n",
       "      <td id=\"T_d3198_row16_col1\" class=\"data row16 col1\" >0</td>\n",
       "      <td id=\"T_d3198_row16_col2\" class=\"data row16 col2\" >0</td>\n",
       "      <td id=\"T_d3198_row16_col3\" class=\"data row16 col3\" >0</td>\n",
       "      <td id=\"T_d3198_row16_col4\" class=\"data row16 col4\" >1</td>\n",
       "      <td id=\"T_d3198_row16_col5\" class=\"data row16 col5\" >0</td>\n",
       "      <td id=\"T_d3198_row16_col6\" class=\"data row16 col6\" >2</td>\n",
       "    </tr>\n",
       "    <tr>\n",
       "      <th id=\"T_d3198_level0_row17\" class=\"row_heading level0 row17\" >17</th>\n",
       "      <td id=\"T_d3198_row17_col0\" class=\"data row17 col0\" >1</td>\n",
       "      <td id=\"T_d3198_row17_col1\" class=\"data row17 col1\" >0</td>\n",
       "      <td id=\"T_d3198_row17_col2\" class=\"data row17 col2\" >0</td>\n",
       "      <td id=\"T_d3198_row17_col3\" class=\"data row17 col3\" >0</td>\n",
       "      <td id=\"T_d3198_row17_col4\" class=\"data row17 col4\" >0</td>\n",
       "      <td id=\"T_d3198_row17_col5\" class=\"data row17 col5\" >0</td>\n",
       "      <td id=\"T_d3198_row17_col6\" class=\"data row17 col6\" >1</td>\n",
       "    </tr>\n",
       "    <tr>\n",
       "      <th id=\"T_d3198_level0_row18\" class=\"row_heading level0 row18\" >18</th>\n",
       "      <td id=\"T_d3198_row18_col0\" class=\"data row18 col0\" >0</td>\n",
       "      <td id=\"T_d3198_row18_col1\" class=\"data row18 col1\" >1</td>\n",
       "      <td id=\"T_d3198_row18_col2\" class=\"data row18 col2\" >0</td>\n",
       "      <td id=\"T_d3198_row18_col3\" class=\"data row18 col3\" >1</td>\n",
       "      <td id=\"T_d3198_row18_col4\" class=\"data row18 col4\" >0</td>\n",
       "      <td id=\"T_d3198_row18_col5\" class=\"data row18 col5\" >0</td>\n",
       "      <td id=\"T_d3198_row18_col6\" class=\"data row18 col6\" >2</td>\n",
       "    </tr>\n",
       "    <tr>\n",
       "      <th id=\"T_d3198_level0_row19\" class=\"row_heading level0 row19\" >19</th>\n",
       "      <td id=\"T_d3198_row19_col0\" class=\"data row19 col0\" >0</td>\n",
       "      <td id=\"T_d3198_row19_col1\" class=\"data row19 col1\" >0</td>\n",
       "      <td id=\"T_d3198_row19_col2\" class=\"data row19 col2\" >0</td>\n",
       "      <td id=\"T_d3198_row19_col3\" class=\"data row19 col3\" >0</td>\n",
       "      <td id=\"T_d3198_row19_col4\" class=\"data row19 col4\" >0</td>\n",
       "      <td id=\"T_d3198_row19_col5\" class=\"data row19 col5\" >0</td>\n",
       "      <td id=\"T_d3198_row19_col6\" class=\"data row19 col6\" >0</td>\n",
       "    </tr>\n",
       "    <tr>\n",
       "      <th id=\"T_d3198_level0_row20\" class=\"row_heading level0 row20\" >20</th>\n",
       "      <td id=\"T_d3198_row20_col0\" class=\"data row20 col0\" >1</td>\n",
       "      <td id=\"T_d3198_row20_col1\" class=\"data row20 col1\" >0</td>\n",
       "      <td id=\"T_d3198_row20_col2\" class=\"data row20 col2\" >0</td>\n",
       "      <td id=\"T_d3198_row20_col3\" class=\"data row20 col3\" >0</td>\n",
       "      <td id=\"T_d3198_row20_col4\" class=\"data row20 col4\" >0</td>\n",
       "      <td id=\"T_d3198_row20_col5\" class=\"data row20 col5\" >0</td>\n",
       "      <td id=\"T_d3198_row20_col6\" class=\"data row20 col6\" >1</td>\n",
       "    </tr>\n",
       "    <tr>\n",
       "      <th id=\"T_d3198_level0_row21\" class=\"row_heading level0 row21\" >21</th>\n",
       "      <td id=\"T_d3198_row21_col0\" class=\"data row21 col0\" >1</td>\n",
       "      <td id=\"T_d3198_row21_col1\" class=\"data row21 col1\" >0</td>\n",
       "      <td id=\"T_d3198_row21_col2\" class=\"data row21 col2\" >0</td>\n",
       "      <td id=\"T_d3198_row21_col3\" class=\"data row21 col3\" >1</td>\n",
       "      <td id=\"T_d3198_row21_col4\" class=\"data row21 col4\" >0</td>\n",
       "      <td id=\"T_d3198_row21_col5\" class=\"data row21 col5\" >0</td>\n",
       "      <td id=\"T_d3198_row21_col6\" class=\"data row21 col6\" >2</td>\n",
       "    </tr>\n",
       "    <tr>\n",
       "      <th id=\"T_d3198_level0_row22\" class=\"row_heading level0 row22\" >22</th>\n",
       "      <td id=\"T_d3198_row22_col0\" class=\"data row22 col0\" >1</td>\n",
       "      <td id=\"T_d3198_row22_col1\" class=\"data row22 col1\" >0</td>\n",
       "      <td id=\"T_d3198_row22_col2\" class=\"data row22 col2\" >1</td>\n",
       "      <td id=\"T_d3198_row22_col3\" class=\"data row22 col3\" >0</td>\n",
       "      <td id=\"T_d3198_row22_col4\" class=\"data row22 col4\" >0</td>\n",
       "      <td id=\"T_d3198_row22_col5\" class=\"data row22 col5\" >1</td>\n",
       "      <td id=\"T_d3198_row22_col6\" class=\"data row22 col6\" >2</td>\n",
       "    </tr>\n",
       "    <tr>\n",
       "      <th id=\"T_d3198_level0_row23\" class=\"row_heading level0 row23\" >23</th>\n",
       "      <td id=\"T_d3198_row23_col0\" class=\"data row23 col0\" >1</td>\n",
       "      <td id=\"T_d3198_row23_col1\" class=\"data row23 col1\" >0</td>\n",
       "      <td id=\"T_d3198_row23_col2\" class=\"data row23 col2\" >0</td>\n",
       "      <td id=\"T_d3198_row23_col3\" class=\"data row23 col3\" >0</td>\n",
       "      <td id=\"T_d3198_row23_col4\" class=\"data row23 col4\" >0</td>\n",
       "      <td id=\"T_d3198_row23_col5\" class=\"data row23 col5\" >0</td>\n",
       "      <td id=\"T_d3198_row23_col6\" class=\"data row23 col6\" >1</td>\n",
       "    </tr>\n",
       "    <tr>\n",
       "      <th id=\"T_d3198_level0_row24\" class=\"row_heading level0 row24\" >24</th>\n",
       "      <td id=\"T_d3198_row24_col0\" class=\"data row24 col0\" >1</td>\n",
       "      <td id=\"T_d3198_row24_col1\" class=\"data row24 col1\" >0</td>\n",
       "      <td id=\"T_d3198_row24_col2\" class=\"data row24 col2\" >0</td>\n",
       "      <td id=\"T_d3198_row24_col3\" class=\"data row24 col3\" >0</td>\n",
       "      <td id=\"T_d3198_row24_col4\" class=\"data row24 col4\" >0</td>\n",
       "      <td id=\"T_d3198_row24_col5\" class=\"data row24 col5\" >0</td>\n",
       "      <td id=\"T_d3198_row24_col6\" class=\"data row24 col6\" >1</td>\n",
       "    </tr>\n",
       "    <tr>\n",
       "      <th id=\"T_d3198_level0_row25\" class=\"row_heading level0 row25\" >25</th>\n",
       "      <td id=\"T_d3198_row25_col0\" class=\"data row25 col0\" >1</td>\n",
       "      <td id=\"T_d3198_row25_col1\" class=\"data row25 col1\" >0</td>\n",
       "      <td id=\"T_d3198_row25_col2\" class=\"data row25 col2\" >0</td>\n",
       "      <td id=\"T_d3198_row25_col3\" class=\"data row25 col3\" >1</td>\n",
       "      <td id=\"T_d3198_row25_col4\" class=\"data row25 col4\" >0</td>\n",
       "      <td id=\"T_d3198_row25_col5\" class=\"data row25 col5\" >0</td>\n",
       "      <td id=\"T_d3198_row25_col6\" class=\"data row25 col6\" >2</td>\n",
       "    </tr>\n",
       "    <tr>\n",
       "      <th id=\"T_d3198_level0_row26\" class=\"row_heading level0 row26\" >26</th>\n",
       "      <td id=\"T_d3198_row26_col0\" class=\"data row26 col0\" >0</td>\n",
       "      <td id=\"T_d3198_row26_col1\" class=\"data row26 col1\" >0</td>\n",
       "      <td id=\"T_d3198_row26_col2\" class=\"data row26 col2\" >0</td>\n",
       "      <td id=\"T_d3198_row26_col3\" class=\"data row26 col3\" >1</td>\n",
       "      <td id=\"T_d3198_row26_col4\" class=\"data row26 col4\" >0</td>\n",
       "      <td id=\"T_d3198_row26_col5\" class=\"data row26 col5\" >1</td>\n",
       "      <td id=\"T_d3198_row26_col6\" class=\"data row26 col6\" >1</td>\n",
       "    </tr>\n",
       "    <tr>\n",
       "      <th id=\"T_d3198_level0_row27\" class=\"row_heading level0 row27\" >27</th>\n",
       "      <td id=\"T_d3198_row27_col0\" class=\"data row27 col0\" >1</td>\n",
       "      <td id=\"T_d3198_row27_col1\" class=\"data row27 col1\" >0</td>\n",
       "      <td id=\"T_d3198_row27_col2\" class=\"data row27 col2\" >0</td>\n",
       "      <td id=\"T_d3198_row27_col3\" class=\"data row27 col3\" >0</td>\n",
       "      <td id=\"T_d3198_row27_col4\" class=\"data row27 col4\" >0</td>\n",
       "      <td id=\"T_d3198_row27_col5\" class=\"data row27 col5\" >0</td>\n",
       "      <td id=\"T_d3198_row27_col6\" class=\"data row27 col6\" >1</td>\n",
       "    </tr>\n",
       "    <tr>\n",
       "      <th id=\"T_d3198_level0_row28\" class=\"row_heading level0 row28\" >28</th>\n",
       "      <td id=\"T_d3198_row28_col0\" class=\"data row28 col0\" >1</td>\n",
       "      <td id=\"T_d3198_row28_col1\" class=\"data row28 col1\" >1</td>\n",
       "      <td id=\"T_d3198_row28_col2\" class=\"data row28 col2\" >1</td>\n",
       "      <td id=\"T_d3198_row28_col3\" class=\"data row28 col3\" >1</td>\n",
       "      <td id=\"T_d3198_row28_col4\" class=\"data row28 col4\" >0</td>\n",
       "      <td id=\"T_d3198_row28_col5\" class=\"data row28 col5\" >1</td>\n",
       "      <td id=\"T_d3198_row28_col6\" class=\"data row28 col6\" >4</td>\n",
       "    </tr>\n",
       "    <tr>\n",
       "      <th id=\"T_d3198_level0_row29\" class=\"row_heading level0 row29\" >29</th>\n",
       "      <td id=\"T_d3198_row29_col0\" class=\"data row29 col0\" >1</td>\n",
       "      <td id=\"T_d3198_row29_col1\" class=\"data row29 col1\" >0</td>\n",
       "      <td id=\"T_d3198_row29_col2\" class=\"data row29 col2\" >0</td>\n",
       "      <td id=\"T_d3198_row29_col3\" class=\"data row29 col3\" >0</td>\n",
       "      <td id=\"T_d3198_row29_col4\" class=\"data row29 col4\" >0</td>\n",
       "      <td id=\"T_d3198_row29_col5\" class=\"data row29 col5\" >0</td>\n",
       "      <td id=\"T_d3198_row29_col6\" class=\"data row29 col6\" >1</td>\n",
       "    </tr>\n",
       "    <tr>\n",
       "      <th id=\"T_d3198_level0_row30\" class=\"row_heading level0 row30\" >30</th>\n",
       "      <td id=\"T_d3198_row30_col0\" class=\"data row30 col0\" >0</td>\n",
       "      <td id=\"T_d3198_row30_col1\" class=\"data row30 col1\" >0</td>\n",
       "      <td id=\"T_d3198_row30_col2\" class=\"data row30 col2\" >0</td>\n",
       "      <td id=\"T_d3198_row30_col3\" class=\"data row30 col3\" >0</td>\n",
       "      <td id=\"T_d3198_row30_col4\" class=\"data row30 col4\" >0</td>\n",
       "      <td id=\"T_d3198_row30_col5\" class=\"data row30 col5\" >0</td>\n",
       "      <td id=\"T_d3198_row30_col6\" class=\"data row30 col6\" >0</td>\n",
       "    </tr>\n",
       "    <tr>\n",
       "      <th id=\"T_d3198_level0_row31\" class=\"row_heading level0 row31\" >31</th>\n",
       "      <td id=\"T_d3198_row31_col0\" class=\"data row31 col0\" >0</td>\n",
       "      <td id=\"T_d3198_row31_col1\" class=\"data row31 col1\" >0</td>\n",
       "      <td id=\"T_d3198_row31_col2\" class=\"data row31 col2\" >0</td>\n",
       "      <td id=\"T_d3198_row31_col3\" class=\"data row31 col3\" >0</td>\n",
       "      <td id=\"T_d3198_row31_col4\" class=\"data row31 col4\" >0</td>\n",
       "      <td id=\"T_d3198_row31_col5\" class=\"data row31 col5\" >0</td>\n",
       "      <td id=\"T_d3198_row31_col6\" class=\"data row31 col6\" >0</td>\n",
       "    </tr>\n",
       "    <tr>\n",
       "      <th id=\"T_d3198_level0_row32\" class=\"row_heading level0 row32\" >32</th>\n",
       "      <td id=\"T_d3198_row32_col0\" class=\"data row32 col0\" >0</td>\n",
       "      <td id=\"T_d3198_row32_col1\" class=\"data row32 col1\" >1</td>\n",
       "      <td id=\"T_d3198_row32_col2\" class=\"data row32 col2\" >0</td>\n",
       "      <td id=\"T_d3198_row32_col3\" class=\"data row32 col3\" >1</td>\n",
       "      <td id=\"T_d3198_row32_col4\" class=\"data row32 col4\" >1</td>\n",
       "      <td id=\"T_d3198_row32_col5\" class=\"data row32 col5\" >0</td>\n",
       "      <td id=\"T_d3198_row32_col6\" class=\"data row32 col6\" >3</td>\n",
       "    </tr>\n",
       "    <tr>\n",
       "      <th id=\"T_d3198_level0_row33\" class=\"row_heading level0 row33\" >33</th>\n",
       "      <td id=\"T_d3198_row33_col0\" class=\"data row33 col0\" >1</td>\n",
       "      <td id=\"T_d3198_row33_col1\" class=\"data row33 col1\" >0</td>\n",
       "      <td id=\"T_d3198_row33_col2\" class=\"data row33 col2\" >1</td>\n",
       "      <td id=\"T_d3198_row33_col3\" class=\"data row33 col3\" >0</td>\n",
       "      <td id=\"T_d3198_row33_col4\" class=\"data row33 col4\" >1</td>\n",
       "      <td id=\"T_d3198_row33_col5\" class=\"data row33 col5\" >0</td>\n",
       "      <td id=\"T_d3198_row33_col6\" class=\"data row33 col6\" >3</td>\n",
       "    </tr>\n",
       "    <tr>\n",
       "      <th id=\"T_d3198_level0_row34\" class=\"row_heading level0 row34\" >34</th>\n",
       "      <td id=\"T_d3198_row34_col0\" class=\"data row34 col0\" >1</td>\n",
       "      <td id=\"T_d3198_row34_col1\" class=\"data row34 col1\" >1</td>\n",
       "      <td id=\"T_d3198_row34_col2\" class=\"data row34 col2\" >0</td>\n",
       "      <td id=\"T_d3198_row34_col3\" class=\"data row34 col3\" >0</td>\n",
       "      <td id=\"T_d3198_row34_col4\" class=\"data row34 col4\" >0</td>\n",
       "      <td id=\"T_d3198_row34_col5\" class=\"data row34 col5\" >1</td>\n",
       "      <td id=\"T_d3198_row34_col6\" class=\"data row34 col6\" >2</td>\n",
       "    </tr>\n",
       "  </tbody>\n",
       "</table>\n"
      ],
      "text/plain": [
       "<pandas.io.formats.style.Styler at 0x7f8e7be421d0>"
      ]
     },
     "execution_count": 45,
     "metadata": {},
     "output_type": "execute_result"
    }
   ],
   "source": [
    "heat_df"
   ]
  },
  {
   "cell_type": "code",
   "execution_count": 46,
   "metadata": {
    "collapsed": true,
    "jupyter": {
     "outputs_hidden": true
    }
   },
   "outputs": [
    {
     "name": "stdout",
     "output_type": "stream",
     "text": [
      "\\begin{tabular}{lrrrrrrr}\n",
      "{} & {reasoning} & {OOD} & {interpretability} & {reduced data} & {transferability} & {nesy} & {nesy_score} \\\\\n",
      "0 & {\\cellcolor[HTML]{F7FBFF}} \\color[HTML]{000000} 0 & {\\cellcolor[HTML]{F7FBFF}} \\color[HTML]{000000} 0 & {\\cellcolor[HTML]{F7FBFF}} \\color[HTML]{000000} 0 & {\\cellcolor[HTML]{F7FBFF}} \\color[HTML]{000000} 0 & {\\cellcolor[HTML]{F7FBFF}} \\color[HTML]{000000} 0 & {\\cellcolor[HTML]{F7FBFF}} \\color[HTML]{000000} 0 & {\\cellcolor[HTML]{F7FBFF}} \\color[HTML]{000000} 0 \\\\\n",
      "1 & {\\cellcolor[HTML]{F7FBFF}} \\color[HTML]{000000} 0 & {\\cellcolor[HTML]{F7FBFF}} \\color[HTML]{000000} 0 & {\\cellcolor[HTML]{F7FBFF}} \\color[HTML]{000000} 0 & {\\cellcolor[HTML]{F7FBFF}} \\color[HTML]{000000} 0 & {\\cellcolor[HTML]{F7FBFF}} \\color[HTML]{000000} 0 & {\\cellcolor[HTML]{F7FBFF}} \\color[HTML]{000000} 0 & {\\cellcolor[HTML]{F7FBFF}} \\color[HTML]{000000} 0 \\\\\n",
      "2 & {\\cellcolor[HTML]{F7FBFF}} \\color[HTML]{000000} 0 & {\\cellcolor[HTML]{F7FBFF}} \\color[HTML]{000000} 0 & {\\cellcolor[HTML]{F7FBFF}} \\color[HTML]{000000} 0 & {\\cellcolor[HTML]{F7FBFF}} \\color[HTML]{000000} 0 & {\\cellcolor[HTML]{F7FBFF}} \\color[HTML]{000000} 0 & {\\cellcolor[HTML]{F7FBFF}} \\color[HTML]{000000} 0 & {\\cellcolor[HTML]{F7FBFF}} \\color[HTML]{000000} 0 \\\\\n",
      "3 & {\\cellcolor[HTML]{08306B}} \\color[HTML]{F1F1F1} 1 & {\\cellcolor[HTML]{08306B}} \\color[HTML]{F1F1F1} 1 & {\\cellcolor[HTML]{08306B}} \\color[HTML]{F1F1F1} 1 & {\\cellcolor[HTML]{F7FBFF}} \\color[HTML]{000000} 0 & {\\cellcolor[HTML]{F7FBFF}} \\color[HTML]{000000} 0 & {\\cellcolor[HTML]{08306B}} \\color[HTML]{F1F1F1} 1 & {\\cellcolor[HTML]{2070B4}} \\color[HTML]{F1F1F1} 3 \\\\\n",
      "4 & {\\cellcolor[HTML]{F7FBFF}} \\color[HTML]{000000} 0 & {\\cellcolor[HTML]{F7FBFF}} \\color[HTML]{000000} 0 & {\\cellcolor[HTML]{F7FBFF}} \\color[HTML]{000000} 0 & {\\cellcolor[HTML]{F7FBFF}} \\color[HTML]{000000} 0 & {\\cellcolor[HTML]{F7FBFF}} \\color[HTML]{000000} 0 & {\\cellcolor[HTML]{F7FBFF}} \\color[HTML]{000000} 0 & {\\cellcolor[HTML]{F7FBFF}} \\color[HTML]{000000} 0 \\\\\n",
      "5 & {\\cellcolor[HTML]{08306B}} \\color[HTML]{F1F1F1} 1 & {\\cellcolor[HTML]{F7FBFF}} \\color[HTML]{000000} 0 & {\\cellcolor[HTML]{F7FBFF}} \\color[HTML]{000000} 0 & {\\cellcolor[HTML]{F7FBFF}} \\color[HTML]{000000} 0 & {\\cellcolor[HTML]{F7FBFF}} \\color[HTML]{000000} 0 & {\\cellcolor[HTML]{08306B}} \\color[HTML]{F1F1F1} 1 & {\\cellcolor[HTML]{C6DBEF}} \\color[HTML]{000000} 1 \\\\\n",
      "6 & {\\cellcolor[HTML]{F7FBFF}} \\color[HTML]{000000} 0 & {\\cellcolor[HTML]{F7FBFF}} \\color[HTML]{000000} 0 & {\\cellcolor[HTML]{F7FBFF}} \\color[HTML]{000000} 0 & {\\cellcolor[HTML]{F7FBFF}} \\color[HTML]{000000} 0 & {\\cellcolor[HTML]{F7FBFF}} \\color[HTML]{000000} 0 & {\\cellcolor[HTML]{F7FBFF}} \\color[HTML]{000000} 0 & {\\cellcolor[HTML]{F7FBFF}} \\color[HTML]{000000} 0 \\\\\n",
      "7 & {\\cellcolor[HTML]{F7FBFF}} \\color[HTML]{000000} 0 & {\\cellcolor[HTML]{F7FBFF}} \\color[HTML]{000000} 0 & {\\cellcolor[HTML]{F7FBFF}} \\color[HTML]{000000} 0 & {\\cellcolor[HTML]{F7FBFF}} \\color[HTML]{000000} 0 & {\\cellcolor[HTML]{F7FBFF}} \\color[HTML]{000000} 0 & {\\cellcolor[HTML]{F7FBFF}} \\color[HTML]{000000} 0 & {\\cellcolor[HTML]{F7FBFF}} \\color[HTML]{000000} 0 \\\\\n",
      "8 & {\\cellcolor[HTML]{F7FBFF}} \\color[HTML]{000000} 0 & {\\cellcolor[HTML]{08306B}} \\color[HTML]{F1F1F1} 1 & {\\cellcolor[HTML]{08306B}} \\color[HTML]{F1F1F1} 1 & {\\cellcolor[HTML]{08306B}} \\color[HTML]{F1F1F1} 1 & {\\cellcolor[HTML]{08306B}} \\color[HTML]{F1F1F1} 1 & {\\cellcolor[HTML]{08306B}} \\color[HTML]{F1F1F1} 1 & {\\cellcolor[HTML]{08306B}} \\color[HTML]{F1F1F1} 4 \\\\\n",
      "9 & {\\cellcolor[HTML]{08306B}} \\color[HTML]{F1F1F1} 1 & {\\cellcolor[HTML]{F7FBFF}} \\color[HTML]{000000} 0 & {\\cellcolor[HTML]{08306B}} \\color[HTML]{F1F1F1} 1 & {\\cellcolor[HTML]{F7FBFF}} \\color[HTML]{000000} 0 & {\\cellcolor[HTML]{F7FBFF}} \\color[HTML]{000000} 0 & {\\cellcolor[HTML]{F7FBFF}} \\color[HTML]{000000} 0 & {\\cellcolor[HTML]{6AAED6}} \\color[HTML]{F1F1F1} 2 \\\\\n",
      "10 & {\\cellcolor[HTML]{08306B}} \\color[HTML]{F1F1F1} 1 & {\\cellcolor[HTML]{F7FBFF}} \\color[HTML]{000000} 0 & {\\cellcolor[HTML]{F7FBFF}} \\color[HTML]{000000} 0 & {\\cellcolor[HTML]{08306B}} \\color[HTML]{F1F1F1} 1 & {\\cellcolor[HTML]{F7FBFF}} \\color[HTML]{000000} 0 & {\\cellcolor[HTML]{08306B}} \\color[HTML]{F1F1F1} 1 & {\\cellcolor[HTML]{6AAED6}} \\color[HTML]{F1F1F1} 2 \\\\\n",
      "11 & {\\cellcolor[HTML]{08306B}} \\color[HTML]{F1F1F1} 1 & {\\cellcolor[HTML]{F7FBFF}} \\color[HTML]{000000} 0 & {\\cellcolor[HTML]{08306B}} \\color[HTML]{F1F1F1} 1 & {\\cellcolor[HTML]{F7FBFF}} \\color[HTML]{000000} 0 & {\\cellcolor[HTML]{F7FBFF}} \\color[HTML]{000000} 0 & {\\cellcolor[HTML]{F7FBFF}} \\color[HTML]{000000} 0 & {\\cellcolor[HTML]{6AAED6}} \\color[HTML]{F1F1F1} 2 \\\\\n",
      "12 & {\\cellcolor[HTML]{08306B}} \\color[HTML]{F1F1F1} 1 & {\\cellcolor[HTML]{08306B}} \\color[HTML]{F1F1F1} 1 & {\\cellcolor[HTML]{F7FBFF}} \\color[HTML]{000000} 0 & {\\cellcolor[HTML]{F7FBFF}} \\color[HTML]{000000} 0 & {\\cellcolor[HTML]{F7FBFF}} \\color[HTML]{000000} 0 & {\\cellcolor[HTML]{F7FBFF}} \\color[HTML]{000000} 0 & {\\cellcolor[HTML]{6AAED6}} \\color[HTML]{F1F1F1} 2 \\\\\n",
      "13 & {\\cellcolor[HTML]{08306B}} \\color[HTML]{F1F1F1} 1 & {\\cellcolor[HTML]{F7FBFF}} \\color[HTML]{000000} 0 & {\\cellcolor[HTML]{F7FBFF}} \\color[HTML]{000000} 0 & {\\cellcolor[HTML]{F7FBFF}} \\color[HTML]{000000} 0 & {\\cellcolor[HTML]{F7FBFF}} \\color[HTML]{000000} 0 & {\\cellcolor[HTML]{F7FBFF}} \\color[HTML]{000000} 0 & {\\cellcolor[HTML]{C6DBEF}} \\color[HTML]{000000} 1 \\\\\n",
      "14 & {\\cellcolor[HTML]{08306B}} \\color[HTML]{F1F1F1} 1 & {\\cellcolor[HTML]{F7FBFF}} \\color[HTML]{000000} 0 & {\\cellcolor[HTML]{F7FBFF}} \\color[HTML]{000000} 0 & {\\cellcolor[HTML]{F7FBFF}} \\color[HTML]{000000} 0 & {\\cellcolor[HTML]{F7FBFF}} \\color[HTML]{000000} 0 & {\\cellcolor[HTML]{F7FBFF}} \\color[HTML]{000000} 0 & {\\cellcolor[HTML]{C6DBEF}} \\color[HTML]{000000} 1 \\\\\n",
      "15 & {\\cellcolor[HTML]{08306B}} \\color[HTML]{F1F1F1} 1 & {\\cellcolor[HTML]{F7FBFF}} \\color[HTML]{000000} 0 & {\\cellcolor[HTML]{08306B}} \\color[HTML]{F1F1F1} 1 & {\\cellcolor[HTML]{08306B}} \\color[HTML]{F1F1F1} 1 & {\\cellcolor[HTML]{F7FBFF}} \\color[HTML]{000000} 0 & {\\cellcolor[HTML]{F7FBFF}} \\color[HTML]{000000} 0 & {\\cellcolor[HTML]{2070B4}} \\color[HTML]{F1F1F1} 3 \\\\\n",
      "16 & {\\cellcolor[HTML]{08306B}} \\color[HTML]{F1F1F1} 1 & {\\cellcolor[HTML]{F7FBFF}} \\color[HTML]{000000} 0 & {\\cellcolor[HTML]{F7FBFF}} \\color[HTML]{000000} 0 & {\\cellcolor[HTML]{F7FBFF}} \\color[HTML]{000000} 0 & {\\cellcolor[HTML]{08306B}} \\color[HTML]{F1F1F1} 1 & {\\cellcolor[HTML]{F7FBFF}} \\color[HTML]{000000} 0 & {\\cellcolor[HTML]{6AAED6}} \\color[HTML]{F1F1F1} 2 \\\\\n",
      "17 & {\\cellcolor[HTML]{08306B}} \\color[HTML]{F1F1F1} 1 & {\\cellcolor[HTML]{F7FBFF}} \\color[HTML]{000000} 0 & {\\cellcolor[HTML]{F7FBFF}} \\color[HTML]{000000} 0 & {\\cellcolor[HTML]{F7FBFF}} \\color[HTML]{000000} 0 & {\\cellcolor[HTML]{F7FBFF}} \\color[HTML]{000000} 0 & {\\cellcolor[HTML]{F7FBFF}} \\color[HTML]{000000} 0 & {\\cellcolor[HTML]{C6DBEF}} \\color[HTML]{000000} 1 \\\\\n",
      "18 & {\\cellcolor[HTML]{F7FBFF}} \\color[HTML]{000000} 0 & {\\cellcolor[HTML]{08306B}} \\color[HTML]{F1F1F1} 1 & {\\cellcolor[HTML]{F7FBFF}} \\color[HTML]{000000} 0 & {\\cellcolor[HTML]{08306B}} \\color[HTML]{F1F1F1} 1 & {\\cellcolor[HTML]{F7FBFF}} \\color[HTML]{000000} 0 & {\\cellcolor[HTML]{F7FBFF}} \\color[HTML]{000000} 0 & {\\cellcolor[HTML]{6AAED6}} \\color[HTML]{F1F1F1} 2 \\\\\n",
      "19 & {\\cellcolor[HTML]{F7FBFF}} \\color[HTML]{000000} 0 & {\\cellcolor[HTML]{F7FBFF}} \\color[HTML]{000000} 0 & {\\cellcolor[HTML]{F7FBFF}} \\color[HTML]{000000} 0 & {\\cellcolor[HTML]{F7FBFF}} \\color[HTML]{000000} 0 & {\\cellcolor[HTML]{F7FBFF}} \\color[HTML]{000000} 0 & {\\cellcolor[HTML]{F7FBFF}} \\color[HTML]{000000} 0 & {\\cellcolor[HTML]{F7FBFF}} \\color[HTML]{000000} 0 \\\\\n",
      "20 & {\\cellcolor[HTML]{08306B}} \\color[HTML]{F1F1F1} 1 & {\\cellcolor[HTML]{F7FBFF}} \\color[HTML]{000000} 0 & {\\cellcolor[HTML]{F7FBFF}} \\color[HTML]{000000} 0 & {\\cellcolor[HTML]{F7FBFF}} \\color[HTML]{000000} 0 & {\\cellcolor[HTML]{F7FBFF}} \\color[HTML]{000000} 0 & {\\cellcolor[HTML]{F7FBFF}} \\color[HTML]{000000} 0 & {\\cellcolor[HTML]{C6DBEF}} \\color[HTML]{000000} 1 \\\\\n",
      "21 & {\\cellcolor[HTML]{08306B}} \\color[HTML]{F1F1F1} 1 & {\\cellcolor[HTML]{F7FBFF}} \\color[HTML]{000000} 0 & {\\cellcolor[HTML]{F7FBFF}} \\color[HTML]{000000} 0 & {\\cellcolor[HTML]{08306B}} \\color[HTML]{F1F1F1} 1 & {\\cellcolor[HTML]{F7FBFF}} \\color[HTML]{000000} 0 & {\\cellcolor[HTML]{F7FBFF}} \\color[HTML]{000000} 0 & {\\cellcolor[HTML]{6AAED6}} \\color[HTML]{F1F1F1} 2 \\\\\n",
      "22 & {\\cellcolor[HTML]{08306B}} \\color[HTML]{F1F1F1} 1 & {\\cellcolor[HTML]{F7FBFF}} \\color[HTML]{000000} 0 & {\\cellcolor[HTML]{08306B}} \\color[HTML]{F1F1F1} 1 & {\\cellcolor[HTML]{F7FBFF}} \\color[HTML]{000000} 0 & {\\cellcolor[HTML]{F7FBFF}} \\color[HTML]{000000} 0 & {\\cellcolor[HTML]{08306B}} \\color[HTML]{F1F1F1} 1 & {\\cellcolor[HTML]{6AAED6}} \\color[HTML]{F1F1F1} 2 \\\\\n",
      "23 & {\\cellcolor[HTML]{08306B}} \\color[HTML]{F1F1F1} 1 & {\\cellcolor[HTML]{F7FBFF}} \\color[HTML]{000000} 0 & {\\cellcolor[HTML]{F7FBFF}} \\color[HTML]{000000} 0 & {\\cellcolor[HTML]{F7FBFF}} \\color[HTML]{000000} 0 & {\\cellcolor[HTML]{F7FBFF}} \\color[HTML]{000000} 0 & {\\cellcolor[HTML]{F7FBFF}} \\color[HTML]{000000} 0 & {\\cellcolor[HTML]{C6DBEF}} \\color[HTML]{000000} 1 \\\\\n",
      "24 & {\\cellcolor[HTML]{08306B}} \\color[HTML]{F1F1F1} 1 & {\\cellcolor[HTML]{F7FBFF}} \\color[HTML]{000000} 0 & {\\cellcolor[HTML]{F7FBFF}} \\color[HTML]{000000} 0 & {\\cellcolor[HTML]{F7FBFF}} \\color[HTML]{000000} 0 & {\\cellcolor[HTML]{F7FBFF}} \\color[HTML]{000000} 0 & {\\cellcolor[HTML]{F7FBFF}} \\color[HTML]{000000} 0 & {\\cellcolor[HTML]{C6DBEF}} \\color[HTML]{000000} 1 \\\\\n",
      "25 & {\\cellcolor[HTML]{08306B}} \\color[HTML]{F1F1F1} 1 & {\\cellcolor[HTML]{F7FBFF}} \\color[HTML]{000000} 0 & {\\cellcolor[HTML]{F7FBFF}} \\color[HTML]{000000} 0 & {\\cellcolor[HTML]{08306B}} \\color[HTML]{F1F1F1} 1 & {\\cellcolor[HTML]{F7FBFF}} \\color[HTML]{000000} 0 & {\\cellcolor[HTML]{F7FBFF}} \\color[HTML]{000000} 0 & {\\cellcolor[HTML]{6AAED6}} \\color[HTML]{F1F1F1} 2 \\\\\n",
      "26 & {\\cellcolor[HTML]{F7FBFF}} \\color[HTML]{000000} 0 & {\\cellcolor[HTML]{F7FBFF}} \\color[HTML]{000000} 0 & {\\cellcolor[HTML]{F7FBFF}} \\color[HTML]{000000} 0 & {\\cellcolor[HTML]{08306B}} \\color[HTML]{F1F1F1} 1 & {\\cellcolor[HTML]{F7FBFF}} \\color[HTML]{000000} 0 & {\\cellcolor[HTML]{08306B}} \\color[HTML]{F1F1F1} 1 & {\\cellcolor[HTML]{C6DBEF}} \\color[HTML]{000000} 1 \\\\\n",
      "27 & {\\cellcolor[HTML]{08306B}} \\color[HTML]{F1F1F1} 1 & {\\cellcolor[HTML]{F7FBFF}} \\color[HTML]{000000} 0 & {\\cellcolor[HTML]{F7FBFF}} \\color[HTML]{000000} 0 & {\\cellcolor[HTML]{F7FBFF}} \\color[HTML]{000000} 0 & {\\cellcolor[HTML]{F7FBFF}} \\color[HTML]{000000} 0 & {\\cellcolor[HTML]{F7FBFF}} \\color[HTML]{000000} 0 & {\\cellcolor[HTML]{C6DBEF}} \\color[HTML]{000000} 1 \\\\\n",
      "28 & {\\cellcolor[HTML]{08306B}} \\color[HTML]{F1F1F1} 1 & {\\cellcolor[HTML]{08306B}} \\color[HTML]{F1F1F1} 1 & {\\cellcolor[HTML]{08306B}} \\color[HTML]{F1F1F1} 1 & {\\cellcolor[HTML]{08306B}} \\color[HTML]{F1F1F1} 1 & {\\cellcolor[HTML]{F7FBFF}} \\color[HTML]{000000} 0 & {\\cellcolor[HTML]{08306B}} \\color[HTML]{F1F1F1} 1 & {\\cellcolor[HTML]{08306B}} \\color[HTML]{F1F1F1} 4 \\\\\n",
      "29 & {\\cellcolor[HTML]{08306B}} \\color[HTML]{F1F1F1} 1 & {\\cellcolor[HTML]{F7FBFF}} \\color[HTML]{000000} 0 & {\\cellcolor[HTML]{F7FBFF}} \\color[HTML]{000000} 0 & {\\cellcolor[HTML]{F7FBFF}} \\color[HTML]{000000} 0 & {\\cellcolor[HTML]{F7FBFF}} \\color[HTML]{000000} 0 & {\\cellcolor[HTML]{F7FBFF}} \\color[HTML]{000000} 0 & {\\cellcolor[HTML]{C6DBEF}} \\color[HTML]{000000} 1 \\\\\n",
      "30 & {\\cellcolor[HTML]{F7FBFF}} \\color[HTML]{000000} 0 & {\\cellcolor[HTML]{F7FBFF}} \\color[HTML]{000000} 0 & {\\cellcolor[HTML]{F7FBFF}} \\color[HTML]{000000} 0 & {\\cellcolor[HTML]{F7FBFF}} \\color[HTML]{000000} 0 & {\\cellcolor[HTML]{F7FBFF}} \\color[HTML]{000000} 0 & {\\cellcolor[HTML]{F7FBFF}} \\color[HTML]{000000} 0 & {\\cellcolor[HTML]{F7FBFF}} \\color[HTML]{000000} 0 \\\\\n",
      "31 & {\\cellcolor[HTML]{F7FBFF}} \\color[HTML]{000000} 0 & {\\cellcolor[HTML]{F7FBFF}} \\color[HTML]{000000} 0 & {\\cellcolor[HTML]{F7FBFF}} \\color[HTML]{000000} 0 & {\\cellcolor[HTML]{F7FBFF}} \\color[HTML]{000000} 0 & {\\cellcolor[HTML]{F7FBFF}} \\color[HTML]{000000} 0 & {\\cellcolor[HTML]{F7FBFF}} \\color[HTML]{000000} 0 & {\\cellcolor[HTML]{F7FBFF}} \\color[HTML]{000000} 0 \\\\\n",
      "32 & {\\cellcolor[HTML]{F7FBFF}} \\color[HTML]{000000} 0 & {\\cellcolor[HTML]{08306B}} \\color[HTML]{F1F1F1} 1 & {\\cellcolor[HTML]{F7FBFF}} \\color[HTML]{000000} 0 & {\\cellcolor[HTML]{08306B}} \\color[HTML]{F1F1F1} 1 & {\\cellcolor[HTML]{08306B}} \\color[HTML]{F1F1F1} 1 & {\\cellcolor[HTML]{F7FBFF}} \\color[HTML]{000000} 0 & {\\cellcolor[HTML]{2070B4}} \\color[HTML]{F1F1F1} 3 \\\\\n",
      "33 & {\\cellcolor[HTML]{08306B}} \\color[HTML]{F1F1F1} 1 & {\\cellcolor[HTML]{F7FBFF}} \\color[HTML]{000000} 0 & {\\cellcolor[HTML]{08306B}} \\color[HTML]{F1F1F1} 1 & {\\cellcolor[HTML]{F7FBFF}} \\color[HTML]{000000} 0 & {\\cellcolor[HTML]{08306B}} \\color[HTML]{F1F1F1} 1 & {\\cellcolor[HTML]{F7FBFF}} \\color[HTML]{000000} 0 & {\\cellcolor[HTML]{2070B4}} \\color[HTML]{F1F1F1} 3 \\\\\n",
      "34 & {\\cellcolor[HTML]{08306B}} \\color[HTML]{F1F1F1} 1 & {\\cellcolor[HTML]{08306B}} \\color[HTML]{F1F1F1} 1 & {\\cellcolor[HTML]{F7FBFF}} \\color[HTML]{000000} 0 & {\\cellcolor[HTML]{F7FBFF}} \\color[HTML]{000000} 0 & {\\cellcolor[HTML]{F7FBFF}} \\color[HTML]{000000} 0 & {\\cellcolor[HTML]{08306B}} \\color[HTML]{F1F1F1} 1 & {\\cellcolor[HTML]{6AAED6}} \\color[HTML]{F1F1F1} 2 \\\\\n",
      "\\end{tabular}\n",
      "\n"
     ]
    }
   ],
   "source": [
    "# import dataframe_image as dfi\n",
    "# dfi.export(heat_df,\"images/heat_df.png\")\n",
    "print(heat_df.to_latex(convert_css=True)) "
   ]
  },
  {
   "cell_type": "code",
   "execution_count": 48,
   "metadata": {},
   "outputs": [
    {
     "data": {
      "text/plain": [
       "Index(['level_0', 'index', 'ID', 'citation', 'Title', 'Nesy Category',\n",
       "       'Kautz category', 'leverages natural language structure',\n",
       "       'leverages relational structure (KG)', 'Knowledge representation',\n",
       "       'logic vs rules', 'implicit vs explicit', 'reasoning', 'OOD',\n",
       "       'interpretability', 'reduced data', 'transferability', 'nesy',\n",
       "       'performance', 'computational cost', 'comments', 'eliminate',\n",
       "       'nesy_score'],\n",
       "      dtype='object')"
      ]
     },
     "execution_count": 48,
     "metadata": {},
     "output_type": "execute_result"
    }
   ],
   "source": [
    "df.columns"
   ]
  },
  {
   "cell_type": "code",
   "execution_count": 70,
   "metadata": {},
   "outputs": [],
   "source": [
    "compiled=df_cat_goal[df_cat_goal['Nesy Category']=='compiled'].sum(axis = 0, skipna = True)"
   ]
  },
  {
   "cell_type": "code",
   "execution_count": 71,
   "metadata": {},
   "outputs": [],
   "source": [
    "cooperative=df_cat_goal[df_cat_goal['Nesy Category']=='cooperative'].sum(axis = 0, skipna = True)"
   ]
  },
  {
   "cell_type": "code",
   "execution_count": 72,
   "metadata": {},
   "outputs": [],
   "source": [
    "nested=df_cat_goal[df_cat_goal['Nesy Category']=='nested'].sum(axis = 0, skipna = True)"
   ]
  },
  {
   "cell_type": "code",
   "execution_count": 73,
   "metadata": {},
   "outputs": [],
   "source": [
    "sequential=df_cat_goal[df_cat_goal['Nesy Category']=='sequential'].sum(axis = 0, skipna = True)"
   ]
  },
  {
   "cell_type": "code",
   "execution_count": 79,
   "metadata": {},
   "outputs": [
    {
     "data": {
      "text/plain": [
       "pandas.core.series.Series"
      ]
     },
     "execution_count": 79,
     "metadata": {},
     "output_type": "execute_result"
    }
   ],
   "source": [
    "type(compiled)"
   ]
  },
  {
   "cell_type": "code",
   "execution_count": 74,
   "metadata": {},
   "outputs": [
    {
     "data": {
      "text/plain": [
       "Nesy Category       compiledcompiledcompiledcompiledcompiledcompil...\n",
       "reasoning                                                           7\n",
       "OOD                                                                 3\n",
       "interpretability                                                    3\n",
       "reduced data                                                        2\n",
       "transferability                                                     2\n",
       "dtype: object"
      ]
     },
     "execution_count": 74,
     "metadata": {},
     "output_type": "execute_result"
    }
   ],
   "source": [
    "compiled"
   ]
  },
  {
   "cell_type": "code",
   "execution_count": 76,
   "metadata": {},
   "outputs": [
    {
     "data": {
      "text/plain": [
       "Nesy Category       cooperativecooperativecooperativecooperativeco...\n",
       "reasoning                                                           4\n",
       "OOD                                                                 2\n",
       "interpretability                                                    3\n",
       "reduced data                                                        3\n",
       "transferability                                                     1\n",
       "dtype: object"
      ]
     },
     "execution_count": 76,
     "metadata": {},
     "output_type": "execute_result"
    }
   ],
   "source": [
    "cooperative"
   ]
  },
  {
   "cell_type": "code",
   "execution_count": 77,
   "metadata": {},
   "outputs": [
    {
     "data": {
      "text/plain": [
       "Nesy Category       nestednestednested\n",
       "reasoning                            2\n",
       "OOD                                  1\n",
       "interpretability                     0\n",
       "reduced data                         1\n",
       "transferability                      1\n",
       "dtype: object"
      ]
     },
     "execution_count": 77,
     "metadata": {},
     "output_type": "execute_result"
    }
   ],
   "source": [
    "nested"
   ]
  },
  {
   "cell_type": "code",
   "execution_count": 91,
   "metadata": {},
   "outputs": [
    {
     "data": {
      "text/plain": [
       "reasoning           9\n",
       "OOD                 1\n",
       "interpretability    2\n",
       "reduced data        3\n",
       "transferability     0\n",
       "dtype: int64"
      ]
     },
     "execution_count": 91,
     "metadata": {},
     "output_type": "execute_result"
    }
   ],
   "source": [
    "sequential[1:].astype(int)"
   ]
  },
  {
   "cell_type": "code",
   "execution_count": 97,
   "metadata": {},
   "outputs": [
    {
     "data": {
      "text/plain": [
       "reasoning           0.600000\n",
       "OOD                 0.066667\n",
       "interpretability    0.133333\n",
       "reduced data        0.200000\n",
       "transferability     0.000000\n",
       "dtype: float64"
      ]
     },
     "execution_count": 97,
     "metadata": {},
     "output_type": "execute_result"
    }
   ],
   "source": [
    "sequential[1:].astype(int) / sequential[1:].sum()"
   ]
  },
  {
   "cell_type": "code",
   "execution_count": 106,
   "metadata": {},
   "outputs": [],
   "source": [
    "counts_df = pd.DataFrame({'compiled':compiled[1:].astype(int),\n",
    "                          'cooperative':cooperative[1:].astype(int),\n",
    "                          'nested':nested[1:].astype(int),\n",
    "                          'sequential':sequential[1:].astype(int)})"
   ]
  },
  {
   "cell_type": "code",
   "execution_count": 107,
   "metadata": {},
   "outputs": [
    {
     "data": {
      "text/html": [
       "<div>\n",
       "<style scoped>\n",
       "    .dataframe tbody tr th:only-of-type {\n",
       "        vertical-align: middle;\n",
       "    }\n",
       "\n",
       "    .dataframe tbody tr th {\n",
       "        vertical-align: top;\n",
       "    }\n",
       "\n",
       "    .dataframe thead th {\n",
       "        text-align: right;\n",
       "    }\n",
       "</style>\n",
       "<table border=\"1\" class=\"dataframe\">\n",
       "  <thead>\n",
       "    <tr style=\"text-align: right;\">\n",
       "      <th></th>\n",
       "      <th>compiled</th>\n",
       "      <th>cooperative</th>\n",
       "      <th>nested</th>\n",
       "      <th>sequential</th>\n",
       "    </tr>\n",
       "  </thead>\n",
       "  <tbody>\n",
       "    <tr>\n",
       "      <th>reasoning</th>\n",
       "      <td>7</td>\n",
       "      <td>4</td>\n",
       "      <td>2</td>\n",
       "      <td>9</td>\n",
       "    </tr>\n",
       "    <tr>\n",
       "      <th>OOD</th>\n",
       "      <td>3</td>\n",
       "      <td>2</td>\n",
       "      <td>1</td>\n",
       "      <td>1</td>\n",
       "    </tr>\n",
       "    <tr>\n",
       "      <th>interpretability</th>\n",
       "      <td>3</td>\n",
       "      <td>3</td>\n",
       "      <td>0</td>\n",
       "      <td>2</td>\n",
       "    </tr>\n",
       "    <tr>\n",
       "      <th>reduced data</th>\n",
       "      <td>2</td>\n",
       "      <td>3</td>\n",
       "      <td>1</td>\n",
       "      <td>3</td>\n",
       "    </tr>\n",
       "    <tr>\n",
       "      <th>transferability</th>\n",
       "      <td>2</td>\n",
       "      <td>1</td>\n",
       "      <td>1</td>\n",
       "      <td>0</td>\n",
       "    </tr>\n",
       "  </tbody>\n",
       "</table>\n",
       "</div>"
      ],
      "text/plain": [
       "                  compiled  cooperative  nested  sequential\n",
       "reasoning                7            4       2           9\n",
       "OOD                      3            2       1           1\n",
       "interpretability         3            3       0           2\n",
       "reduced data             2            3       1           3\n",
       "transferability          2            1       1           0"
      ]
     },
     "execution_count": 107,
     "metadata": {},
     "output_type": "execute_result"
    }
   ],
   "source": [
    "counts_df"
   ]
  },
  {
   "cell_type": "code",
   "execution_count": 108,
   "metadata": {},
   "outputs": [],
   "source": [
    "counts_df_heat=counts_df.style.background_gradient(cmap='Blues')"
   ]
  },
  {
   "cell_type": "code",
   "execution_count": 109,
   "metadata": {},
   "outputs": [
    {
     "data": {
      "text/html": [
       "<style type=\"text/css\">\n",
       "#T_e2230_row0_col0, #T_e2230_row0_col1, #T_e2230_row0_col2, #T_e2230_row0_col3 {\n",
       "  background-color: #08306b;\n",
       "  color: #f1f1f1;\n",
       "}\n",
       "#T_e2230_row1_col0, #T_e2230_row2_col0 {\n",
       "  background-color: #d0e1f2;\n",
       "  color: #000000;\n",
       "}\n",
       "#T_e2230_row1_col1, #T_e2230_row3_col3 {\n",
       "  background-color: #abd0e6;\n",
       "  color: #000000;\n",
       "}\n",
       "#T_e2230_row1_col2, #T_e2230_row3_col2, #T_e2230_row4_col2 {\n",
       "  background-color: #6aaed6;\n",
       "  color: #f1f1f1;\n",
       "}\n",
       "#T_e2230_row1_col3 {\n",
       "  background-color: #e1edf8;\n",
       "  color: #000000;\n",
       "}\n",
       "#T_e2230_row2_col1, #T_e2230_row3_col1 {\n",
       "  background-color: #3787c0;\n",
       "  color: #f1f1f1;\n",
       "}\n",
       "#T_e2230_row2_col2, #T_e2230_row3_col0, #T_e2230_row4_col0, #T_e2230_row4_col1, #T_e2230_row4_col3 {\n",
       "  background-color: #f7fbff;\n",
       "  color: #000000;\n",
       "}\n",
       "#T_e2230_row2_col3 {\n",
       "  background-color: #ccdff1;\n",
       "  color: #000000;\n",
       "}\n",
       "</style>\n",
       "<table id=\"T_e2230_\">\n",
       "  <thead>\n",
       "    <tr>\n",
       "      <th class=\"blank level0\" >&nbsp;</th>\n",
       "      <th class=\"col_heading level0 col0\" >compiled</th>\n",
       "      <th class=\"col_heading level0 col1\" >cooperative</th>\n",
       "      <th class=\"col_heading level0 col2\" >nested</th>\n",
       "      <th class=\"col_heading level0 col3\" >sequential</th>\n",
       "    </tr>\n",
       "  </thead>\n",
       "  <tbody>\n",
       "    <tr>\n",
       "      <th id=\"T_e2230_level0_row0\" class=\"row_heading level0 row0\" >reasoning</th>\n",
       "      <td id=\"T_e2230_row0_col0\" class=\"data row0 col0\" >7</td>\n",
       "      <td id=\"T_e2230_row0_col1\" class=\"data row0 col1\" >4</td>\n",
       "      <td id=\"T_e2230_row0_col2\" class=\"data row0 col2\" >2</td>\n",
       "      <td id=\"T_e2230_row0_col3\" class=\"data row0 col3\" >9</td>\n",
       "    </tr>\n",
       "    <tr>\n",
       "      <th id=\"T_e2230_level0_row1\" class=\"row_heading level0 row1\" >OOD</th>\n",
       "      <td id=\"T_e2230_row1_col0\" class=\"data row1 col0\" >3</td>\n",
       "      <td id=\"T_e2230_row1_col1\" class=\"data row1 col1\" >2</td>\n",
       "      <td id=\"T_e2230_row1_col2\" class=\"data row1 col2\" >1</td>\n",
       "      <td id=\"T_e2230_row1_col3\" class=\"data row1 col3\" >1</td>\n",
       "    </tr>\n",
       "    <tr>\n",
       "      <th id=\"T_e2230_level0_row2\" class=\"row_heading level0 row2\" >interpretability</th>\n",
       "      <td id=\"T_e2230_row2_col0\" class=\"data row2 col0\" >3</td>\n",
       "      <td id=\"T_e2230_row2_col1\" class=\"data row2 col1\" >3</td>\n",
       "      <td id=\"T_e2230_row2_col2\" class=\"data row2 col2\" >0</td>\n",
       "      <td id=\"T_e2230_row2_col3\" class=\"data row2 col3\" >2</td>\n",
       "    </tr>\n",
       "    <tr>\n",
       "      <th id=\"T_e2230_level0_row3\" class=\"row_heading level0 row3\" >reduced data</th>\n",
       "      <td id=\"T_e2230_row3_col0\" class=\"data row3 col0\" >2</td>\n",
       "      <td id=\"T_e2230_row3_col1\" class=\"data row3 col1\" >3</td>\n",
       "      <td id=\"T_e2230_row3_col2\" class=\"data row3 col2\" >1</td>\n",
       "      <td id=\"T_e2230_row3_col3\" class=\"data row3 col3\" >3</td>\n",
       "    </tr>\n",
       "    <tr>\n",
       "      <th id=\"T_e2230_level0_row4\" class=\"row_heading level0 row4\" >transferability</th>\n",
       "      <td id=\"T_e2230_row4_col0\" class=\"data row4 col0\" >2</td>\n",
       "      <td id=\"T_e2230_row4_col1\" class=\"data row4 col1\" >1</td>\n",
       "      <td id=\"T_e2230_row4_col2\" class=\"data row4 col2\" >1</td>\n",
       "      <td id=\"T_e2230_row4_col3\" class=\"data row4 col3\" >0</td>\n",
       "    </tr>\n",
       "  </tbody>\n",
       "</table>\n"
      ],
      "text/plain": [
       "<pandas.io.formats.style.Styler at 0x7f8e7d8dfe10>"
      ]
     },
     "execution_count": 109,
     "metadata": {},
     "output_type": "execute_result"
    }
   ],
   "source": [
    "counts_df_heat"
   ]
  },
  {
   "cell_type": "code",
   "execution_count": 96,
   "metadata": {},
   "outputs": [
    {
     "name": "stdout",
     "output_type": "stream",
     "text": [
      "\\begin{tabular}{lrrrr}\n",
      "{} & {compiled} & {cooperative} & {nested} & {sequential} \\\\\n",
      "reasoning & {\\cellcolor[HTML]{08306B}} \\color[HTML]{F1F1F1} 7 & {\\cellcolor[HTML]{08306B}} \\color[HTML]{F1F1F1} 4 & {\\cellcolor[HTML]{08306B}} \\color[HTML]{F1F1F1} 2 & {\\cellcolor[HTML]{08306B}} \\color[HTML]{F1F1F1} 9 \\\\\n",
      "OOD & {\\cellcolor[HTML]{D0E1F2}} \\color[HTML]{000000} 3 & {\\cellcolor[HTML]{ABD0E6}} \\color[HTML]{000000} 2 & {\\cellcolor[HTML]{6AAED6}} \\color[HTML]{F1F1F1} 1 & {\\cellcolor[HTML]{E1EDF8}} \\color[HTML]{000000} 1 \\\\\n",
      "interpretability & {\\cellcolor[HTML]{D0E1F2}} \\color[HTML]{000000} 3 & {\\cellcolor[HTML]{3787C0}} \\color[HTML]{F1F1F1} 3 & {\\cellcolor[HTML]{F7FBFF}} \\color[HTML]{000000} 0 & {\\cellcolor[HTML]{CCDFF1}} \\color[HTML]{000000} 2 \\\\\n",
      "reduced data & {\\cellcolor[HTML]{F7FBFF}} \\color[HTML]{000000} 2 & {\\cellcolor[HTML]{3787C0}} \\color[HTML]{F1F1F1} 3 & {\\cellcolor[HTML]{6AAED6}} \\color[HTML]{F1F1F1} 1 & {\\cellcolor[HTML]{ABD0E6}} \\color[HTML]{000000} 3 \\\\\n",
      "transferability & {\\cellcolor[HTML]{F7FBFF}} \\color[HTML]{000000} 2 & {\\cellcolor[HTML]{F7FBFF}} \\color[HTML]{000000} 1 & {\\cellcolor[HTML]{6AAED6}} \\color[HTML]{F1F1F1} 1 & {\\cellcolor[HTML]{F7FBFF}} \\color[HTML]{000000} 0 \\\\\n",
      "\\end{tabular}\n",
      "\n"
     ]
    }
   ],
   "source": [
    "print(counts_df_heat.to_latex(convert_css=True)) "
   ]
  },
  {
   "cell_type": "code",
   "execution_count": null,
   "metadata": {},
   "outputs": [],
   "source": []
  }
 ],
 "metadata": {
  "kernelspec": {
   "display_name": "Python 3",
   "language": "python",
   "name": "python3"
  },
  "language_info": {
   "codemirror_mode": {
    "name": "ipython",
    "version": 3
   },
   "file_extension": ".py",
   "mimetype": "text/x-python",
   "name": "python",
   "nbconvert_exporter": "python",
   "pygments_lexer": "ipython3",
   "version": "3.7.3"
  }
 },
 "nbformat": 4,
 "nbformat_minor": 4
}
