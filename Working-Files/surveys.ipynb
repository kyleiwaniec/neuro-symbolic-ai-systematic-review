{
 "cells": [
  {
   "cell_type": "markdown",
   "metadata": {},
   "source": [
    "# Surveys"
   ]
  },
  {
   "cell_type": "markdown",
   "metadata": {},
   "source": [
    "There are other surveys on Arxiv, and the 2021 AAAI conference had a panel dedicated to neuro-sybolic AI where some of the top scientists of the field spoke. These are not included in the Scopus file because they have not yet been published in journals. But they are important for us to review. They are:\n",
    "* [Neural-Symbolic Learning and Reasoning: A Survey and Interpretation](https://arxiv.org/abs/1711.03902)  (Garcez et al. 2017)\n",
    "* [Neurosymbolic AI: The 3rd Wave](https://arxiv.org/abs/2012.05876)  (Garcez, Lamb 2020)\n",
    "* [Thinking Fast and Slow in AI](https://arxiv.org/abs/2010.06002) (AAAI 2021)\n",
    "* [Graph Neural Networks Meet Neural-Symbolic Computing](https://www.ijcai.org/proceedings/2020/0679.pdf) (Garcez, Lamb, et al. 2020)\n",
    "* [The Neuro-Symbolic AI Panel at AAAI 2021](https://slideslive.com/38952405/the-neurosymbolic-ai-panel) (Lamb, et al. 2021)\n",
    "* [Neuro-Symbolic Artificial Intelligence: Current Trends](https://daselab.cs.ksu.edu/publications/neuro-symbolic-artificial-intelligence-current-trends?fbclid=IwAR1Px-AFiyR-DVP0eVLfV65PPWHVFdblDTRZr1QTC6LLVxq5loEbYjnN1qM) (Hitzler et al. 2021)\n",
    "\n",
    "\n",
    "Related but not exaclty within the inclusion criteria:\n",
    "* [Value-based Argumentation Frameworks as Neural-symbolic Learning Systems](https://www.researchgate.net/publication/220388060_Value-based_Argumentation_Frameworks_as_Neural-symbolic_Learning_Systems) (Garcez, Lamb, et al. 2005)\n"
   ]
  },
  {
   "cell_type": "markdown",
   "metadata": {},
   "source": []
  },
  {
   "cell_type": "code",
   "execution_count": null,
   "metadata": {},
   "outputs": [],
   "source": []
  },
  {
   "cell_type": "code",
   "execution_count": null,
   "metadata": {},
   "outputs": [],
   "source": []
  },
  {
   "cell_type": "code",
   "execution_count": null,
   "metadata": {},
   "outputs": [],
   "source": []
  },
  {
   "cell_type": "code",
   "execution_count": null,
   "metadata": {},
   "outputs": [],
   "source": []
  }
 ],
 "metadata": {
  "kernelspec": {
   "display_name": "Python 3",
   "language": "python",
   "name": "python3"
  },
  "language_info": {
   "codemirror_mode": {
    "name": "ipython",
    "version": 3
   },
   "file_extension": ".py",
   "mimetype": "text/x-python",
   "name": "python",
   "nbconvert_exporter": "python",
   "pygments_lexer": "ipython3",
   "version": "3.7.3"
  }
 },
 "nbformat": 4,
 "nbformat_minor": 4
}
