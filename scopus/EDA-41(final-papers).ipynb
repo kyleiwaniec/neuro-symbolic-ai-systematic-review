{
 "cells": [
  {
   "cell_type": "markdown",
   "metadata": {},
   "source": [
    "# Final Articles\n",
    "\n",
    "There are 21 articles and 6 conference papers that made it into the review. For these 27 papers, we fetch all of the references and screen them following the same procedure as before."
   ]
  },
  {
   "cell_type": "code",
   "execution_count": null,
   "metadata": {},
   "outputs": [],
   "source": []
  },
  {
   "cell_type": "code",
   "execution_count": 1,
   "metadata": {},
   "outputs": [],
   "source": [
    "import pandas as pd\n",
    "import numpy as np\n",
    "import itertools\n",
    "from collections import defaultdict"
   ]
  },
  {
   "cell_type": "code",
   "execution_count": 2,
   "metadata": {},
   "outputs": [
    {
     "data": {
      "text/plain": [
       "'/home/d19125691/Documents/Systematic review/gitCode/neuro-symbolic-ai-systematic-review/scopus/matplotlibrc'"
      ]
     },
     "execution_count": 2,
     "metadata": {},
     "output_type": "execute_result"
    }
   ],
   "source": [
    "%matplotlib inline \n",
    "import matplotlib.pyplot as plt\n",
    "import matplotlib as mpl\n",
    "plt.style.use('presentation.mplstyle')\n",
    "mpl.matplotlib_fname()"
   ]
  },
  {
   "cell_type": "code",
   "execution_count": 4,
   "metadata": {},
   "outputs": [],
   "source": [
    "df=pd.read_csv('/home/d19125691/Documents/Systematic review/gitCode/neuro-symbolic-ai-systematic-review/scopus/Data/final-papers-reviewed-Dec.18.2021.csv')"
   ]
  },
  {
   "cell_type": "code",
   "execution_count": 5,
   "metadata": {},
   "outputs": [
    {
     "data": {
      "text/plain": [
       "Index(['Doc type', 'Researcher', 'Title', 'Scopus Hash ID', 'DOI',\n",
       "       'Journal/Conference', 'Year', 'Business Use Case',\n",
       "       'Technical Application', 'Type of Learning', 'Key-intake',\n",
       "       'Contribution', 'Authors Definition of NeSy', 'Symbolic terms',\n",
       "       'Neural terms', 'NeSy Category', 'Kautz category', 'Datasets',\n",
       "       'Model description', 'Evaluation Metrics', 'Reported Score',\n",
       "       'Study Quality', 'Comments', 'MISC', 'Unnamed: 24', 'Unnamed: 25',\n",
       "       'Unnamed: 26'],\n",
       "      dtype='object')"
      ]
     },
     "execution_count": 5,
     "metadata": {},
     "output_type": "execute_result"
    }
   ],
   "source": [
    "(df).columns"
   ]
  },
  {
   "cell_type": "code",
   "execution_count": 313,
   "metadata": {},
   "outputs": [],
   "source": [
    "df=df[['Doc type', 'reasearcher', 'Title', 'Scopus Hash ID', 'DOI',\n",
    "       'Journal/Conference', 'Year', 'Use Case', 'Learning', 'Application',\n",
    "       'Key-intake', 'Contribution', 'Definition of NeSy', 'Symbolic terms',\n",
    "       'Neural terms', 'NeSy Category', 'Kautz category', 'Datasets',\n",
    "       'Model description', 'Evaluation Metrics', 'reported score',\n",
    "       'Study Quality', 'Comments', 'MISC']]"
   ]
  },
  {
   "cell_type": "code",
   "execution_count": 6,
   "metadata": {},
   "outputs": [
    {
     "data": {
      "image/png": "[encoded data removed]",
      "text/plain": [
       "<Figure size 432x288 with 1 Axes>"
      ]
     },
     "metadata": {
      "needs_background": "light"
     },
     "output_type": "display_data"
    }
   ],
   "source": [
    "plt.hist(df['Year'])\n",
    "plt.title('Publication Year Distribution')\n",
    "plt.xlabel('Publication Year')\n",
    "plt.ylabel('Number of Articles')\n",
    "plt.show()"
   ]
  },
  {
   "cell_type": "code",
   "execution_count": 7,
   "metadata": {},
   "outputs": [
    {
     "ename": "KeyError",
     "evalue": "'Use Case'",
     "output_type": "error",
     "traceback": [
      "\u001b[0;31m---------------------------------------------------------------------------\u001b[0m",
      "\u001b[0;31mKeyError\u001b[0m                                  Traceback (most recent call last)",
      "\u001b[0;32m~/.local/lib/python3.6/site-packages/pandas/core/indexes/base.py\u001b[0m in \u001b[0;36mget_loc\u001b[0;34m(self, key, method, tolerance)\u001b[0m\n\u001b[1;32m   2897\u001b[0m             \u001b[0;32mtry\u001b[0m\u001b[0;34m:\u001b[0m\u001b[0;34m\u001b[0m\u001b[0;34m\u001b[0m\u001b[0m\n\u001b[0;32m-> 2898\u001b[0;31m                 \u001b[0;32mreturn\u001b[0m \u001b[0mself\u001b[0m\u001b[0;34m.\u001b[0m\u001b[0m_engine\u001b[0m\u001b[0;34m.\u001b[0m\u001b[0mget_loc\u001b[0m\u001b[0;34m(\u001b[0m\u001b[0mcasted_key\u001b[0m\u001b[0;34m)\u001b[0m\u001b[0;34m\u001b[0m\u001b[0;34m\u001b[0m\u001b[0m\n\u001b[0m\u001b[1;32m   2899\u001b[0m             \u001b[0;32mexcept\u001b[0m \u001b[0mKeyError\u001b[0m \u001b[0;32mas\u001b[0m \u001b[0merr\u001b[0m\u001b[0;34m:\u001b[0m\u001b[0;34m\u001b[0m\u001b[0;34m\u001b[0m\u001b[0m\n",
      "\u001b[0;32mpandas/_libs/index.pyx\u001b[0m in \u001b[0;36mpandas._libs.index.IndexEngine.get_loc\u001b[0;34m()\u001b[0m\n",
      "\u001b[0;32mpandas/_libs/index.pyx\u001b[0m in \u001b[0;36mpandas._libs.index.IndexEngine.get_loc\u001b[0;34m()\u001b[0m\n",
      "\u001b[0;32mpandas/_libs/hashtable_class_helper.pxi\u001b[0m in \u001b[0;36mpandas._libs.hashtable.PyObjectHashTable.get_item\u001b[0;34m()\u001b[0m\n",
      "\u001b[0;32mpandas/_libs/hashtable_class_helper.pxi\u001b[0m in \u001b[0;36mpandas._libs.hashtable.PyObjectHashTable.get_item\u001b[0;34m()\u001b[0m\n",
      "\u001b[0;31mKeyError\u001b[0m: 'Use Case'",
      "\nThe above exception was the direct cause of the following exception:\n",
      "\u001b[0;31mKeyError\u001b[0m                                  Traceback (most recent call last)",
      "\u001b[0;32m<ipython-input-7-11b09dbe20e7>\u001b[0m in \u001b[0;36m<module>\u001b[0;34m\u001b[0m\n\u001b[0;32m----> 1\u001b[0;31m \u001b[0mdf\u001b[0m\u001b[0;34m[\u001b[0m\u001b[0;34m'Use Case'\u001b[0m\u001b[0;34m]\u001b[0m\u001b[0;34m.\u001b[0m\u001b[0mvalue_counts\u001b[0m\u001b[0;34m(\u001b[0m\u001b[0;34m)\u001b[0m\u001b[0;34m.\u001b[0m\u001b[0mplot\u001b[0m\u001b[0;34m(\u001b[0m\u001b[0mkind\u001b[0m\u001b[0;34m=\u001b[0m\u001b[0;34m'barh'\u001b[0m\u001b[0;34m,\u001b[0m \u001b[0mtitle\u001b[0m\u001b[0;34m=\u001b[0m\u001b[0;34m\"Number of Articles per Use Case\"\u001b[0m\u001b[0;34m)\u001b[0m\u001b[0;34m\u001b[0m\u001b[0;34m\u001b[0m\u001b[0m\n\u001b[0m",
      "\u001b[0;32m~/.local/lib/python3.6/site-packages/pandas/core/frame.py\u001b[0m in \u001b[0;36m__getitem__\u001b[0;34m(self, key)\u001b[0m\n\u001b[1;32m   2904\u001b[0m             \u001b[0;32mif\u001b[0m \u001b[0mself\u001b[0m\u001b[0;34m.\u001b[0m\u001b[0mcolumns\u001b[0m\u001b[0;34m.\u001b[0m\u001b[0mnlevels\u001b[0m \u001b[0;34m>\u001b[0m \u001b[0;36m1\u001b[0m\u001b[0;34m:\u001b[0m\u001b[0;34m\u001b[0m\u001b[0;34m\u001b[0m\u001b[0m\n\u001b[1;32m   2905\u001b[0m                 \u001b[0;32mreturn\u001b[0m \u001b[0mself\u001b[0m\u001b[0;34m.\u001b[0m\u001b[0m_getitem_multilevel\u001b[0m\u001b[0;34m(\u001b[0m\u001b[0mkey\u001b[0m\u001b[0;34m)\u001b[0m\u001b[0;34m\u001b[0m\u001b[0;34m\u001b[0m\u001b[0m\n\u001b[0;32m-> 2906\u001b[0;31m             \u001b[0mindexer\u001b[0m \u001b[0;34m=\u001b[0m \u001b[0mself\u001b[0m\u001b[0;34m.\u001b[0m\u001b[0mcolumns\u001b[0m\u001b[0;34m.\u001b[0m\u001b[0mget_loc\u001b[0m\u001b[0;34m(\u001b[0m\u001b[0mkey\u001b[0m\u001b[0;34m)\u001b[0m\u001b[0;34m\u001b[0m\u001b[0;34m\u001b[0m\u001b[0m\n\u001b[0m\u001b[1;32m   2907\u001b[0m             \u001b[0;32mif\u001b[0m \u001b[0mis_integer\u001b[0m\u001b[0;34m(\u001b[0m\u001b[0mindexer\u001b[0m\u001b[0;34m)\u001b[0m\u001b[0;34m:\u001b[0m\u001b[0;34m\u001b[0m\u001b[0;34m\u001b[0m\u001b[0m\n\u001b[1;32m   2908\u001b[0m                 \u001b[0mindexer\u001b[0m \u001b[0;34m=\u001b[0m \u001b[0;34m[\u001b[0m\u001b[0mindexer\u001b[0m\u001b[0;34m]\u001b[0m\u001b[0;34m\u001b[0m\u001b[0;34m\u001b[0m\u001b[0m\n",
      "\u001b[0;32m~/.local/lib/python3.6/site-packages/pandas/core/indexes/base.py\u001b[0m in \u001b[0;36mget_loc\u001b[0;34m(self, key, method, tolerance)\u001b[0m\n\u001b[1;32m   2898\u001b[0m                 \u001b[0;32mreturn\u001b[0m \u001b[0mself\u001b[0m\u001b[0;34m.\u001b[0m\u001b[0m_engine\u001b[0m\u001b[0;34m.\u001b[0m\u001b[0mget_loc\u001b[0m\u001b[0;34m(\u001b[0m\u001b[0mcasted_key\u001b[0m\u001b[0;34m)\u001b[0m\u001b[0;34m\u001b[0m\u001b[0;34m\u001b[0m\u001b[0m\n\u001b[1;32m   2899\u001b[0m             \u001b[0;32mexcept\u001b[0m \u001b[0mKeyError\u001b[0m \u001b[0;32mas\u001b[0m \u001b[0merr\u001b[0m\u001b[0;34m:\u001b[0m\u001b[0;34m\u001b[0m\u001b[0;34m\u001b[0m\u001b[0m\n\u001b[0;32m-> 2900\u001b[0;31m                 \u001b[0;32mraise\u001b[0m \u001b[0mKeyError\u001b[0m\u001b[0;34m(\u001b[0m\u001b[0mkey\u001b[0m\u001b[0;34m)\u001b[0m \u001b[0;32mfrom\u001b[0m \u001b[0merr\u001b[0m\u001b[0;34m\u001b[0m\u001b[0;34m\u001b[0m\u001b[0m\n\u001b[0m\u001b[1;32m   2901\u001b[0m \u001b[0;34m\u001b[0m\u001b[0m\n\u001b[1;32m   2902\u001b[0m         \u001b[0;32mif\u001b[0m \u001b[0mtolerance\u001b[0m \u001b[0;32mis\u001b[0m \u001b[0;32mnot\u001b[0m \u001b[0;32mNone\u001b[0m\u001b[0;34m:\u001b[0m\u001b[0;34m\u001b[0m\u001b[0;34m\u001b[0m\u001b[0m\n",
      "\u001b[0;31mKeyError\u001b[0m: 'Use Case'"
     ]
    }
   ],
   "source": [
    "df['Use Case'].value_counts().plot(kind='barh', title=\"Number of Articles per Use Case\")"
   ]
  },
  {
   "cell_type": "code",
   "execution_count": 8,
   "metadata": {},
   "outputs": [
    {
     "ename": "KeyError",
     "evalue": "'Learning'",
     "output_type": "error",
     "traceback": [
      "\u001b[0;31m---------------------------------------------------------------------------\u001b[0m",
      "\u001b[0;31mKeyError\u001b[0m                                  Traceback (most recent call last)",
      "\u001b[0;32m~/.local/lib/python3.6/site-packages/pandas/core/indexes/base.py\u001b[0m in \u001b[0;36mget_loc\u001b[0;34m(self, key, method, tolerance)\u001b[0m\n\u001b[1;32m   2897\u001b[0m             \u001b[0;32mtry\u001b[0m\u001b[0;34m:\u001b[0m\u001b[0;34m\u001b[0m\u001b[0;34m\u001b[0m\u001b[0m\n\u001b[0;32m-> 2898\u001b[0;31m                 \u001b[0;32mreturn\u001b[0m \u001b[0mself\u001b[0m\u001b[0;34m.\u001b[0m\u001b[0m_engine\u001b[0m\u001b[0;34m.\u001b[0m\u001b[0mget_loc\u001b[0m\u001b[0;34m(\u001b[0m\u001b[0mcasted_key\u001b[0m\u001b[0;34m)\u001b[0m\u001b[0;34m\u001b[0m\u001b[0;34m\u001b[0m\u001b[0m\n\u001b[0m\u001b[1;32m   2899\u001b[0m             \u001b[0;32mexcept\u001b[0m \u001b[0mKeyError\u001b[0m \u001b[0;32mas\u001b[0m \u001b[0merr\u001b[0m\u001b[0;34m:\u001b[0m\u001b[0;34m\u001b[0m\u001b[0;34m\u001b[0m\u001b[0m\n",
      "\u001b[0;32mpandas/_libs/index.pyx\u001b[0m in \u001b[0;36mpandas._libs.index.IndexEngine.get_loc\u001b[0;34m()\u001b[0m\n",
      "\u001b[0;32mpandas/_libs/index.pyx\u001b[0m in \u001b[0;36mpandas._libs.index.IndexEngine.get_loc\u001b[0;34m()\u001b[0m\n",
      "\u001b[0;32mpandas/_libs/hashtable_class_helper.pxi\u001b[0m in \u001b[0;36mpandas._libs.hashtable.PyObjectHashTable.get_item\u001b[0;34m()\u001b[0m\n",
      "\u001b[0;32mpandas/_libs/hashtable_class_helper.pxi\u001b[0m in \u001b[0;36mpandas._libs.hashtable.PyObjectHashTable.get_item\u001b[0;34m()\u001b[0m\n",
      "\u001b[0;31mKeyError\u001b[0m: 'Learning'",
      "\nThe above exception was the direct cause of the following exception:\n",
      "\u001b[0;31mKeyError\u001b[0m                                  Traceback (most recent call last)",
      "\u001b[0;32m<ipython-input-8-2c954d8e4f53>\u001b[0m in \u001b[0;36m<module>\u001b[0;34m\u001b[0m\n\u001b[0;32m----> 1\u001b[0;31m \u001b[0mdf\u001b[0m\u001b[0;34m[\u001b[0m\u001b[0;34m'Learning'\u001b[0m\u001b[0;34m]\u001b[0m\u001b[0;34m.\u001b[0m\u001b[0mvalue_counts\u001b[0m\u001b[0;34m(\u001b[0m\u001b[0;34m)\u001b[0m\u001b[0;34m.\u001b[0m\u001b[0mplot\u001b[0m\u001b[0;34m(\u001b[0m\u001b[0mkind\u001b[0m\u001b[0;34m=\u001b[0m\u001b[0;34m'barh'\u001b[0m\u001b[0;34m,\u001b[0m \u001b[0mtitle\u001b[0m\u001b[0;34m=\u001b[0m\u001b[0;34m\"Number of articles per type of learning\"\u001b[0m\u001b[0;34m)\u001b[0m\u001b[0;34m\u001b[0m\u001b[0;34m\u001b[0m\u001b[0m\n\u001b[0m",
      "\u001b[0;32m~/.local/lib/python3.6/site-packages/pandas/core/frame.py\u001b[0m in \u001b[0;36m__getitem__\u001b[0;34m(self, key)\u001b[0m\n\u001b[1;32m   2904\u001b[0m             \u001b[0;32mif\u001b[0m \u001b[0mself\u001b[0m\u001b[0;34m.\u001b[0m\u001b[0mcolumns\u001b[0m\u001b[0;34m.\u001b[0m\u001b[0mnlevels\u001b[0m \u001b[0;34m>\u001b[0m \u001b[0;36m1\u001b[0m\u001b[0;34m:\u001b[0m\u001b[0;34m\u001b[0m\u001b[0;34m\u001b[0m\u001b[0m\n\u001b[1;32m   2905\u001b[0m                 \u001b[0;32mreturn\u001b[0m \u001b[0mself\u001b[0m\u001b[0;34m.\u001b[0m\u001b[0m_getitem_multilevel\u001b[0m\u001b[0;34m(\u001b[0m\u001b[0mkey\u001b[0m\u001b[0;34m)\u001b[0m\u001b[0;34m\u001b[0m\u001b[0;34m\u001b[0m\u001b[0m\n\u001b[0;32m-> 2906\u001b[0;31m             \u001b[0mindexer\u001b[0m \u001b[0;34m=\u001b[0m \u001b[0mself\u001b[0m\u001b[0;34m.\u001b[0m\u001b[0mcolumns\u001b[0m\u001b[0;34m.\u001b[0m\u001b[0mget_loc\u001b[0m\u001b[0;34m(\u001b[0m\u001b[0mkey\u001b[0m\u001b[0;34m)\u001b[0m\u001b[0;34m\u001b[0m\u001b[0;34m\u001b[0m\u001b[0m\n\u001b[0m\u001b[1;32m   2907\u001b[0m             \u001b[0;32mif\u001b[0m \u001b[0mis_integer\u001b[0m\u001b[0;34m(\u001b[0m\u001b[0mindexer\u001b[0m\u001b[0;34m)\u001b[0m\u001b[0;34m:\u001b[0m\u001b[0;34m\u001b[0m\u001b[0;34m\u001b[0m\u001b[0m\n\u001b[1;32m   2908\u001b[0m                 \u001b[0mindexer\u001b[0m \u001b[0;34m=\u001b[0m \u001b[0;34m[\u001b[0m\u001b[0mindexer\u001b[0m\u001b[0;34m]\u001b[0m\u001b[0;34m\u001b[0m\u001b[0;34m\u001b[0m\u001b[0m\n",
      "\u001b[0;32m~/.local/lib/python3.6/site-packages/pandas/core/indexes/base.py\u001b[0m in \u001b[0;36mget_loc\u001b[0;34m(self, key, method, tolerance)\u001b[0m\n\u001b[1;32m   2898\u001b[0m                 \u001b[0;32mreturn\u001b[0m \u001b[0mself\u001b[0m\u001b[0;34m.\u001b[0m\u001b[0m_engine\u001b[0m\u001b[0;34m.\u001b[0m\u001b[0mget_loc\u001b[0m\u001b[0;34m(\u001b[0m\u001b[0mcasted_key\u001b[0m\u001b[0;34m)\u001b[0m\u001b[0;34m\u001b[0m\u001b[0;34m\u001b[0m\u001b[0m\n\u001b[1;32m   2899\u001b[0m             \u001b[0;32mexcept\u001b[0m \u001b[0mKeyError\u001b[0m \u001b[0;32mas\u001b[0m \u001b[0merr\u001b[0m\u001b[0;34m:\u001b[0m\u001b[0;34m\u001b[0m\u001b[0;34m\u001b[0m\u001b[0m\n\u001b[0;32m-> 2900\u001b[0;31m                 \u001b[0;32mraise\u001b[0m \u001b[0mKeyError\u001b[0m\u001b[0;34m(\u001b[0m\u001b[0mkey\u001b[0m\u001b[0;34m)\u001b[0m \u001b[0;32mfrom\u001b[0m \u001b[0merr\u001b[0m\u001b[0;34m\u001b[0m\u001b[0;34m\u001b[0m\u001b[0m\n\u001b[0m\u001b[1;32m   2901\u001b[0m \u001b[0;34m\u001b[0m\u001b[0m\n\u001b[1;32m   2902\u001b[0m         \u001b[0;32mif\u001b[0m \u001b[0mtolerance\u001b[0m \u001b[0;32mis\u001b[0m \u001b[0;32mnot\u001b[0m \u001b[0;32mNone\u001b[0m\u001b[0;34m:\u001b[0m\u001b[0;34m\u001b[0m\u001b[0;34m\u001b[0m\u001b[0m\n",
      "\u001b[0;31mKeyError\u001b[0m: 'Learning'"
     ]
    }
   ],
   "source": [
    "df['Learning'].value_counts().plot(kind='barh', title=\"Number of articles per type of learning\")"
   ]
  },
  {
   "cell_type": "code",
   "execution_count": 317,
   "metadata": {},
   "outputs": [],
   "source": [
    "app_value_counts = df['Application'].value_counts()"
   ]
  },
  {
   "cell_type": "code",
   "execution_count": 318,
   "metadata": {},
   "outputs": [
    {
     "data": {
      "text/plain": [
       "classification                                           17\n",
       "reasoning                                                 2\n",
       "information extraction                                    2\n",
       "generative                                                2\n",
       "reasoning,\\ngenerative                                    1\n",
       "classification,\\nmulti-label (371 labels) probalities     1\n",
       "recommendation                                            1\n",
       "Name: Application, dtype: int64"
      ]
     },
     "execution_count": 318,
     "metadata": {},
     "output_type": "execute_result"
    }
   ],
   "source": [
    "app_value_counts"
   ]
  },
  {
   "cell_type": "code",
   "execution_count": 319,
   "metadata": {},
   "outputs": [],
   "source": [
    "app_value_counts['reasoning']+=app_value_counts['reasoning,\\ngenerative']\n",
    "app_value_counts['generative']+=app_value_counts['reasoning,\\ngenerative']\n",
    "app_value_counts['classification']+=app_value_counts['classification,\\nmulti-label (371 labels) probalities']"
   ]
  },
  {
   "cell_type": "code",
   "execution_count": 320,
   "metadata": {},
   "outputs": [
    {
     "data": {
      "text/plain": [
       "1"
      ]
     },
     "execution_count": 320,
     "metadata": {},
     "output_type": "execute_result"
    }
   ],
   "source": [
    "app_value_counts.pop('reasoning,\\ngenerative')\n",
    "app_value_counts.pop('classification,\\nmulti-label (371 labels) probalities')"
   ]
  },
  {
   "cell_type": "code",
   "execution_count": 321,
   "metadata": {},
   "outputs": [
    {
     "data": {
      "text/plain": [
       "classification            18\n",
       "reasoning                  3\n",
       "information extraction     2\n",
       "generative                 3\n",
       "recommendation             1\n",
       "Name: Application, dtype: int64"
      ]
     },
     "execution_count": 321,
     "metadata": {},
     "output_type": "execute_result"
    }
   ],
   "source": [
    "app_value_counts"
   ]
  },
  {
   "cell_type": "code",
   "execution_count": 322,
   "metadata": {},
   "outputs": [
    {
     "data": {
      "text/plain": [
       "<AxesSubplot:title={'center':'Number of articles per application'}>"
      ]
     },
     "execution_count": 322,
     "metadata": {},
     "output_type": "execute_result"
    },
    {
     "data": {
      "image/png": "[encoded data removed]",
      "text/plain": [
       "<Figure size 432x288 with 1 Axes>"
      ]
     },
     "metadata": {
      "needs_background": "light"
     },
     "output_type": "display_data"
    }
   ],
   "source": [
    "app_value_counts.plot(kind='barh', title=\"Number of articles per application\")"
   ]
  },
  {
   "cell_type": "code",
   "execution_count": 389,
   "metadata": {},
   "outputs": [],
   "source": [
    "nesy_value_counts = df['NeSy Category'].value_counts()"
   ]
  },
  {
   "cell_type": "code",
   "execution_count": 390,
   "metadata": {},
   "outputs": [
    {
     "data": {
      "text/plain": [
       "1"
      ]
     },
     "execution_count": 390,
     "metadata": {},
     "output_type": "execute_result"
    }
   ],
   "source": [
    "nesy_value_counts['compiled']+=nesy_value_counts['Compiled']\n",
    "nesy_value_counts.pop('Compiled')"
   ]
  },
  {
   "cell_type": "code",
   "execution_count": 391,
   "metadata": {},
   "outputs": [
    {
     "data": {
      "text/plain": [
       "1"
      ]
     },
     "execution_count": 391,
     "metadata": {},
     "output_type": "execute_result"
    }
   ],
   "source": [
    "nesy_value_counts['cooperative']+=nesy_value_counts['sequential, cooperative']\n",
    "nesy_value_counts['sequential']+=nesy_value_counts['sequential, cooperative']\n",
    "nesy_value_counts.pop('sequential, cooperative')"
   ]
  },
  {
   "cell_type": "code",
   "execution_count": 393,
   "metadata": {},
   "outputs": [
    {
     "data": {
      "text/plain": [
       "sequential     10\n",
       "nested          5\n",
       "cooperative     6\n",
       "compiled        2\n",
       "Name: NeSy Category, dtype: int64"
      ]
     },
     "execution_count": 393,
     "metadata": {},
     "output_type": "execute_result"
    }
   ],
   "source": [
    "nesy_value_counts"
   ]
  },
  {
   "cell_type": "code",
   "execution_count": 394,
   "metadata": {},
   "outputs": [
    {
     "data": {
      "text/plain": [
       "<AxesSubplot:title={'center':'Number of articles per NeSy Category'}>"
      ]
     },
     "execution_count": 394,
     "metadata": {},
     "output_type": "execute_result"
    },
    {
     "data": {
      "image/png": "[encoded data removed]",
      "text/plain": [
       "<Figure size 432x288 with 1 Axes>"
      ]
     },
     "metadata": {
      "needs_background": "light"
     },
     "output_type": "display_data"
    }
   ],
   "source": [
    "nesy_value_counts.plot(kind='barh', title=\"Number of articles per NeSy Category\")"
   ]
  },
  {
   "cell_type": "code",
   "execution_count": 324,
   "metadata": {},
   "outputs": [
    {
     "data": {
      "text/plain": [
       "<AxesSubplot:title={'center':'Number of articles per Kautz category'}>"
      ]
     },
     "execution_count": 324,
     "metadata": {},
     "output_type": "execute_result"
    },
    {
     "name": "stderr",
     "output_type": "stream",
     "text": [
      "/Users/kylehamilton/anaconda3/lib/python3.7/site-packages/matplotlib/backends/backend_agg.py:238: RuntimeWarning: Glyph 8594 missing from current font.\n",
      "  font.set_text(s, 0.0, flags=flags)\n",
      "/Users/kylehamilton/anaconda3/lib/python3.7/site-packages/matplotlib/backends/backend_agg.py:201: RuntimeWarning: Glyph 8594 missing from current font.\n",
      "  font.set_text(s, 0, flags=flags)\n"
     ]
    },
    {
     "data": {
      "image/png": "[encoded data removed]",
      "text/plain": [
       "<Figure size 432x288 with 1 Axes>"
      ]
     },
     "metadata": {
      "needs_background": "light"
     },
     "output_type": "display_data"
    }
   ],
   "source": [
    "df['Kautz category'].value_counts().plot(kind='barh', title=\"Number of articles per Kautz category\")"
   ]
  },
  {
   "cell_type": "code",
   "execution_count": 325,
   "metadata": {},
   "outputs": [
    {
     "data": {
      "text/plain": [
       "array(['fuzzy logic',\n",
       "       'fuzzy logic,\\nfuzzy rules,\\nmamdani fuzzy system (MFS)',\n",
       "       'knowldge graph',\n",
       "       'symbolic learner,\\nsymbolic representations,\\nConceptNet KG',\n",
       "       'Markov Decision Process (MDP)', 'graph representation',\n",
       "       'symbolic node embedding', 'FOL,\\nHuffman tree', 'knowledge graph',\n",
       "       'logic',\n",
       "       'fuzzy logic,\\nfuzzy neural network (FNN),\\nlogical connectives',\n",
       "       'symbolic processing, first-order predicate logic', 'ontology',\n",
       "       'Sequencial decision making,\\npredicate logic,\\nrelational logic,\\nrule based,\\nrule induction,\\ncognitive linguistics',\n",
       "       'commonsense/affect knowledge base\\ngraph represenatation,\\ncommon sense',\n",
       "       nan, 'semantic resources,\\ndependency parsing',\n",
       "       'statistical relational learning (SLR, RML),\\nfuzzy logic,\\nFOL,\\nTransductive learning,\\ngrounding,\\npropositionalization',\n",
       "       'graph representation,\\ndialogical alignment', 'Rule', 'sememe',\n",
       "       'domain specific language (DSL),\\ntransductive learning,\\nprogram synthesis',\n",
       "       'binding problem',\n",
       "       'ontology,\\nknowledge graph completion,\\nknowledge graph (KG)',\n",
       "       'rule based'], dtype=object)"
      ]
     },
     "execution_count": 325,
     "metadata": {},
     "output_type": "execute_result"
    }
   ],
   "source": [
    "df['Symbolic terms'].unique()"
   ]
  },
  {
   "cell_type": "code",
   "execution_count": 326,
   "metadata": {},
   "outputs": [
    {
     "data": {
      "text/plain": [
       "array(['neural network (NN)',\n",
       "       'convolutional neural network (CNN),\\nneural network (NN),\\nembedding',\n",
       "       'recurrent neural network (RNN)',\n",
       "       'BERT,\\ntransformer,\\nneural network (NN),\\nembedding,\\nneuroevolution (NE)',\n",
       "       'RL', 'attention network (BERT),\\ngraph neural network (GNN)',\n",
       "       'attention network (LSTM)', 'SVM',\n",
       "       'recursive neural knowledge network (RNKN),\\nrecursive neural network (RNN)',\n",
       "       'graph neural network (GNN),',\n",
       "       'convolutional neural network (CNN),\\nrecurrent neural network (RNN),\\ndeep belief network (DBN)',\n",
       "       'ML',\n",
       "       'reinforcement learning (RL),\\nMemory Networks,\\nneural network (NN)\\n',\n",
       "       'SVM (or any classifier which lends itself to regularization, which could be an NN)',\n",
       "       nan, 'NN', 'machine learning (ML)', 'graph neural network (GNN)',\n",
       "       'recurrent neural network (RNN),\\nconvolutional neural network (CNN)'],\n",
       "      dtype=object)"
      ]
     },
     "execution_count": 326,
     "metadata": {},
     "output_type": "execute_result"
    }
   ],
   "source": [
    "df['Neural terms'].unique()"
   ]
  },
  {
   "cell_type": "code",
   "execution_count": 327,
   "metadata": {},
   "outputs": [
    {
     "data": {
      "text/plain": [
       "<AxesSubplot:title={'center':'study quality'}, ylabel='Frequency'>"
      ]
     },
     "execution_count": 327,
     "metadata": {},
     "output_type": "execute_result"
    },
    {
     "data": {
      "image/png": "[encoded data removed]",
      "text/plain": [
       "<Figure size 432x288 with 1 Axes>"
      ]
     },
     "metadata": {
      "needs_background": "light"
     },
     "output_type": "display_data"
    }
   ],
   "source": [
    "df['Study Quality'].str.rstrip('%').astype('float').plot(kind='hist',title=\"study quality\")"
   ]
  },
  {
   "cell_type": "code",
   "execution_count": 328,
   "metadata": {},
   "outputs": [
    {
     "data": {
      "text/plain": [
       "Private                                                                                        3\n",
       "Kinsources, Geoquery                                                                           1\n",
       "FEVER, UKP Snopes Corpus                                                                       1\n",
       "bAbI-20                                                                                        1\n",
       "UIUC dataset,                                                                                  1\n",
       "Wikitext                                                                                       1\n",
       "sentiment140, sentiment140,\\nCOVID-19_Sentiments                                               1\n",
       "ClueWeb, Freebase                                                                              1\n",
       "Reuters Corpus Volume 1, RCV1-2K, AmazonCat-13K                                                1\n",
       "CORA                                                                                           1\n",
       "multiple, multi-modal                                                                          1\n",
       "CEMR                                                                                           1\n",
       "Jigsaw Map Game, Speechand  Gesture  Alignment corpus                                          1\n",
       "DialogRE                                                                                       1\n",
       "NOT SPECIFIED                                                                                  1\n",
       "Stanford Twitter Sentiment (STS), STS-Gold, Strict Obama-McCain Debate, Obama-McCain Debate    1\n",
       "MathQA                                                                                         1\n",
       "BBC News database, BBC SPORTS database, Kaagle news                                            1\n",
       "Pang and Lee,\\nAffectNet benchmark                                                             1\n",
       "NELL-995,\\nWN18RR,\\nFB15-237\\n                                                                 1\n",
       "COPA benchmark set (Choice of Plausible Alternatives)                                          1\n",
       "semeval2019, semeval2019,\\nmbti,\\nFox,\\nBBC,\\netc..                                            1\n",
       "NLTK                                                                                           1\n",
       "FB15K, WN18                                                                                    1\n",
       "Name: Datasets, dtype: int64"
      ]
     },
     "execution_count": 328,
     "metadata": {},
     "output_type": "execute_result"
    }
   ],
   "source": [
    "df['Datasets'].value_counts()"
   ]
  },
  {
   "cell_type": "code",
   "execution_count": null,
   "metadata": {},
   "outputs": [],
   "source": []
  },
  {
   "cell_type": "code",
   "execution_count": 329,
   "metadata": {},
   "outputs": [],
   "source": [
    "# symbolic terms\n",
    "sym_terms=df['Symbolic terms']\n",
    "sym_list=[[i.rstrip(',') for i in str(s).split(\"\\n\")] for s in sym_terms]"
   ]
  },
  {
   "cell_type": "code",
   "execution_count": 330,
   "metadata": {},
   "outputs": [],
   "source": [
    "neu_terms=df['Neural terms']\n",
    "neu_list=[[i.rstrip(',') for i in str(s).split(\"\\n\")] for s in neu_terms]"
   ]
  },
  {
   "cell_type": "code",
   "execution_count": 331,
   "metadata": {},
   "outputs": [],
   "source": [
    "sym_set=set(sum(sym_list,[]))"
   ]
  },
  {
   "cell_type": "code",
   "execution_count": 332,
   "metadata": {},
   "outputs": [],
   "source": [
    "neu_set=set(sum(neu_list,[]))"
   ]
  },
  {
   "cell_type": "code",
   "execution_count": 333,
   "metadata": {},
   "outputs": [
    {
     "data": {
      "text/plain": [
       "{'',\n",
       " 'BERT',\n",
       " 'ML',\n",
       " 'Memory Networks',\n",
       " 'NN',\n",
       " 'RL',\n",
       " 'SVM',\n",
       " 'SVM (or any classifier which lends itself to regularization, which could be an NN)',\n",
       " 'attention network (BERT)',\n",
       " 'attention network (LSTM)',\n",
       " 'convolutional neural network (CNN)',\n",
       " 'deep belief network (DBN)',\n",
       " 'embedding',\n",
       " 'graph neural network (GNN)',\n",
       " 'machine learning (ML)',\n",
       " 'nan',\n",
       " 'neural network (NN)',\n",
       " 'neuroevolution (NE)',\n",
       " 'recurrent neural network (RNN)',\n",
       " 'recursive neural knowledge network (RNKN)',\n",
       " 'recursive neural network (RNN)',\n",
       " 'reinforcement learning (RL)',\n",
       " 'transformer'}"
      ]
     },
     "execution_count": 333,
     "metadata": {},
     "output_type": "execute_result"
    }
   ],
   "source": [
    "neu_set"
   ]
  },
  {
   "cell_type": "code",
   "execution_count": 334,
   "metadata": {},
   "outputs": [
    {
     "data": {
      "text/plain": [
       "{'ConceptNet KG',\n",
       " 'FOL',\n",
       " 'Huffman tree',\n",
       " 'Markov Decision Process (MDP)',\n",
       " 'Rule',\n",
       " 'Sequencial decision making',\n",
       " 'Transductive learning',\n",
       " 'binding problem',\n",
       " 'cognitive linguistics',\n",
       " 'common sense',\n",
       " 'commonsense/affect knowledge base',\n",
       " 'dependency parsing',\n",
       " 'dialogical alignment',\n",
       " 'domain specific language (DSL)',\n",
       " 'fuzzy logic',\n",
       " 'fuzzy neural network (FNN)',\n",
       " 'fuzzy rules',\n",
       " 'graph represenatation',\n",
       " 'graph representation',\n",
       " 'grounding',\n",
       " 'knowldge graph',\n",
       " 'knowledge graph',\n",
       " 'knowledge graph (KG)',\n",
       " 'knowledge graph completion',\n",
       " 'logic',\n",
       " 'logical connectives',\n",
       " 'mamdani fuzzy system (MFS)',\n",
       " 'nan',\n",
       " 'ontology',\n",
       " 'predicate logic',\n",
       " 'program synthesis',\n",
       " 'propositionalization',\n",
       " 'relational logic',\n",
       " 'rule based',\n",
       " 'rule induction',\n",
       " 'semantic resources',\n",
       " 'sememe',\n",
       " 'statistical relational learning (SLR, RML)',\n",
       " 'symbolic learner',\n",
       " 'symbolic node embedding',\n",
       " 'symbolic processing, first-order predicate logic',\n",
       " 'symbolic representations',\n",
       " 'transductive learning'}"
      ]
     },
     "execution_count": 334,
     "metadata": {},
     "output_type": "execute_result"
    }
   ],
   "source": [
    "sym_set"
   ]
  },
  {
   "cell_type": "code",
   "execution_count": 335,
   "metadata": {},
   "outputs": [],
   "source": [
    "tup_dict=defaultdict(int)\n",
    "for i in range(len(sym_list)):\n",
    "    lists = list(itertools.product(sym_list[i],neu_list[i]))\n",
    "    \n",
    "    for j in lists:\n",
    "        tup_dict[j]+=1\n"
   ]
  },
  {
   "cell_type": "code",
   "execution_count": 336,
   "metadata": {},
   "outputs": [
    {
     "data": {
      "text/plain": [
       "defaultdict(int,\n",
       "            {('fuzzy logic', 'neural network (NN)'): 2,\n",
       "             ('fuzzy logic', 'convolutional neural network (CNN)'): 2,\n",
       "             ('fuzzy logic', 'embedding'): 1,\n",
       "             ('fuzzy rules', 'convolutional neural network (CNN)'): 1,\n",
       "             ('fuzzy rules', 'neural network (NN)'): 1,\n",
       "             ('fuzzy rules', 'embedding'): 1,\n",
       "             ('mamdani fuzzy system (MFS)',\n",
       "              'convolutional neural network (CNN)'): 1,\n",
       "             ('mamdani fuzzy system (MFS)', 'neural network (NN)'): 1,\n",
       "             ('mamdani fuzzy system (MFS)', 'embedding'): 1,\n",
       "             ('knowldge graph', 'recurrent neural network (RNN)'): 1,\n",
       "             ('symbolic learner', 'BERT'): 1,\n",
       "             ('symbolic learner', 'transformer'): 1,\n",
       "             ('symbolic learner', 'neural network (NN)'): 1,\n",
       "             ('symbolic learner', 'embedding'): 1,\n",
       "             ('symbolic learner', 'neuroevolution (NE)'): 1,\n",
       "             ('symbolic representations', 'BERT'): 1,\n",
       "             ('symbolic representations', 'transformer'): 1,\n",
       "             ('symbolic representations', 'neural network (NN)'): 1,\n",
       "             ('symbolic representations', 'embedding'): 1,\n",
       "             ('symbolic representations', 'neuroevolution (NE)'): 1,\n",
       "             ('ConceptNet KG', 'BERT'): 1,\n",
       "             ('ConceptNet KG', 'transformer'): 1,\n",
       "             ('ConceptNet KG', 'neural network (NN)'): 1,\n",
       "             ('ConceptNet KG', 'embedding'): 1,\n",
       "             ('ConceptNet KG', 'neuroevolution (NE)'): 1,\n",
       "             ('Markov Decision Process (MDP)', 'RL'): 1,\n",
       "             ('graph representation', 'attention network (BERT)'): 1,\n",
       "             ('graph representation', 'graph neural network (GNN)'): 1,\n",
       "             ('graph representation', 'attention network (LSTM)'): 1,\n",
       "             ('symbolic node embedding', 'SVM'): 1,\n",
       "             ('FOL', 'recursive neural knowledge network (RNKN)'): 1,\n",
       "             ('FOL', 'recursive neural network (RNN)'): 1,\n",
       "             ('Huffman tree', 'recursive neural knowledge network (RNKN)'): 1,\n",
       "             ('Huffman tree', 'recursive neural network (RNN)'): 1,\n",
       "             ('knowledge graph', 'graph neural network (GNN)'): 1,\n",
       "             ('logic', 'recurrent neural network (RNN)'): 1,\n",
       "             ('fuzzy logic', 'recurrent neural network (RNN)'): 1,\n",
       "             ('fuzzy logic', 'deep belief network (DBN)'): 1,\n",
       "             ('fuzzy neural network (FNN)',\n",
       "              'convolutional neural network (CNN)'): 1,\n",
       "             ('fuzzy neural network (FNN)',\n",
       "              'recurrent neural network (RNN)'): 1,\n",
       "             ('fuzzy neural network (FNN)', 'deep belief network (DBN)'): 1,\n",
       "             ('logical connectives', 'convolutional neural network (CNN)'): 1,\n",
       "             ('logical connectives', 'recurrent neural network (RNN)'): 1,\n",
       "             ('logical connectives', 'deep belief network (DBN)'): 1,\n",
       "             ('symbolic processing, first-order predicate logic',\n",
       "              'recurrent neural network (RNN)'): 1,\n",
       "             ('ontology', 'ML'): 1,\n",
       "             ('Sequencial decision making', 'reinforcement learning (RL)'): 1,\n",
       "             ('Sequencial decision making', 'Memory Networks'): 1,\n",
       "             ('Sequencial decision making', 'neural network (NN)'): 1,\n",
       "             ('Sequencial decision making', ''): 1,\n",
       "             ('predicate logic', 'reinforcement learning (RL)'): 1,\n",
       "             ('predicate logic', 'Memory Networks'): 1,\n",
       "             ('predicate logic', 'neural network (NN)'): 1,\n",
       "             ('predicate logic', ''): 1,\n",
       "             ('relational logic', 'reinforcement learning (RL)'): 1,\n",
       "             ('relational logic', 'Memory Networks'): 1,\n",
       "             ('relational logic', 'neural network (NN)'): 1,\n",
       "             ('relational logic', ''): 1,\n",
       "             ('rule based', 'reinforcement learning (RL)'): 1,\n",
       "             ('rule based', 'Memory Networks'): 1,\n",
       "             ('rule based', 'neural network (NN)'): 1,\n",
       "             ('rule based', ''): 1,\n",
       "             ('rule induction', 'reinforcement learning (RL)'): 1,\n",
       "             ('rule induction', 'Memory Networks'): 1,\n",
       "             ('rule induction', 'neural network (NN)'): 1,\n",
       "             ('rule induction', ''): 1,\n",
       "             ('cognitive linguistics', 'reinforcement learning (RL)'): 1,\n",
       "             ('cognitive linguistics', 'Memory Networks'): 1,\n",
       "             ('cognitive linguistics', 'neural network (NN)'): 1,\n",
       "             ('cognitive linguistics', ''): 1,\n",
       "             ('commonsense/affect knowledge base',\n",
       "              'SVM (or any classifier which lends itself to regularization, which could be an NN)'): 1,\n",
       "             ('graph represenatation',\n",
       "              'SVM (or any classifier which lends itself to regularization, which could be an NN)'): 1,\n",
       "             ('common sense',\n",
       "              'SVM (or any classifier which lends itself to regularization, which could be an NN)'): 1,\n",
       "             ('nan', 'nan'): 1,\n",
       "             ('semantic resources', 'SVM'): 1,\n",
       "             ('dependency parsing', 'SVM'): 1,\n",
       "             ('statistical relational learning (SLR, RML)', 'SVM'): 1,\n",
       "             ('fuzzy logic', 'SVM'): 1,\n",
       "             ('FOL', 'SVM'): 1,\n",
       "             ('Transductive learning', 'SVM'): 1,\n",
       "             ('grounding', 'SVM'): 1,\n",
       "             ('propositionalization', 'SVM'): 1,\n",
       "             ('graph representation', 'NN'): 1,\n",
       "             ('dialogical alignment', 'NN'): 1,\n",
       "             ('Rule', 'machine learning (ML)'): 1,\n",
       "             ('sememe', 'machine learning (ML)'): 1,\n",
       "             ('domain specific language (DSL)', 'neural network (NN)'): 1,\n",
       "             ('transductive learning', 'neural network (NN)'): 1,\n",
       "             ('program synthesis', 'neural network (NN)'): 1,\n",
       "             ('symbolic node embedding', 'graph neural network (GNN)'): 1,\n",
       "             ('binding problem', 'recurrent neural network (RNN)'): 1,\n",
       "             ('ontology', 'recurrent neural network (RNN)'): 1,\n",
       "             ('ontology', 'convolutional neural network (CNN)'): 1,\n",
       "             ('knowledge graph completion',\n",
       "              'recurrent neural network (RNN)'): 1,\n",
       "             ('knowledge graph completion',\n",
       "              'convolutional neural network (CNN)'): 1,\n",
       "             ('knowledge graph (KG)', 'recurrent neural network (RNN)'): 1,\n",
       "             ('knowledge graph (KG)', 'convolutional neural network (CNN)'): 1,\n",
       "             ('rule based', 'recurrent neural network (RNN)'): 1})"
      ]
     },
     "execution_count": 336,
     "metadata": {},
     "output_type": "execute_result"
    }
   ],
   "source": [
    "tup_dict"
   ]
  },
  {
   "cell_type": "code",
   "execution_count": 337,
   "metadata": {},
   "outputs": [],
   "source": [
    "d=defaultdict(dict)\n",
    "\n",
    "for i in sym_set:\n",
    "    inner_dict=defaultdict(dict)\n",
    "    for j in neu_set:\n",
    "        inner_dict[j]=tup_dict[(i,j)]\n",
    "    d[i]=inner_dict\n",
    "    \n",
    "assd=pd.DataFrame(d)"
   ]
  },
  {
   "cell_type": "code",
   "execution_count": 338,
   "metadata": {},
   "outputs": [
    {
     "data": {
      "text/html": [
       "<div>\n",
       "<style scoped>\n",
       "    .dataframe tbody tr th:only-of-type {\n",
       "        vertical-align: middle;\n",
       "    }\n",
       "\n",
       "    .dataframe tbody tr th {\n",
       "        vertical-align: top;\n",
       "    }\n",
       "\n",
       "    .dataframe thead th {\n",
       "        text-align: right;\n",
       "    }\n",
       "</style>\n",
       "<table border=\"1\" class=\"dataframe\">\n",
       "  <thead>\n",
       "    <tr style=\"text-align: right;\">\n",
       "      <th></th>\n",
       "      <th>knowldge graph</th>\n",
       "      <th>FOL</th>\n",
       "      <th>predicate logic</th>\n",
       "      <th>fuzzy logic</th>\n",
       "      <th>symbolic node embedding</th>\n",
       "      <th>Sequencial decision making</th>\n",
       "      <th>cognitive linguistics</th>\n",
       "      <th>Rule</th>\n",
       "      <th>ontology</th>\n",
       "      <th>rule induction</th>\n",
       "      <th>...</th>\n",
       "      <th>semantic resources</th>\n",
       "      <th>mamdani fuzzy system (MFS)</th>\n",
       "      <th>symbolic learner</th>\n",
       "      <th>nan</th>\n",
       "      <th>commonsense/affect knowledge base</th>\n",
       "      <th>knowledge graph</th>\n",
       "      <th>graph representation</th>\n",
       "      <th>symbolic representations</th>\n",
       "      <th>knowledge graph completion</th>\n",
       "      <th>relational logic</th>\n",
       "    </tr>\n",
       "  </thead>\n",
       "  <tbody>\n",
       "    <tr>\n",
       "      <th></th>\n",
       "      <td>0</td>\n",
       "      <td>0</td>\n",
       "      <td>1</td>\n",
       "      <td>0</td>\n",
       "      <td>0</td>\n",
       "      <td>1</td>\n",
       "      <td>1</td>\n",
       "      <td>0</td>\n",
       "      <td>0</td>\n",
       "      <td>1</td>\n",
       "      <td>...</td>\n",
       "      <td>0</td>\n",
       "      <td>0</td>\n",
       "      <td>0</td>\n",
       "      <td>0</td>\n",
       "      <td>0</td>\n",
       "      <td>0</td>\n",
       "      <td>0</td>\n",
       "      <td>0</td>\n",
       "      <td>0</td>\n",
       "      <td>1</td>\n",
       "    </tr>\n",
       "    <tr>\n",
       "      <th>recurrent neural network (RNN)</th>\n",
       "      <td>1</td>\n",
       "      <td>0</td>\n",
       "      <td>0</td>\n",
       "      <td>1</td>\n",
       "      <td>0</td>\n",
       "      <td>0</td>\n",
       "      <td>0</td>\n",
       "      <td>0</td>\n",
       "      <td>1</td>\n",
       "      <td>0</td>\n",
       "      <td>...</td>\n",
       "      <td>0</td>\n",
       "      <td>0</td>\n",
       "      <td>0</td>\n",
       "      <td>0</td>\n",
       "      <td>0</td>\n",
       "      <td>0</td>\n",
       "      <td>0</td>\n",
       "      <td>0</td>\n",
       "      <td>1</td>\n",
       "      <td>0</td>\n",
       "    </tr>\n",
       "    <tr>\n",
       "      <th>NN</th>\n",
       "      <td>0</td>\n",
       "      <td>0</td>\n",
       "      <td>0</td>\n",
       "      <td>0</td>\n",
       "      <td>0</td>\n",
       "      <td>0</td>\n",
       "      <td>0</td>\n",
       "      <td>0</td>\n",
       "      <td>0</td>\n",
       "      <td>0</td>\n",
       "      <td>...</td>\n",
       "      <td>0</td>\n",
       "      <td>0</td>\n",
       "      <td>0</td>\n",
       "      <td>0</td>\n",
       "      <td>0</td>\n",
       "      <td>0</td>\n",
       "      <td>1</td>\n",
       "      <td>0</td>\n",
       "      <td>0</td>\n",
       "      <td>0</td>\n",
       "    </tr>\n",
       "    <tr>\n",
       "      <th>attention network (BERT)</th>\n",
       "      <td>0</td>\n",
       "      <td>0</td>\n",
       "      <td>0</td>\n",
       "      <td>0</td>\n",
       "      <td>0</td>\n",
       "      <td>0</td>\n",
       "      <td>0</td>\n",
       "      <td>0</td>\n",
       "      <td>0</td>\n",
       "      <td>0</td>\n",
       "      <td>...</td>\n",
       "      <td>0</td>\n",
       "      <td>0</td>\n",
       "      <td>0</td>\n",
       "      <td>0</td>\n",
       "      <td>0</td>\n",
       "      <td>0</td>\n",
       "      <td>1</td>\n",
       "      <td>0</td>\n",
       "      <td>0</td>\n",
       "      <td>0</td>\n",
       "    </tr>\n",
       "    <tr>\n",
       "      <th>machine learning (ML)</th>\n",
       "      <td>0</td>\n",
       "      <td>0</td>\n",
       "      <td>0</td>\n",
       "      <td>0</td>\n",
       "      <td>0</td>\n",
       "      <td>0</td>\n",
       "      <td>0</td>\n",
       "      <td>1</td>\n",
       "      <td>0</td>\n",
       "      <td>0</td>\n",
       "      <td>...</td>\n",
       "      <td>0</td>\n",
       "      <td>0</td>\n",
       "      <td>0</td>\n",
       "      <td>0</td>\n",
       "      <td>0</td>\n",
       "      <td>0</td>\n",
       "      <td>0</td>\n",
       "      <td>0</td>\n",
       "      <td>0</td>\n",
       "      <td>0</td>\n",
       "    </tr>\n",
       "    <tr>\n",
       "      <th>SVM (or any classifier which lends itself to regularization, which could be an NN)</th>\n",
       "      <td>0</td>\n",
       "      <td>0</td>\n",
       "      <td>0</td>\n",
       "      <td>0</td>\n",
       "      <td>0</td>\n",
       "      <td>0</td>\n",
       "      <td>0</td>\n",
       "      <td>0</td>\n",
       "      <td>0</td>\n",
       "      <td>0</td>\n",
       "      <td>...</td>\n",
       "      <td>0</td>\n",
       "      <td>0</td>\n",
       "      <td>0</td>\n",
       "      <td>0</td>\n",
       "      <td>1</td>\n",
       "      <td>0</td>\n",
       "      <td>0</td>\n",
       "      <td>0</td>\n",
       "      <td>0</td>\n",
       "      <td>0</td>\n",
       "    </tr>\n",
       "    <tr>\n",
       "      <th>deep belief network (DBN)</th>\n",
       "      <td>0</td>\n",
       "      <td>0</td>\n",
       "      <td>0</td>\n",
       "      <td>1</td>\n",
       "      <td>0</td>\n",
       "      <td>0</td>\n",
       "      <td>0</td>\n",
       "      <td>0</td>\n",
       "      <td>0</td>\n",
       "      <td>0</td>\n",
       "      <td>...</td>\n",
       "      <td>0</td>\n",
       "      <td>0</td>\n",
       "      <td>0</td>\n",
       "      <td>0</td>\n",
       "      <td>0</td>\n",
       "      <td>0</td>\n",
       "      <td>0</td>\n",
       "      <td>0</td>\n",
       "      <td>0</td>\n",
       "      <td>0</td>\n",
       "    </tr>\n",
       "    <tr>\n",
       "      <th>recursive neural network (RNN)</th>\n",
       "      <td>0</td>\n",
       "      <td>1</td>\n",
       "      <td>0</td>\n",
       "      <td>0</td>\n",
       "      <td>0</td>\n",
       "      <td>0</td>\n",
       "      <td>0</td>\n",
       "      <td>0</td>\n",
       "      <td>0</td>\n",
       "      <td>0</td>\n",
       "      <td>...</td>\n",
       "      <td>0</td>\n",
       "      <td>0</td>\n",
       "      <td>0</td>\n",
       "      <td>0</td>\n",
       "      <td>0</td>\n",
       "      <td>0</td>\n",
       "      <td>0</td>\n",
       "      <td>0</td>\n",
       "      <td>0</td>\n",
       "      <td>0</td>\n",
       "    </tr>\n",
       "    <tr>\n",
       "      <th>recursive neural knowledge network (RNKN)</th>\n",
       "      <td>0</td>\n",
       "      <td>1</td>\n",
       "      <td>0</td>\n",
       "      <td>0</td>\n",
       "      <td>0</td>\n",
       "      <td>0</td>\n",
       "      <td>0</td>\n",
       "      <td>0</td>\n",
       "      <td>0</td>\n",
       "      <td>0</td>\n",
       "      <td>...</td>\n",
       "      <td>0</td>\n",
       "      <td>0</td>\n",
       "      <td>0</td>\n",
       "      <td>0</td>\n",
       "      <td>0</td>\n",
       "      <td>0</td>\n",
       "      <td>0</td>\n",
       "      <td>0</td>\n",
       "      <td>0</td>\n",
       "      <td>0</td>\n",
       "    </tr>\n",
       "    <tr>\n",
       "      <th>BERT</th>\n",
       "      <td>0</td>\n",
       "      <td>0</td>\n",
       "      <td>0</td>\n",
       "      <td>0</td>\n",
       "      <td>0</td>\n",
       "      <td>0</td>\n",
       "      <td>0</td>\n",
       "      <td>0</td>\n",
       "      <td>0</td>\n",
       "      <td>0</td>\n",
       "      <td>...</td>\n",
       "      <td>0</td>\n",
       "      <td>0</td>\n",
       "      <td>1</td>\n",
       "      <td>0</td>\n",
       "      <td>0</td>\n",
       "      <td>0</td>\n",
       "      <td>0</td>\n",
       "      <td>1</td>\n",
       "      <td>0</td>\n",
       "      <td>0</td>\n",
       "    </tr>\n",
       "    <tr>\n",
       "      <th>convolutional neural network (CNN)</th>\n",
       "      <td>0</td>\n",
       "      <td>0</td>\n",
       "      <td>0</td>\n",
       "      <td>2</td>\n",
       "      <td>0</td>\n",
       "      <td>0</td>\n",
       "      <td>0</td>\n",
       "      <td>0</td>\n",
       "      <td>1</td>\n",
       "      <td>0</td>\n",
       "      <td>...</td>\n",
       "      <td>0</td>\n",
       "      <td>1</td>\n",
       "      <td>0</td>\n",
       "      <td>0</td>\n",
       "      <td>0</td>\n",
       "      <td>0</td>\n",
       "      <td>0</td>\n",
       "      <td>0</td>\n",
       "      <td>1</td>\n",
       "      <td>0</td>\n",
       "    </tr>\n",
       "    <tr>\n",
       "      <th>RL</th>\n",
       "      <td>0</td>\n",
       "      <td>0</td>\n",
       "      <td>0</td>\n",
       "      <td>0</td>\n",
       "      <td>0</td>\n",
       "      <td>0</td>\n",
       "      <td>0</td>\n",
       "      <td>0</td>\n",
       "      <td>0</td>\n",
       "      <td>0</td>\n",
       "      <td>...</td>\n",
       "      <td>0</td>\n",
       "      <td>0</td>\n",
       "      <td>0</td>\n",
       "      <td>0</td>\n",
       "      <td>0</td>\n",
       "      <td>0</td>\n",
       "      <td>0</td>\n",
       "      <td>0</td>\n",
       "      <td>0</td>\n",
       "      <td>0</td>\n",
       "    </tr>\n",
       "    <tr>\n",
       "      <th>neuroevolution (NE)</th>\n",
       "      <td>0</td>\n",
       "      <td>0</td>\n",
       "      <td>0</td>\n",
       "      <td>0</td>\n",
       "      <td>0</td>\n",
       "      <td>0</td>\n",
       "      <td>0</td>\n",
       "      <td>0</td>\n",
       "      <td>0</td>\n",
       "      <td>0</td>\n",
       "      <td>...</td>\n",
       "      <td>0</td>\n",
       "      <td>0</td>\n",
       "      <td>1</td>\n",
       "      <td>0</td>\n",
       "      <td>0</td>\n",
       "      <td>0</td>\n",
       "      <td>0</td>\n",
       "      <td>1</td>\n",
       "      <td>0</td>\n",
       "      <td>0</td>\n",
       "    </tr>\n",
       "    <tr>\n",
       "      <th>reinforcement learning (RL)</th>\n",
       "      <td>0</td>\n",
       "      <td>0</td>\n",
       "      <td>1</td>\n",
       "      <td>0</td>\n",
       "      <td>0</td>\n",
       "      <td>1</td>\n",
       "      <td>1</td>\n",
       "      <td>0</td>\n",
       "      <td>0</td>\n",
       "      <td>1</td>\n",
       "      <td>...</td>\n",
       "      <td>0</td>\n",
       "      <td>0</td>\n",
       "      <td>0</td>\n",
       "      <td>0</td>\n",
       "      <td>0</td>\n",
       "      <td>0</td>\n",
       "      <td>0</td>\n",
       "      <td>0</td>\n",
       "      <td>0</td>\n",
       "      <td>1</td>\n",
       "    </tr>\n",
       "    <tr>\n",
       "      <th>neural network (NN)</th>\n",
       "      <td>0</td>\n",
       "      <td>0</td>\n",
       "      <td>1</td>\n",
       "      <td>2</td>\n",
       "      <td>0</td>\n",
       "      <td>1</td>\n",
       "      <td>1</td>\n",
       "      <td>0</td>\n",
       "      <td>0</td>\n",
       "      <td>1</td>\n",
       "      <td>...</td>\n",
       "      <td>0</td>\n",
       "      <td>1</td>\n",
       "      <td>1</td>\n",
       "      <td>0</td>\n",
       "      <td>0</td>\n",
       "      <td>0</td>\n",
       "      <td>0</td>\n",
       "      <td>1</td>\n",
       "      <td>0</td>\n",
       "      <td>1</td>\n",
       "    </tr>\n",
       "    <tr>\n",
       "      <th>ML</th>\n",
       "      <td>0</td>\n",
       "      <td>0</td>\n",
       "      <td>0</td>\n",
       "      <td>0</td>\n",
       "      <td>0</td>\n",
       "      <td>0</td>\n",
       "      <td>0</td>\n",
       "      <td>0</td>\n",
       "      <td>1</td>\n",
       "      <td>0</td>\n",
       "      <td>...</td>\n",
       "      <td>0</td>\n",
       "      <td>0</td>\n",
       "      <td>0</td>\n",
       "      <td>0</td>\n",
       "      <td>0</td>\n",
       "      <td>0</td>\n",
       "      <td>0</td>\n",
       "      <td>0</td>\n",
       "      <td>0</td>\n",
       "      <td>0</td>\n",
       "    </tr>\n",
       "    <tr>\n",
       "      <th>attention network (LSTM)</th>\n",
       "      <td>0</td>\n",
       "      <td>0</td>\n",
       "      <td>0</td>\n",
       "      <td>0</td>\n",
       "      <td>0</td>\n",
       "      <td>0</td>\n",
       "      <td>0</td>\n",
       "      <td>0</td>\n",
       "      <td>0</td>\n",
       "      <td>0</td>\n",
       "      <td>...</td>\n",
       "      <td>0</td>\n",
       "      <td>0</td>\n",
       "      <td>0</td>\n",
       "      <td>0</td>\n",
       "      <td>0</td>\n",
       "      <td>0</td>\n",
       "      <td>1</td>\n",
       "      <td>0</td>\n",
       "      <td>0</td>\n",
       "      <td>0</td>\n",
       "    </tr>\n",
       "    <tr>\n",
       "      <th>transformer</th>\n",
       "      <td>0</td>\n",
       "      <td>0</td>\n",
       "      <td>0</td>\n",
       "      <td>0</td>\n",
       "      <td>0</td>\n",
       "      <td>0</td>\n",
       "      <td>0</td>\n",
       "      <td>0</td>\n",
       "      <td>0</td>\n",
       "      <td>0</td>\n",
       "      <td>...</td>\n",
       "      <td>0</td>\n",
       "      <td>0</td>\n",
       "      <td>1</td>\n",
       "      <td>0</td>\n",
       "      <td>0</td>\n",
       "      <td>0</td>\n",
       "      <td>0</td>\n",
       "      <td>1</td>\n",
       "      <td>0</td>\n",
       "      <td>0</td>\n",
       "    </tr>\n",
       "    <tr>\n",
       "      <th>embedding</th>\n",
       "      <td>0</td>\n",
       "      <td>0</td>\n",
       "      <td>0</td>\n",
       "      <td>1</td>\n",
       "      <td>0</td>\n",
       "      <td>0</td>\n",
       "      <td>0</td>\n",
       "      <td>0</td>\n",
       "      <td>0</td>\n",
       "      <td>0</td>\n",
       "      <td>...</td>\n",
       "      <td>0</td>\n",
       "      <td>1</td>\n",
       "      <td>1</td>\n",
       "      <td>0</td>\n",
       "      <td>0</td>\n",
       "      <td>0</td>\n",
       "      <td>0</td>\n",
       "      <td>1</td>\n",
       "      <td>0</td>\n",
       "      <td>0</td>\n",
       "    </tr>\n",
       "    <tr>\n",
       "      <th>graph neural network (GNN)</th>\n",
       "      <td>0</td>\n",
       "      <td>0</td>\n",
       "      <td>0</td>\n",
       "      <td>0</td>\n",
       "      <td>1</td>\n",
       "      <td>0</td>\n",
       "      <td>0</td>\n",
       "      <td>0</td>\n",
       "      <td>0</td>\n",
       "      <td>0</td>\n",
       "      <td>...</td>\n",
       "      <td>0</td>\n",
       "      <td>0</td>\n",
       "      <td>0</td>\n",
       "      <td>0</td>\n",
       "      <td>0</td>\n",
       "      <td>1</td>\n",
       "      <td>1</td>\n",
       "      <td>0</td>\n",
       "      <td>0</td>\n",
       "      <td>0</td>\n",
       "    </tr>\n",
       "    <tr>\n",
       "      <th>Memory Networks</th>\n",
       "      <td>0</td>\n",
       "      <td>0</td>\n",
       "      <td>1</td>\n",
       "      <td>0</td>\n",
       "      <td>0</td>\n",
       "      <td>1</td>\n",
       "      <td>1</td>\n",
       "      <td>0</td>\n",
       "      <td>0</td>\n",
       "      <td>1</td>\n",
       "      <td>...</td>\n",
       "      <td>0</td>\n",
       "      <td>0</td>\n",
       "      <td>0</td>\n",
       "      <td>0</td>\n",
       "      <td>0</td>\n",
       "      <td>0</td>\n",
       "      <td>0</td>\n",
       "      <td>0</td>\n",
       "      <td>0</td>\n",
       "      <td>1</td>\n",
       "    </tr>\n",
       "    <tr>\n",
       "      <th>nan</th>\n",
       "      <td>0</td>\n",
       "      <td>0</td>\n",
       "      <td>0</td>\n",
       "      <td>0</td>\n",
       "      <td>0</td>\n",
       "      <td>0</td>\n",
       "      <td>0</td>\n",
       "      <td>0</td>\n",
       "      <td>0</td>\n",
       "      <td>0</td>\n",
       "      <td>...</td>\n",
       "      <td>0</td>\n",
       "      <td>0</td>\n",
       "      <td>0</td>\n",
       "      <td>1</td>\n",
       "      <td>0</td>\n",
       "      <td>0</td>\n",
       "      <td>0</td>\n",
       "      <td>0</td>\n",
       "      <td>0</td>\n",
       "      <td>0</td>\n",
       "    </tr>\n",
       "    <tr>\n",
       "      <th>SVM</th>\n",
       "      <td>0</td>\n",
       "      <td>1</td>\n",
       "      <td>0</td>\n",
       "      <td>1</td>\n",
       "      <td>1</td>\n",
       "      <td>0</td>\n",
       "      <td>0</td>\n",
       "      <td>0</td>\n",
       "      <td>0</td>\n",
       "      <td>0</td>\n",
       "      <td>...</td>\n",
       "      <td>1</td>\n",
       "      <td>0</td>\n",
       "      <td>0</td>\n",
       "      <td>0</td>\n",
       "      <td>0</td>\n",
       "      <td>0</td>\n",
       "      <td>0</td>\n",
       "      <td>0</td>\n",
       "      <td>0</td>\n",
       "      <td>0</td>\n",
       "    </tr>\n",
       "  </tbody>\n",
       "</table>\n",
       "<p>23 rows × 43 columns</p>\n",
       "</div>"
      ],
      "text/plain": [
       "                                                                                    knowldge graph  \\\n",
       "                                                                                                 0   \n",
       "recurrent neural network (RNN)                                                                   1   \n",
       "NN                                                                                               0   \n",
       "attention network (BERT)                                                                         0   \n",
       "machine learning (ML)                                                                            0   \n",
       "SVM (or any classifier which lends itself to regularization, which could be an NN)               0   \n",
       "deep belief network (DBN)                                                                        0   \n",
       "recursive neural network (RNN)                                                                   0   \n",
       "recursive neural knowledge network (RNKN)                                                        0   \n",
       "BERT                                                                                             0   \n",
       "convolutional neural network (CNN)                                                               0   \n",
       "RL                                                                                               0   \n",
       "neuroevolution (NE)                                                                              0   \n",
       "reinforcement learning (RL)                                                                      0   \n",
       "neural network (NN)                                                                              0   \n",
       "ML                                                                                               0   \n",
       "attention network (LSTM)                                                                         0   \n",
       "transformer                                                                                      0   \n",
       "embedding                                                                                        0   \n",
       "graph neural network (GNN)                                                                       0   \n",
       "Memory Networks                                                                                  0   \n",
       "nan                                                                                              0   \n",
       "SVM                                                                                              0   \n",
       "\n",
       "                                                                                    FOL  \\\n",
       "                                                                                      0   \n",
       "recurrent neural network (RNN)                                                        0   \n",
       "NN                                                                                    0   \n",
       "attention network (BERT)                                                              0   \n",
       "machine learning (ML)                                                                 0   \n",
       "SVM (or any classifier which lends itself to regularization, which could be an NN)    0   \n",
       "deep belief network (DBN)                                                             0   \n",
       "recursive neural network (RNN)                                                        1   \n",
       "recursive neural knowledge network (RNKN)                                             1   \n",
       "BERT                                                                                  0   \n",
       "convolutional neural network (CNN)                                                    0   \n",
       "RL                                                                                    0   \n",
       "neuroevolution (NE)                                                                   0   \n",
       "reinforcement learning (RL)                                                           0   \n",
       "neural network (NN)                                                                   0   \n",
       "ML                                                                                    0   \n",
       "attention network (LSTM)                                                              0   \n",
       "transformer                                                                           0   \n",
       "embedding                                                                             0   \n",
       "graph neural network (GNN)                                                            0   \n",
       "Memory Networks                                                                       0   \n",
       "nan                                                                                   0   \n",
       "SVM                                                                                   1   \n",
       "\n",
       "                                                                                    predicate logic  \\\n",
       "                                                                                                  1   \n",
       "recurrent neural network (RNN)                                                                    0   \n",
       "NN                                                                                                0   \n",
       "attention network (BERT)                                                                          0   \n",
       "machine learning (ML)                                                                             0   \n",
       "SVM (or any classifier which lends itself to regularization, which could be an NN)                0   \n",
       "deep belief network (DBN)                                                                         0   \n",
       "recursive neural network (RNN)                                                                    0   \n",
       "recursive neural knowledge network (RNKN)                                                         0   \n",
       "BERT                                                                                              0   \n",
       "convolutional neural network (CNN)                                                                0   \n",
       "RL                                                                                                0   \n",
       "neuroevolution (NE)                                                                               0   \n",
       "reinforcement learning (RL)                                                                       1   \n",
       "neural network (NN)                                                                               1   \n",
       "ML                                                                                                0   \n",
       "attention network (LSTM)                                                                          0   \n",
       "transformer                                                                                       0   \n",
       "embedding                                                                                         0   \n",
       "graph neural network (GNN)                                                                        0   \n",
       "Memory Networks                                                                                   1   \n",
       "nan                                                                                               0   \n",
       "SVM                                                                                               0   \n",
       "\n",
       "                                                                                    fuzzy logic  \\\n",
       "                                                                                              0   \n",
       "recurrent neural network (RNN)                                                                1   \n",
       "NN                                                                                            0   \n",
       "attention network (BERT)                                                                      0   \n",
       "machine learning (ML)                                                                         0   \n",
       "SVM (or any classifier which lends itself to regularization, which could be an NN)            0   \n",
       "deep belief network (DBN)                                                                     1   \n",
       "recursive neural network (RNN)                                                                0   \n",
       "recursive neural knowledge network (RNKN)                                                     0   \n",
       "BERT                                                                                          0   \n",
       "convolutional neural network (CNN)                                                            2   \n",
       "RL                                                                                            0   \n",
       "neuroevolution (NE)                                                                           0   \n",
       "reinforcement learning (RL)                                                                   0   \n",
       "neural network (NN)                                                                           2   \n",
       "ML                                                                                            0   \n",
       "attention network (LSTM)                                                                      0   \n",
       "transformer                                                                                   0   \n",
       "embedding                                                                                     1   \n",
       "graph neural network (GNN)                                                                    0   \n",
       "Memory Networks                                                                               0   \n",
       "nan                                                                                           0   \n",
       "SVM                                                                                           1   \n",
       "\n",
       "                                                                                    symbolic node embedding  \\\n",
       "                                                                                                          0   \n",
       "recurrent neural network (RNN)                                                                            0   \n",
       "NN                                                                                                        0   \n",
       "attention network (BERT)                                                                                  0   \n",
       "machine learning (ML)                                                                                     0   \n",
       "SVM (or any classifier which lends itself to regularization, which could be an NN)                        0   \n",
       "deep belief network (DBN)                                                                                 0   \n",
       "recursive neural network (RNN)                                                                            0   \n",
       "recursive neural knowledge network (RNKN)                                                                 0   \n",
       "BERT                                                                                                      0   \n",
       "convolutional neural network (CNN)                                                                        0   \n",
       "RL                                                                                                        0   \n",
       "neuroevolution (NE)                                                                                       0   \n",
       "reinforcement learning (RL)                                                                               0   \n",
       "neural network (NN)                                                                                       0   \n",
       "ML                                                                                                        0   \n",
       "attention network (LSTM)                                                                                  0   \n",
       "transformer                                                                                               0   \n",
       "embedding                                                                                                 0   \n",
       "graph neural network (GNN)                                                                                1   \n",
       "Memory Networks                                                                                           0   \n",
       "nan                                                                                                       0   \n",
       "SVM                                                                                                       1   \n",
       "\n",
       "                                                                                    Sequencial decision making  \\\n",
       "                                                                                                             1   \n",
       "recurrent neural network (RNN)                                                                               0   \n",
       "NN                                                                                                           0   \n",
       "attention network (BERT)                                                                                     0   \n",
       "machine learning (ML)                                                                                        0   \n",
       "SVM (or any classifier which lends itself to regularization, which could be an NN)                           0   \n",
       "deep belief network (DBN)                                                                                    0   \n",
       "recursive neural network (RNN)                                                                               0   \n",
       "recursive neural knowledge network (RNKN)                                                                    0   \n",
       "BERT                                                                                                         0   \n",
       "convolutional neural network (CNN)                                                                           0   \n",
       "RL                                                                                                           0   \n",
       "neuroevolution (NE)                                                                                          0   \n",
       "reinforcement learning (RL)                                                                                  1   \n",
       "neural network (NN)                                                                                          1   \n",
       "ML                                                                                                           0   \n",
       "attention network (LSTM)                                                                                     0   \n",
       "transformer                                                                                                  0   \n",
       "embedding                                                                                                    0   \n",
       "graph neural network (GNN)                                                                                   0   \n",
       "Memory Networks                                                                                              1   \n",
       "nan                                                                                                          0   \n",
       "SVM                                                                                                          0   \n",
       "\n",
       "                                                                                    cognitive linguistics  \\\n",
       "                                                                                                        1   \n",
       "recurrent neural network (RNN)                                                                          0   \n",
       "NN                                                                                                      0   \n",
       "attention network (BERT)                                                                                0   \n",
       "machine learning (ML)                                                                                   0   \n",
       "SVM (or any classifier which lends itself to regularization, which could be an NN)                      0   \n",
       "deep belief network (DBN)                                                                               0   \n",
       "recursive neural network (RNN)                                                                          0   \n",
       "recursive neural knowledge network (RNKN)                                                               0   \n",
       "BERT                                                                                                    0   \n",
       "convolutional neural network (CNN)                                                                      0   \n",
       "RL                                                                                                      0   \n",
       "neuroevolution (NE)                                                                                     0   \n",
       "reinforcement learning (RL)                                                                             1   \n",
       "neural network (NN)                                                                                     1   \n",
       "ML                                                                                                      0   \n",
       "attention network (LSTM)                                                                                0   \n",
       "transformer                                                                                             0   \n",
       "embedding                                                                                               0   \n",
       "graph neural network (GNN)                                                                              0   \n",
       "Memory Networks                                                                                         1   \n",
       "nan                                                                                                     0   \n",
       "SVM                                                                                                     0   \n",
       "\n",
       "                                                                                    Rule  \\\n",
       "                                                                                       0   \n",
       "recurrent neural network (RNN)                                                         0   \n",
       "NN                                                                                     0   \n",
       "attention network (BERT)                                                               0   \n",
       "machine learning (ML)                                                                  1   \n",
       "SVM (or any classifier which lends itself to regularization, which could be an NN)     0   \n",
       "deep belief network (DBN)                                                              0   \n",
       "recursive neural network (RNN)                                                         0   \n",
       "recursive neural knowledge network (RNKN)                                              0   \n",
       "BERT                                                                                   0   \n",
       "convolutional neural network (CNN)                                                     0   \n",
       "RL                                                                                     0   \n",
       "neuroevolution (NE)                                                                    0   \n",
       "reinforcement learning (RL)                                                            0   \n",
       "neural network (NN)                                                                    0   \n",
       "ML                                                                                     0   \n",
       "attention network (LSTM)                                                               0   \n",
       "transformer                                                                            0   \n",
       "embedding                                                                              0   \n",
       "graph neural network (GNN)                                                             0   \n",
       "Memory Networks                                                                        0   \n",
       "nan                                                                                    0   \n",
       "SVM                                                                                    0   \n",
       "\n",
       "                                                                                    ontology  \\\n",
       "                                                                                           0   \n",
       "recurrent neural network (RNN)                                                             1   \n",
       "NN                                                                                         0   \n",
       "attention network (BERT)                                                                   0   \n",
       "machine learning (ML)                                                                      0   \n",
       "SVM (or any classifier which lends itself to regularization, which could be an NN)         0   \n",
       "deep belief network (DBN)                                                                  0   \n",
       "recursive neural network (RNN)                                                             0   \n",
       "recursive neural knowledge network (RNKN)                                                  0   \n",
       "BERT                                                                                       0   \n",
       "convolutional neural network (CNN)                                                         1   \n",
       "RL                                                                                         0   \n",
       "neuroevolution (NE)                                                                        0   \n",
       "reinforcement learning (RL)                                                                0   \n",
       "neural network (NN)                                                                        0   \n",
       "ML                                                                                         1   \n",
       "attention network (LSTM)                                                                   0   \n",
       "transformer                                                                                0   \n",
       "embedding                                                                                  0   \n",
       "graph neural network (GNN)                                                                 0   \n",
       "Memory Networks                                                                            0   \n",
       "nan                                                                                        0   \n",
       "SVM                                                                                        0   \n",
       "\n",
       "                                                                                    rule induction  \\\n",
       "                                                                                                 1   \n",
       "recurrent neural network (RNN)                                                                   0   \n",
       "NN                                                                                               0   \n",
       "attention network (BERT)                                                                         0   \n",
       "machine learning (ML)                                                                            0   \n",
       "SVM (or any classifier which lends itself to regularization, which could be an NN)               0   \n",
       "deep belief network (DBN)                                                                        0   \n",
       "recursive neural network (RNN)                                                                   0   \n",
       "recursive neural knowledge network (RNKN)                                                        0   \n",
       "BERT                                                                                             0   \n",
       "convolutional neural network (CNN)                                                               0   \n",
       "RL                                                                                               0   \n",
       "neuroevolution (NE)                                                                              0   \n",
       "reinforcement learning (RL)                                                                      1   \n",
       "neural network (NN)                                                                              1   \n",
       "ML                                                                                               0   \n",
       "attention network (LSTM)                                                                         0   \n",
       "transformer                                                                                      0   \n",
       "embedding                                                                                        0   \n",
       "graph neural network (GNN)                                                                       0   \n",
       "Memory Networks                                                                                  1   \n",
       "nan                                                                                              0   \n",
       "SVM                                                                                              0   \n",
       "\n",
       "                                                                                    ...  \\\n",
       "                                                                                    ...   \n",
       "recurrent neural network (RNN)                                                      ...   \n",
       "NN                                                                                  ...   \n",
       "attention network (BERT)                                                            ...   \n",
       "machine learning (ML)                                                               ...   \n",
       "SVM (or any classifier which lends itself to regularization, which could be an NN)  ...   \n",
       "deep belief network (DBN)                                                           ...   \n",
       "recursive neural network (RNN)                                                      ...   \n",
       "recursive neural knowledge network (RNKN)                                           ...   \n",
       "BERT                                                                                ...   \n",
       "convolutional neural network (CNN)                                                  ...   \n",
       "RL                                                                                  ...   \n",
       "neuroevolution (NE)                                                                 ...   \n",
       "reinforcement learning (RL)                                                         ...   \n",
       "neural network (NN)                                                                 ...   \n",
       "ML                                                                                  ...   \n",
       "attention network (LSTM)                                                            ...   \n",
       "transformer                                                                         ...   \n",
       "embedding                                                                           ...   \n",
       "graph neural network (GNN)                                                          ...   \n",
       "Memory Networks                                                                     ...   \n",
       "nan                                                                                 ...   \n",
       "SVM                                                                                 ...   \n",
       "\n",
       "                                                                                    semantic resources  \\\n",
       "                                                                                                     0   \n",
       "recurrent neural network (RNN)                                                                       0   \n",
       "NN                                                                                                   0   \n",
       "attention network (BERT)                                                                             0   \n",
       "machine learning (ML)                                                                                0   \n",
       "SVM (or any classifier which lends itself to regularization, which could be an NN)                   0   \n",
       "deep belief network (DBN)                                                                            0   \n",
       "recursive neural network (RNN)                                                                       0   \n",
       "recursive neural knowledge network (RNKN)                                                            0   \n",
       "BERT                                                                                                 0   \n",
       "convolutional neural network (CNN)                                                                   0   \n",
       "RL                                                                                                   0   \n",
       "neuroevolution (NE)                                                                                  0   \n",
       "reinforcement learning (RL)                                                                          0   \n",
       "neural network (NN)                                                                                  0   \n",
       "ML                                                                                                   0   \n",
       "attention network (LSTM)                                                                             0   \n",
       "transformer                                                                                          0   \n",
       "embedding                                                                                            0   \n",
       "graph neural network (GNN)                                                                           0   \n",
       "Memory Networks                                                                                      0   \n",
       "nan                                                                                                  0   \n",
       "SVM                                                                                                  1   \n",
       "\n",
       "                                                                                    mamdani fuzzy system (MFS)  \\\n",
       "                                                                                                             0   \n",
       "recurrent neural network (RNN)                                                                               0   \n",
       "NN                                                                                                           0   \n",
       "attention network (BERT)                                                                                     0   \n",
       "machine learning (ML)                                                                                        0   \n",
       "SVM (or any classifier which lends itself to regularization, which could be an NN)                           0   \n",
       "deep belief network (DBN)                                                                                    0   \n",
       "recursive neural network (RNN)                                                                               0   \n",
       "recursive neural knowledge network (RNKN)                                                                    0   \n",
       "BERT                                                                                                         0   \n",
       "convolutional neural network (CNN)                                                                           1   \n",
       "RL                                                                                                           0   \n",
       "neuroevolution (NE)                                                                                          0   \n",
       "reinforcement learning (RL)                                                                                  0   \n",
       "neural network (NN)                                                                                          1   \n",
       "ML                                                                                                           0   \n",
       "attention network (LSTM)                                                                                     0   \n",
       "transformer                                                                                                  0   \n",
       "embedding                                                                                                    1   \n",
       "graph neural network (GNN)                                                                                   0   \n",
       "Memory Networks                                                                                              0   \n",
       "nan                                                                                                          0   \n",
       "SVM                                                                                                          0   \n",
       "\n",
       "                                                                                    symbolic learner  \\\n",
       "                                                                                                   0   \n",
       "recurrent neural network (RNN)                                                                     0   \n",
       "NN                                                                                                 0   \n",
       "attention network (BERT)                                                                           0   \n",
       "machine learning (ML)                                                                              0   \n",
       "SVM (or any classifier which lends itself to regularization, which could be an NN)                 0   \n",
       "deep belief network (DBN)                                                                          0   \n",
       "recursive neural network (RNN)                                                                     0   \n",
       "recursive neural knowledge network (RNKN)                                                          0   \n",
       "BERT                                                                                               1   \n",
       "convolutional neural network (CNN)                                                                 0   \n",
       "RL                                                                                                 0   \n",
       "neuroevolution (NE)                                                                                1   \n",
       "reinforcement learning (RL)                                                                        0   \n",
       "neural network (NN)                                                                                1   \n",
       "ML                                                                                                 0   \n",
       "attention network (LSTM)                                                                           0   \n",
       "transformer                                                                                        1   \n",
       "embedding                                                                                          1   \n",
       "graph neural network (GNN)                                                                         0   \n",
       "Memory Networks                                                                                    0   \n",
       "nan                                                                                                0   \n",
       "SVM                                                                                                0   \n",
       "\n",
       "                                                                                    nan  \\\n",
       "                                                                                      0   \n",
       "recurrent neural network (RNN)                                                        0   \n",
       "NN                                                                                    0   \n",
       "attention network (BERT)                                                              0   \n",
       "machine learning (ML)                                                                 0   \n",
       "SVM (or any classifier which lends itself to regularization, which could be an NN)    0   \n",
       "deep belief network (DBN)                                                             0   \n",
       "recursive neural network (RNN)                                                        0   \n",
       "recursive neural knowledge network (RNKN)                                             0   \n",
       "BERT                                                                                  0   \n",
       "convolutional neural network (CNN)                                                    0   \n",
       "RL                                                                                    0   \n",
       "neuroevolution (NE)                                                                   0   \n",
       "reinforcement learning (RL)                                                           0   \n",
       "neural network (NN)                                                                   0   \n",
       "ML                                                                                    0   \n",
       "attention network (LSTM)                                                              0   \n",
       "transformer                                                                           0   \n",
       "embedding                                                                             0   \n",
       "graph neural network (GNN)                                                            0   \n",
       "Memory Networks                                                                       0   \n",
       "nan                                                                                   1   \n",
       "SVM                                                                                   0   \n",
       "\n",
       "                                                                                    commonsense/affect knowledge base  \\\n",
       "                                                                                                                    0   \n",
       "recurrent neural network (RNN)                                                                                      0   \n",
       "NN                                                                                                                  0   \n",
       "attention network (BERT)                                                                                            0   \n",
       "machine learning (ML)                                                                                               0   \n",
       "SVM (or any classifier which lends itself to regularization, which could be an NN)                                  1   \n",
       "deep belief network (DBN)                                                                                           0   \n",
       "recursive neural network (RNN)                                                                                      0   \n",
       "recursive neural knowledge network (RNKN)                                                                           0   \n",
       "BERT                                                                                                                0   \n",
       "convolutional neural network (CNN)                                                                                  0   \n",
       "RL                                                                                                                  0   \n",
       "neuroevolution (NE)                                                                                                 0   \n",
       "reinforcement learning (RL)                                                                                         0   \n",
       "neural network (NN)                                                                                                 0   \n",
       "ML                                                                                                                  0   \n",
       "attention network (LSTM)                                                                                            0   \n",
       "transformer                                                                                                         0   \n",
       "embedding                                                                                                           0   \n",
       "graph neural network (GNN)                                                                                          0   \n",
       "Memory Networks                                                                                                     0   \n",
       "nan                                                                                                                 0   \n",
       "SVM                                                                                                                 0   \n",
       "\n",
       "                                                                                    knowledge graph  \\\n",
       "                                                                                                  0   \n",
       "recurrent neural network (RNN)                                                                    0   \n",
       "NN                                                                                                0   \n",
       "attention network (BERT)                                                                          0   \n",
       "machine learning (ML)                                                                             0   \n",
       "SVM (or any classifier which lends itself to regularization, which could be an NN)                0   \n",
       "deep belief network (DBN)                                                                         0   \n",
       "recursive neural network (RNN)                                                                    0   \n",
       "recursive neural knowledge network (RNKN)                                                         0   \n",
       "BERT                                                                                              0   \n",
       "convolutional neural network (CNN)                                                                0   \n",
       "RL                                                                                                0   \n",
       "neuroevolution (NE)                                                                               0   \n",
       "reinforcement learning (RL)                                                                       0   \n",
       "neural network (NN)                                                                               0   \n",
       "ML                                                                                                0   \n",
       "attention network (LSTM)                                                                          0   \n",
       "transformer                                                                                       0   \n",
       "embedding                                                                                         0   \n",
       "graph neural network (GNN)                                                                        1   \n",
       "Memory Networks                                                                                   0   \n",
       "nan                                                                                               0   \n",
       "SVM                                                                                               0   \n",
       "\n",
       "                                                                                    graph representation  \\\n",
       "                                                                                                       0   \n",
       "recurrent neural network (RNN)                                                                         0   \n",
       "NN                                                                                                     1   \n",
       "attention network (BERT)                                                                               1   \n",
       "machine learning (ML)                                                                                  0   \n",
       "SVM (or any classifier which lends itself to regularization, which could be an NN)                     0   \n",
       "deep belief network (DBN)                                                                              0   \n",
       "recursive neural network (RNN)                                                                         0   \n",
       "recursive neural knowledge network (RNKN)                                                              0   \n",
       "BERT                                                                                                   0   \n",
       "convolutional neural network (CNN)                                                                     0   \n",
       "RL                                                                                                     0   \n",
       "neuroevolution (NE)                                                                                    0   \n",
       "reinforcement learning (RL)                                                                            0   \n",
       "neural network (NN)                                                                                    0   \n",
       "ML                                                                                                     0   \n",
       "attention network (LSTM)                                                                               1   \n",
       "transformer                                                                                            0   \n",
       "embedding                                                                                              0   \n",
       "graph neural network (GNN)                                                                             1   \n",
       "Memory Networks                                                                                        0   \n",
       "nan                                                                                                    0   \n",
       "SVM                                                                                                    0   \n",
       "\n",
       "                                                                                    symbolic representations  \\\n",
       "                                                                                                           0   \n",
       "recurrent neural network (RNN)                                                                             0   \n",
       "NN                                                                                                         0   \n",
       "attention network (BERT)                                                                                   0   \n",
       "machine learning (ML)                                                                                      0   \n",
       "SVM (or any classifier which lends itself to regularization, which could be an NN)                         0   \n",
       "deep belief network (DBN)                                                                                  0   \n",
       "recursive neural network (RNN)                                                                             0   \n",
       "recursive neural knowledge network (RNKN)                                                                  0   \n",
       "BERT                                                                                                       1   \n",
       "convolutional neural network (CNN)                                                                         0   \n",
       "RL                                                                                                         0   \n",
       "neuroevolution (NE)                                                                                        1   \n",
       "reinforcement learning (RL)                                                                                0   \n",
       "neural network (NN)                                                                                        1   \n",
       "ML                                                                                                         0   \n",
       "attention network (LSTM)                                                                                   0   \n",
       "transformer                                                                                                1   \n",
       "embedding                                                                                                  1   \n",
       "graph neural network (GNN)                                                                                 0   \n",
       "Memory Networks                                                                                            0   \n",
       "nan                                                                                                        0   \n",
       "SVM                                                                                                        0   \n",
       "\n",
       "                                                                                    knowledge graph completion  \\\n",
       "                                                                                                             0   \n",
       "recurrent neural network (RNN)                                                                               1   \n",
       "NN                                                                                                           0   \n",
       "attention network (BERT)                                                                                     0   \n",
       "machine learning (ML)                                                                                        0   \n",
       "SVM (or any classifier which lends itself to regularization, which could be an NN)                           0   \n",
       "deep belief network (DBN)                                                                                    0   \n",
       "recursive neural network (RNN)                                                                               0   \n",
       "recursive neural knowledge network (RNKN)                                                                    0   \n",
       "BERT                                                                                                         0   \n",
       "convolutional neural network (CNN)                                                                           1   \n",
       "RL                                                                                                           0   \n",
       "neuroevolution (NE)                                                                                          0   \n",
       "reinforcement learning (RL)                                                                                  0   \n",
       "neural network (NN)                                                                                          0   \n",
       "ML                                                                                                           0   \n",
       "attention network (LSTM)                                                                                     0   \n",
       "transformer                                                                                                  0   \n",
       "embedding                                                                                                    0   \n",
       "graph neural network (GNN)                                                                                   0   \n",
       "Memory Networks                                                                                              0   \n",
       "nan                                                                                                          0   \n",
       "SVM                                                                                                          0   \n",
       "\n",
       "                                                                                    relational logic  \n",
       "                                                                                                   1  \n",
       "recurrent neural network (RNN)                                                                     0  \n",
       "NN                                                                                                 0  \n",
       "attention network (BERT)                                                                           0  \n",
       "machine learning (ML)                                                                              0  \n",
       "SVM (or any classifier which lends itself to regularization, which could be an NN)                 0  \n",
       "deep belief network (DBN)                                                                          0  \n",
       "recursive neural network (RNN)                                                                     0  \n",
       "recursive neural knowledge network (RNKN)                                                          0  \n",
       "BERT                                                                                               0  \n",
       "convolutional neural network (CNN)                                                                 0  \n",
       "RL                                                                                                 0  \n",
       "neuroevolution (NE)                                                                                0  \n",
       "reinforcement learning (RL)                                                                        1  \n",
       "neural network (NN)                                                                                1  \n",
       "ML                                                                                                 0  \n",
       "attention network (LSTM)                                                                           0  \n",
       "transformer                                                                                        0  \n",
       "embedding                                                                                          0  \n",
       "graph neural network (GNN)                                                                         0  \n",
       "Memory Networks                                                                                    1  \n",
       "nan                                                                                                0  \n",
       "SVM                                                                                                0  \n",
       "\n",
       "[23 rows x 43 columns]"
      ]
     },
     "execution_count": 338,
     "metadata": {},
     "output_type": "execute_result"
    }
   ],
   "source": [
    "assd"
   ]
  },
  {
   "cell_type": "code",
   "execution_count": 339,
   "metadata": {},
   "outputs": [
    {
     "data": {
      "image/png": "[encoded data removed]",
      "text/plain": [
       "<Figure size 1296x720 with 2 Axes>"
      ]
     },
     "metadata": {
      "needs_background": "light"
     },
     "output_type": "display_data"
    }
   ],
   "source": [
    "plt.style.use('presentation.mplstyle')\n",
    "mpl.matplotlib_fname()\n",
    "fig, ax = plt.subplots(figsize=(18, 10))\n",
    "color_map = plt.cm.get_cmap('magma')\n",
    "reversed_color_map = color_map.reversed()\n",
    "\n",
    "plt.hlines(y=np.arange(0, len(assd.index), 1), xmin=np.full(len(assd.index),0), xmax=np.full(len(assd.index),len(assd.columns)), color=\"#cccccc\", linewidth=.25)\n",
    "plt.vlines(x=np.arange(0, len(assd.columns), 1), ymin=np.full(len(assd.columns),0), ymax=np.full(len(assd.columns),len(assd.index)), color=\"#cccccc\",linewidth=.25)\n",
    "plt.yticks(np.arange(0.5, len(assd.index), 1), assd.index)\n",
    "plt.xticks(np.arange(0.5, len(assd.columns), 1), assd.columns, rotation=90)\n",
    "plt.ylabel(\"Neural\")\n",
    "plt.xlabel(\"Symbolic\")\n",
    "plt.title(\"Neural-Symbolic\")\n",
    "\n",
    "graph=plt.pcolor(assd, cmap=reversed_color_map)\n",
    "cb = fig.colorbar(graph)\n",
    "# cb.set_label('Support', rotation=0, va='bottom')\n",
    "cb.outline.set_visible(False)\n",
    "plt.show()"
   ]
  },
  {
   "cell_type": "code",
   "execution_count": 340,
   "metadata": {},
   "outputs": [
    {
     "data": {
      "text/plain": [
       "Index(['Doc type', 'reasearcher', 'Title', 'Scopus Hash ID', 'DOI',\n",
       "       'Journal/Conference', 'Year', 'Use Case', 'Learning', 'Application',\n",
       "       'Key-intake', 'Contribution', 'Definition of NeSy', 'Symbolic terms',\n",
       "       'Neural terms', 'NeSy Category', 'Kautz category', 'Datasets',\n",
       "       'Model description', 'Evaluation Metrics', 'reported score',\n",
       "       'Study Quality', 'Comments', 'MISC'],\n",
       "      dtype='object')"
      ]
     },
     "execution_count": 340,
     "metadata": {},
     "output_type": "execute_result"
    }
   ],
   "source": [
    "df.columns"
   ]
  },
  {
   "cell_type": "markdown",
   "metadata": {},
   "source": [
    "# Get all the references for these 27 papers"
   ]
  },
  {
   "cell_type": "code",
   "execution_count": 396,
   "metadata": {},
   "outputs": [
    {
     "data": {
      "text/html": [
       "<div>\n",
       "<style scoped>\n",
       "    .dataframe tbody tr th:only-of-type {\n",
       "        vertical-align: middle;\n",
       "    }\n",
       "\n",
       "    .dataframe tbody tr th {\n",
       "        vertical-align: top;\n",
       "    }\n",
       "\n",
       "    .dataframe thead th {\n",
       "        text-align: right;\n",
       "    }\n",
       "</style>\n",
       "<table border=\"1\" class=\"dataframe\">\n",
       "  <thead>\n",
       "    <tr style=\"text-align: right;\">\n",
       "      <th></th>\n",
       "      <th>Scopus Hash ID</th>\n",
       "      <th>DOI</th>\n",
       "    </tr>\n",
       "  </thead>\n",
       "  <tbody>\n",
       "    <tr>\n",
       "      <th>0</th>\n",
       "      <td>ACDMDN8W</td>\n",
       "      <td>10.1108/IJWIS-11-2020-0067</td>\n",
       "    </tr>\n",
       "    <tr>\n",
       "      <th>1</th>\n",
       "      <td>BAMGPUCX</td>\n",
       "      <td>10.1109/ACCESS.2021.3053917</td>\n",
       "    </tr>\n",
       "    <tr>\n",
       "      <th>2</th>\n",
       "      <td>2PNFHS7L</td>\n",
       "      <td>10.1016/j.neucom.2021.02.021</td>\n",
       "    </tr>\n",
       "    <tr>\n",
       "      <th>3</th>\n",
       "      <td>JN4IZETG</td>\n",
       "      <td>10.1007/s10994-021-05968-x</td>\n",
       "    </tr>\n",
       "    <tr>\n",
       "      <th>4</th>\n",
       "      <td>KTEHK4MZ</td>\n",
       "      <td>10.1016/j.neucom.2020.12.040</td>\n",
       "    </tr>\n",
       "    <tr>\n",
       "      <th>5</th>\n",
       "      <td>RDSQSBN7</td>\n",
       "      <td>10.1109/TASLP.2021.3082295</td>\n",
       "    </tr>\n",
       "    <tr>\n",
       "      <th>6</th>\n",
       "      <td>3YFVRRKE</td>\n",
       "      <td>10.1109/ACCESS.2020.2972751</td>\n",
       "    </tr>\n",
       "    <tr>\n",
       "      <th>7</th>\n",
       "      <td>4EF4BXD9</td>\n",
       "      <td>10.1007/s12065-019-00301-x</td>\n",
       "    </tr>\n",
       "    <tr>\n",
       "      <th>8</th>\n",
       "      <td>JGU2SECC</td>\n",
       "      <td>10.1016/j.artmed.2019.101772</td>\n",
       "    </tr>\n",
       "    <tr>\n",
       "      <th>9</th>\n",
       "      <td>74QZV8X9</td>\n",
       "      <td>10.1109/ACCESS.2020.3019586</td>\n",
       "    </tr>\n",
       "    <tr>\n",
       "      <th>10</th>\n",
       "      <td>7MMJY5BM</td>\n",
       "      <td>10.1007/s13218-019-00601-5</td>\n",
       "    </tr>\n",
       "    <tr>\n",
       "      <th>11</th>\n",
       "      <td>B47SSE6P</td>\n",
       "      <td>10.1016/j.patrec.2019.04.024</td>\n",
       "    </tr>\n",
       "    <tr>\n",
       "      <th>12</th>\n",
       "      <td>EGI547RA</td>\n",
       "      <td>10.1109/ACCESS.2019.2948081</td>\n",
       "    </tr>\n",
       "    <tr>\n",
       "      <th>13</th>\n",
       "      <td>PD2A2ZVV</td>\n",
       "      <td>10.1007/s11042-019-08125-8</td>\n",
       "    </tr>\n",
       "    <tr>\n",
       "      <th>14</th>\n",
       "      <td>NB39QA35</td>\n",
       "      <td>10.1016/j.neunet.2018.06.012</td>\n",
       "    </tr>\n",
       "    <tr>\n",
       "      <th>15</th>\n",
       "      <td>GS3TRUYZ</td>\n",
       "      <td>10.1016/j.neucom.2017.10.010</td>\n",
       "    </tr>\n",
       "    <tr>\n",
       "      <th>16</th>\n",
       "      <td>7I4CIKII</td>\n",
       "      <td>10.1016/j.neunet.2016.09.001</td>\n",
       "    </tr>\n",
       "    <tr>\n",
       "      <th>17</th>\n",
       "      <td>7YX447XS</td>\n",
       "      <td>10.1016/j.eswa.2016.01.007</td>\n",
       "    </tr>\n",
       "    <tr>\n",
       "      <th>18</th>\n",
       "      <td>7Q5JRVK2</td>\n",
       "      <td>10.1016/j.artint.2015.08.011</td>\n",
       "    </tr>\n",
       "    <tr>\n",
       "      <th>19</th>\n",
       "      <td>6DWCY3EC</td>\n",
       "      <td>10.1016/j.neunet.2012.02.013</td>\n",
       "    </tr>\n",
       "    <tr>\n",
       "      <th>20</th>\n",
       "      <td>2FCUJH2G</td>\n",
       "      <td>10.1007/s10462-010-9188-4</td>\n",
       "    </tr>\n",
       "    <tr>\n",
       "      <th>21</th>\n",
       "      <td>2-s2.0-85113718164</td>\n",
       "      <td>10.1007/978-3-030-82147-0_34</td>\n",
       "    </tr>\n",
       "    <tr>\n",
       "      <th>22</th>\n",
       "      <td>2-s2.0-85108908770</td>\n",
       "      <td>10.1145/3453483.3454047</td>\n",
       "    </tr>\n",
       "    <tr>\n",
       "      <th>23</th>\n",
       "      <td>2-s2.0-85096590382</td>\n",
       "      <td>10.1007/978-3-030-61609-0_51</td>\n",
       "    </tr>\n",
       "    <tr>\n",
       "      <th>24</th>\n",
       "      <td>2-s2.0-85105153943</td>\n",
       "      <td>NaN</td>\n",
       "    </tr>\n",
       "    <tr>\n",
       "      <th>25</th>\n",
       "      <td>2-s2.0-85091286980</td>\n",
       "      <td>10.1007/978-3-030-48279-4_55</td>\n",
       "    </tr>\n",
       "    <tr>\n",
       "      <th>26</th>\n",
       "      <td>2-s2.0-85106687657</td>\n",
       "      <td>NaN</td>\n",
       "    </tr>\n",
       "  </tbody>\n",
       "</table>\n",
       "</div>"
      ],
      "text/plain": [
       "        Scopus Hash ID                           DOI\n",
       "0             ACDMDN8W    10.1108/IJWIS-11-2020-0067\n",
       "1             BAMGPUCX   10.1109/ACCESS.2021.3053917\n",
       "2             2PNFHS7L  10.1016/j.neucom.2021.02.021\n",
       "3             JN4IZETG    10.1007/s10994-021-05968-x\n",
       "4             KTEHK4MZ  10.1016/j.neucom.2020.12.040\n",
       "5             RDSQSBN7    10.1109/TASLP.2021.3082295\n",
       "6             3YFVRRKE   10.1109/ACCESS.2020.2972751\n",
       "7             4EF4BXD9    10.1007/s12065-019-00301-x\n",
       "8             JGU2SECC  10.1016/j.artmed.2019.101772\n",
       "9             74QZV8X9   10.1109/ACCESS.2020.3019586\n",
       "10            7MMJY5BM    10.1007/s13218-019-00601-5\n",
       "11            B47SSE6P  10.1016/j.patrec.2019.04.024\n",
       "12            EGI547RA   10.1109/ACCESS.2019.2948081\n",
       "13            PD2A2ZVV    10.1007/s11042-019-08125-8\n",
       "14            NB39QA35  10.1016/j.neunet.2018.06.012\n",
       "15            GS3TRUYZ  10.1016/j.neucom.2017.10.010\n",
       "16            7I4CIKII  10.1016/j.neunet.2016.09.001\n",
       "17            7YX447XS    10.1016/j.eswa.2016.01.007\n",
       "18            7Q5JRVK2  10.1016/j.artint.2015.08.011\n",
       "19            6DWCY3EC  10.1016/j.neunet.2012.02.013\n",
       "20            2FCUJH2G     10.1007/s10462-010-9188-4\n",
       "21  2-s2.0-85113718164  10.1007/978-3-030-82147-0_34\n",
       "22  2-s2.0-85108908770       10.1145/3453483.3454047\n",
       "23  2-s2.0-85096590382  10.1007/978-3-030-61609-0_51\n",
       "24  2-s2.0-85105153943                           NaN\n",
       "25  2-s2.0-85091286980  10.1007/978-3-030-48279-4_55\n",
       "26  2-s2.0-85106687657                           NaN"
      ]
     },
     "execution_count": 396,
     "metadata": {},
     "output_type": "execute_result"
    }
   ],
   "source": [
    "# let's get the abstracts from scopus of all the articles we included. \n",
    "# We'll do a search on scopus for EID and DOI\n",
    "# 'Scopus Hash ID', 'DOI',\n",
    "\n",
    "df[['Scopus Hash ID','DOI']]"
   ]
  },
  {
   "cell_type": "markdown",
   "metadata": {},
   "source": [
    "The two studies missing a DOI:\n",
    "* 2-s2.0-85106687657\n",
    "* 2-s2.0-85105153943\n",
    "\n",
    "Scopus search which makes references(25)scopus.csv:\n",
    "<pre>\n",
    "DOI (\"10.1007/978-3-030-48279-4_55\" OR \"10.1016/j.neunet.2016.09.001\"  OR  \"10.1108/IJWIS-11-2020-0067\"  OR  \"10.1007/s10994-021-05968-x\"  OR \n",
    "\"10.1016/j.eswa.2016.01.007\"  OR \"10.1016/j.neucom.2020.12.040\"  OR  \"10.1007/s10462-010-9188-4\"  OR  \"10.1016/j.patrec.2019.04.024\"  OR  \n",
    "\"10.1016/j.neucom.2021.02.021\"  OR \"10.1109/ACCESS.2020.2972751\"  OR  \"10.1016/j.neunet.2018.06.012\"  OR  \"10.1016/j.artmed.2019.101772\"  OR \n",
    "\"10.1007/978-3-030-61609-0_51\"  OR \"10.1109/ACCESS.2019.2948081\"  OR  \"10.1109/TASLP.2021.3082295\"  OR  \"10.1109/ACCESS.2020.3019586\"  OR  \n",
    "\"10.1016/j.artint.2015.08.011\"  OR \"10.1007/978-3-030-82147-0_34\"  OR  \"10.1016/j.neucom.2017.10.010\"  OR  \"10.1109/ACCESS.2021.3053917\"  OR\n",
    "\"10.1007/s13218-019-00601-5\"  OR \"10.1007/s12065-019-00301-x\"  OR  \"10.1145/3453483.3454047\" OR \"10.1016/j.neunet.2012.02.013\" OR\n",
    "\"10.1007/s11042-019-08125-8\")  \n",
    "\n",
    "OR  EID ( \"2-s2.0-85106687657\"  OR  \"2-s2.0-85105153943\" ) \n",
    "</pre>"
   ]
  },
  {
   "cell_type": "code",
   "execution_count": 349,
   "metadata": {},
   "outputs": [],
   "source": [
    "# get the articles\n",
    "all_papers=pd.read_csv('scopus(27).csv')"
   ]
  },
  {
   "cell_type": "code",
   "execution_count": 350,
   "metadata": {},
   "outputs": [],
   "source": [
    "all_papers=all_papers[['EID','Title','References']]"
   ]
  },
  {
   "cell_type": "code",
   "execution_count": 351,
   "metadata": {},
   "outputs": [
    {
     "data": {
      "text/plain": [
       "27"
      ]
     },
     "execution_count": 351,
     "metadata": {},
     "output_type": "execute_result"
    }
   ],
   "source": [
    "len(all_papers) #.columns\n",
    "# should be 25!"
   ]
  },
  {
   "cell_type": "code",
   "execution_count": 352,
   "metadata": {},
   "outputs": [
    {
     "data": {
      "text/plain": [
       "27"
      ]
     },
     "execution_count": 352,
     "metadata": {},
     "output_type": "execute_result"
    }
   ],
   "source": [
    "len(all_papers['Title'].unique())\n",
    "# should be 25!"
   ]
  },
  {
   "cell_type": "code",
   "execution_count": 353,
   "metadata": {},
   "outputs": [],
   "source": [
    "all_papers=all_papers.drop_duplicates(subset=\"Title\")"
   ]
  },
  {
   "cell_type": "code",
   "execution_count": 354,
   "metadata": {},
   "outputs": [
    {
     "data": {
      "text/plain": [
       "Index(['EID', 'Title', 'References'], dtype='object')"
      ]
     },
     "execution_count": 354,
     "metadata": {},
     "output_type": "execute_result"
    }
   ],
   "source": [
    "all_papers.columns"
   ]
  },
  {
   "cell_type": "code",
   "execution_count": 355,
   "metadata": {},
   "outputs": [],
   "source": [
    "# references are separated by a semi-colon. Create a list by splitting on ;\n",
    "all_papers['References']=all_papers['References'].str.split(pat=\";\")"
   ]
  },
  {
   "cell_type": "code",
   "execution_count": 356,
   "metadata": {},
   "outputs": [],
   "source": [
    "# put each citation in its own row\n",
    "all_papers=all_papers.explode('References')"
   ]
  },
  {
   "cell_type": "code",
   "execution_count": 357,
   "metadata": {},
   "outputs": [],
   "source": [
    "all_papers=all_papers.reset_index(drop=True)"
   ]
  },
  {
   "cell_type": "code",
   "execution_count": 358,
   "metadata": {},
   "outputs": [],
   "source": [
    "all_papers.to_csv('references(27)exploded.csv')"
   ]
  },
  {
   "cell_type": "code",
   "execution_count": 359,
   "metadata": {},
   "outputs": [],
   "source": [
    "# add scopus data to references\n",
    "\n",
    "refs_df = pd.read_csv('references(27)scopus.csv')"
   ]
  },
  {
   "cell_type": "code",
   "execution_count": 360,
   "metadata": {},
   "outputs": [],
   "source": [
    "# extract just the relevant fields\n",
    "refs_df=refs_df[['Authors','Title','Abstract','DOI','Year','Cited by','Author Keywords',\n",
    "         'Index Keywords','EID']]"
   ]
  },
  {
   "cell_type": "code",
   "execution_count": 361,
   "metadata": {},
   "outputs": [
    {
     "data": {
      "text/plain": [
       "<AxesSubplot:>"
      ]
     },
     "execution_count": 361,
     "metadata": {},
     "output_type": "execute_result"
    },
    {
     "data": {
      "image/png": "[encoded data removed]",
      "text/plain": [
       "<Figure size 432x288 with 1 Axes>"
      ]
     },
     "metadata": {
      "needs_background": "light"
     },
     "output_type": "display_data"
    }
   ],
   "source": [
    "refs_df.query('Year > 0')['Year'].hist()"
   ]
  },
  {
   "cell_type": "code",
   "execution_count": 362,
   "metadata": {
    "collapsed": true,
    "jupyter": {
     "outputs_hidden": true
    }
   },
   "outputs": [
    {
     "data": {
      "text/plain": [
       "[(2020, 61),\n",
       " (2019, 93),\n",
       " (2018, 99),\n",
       " (2017, 103),\n",
       " (2016, 76),\n",
       " (2015, 77),\n",
       " (2014, 54),\n",
       " (2013, 55),\n",
       " (2012, 29),\n",
       " (2011, 33),\n",
       " (2010, 30),\n",
       " (2009, 25),\n",
       " (2008, 35),\n",
       " (2007, 16),\n",
       " (2006, 25),\n",
       " (2005, 20),\n",
       " (2004, 17),\n",
       " (2003, 21),\n",
       " (2002, 17),\n",
       " (2001, 15),\n",
       " (2000, 14),\n",
       " (1999, 14),\n",
       " (1998, 12),\n",
       " (1997, 12),\n",
       " (1996, 9),\n",
       " (1995, 15),\n",
       " (1994, 8),\n",
       " (1993, 1),\n",
       " (1992, 5),\n",
       " (1991, 10),\n",
       " (1990, 11),\n",
       " (1989, 5),\n",
       " (1988, 2),\n",
       " (1987, 5),\n",
       " (1986, 6),\n",
       " (1985, 1),\n",
       " (1983, 2),\n",
       " (1982, 1),\n",
       " (1980, 2),\n",
       " (1979, 1),\n",
       " (1975, 4),\n",
       " (1974, 4),\n",
       " (1973, 1),\n",
       " (1972, 2),\n",
       " (1970, 1),\n",
       " (1969, 3),\n",
       " (1968, 3),\n",
       " (1967, 2),\n",
       " (1966, 1),\n",
       " (1965, 2),\n",
       " (1962, 2),\n",
       " (1958, 1),\n",
       " (1957, 1),\n",
       " (1956, 2),\n",
       " (1953, 1),\n",
       " (1952, 1),\n",
       " (1949, 1),\n",
       " (1947, 1),\n",
       " (1943, 1),\n",
       " (1937, 1),\n",
       " (1931, 1),\n",
       " (1926, 1),\n",
       " (1810, 1)]"
      ]
     },
     "execution_count": 362,
     "metadata": {},
     "output_type": "execute_result"
    }
   ],
   "source": [
    "years=refs_df.query('Year > 0')['Year'].value_counts()\n",
    "years_arr=list(zip(years.index, years.values))\n",
    "sorted(years_arr, key=lambda t: -t[0])"
   ]
  },
  {
   "cell_type": "code",
   "execution_count": 363,
   "metadata": {},
   "outputs": [],
   "source": [
    "# Extracts ref titles from the references\n",
    "all_papers['ref_title']=all_papers['References'].str.extract('(.*?)\\(\\d+\\)', expand=True) #.reset_index(level=0, drop=True)"
   ]
  },
  {
   "cell_type": "code",
   "execution_count": 364,
   "metadata": {},
   "outputs": [],
   "source": [
    "pd.set_option('display.max_colwidth', None)\n",
    "# all_papers['ref_title']"
   ]
  },
  {
   "cell_type": "code",
   "execution_count": 365,
   "metadata": {},
   "outputs": [],
   "source": [
    "# split on comma and get last element. that's the title.\n",
    "all_papers['ref_title']=all_papers['ref_title'].str.split(pat=\",\").str[-1]"
   ]
  },
  {
   "cell_type": "code",
   "execution_count": 366,
   "metadata": {},
   "outputs": [],
   "source": [
    "all_papers['ref_title']=all_papers['ref_title'].str.strip()"
   ]
  },
  {
   "cell_type": "code",
   "execution_count": 367,
   "metadata": {},
   "outputs": [
    {
     "data": {
      "text/html": [
       "<div>\n",
       "<style scoped>\n",
       "    .dataframe tbody tr th:only-of-type {\n",
       "        vertical-align: middle;\n",
       "    }\n",
       "\n",
       "    .dataframe tbody tr th {\n",
       "        vertical-align: top;\n",
       "    }\n",
       "\n",
       "    .dataframe thead th {\n",
       "        text-align: right;\n",
       "    }\n",
       "</style>\n",
       "<table border=\"1\" class=\"dataframe\">\n",
       "  <thead>\n",
       "    <tr style=\"text-align: right;\">\n",
       "      <th></th>\n",
       "      <th>EID</th>\n",
       "      <th>Title</th>\n",
       "      <th>References</th>\n",
       "      <th>ref_title</th>\n",
       "    </tr>\n",
       "  </thead>\n",
       "  <tbody>\n",
       "    <tr>\n",
       "      <th>0</th>\n",
       "      <td>2-s2.0-85106687657</td>\n",
       "      <td>Just Add Functions: A Neural-Symbolic Language Model</td>\n",
       "      <td>Ahn, S., Choi, H., Pärnamaa, T., Bengio, Y., (2017) A neural knowledge language model, , CoRR abs/1608.00318</td>\n",
       "      <td></td>\n",
       "    </tr>\n",
       "    <tr>\n",
       "      <th>1</th>\n",
       "      <td>2-s2.0-85106687657</td>\n",
       "      <td>Just Add Functions: A Neural-Symbolic Language Model</td>\n",
       "      <td>Bengio, Y., Schwenk, H., Senecal, J.-S., Morin, F., Gauvain, J.-L., (2006) Neural probabilistic language models</td>\n",
       "      <td></td>\n",
       "    </tr>\n",
       "    <tr>\n",
       "      <th>2</th>\n",
       "      <td>2-s2.0-85106687657</td>\n",
       "      <td>Just Add Functions: A Neural-Symbolic Language Model</td>\n",
       "      <td>Besold, T. R., d'Avila Garcez, A. S., Bader, S., Bowman, H., Domingos, P. M., Hitzler, P., Kühnberger, K.-U., Zaverucha, G., (2017) Neural-symbolic learning and reasoning: A survey and interpretation, , ArXiv abs/1711.03902</td>\n",
       "      <td></td>\n",
       "    </tr>\n",
       "    <tr>\n",
       "      <th>3</th>\n",
       "      <td>2-s2.0-85106687657</td>\n",
       "      <td>Just Add Functions: A Neural-Symbolic Language Model</td>\n",
       "      <td>Chelba, C., Mikolov, T., Schuster, M., Ge, Q., Brants, T., Koehn, P., One billion word benchmark for measuring progress in statistical language modeling (2013) INTERSPEECH</td>\n",
       "      <td>One billion word benchmark for measuring progress in statistical language modeling</td>\n",
       "    </tr>\n",
       "    <tr>\n",
       "      <th>4</th>\n",
       "      <td>2-s2.0-85106687657</td>\n",
       "      <td>Just Add Functions: A Neural-Symbolic Language Model</td>\n",
       "      <td>Firth, J. R., (1957) A synopsis of linguistic theory 1930-55, pp. 1-32. , 1952 59</td>\n",
       "      <td></td>\n",
       "    </tr>\n",
       "    <tr>\n",
       "      <th>...</th>\n",
       "      <td>...</td>\n",
       "      <td>...</td>\n",
       "      <td>...</td>\n",
       "      <td>...</td>\n",
       "    </tr>\n",
       "    <tr>\n",
       "      <th>1149</th>\n",
       "      <td>2-s2.0-85106847388</td>\n",
       "      <td>Sentence-Level Classification Using Parallel Fuzzy Deep Learning Classifier</td>\n",
       "      <td>(2020) COVID-19-Sentiments India[20/03/20-31/05/20], , https://kaggle.com/abhaydhiman/covid19-sentiments, Accessed: Dec. 30</td>\n",
       "      <td></td>\n",
       "    </tr>\n",
       "    <tr>\n",
       "      <th>1150</th>\n",
       "      <td>2-s2.0-85106847388</td>\n",
       "      <td>Sentence-Level Classification Using Parallel Fuzzy Deep Learning Classifier</td>\n",
       "      <td>Gangadharan, V., Gupta, D., Amritha, L., Athira, T.A., Paraphrase detection using deep neural network based word embedding techniques (2020) Proc. 4th Int. Conf. Trends Electron. Informat. (ICOEI), pp. 517-521. , Jun</td>\n",
       "      <td>Paraphrase detection using deep neural network based word embedding techniques</td>\n",
       "    </tr>\n",
       "    <tr>\n",
       "      <th>1151</th>\n",
       "      <td>2-s2.0-85106847388</td>\n",
       "      <td>Sentence-Level Classification Using Parallel Fuzzy Deep Learning Classifier</td>\n",
       "      <td>Pennington, J., Socher, R., Manning, C., Glove: Global vectors for word representation (2014) Proc. Conf. Empirical Methods Natural Lang. Process. (EMNLP), pp. 1532-1543</td>\n",
       "      <td>Glove: Global vectors for word representation</td>\n",
       "    </tr>\n",
       "    <tr>\n",
       "      <th>1152</th>\n",
       "      <td>2-s2.0-85106847388</td>\n",
       "      <td>Sentence-Level Classification Using Parallel Fuzzy Deep Learning Classifier</td>\n",
       "      <td>Mikolov, T., Sutskever, I., Chen, K., Corrado, G., Dean, J., (2013) Distributed Representations of Words and Phrases and Their Compositionality, , http://arxiv.org/abs/1310.4546, arXiv:1310.4546</td>\n",
       "      <td></td>\n",
       "    </tr>\n",
       "    <tr>\n",
       "      <th>1153</th>\n",
       "      <td>2-s2.0-85106847388</td>\n",
       "      <td>Sentence-Level Classification Using Parallel Fuzzy Deep Learning Classifier</td>\n",
       "      <td>Es-Sabery, F., Hair, A., Big data solutions proposed for cluster computing systems challenges: A survey (2020) Proc. 3rd Int. Conf. Netw., Inf. Syst. Secur., pp. 1-7. , Mar</td>\n",
       "      <td>Big data solutions proposed for cluster computing systems challenges: A survey</td>\n",
       "    </tr>\n",
       "  </tbody>\n",
       "</table>\n",
       "<p>1154 rows × 4 columns</p>\n",
       "</div>"
      ],
      "text/plain": [
       "                     EID  \\\n",
       "0     2-s2.0-85106687657   \n",
       "1     2-s2.0-85106687657   \n",
       "2     2-s2.0-85106687657   \n",
       "3     2-s2.0-85106687657   \n",
       "4     2-s2.0-85106687657   \n",
       "...                  ...   \n",
       "1149  2-s2.0-85106847388   \n",
       "1150  2-s2.0-85106847388   \n",
       "1151  2-s2.0-85106847388   \n",
       "1152  2-s2.0-85106847388   \n",
       "1153  2-s2.0-85106847388   \n",
       "\n",
       "                                                                            Title  \\\n",
       "0                            Just Add Functions: A Neural-Symbolic Language Model   \n",
       "1                            Just Add Functions: A Neural-Symbolic Language Model   \n",
       "2                            Just Add Functions: A Neural-Symbolic Language Model   \n",
       "3                            Just Add Functions: A Neural-Symbolic Language Model   \n",
       "4                            Just Add Functions: A Neural-Symbolic Language Model   \n",
       "...                                                                           ...   \n",
       "1149  Sentence-Level Classification Using Parallel Fuzzy Deep Learning Classifier   \n",
       "1150  Sentence-Level Classification Using Parallel Fuzzy Deep Learning Classifier   \n",
       "1151  Sentence-Level Classification Using Parallel Fuzzy Deep Learning Classifier   \n",
       "1152  Sentence-Level Classification Using Parallel Fuzzy Deep Learning Classifier   \n",
       "1153  Sentence-Level Classification Using Parallel Fuzzy Deep Learning Classifier   \n",
       "\n",
       "                                                                                                                                                                                                                            References  \\\n",
       "0                                                                                                                         Ahn, S., Choi, H., Pärnamaa, T., Bengio, Y., (2017) A neural knowledge language model, , CoRR abs/1608.00318   \n",
       "1                                                                                                                      Bengio, Y., Schwenk, H., Senecal, J.-S., Morin, F., Gauvain, J.-L., (2006) Neural probabilistic language models   \n",
       "2      Besold, T. R., d'Avila Garcez, A. S., Bader, S., Bowman, H., Domingos, P. M., Hitzler, P., Kühnberger, K.-U., Zaverucha, G., (2017) Neural-symbolic learning and reasoning: A survey and interpretation, , ArXiv abs/1711.03902   \n",
       "3                                                          Chelba, C., Mikolov, T., Schuster, M., Ge, Q., Brants, T., Koehn, P., One billion word benchmark for measuring progress in statistical language modeling (2013) INTERSPEECH   \n",
       "4                                                                                                                                                    Firth, J. R., (1957) A synopsis of linguistic theory 1930-55, pp. 1-32. , 1952 59   \n",
       "...                                                                                                                                                                                                                                ...   \n",
       "1149                                                                                                       (2020) COVID-19-Sentiments India[20/03/20-31/05/20], , https://kaggle.com/abhaydhiman/covid19-sentiments, Accessed: Dec. 30   \n",
       "1150          Gangadharan, V., Gupta, D., Amritha, L., Athira, T.A., Paraphrase detection using deep neural network based word embedding techniques (2020) Proc. 4th Int. Conf. Trends Electron. Informat. (ICOEI), pp. 517-521. , Jun   \n",
       "1151                                                         Pennington, J., Socher, R., Manning, C., Glove: Global vectors for word representation (2014) Proc. Conf. Empirical Methods Natural Lang. Process. (EMNLP), pp. 1532-1543   \n",
       "1152                                Mikolov, T., Sutskever, I., Chen, K., Corrado, G., Dean, J., (2013) Distributed Representations of Words and Phrases and Their Compositionality, , http://arxiv.org/abs/1310.4546, arXiv:1310.4546   \n",
       "1153                                                      Es-Sabery, F., Hair, A., Big data solutions proposed for cluster computing systems challenges: A survey (2020) Proc. 3rd Int. Conf. Netw., Inf. Syst. Secur., pp. 1-7. , Mar   \n",
       "\n",
       "                                                                               ref_title  \n",
       "0                                                                                         \n",
       "1                                                                                         \n",
       "2                                                                                         \n",
       "3     One billion word benchmark for measuring progress in statistical language modeling  \n",
       "4                                                                                         \n",
       "...                                                                                  ...  \n",
       "1149                                                                                      \n",
       "1150      Paraphrase detection using deep neural network based word embedding techniques  \n",
       "1151                                       Glove: Global vectors for word representation  \n",
       "1152                                                                                      \n",
       "1153      Big data solutions proposed for cluster computing systems challenges: A survey  \n",
       "\n",
       "[1154 rows x 4 columns]"
      ]
     },
     "execution_count": 367,
     "metadata": {},
     "output_type": "execute_result"
    }
   ],
   "source": [
    "# join on title with scopus reference df - refs_df\n",
    "all_papers"
   ]
  },
  {
   "cell_type": "code",
   "execution_count": 368,
   "metadata": {},
   "outputs": [],
   "source": [
    "new_df = pd.merge(all_papers, refs_df,  how='left', left_on='ref_title', right_on = 'Title')\n"
   ]
  },
  {
   "cell_type": "code",
   "execution_count": 292,
   "metadata": {},
   "outputs": [
    {
     "data": {
      "text/plain": [
       "529"
      ]
     },
     "execution_count": 292,
     "metadata": {},
     "output_type": "execute_result"
    }
   ],
   "source": [
    "len(new_df[new_df['Title_y'].notnull()])"
   ]
  },
  {
   "cell_type": "code",
   "execution_count": 369,
   "metadata": {},
   "outputs": [],
   "source": [
    "new_df.to_csv('references(27)merged.csv', index=False)"
   ]
  },
  {
   "cell_type": "code",
   "execution_count": 370,
   "metadata": {},
   "outputs": [
    {
     "data": {
      "text/plain": [
       "1169"
      ]
     },
     "execution_count": 370,
     "metadata": {},
     "output_type": "execute_result"
    }
   ],
   "source": [
    "len(new_df)"
   ]
  },
  {
   "cell_type": "code",
   "execution_count": 371,
   "metadata": {},
   "outputs": [
    {
     "data": {
      "text/plain": [
       "Index(['EID_x', 'Title_x', 'References', 'ref_title', 'Authors', 'Title_y',\n",
       "       'Abstract', 'DOI', 'Year', 'Cited by', 'Author Keywords',\n",
       "       'Index Keywords', 'EID_y'],\n",
       "      dtype='object')"
      ]
     },
     "execution_count": 371,
     "metadata": {},
     "output_type": "execute_result"
    }
   ],
   "source": [
    "new_df.columns"
   ]
  },
  {
   "cell_type": "code",
   "execution_count": 381,
   "metadata": {},
   "outputs": [],
   "source": [
    "qq_df = pd.read_csv('qq(27).csv')"
   ]
  },
  {
   "cell_type": "code",
   "execution_count": 382,
   "metadata": {},
   "outputs": [],
   "source": [
    "qq_df = qq_df[['Q1', 'Q2', 'Q3', 'Q4', 'Q5', 'Q6', 'Q7', 'Q8', 'Q9','Q10']]"
   ]
  },
  {
   "cell_type": "code",
   "execution_count": 383,
   "metadata": {},
   "outputs": [
    {
     "data": {
      "text/html": [
       "<div>\n",
       "<style scoped>\n",
       "    .dataframe tbody tr th:only-of-type {\n",
       "        vertical-align: middle;\n",
       "    }\n",
       "\n",
       "    .dataframe tbody tr th {\n",
       "        vertical-align: top;\n",
       "    }\n",
       "\n",
       "    .dataframe thead th {\n",
       "        text-align: right;\n",
       "    }\n",
       "</style>\n",
       "<table border=\"1\" class=\"dataframe\">\n",
       "  <thead>\n",
       "    <tr style=\"text-align: right;\">\n",
       "      <th></th>\n",
       "      <th>Q1</th>\n",
       "      <th>Q2</th>\n",
       "      <th>Q3</th>\n",
       "      <th>Q4</th>\n",
       "      <th>Q6</th>\n",
       "      <th>Q7</th>\n",
       "      <th>Q8</th>\n",
       "      <th>Q9</th>\n",
       "      <th>Q10</th>\n",
       "    </tr>\n",
       "  </thead>\n",
       "  <tbody>\n",
       "    <tr>\n",
       "      <th>count</th>\n",
       "      <td>26.000000</td>\n",
       "      <td>26.000000</td>\n",
       "      <td>26.000000</td>\n",
       "      <td>26.000000</td>\n",
       "      <td>26.000000</td>\n",
       "      <td>26.000000</td>\n",
       "      <td>25.000000</td>\n",
       "      <td>27.000000</td>\n",
       "      <td>27.000000</td>\n",
       "    </tr>\n",
       "    <tr>\n",
       "      <th>mean</th>\n",
       "      <td>0.826923</td>\n",
       "      <td>0.846154</td>\n",
       "      <td>0.788462</td>\n",
       "      <td>0.846154</td>\n",
       "      <td>0.865385</td>\n",
       "      <td>0.596154</td>\n",
       "      <td>0.100000</td>\n",
       "      <td>0.185185</td>\n",
       "      <td>0.240741</td>\n",
       "    </tr>\n",
       "    <tr>\n",
       "      <th>std</th>\n",
       "      <td>0.314398</td>\n",
       "      <td>0.308844</td>\n",
       "      <td>0.378763</td>\n",
       "      <td>0.339683</td>\n",
       "      <td>0.301917</td>\n",
       "      <td>0.490290</td>\n",
       "      <td>0.288675</td>\n",
       "      <td>0.395847</td>\n",
       "      <td>0.401209</td>\n",
       "    </tr>\n",
       "    <tr>\n",
       "      <th>min</th>\n",
       "      <td>0.000000</td>\n",
       "      <td>0.000000</td>\n",
       "      <td>0.000000</td>\n",
       "      <td>0.000000</td>\n",
       "      <td>0.000000</td>\n",
       "      <td>0.000000</td>\n",
       "      <td>0.000000</td>\n",
       "      <td>0.000000</td>\n",
       "      <td>0.000000</td>\n",
       "    </tr>\n",
       "    <tr>\n",
       "      <th>25%</th>\n",
       "      <td>0.625000</td>\n",
       "      <td>1.000000</td>\n",
       "      <td>0.625000</td>\n",
       "      <td>1.000000</td>\n",
       "      <td>1.000000</td>\n",
       "      <td>0.000000</td>\n",
       "      <td>0.000000</td>\n",
       "      <td>0.000000</td>\n",
       "      <td>0.000000</td>\n",
       "    </tr>\n",
       "    <tr>\n",
       "      <th>50%</th>\n",
       "      <td>1.000000</td>\n",
       "      <td>1.000000</td>\n",
       "      <td>1.000000</td>\n",
       "      <td>1.000000</td>\n",
       "      <td>1.000000</td>\n",
       "      <td>1.000000</td>\n",
       "      <td>0.000000</td>\n",
       "      <td>0.000000</td>\n",
       "      <td>0.000000</td>\n",
       "    </tr>\n",
       "    <tr>\n",
       "      <th>75%</th>\n",
       "      <td>1.000000</td>\n",
       "      <td>1.000000</td>\n",
       "      <td>1.000000</td>\n",
       "      <td>1.000000</td>\n",
       "      <td>1.000000</td>\n",
       "      <td>1.000000</td>\n",
       "      <td>0.000000</td>\n",
       "      <td>0.000000</td>\n",
       "      <td>0.500000</td>\n",
       "    </tr>\n",
       "    <tr>\n",
       "      <th>max</th>\n",
       "      <td>1.000000</td>\n",
       "      <td>1.000000</td>\n",
       "      <td>1.000000</td>\n",
       "      <td>1.000000</td>\n",
       "      <td>1.000000</td>\n",
       "      <td>1.000000</td>\n",
       "      <td>1.000000</td>\n",
       "      <td>1.000000</td>\n",
       "      <td>1.000000</td>\n",
       "    </tr>\n",
       "  </tbody>\n",
       "</table>\n",
       "</div>"
      ],
      "text/plain": [
       "              Q1         Q2         Q3         Q4         Q6         Q7  \\\n",
       "count  26.000000  26.000000  26.000000  26.000000  26.000000  26.000000   \n",
       "mean    0.826923   0.846154   0.788462   0.846154   0.865385   0.596154   \n",
       "std     0.314398   0.308844   0.378763   0.339683   0.301917   0.490290   \n",
       "min     0.000000   0.000000   0.000000   0.000000   0.000000   0.000000   \n",
       "25%     0.625000   1.000000   0.625000   1.000000   1.000000   0.000000   \n",
       "50%     1.000000   1.000000   1.000000   1.000000   1.000000   1.000000   \n",
       "75%     1.000000   1.000000   1.000000   1.000000   1.000000   1.000000   \n",
       "max     1.000000   1.000000   1.000000   1.000000   1.000000   1.000000   \n",
       "\n",
       "              Q8         Q9        Q10  \n",
       "count  25.000000  27.000000  27.000000  \n",
       "mean    0.100000   0.185185   0.240741  \n",
       "std     0.288675   0.395847   0.401209  \n",
       "min     0.000000   0.000000   0.000000  \n",
       "25%     0.000000   0.000000   0.000000  \n",
       "50%     0.000000   0.000000   0.000000  \n",
       "75%     0.000000   0.000000   0.500000  \n",
       "max     1.000000   1.000000   1.000000  "
      ]
     },
     "execution_count": 383,
     "metadata": {},
     "output_type": "execute_result"
    }
   ],
   "source": [
    "qq_df.describe()"
   ]
  },
  {
   "cell_type": "markdown",
   "metadata": {},
   "source": [
    "# Annotated reference papers\n",
    "In the first screening, the papers have been marked for inclusion based on title/abstract"
   ]
  },
  {
   "cell_type": "code",
   "execution_count": 401,
   "metadata": {},
   "outputs": [],
   "source": [
    "ref_ann_df = pd.read_csv('references(27)merged_annotated.csv')"
   ]
  },
  {
   "cell_type": "code",
   "execution_count": 402,
   "metadata": {},
   "outputs": [
    {
     "data": {
      "text/plain": [
       "Index(['EID_x (of the original paper)', 'Title_x (of the original paper)',\n",
       "       'References (from the original 27 papers)',\n",
       "       'ref_title (extracted using regex from References from the original papers)',\n",
       "       'Abstract', ' keep (NeSy)', 'keep (background)', 'Kyle', 'Aparna',\n",
       "       'Title_y (from scopus)', 'EID_y', 'DOI', 'Unnamed: 12', 'Year',\n",
       "       'Cited by', 'Authors', 'Author Keywords', 'Index Keywords'],\n",
       "      dtype='object')"
      ]
     },
     "execution_count": 402,
     "metadata": {},
     "output_type": "execute_result"
    }
   ],
   "source": [
    "ref_ann_df.columns"
   ]
  },
  {
   "cell_type": "code",
   "execution_count": null,
   "metadata": {},
   "outputs": [],
   "source": []
  },
  {
   "cell_type": "code",
   "execution_count": null,
   "metadata": {},
   "outputs": [],
   "source": []
  },
  {
   "cell_type": "code",
   "execution_count": null,
   "metadata": {},
   "outputs": [],
   "source": []
  },
  {
   "cell_type": "code",
   "execution_count": null,
   "metadata": {},
   "outputs": [],
   "source": []
  },
  {
   "cell_type": "code",
   "execution_count": null,
   "metadata": {},
   "outputs": [],
   "source": []
  },
  {
   "cell_type": "code",
   "execution_count": null,
   "metadata": {},
   "outputs": [],
   "source": []
  },
  {
   "cell_type": "code",
   "execution_count": null,
   "metadata": {},
   "outputs": [],
   "source": []
  }
 ],
 "metadata": {
  "kernelspec": {
   "display_name": "Python 3",
   "language": "python",
   "name": "python3"
  },
  "language_info": {
   "codemirror_mode": {
    "name": "ipython",
    "version": 3
   },
   "file_extension": ".py",
   "mimetype": "text/x-python",
   "name": "python",
   "nbconvert_exporter": "python",
   "pygments_lexer": "ipython3",
   "version": "3.6.9"
  }
 },
 "nbformat": 4,
 "nbformat_minor": 4
}
