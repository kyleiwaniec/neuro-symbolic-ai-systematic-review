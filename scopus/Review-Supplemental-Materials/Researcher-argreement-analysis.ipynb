{
 "cells": [
  {
   "cell_type": "markdown",
   "metadata": {},
   "source": [
    "# Researcher argreement analysis"
   ]
  },
  {
   "cell_type": "code",
   "execution_count": 6,
   "metadata": {},
   "outputs": [],
   "source": [
    "# some_file.py\n",
    "import sys\n",
    "# insert at 1, 0 is the script path (or '' in REPL)\n",
    "sys.path.insert(1, '../')\n",
    "\n",
    "# import file"
   ]
  },
  {
   "cell_type": "code",
   "execution_count": 7,
   "metadata": {},
   "outputs": [
    {
     "data": {
      "text/plain": [
       "<module 'utils' from '../utils.py'>"
      ]
     },
     "execution_count": 7,
     "metadata": {},
     "output_type": "execute_result"
    }
   ],
   "source": [
    "%matplotlib inline \n",
    "import matplotlib.pyplot as plt\n",
    "import pandas as pd\n",
    "pd.set_option('display.max_colwidth', None)\n",
    "import numpy as np\n",
    "from wordcloud import WordCloud\n",
    "import utils\n",
    "import umap\n",
    "import hdbscan\n",
    "import importlib\n",
    "importlib.reload(utils)"
   ]
  },
  {
   "cell_type": "code",
   "execution_count": 10,
   "metadata": {},
   "outputs": [
    {
     "data": {
      "text/plain": [
       "'/Users/kylehamilton/anaconda3/lib/python3.7/site-packages/matplotlib/mpl-data/matplotlibrc'"
      ]
     },
     "execution_count": 10,
     "metadata": {},
     "output_type": "execute_result"
    }
   ],
   "source": [
    "import matplotlib as mpl\n",
    "plt.style.use('../presentation.mplstyle')\n",
    "mpl.matplotlib_fname()"
   ]
  },
  {
   "cell_type": "code",
   "execution_count": 11,
   "metadata": {},
   "outputs": [],
   "source": [
    "a=pd.read_csv(\"../Data/scopus-filtered-by-top-publication - Aparna.csv\")"
   ]
  },
  {
   "cell_type": "code",
   "execution_count": 12,
   "metadata": {},
   "outputs": [
    {
     "data": {
      "text/plain": [
       "Index(['Key', 'Item Type', 'Publication Year', 'Author', 'Title',\n",
       "       'Abstract Note', 'include', 'relavance', 'Unnamed: 8',\n",
       "       'Publication Title', 'DOI', 'Url', 'Date', 'Date Added',\n",
       "       'Date Modified', 'Include (0,1)', 'Notes/Criteria'],\n",
       "      dtype='object')"
      ]
     },
     "execution_count": 12,
     "metadata": {},
     "output_type": "execute_result"
    }
   ],
   "source": [
    "a.columns"
   ]
  },
  {
   "cell_type": "code",
   "execution_count": 13,
   "metadata": {},
   "outputs": [],
   "source": [
    "a=a[['Key','Title','Abstract Note','include']]"
   ]
  },
  {
   "cell_type": "code",
   "execution_count": 14,
   "metadata": {},
   "outputs": [],
   "source": [
    "k=pd.read_csv(\"../Data/scopus-filtered-by-top-publication - Kyle.csv\")"
   ]
  },
  {
   "cell_type": "code",
   "execution_count": 15,
   "metadata": {},
   "outputs": [
    {
     "data": {
      "text/plain": [
       "Index(['Key', 'Item Type', 'Publication Year', 'Author', 'Title',\n",
       "       'Include (01)', 'Notes/Criteria', 'Input data', 'Abstract Note',\n",
       "       'Publication Title', 'DOI', 'Url', 'Date', 'Date Added',\n",
       "       'Date Modified', 'Scopus relevance order'],\n",
       "      dtype='object')"
      ]
     },
     "execution_count": 15,
     "metadata": {},
     "output_type": "execute_result"
    }
   ],
   "source": [
    "k.columns"
   ]
  },
  {
   "cell_type": "code",
   "execution_count": 16,
   "metadata": {},
   "outputs": [],
   "source": [
    "k=k[['Key','Title','Include (01)','Abstract Note']]\n",
    "k=k.rename(columns = {'Include (01)':'include'})"
   ]
  },
  {
   "cell_type": "code",
   "execution_count": 17,
   "metadata": {},
   "outputs": [],
   "source": [
    "b = pd.merge(a, k, on=[\"Key\"], indicator=\"merge_indicator\")"
   ]
  },
  {
   "cell_type": "code",
   "execution_count": 18,
   "metadata": {},
   "outputs": [],
   "source": [
    "b=b.rename(columns = {'Title_x':'Title', 'Abstract Note_x':'Abstract','include_x':'include_aparna', 'include_y':'include_kyle'})\n",
    "b=b[['Key','Title','Abstract','include_aparna','include_kyle']]"
   ]
  },
  {
   "cell_type": "code",
   "execution_count": 19,
   "metadata": {},
   "outputs": [
    {
     "data": {
      "text/plain": [
       "Index(['Key', 'Title', 'Abstract', 'include_aparna', 'include_kyle'], dtype='object')"
      ]
     },
     "execution_count": 19,
     "metadata": {},
     "output_type": "execute_result"
    }
   ],
   "source": [
    "b.columns"
   ]
  },
  {
   "cell_type": "code",
   "execution_count": 20,
   "metadata": {},
   "outputs": [],
   "source": [
    "b.to_csv('include_comparison.csv',index=False)"
   ]
  },
  {
   "cell_type": "code",
   "execution_count": 21,
   "metadata": {},
   "outputs": [],
   "source": [
    "both=len(b[(b['include_aparna']==1) & (b['include_kyle']==1)])\n",
    "aparna=len(b[(b['include_aparna']==1) & (b['include_kyle']==0)])\n",
    "kyle=len(b[(b['include_aparna']==0) & (b['include_kyle']==1)])"
   ]
  },
  {
   "cell_type": "code",
   "execution_count": 22,
   "metadata": {},
   "outputs": [],
   "source": [
    "union_ak=b[(b['include_aparna']==1) | (b['include_kyle']==1)].sort_values(by=['include_aparna','include_kyle'],ascending=False)"
   ]
  },
  {
   "cell_type": "code",
   "execution_count": 23,
   "metadata": {},
   "outputs": [],
   "source": [
    "union_ak.to_csv('include_union.csv',index=False)"
   ]
  },
  {
   "cell_type": "code",
   "execution_count": 42,
   "metadata": {},
   "outputs": [
    {
     "data": {
      "image/png": "[encoded data removed]",
      "text/plain": [
       "<Figure size 432x288 with 1 Axes>"
      ]
     },
     "metadata": {},
     "output_type": "display_data"
    }
   ],
   "source": [
    "from matplotlib_venn import venn2\n",
    "venn2(subsets = (kyle, aparna, both), set_labels = ('Researcher 1', 'Researcher 2'), alpha=1, set_colors=('#89b79f', '#6aaed6'))\n",
    "# plt.title(\"Researcher Inclusion Agreement\")\n",
    "plt.savefig('../images/researcher_agreement.svg', format=\"svg\",  bbox_inches='tight')"
   ]
  },
  {
   "cell_type": "markdown",
   "metadata": {},
   "source": [
    "#### According to Kitchenham, agreement between researchers can be measured using the Cohen Kappa statistic.\n",
    "- https://www.inf.ufsc.br/~aldo.vw/kitchenham.pdf\n",
    "- Kappa values range from [-1,1], where 0 represents the exapected kappa score had the labels been assigned randomly.\n",
    "$$\n",
    "\\kappa = (p_o - p_e) / (1 - p_e)\n",
    "$$\n",
    "\n",
    "- However, the meaning and usefulness of this score is disputed. "
   ]
  },
  {
   "cell_type": "code",
   "execution_count": 20,
   "metadata": {},
   "outputs": [
    {
     "data": {
      "text/plain": [
       "0.33119677355467125"
      ]
     },
     "execution_count": 20,
     "metadata": {},
     "output_type": "execute_result"
    }
   ],
   "source": [
    "from sklearn.metrics import cohen_kappa_score\n",
    "'''\n",
    "y1 - array of shape (n_samples,)\n",
    "Labels assigned by the first annotator.\n",
    "\n",
    "y2 - array of shape (n_samples,)\n",
    "Labels assigned by the second annotator. The kappa statistic is symmetric, so swapping y1 and y2 doesn’t change the value.\n",
    "'''\n",
    "y1=b['include_kyle']\n",
    "y2=b['include_aparna']\n",
    "\n",
    "cohen_kappa_score(y1, y2)\n"
   ]
  },
  {
   "cell_type": "markdown",
   "metadata": {},
   "source": [
    "## TF-IDF\n",
    "Even though the Kappa score is slightly higher than 0, it is clear that there is a lot of disagreement as between researchers as to which articles qualify for inclusion. Let's see if there is a clear difference in our choices.\n",
    "\n",
    "* vectorizer = TfidfVectorizer(stop_words='english',min_df=0.2,max_df=maxdf,ngram_range=(1,3),strip_accents='unicode')\n",
    "* Count only words occurring in at least 20% of the documents (min_df)."
   ]
  },
  {
   "cell_type": "code",
   "execution_count": 52,
   "metadata": {},
   "outputs": [
    {
     "data": {
      "text/plain": [
       "<module 'utils' from '../utils.py'>"
      ]
     },
     "execution_count": 52,
     "metadata": {},
     "output_type": "execute_result"
    }
   ],
   "source": [
    "\n",
    "importlib.reload(utils)"
   ]
  },
  {
   "cell_type": "code",
   "execution_count": 53,
   "metadata": {},
   "outputs": [
    {
     "data": {
      "text/plain": [
       "<matplotlib.image.AxesImage at 0x7fb0803c9048>"
      ]
     },
     "execution_count": 53,
     "metadata": {},
     "output_type": "execute_result"
    },
    {
     "data": {
      "image/png": "[encoded data removed]",
      "text/plain": [
       "<Figure size 360x720 with 1 Axes>"
      ]
     },
     "metadata": {
      "needs_background": "light"
     },
     "output_type": "display_data"
    }
   ],
   "source": [
    "# Aparna's TfIdf tri-grams\n",
    "ap=b[(b['include_aparna']==1) & (b['include_kyle']==0)]\n",
    "a_abstracts=list(ap['Abstract'])\n",
    "text=utils.getTFIDF(a_abstracts,top_n=100,maxdf=1.0)\n",
    "utils.drawCloud(text,max_words=100,figsize=(5,10),raw=False, title=\"Researcher 2's TF-IDF\\n----------\\n\",save=True,path='../images/R2_cloud.svg')"
   ]
  },
  {
   "cell_type": "code",
   "execution_count": 54,
   "metadata": {},
   "outputs": [
    {
     "data": {
      "text/plain": [
       "<matplotlib.image.AxesImage at 0x7fb08135a470>"
      ]
     },
     "execution_count": 54,
     "metadata": {},
     "output_type": "execute_result"
    },
    {
     "data": {
      "image/png": "[encoded data removed]",
      "text/plain": [
       "<Figure size 360x720 with 1 Axes>"
      ]
     },
     "metadata": {
      "needs_background": "light"
     },
     "output_type": "display_data"
    }
   ],
   "source": [
    "# Kyle's TfIdf\n",
    "kp=b[(b['include_aparna']==0) & (b['include_kyle']==1)]\n",
    "k_abstracts=list(kp['Abstract'])\n",
    "text=utils.getTFIDF(k_abstracts,top_n=100,maxdf=1.0)\n",
    "utils.drawCloud(text,max_words=100,figsize=(5,10),raw=False, title=\"Researcher 1's TF-IDF\\n----------\\n\",save=True,path='../images/R1_cloud.svg')"
   ]
  },
  {
   "cell_type": "code",
   "execution_count": 55,
   "metadata": {},
   "outputs": [
    {
     "data": {
      "text/plain": [
       "<matplotlib.image.AxesImage at 0x7fb080fd6208>"
      ]
     },
     "execution_count": 55,
     "metadata": {},
     "output_type": "execute_result"
    },
    {
     "data": {
      "image/png": "[encoded data removed]",
      "text/plain": [
       "<Figure size 360x360 with 1 Axes>"
      ]
     },
     "metadata": {
      "needs_background": "light"
     },
     "output_type": "display_data"
    }
   ],
   "source": [
    "# Intersection TfIdf\n",
    "ab=b[(b['include_aparna']==1) & (b['include_kyle']==1)]\n",
    "a_abstracts=list(ab['Abstract'])\n",
    "text=utils.getTFIDF(a_abstracts,top_n=100,maxdf=1.0)\n",
    "utils.drawCloud(text,max_words=100,figsize=(5,5),raw=False, title=\"Intersection TF-IDF\\n----------\\n\",save=True,path='../images/R12_cloud.svg')"
   ]
  },
  {
   "cell_type": "code",
   "execution_count": 4,
   "metadata": {},
   "outputs": [],
   "source": [
    "a75=pd.read_csv(\"scopus (75).csv\")"
   ]
  },
  {
   "cell_type": "code",
   "execution_count": 6,
   "metadata": {},
   "outputs": [
    {
     "data": {
      "text/plain": [
       "339"
      ]
     },
     "execution_count": 6,
     "metadata": {},
     "output_type": "execute_result"
    }
   ],
   "source": [
    "len(a75)"
   ]
  },
  {
   "cell_type": "code",
   "execution_count": 7,
   "metadata": {},
   "outputs": [
    {
     "data": {
      "text/plain": [
       "Index(['Key', 'Title', 'Abstract', 'include_aparna', 'include_kyle',\n",
       "       'inclusion', 'disagreement', 'symbolic', 'NN', 'comments', 'input data',\n",
       "       'IMPORTANT but doesn't meet criteria', 'kyle wants to read anyway ;)',\n",
       "       'save for later'],\n",
       "      dtype='object')"
      ]
     },
     "execution_count": 7,
     "metadata": {},
     "output_type": "execute_result"
    }
   ],
   "source": [
    "a75.columns"
   ]
  },
  {
   "cell_type": "code",
   "execution_count": 9,
   "metadata": {},
   "outputs": [],
   "source": [
    "a75=a75[['Key', 'Title', 'include_aparna', 'include_kyle',\n",
    "       'inclusion', 'disagreement', 'symbolic', 'NN', 'comments', 'input data']]"
   ]
  },
  {
   "cell_type": "code",
   "execution_count": 12,
   "metadata": {},
   "outputs": [
    {
     "name": "stdout",
     "output_type": "stream",
     "text": [
      "Index(['Key', 'Item Type', 'Publication Year', 'Author', 'Title',\n",
      "       'Abstract Note', 'include', 'relavance', 'Unnamed: 8',\n",
      "       'Publication Title', 'DOI', 'Url', 'Date', 'Date Added',\n",
      "       'Date Modified', 'Include (0,1)', 'Notes/Criteria'],\n",
      "      dtype='object')\n"
     ]
    }
   ],
   "source": [
    "orig=pd.read_csv(\"scopus-filtered-by-top-publication - Aparna.csv\")\n",
    "print(orig.columns)\n",
    "orig=orig[['Key','DOI','Publication Title', 'Publication Year', 'Title']]"
   ]
  },
  {
   "cell_type": "code",
   "execution_count": 13,
   "metadata": {},
   "outputs": [
    {
     "data": {
      "text/html": [
       "<div>\n",
       "<style scoped>\n",
       "    .dataframe tbody tr th:only-of-type {\n",
       "        vertical-align: middle;\n",
       "    }\n",
       "\n",
       "    .dataframe tbody tr th {\n",
       "        vertical-align: top;\n",
       "    }\n",
       "\n",
       "    .dataframe thead th {\n",
       "        text-align: right;\n",
       "    }\n",
       "</style>\n",
       "<table border=\"1\" class=\"dataframe\">\n",
       "  <thead>\n",
       "    <tr style=\"text-align: right;\">\n",
       "      <th></th>\n",
       "      <th>Key</th>\n",
       "      <th>DOI</th>\n",
       "      <th>Publication Title</th>\n",
       "      <th>Publication Year</th>\n",
       "      <th>Title</th>\n",
       "    </tr>\n",
       "  </thead>\n",
       "  <tbody>\n",
       "    <tr>\n",
       "      <th>0</th>\n",
       "      <td>WLW49ADY</td>\n",
       "      <td>10.3233/SW-190368</td>\n",
       "      <td>Semantic Web</td>\n",
       "      <td>2020</td>\n",
       "      <td>Neural-symbolic integration and the Semantic Web</td>\n",
       "    </tr>\n",
       "    <tr>\n",
       "      <th>1</th>\n",
       "      <td>YXUZIQIU</td>\n",
       "      <td>10.1007/s10489-020-02165-6</td>\n",
       "      <td>Applied Intelligence</td>\n",
       "      <td>2021</td>\n",
       "      <td>Towards bridging the neuro-symbolic gap: deep deductive reasoners</td>\n",
       "    </tr>\n",
       "    <tr>\n",
       "      <th>2</th>\n",
       "      <td>EX5ZGV3N</td>\n",
       "      <td>10.1016/j.artint.2021.103504</td>\n",
       "      <td>Artificial Intelligence</td>\n",
       "      <td>2021</td>\n",
       "      <td>Neural probabilistic logic programming in DeepProbLog</td>\n",
       "    </tr>\n",
       "    <tr>\n",
       "      <th>3</th>\n",
       "      <td>YCQKU49S</td>\n",
       "      <td>10.1016/j.cogsys.2017.07.004</td>\n",
       "      <td>Cognitive Systems Research</td>\n",
       "      <td>2018</td>\n",
       "      <td>Learning Łukasiewicz logic</td>\n",
       "    </tr>\n",
       "    <tr>\n",
       "      <th>4</th>\n",
       "      <td>NPTPCDHQ</td>\n",
       "      <td>10.1109/TNNLS.2016.2603784</td>\n",
       "      <td>IEEE Transactions on Neural Networks and Learning Systems</td>\n",
       "      <td>2018</td>\n",
       "      <td>Deep Logic Networks: Inserting and Extracting Knowledge from Deep Belief Networks</td>\n",
       "    </tr>\n",
       "    <tr>\n",
       "      <th>...</th>\n",
       "      <td>...</td>\n",
       "      <td>...</td>\n",
       "      <td>...</td>\n",
       "      <td>...</td>\n",
       "      <td>...</td>\n",
       "    </tr>\n",
       "    <tr>\n",
       "      <th>1505</th>\n",
       "      <td>44UQWM7C</td>\n",
       "      <td>10.1109/TITS.2020.3046885</td>\n",
       "      <td>IEEE Transactions on Intelligent Transportation Systems</td>\n",
       "      <td>2021</td>\n",
       "      <td>Optimizing Locations and Qualities of Multiple Facilities With Competition via Intelligent Search</td>\n",
       "    </tr>\n",
       "    <tr>\n",
       "      <th>1506</th>\n",
       "      <td>28FVD3B5</td>\n",
       "      <td>10.1007/s00521-019-04509-x</td>\n",
       "      <td>Neural Computing and Applications</td>\n",
       "      <td>2020</td>\n",
       "      <td>Knowledge-based reinforcement learning controller with fuzzy-rule network: experimental validation</td>\n",
       "    </tr>\n",
       "    <tr>\n",
       "      <th>1507</th>\n",
       "      <td>C3XUFTES</td>\n",
       "      <td>10.1109/TCAD.2020.3025508</td>\n",
       "      <td>IEEE Transactions on Computer-Aided Design of Integrated Circuits and Systems</td>\n",
       "      <td>2020</td>\n",
       "      <td>A Data-Driven Asynchronous Neural Network Accelerator</td>\n",
       "    </tr>\n",
       "    <tr>\n",
       "      <th>1508</th>\n",
       "      <td>5HARP4V6</td>\n",
       "      <td>10.1016/j.artmed.2019.101722</td>\n",
       "      <td>Artificial Intelligence in Medicine</td>\n",
       "      <td>2019</td>\n",
       "      <td>Multi-criterion mammographic risk analysis supported with multi-label fuzzy-rough feature selection</td>\n",
       "    </tr>\n",
       "    <tr>\n",
       "      <th>1509</th>\n",
       "      <td>NKEYVKMC</td>\n",
       "      <td>10.1109/TIFS.2018.2868221</td>\n",
       "      <td>IEEE Transactions on Information Forensics and Security</td>\n",
       "      <td>2019</td>\n",
       "      <td>MEG: Memory and energy efficient garbled circuit evaluation on smartphones</td>\n",
       "    </tr>\n",
       "  </tbody>\n",
       "</table>\n",
       "<p>1510 rows × 5 columns</p>\n",
       "</div>"
      ],
      "text/plain": [
       "           Key                           DOI  \\\n",
       "0     WLW49ADY             10.3233/SW-190368   \n",
       "1     YXUZIQIU    10.1007/s10489-020-02165-6   \n",
       "2     EX5ZGV3N  10.1016/j.artint.2021.103504   \n",
       "3     YCQKU49S  10.1016/j.cogsys.2017.07.004   \n",
       "4     NPTPCDHQ    10.1109/TNNLS.2016.2603784   \n",
       "...        ...                           ...   \n",
       "1505  44UQWM7C     10.1109/TITS.2020.3046885   \n",
       "1506  28FVD3B5    10.1007/s00521-019-04509-x   \n",
       "1507  C3XUFTES     10.1109/TCAD.2020.3025508   \n",
       "1508  5HARP4V6  10.1016/j.artmed.2019.101722   \n",
       "1509  NKEYVKMC     10.1109/TIFS.2018.2868221   \n",
       "\n",
       "                                                                  Publication Title  \\\n",
       "0                                                                      Semantic Web   \n",
       "1                                                              Applied Intelligence   \n",
       "2                                                           Artificial Intelligence   \n",
       "3                                                        Cognitive Systems Research   \n",
       "4                         IEEE Transactions on Neural Networks and Learning Systems   \n",
       "...                                                                             ...   \n",
       "1505                        IEEE Transactions on Intelligent Transportation Systems   \n",
       "1506                                              Neural Computing and Applications   \n",
       "1507  IEEE Transactions on Computer-Aided Design of Integrated Circuits and Systems   \n",
       "1508                                            Artificial Intelligence in Medicine   \n",
       "1509                        IEEE Transactions on Information Forensics and Security   \n",
       "\n",
       "      Publication Year  \\\n",
       "0                 2020   \n",
       "1                 2021   \n",
       "2                 2021   \n",
       "3                 2018   \n",
       "4                 2018   \n",
       "...                ...   \n",
       "1505              2021   \n",
       "1506              2020   \n",
       "1507              2020   \n",
       "1508              2019   \n",
       "1509              2019   \n",
       "\n",
       "                                                                                                    Title  \n",
       "0                                                        Neural-symbolic integration and the Semantic Web  \n",
       "1                                       Towards bridging the neuro-symbolic gap: deep deductive reasoners  \n",
       "2                                                   Neural probabilistic logic programming in DeepProbLog  \n",
       "3                                                                              Learning Łukasiewicz logic  \n",
       "4                       Deep Logic Networks: Inserting and Extracting Knowledge from Deep Belief Networks  \n",
       "...                                                                                                   ...  \n",
       "1505    Optimizing Locations and Qualities of Multiple Facilities With Competition via Intelligent Search  \n",
       "1506   Knowledge-based reinforcement learning controller with fuzzy-rule network: experimental validation  \n",
       "1507                                                A Data-Driven Asynchronous Neural Network Accelerator  \n",
       "1508  Multi-criterion mammographic risk analysis supported with multi-label fuzzy-rough feature selection  \n",
       "1509                           MEG: Memory and energy efficient garbled circuit evaluation on smartphones  \n",
       "\n",
       "[1510 rows x 5 columns]"
      ]
     },
     "execution_count": 13,
     "metadata": {},
     "output_type": "execute_result"
    }
   ],
   "source": [
    "orig"
   ]
  },
  {
   "cell_type": "code",
   "execution_count": 21,
   "metadata": {},
   "outputs": [
    {
     "data": {
      "text/html": [
       "<div>\n",
       "<style scoped>\n",
       "    .dataframe tbody tr th:only-of-type {\n",
       "        vertical-align: middle;\n",
       "    }\n",
       "\n",
       "    .dataframe tbody tr th {\n",
       "        vertical-align: top;\n",
       "    }\n",
       "\n",
       "    .dataframe thead th {\n",
       "        text-align: right;\n",
       "    }\n",
       "</style>\n",
       "<table border=\"1\" class=\"dataframe\">\n",
       "  <thead>\n",
       "    <tr style=\"text-align: right;\">\n",
       "      <th></th>\n",
       "      <th>Key</th>\n",
       "      <th>Title</th>\n",
       "      <th>include_aparna</th>\n",
       "      <th>include_kyle</th>\n",
       "      <th>inclusion</th>\n",
       "      <th>disagreement</th>\n",
       "      <th>symbolic</th>\n",
       "      <th>NN</th>\n",
       "      <th>comments</th>\n",
       "      <th>input data</th>\n",
       "    </tr>\n",
       "  </thead>\n",
       "  <tbody>\n",
       "    <tr>\n",
       "      <th>0</th>\n",
       "      <td>WLW49ADY</td>\n",
       "      <td>Neural-symbolic integration and the Semantic Web</td>\n",
       "      <td>1.0</td>\n",
       "      <td>0</td>\n",
       "      <td>0.0</td>\n",
       "      <td>0.0</td>\n",
       "      <td>NaN</td>\n",
       "      <td>NaN</td>\n",
       "      <td>position paper</td>\n",
       "      <td>NaN</td>\n",
       "    </tr>\n",
       "    <tr>\n",
       "      <th>1</th>\n",
       "      <td>YXUZIQIU</td>\n",
       "      <td>Towards bridging the neuro-symbolic gap: deep deductive reasoners</td>\n",
       "      <td>1.0</td>\n",
       "      <td>0</td>\n",
       "      <td>0.0</td>\n",
       "      <td>0.0</td>\n",
       "      <td>NaN</td>\n",
       "      <td>NaN</td>\n",
       "      <td>position paper</td>\n",
       "      <td>NaN</td>\n",
       "    </tr>\n",
       "    <tr>\n",
       "      <th>2</th>\n",
       "      <td>EX5ZGV3N</td>\n",
       "      <td>Neural probabilistic logic programming in DeepProbLog</td>\n",
       "      <td>1.0</td>\n",
       "      <td>0</td>\n",
       "      <td>0.0</td>\n",
       "      <td>0.0</td>\n",
       "      <td>NaN</td>\n",
       "      <td>NaN</td>\n",
       "      <td>This paper is important because it is refenced a lot in the literature, but it does not meet our specific criteria for text as input.</td>\n",
       "      <td>MNIST</td>\n",
       "    </tr>\n",
       "    <tr>\n",
       "      <th>3</th>\n",
       "      <td>YCQKU49S</td>\n",
       "      <td>Learning Łukasiewicz logic</td>\n",
       "      <td>1.0</td>\n",
       "      <td>0</td>\n",
       "      <td>0.0</td>\n",
       "      <td>0.0</td>\n",
       "      <td>NaN</td>\n",
       "      <td>NaN</td>\n",
       "      <td>not text input</td>\n",
       "      <td>NaN</td>\n",
       "    </tr>\n",
       "    <tr>\n",
       "      <th>4</th>\n",
       "      <td>NPTPCDHQ</td>\n",
       "      <td>Deep Logic Networks: Inserting and Extracting Knowledge from Deep Belief Networks</td>\n",
       "      <td>1.0</td>\n",
       "      <td>0</td>\n",
       "      <td>0.0</td>\n",
       "      <td>0.0</td>\n",
       "      <td>rule based</td>\n",
       "      <td>deep belief network (DBN),\\nrestricted boltzman machine (RBM)</td>\n",
       "      <td>NaN</td>\n",
       "      <td>DNA,\\nMNIST</td>\n",
       "    </tr>\n",
       "    <tr>\n",
       "      <th>...</th>\n",
       "      <td>...</td>\n",
       "      <td>...</td>\n",
       "      <td>...</td>\n",
       "      <td>...</td>\n",
       "      <td>...</td>\n",
       "      <td>...</td>\n",
       "      <td>...</td>\n",
       "      <td>...</td>\n",
       "      <td>...</td>\n",
       "      <td>...</td>\n",
       "    </tr>\n",
       "    <tr>\n",
       "      <th>334</th>\n",
       "      <td>LVJ8NGHX</td>\n",
       "      <td>A computational analysis of general intelligence tests for evaluating cognitive development</td>\n",
       "      <td>0.0</td>\n",
       "      <td>0</td>\n",
       "      <td>0.0</td>\n",
       "      <td>0.0</td>\n",
       "      <td>rule</td>\n",
       "      <td>0</td>\n",
       "      <td>No ML/DL</td>\n",
       "      <td>NaN</td>\n",
       "    </tr>\n",
       "    <tr>\n",
       "      <th>335</th>\n",
       "      <td>MPD5LQBT</td>\n",
       "      <td>Cost-optimal constrained correlation clustering via weighted partial Maximum Satisfiability</td>\n",
       "      <td>0.0</td>\n",
       "      <td>0</td>\n",
       "      <td>0.0</td>\n",
       "      <td>0.0</td>\n",
       "      <td>0</td>\n",
       "      <td>clustering</td>\n",
       "      <td>Optimization technique</td>\n",
       "      <td>NaN</td>\n",
       "    </tr>\n",
       "    <tr>\n",
       "      <th>336</th>\n",
       "      <td>7YX447XS</td>\n",
       "      <td>Concept generalization and fusion for abstractive sentence generation</td>\n",
       "      <td>0.0</td>\n",
       "      <td>1</td>\n",
       "      <td>1.0</td>\n",
       "      <td>0.0</td>\n",
       "      <td>semantic resources</td>\n",
       "      <td>ML</td>\n",
       "      <td>Uses external data sources to semantically enrich text summarization. It is the application text fusion.</td>\n",
       "      <td>text</td>\n",
       "    </tr>\n",
       "    <tr>\n",
       "      <th>337</th>\n",
       "      <td>NaN</td>\n",
       "      <td>NaN</td>\n",
       "      <td>NaN</td>\n",
       "      <td>NaN</td>\n",
       "      <td>NaN</td>\n",
       "      <td>NaN</td>\n",
       "      <td>NaN</td>\n",
       "      <td>NaN</td>\n",
       "      <td>NaN</td>\n",
       "      <td>NaN</td>\n",
       "    </tr>\n",
       "    <tr>\n",
       "      <th>338</th>\n",
       "      <td>NaN</td>\n",
       "      <td>NaN</td>\n",
       "      <td>195.0</td>\n",
       "      <td>76</td>\n",
       "      <td>75.0</td>\n",
       "      <td>1.0</td>\n",
       "      <td>NaN</td>\n",
       "      <td>NaN</td>\n",
       "      <td>NaN</td>\n",
       "      <td>NaN</td>\n",
       "    </tr>\n",
       "  </tbody>\n",
       "</table>\n",
       "<p>339 rows × 10 columns</p>\n",
       "</div>"
      ],
      "text/plain": [
       "          Key  \\\n",
       "0    WLW49ADY   \n",
       "1    YXUZIQIU   \n",
       "2    EX5ZGV3N   \n",
       "3    YCQKU49S   \n",
       "4    NPTPCDHQ   \n",
       "..        ...   \n",
       "334  LVJ8NGHX   \n",
       "335  MPD5LQBT   \n",
       "336  7YX447XS   \n",
       "337       NaN   \n",
       "338       NaN   \n",
       "\n",
       "                                                                                           Title  \\\n",
       "0                                               Neural-symbolic integration and the Semantic Web   \n",
       "1                              Towards bridging the neuro-symbolic gap: deep deductive reasoners   \n",
       "2                                          Neural probabilistic logic programming in DeepProbLog   \n",
       "3                                                                     Learning Łukasiewicz logic   \n",
       "4              Deep Logic Networks: Inserting and Extracting Knowledge from Deep Belief Networks   \n",
       "..                                                                                           ...   \n",
       "334  A computational analysis of general intelligence tests for evaluating cognitive development   \n",
       "335  Cost-optimal constrained correlation clustering via weighted partial Maximum Satisfiability   \n",
       "336                        Concept generalization and fusion for abstractive sentence generation   \n",
       "337                                                                                          NaN   \n",
       "338                                                                                          NaN   \n",
       "\n",
       "     include_aparna include_kyle  inclusion  disagreement            symbolic  \\\n",
       "0               1.0            0        0.0           0.0                 NaN   \n",
       "1               1.0            0        0.0           0.0                 NaN   \n",
       "2               1.0            0        0.0           0.0                 NaN   \n",
       "3               1.0            0        0.0           0.0                 NaN   \n",
       "4               1.0            0        0.0           0.0          rule based   \n",
       "..              ...          ...        ...           ...                 ...   \n",
       "334             0.0            0        0.0           0.0                rule   \n",
       "335             0.0            0        0.0           0.0                   0   \n",
       "336             0.0            1        1.0           0.0  semantic resources   \n",
       "337             NaN          NaN        NaN           NaN                 NaN   \n",
       "338           195.0           76       75.0           1.0                 NaN   \n",
       "\n",
       "                                                                NN  \\\n",
       "0                                                              NaN   \n",
       "1                                                              NaN   \n",
       "2                                                              NaN   \n",
       "3                                                              NaN   \n",
       "4    deep belief network (DBN),\\nrestricted boltzman machine (RBM)   \n",
       "..                                                             ...   \n",
       "334                                                              0   \n",
       "335                                                     clustering   \n",
       "336                                                             ML   \n",
       "337                                                            NaN   \n",
       "338                                                            NaN   \n",
       "\n",
       "                                                                                                                                  comments  \\\n",
       "0                                                                                                                           position paper   \n",
       "1                                                                                                                           position paper   \n",
       "2    This paper is important because it is refenced a lot in the literature, but it does not meet our specific criteria for text as input.   \n",
       "3                                                                                                                           not text input   \n",
       "4                                                                                                                                      NaN   \n",
       "..                                                                                                                                     ...   \n",
       "334                                                                                                                               No ML/DL   \n",
       "335                                                                                                                 Optimization technique   \n",
       "336                               Uses external data sources to semantically enrich text summarization. It is the application text fusion.   \n",
       "337                                                                                                                                    NaN   \n",
       "338                                                                                                                                    NaN   \n",
       "\n",
       "      input data  \n",
       "0            NaN  \n",
       "1            NaN  \n",
       "2          MNIST  \n",
       "3            NaN  \n",
       "4    DNA,\\nMNIST  \n",
       "..           ...  \n",
       "334          NaN  \n",
       "335          NaN  \n",
       "336         text  \n",
       "337          NaN  \n",
       "338          NaN  \n",
       "\n",
       "[339 rows x 10 columns]"
      ]
     },
     "execution_count": 21,
     "metadata": {},
     "output_type": "execute_result"
    }
   ],
   "source": [
    "a75"
   ]
  },
  {
   "cell_type": "code",
   "execution_count": 28,
   "metadata": {},
   "outputs": [
    {
     "name": "stdout",
     "output_type": "stream",
     "text": [
      "<class 'numpy.float64'>\n",
      "<class 'str'>\n"
     ]
    }
   ],
   "source": [
    "print(type(a75['inclusion'][0]))\n",
    "print(type(a75['include_kyle'][0]))"
   ]
  },
  {
   "cell_type": "code",
   "execution_count": 29,
   "metadata": {},
   "outputs": [],
   "source": [
    "agree=a75[(a75['include_kyle']==\"1\") & (a75['inclusion']==1.0)]"
   ]
  },
  {
   "cell_type": "code",
   "execution_count": 30,
   "metadata": {},
   "outputs": [
    {
     "data": {
      "text/plain": [
       "Index(['Key', 'Title', 'include_aparna', 'include_kyle', 'inclusion',\n",
       "       'disagreement', 'symbolic', 'NN', 'comments', 'input data'],\n",
       "      dtype='object')"
      ]
     },
     "execution_count": 30,
     "metadata": {},
     "output_type": "execute_result"
    }
   ],
   "source": [
    "agree.columns"
   ]
  },
  {
   "cell_type": "code",
   "execution_count": 31,
   "metadata": {},
   "outputs": [],
   "source": [
    "agree=agree[['Key', 'Title', 'symbolic', 'NN', 'comments', 'input data']]"
   ]
  },
  {
   "cell_type": "code",
   "execution_count": 33,
   "metadata": {},
   "outputs": [],
   "source": [
    "joined=pd.merge(agree,orig,on='Key')"
   ]
  },
  {
   "cell_type": "code",
   "execution_count": 35,
   "metadata": {},
   "outputs": [
    {
     "data": {
      "text/plain": [
       "Index(['Key', 'Title_x', 'symbolic', 'NN', 'comments', 'input data', 'DOI',\n",
       "       'Publication Title', 'Publication Year', 'Title_y'],\n",
       "      dtype='object')"
      ]
     },
     "execution_count": 35,
     "metadata": {},
     "output_type": "execute_result"
    }
   ],
   "source": [
    "joined.columns"
   ]
  },
  {
   "cell_type": "code",
   "execution_count": 36,
   "metadata": {},
   "outputs": [],
   "source": [
    "joined=joined[['Key','DOI','Publication Title', 'Publication Year','Title_x', 'symbolic', 'NN', 'comments']]"
   ]
  },
  {
   "cell_type": "code",
   "execution_count": 37,
   "metadata": {},
   "outputs": [],
   "source": [
    "joined.to_csv('agreed75.csv',index=False)"
   ]
  },
  {
   "cell_type": "code",
   "execution_count": null,
   "metadata": {},
   "outputs": [],
   "source": []
  }
 ],
 "metadata": {
  "kernelspec": {
   "display_name": "Python 3",
   "language": "python",
   "name": "python3"
  },
  "language_info": {
   "codemirror_mode": {
    "name": "ipython",
    "version": 3
   },
   "file_extension": ".py",
   "mimetype": "text/x-python",
   "name": "python",
   "nbconvert_exporter": "python",
   "pygments_lexer": "ipython3",
   "version": "3.7.3"
  }
 },
 "nbformat": 4,
 "nbformat_minor": 4
}
