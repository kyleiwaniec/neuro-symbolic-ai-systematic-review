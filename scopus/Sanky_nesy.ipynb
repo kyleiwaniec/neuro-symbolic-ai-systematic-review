{
 "cells": [
  {
   "cell_type": "markdown",
   "metadata": {
    "id": "O4CEe04OXdzV"
   },
   "source": [
    "\n",
    "# Installs"
   ]
  },
  {
   "cell_type": "code",
   "execution_count": 1,
   "metadata": {
    "colab": {
     "base_uri": "https://localhost:8080/"
    },
    "id": "NkaMLf2jbtt8",
    "outputId": "5cdd653a-0b3f-48b1-c8da-738d8bca3a98"
   },
   "outputs": [],
   "source": [
    "!pip install pySankey"
   ]
  },
  {
   "cell_type": "code",
   "execution_count": 39,
   "metadata": {
    "colab": {
     "base_uri": "https://localhost:8080/"
    },
    "collapsed": true,
    "id": "NkaMLf2jbtt8",
    "jupyter": {
     "outputs_hidden": true
    },
    "outputId": "5cdd653a-0b3f-48b1-c8da-738d8bca3a98"
   },
   "outputs": [
    {
     "name": "stdout",
     "output_type": "stream",
     "text": [
      "Collecting package metadata (current_repodata.json): done\n",
      "Solving environment: - \n",
      "The environment is inconsistent, please check the package plan carefully\n",
      "The following packages are causing the inconsistency:\n",
      "\n",
      "  - defaults/noarch::bleach==3.2.1=py_0\n",
      "  - defaults/osx-64::zope.interface==5.1.0=py37haf1e3a3_0\n",
      "  - defaults/osx-64::mkl_random==1.1.1=py37h959d312_0\n",
      "  - defaults/osx-64::spyder-kernels==1.9.4=py37_0\n",
      "  - defaults/osx-64::astropy==4.0.1.post1=py37h01d97ff_1\n",
      "  - defaults/osx-64::conda==4.9.2=py37hecd8cb5_0\n",
      "  - defaults/osx-64::argon2-cffi==20.1.0=py37haf1e3a3_1\n",
      "  - defaults/osx-64::notebook==6.1.4=py37_0\n",
      "  - defaults/osx-64::jupyter==1.0.0=py37_7\n",
      "  - defaults/osx-64::widgetsnbextension==3.5.1=py37_0\n",
      "  - defaults/noarch::backports.functools_lru_cache==1.6.1=py_0\n",
      "  - defaults/noarch::numpydoc==1.1.0=py_0\n",
      "  - defaults/osx-64::nose==1.3.7=py37_2\n",
      "  - defaults/osx-64::cycler==0.10.0=py37_0\n",
      "  - defaults/osx-64::conda-package-handling==1.6.1=py37h1de35cc_0\n",
      "  - defaults/noarch::qtconsole==4.7.7=py_0\n",
      "  - defaults/noarch::qtawesome==0.7.2=py_0\n",
      "  - defaults/osx-64::python-language-server==0.31.2=py37_0\n",
      "  - defaults/osx-64::pathlib2==2.3.5=py37_0\n",
      "  - defaults/osx-64::clyent==1.2.2=py37_1\n",
      "  - defaults/noarch::jupyter_client==6.1.7=py_0\n",
      "  - defaults/osx-64::pytest==6.0.2=py37_0\n",
      "  - defaults/osx-64::cython==0.29.21=py37hb1e8313_0\n",
      "  - defaults/osx-64::bottleneck==1.3.2=py37hf1fa96c_1\n",
      "  - defaults/osx-64::astroid==2.4.2=py37_0\n",
      "  - defaults/noarch::nbclient==0.5.0=py_0\n",
      "  - defaults/noarch::imageio==2.9.0=py_0\n",
      "  - defaults/osx-64::line_profiler==2.1.2=py37h1de35cc_0\n",
      "  - defaults/noarch::seaborn==0.11.0=py_0\n",
      "  - defaults/osx-64::zope.event==4.4=py37_0\n",
      "  - defaults/noarch::jupyter_console==6.2.0=py_0\n",
      "  - defaults/osx-64::pywavelets==1.1.1=py37h1de35cc_0\n",
      "  - defaults/osx-64::gevent==20.9.0=py37haf1e3a3_0\n",
      "  - defaults/noarch::anaconda-project==0.8.4=py_0\n",
      "  - pytorch/osx-64::torchaudio==0.7.2=py37\n",
      "  - defaults/osx-64::cryptography==3.1.1=py37hddc9c9b_0\n",
      "  - pytorch/osx-64::torchvision==0.8.2=py37_cpu\n",
      "  - defaults/osx-64::bkcharts==0.2=py37_0\n",
      "  - defaults/osx-64::matplotlib==3.3.1=0\n",
      "  - defaults/osx-64::numexpr==2.7.1=py37hce01a72_0\n",
      "  - defaults/noarch::networkx==2.5=py_0\n",
      "  - defaults/osx-64::scikit-learn==0.23.2=py37h959d312_0\n",
      "  - defaults/noarch::ipywidgets==7.5.1=py_1\n",
      "  - defaults/noarch::packaging==20.4=py_0\n",
      "  - defaults/noarch::jupyterlab==2.2.6=py_0\n",
      "  - defaults/osx-64::distributed==2.28.0=py37_0\n",
      "  - defaults/noarch::prompt-toolkit==3.0.7=py_0\n",
      "  - defaults/noarch::dask==2.27.0=py_0\n",
      "  - defaults/noarch::nbformat==5.0.7=py_0\n",
      "  - defaults/osx-64::pytables==3.6.1=py37h5bccee9_0\n",
      "  - defaults/osx-64::singledispatch==3.4.0.3=py37_0\n",
      "  - defaults/osx-64::anaconda-navigator==1.9.7=py37_0\n",
      "  - defaults/noarch::conda-verify==3.4.2=py_1\n",
      "  - defaults/noarch::pyopenssl==19.1.0=py_1\n",
      "  - defaults/noarch::jupyterlab_pygments==0.1.2=py_0\n",
      "  - defaults/osx-64::pylint==2.6.0=py37_0\n",
      "  - defaults/noarch::jupyterlab_server==1.2.0=py_0\n",
      "  - defaults/osx-64::conda-build==3.18.8=py37_0\n",
      "  - defaults/osx-64::spyder==4.0.0=py37_0\n",
      "  - defaults/osx-64::isort==5.5.4=py37_0\n",
      "  - defaults/osx-64::ipykernel==5.3.4=py37h5ca1d4c_0\n",
      "  - defaults/osx-64::scikit-image==0.16.2=py37h6c726b0_0\n",
      "  - defaults/osx-64::matplotlib-base==3.3.1=py37h181983e_0\n",
      "  - defaults/osx-64::_anaconda_depends==2020.07=py37_0\n",
      "  - defaults/osx-64::jsonschema==3.2.0=py37_1\n",
      "  - defaults/osx-64::pandas==1.1.2=py37hb1e8313_0\n",
      "  - defaults/osx-64::h5py==2.10.0=py37h3134771_0\n",
      "  - defaults/noarch::pygments==2.7.1=py_0\n",
      "  - defaults/osx-64::statsmodels==0.12.0=py37haf1e3a3_0\n",
      "  - defaults/osx-64::anaconda-client==1.7.2=py37_0\n",
      "  - defaults/osx-64::nbconvert==6.0.6=py37_0\n",
      "  - defaults/osx-64::patsy==0.5.1=py37_0\n",
      "  - defaults/osx-64::multipledispatch==0.6.0=py37_0\n",
      "  - defaults/noarch::sphinx==3.2.1=py_0\n",
      "  - defaults/osx-64::numpy==1.19.1=py37h3b9f5b6_0\n",
      "  - defaults/osx-64::_ipyw_jlab_nb_ext_conf==0.1.0=py37_0\n",
      "  - defaults/osx-64::bokeh==2.2.1=py37_0\n",
      "  - defaults/noarch::prompt_toolkit==3.0.7=0\n",
      "  - defaults/osx-64::scipy==1.5.2=py37h912ce22_0\n",
      "  - defaults/osx-64::mkl-service==2.3.0=py37hfbe908c_0\n",
      "  - defaults/noarch::html5lib==1.1=py_0\n",
      "  - defaults/noarch::flake8==3.8.3=py_0\n",
      "  - pytorch/osx-64::pytorch==1.7.1=py3.7_0\n",
      "  - defaults/osx-64::ipython==7.18.1=py37h5ca1d4c_0\n",
      "  - defaults/osx-64::anaconda==custom=py37_1\n",
      "  - defaults/osx-64::mkl_fft==1.2.0=py37hc64f4ea_0\n",
      "  - defaults/noarch::python-dateutil==2.8.1=py_0\n",
      "  - defaults/osx-64::numba==0.51.2=py37h959d312_1\n",
      "done\n",
      "\n",
      "\n",
      "==> WARNING: A newer version of conda exists. <==\n",
      "  current version: 4.9.2\n",
      "  latest version: 4.11.0\n",
      "\n",
      "Please update conda by running\n",
      "\n",
      "    $ conda update -n base -c defaults conda\n",
      "\n",
      "\n",
      "\n",
      "## Package Plan ##\n",
      "\n",
      "  environment location: /Users/kylehamilton/anaconda3\n",
      "\n",
      "  added / updated specs:\n",
      "    - plotly-orca\n",
      "\n",
      "\n",
      "The following packages will be downloaded:\n",
      "\n",
      "    package                    |            build\n",
      "    ---------------------------|-----------------\n",
      "    astroid-2.9.0              |   py37hecd8cb5_0         335 KB\n",
      "    flask-1.1.2                |     pyhd3eb1b0_0          70 KB\n",
      "    jinja2-2.11.3              |     pyhd3eb1b0_0         101 KB\n",
      "    lxml-4.6.3                 |   py37h26b266a_0         1.1 MB\n",
      "    mkl-service-2.4.0          |   py37h9ed2024_0          44 KB\n",
      "    mkl_fft-1.3.1              |   py37h4ab4a9b_0         161 KB\n",
      "    mkl_random-1.2.2           |   py37hb2f4e1b_0         263 KB\n",
      "    numexpr-2.8.1              |   py37h2e5f0a9_0         120 KB\n",
      "    numpy-1.21.2               |   py37h4b4dc7a_0          23 KB\n",
      "    plotly-orca-1.3.1          |                1        56.8 MB  plotly\n",
      "    pylint-2.12.2              |   py37hecd8cb5_0         537 KB\n",
      "    scipy-1.7.3                |   py37h8c7af03_0        15.5 MB\n",
      "    ------------------------------------------------------------\n",
      "                                           Total:        75.0 MB\n",
      "\n",
      "The following NEW packages will be INSTALLED:\n",
      "\n",
      "  beautifulsoup4     pkgs/main/noarch::beautifulsoup4-4.10.0-pyh06a4308_0\n",
      "  charset-normalizer pkgs/main/noarch::charset-normalizer-2.0.4-pyhd3eb1b0_0\n",
      "  click              pkgs/main/noarch::click-8.0.3-pyhd3eb1b0_0\n",
      "  dataclasses        pkgs/main/noarch::dataclasses-0.8-pyh6d0b6a4_7\n",
      "  docutils           pkgs/main/osx-64::docutils-0.18.1-py37hecd8cb5_2\n",
      "  flask              pkgs/main/noarch::flask-1.1.2-pyhd3eb1b0_0\n",
      "  giflib             pkgs/main/osx-64::giflib-5.2.1-haf1e3a3_0\n",
      "  idna               pkgs/main/noarch::idna-3.3-pyhd3eb1b0_0\n",
      "  jinja2             pkgs/main/noarch::jinja2-2.11.3-pyhd3eb1b0_0\n",
      "  joblib             pkgs/main/noarch::joblib-1.1.0-pyhd3eb1b0_0\n",
      "  libwebp            pkgs/main/osx-64::libwebp-1.2.0-hacca55c_0\n",
      "  lxml               pkgs/main/osx-64::lxml-4.6.3-py37h26b266a_0\n",
      "  nltk               pkgs/main/osx-64::nltk-3.4.5-py37_0\n",
      "  numpy-base         pkgs/main/osx-64::numpy-base-1.21.2-py37he0bd621_0\n",
      "  pillow             pkgs/main/osx-64::pillow-8.4.0-py37h98e4679_0\n",
      "  pip                pkgs/main/osx-64::pip-21.2.2-py37hecd8cb5_0\n",
      "  platformdirs       pkgs/main/noarch::platformdirs-2.4.0-pyhd3eb1b0_0\n",
      "  plotly-orca        plotly/osx-64::plotly-orca-1.3.1-1\n",
      "  requests           pkgs/main/noarch::requests-2.27.1-pyhd3eb1b0_0\n",
      "  setuptools         pkgs/main/osx-64::setuptools-58.0.4-py37hecd8cb5_0\n",
      "  six                pkgs/main/noarch::six-1.16.0-pyhd3eb1b0_0\n",
      "  soupsieve          pkgs/main/noarch::soupsieve-2.3.1-pyhd3eb1b0_0\n",
      "  typing-extensions  pkgs/main/noarch::typing-extensions-3.10.0.2-hd3eb1b0_0\n",
      "  urllib3            pkgs/main/noarch::urllib3-1.26.7-pyhd3eb1b0_0\n",
      "  werkzeug           pkgs/main/noarch::werkzeug-2.0.2-pyhd3eb1b0_0\n",
      "  wheel              pkgs/main/noarch::wheel-0.37.1-pyhd3eb1b0_0\n",
      "  wrapt              pkgs/main/osx-64::wrapt-1.13.3-py37hca72f7f_2\n",
      "\n",
      "The following packages will be UPDATED:\n",
      "\n",
      "  astroid                                      2.4.2-py37_0 --> 2.9.0-py37hecd8cb5_0\n",
      "  ca-certificates                      2020.12.8-hecd8cb5_0 --> 2021.10.26-hecd8cb5_2\n",
      "  certifi                          2020.12.5-py37hecd8cb5_0 --> 2021.10.8-py37hecd8cb5_2\n",
      "  freetype                                2.10.2-ha233b18_0 --> 2.11.0-hd8bbffd_0\n",
      "  intel-openmp                                   2019.4-233 --> 2021.4.0-hecd8cb5_3538\n",
      "  lcms2                                     2.11-h92f6f08_0 --> 2.12-hf1fd2bf_0\n",
      "  libcxx                                           10.0.0-1 --> 12.0.0-h2f01273_0\n",
      "  mkl                                            2019.4-233 --> 2021.4.0-hecd8cb5_637\n",
      "  mkl-service                          2.3.0-py37hfbe908c_0 --> 2.4.0-py37h9ed2024_0\n",
      "  mkl_fft                              1.2.0-py37hc64f4ea_0 --> 1.3.1-py37h4ab4a9b_0\n",
      "  mkl_random                           1.1.1-py37h959d312_0 --> 1.2.2-py37hb2f4e1b_0\n",
      "  numexpr                              2.7.1-py37hce01a72_0 --> 2.8.1-py37h2e5f0a9_0\n",
      "  numpy                               1.19.1-py37h3b9f5b6_0 --> 1.21.2-py37h4b4dc7a_0\n",
      "  openssl                                 1.1.1i-h9ed2024_0 --> 1.1.1m-hca72f7f_0\n",
      "  pylint                                       2.6.0-py37_0 --> 2.12.2-py37hecd8cb5_0\n",
      "  scipy                                1.5.2-py37h912ce22_0 --> 1.7.3-py37h8c7af03_0\n",
      "  typing_extensions                            3.7.4.3-py_0 --> 3.10.0.2-pyh06a4308_0\n",
      "\n",
      "\n",
      "\n",
      "Downloading and Extracting Packages\n",
      "mkl_fft-1.3.1        | 161 KB    | ##################################### | 100% \n",
      "plotly-orca-1.3.1    | 56.8 MB   | ##################################### | 100% \n",
      "mkl_random-1.2.2     | 263 KB    | ##################################### | 100% \n",
      "lxml-4.6.3           | 1.1 MB    | ##################################### | 100% \n",
      "flask-1.1.2          | 70 KB     | ##################################### | 100% \n",
      "numexpr-2.8.1        | 120 KB    | ##################################### | 100% \n",
      "pylint-2.12.2        | 537 KB    | ##################################### | 100% \n",
      "numpy-1.21.2         | 23 KB     | ##################################### | 100% \n",
      "jinja2-2.11.3        | 101 KB    | ##################################### | 100% \n",
      "scipy-1.7.3          | 15.5 MB   | ##################################### | 100% \n",
      "mkl-service-2.4.0    | 44 KB     | ##################################### | 100% \n",
      "astroid-2.9.0        | 335 KB    | ##################################### | 100% \n",
      "Preparing transaction: done\n",
      "Verifying transaction: failed\n",
      "\n",
      "RemoveError: 'requests' is a dependency of conda and cannot be removed from\n",
      "conda's operating environment.\n",
      "RemoveError: 'setuptools' is a dependency of conda and cannot be removed from\n",
      "conda's operating environment.\n",
      "\n"
     ]
    }
   ],
   "source": [
    "!conda install -c plotly plotly-orca --yes"
   ]
  },
  {
   "cell_type": "code",
   "execution_count": 40,
   "metadata": {
    "colab": {
     "base_uri": "https://localhost:8080/"
    },
    "id": "inCAKYwRUEki",
    "outputId": "8fdfbc28-8b10-40de-85bd-8c00710fab98"
   },
   "outputs": [],
   "source": [
    "!npm install -g electron@6.1.4 orca --unsafe-perm=true --allow-root\n",
    "#!apt-get install xvfb libgtk2.0-0 libgconf-2-4"
   ]
  },
  {
   "cell_type": "code",
   "execution_count": 42,
   "metadata": {
    "colab": {
     "base_uri": "https://localhost:8080/"
    },
    "id": "inCAKYwRUEki",
    "outputId": "8fdfbc28-8b10-40de-85bd-8c00710fab98"
   },
   "outputs": [],
   "source": [
    "!chmod +x /Users/kylehamilton/.nvm/versions/node/v10.0.0/bin/orca"
   ]
  },
  {
   "cell_type": "code",
   "execution_count": 41,
   "metadata": {
    "colab": {
     "base_uri": "https://localhost:8080/"
    },
    "id": "9iKXOV94rc1g",
    "outputId": "4be8df3c-2494-4190-c644-dde18a6a8199"
   },
   "outputs": [
    {
     "name": "stdout",
     "output_type": "stream",
     "text": [
      "/Users/kylehamilton/.nvm/versions/node/v10.0.0/bin/orca\n"
     ]
    }
   ],
   "source": [
    "!which orca"
   ]
  },
  {
   "cell_type": "code",
   "execution_count": null,
   "metadata": {
    "colab": {
     "base_uri": "https://localhost:8080/"
    },
    "id": "9iKXOV94rc1g",
    "outputId": "4be8df3c-2494-4190-c644-dde18a6a8199"
   },
   "outputs": [
    {
     "name": "stdout",
     "output_type": "stream",
     "text": [
      "Mounted at /content/drive\n"
     ]
    }
   ],
   "source": [
    "from google.colab import drive\n",
    "drive.mount('/content/drive')"
   ]
  },
  {
   "cell_type": "markdown",
   "metadata": {
    "id": "YVIzxtLYwYnB"
   },
   "source": [
    "# Imports and data"
   ]
  },
  {
   "cell_type": "code",
   "execution_count": 43,
   "metadata": {
    "id": "GDHuRZ0_bY9O"
   },
   "outputs": [],
   "source": [
    "import pandas as pd\n",
    "import re\n",
    "import numpy as np\n",
    "\n",
    "promises=pd.read_csv(\"Data/Final_41 - Promises.csv\")\n",
    "protocol=pd.read_csv(\"Data/Final_41 - Protocol.csv\")\n",
    "\n",
    "promises = promises.loc[promises['eliminate'] != 1].reset_index()\n",
    "protocol = protocol.loc[protocol['eliminate'] != 1].reset_index()\n"
   ]
  },
  {
   "cell_type": "code",
   "execution_count": 44,
   "metadata": {
    "colab": {
     "base_uri": "https://localhost:8080/"
    },
    "id": "XGw7GsWxzy_h",
    "outputId": "5b58aac6-26d2-45a5-e822-f6ca62ea9e30"
   },
   "outputs": [
    {
     "data": {
      "text/plain": [
       "Index(['index', 'ID', 'citation', 'Title', 'Nesy Category',\n",
       "       'leverages natural language structure',\n",
       "       'leverages relational structure (KG)', 'Knowledge representation',\n",
       "       'Neural term categories', 'logic vs rules', 'implicit vs explicit',\n",
       "       'reasoning', 'out-of-distribution generalization', 'interpretability',\n",
       "       'reduced data', 'transferability',\n",
       "       'NeSy (check if the authors label their work as NeSy)', 'performance',\n",
       "       'computational cost', 'comments', 'eliminate'],\n",
       "      dtype='object')"
      ]
     },
     "execution_count": 44,
     "metadata": {},
     "output_type": "execute_result"
    }
   ],
   "source": [
    "promises.columns"
   ]
  },
  {
   "cell_type": "code",
   "execution_count": 45,
   "metadata": {
    "colab": {
     "base_uri": "https://localhost:8080/"
    },
    "id": "AX9Khjt00_X1",
    "outputId": "3ea61df9-17a3-4407-c0ce-00a95bfec1ed"
   },
   "outputs": [
    {
     "data": {
      "text/plain": [
       "Index(['index', 'Doc type', 'Researcher', 'citation', 'Title',\n",
       "       'Scopus Hash ID', 'DOI', 'Journal/Conference', 'Year',\n",
       "       'Business Use Case', 'Technical Application', 'Type of Learning',\n",
       "       'Key-intake', 'Contribution', 'Authors Definition of NeSy',\n",
       "       'Symbolic terms', 'Neural terms', 'NeSy Category', 'Kautz category',\n",
       "       'Datasets', 'Model description', 'Evaluation Metrics', 'Reported Score',\n",
       "       'Study Quality', 'Comments', 'MISC', 'eliminate', 'Unnamed: 26',\n",
       "       'Unnamed: 27'],\n",
       "      dtype='object')"
      ]
     },
     "execution_count": 45,
     "metadata": {},
     "output_type": "execute_result"
    }
   ],
   "source": [
    "protocol.columns"
   ]
  },
  {
   "cell_type": "code",
   "execution_count": 46,
   "metadata": {
    "id": "FrFZ3Uju1ELg"
   },
   "outputs": [],
   "source": [
    "protocol = protocol[['citation','Business Use Case',\n",
    "       'Technical Application', 'Type of Learning','Symbolic terms',\n",
    "       'Neural terms', 'NeSy Category', 'Kautz category', 'Datasets',\n",
    "       'Study Quality']]"
   ]
  },
  {
   "cell_type": "code",
   "execution_count": 47,
   "metadata": {
    "id": "Ynooz82t1VAH"
   },
   "outputs": [],
   "source": [
    "df=pd.merge(promises, protocol, on=\"citation\", how='inner')\n",
    "df=df.reset_index()"
   ]
  },
  {
   "cell_type": "code",
   "execution_count": 48,
   "metadata": {
    "id": "w9B4hmOY2GK7"
   },
   "outputs": [],
   "source": [
    "layers=['nesy_category','leverage','kr','implicit_expilit','goals','biz_case','tech_app','learning_type','symb_terms','neural_terms','neural_sup_terms','kautz_cat']"
   ]
  },
  {
   "cell_type": "code",
   "execution_count": 49,
   "metadata": {
    "id": "g9OuoQOwRWus"
   },
   "outputs": [],
   "source": [
    "#df"
   ]
  },
  {
   "cell_type": "code",
   "execution_count": 50,
   "metadata": {
    "colab": {
     "base_uri": "https://localhost:8080/"
    },
    "id": "_E6vl4dT6I6f",
    "outputId": "95501fe4-ec44-410c-e747-4fadf216962a"
   },
   "outputs": [
    {
     "name": "stdout",
     "output_type": "stream",
     "text": [
      "'recursive neural network (RNN)':17,\n",
      "'':18,\n",
      "'reinforcement learning (RL)':19,\n",
      "'recursive neural knowledge network (RNKN)':20,\n",
      "'attention network (BERT)':21,\n",
      "'curriculum learning':22,\n",
      "'logic tensor network (LTN)':23,\n",
      "'graph neural network (GNN)':24,\n",
      "'attention network':25,\n",
      "'neuroevolution (NE)':26,\n",
      "'recurrent neural network (RNN)':27,\n",
      "'deep belief network (DBN)':28,\n",
      "'neural network (NN)':29,\n",
      "'transformer':30,\n",
      "'Tensor Product Representation':31,\n",
      "'Memory Network':32,\n",
      "'SVM':33,\n",
      "'convolutional neural network (CNN)':34,\n"
     ]
    }
   ],
   "source": [
    "i=17\n",
    "terms=[]\n",
    "for t in df['Neural terms'].unique():\n",
    "  _terms = t.split('\\n')\n",
    "  for term in _terms:\n",
    "    term=term.split(',')[0]\n",
    "    terms.append(term)\n",
    "for t in set(terms):\n",
    "  print(\"'\"+t+\"':\"+str(i)+\",\")\n",
    "  i+=1    "
   ]
  },
  {
   "cell_type": "code",
   "execution_count": 51,
   "metadata": {
    "colab": {
     "base_uri": "https://localhost:8080/"
    },
    "id": "QsmKtOc29C_G",
    "outputId": "dff9c4e2-b0aa-4cdf-de0a-80b72fec070e"
   },
   "outputs": [
    {
     "name": "stdout",
     "output_type": "stream",
     "text": [
      "'graph reasoning':35,\n",
      "'transductive learning':36,\n",
      "'knowledge graph (KG)':37,\n",
      "'logic tensor network (LTN)':38,\n",
      "'relational logic':39,\n",
      "'Tensor Product Representation':40,\n",
      "'fuzzy logic':41,\n",
      "'ontology':42,\n",
      "'rule induction':43,\n",
      "'predicate logic':44,\n",
      "'graph representation':45,\n",
      "'position reasoning':46,\n",
      "'Huffman tree':47,\n",
      "'semantic parsing':48,\n",
      "'first order logic (FOL)':49,\n",
      "'symbolic learner':50,\n",
      "'program synthesis':51,\n",
      "'semantic enrichment':52,\n",
      "'rule based':53,\n",
      "'statistical relational learning (SLR':54,\n",
      "'grounding':55,\n",
      "'cognitive linguistics':56,\n",
      "'case based reasoning (CBR)':57,\n",
      "'domain specific language (DSL)':58,\n",
      "'semantic net':59,\n",
      "'constituency parsing':60,\n",
      "'mamdani fuzzy system (MFS)':61,\n",
      "'fuzzy neural network (FNN)':62,\n",
      "'logical connectives':63,\n",
      "'dependency parsing':64,\n",
      "'fuzzy rules':65,\n",
      "'Neutrosophy':66,\n",
      "'sememe':67,\n",
      "'Sequencial decision making':68,\n",
      "'symbolic processing':69,\n",
      "'logic':70,\n",
      "'ConceptNet KG':71,\n",
      "'commonsense knowledge':72,\n",
      "'symbolic node embedding':73,\n",
      "'propositionalization':74,\n",
      "'deduction':75,\n",
      "'symbolic representations':76,\n",
      "'binding problem':77,\n"
     ]
    }
   ],
   "source": [
    "i=35\n",
    "terms=[]\n",
    "for t in df['Symbolic terms'].unique():\n",
    "  _terms = t.split('\\n')\n",
    "  for term in _terms:\n",
    "    term=term.split(',')[0]\n",
    "    terms.append(term)\n",
    "for t in set(terms):\n",
    "  print(\"'\"+t+\"':\"+str(i)+\",\")\n",
    "  i+=1"
   ]
  },
  {
   "cell_type": "code",
   "execution_count": 52,
   "metadata": {
    "colab": {
     "base_uri": "https://localhost:8080/"
    },
    "id": "ITqvFrBh8lEP",
    "outputId": "7a5d5469-0450-43ed-86e6-881bd3105395"
   },
   "outputs": [
    {
     "name": "stdout",
     "output_type": "stream",
     "text": [
      "'information extraction':78,\n",
      "'classification':79,\n",
      "'multi-label (371 labels) probalities':80,\n",
      "'recommendation':81,\n",
      "'generative':82,\n",
      "'reasoning':83,\n"
     ]
    }
   ],
   "source": [
    "i=78\n",
    "terms=[]\n",
    "for t in df['Technical Application'].unique():\n",
    "  _terms = t.split('\\n')\n",
    "  for term in _terms:\n",
    "    term=term.split(',')[0]\n",
    "    terms.append(term)\n",
    "for t in set(terms):\n",
    "  print(\"'\"+t+\"':\"+str(i)+\",\")\n",
    "  i+=1"
   ]
  },
  {
   "cell_type": "code",
   "execution_count": 53,
   "metadata": {
    "colab": {
     "base_uri": "https://localhost:8080/"
    },
    "id": "MN8SznEN-OQi",
    "outputId": "c1cb0669-b2d5-4caf-c8d0-504c8c879db7"
   },
   "outputs": [
    {
     "name": "stdout",
     "output_type": "stream",
     "text": [
      "'unsupervised':84,\n",
      "'supervised':85,\n",
      "'reinforcement ':86,\n",
      "'semi-supervised':87,\n"
     ]
    }
   ],
   "source": [
    "# df['Type of Learning'].unique()\n",
    "i=84\n",
    "terms=[]\n",
    "for t in df['Type of Learning'].unique():\n",
    "  _terms = t.split('\\n')\n",
    "  for term in _terms:\n",
    "    term=term.split(',')[0]\n",
    "    terms.append(term)\n",
    "for t in set(terms):\n",
    "  print(\"'\"+t+\"':\"+str(i)+\",\")\n",
    "  i+=1"
   ]
  },
  {
   "cell_type": "code",
   "execution_count": 54,
   "metadata": {
    "colab": {
     "base_uri": "https://localhost:8080/"
    },
    "id": "MkIKLpyH-wYm",
    "outputId": "04a2d0e8-c198-4110-ff68-8ba474bbb352"
   },
   "outputs": [
    {
     "name": "stdout",
     "output_type": "stream",
     "text": [
      "'Information extraction':88,\n",
      "'Fact verification':89,\n",
      "'Sentiment analysis':90,\n",
      "'Cause-effect Identification':91,\n",
      "'Question answering':92,\n",
      "'Translation':93,\n",
      "'Decision making':94,\n",
      "'Text summarization':95,\n",
      "'Text classification':96,\n",
      "'KG Completion / link prediction':97,\n",
      "'Textual reasoning':98,\n",
      "'Image captioning':99,\n",
      "'Relation extraction':100,\n",
      "'Topic modeling / categorization':101,\n",
      "'Annotation':102,\n",
      "'Analogical reasoning':103,\n",
      "'Dialog system':104,\n"
     ]
    }
   ],
   "source": [
    "# df['Business Use Case'].unique()\n",
    "i=88\n",
    "terms=[]\n",
    "for t in df['Business Use Case'].unique():\n",
    "  _terms = t.split('\\n')\n",
    "  for term in _terms:\n",
    "    term=term.split(',')[0]\n",
    "    terms.append(term)\n",
    "for t in set(terms):\n",
    "  print(\"'\"+t+\"':\"+str(i)+\",\")\n",
    "  i+=1"
   ]
  },
  {
   "cell_type": "code",
   "execution_count": 55,
   "metadata": {
    "colab": {
     "base_uri": "https://localhost:8080/"
    },
    "id": "QJO_R_DbbP7I",
    "outputId": "b363711a-45a5-439e-f8a3-9b9931178654"
   },
   "outputs": [
    {
     "name": "stdout",
     "output_type": "stream",
     "text": [
      "'5. Neuro_Symbolic':109,\n",
      "'3. Neuro; Symbolic':110,\n",
      "'1. symbolic Neuro symbolic':111,\n",
      "'4. Neuro: Symbolic → Neuro':112,\n",
      "'2. Symbolic[Neuro]':113,\n"
     ]
    }
   ],
   "source": [
    "# df['Business Use Case'].unique()\n",
    "i=109\n",
    "terms=[]\n",
    "for t in df['Kautz category'].unique():\n",
    "  _terms = t.split('\\n')\n",
    "  for term in _terms:\n",
    "    term=term.split(',')[0]\n",
    "    terms.append(term)\n",
    "for t in set(terms):\n",
    "  print(\"'\"+t+\"':\"+str(i)+\",\")\n",
    "  i+=1"
   ]
  },
  {
   "cell_type": "code",
   "execution_count": 56,
   "metadata": {
    "id": "SZoAiahFUujz"
   },
   "outputs": [],
   "source": [
    "cat_var_lookup = {\n",
    "'sequential':1, 'compiled':2, 'cooperative':3, 'nested':4,\n",
    "\n",
    "'leverages natural language structure':5,'leverages relational structure (KG)':6,\n",
    "\n",
    "'rules':7,'logical':8,'frames':9,'semantic network':10,\n",
    "\n",
    "'implicit (knowledge is embedded)':11,'explicit (knowledge is represented symbolically)': 12,\n",
    "\n",
    "'reasoning':13,'out-of-distribution generalization':14, 'interpretability':15, 'reduced data':16,'transferability':17,\n",
    "\n",
    "'deep belief network (DBN)':18,\n",
    "'curriculum learning':19,\n",
    "'attention network (BERT)':20,\n",
    "'neural network (NN)':21,\n",
    "'recurrent neural network (RNN)':22,\n",
    "'logic tensor network (LTN)':23,\n",
    "'convolutional neural network (CNN)':24,\n",
    "'SVM':25,\n",
    "'neuroevolution (NE)':26,\n",
    "'graph neural network (GNN)':27,\n",
    "'recursive neural knowledge network (RNKN)':28,\n",
    "'attention network':29,\n",
    "'recursive neural network (RNN)':30,\n",
    "'Memory Network':31,\n",
    "'reinforcement learning (RL)':32,\n",
    "'Tensor Product Representation':33,\n",
    "'transformer':34,\n",
    "\n",
    "'case based reasoning (CBR)':35,\n",
    "'ConceptNet KG':36,\n",
    "'grounding':37,\n",
    "'ontology':38,\n",
    "'rule induction':39,\n",
    "'logic tensor network (LTN)':40,\n",
    "'symbolic node embedding':41,\n",
    "'transductive learning':42,\n",
    "'fuzzy rules':43,\n",
    "'binding problem':44,\n",
    "'semantic net':45,\n",
    "'dependency parsing':46,\n",
    "'Neutrosophy':47,\n",
    "'deduction':48,\n",
    "'commonsense knowledge':49,\n",
    "'Huffman tree':50,\n",
    "'propositionalization':51,\n",
    "'relational logic':52,\n",
    "'knowledge graph (KG)':53,\n",
    "'rule based':54,\n",
    "'fuzzy neural network (FNN)':55,\n",
    "'semantic parsing':56,\n",
    "'fuzzy logic':57,\n",
    "'mamdani fuzzy system (MFS)':58,\n",
    "'sememe':59,\n",
    "'graph representation':60,\n",
    "'logic':61,\n",
    "'first order logic (FOL)':62,\n",
    "'symbolic processing':63,\n",
    "'Tensor Product Representation':64,\n",
    "'logical connectives':65,\n",
    "'constituency parsing':66,\n",
    "'graph reasoning':67,\n",
    "'semantic enrichment':68,\n",
    "'predicate logic':69,\n",
    "'position reasoning':70,\n",
    "'cognitive linguistics':71,\n",
    "'symbolic representations':72,\n",
    "'program synthesis':73,\n",
    "'Sequencial decision making':74,\n",
    "'statistical relational learning (SLR':75,\n",
    "'symbolic learner':76,\n",
    "'domain specific language (DSL)':77,\n",
    "\n",
    "'reasoning':78,\n",
    "'classification':79,\n",
    "'generative':80,\n",
    "'information extraction':81,\n",
    "'recommendation':82,\n",
    "'multi-label (371 labels) probalities':83,\n",
    "\n",
    "'semi-supervised':84,\n",
    "'unsupervised':85,\n",
    "'supervised':86,\n",
    "'reinforcement ':87,\n",
    "\n",
    "'Text classification':88,\n",
    "'Fact verification':89,\n",
    "'Analogical reasoning':90,\n",
    "'Question answering':91,\n",
    "'Cause-effect Identification':92,\n",
    "'Sentiment analysis':93,\n",
    "'KG Completion / link prediction':94,\n",
    "'Image captioning':95,\n",
    "'Translation':96,\n",
    "'Relation extraction':97,\n",
    "'Textual reasoning':98,\n",
    "'Text summarization':99,\n",
    "'Topic modeling / categorization':100,\n",
    "'Information extraction':101,\n",
    "'Annotation':102,\n",
    "'Decision making':103,\n",
    "'Dialog system':104,\n",
    "'Stacked Hidden Layers':105,'Euclidean Space':106,'Sequence-to-Sequence':107,'Neuro-Symbolic':108,\n",
    "'3. Neuro; Symbolic':109,\n",
    "'4. Neuro: Symbolic → Neuro':110,\n",
    "'2. Symbolic[Neuro]':111,\n",
    "'1. symbolic Neuro symbolic':112,\n",
    "'5. Neuro_Symbolic':113\n",
    "}\n",
    "var_cat_lookup = {v: k for k, v in cat_var_lookup.items()}"
   ]
  },
  {
   "cell_type": "code",
   "execution_count": 57,
   "metadata": {
    "colab": {
     "base_uri": "https://localhost:8080/"
    },
    "id": "ADjoG7oHJzQF",
    "outputId": "07b420d6-ba02-4ef5-ccdd-1b554873efd7"
   },
   "outputs": [
    {
     "data": {
      "text/plain": [
       "{1: 'sequential',\n",
       " 2: 'compiled',\n",
       " 3: 'cooperative',\n",
       " 4: 'nested',\n",
       " 5: 'leverages natural language structure',\n",
       " 6: 'leverages relational structure (KG)',\n",
       " 7: 'rules',\n",
       " 8: 'logical',\n",
       " 9: 'frames',\n",
       " 10: 'semantic network',\n",
       " 11: 'implicit (knowledge is embedded)',\n",
       " 12: 'explicit (knowledge is represented symbolically)',\n",
       " 78: 'reasoning',\n",
       " 14: 'out-of-distribution generalization',\n",
       " 15: 'interpretability',\n",
       " 16: 'reduced data',\n",
       " 17: 'transferability',\n",
       " 18: 'deep belief network (DBN)',\n",
       " 19: 'curriculum learning',\n",
       " 20: 'attention network (BERT)',\n",
       " 21: 'neural network (NN)',\n",
       " 22: 'recurrent neural network (RNN)',\n",
       " 40: 'logic tensor network (LTN)',\n",
       " 24: 'convolutional neural network (CNN)',\n",
       " 25: 'SVM',\n",
       " 26: 'neuroevolution (NE)',\n",
       " 27: 'graph neural network (GNN)',\n",
       " 28: 'recursive neural knowledge network (RNKN)',\n",
       " 29: 'attention network',\n",
       " 30: 'recursive neural network (RNN)',\n",
       " 31: 'Memory Network',\n",
       " 32: 'reinforcement learning (RL)',\n",
       " 64: 'Tensor Product Representation',\n",
       " 34: 'transformer',\n",
       " 35: 'case based reasoning (CBR)',\n",
       " 36: 'ConceptNet KG',\n",
       " 37: 'grounding',\n",
       " 38: 'ontology',\n",
       " 39: 'rule induction',\n",
       " 41: 'symbolic node embedding',\n",
       " 42: 'transductive learning',\n",
       " 43: 'fuzzy rules',\n",
       " 44: 'binding problem',\n",
       " 45: 'semantic net',\n",
       " 46: 'dependency parsing',\n",
       " 47: 'Neutrosophy',\n",
       " 48: 'deduction',\n",
       " 49: 'commonsense knowledge',\n",
       " 50: 'Huffman tree',\n",
       " 51: 'propositionalization',\n",
       " 52: 'relational logic',\n",
       " 53: 'knowledge graph (KG)',\n",
       " 54: 'rule based',\n",
       " 55: 'fuzzy neural network (FNN)',\n",
       " 56: 'semantic parsing',\n",
       " 57: 'fuzzy logic',\n",
       " 58: 'mamdani fuzzy system (MFS)',\n",
       " 59: 'sememe',\n",
       " 60: 'graph representation',\n",
       " 61: 'logic',\n",
       " 62: 'first order logic (FOL)',\n",
       " 63: 'symbolic processing',\n",
       " 65: 'logical connectives',\n",
       " 66: 'constituency parsing',\n",
       " 67: 'graph reasoning',\n",
       " 68: 'semantic enrichment',\n",
       " 69: 'predicate logic',\n",
       " 70: 'position reasoning',\n",
       " 71: 'cognitive linguistics',\n",
       " 72: 'symbolic representations',\n",
       " 73: 'program synthesis',\n",
       " 74: 'Sequencial decision making',\n",
       " 75: 'statistical relational learning (SLR',\n",
       " 76: 'symbolic learner',\n",
       " 77: 'domain specific language (DSL)',\n",
       " 79: 'classification',\n",
       " 80: 'generative',\n",
       " 81: 'information extraction',\n",
       " 82: 'recommendation',\n",
       " 83: 'multi-label (371 labels) probalities',\n",
       " 84: 'semi-supervised',\n",
       " 85: 'unsupervised',\n",
       " 86: 'supervised',\n",
       " 87: 'reinforcement ',\n",
       " 88: 'Text classification',\n",
       " 89: 'Fact verification',\n",
       " 90: 'Analogical reasoning',\n",
       " 91: 'Question answering',\n",
       " 92: 'Cause-effect Identification',\n",
       " 93: 'Sentiment analysis',\n",
       " 94: 'KG Completion / link prediction',\n",
       " 95: 'Image captioning',\n",
       " 96: 'Translation',\n",
       " 97: 'Relation extraction',\n",
       " 98: 'Textual reasoning',\n",
       " 99: 'Text summarization',\n",
       " 100: 'Topic modeling / categorization',\n",
       " 101: 'Information extraction',\n",
       " 102: 'Annotation',\n",
       " 103: 'Decision making',\n",
       " 104: 'Dialog system',\n",
       " 105: 'Stacked Hidden Layers',\n",
       " 106: 'Euclidean Space',\n",
       " 107: 'Sequence-to-Sequence',\n",
       " 108: 'Neuro-Symbolic',\n",
       " 109: '3. Neuro; Symbolic',\n",
       " 110: '4. Neuro: Symbolic → Neuro',\n",
       " 111: '2. Symbolic[Neuro]',\n",
       " 112: '1. symbolic Neuro symbolic',\n",
       " 113: '5. Neuro_Symbolic'}"
      ]
     },
     "execution_count": 57,
     "metadata": {},
     "output_type": "execute_result"
    }
   ],
   "source": [
    "var_cat_lookup"
   ]
  },
  {
   "cell_type": "markdown",
   "metadata": {
    "id": "27o0NWYaQIAt"
   },
   "source": [
    "# Code"
   ]
  },
  {
   "cell_type": "code",
   "execution_count": 58,
   "metadata": {
    "id": "HnmA4iVHCt50"
   },
   "outputs": [],
   "source": [
    "# generate data structures for sanky by combining columns from df\n",
    "\n",
    "cols=list(df.columns)\n",
    "\n",
    "# Sanky layers (these don't have to be Series, it's a leagcy idea)\n",
    "nesy_category = pd.Series([],dtype = 'object')\n",
    "kautz_cat = pd.Series([],dtype = 'object')\n",
    "leverage = pd.Series([],dtype = 'object')\n",
    "kr = pd.Series([],dtype = 'object')\n",
    "implicit_expilit = pd.Series([],dtype = 'object')\n",
    "goals = pd.Series([],dtype = 'object')\n",
    "biz_case = pd.Series([],dtype = 'object')\n",
    "tech_app = pd.Series([],dtype = 'object')\n",
    "learning_type = pd.Series([],dtype = 'object')\n",
    "symb_terms = pd.Series([],dtype = 'object')\n",
    "neural_terms = pd.Series([],dtype = 'object')\n",
    "neural_sup_terms = pd.Series([],dtype = 'object')\n",
    "\n",
    "for row in df.itertuples():\n",
    "  nesy_category[len(nesy_category)] = [cat_var_lookup[row[cols.index('Nesy Category')+1]]]\n",
    "  kautz_cat[len(kautz_cat)] =         [cat_var_lookup[row[cols.index('Kautz category')+1]]]\n",
    "\n",
    "  #leverage\n",
    "  _leverage = []\n",
    "  if row[cols.index('leverages natural language structure')+1]:\n",
    "    _leverage.append(cat_var_lookup['leverages natural language structure'])\n",
    "  if row[cols.index('leverages relational structure (KG)')+1]:\n",
    "    _leverage.append(cat_var_lookup['leverages relational structure (KG)'])  \n",
    "  leverage[len(leverage)]=_leverage\n",
    "\n",
    "  #knowledge representation\n",
    "  _kr = []\n",
    "  if type(row[cols.index('Knowledge representation')+1]) == str:\n",
    "    vals=row[cols.index('Knowledge representation')+1].split('\\n')\n",
    "    for v in vals:\n",
    "      v=v.split(',')[0]\n",
    "      _kr.append(cat_var_lookup[v])\n",
    "    kr[len(kr)] = _kr \n",
    "  else:kr[len(kr)]=[]\n",
    "   \n",
    "  #implicit_expilit\n",
    "  _implicit_expilit = []\n",
    "  if type(row[cols.index('implicit vs explicit')+1]) == str:\n",
    "    vals=row[cols.index('implicit vs explicit')+1].split('\\n')\n",
    "    for v in vals:\n",
    "      v=v.split(',')[0]\n",
    "      _implicit_expilit.append(cat_var_lookup[v])\n",
    "    implicit_expilit[len(implicit_expilit)] = _implicit_expilit\n",
    "  else:implicit_expilit[len(implicit_expilit)]=[]\n",
    "\n",
    "  #goals\n",
    "  goalstrings=['reasoning', 'out-of-distribution generalization', 'interpretability', 'reduced data', 'transferability']\n",
    "  _goals=[]\n",
    "  for gstr in goalstrings:\n",
    "    # print(row[cols.index(gstr)+1])\n",
    "    if row[cols.index(gstr)+1]:\n",
    "      _goals.append(cat_var_lookup[gstr])\n",
    "  goals[len(goals)] = _goals\n",
    "\n",
    "\n",
    "  #business use case\n",
    "  _biz_case=[]\n",
    "  if type(row[cols.index('Business Use Case')+1]) == str:\n",
    "    vals=row[cols.index('Business Use Case')+1].split('\\n')\n",
    "    for v in vals:\n",
    "      v=v.split(',')[0]\n",
    "      _biz_case.append(cat_var_lookup[v])\n",
    "    biz_case[len(biz_case)] = _biz_case \n",
    "  else:biz_case[len(biz_case)]=[]\n",
    "\n",
    "\n",
    "  #Technical Application\n",
    "  _tech_app=[]\n",
    "  if type(row[cols.index('Technical Application')+1]) == str:\n",
    "    vals=row[cols.index('Technical Application')+1].split('\\n')\n",
    "    for v in vals:\n",
    "      v=v.split(',')[0]\n",
    "      _tech_app.append(cat_var_lookup[v])\n",
    "    tech_app[len(tech_app)] = _tech_app\n",
    "  else:tech_app[len(tech_app)]=[]\n",
    "\n",
    "\n",
    "  #Learning_type\n",
    "  _learning_type=[]\n",
    "  if type(row[cols.index('Type of Learning')+1]) == str:\n",
    "    vals=row[cols.index('Type of Learning')+1].split('\\n')\n",
    "    for v in vals:\n",
    "      v=v.split(',')[0]\n",
    "      _learning_type.append(cat_var_lookup[v])\n",
    "    learning_type[len(learning_type)] = _learning_type\n",
    "  else:learning_type[len(learning_type)]=[]\n",
    "\n",
    "  #symb_terms\n",
    "  _symb_terms=[]\n",
    "  if type(row[cols.index('Symbolic terms')+1]) == str:\n",
    "    vals=row[cols.index('Symbolic terms')+1].split('\\n')\n",
    "    for v in vals:\n",
    "      v=v.split(',')[0]\n",
    "      _symb_terms.append(cat_var_lookup[v])\n",
    "    symb_terms[len(symb_terms)] = _symb_terms\n",
    "  else:symb_terms[len(symb_terms)]=[]\n",
    "\n",
    "  #neural_terms\n",
    "  _neural_terms=[]\n",
    "  if type(row[cols.index('Neural terms')+1]) == str:\n",
    "    vals=row[cols.index('Neural terms')+1].split('\\n')\n",
    "    for v in vals:\n",
    "      v=v.split(',')[0]\n",
    "      try:\n",
    "        _neural_terms.append(cat_var_lookup[v])\n",
    "      except:\n",
    "        pass  \n",
    "    neural_terms[len(neural_terms)] = _neural_terms\n",
    "  else:neural_terms[len(neural_terms)]=[]\n",
    "\n",
    "\n",
    "  # neural_sup_terms\n",
    "  neural_sup_terms_dict={\n",
    "  'Stacked Hidden Layers':['deep belief network (DBN)','neural network (NN)'],\n",
    "  'Euclidean Space':      ['convolutional neural network (CNN)','graph neural network (GNN)'],\n",
    "  'Sequence-to-Sequence': ['recurrent neural network (RNN)','recursive neural network (RNN)','transformer','neuroevolution (NE)','attention network (BERT)','Memory Network'],\n",
    "  'Neuro-Symbolic':       ['logic tensor network (LTN)','recursive neural knowledge network (RNKN)','Tensor Product Representation']}\n",
    "  \n",
    "  \n",
    "  # 'deep belief network (DBN)':18,\n",
    "  # 'neural network (NN)':21,\n",
    "\n",
    "  # 'convolutional neural network (CNN)':24,\n",
    "  # 'graph neural network (GNN)':27,\n",
    "\n",
    "  # 'recurrent neural network (RNN)':22,\n",
    "  # 'recursive neural network (RNN)':30,\n",
    "  # 'transformer':34,\n",
    "  # 'neuroevolution (NE)':26,\n",
    "  # 'attention network (BERT)':20,\n",
    "  # 'attention network':29,\n",
    "  # 'Memory Network':31,\n",
    "  \n",
    "  # 'logic tensor network (LTN)':23,\n",
    "  # 'recursive neural knowledge network (RNKN)':28,\n",
    "  # 'Tensor Product Representation':33,\n",
    "  \n",
    "  # 'SVM':25,\n",
    "  # 'reinforcement learning (RL)':32,\n",
    "  # 'curriculum learning':19,\n",
    "\n",
    "\n",
    "  _neural_sup_terms=[]\n",
    "  for key in neural_sup_terms_dict.keys():\n",
    "    # print(key,val)\n",
    "\n",
    "    vals=row[cols.index('Neural terms')+1].split('\\n')\n",
    "    for v in vals:\n",
    "      v=v.split(',')[0]\n",
    "      try:\n",
    "        if v in neural_sup_terms_dict[key]:\n",
    "          _neural_sup_terms.append(cat_var_lookup[key])\n",
    "      except:\n",
    "        pass  \n",
    "  neural_sup_terms[len(neural_sup_terms)] = _neural_sup_terms\n",
    "\n"
   ]
  },
  {
   "cell_type": "code",
   "execution_count": 59,
   "metadata": {
    "id": "ouDMcycqkb8B"
   },
   "outputs": [],
   "source": [
    "# make links based on above data structures\n",
    "from collections import defaultdict\n",
    "\n",
    "def generateLinks(columns,palette):\n",
    "  links=[]\n",
    "  epsilon = 1.0e-10 #prevent division by zero\n",
    "\n",
    "  \n",
    "  # flatten_matrix = [val for sublist in matrix for val in sublist]\n",
    "  source_variables = set([e for el in columns[0] for e in el]) \n",
    "  colors_dict = defaultdict()\n",
    "  for i,c in enumerate(source_variables):\n",
    "    colors_dict[c]=palette[i]\n",
    "\n",
    "  for row_idx in range(len(columns[0])):\n",
    "    for col_idx in range(len(columns)-1):\n",
    "      sources = columns[col_idx][row_idx]\n",
    "\n",
    "      for source in sources:\n",
    "        # always use the color from the first column\n",
    "        if col_idx == 0:\n",
    "          color = colors_dict[source]\n",
    "        # 1 / epsilon + (length of sourse * length of target)\n",
    "        weight = 1/(epsilon+len(columns[col_idx][row_idx])*len(columns[col_idx+1][row_idx]))\n",
    "\n",
    "        targets = columns[col_idx+1][row_idx]\n",
    "        for target in targets:\n",
    "          links.append((source, target, weight, color))\n",
    "\n",
    "\n",
    "  return(np.array(links))"
   ]
  },
  {
   "cell_type": "markdown",
   "metadata": {
    "id": "H0jJBtNqSqGB"
   },
   "source": [
    "# Choose your layers and make sanky"
   ]
  },
  {
   "cell_type": "code",
   "execution_count": 60,
   "metadata": {
    "colab": {
     "base_uri": "https://localhost:8080/"
    },
    "id": "uAPmk7ovPcxX",
    "outputId": "87989be3-f043-4d14-f7fa-132dcec0a2d5"
   },
   "outputs": [
    {
     "data": {
      "text/plain": [
       "['nesy_category',\n",
       " 'leverage',\n",
       " 'kr',\n",
       " 'implicit_expilit',\n",
       " 'goals',\n",
       " 'biz_case',\n",
       " 'tech_app',\n",
       " 'learning_type',\n",
       " 'symb_terms',\n",
       " 'neural_terms',\n",
       " 'neural_sup_terms',\n",
       " 'kautz_cat']"
      ]
     },
     "execution_count": 60,
     "metadata": {},
     "output_type": "execute_result"
    }
   ],
   "source": [
    "# Choose from below sanky layers:\n",
    "layers"
   ]
  },
  {
   "cell_type": "code",
   "execution_count": 67,
   "metadata": {
    "id": "dlR-H6DjPbIi"
   },
   "outputs": [],
   "source": [
    "colors=[\"#450256\",\"#89b79f\",\"#2070b4\",\"#57bcd6\"]*10\n",
    "st_links = generateLinks([nesy_category,goals],colors)"
   ]
  },
  {
   "cell_type": "code",
   "execution_count": 68,
   "metadata": {
    "id": "EXkNDUrLkbqD"
   },
   "outputs": [],
   "source": [
    "labels=[None]*120\n",
    "\n",
    "# source labels: set(st_links[:,0:1].flatten())\n",
    "for i in set(st_links[:,0:1].flatten()):\n",
    "  labels[int(i)]=var_cat_lookup[int(i)]\n",
    "\n",
    "\n",
    "# target labels: set(st_links[:,1:2].flatten())\n",
    "for i in set(st_links[:,1:2].flatten()):\n",
    "  labels[int(i)]=var_cat_lookup[int(i)]\n",
    "\n"
   ]
  },
  {
   "cell_type": "markdown",
   "metadata": {
    "id": "4YaRJUWgbRfh"
   },
   "source": []
  },
  {
   "cell_type": "code",
   "execution_count": 69,
   "metadata": {
    "colab": {
     "base_uri": "https://localhost:8080/",
     "height": 517
    },
    "id": "XIiG-fzCIYkg",
    "outputId": "ec68a3c2-3768-4dbe-8ddc-d9a60035999d"
   },
   "outputs": [
    {
     "data": {
      "application/vnd.plotly.v1+json": {
       "config": {
        "plotlyServerURL": "https://plot.ly"
       },
       "data": [
        {
         "link": {
          "color": [
           "#89b79f",
           "#89b79f",
           "#89b79f",
           "#2070b4",
           "#89b79f",
           "#89b79f",
           "#89b79f",
           "#89b79f",
           "#450256",
           "#450256",
           "#89b79f",
           "#89b79f",
           "#89b79f",
           "#89b79f",
           "#57bcd6",
           "#57bcd6",
           "#2070b4",
           "#89b79f",
           "#2070b4",
           "#2070b4",
           "#2070b4",
           "#57bcd6",
           "#57bcd6",
           "#450256",
           "#450256",
           "#450256",
           "#450256",
           "#450256",
           "#450256",
           "#450256",
           "#450256",
           "#450256",
           "#2070b4",
           "#57bcd6",
           "#57bcd6",
           "#57bcd6",
           "#450256",
           "#2070b4",
           "#2070b4",
           "#2070b4",
           "#2070b4",
           "#450256",
           "#89b79f",
           "#89b79f",
           "#89b79f",
           "#89b79f",
           "#89b79f",
           "#89b79f",
           "#57bcd6",
           "#57bcd6"
          ],
          "source": [
           "2",
           "2",
           "2",
           "3",
           "2",
           "2",
           "2",
           "2",
           "1",
           "1",
           "2",
           "2",
           "2",
           "2",
           "4",
           "4",
           "3",
           "2",
           "3",
           "3",
           "3",
           "4",
           "4",
           "1",
           "1",
           "1",
           "1",
           "1",
           "1",
           "1",
           "1",
           "1",
           "3",
           "4",
           "4",
           "4",
           "1",
           "3",
           "3",
           "3",
           "3",
           "1",
           "2",
           "2",
           "2",
           "2",
           "2",
           "2",
           "4",
           "4"
          ],
          "target": [
           "78",
           "14",
           "15",
           "78",
           "14",
           "15",
           "16",
           "17",
           "78",
           "15",
           "78",
           "16",
           "78",
           "15",
           "78",
           "14",
           "78",
           "78",
           "78",
           "15",
           "16",
           "78",
           "17",
           "78",
           "14",
           "16",
           "78",
           "78",
           "16",
           "78",
           "15",
           "78",
           "78",
           "78",
           "16",
           "16",
           "78",
           "78",
           "14",
           "15",
           "16",
           "78",
           "14",
           "16",
           "17",
           "78",
           "15",
           "17",
           "78",
           "14"
          ],
          "value": [
           "0.3333333333222222",
           "0.3333333333222222",
           "0.3333333333222222",
           "0.9999999999",
           "0.24999999999375",
           "0.24999999999375",
           "0.24999999999375",
           "0.24999999999375",
           "0.499999999975",
           "0.499999999975",
           "0.499999999975",
           "0.499999999975",
           "0.499999999975",
           "0.499999999975",
           "0.499999999975",
           "0.499999999975",
           "0.9999999999",
           "0.9999999999",
           "0.3333333333222222",
           "0.3333333333222222",
           "0.3333333333222222",
           "0.499999999975",
           "0.499999999975",
           "0.9999999999",
           "0.499999999975",
           "0.499999999975",
           "0.9999999999",
           "0.499999999975",
           "0.499999999975",
           "0.499999999975",
           "0.499999999975",
           "0.9999999999",
           "0.9999999999",
           "0.499999999975",
           "0.499999999975",
           "0.9999999999",
           "0.9999999999",
           "0.24999999999375",
           "0.24999999999375",
           "0.24999999999375",
           "0.24999999999375",
           "0.9999999999",
           "0.3333333333222222",
           "0.3333333333222222",
           "0.3333333333222222",
           "0.3333333333222222",
           "0.3333333333222222",
           "0.3333333333222222",
           "0.499999999975",
           "0.499999999975"
          ]
         },
         "node": {
          "color": "#333333",
          "label": [
           null,
           "sequential",
           "compiled",
           "cooperative",
           "nested",
           null,
           null,
           null,
           null,
           null,
           null,
           null,
           null,
           null,
           "out-of-distribution generalization",
           "interpretability",
           "reduced data",
           "transferability",
           null,
           null,
           null,
           null,
           null,
           null,
           null,
           null,
           null,
           null,
           null,
           null,
           null,
           null,
           null,
           null,
           null,
           null,
           null,
           null,
           null,
           null,
           null,
           null,
           null,
           null,
           null,
           null,
           null,
           null,
           null,
           null,
           null,
           null,
           null,
           null,
           null,
           null,
           null,
           null,
           null,
           null,
           null,
           null,
           null,
           null,
           null,
           null,
           null,
           null,
           null,
           null,
           null,
           null,
           null,
           null,
           null,
           null,
           null,
           null,
           "reasoning",
           null,
           null,
           null,
           null,
           null,
           null,
           null,
           null,
           null,
           null,
           null,
           null,
           null,
           null,
           null,
           null,
           null,
           null,
           null,
           null,
           null,
           null,
           null,
           null,
           null,
           null,
           null,
           null,
           null,
           null,
           null,
           null,
           null,
           null,
           null,
           null,
           null,
           null,
           null,
           null,
           null
          ],
          "pad": 25,
          "thickness": 10
         },
         "type": "sankey"
        }
       ],
       "layout": {
        "font": {
         "color": "Black",
         "family": "Arial",
         "size": 14
        },
        "height": 500,
        "hovermode": "x",
        "template": {
         "data": {
          "bar": [
           {
            "error_x": {
             "color": "#2a3f5f"
            },
            "error_y": {
             "color": "#2a3f5f"
            },
            "marker": {
             "line": {
              "color": "#E5ECF6",
              "width": 0.5
             },
             "pattern": {
              "fillmode": "overlay",
              "size": 10,
              "solidity": 0.2
             }
            },
            "type": "bar"
           }
          ],
          "barpolar": [
           {
            "marker": {
             "line": {
              "color": "#E5ECF6",
              "width": 0.5
             },
             "pattern": {
              "fillmode": "overlay",
              "size": 10,
              "solidity": 0.2
             }
            },
            "type": "barpolar"
           }
          ],
          "carpet": [
           {
            "aaxis": {
             "endlinecolor": "#2a3f5f",
             "gridcolor": "white",
             "linecolor": "white",
             "minorgridcolor": "white",
             "startlinecolor": "#2a3f5f"
            },
            "baxis": {
             "endlinecolor": "#2a3f5f",
             "gridcolor": "white",
             "linecolor": "white",
             "minorgridcolor": "white",
             "startlinecolor": "#2a3f5f"
            },
            "type": "carpet"
           }
          ],
          "choropleth": [
           {
            "colorbar": {
             "outlinewidth": 0,
             "ticks": ""
            },
            "type": "choropleth"
           }
          ],
          "contour": [
           {
            "colorbar": {
             "outlinewidth": 0,
             "ticks": ""
            },
            "colorscale": [
             [
              0,
              "#0d0887"
             ],
             [
              0.1111111111111111,
              "#46039f"
             ],
             [
              0.2222222222222222,
              "#7201a8"
             ],
             [
              0.3333333333333333,
              "#9c179e"
             ],
             [
              0.4444444444444444,
              "#bd3786"
             ],
             [
              0.5555555555555556,
              "#d8576b"
             ],
             [
              0.6666666666666666,
              "#ed7953"
             ],
             [
              0.7777777777777778,
              "#fb9f3a"
             ],
             [
              0.8888888888888888,
              "#fdca26"
             ],
             [
              1,
              "#f0f921"
             ]
            ],
            "type": "contour"
           }
          ],
          "contourcarpet": [
           {
            "colorbar": {
             "outlinewidth": 0,
             "ticks": ""
            },
            "type": "contourcarpet"
           }
          ],
          "heatmap": [
           {
            "colorbar": {
             "outlinewidth": 0,
             "ticks": ""
            },
            "colorscale": [
             [
              0,
              "#0d0887"
             ],
             [
              0.1111111111111111,
              "#46039f"
             ],
             [
              0.2222222222222222,
              "#7201a8"
             ],
             [
              0.3333333333333333,
              "#9c179e"
             ],
             [
              0.4444444444444444,
              "#bd3786"
             ],
             [
              0.5555555555555556,
              "#d8576b"
             ],
             [
              0.6666666666666666,
              "#ed7953"
             ],
             [
              0.7777777777777778,
              "#fb9f3a"
             ],
             [
              0.8888888888888888,
              "#fdca26"
             ],
             [
              1,
              "#f0f921"
             ]
            ],
            "type": "heatmap"
           }
          ],
          "heatmapgl": [
           {
            "colorbar": {
             "outlinewidth": 0,
             "ticks": ""
            },
            "colorscale": [
             [
              0,
              "#0d0887"
             ],
             [
              0.1111111111111111,
              "#46039f"
             ],
             [
              0.2222222222222222,
              "#7201a8"
             ],
             [
              0.3333333333333333,
              "#9c179e"
             ],
             [
              0.4444444444444444,
              "#bd3786"
             ],
             [
              0.5555555555555556,
              "#d8576b"
             ],
             [
              0.6666666666666666,
              "#ed7953"
             ],
             [
              0.7777777777777778,
              "#fb9f3a"
             ],
             [
              0.8888888888888888,
              "#fdca26"
             ],
             [
              1,
              "#f0f921"
             ]
            ],
            "type": "heatmapgl"
           }
          ],
          "histogram": [
           {
            "marker": {
             "pattern": {
              "fillmode": "overlay",
              "size": 10,
              "solidity": 0.2
             }
            },
            "type": "histogram"
           }
          ],
          "histogram2d": [
           {
            "colorbar": {
             "outlinewidth": 0,
             "ticks": ""
            },
            "colorscale": [
             [
              0,
              "#0d0887"
             ],
             [
              0.1111111111111111,
              "#46039f"
             ],
             [
              0.2222222222222222,
              "#7201a8"
             ],
             [
              0.3333333333333333,
              "#9c179e"
             ],
             [
              0.4444444444444444,
              "#bd3786"
             ],
             [
              0.5555555555555556,
              "#d8576b"
             ],
             [
              0.6666666666666666,
              "#ed7953"
             ],
             [
              0.7777777777777778,
              "#fb9f3a"
             ],
             [
              0.8888888888888888,
              "#fdca26"
             ],
             [
              1,
              "#f0f921"
             ]
            ],
            "type": "histogram2d"
           }
          ],
          "histogram2dcontour": [
           {
            "colorbar": {
             "outlinewidth": 0,
             "ticks": ""
            },
            "colorscale": [
             [
              0,
              "#0d0887"
             ],
             [
              0.1111111111111111,
              "#46039f"
             ],
             [
              0.2222222222222222,
              "#7201a8"
             ],
             [
              0.3333333333333333,
              "#9c179e"
             ],
             [
              0.4444444444444444,
              "#bd3786"
             ],
             [
              0.5555555555555556,
              "#d8576b"
             ],
             [
              0.6666666666666666,
              "#ed7953"
             ],
             [
              0.7777777777777778,
              "#fb9f3a"
             ],
             [
              0.8888888888888888,
              "#fdca26"
             ],
             [
              1,
              "#f0f921"
             ]
            ],
            "type": "histogram2dcontour"
           }
          ],
          "mesh3d": [
           {
            "colorbar": {
             "outlinewidth": 0,
             "ticks": ""
            },
            "type": "mesh3d"
           }
          ],
          "parcoords": [
           {
            "line": {
             "colorbar": {
              "outlinewidth": 0,
              "ticks": ""
             }
            },
            "type": "parcoords"
           }
          ],
          "pie": [
           {
            "automargin": true,
            "type": "pie"
           }
          ],
          "scatter": [
           {
            "marker": {
             "colorbar": {
              "outlinewidth": 0,
              "ticks": ""
             }
            },
            "type": "scatter"
           }
          ],
          "scatter3d": [
           {
            "line": {
             "colorbar": {
              "outlinewidth": 0,
              "ticks": ""
             }
            },
            "marker": {
             "colorbar": {
              "outlinewidth": 0,
              "ticks": ""
             }
            },
            "type": "scatter3d"
           }
          ],
          "scattercarpet": [
           {
            "marker": {
             "colorbar": {
              "outlinewidth": 0,
              "ticks": ""
             }
            },
            "type": "scattercarpet"
           }
          ],
          "scattergeo": [
           {
            "marker": {
             "colorbar": {
              "outlinewidth": 0,
              "ticks": ""
             }
            },
            "type": "scattergeo"
           }
          ],
          "scattergl": [
           {
            "marker": {
             "colorbar": {
              "outlinewidth": 0,
              "ticks": ""
             }
            },
            "type": "scattergl"
           }
          ],
          "scattermapbox": [
           {
            "marker": {
             "colorbar": {
              "outlinewidth": 0,
              "ticks": ""
             }
            },
            "type": "scattermapbox"
           }
          ],
          "scatterpolar": [
           {
            "marker": {
             "colorbar": {
              "outlinewidth": 0,
              "ticks": ""
             }
            },
            "type": "scatterpolar"
           }
          ],
          "scatterpolargl": [
           {
            "marker": {
             "colorbar": {
              "outlinewidth": 0,
              "ticks": ""
             }
            },
            "type": "scatterpolargl"
           }
          ],
          "scatterternary": [
           {
            "marker": {
             "colorbar": {
              "outlinewidth": 0,
              "ticks": ""
             }
            },
            "type": "scatterternary"
           }
          ],
          "surface": [
           {
            "colorbar": {
             "outlinewidth": 0,
             "ticks": ""
            },
            "colorscale": [
             [
              0,
              "#0d0887"
             ],
             [
              0.1111111111111111,
              "#46039f"
             ],
             [
              0.2222222222222222,
              "#7201a8"
             ],
             [
              0.3333333333333333,
              "#9c179e"
             ],
             [
              0.4444444444444444,
              "#bd3786"
             ],
             [
              0.5555555555555556,
              "#d8576b"
             ],
             [
              0.6666666666666666,
              "#ed7953"
             ],
             [
              0.7777777777777778,
              "#fb9f3a"
             ],
             [
              0.8888888888888888,
              "#fdca26"
             ],
             [
              1,
              "#f0f921"
             ]
            ],
            "type": "surface"
           }
          ],
          "table": [
           {
            "cells": {
             "fill": {
              "color": "#EBF0F8"
             },
             "line": {
              "color": "white"
             }
            },
            "header": {
             "fill": {
              "color": "#C8D4E3"
             },
             "line": {
              "color": "white"
             }
            },
            "type": "table"
           }
          ]
         },
         "layout": {
          "annotationdefaults": {
           "arrowcolor": "#2a3f5f",
           "arrowhead": 0,
           "arrowwidth": 1
          },
          "autotypenumbers": "strict",
          "coloraxis": {
           "colorbar": {
            "outlinewidth": 0,
            "ticks": ""
           }
          },
          "colorscale": {
           "diverging": [
            [
             0,
             "#8e0152"
            ],
            [
             0.1,
             "#c51b7d"
            ],
            [
             0.2,
             "#de77ae"
            ],
            [
             0.3,
             "#f1b6da"
            ],
            [
             0.4,
             "#fde0ef"
            ],
            [
             0.5,
             "#f7f7f7"
            ],
            [
             0.6,
             "#e6f5d0"
            ],
            [
             0.7,
             "#b8e186"
            ],
            [
             0.8,
             "#7fbc41"
            ],
            [
             0.9,
             "#4d9221"
            ],
            [
             1,
             "#276419"
            ]
           ],
           "sequential": [
            [
             0,
             "#0d0887"
            ],
            [
             0.1111111111111111,
             "#46039f"
            ],
            [
             0.2222222222222222,
             "#7201a8"
            ],
            [
             0.3333333333333333,
             "#9c179e"
            ],
            [
             0.4444444444444444,
             "#bd3786"
            ],
            [
             0.5555555555555556,
             "#d8576b"
            ],
            [
             0.6666666666666666,
             "#ed7953"
            ],
            [
             0.7777777777777778,
             "#fb9f3a"
            ],
            [
             0.8888888888888888,
             "#fdca26"
            ],
            [
             1,
             "#f0f921"
            ]
           ],
           "sequentialminus": [
            [
             0,
             "#0d0887"
            ],
            [
             0.1111111111111111,
             "#46039f"
            ],
            [
             0.2222222222222222,
             "#7201a8"
            ],
            [
             0.3333333333333333,
             "#9c179e"
            ],
            [
             0.4444444444444444,
             "#bd3786"
            ],
            [
             0.5555555555555556,
             "#d8576b"
            ],
            [
             0.6666666666666666,
             "#ed7953"
            ],
            [
             0.7777777777777778,
             "#fb9f3a"
            ],
            [
             0.8888888888888888,
             "#fdca26"
            ],
            [
             1,
             "#f0f921"
            ]
           ]
          },
          "colorway": [
           "#636efa",
           "#EF553B",
           "#00cc96",
           "#ab63fa",
           "#FFA15A",
           "#19d3f3",
           "#FF6692",
           "#B6E880",
           "#FF97FF",
           "#FECB52"
          ],
          "font": {
           "color": "#2a3f5f"
          },
          "geo": {
           "bgcolor": "white",
           "lakecolor": "white",
           "landcolor": "#E5ECF6",
           "showlakes": true,
           "showland": true,
           "subunitcolor": "white"
          },
          "hoverlabel": {
           "align": "left"
          },
          "hovermode": "closest",
          "mapbox": {
           "style": "light"
          },
          "paper_bgcolor": "white",
          "plot_bgcolor": "#E5ECF6",
          "polar": {
           "angularaxis": {
            "gridcolor": "white",
            "linecolor": "white",
            "ticks": ""
           },
           "bgcolor": "#E5ECF6",
           "radialaxis": {
            "gridcolor": "white",
            "linecolor": "white",
            "ticks": ""
           }
          },
          "scene": {
           "xaxis": {
            "backgroundcolor": "#E5ECF6",
            "gridcolor": "white",
            "gridwidth": 2,
            "linecolor": "white",
            "showbackground": true,
            "ticks": "",
            "zerolinecolor": "white"
           },
           "yaxis": {
            "backgroundcolor": "#E5ECF6",
            "gridcolor": "white",
            "gridwidth": 2,
            "linecolor": "white",
            "showbackground": true,
            "ticks": "",
            "zerolinecolor": "white"
           },
           "zaxis": {
            "backgroundcolor": "#E5ECF6",
            "gridcolor": "white",
            "gridwidth": 2,
            "linecolor": "white",
            "showbackground": true,
            "ticks": "",
            "zerolinecolor": "white"
           }
          },
          "shapedefaults": {
           "line": {
            "color": "#2a3f5f"
           }
          },
          "ternary": {
           "aaxis": {
            "gridcolor": "white",
            "linecolor": "white",
            "ticks": ""
           },
           "baxis": {
            "gridcolor": "white",
            "linecolor": "white",
            "ticks": ""
           },
           "bgcolor": "#E5ECF6",
           "caxis": {
            "gridcolor": "white",
            "linecolor": "white",
            "ticks": ""
           }
          },
          "title": {
           "x": 0.05
          },
          "xaxis": {
           "automargin": true,
           "gridcolor": "white",
           "linecolor": "white",
           "ticks": "",
           "title": {
            "standoff": 15
           },
           "zerolinecolor": "white",
           "zerolinewidth": 2
          },
          "yaxis": {
           "automargin": true,
           "gridcolor": "white",
           "linecolor": "white",
           "ticks": "",
           "title": {
            "standoff": 15
           },
           "zerolinecolor": "white",
           "zerolinewidth": 2
          }
         }
        },
        "title": {
         "text": "NeSy promises"
        },
        "width": 1000
       }
      },
      "text/html": [
       "<div>                            <div id=\"b07112f0-cee0-417a-980b-e80c622cf8b9\" class=\"plotly-graph-div\" style=\"height:500px; width:1000px;\"></div>            <script type=\"text/javascript\">                require([\"plotly\"], function(Plotly) {                    window.PLOTLYENV=window.PLOTLYENV || {};                                    if (document.getElementById(\"b07112f0-cee0-417a-980b-e80c622cf8b9\")) {                    Plotly.newPlot(                        \"b07112f0-cee0-417a-980b-e80c622cf8b9\",                        [{\"link\":{\"color\":[\"#89b79f\",\"#89b79f\",\"#89b79f\",\"#2070b4\",\"#89b79f\",\"#89b79f\",\"#89b79f\",\"#89b79f\",\"#450256\",\"#450256\",\"#89b79f\",\"#89b79f\",\"#89b79f\",\"#89b79f\",\"#57bcd6\",\"#57bcd6\",\"#2070b4\",\"#89b79f\",\"#2070b4\",\"#2070b4\",\"#2070b4\",\"#57bcd6\",\"#57bcd6\",\"#450256\",\"#450256\",\"#450256\",\"#450256\",\"#450256\",\"#450256\",\"#450256\",\"#450256\",\"#450256\",\"#2070b4\",\"#57bcd6\",\"#57bcd6\",\"#57bcd6\",\"#450256\",\"#2070b4\",\"#2070b4\",\"#2070b4\",\"#2070b4\",\"#450256\",\"#89b79f\",\"#89b79f\",\"#89b79f\",\"#89b79f\",\"#89b79f\",\"#89b79f\",\"#57bcd6\",\"#57bcd6\"],\"source\":[\"2\",\"2\",\"2\",\"3\",\"2\",\"2\",\"2\",\"2\",\"1\",\"1\",\"2\",\"2\",\"2\",\"2\",\"4\",\"4\",\"3\",\"2\",\"3\",\"3\",\"3\",\"4\",\"4\",\"1\",\"1\",\"1\",\"1\",\"1\",\"1\",\"1\",\"1\",\"1\",\"3\",\"4\",\"4\",\"4\",\"1\",\"3\",\"3\",\"3\",\"3\",\"1\",\"2\",\"2\",\"2\",\"2\",\"2\",\"2\",\"4\",\"4\"],\"target\":[\"78\",\"14\",\"15\",\"78\",\"14\",\"15\",\"16\",\"17\",\"78\",\"15\",\"78\",\"16\",\"78\",\"15\",\"78\",\"14\",\"78\",\"78\",\"78\",\"15\",\"16\",\"78\",\"17\",\"78\",\"14\",\"16\",\"78\",\"78\",\"16\",\"78\",\"15\",\"78\",\"78\",\"78\",\"16\",\"16\",\"78\",\"78\",\"14\",\"15\",\"16\",\"78\",\"14\",\"16\",\"17\",\"78\",\"15\",\"17\",\"78\",\"14\"],\"value\":[\"0.3333333333222222\",\"0.3333333333222222\",\"0.3333333333222222\",\"0.9999999999\",\"0.24999999999375\",\"0.24999999999375\",\"0.24999999999375\",\"0.24999999999375\",\"0.499999999975\",\"0.499999999975\",\"0.499999999975\",\"0.499999999975\",\"0.499999999975\",\"0.499999999975\",\"0.499999999975\",\"0.499999999975\",\"0.9999999999\",\"0.9999999999\",\"0.3333333333222222\",\"0.3333333333222222\",\"0.3333333333222222\",\"0.499999999975\",\"0.499999999975\",\"0.9999999999\",\"0.499999999975\",\"0.499999999975\",\"0.9999999999\",\"0.499999999975\",\"0.499999999975\",\"0.499999999975\",\"0.499999999975\",\"0.9999999999\",\"0.9999999999\",\"0.499999999975\",\"0.499999999975\",\"0.9999999999\",\"0.9999999999\",\"0.24999999999375\",\"0.24999999999375\",\"0.24999999999375\",\"0.24999999999375\",\"0.9999999999\",\"0.3333333333222222\",\"0.3333333333222222\",\"0.3333333333222222\",\"0.3333333333222222\",\"0.3333333333222222\",\"0.3333333333222222\",\"0.499999999975\",\"0.499999999975\"]},\"node\":{\"color\":\"#333333\",\"label\":[null,\"sequential\",\"compiled\",\"cooperative\",\"nested\",null,null,null,null,null,null,null,null,null,\"out-of-distribution generalization\",\"interpretability\",\"reduced data\",\"transferability\",null,null,null,null,null,null,null,null,null,null,null,null,null,null,null,null,null,null,null,null,null,null,null,null,null,null,null,null,null,null,null,null,null,null,null,null,null,null,null,null,null,null,null,null,null,null,null,null,null,null,null,null,null,null,null,null,null,null,null,null,\"reasoning\",null,null,null,null,null,null,null,null,null,null,null,null,null,null,null,null,null,null,null,null,null,null,null,null,null,null,null,null,null,null,null,null,null,null,null,null,null,null,null,null,null],\"pad\":25,\"thickness\":10},\"type\":\"sankey\"}],                        {\"font\":{\"color\":\"Black\",\"family\":\"Arial\",\"size\":14},\"height\":500,\"hovermode\":\"x\",\"template\":{\"data\":{\"bar\":[{\"error_x\":{\"color\":\"#2a3f5f\"},\"error_y\":{\"color\":\"#2a3f5f\"},\"marker\":{\"line\":{\"color\":\"#E5ECF6\",\"width\":0.5},\"pattern\":{\"fillmode\":\"overlay\",\"size\":10,\"solidity\":0.2}},\"type\":\"bar\"}],\"barpolar\":[{\"marker\":{\"line\":{\"color\":\"#E5ECF6\",\"width\":0.5},\"pattern\":{\"fillmode\":\"overlay\",\"size\":10,\"solidity\":0.2}},\"type\":\"barpolar\"}],\"carpet\":[{\"aaxis\":{\"endlinecolor\":\"#2a3f5f\",\"gridcolor\":\"white\",\"linecolor\":\"white\",\"minorgridcolor\":\"white\",\"startlinecolor\":\"#2a3f5f\"},\"baxis\":{\"endlinecolor\":\"#2a3f5f\",\"gridcolor\":\"white\",\"linecolor\":\"white\",\"minorgridcolor\":\"white\",\"startlinecolor\":\"#2a3f5f\"},\"type\":\"carpet\"}],\"choropleth\":[{\"colorbar\":{\"outlinewidth\":0,\"ticks\":\"\"},\"type\":\"choropleth\"}],\"contour\":[{\"colorbar\":{\"outlinewidth\":0,\"ticks\":\"\"},\"colorscale\":[[0.0,\"#0d0887\"],[0.1111111111111111,\"#46039f\"],[0.2222222222222222,\"#7201a8\"],[0.3333333333333333,\"#9c179e\"],[0.4444444444444444,\"#bd3786\"],[0.5555555555555556,\"#d8576b\"],[0.6666666666666666,\"#ed7953\"],[0.7777777777777778,\"#fb9f3a\"],[0.8888888888888888,\"#fdca26\"],[1.0,\"#f0f921\"]],\"type\":\"contour\"}],\"contourcarpet\":[{\"colorbar\":{\"outlinewidth\":0,\"ticks\":\"\"},\"type\":\"contourcarpet\"}],\"heatmap\":[{\"colorbar\":{\"outlinewidth\":0,\"ticks\":\"\"},\"colorscale\":[[0.0,\"#0d0887\"],[0.1111111111111111,\"#46039f\"],[0.2222222222222222,\"#7201a8\"],[0.3333333333333333,\"#9c179e\"],[0.4444444444444444,\"#bd3786\"],[0.5555555555555556,\"#d8576b\"],[0.6666666666666666,\"#ed7953\"],[0.7777777777777778,\"#fb9f3a\"],[0.8888888888888888,\"#fdca26\"],[1.0,\"#f0f921\"]],\"type\":\"heatmap\"}],\"heatmapgl\":[{\"colorbar\":{\"outlinewidth\":0,\"ticks\":\"\"},\"colorscale\":[[0.0,\"#0d0887\"],[0.1111111111111111,\"#46039f\"],[0.2222222222222222,\"#7201a8\"],[0.3333333333333333,\"#9c179e\"],[0.4444444444444444,\"#bd3786\"],[0.5555555555555556,\"#d8576b\"],[0.6666666666666666,\"#ed7953\"],[0.7777777777777778,\"#fb9f3a\"],[0.8888888888888888,\"#fdca26\"],[1.0,\"#f0f921\"]],\"type\":\"heatmapgl\"}],\"histogram\":[{\"marker\":{\"pattern\":{\"fillmode\":\"overlay\",\"size\":10,\"solidity\":0.2}},\"type\":\"histogram\"}],\"histogram2d\":[{\"colorbar\":{\"outlinewidth\":0,\"ticks\":\"\"},\"colorscale\":[[0.0,\"#0d0887\"],[0.1111111111111111,\"#46039f\"],[0.2222222222222222,\"#7201a8\"],[0.3333333333333333,\"#9c179e\"],[0.4444444444444444,\"#bd3786\"],[0.5555555555555556,\"#d8576b\"],[0.6666666666666666,\"#ed7953\"],[0.7777777777777778,\"#fb9f3a\"],[0.8888888888888888,\"#fdca26\"],[1.0,\"#f0f921\"]],\"type\":\"histogram2d\"}],\"histogram2dcontour\":[{\"colorbar\":{\"outlinewidth\":0,\"ticks\":\"\"},\"colorscale\":[[0.0,\"#0d0887\"],[0.1111111111111111,\"#46039f\"],[0.2222222222222222,\"#7201a8\"],[0.3333333333333333,\"#9c179e\"],[0.4444444444444444,\"#bd3786\"],[0.5555555555555556,\"#d8576b\"],[0.6666666666666666,\"#ed7953\"],[0.7777777777777778,\"#fb9f3a\"],[0.8888888888888888,\"#fdca26\"],[1.0,\"#f0f921\"]],\"type\":\"histogram2dcontour\"}],\"mesh3d\":[{\"colorbar\":{\"outlinewidth\":0,\"ticks\":\"\"},\"type\":\"mesh3d\"}],\"parcoords\":[{\"line\":{\"colorbar\":{\"outlinewidth\":0,\"ticks\":\"\"}},\"type\":\"parcoords\"}],\"pie\":[{\"automargin\":true,\"type\":\"pie\"}],\"scatter\":[{\"marker\":{\"colorbar\":{\"outlinewidth\":0,\"ticks\":\"\"}},\"type\":\"scatter\"}],\"scatter3d\":[{\"line\":{\"colorbar\":{\"outlinewidth\":0,\"ticks\":\"\"}},\"marker\":{\"colorbar\":{\"outlinewidth\":0,\"ticks\":\"\"}},\"type\":\"scatter3d\"}],\"scattercarpet\":[{\"marker\":{\"colorbar\":{\"outlinewidth\":0,\"ticks\":\"\"}},\"type\":\"scattercarpet\"}],\"scattergeo\":[{\"marker\":{\"colorbar\":{\"outlinewidth\":0,\"ticks\":\"\"}},\"type\":\"scattergeo\"}],\"scattergl\":[{\"marker\":{\"colorbar\":{\"outlinewidth\":0,\"ticks\":\"\"}},\"type\":\"scattergl\"}],\"scattermapbox\":[{\"marker\":{\"colorbar\":{\"outlinewidth\":0,\"ticks\":\"\"}},\"type\":\"scattermapbox\"}],\"scatterpolar\":[{\"marker\":{\"colorbar\":{\"outlinewidth\":0,\"ticks\":\"\"}},\"type\":\"scatterpolar\"}],\"scatterpolargl\":[{\"marker\":{\"colorbar\":{\"outlinewidth\":0,\"ticks\":\"\"}},\"type\":\"scatterpolargl\"}],\"scatterternary\":[{\"marker\":{\"colorbar\":{\"outlinewidth\":0,\"ticks\":\"\"}},\"type\":\"scatterternary\"}],\"surface\":[{\"colorbar\":{\"outlinewidth\":0,\"ticks\":\"\"},\"colorscale\":[[0.0,\"#0d0887\"],[0.1111111111111111,\"#46039f\"],[0.2222222222222222,\"#7201a8\"],[0.3333333333333333,\"#9c179e\"],[0.4444444444444444,\"#bd3786\"],[0.5555555555555556,\"#d8576b\"],[0.6666666666666666,\"#ed7953\"],[0.7777777777777778,\"#fb9f3a\"],[0.8888888888888888,\"#fdca26\"],[1.0,\"#f0f921\"]],\"type\":\"surface\"}],\"table\":[{\"cells\":{\"fill\":{\"color\":\"#EBF0F8\"},\"line\":{\"color\":\"white\"}},\"header\":{\"fill\":{\"color\":\"#C8D4E3\"},\"line\":{\"color\":\"white\"}},\"type\":\"table\"}]},\"layout\":{\"annotationdefaults\":{\"arrowcolor\":\"#2a3f5f\",\"arrowhead\":0,\"arrowwidth\":1},\"autotypenumbers\":\"strict\",\"coloraxis\":{\"colorbar\":{\"outlinewidth\":0,\"ticks\":\"\"}},\"colorscale\":{\"diverging\":[[0,\"#8e0152\"],[0.1,\"#c51b7d\"],[0.2,\"#de77ae\"],[0.3,\"#f1b6da\"],[0.4,\"#fde0ef\"],[0.5,\"#f7f7f7\"],[0.6,\"#e6f5d0\"],[0.7,\"#b8e186\"],[0.8,\"#7fbc41\"],[0.9,\"#4d9221\"],[1,\"#276419\"]],\"sequential\":[[0.0,\"#0d0887\"],[0.1111111111111111,\"#46039f\"],[0.2222222222222222,\"#7201a8\"],[0.3333333333333333,\"#9c179e\"],[0.4444444444444444,\"#bd3786\"],[0.5555555555555556,\"#d8576b\"],[0.6666666666666666,\"#ed7953\"],[0.7777777777777778,\"#fb9f3a\"],[0.8888888888888888,\"#fdca26\"],[1.0,\"#f0f921\"]],\"sequentialminus\":[[0.0,\"#0d0887\"],[0.1111111111111111,\"#46039f\"],[0.2222222222222222,\"#7201a8\"],[0.3333333333333333,\"#9c179e\"],[0.4444444444444444,\"#bd3786\"],[0.5555555555555556,\"#d8576b\"],[0.6666666666666666,\"#ed7953\"],[0.7777777777777778,\"#fb9f3a\"],[0.8888888888888888,\"#fdca26\"],[1.0,\"#f0f921\"]]},\"colorway\":[\"#636efa\",\"#EF553B\",\"#00cc96\",\"#ab63fa\",\"#FFA15A\",\"#19d3f3\",\"#FF6692\",\"#B6E880\",\"#FF97FF\",\"#FECB52\"],\"font\":{\"color\":\"#2a3f5f\"},\"geo\":{\"bgcolor\":\"white\",\"lakecolor\":\"white\",\"landcolor\":\"#E5ECF6\",\"showlakes\":true,\"showland\":true,\"subunitcolor\":\"white\"},\"hoverlabel\":{\"align\":\"left\"},\"hovermode\":\"closest\",\"mapbox\":{\"style\":\"light\"},\"paper_bgcolor\":\"white\",\"plot_bgcolor\":\"#E5ECF6\",\"polar\":{\"angularaxis\":{\"gridcolor\":\"white\",\"linecolor\":\"white\",\"ticks\":\"\"},\"bgcolor\":\"#E5ECF6\",\"radialaxis\":{\"gridcolor\":\"white\",\"linecolor\":\"white\",\"ticks\":\"\"}},\"scene\":{\"xaxis\":{\"backgroundcolor\":\"#E5ECF6\",\"gridcolor\":\"white\",\"gridwidth\":2,\"linecolor\":\"white\",\"showbackground\":true,\"ticks\":\"\",\"zerolinecolor\":\"white\"},\"yaxis\":{\"backgroundcolor\":\"#E5ECF6\",\"gridcolor\":\"white\",\"gridwidth\":2,\"linecolor\":\"white\",\"showbackground\":true,\"ticks\":\"\",\"zerolinecolor\":\"white\"},\"zaxis\":{\"backgroundcolor\":\"#E5ECF6\",\"gridcolor\":\"white\",\"gridwidth\":2,\"linecolor\":\"white\",\"showbackground\":true,\"ticks\":\"\",\"zerolinecolor\":\"white\"}},\"shapedefaults\":{\"line\":{\"color\":\"#2a3f5f\"}},\"ternary\":{\"aaxis\":{\"gridcolor\":\"white\",\"linecolor\":\"white\",\"ticks\":\"\"},\"baxis\":{\"gridcolor\":\"white\",\"linecolor\":\"white\",\"ticks\":\"\"},\"bgcolor\":\"#E5ECF6\",\"caxis\":{\"gridcolor\":\"white\",\"linecolor\":\"white\",\"ticks\":\"\"}},\"title\":{\"x\":0.05},\"xaxis\":{\"automargin\":true,\"gridcolor\":\"white\",\"linecolor\":\"white\",\"ticks\":\"\",\"title\":{\"standoff\":15},\"zerolinecolor\":\"white\",\"zerolinewidth\":2},\"yaxis\":{\"automargin\":true,\"gridcolor\":\"white\",\"linecolor\":\"white\",\"ticks\":\"\",\"title\":{\"standoff\":15},\"zerolinecolor\":\"white\",\"zerolinewidth\":2}}},\"title\":{\"text\":\"NeSy promises\"},\"width\":1000},                        {\"responsive\": true}                    ).then(function(){\n",
       "                            \n",
       "var gd = document.getElementById('b07112f0-cee0-417a-980b-e80c622cf8b9');\n",
       "var x = new MutationObserver(function (mutations, observer) {{\n",
       "        var display = window.getComputedStyle(gd).display;\n",
       "        if (!display || display === 'none') {{\n",
       "            console.log([gd, 'removed!']);\n",
       "            Plotly.purge(gd);\n",
       "            observer.disconnect();\n",
       "        }}\n",
       "}});\n",
       "\n",
       "// Listen for the removal of the full notebook cells\n",
       "var notebookContainer = gd.closest('#notebook-container');\n",
       "if (notebookContainer) {{\n",
       "    x.observe(notebookContainer, {childList: true});\n",
       "}}\n",
       "\n",
       "// Listen for the clearing of the current output cell\n",
       "var outputEl = gd.closest('.output');\n",
       "if (outputEl) {{\n",
       "    x.observe(outputEl, {childList: true});\n",
       "}}\n",
       "\n",
       "                        })                };                });            </script>        </div>"
      ]
     },
     "metadata": {},
     "output_type": "display_data"
    }
   ],
   "source": [
    "import plotly.graph_objects as go\n",
    "\n",
    "# data to dict, dict to sankey\n",
    "link = dict(source = st_links[:,0:1].flatten(), target = st_links[:,1:2].flatten(), value = st_links[:,2:3].flatten(), color = st_links[:,3:4].flatten())\n",
    "node = dict(label = labels, pad=25, thickness=10, color=\"#333333\")\n",
    "data = go.Sankey(link = link, node=node)\n",
    "# plot\n",
    "\n",
    "fig = go.Figure(data)\n",
    "fig.update_layout(\n",
    "    hovermode = 'x',\n",
    "    title = \"NeSy promises\",\n",
    "    font=dict(size = 14, color = 'Black'),\n",
    "    height = 500,\n",
    "    width = 1000,\n",
    "  font_family=\"Arial\"\n",
    "  )\n",
    "fig.show()"
   ]
  },
  {
   "cell_type": "code",
   "execution_count": 70,
   "metadata": {
    "colab": {
     "base_uri": "https://localhost:8080/",
     "height": 105
    },
    "id": "OnjU2FDdmRj7",
    "outputId": "c6a1332a-1893-4e27-d992-318cd73025a5"
   },
   "outputs": [
    {
     "data": {
      "text/plain": [
       "'nesy.html'"
      ]
     },
     "execution_count": 70,
     "metadata": {},
     "output_type": "execute_result"
    }
   ],
   "source": [
    "import plotly\n",
    "plotly.offline.plot([data], filename='nesy', image='svg')"
   ]
  },
  {
   "cell_type": "markdown",
   "metadata": {
    "id": "RlRtKY_9vqMq"
   },
   "source": [
    "# New Section"
   ]
  },
  {
   "cell_type": "code",
   "execution_count": 72,
   "metadata": {
    "id": "BHVrVuYowcA2"
   },
   "outputs": [],
   "source": [
    "#fig.write_image('images/cat-to-goal.svg')"
   ]
  },
  {
   "cell_type": "code",
   "execution_count": null,
   "metadata": {
    "id": "viic1-nXculz"
   },
   "outputs": [],
   "source": []
  }
 ],
 "metadata": {
  "colab": {
   "collapsed_sections": [],
   "name": "Sanky_nesy.ipynb",
   "provenance": [],
   "toc_visible": true
  },
  "kernelspec": {
   "display_name": "Python 3",
   "language": "python",
   "name": "python3"
  },
  "language_info": {
   "codemirror_mode": {
    "name": "ipython",
    "version": 3
   },
   "file_extension": ".py",
   "mimetype": "text/x-python",
   "name": "python",
   "nbconvert_exporter": "python",
   "pygments_lexer": "ipython3",
   "version": "3.7.3"
  }
 },
 "nbformat": 4,
 "nbformat_minor": 4
}
