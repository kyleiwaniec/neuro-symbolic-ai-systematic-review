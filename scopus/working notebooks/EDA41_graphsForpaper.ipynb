{
 "cells": [
  {
   "cell_type": "markdown",
   "metadata": {},
   "source": [
    "# Final Articles\n",
    "\n",
    "There are 20 articles and 21 conference papers that made it into the review."
   ]
  },
  {
   "cell_type": "code",
   "execution_count": null,
   "metadata": {},
   "outputs": [],
   "source": []
  },
  {
   "cell_type": "code",
   "execution_count": 1,
   "metadata": {},
   "outputs": [],
   "source": [
    "import pandas as pd\n",
    "import numpy as np\n",
    "import itertools\n",
    "from collections import defaultdict\n"
   ]
  },
  {
   "cell_type": "code",
   "execution_count": 2,
   "metadata": {},
   "outputs": [
    {
     "data": {
      "text/plain": [
       "'/Users/kylehamilton/MyDocuments/ML-Labs/neuro-symbolic-AI/neuro-symbolic-ai-systematic-review/Scopus/matplotlibrc'"
      ]
     },
     "execution_count": 2,
     "metadata": {},
     "output_type": "execute_result"
    }
   ],
   "source": [
    "%matplotlib inline \n",
    "import matplotlib.pyplot as plt\n",
    "import matplotlib as mpl\n",
    "from matplotlib.ticker import FormatStrFormatter\n",
    "plt.style.use('presentation.mplstyle')\n",
    "mpl.matplotlib_fname()"
   ]
  },
  {
   "cell_type": "code",
   "execution_count": 3,
   "metadata": {},
   "outputs": [],
   "source": [
    "df=pd.read_csv('Data/Final_41 - Protocol.csv')\n",
    "df.drop(df[df.eliminate == 1].index, inplace=True)"
   ]
  },
  {
   "cell_type": "code",
   "execution_count": 4,
   "metadata": {},
   "outputs": [
    {
     "data": {
      "image/png": "[encoded data removed]",
      "text/plain": [
       "<Figure size 432x288 with 1 Axes>"
      ]
     },
     "metadata": {
      "needs_background": "light"
     },
     "output_type": "display_data"
    }
   ],
   "source": [
    "fig, ax = plt.subplots()\n",
    "docType = pd.value_counts(df['Doc type'].values, sort=True)\n",
    "\n",
    "df['Doc type'].value_counts().plot(kind='bar', width= 0.6, title=\"Number of publications\")\n",
    "\n",
    "type_of_publication = [\"Conference\", \"Journal\"]\n",
    "\n",
    "ax.set_xticklabels(type_of_publication, minor=False, rotation=0) \n",
    "\n",
    "for index,data in enumerate(docType.values):\n",
    "    ax.text(x=index , y = data+0.2 , s=f\"{data}\")\n",
    "    \n",
    "plt.savefig('doctype.jpg',  bbox_inches='tight')"
   ]
  },
  {
   "cell_type": "code",
   "execution_count": 5,
   "metadata": {},
   "outputs": [
    {
     "data": {
      "text/plain": [
       "[19, 15]"
      ]
     },
     "execution_count": 5,
     "metadata": {},
     "output_type": "execute_result"
    }
   ],
   "source": [
    "list(df['Doc type'].value_counts())"
   ]
  },
  {
   "cell_type": "code",
   "execution_count": 6,
   "metadata": {},
   "outputs": [
    {
     "data": {
      "image/png": "[encoded data removed]",
      "text/plain": [
       "<Figure size 360x144 with 1 Axes>"
      ]
     },
     "metadata": {},
     "output_type": "display_data"
    }
   ],
   "source": [
    "fig, ax = plt.subplots(figsize=(5, 2), subplot_kw=dict(aspect=\"equal\"))\n",
    "\n",
    "data = list(df['Doc type'].value_counts())\n",
    "recipe = [str(data[0])+\"\\nConference\\nPapers\",str(data[1])+\"\\nJournal\\nPapers\"]\n",
    "\n",
    "\n",
    "\n",
    "wedges, texts = ax.pie(data, wedgeprops=dict(width=0.3), startangle=90)\n",
    "\n",
    "bbox_props = dict(boxstyle=\"square,pad=0.5\", fc=\"w\", ec=\"w\", lw=0.72)\n",
    "kw = dict(arrowprops=dict(arrowstyle=\"-\"),\n",
    "          bbox=bbox_props, zorder=0, va=\"center\")\n",
    "\n",
    "for i, p in enumerate(wedges):\n",
    "    ang = (p.theta2 - p.theta1)/2. + p.theta1\n",
    "    y = np.sin(np.deg2rad(ang))\n",
    "    x = np.cos(np.deg2rad(ang))\n",
    "    horizontalalignment = {-1: \"right\", 1: \"left\"}[int(np.sign(x))]\n",
    "    connectionstyle = \"angle,angleA=0,angleB={}\".format(ang)\n",
    "    kw[\"arrowprops\"].update({\"connectionstyle\": connectionstyle})\n",
    "    ax.annotate(recipe[i], xy=(x, y), xytext=(1.35*np.sign(x), 1.4*y),\n",
    "                horizontalalignment=horizontalalignment,fontsize=12, **kw)\n",
    "\n",
    "# ax.set_title(\"Number of publications\")\n",
    "\n",
    "plt.savefig(\"images/num_pub.svg\", format=\"svg\",  bbox_inches='tight')"
   ]
  },
  {
   "cell_type": "code",
   "execution_count": 7,
   "metadata": {},
   "outputs": [
    {
     "data": {
      "image/png": "[encoded data removed]",
      "text/plain": [
       "<Figure size 432x288 with 1 Axes>"
      ]
     },
     "metadata": {
      "needs_background": "light"
     },
     "output_type": "display_data"
    }
   ],
   "source": [
    "fig, ax = plt.subplots()\n",
    "yearpublished = pd.value_counts(df['Year'].values).sort_index()\n",
    "\n",
    "#, title=\"Number of articles published per year\n",
    "yearpublished.plot(kind='bar', width= 0.6)\n",
    "plt.box(False)\n",
    "ax.set_yticks([])\n",
    "plt.xticks(rotation=0) \n",
    "\n",
    "for index,data in enumerate(yearpublished.values):\n",
    "    ax.text(x=index-0.12 , y = data+0.2 , s=f\"{data}\")\n",
    "    \n",
    "plt.savefig('images/pub_year.svg', format=\"svg\",  bbox_inches='tight')"
   ]
  },
  {
   "cell_type": "code",
   "execution_count": 8,
   "metadata": {},
   "outputs": [
    {
     "data": {
      "text/plain": [
       "Text classification                                     6\n",
       "Question answering                                      6\n",
       "Sentiment analysis                                      5\n",
       "KG Completion / link prediction                         2\n",
       "Textual reasoning                                       2\n",
       "Annotation                                              1\n",
       "Fact verification                                       1\n",
       "Topic modeling / categorization                         1\n",
       "Cause-effect Identification                             1\n",
       "Translation                                             1\n",
       "Question answering,\\ninformation extraction             1\n",
       "Text classification\\nKG Completion / link prediction    1\n",
       "Decision making                                         1\n",
       "Dialog system                                           1\n",
       "Relation extraction                                     1\n",
       "Information extraction                                  1\n",
       "Image captioning                                        1\n",
       "Text summarization                                      1\n",
       "Name: Business Use Case, dtype: int64"
      ]
     },
     "execution_count": 8,
     "metadata": {},
     "output_type": "execute_result"
    }
   ],
   "source": [
    "df['Business Use Case'].value_counts()"
   ]
  },
  {
   "cell_type": "code",
   "execution_count": 9,
   "metadata": {},
   "outputs": [],
   "source": [
    "use_case_count = df['Business Use Case'].value_counts()\n",
    "use_case_count['KG Completion / link prediction']+=use_case_count['Text classification\\nKG Completion / link prediction']\n",
    "use_case_count['Text classification']+=use_case_count['Text classification\\nKG Completion / link prediction']\n",
    "use_case_count['Question answering']+=use_case_count['Question answering,\\ninformation extraction']\n",
    "use_case_count['Information extraction']+=use_case_count['Question answering,\\ninformation extraction']\n",
    "use_case_count.pop('Text classification\\nKG Completion / link prediction')\n",
    "use_case_count.pop('Question answering,\\ninformation extraction')\n",
    "\n",
    "use_case_count = use_case_count.sort_values(ascending=False)\n"
   ]
  },
  {
   "cell_type": "code",
   "execution_count": 10,
   "metadata": {},
   "outputs": [
    {
     "data": {
      "image/png": "[encoded data removed]",
      "text/plain": [
       "<Figure size 144x288 with 1 Axes>"
      ]
     },
     "metadata": {
      "needs_background": "light"
     },
     "output_type": "display_data"
    }
   ],
   "source": [
    "fig, ax = plt.subplots(figsize=(2,4))\n",
    "plt.box(False)\n",
    "plt.xticks([])\n",
    "\n",
    "# plt.subplot(1, 2, 1) # row 1, col 2 index 1\n",
    "\n",
    "\n",
    "use_case_count[:6].plot(kind='barh',width=.65)\n",
    "\n",
    "for i, v in enumerate(use_case_count[:6].values):\n",
    "    ax.text(v+0.1, i-.1 , str(v))\n",
    "\n",
    "    \n",
    "\n",
    "plt.savefig('images/biz_use_case.svg',  format=\"svg\",  bbox_inches='tight')"
   ]
  },
  {
   "cell_type": "code",
   "execution_count": 11,
   "metadata": {},
   "outputs": [
    {
     "data": {
      "text/plain": [
       "classification                24\n",
       "generative                     5\n",
       "inference                      3\n",
       "similarity                     1\n",
       "classification,\\ninference     1\n",
       "Name: Technical Application, dtype: int64"
      ]
     },
     "execution_count": 11,
     "metadata": {},
     "output_type": "execute_result"
    }
   ],
   "source": [
    "df['Technical Application'].value_counts()"
   ]
  },
  {
   "cell_type": "code",
   "execution_count": 12,
   "metadata": {},
   "outputs": [
    {
     "data": {
      "image/png": "[encoded data removed]",
      "text/plain": [
       "<Figure size 576x216 with 1 Axes>"
      ]
     },
     "metadata": {
      "needs_background": "light"
     },
     "output_type": "display_data"
    }
   ],
   "source": [
    "fig, ax = plt.subplots(figsize=(8,3))\n",
    "\n",
    "app_value_counts = df['Technical Application'].value_counts()\n",
    "app_value_counts['inference']+=app_value_counts['classification,\\ninference']\n",
    "app_value_counts['classification']+=app_value_counts['classification,\\ninference']\n",
    "app_value_counts.pop('classification,\\ninference')\n",
    "\n",
    "avc = pd.Series(dtype='float64')\n",
    "for k in app_value_counts.keys():\n",
    "    avc[k.capitalize()] = app_value_counts[k]\n",
    "\n",
    "avc.plot(kind='barh', width=.65)\n",
    "plt.box(False)\n",
    "plt.xticks([])\n",
    "for i, v in enumerate(avc.values):\n",
    "    ax.text(v+0.3, i-.1 , str(v))\n",
    "    \n",
    "plt.savefig('images/techApplication.svg',  format=\"svg\",   bbox_inches='tight')"
   ]
  },
  {
   "cell_type": "markdown",
   "metadata": {},
   "source": [
    "###Not used \n",
    "plt.hist(df['Year'],rwidth=0.9)\n",
    "plt.title('Publication Year Distribution')\n",
    "plt.xlabel('Publication Year')\n",
    "plt.ylabel('Number of Articles')\n",
    "plt.show()"
   ]
  },
  {
   "cell_type": "code",
   "execution_count": 13,
   "metadata": {},
   "outputs": [
    {
     "name": "stderr",
     "output_type": "stream",
     "text": [
      "/Users/kylehamilton/anaconda3/lib/python3.7/site-packages/ipykernel_launcher.py:13: DeprecationWarning: The default dtype for empty Series will be 'object' instead of 'float64' in a future version. Specify a dtype explicitly to silence this warning.\n",
      "  del sys.path[0]\n"
     ]
    },
    {
     "data": {
      "image/png": "[encoded data removed]",
      "text/plain": [
       "<Figure size 864x288 with 2 Axes>"
      ]
     },
     "metadata": {
      "needs_background": "light"
     },
     "output_type": "display_data"
    }
   ],
   "source": [
    "fig, ax = plt.subplots(figsize=(12,4))\n",
    "\n",
    "\n",
    "plt.subplot(1, 2, 1) # row 1, col 2 index 1\n",
    "plt.box(False)\n",
    "plt.xticks([])\n",
    "use_case_count[:6].plot(kind='barh',width=.65,title = \"Number of studies in top business applications\")\n",
    "\n",
    "for i, v in enumerate(use_case_count[:6].values):\n",
    "    ax.text(v+0.1, i-.1 , str(v))\n",
    "\n",
    "plt.subplot(1, 2, 2) # index 2   \n",
    "avc = pd.Series()\n",
    "for k in app_value_counts.keys():\n",
    "    avc[k.capitalize()] = app_value_counts[k]\n",
    "avc.plot(kind='barh', width=.45,title=\"Number of studies per technical application\")\n",
    "plt.box(False)\n",
    "plt.xticks([])\n",
    "for i, v in enumerate(avc.values):\n",
    "    ax.text(v+0.3, i-.1 , str(v))\n",
    "\n",
    "\n",
    "plt.savefig('images/combined.svg',  format=\"svg\",  bbox_inches='tight')"
   ]
  },
  {
   "cell_type": "code",
   "execution_count": null,
   "metadata": {},
   "outputs": [],
   "source": []
  },
  {
   "cell_type": "code",
   "execution_count": null,
   "metadata": {},
   "outputs": [],
   "source": []
  },
  {
   "cell_type": "code",
   "execution_count": null,
   "metadata": {},
   "outputs": [],
   "source": []
  },
  {
   "cell_type": "code",
   "execution_count": null,
   "metadata": {},
   "outputs": [],
   "source": []
  },
  {
   "cell_type": "code",
   "execution_count": 14,
   "metadata": {},
   "outputs": [
    {
     "name": "stderr",
     "output_type": "stream",
     "text": [
      "/Users/kylehamilton/anaconda3/lib/python3.7/site-packages/ipykernel_launcher.py:4: DeprecationWarning: The default dtype for empty Series will be 'object' instead of 'float64' in a future version. Specify a dtype explicitly to silence this warning.\n",
      "  after removing the cwd from sys.path.\n"
     ]
    },
    {
     "data": {
      "image/png": "[encoded data removed]",
      "text/plain": [
       "<Figure size 432x288 with 1 Axes>"
      ]
     },
     "metadata": {
      "needs_background": "light"
     },
     "output_type": "display_data"
    }
   ],
   "source": [
    "fig, ax = plt.subplots()\n",
    "type_of_learning = df['Type of Learning'].value_counts()\n",
    "\n",
    "tol = pd.Series()\n",
    "\n",
    "for k in type_of_learning.keys():\n",
    "    tol[k.capitalize()] = type_of_learning[k]\n",
    "\n",
    "tol.plot(kind='barh', title=\"Number of articles per type of learning\")\n",
    "\n",
    "for i, v in enumerate(tol.values):\n",
    "    ax.text(v+0.3, i-.1 , str(v))\n",
    "    \n",
    "plt.savefig('typeoflearning.svg',  format=\"svg\",  bbox_inches='tight')"
   ]
  },
  {
   "cell_type": "code",
   "execution_count": 15,
   "metadata": {},
   "outputs": [
    {
     "name": "stderr",
     "output_type": "stream",
     "text": [
      "/Users/kylehamilton/anaconda3/lib/python3.7/site-packages/ipykernel_launcher.py:4: DeprecationWarning: The default dtype for empty Series will be 'object' instead of 'float64' in a future version. Specify a dtype explicitly to silence this warning.\n",
      "  after removing the cwd from sys.path.\n"
     ]
    },
    {
     "data": {
      "image/png": "[encoded data removed]",
      "text/plain": [
       "<Figure size 432x288 with 1 Axes>"
      ]
     },
     "metadata": {
      "needs_background": "light"
     },
     "output_type": "display_data"
    }
   ],
   "source": [
    "fig, ax = plt.subplots()\n",
    "nesy_value_counts = df['NeSy Category'].value_counts()\n",
    "\n",
    "nvc = pd.Series()\n",
    "\n",
    "for k in nesy_value_counts.keys():\n",
    "    nvc[k.capitalize()] = nesy_value_counts[k]\n",
    "\n",
    "nvc.plot(kind='barh', title=\"Number of articles per NeSy category\")\n",
    "\n",
    "for i, v in enumerate(nvc.values):\n",
    "    ax.text(v+0.3, i-.1 , str(v))\n",
    "    \n",
    "plt.savefig('nesy category.svg',  format=\"svg\",  bbox_inches='tight')"
   ]
  },
  {
   "cell_type": "code",
   "execution_count": 16,
   "metadata": {},
   "outputs": [
    {
     "name": "stderr",
     "output_type": "stream",
     "text": [
      "/Users/kylehamilton/anaconda3/lib/python3.7/site-packages/matplotlib/textpath.py:74: RuntimeWarning: Glyph 8594 missing from current font.\n",
      "  font.set_text(s, 0.0, flags=LOAD_NO_HINTING)\n",
      "/Users/kylehamilton/anaconda3/lib/python3.7/site-packages/matplotlib/backends/backend_agg.py:238: RuntimeWarning: Glyph 8594 missing from current font.\n",
      "  font.set_text(s, 0.0, flags=flags)\n",
      "/Users/kylehamilton/anaconda3/lib/python3.7/site-packages/matplotlib/backends/backend_agg.py:201: RuntimeWarning: Glyph 8594 missing from current font.\n",
      "  font.set_text(s, 0, flags=flags)\n"
     ]
    },
    {
     "data": {
      "image/png": "[encoded data removed]",
      "text/plain": [
       "<Figure size 432x288 with 1 Axes>"
      ]
     },
     "metadata": {
      "needs_background": "light"
     },
     "output_type": "display_data"
    }
   ],
   "source": [
    "fig, ax = plt.subplots()\n",
    "\n",
    "kautzCount = pd.value_counts(df['Kautz category'].values, sort=True)\n",
    "\n",
    "df['Kautz category'].value_counts().plot(kind='barh', title=\"Number of articles per Kautz category\")\n",
    "for i, v in enumerate(kautzCount.values):\n",
    "    ax.text(v+0.3, i-.1 , str(v))\n",
    "    \n",
    "plt.savefig('Kautz category.svg',  format=\"svg\",   bbox_inches='tight')"
   ]
  },
  {
   "cell_type": "code",
   "execution_count": 17,
   "metadata": {},
   "outputs": [],
   "source": [
    "#df['Technical Application'].value_counts().plot(kind='barh', title=\"Number of articles per technical application\")#"
   ]
  },
  {
   "cell_type": "code",
   "execution_count": 18,
   "metadata": {},
   "outputs": [],
   "source": [
    "#nesy_value_counts['compiled']+=nesy_value_counts['compiled']\n",
    "#nesy_value_counts.pop('compiled')\n",
    "#nesy_value_counts['cooperative']+=nesy_value_counts['cooperative']\n",
    "#nesy_value_counts['sequential']+=nesy_value_counts['sequential']\n",
    "#nesy_value_counts['nested']+=nesy_value_counts['nested']"
   ]
  },
  {
   "cell_type": "code",
   "execution_count": 19,
   "metadata": {},
   "outputs": [
    {
     "data": {
      "text/plain": [
       "array(['deduction,\\ndependency parsing,\\nrule based',\n",
       "       'semantic enrichment', 'first order logic (FOL)',\n",
       "       'first order logic (FOL),\\nknowledge graph (KG)', 'sememe',\n",
       "       'rule based,\\nsemantic enrichment',\n",
       "       'symbolic learner,\\nsymbolic representations,\\nConceptNet KG',\n",
       "       'logic',\n",
       "       'statistical relational learning (SLR),\\nfuzzy logic,\\nfirst order logic (FOL),\\ntransductive learning,\\ngrounding,\\npropositionalization,\\nsemantic enrichment',\n",
       "       'first order logic (FOL),\\nHuffman tree',\n",
       "       'semantic enrichment,\\ndependency parsing',\n",
       "       'commonsense knowledge,\\ngraph representation',\n",
       "       'knowledge graph (KG)',\n",
       "       'Sequencial decision making,\\npredicate logic,\\nrelational logic,\\nrule based,\\nrule induction,\\ncognitive linguistics',\n",
       "       'fuzzy logic,\\nfuzzy neural network (FNN),\\nlogical connectives',\n",
       "       'fuzzy logic,\\nNeutrosophy', 'symbolic processing', 'semantic net',\n",
       "       'fuzzy logic,\\nfuzzy rules,\\nmamdani fuzzy system (MFS)',\n",
       "       'case based reasoning (CBR)', 'rule based', 'constituency parsing',\n",
       "       'graph representation,\\ngraph reasoning', 'ontology',\n",
       "       'domain specific language (DSL),\\ntransductive learning,\\nprogram synthesis',\n",
       "       'fuzzy logic,\\nfuzzy rules', 'domain specific language (DSL)',\n",
       "       'symbolic node embedding,\\ngraph representation,\\nsemantic parsing',\n",
       "       'binding problem'], dtype=object)"
      ]
     },
     "execution_count": 19,
     "metadata": {},
     "output_type": "execute_result"
    }
   ],
   "source": [
    "df['Symbolic terms'].unique()"
   ]
  },
  {
   "cell_type": "code",
   "execution_count": 20,
   "metadata": {},
   "outputs": [
    {
     "data": {
      "text/plain": [
       "array(['recurrent neural network (RNN)', 'logic tensor network (LTN)',\n",
       "       'graph neural network (GNN)', 'neural network (NN)', 'SVM',\n",
       "       'SVM,\\nneuroevolution (NE)',\n",
       "       'recursive neural knowledge network (RNKN),\\nrecursive neural network (RcNN)',\n",
       "       'reinforcement learning (RL),\\nMemory Network,\\nneural network (NN)\\n',\n",
       "       'convolutional neural network (CNN),\\nrecurrent neural network (RNN),\\ndeep belief network (DBN)',\n",
       "       'transformer',\n",
       "       'convolutional neural network (CNN),\\nrecurrent neural network (RNN)',\n",
       "       'convolutional neural network (CNN),\\nneural network (NN)',\n",
       "       'convolutional neural network (CNN)',\n",
       "       'attention network (Attn),\\ngraph neural network (GNN)',\n",
       "       'recurrent neural network (RNN),\\nreinforcement learning (RL)',\n",
       "       'recursive neural network (RcNN),\\nTensor Product Representation (TPR)',\n",
       "       'recurrent neural network (RNN),\\nconvolutional neural network (CNN),\\nattention network (Attn)',\n",
       "       'Tensor Product Representation (TPR),\\nrecurrent neural network (RNN)'],\n",
       "      dtype=object)"
      ]
     },
     "execution_count": 20,
     "metadata": {},
     "output_type": "execute_result"
    }
   ],
   "source": [
    "df['Neural terms'].unique()"
   ]
  },
  {
   "cell_type": "code",
   "execution_count": 21,
   "metadata": {},
   "outputs": [
    {
     "data": {
      "image/png": "[encoded data removed]",
      "text/plain": [
       "<Figure size 720x432 with 1 Axes>"
      ]
     },
     "metadata": {
      "needs_background": "light"
     },
     "output_type": "display_data"
    }
   ],
   "source": [
    "\n",
    "fig, ax = plt.subplots(figsize=(10,6))\n",
    "\n",
    "df['Study Quality'].str.rstrip('%').astype('float').plot(kind='hist', width=5, title=\"study quality\")\n",
    "\n",
    "#ind = np.arange(len(docType.index))\n",
    "\n",
    "#fig.suptitle('Document type', fontsize=18)\n",
    "#plt.xlabel('Count', fontsize=14)\n",
    "#plt.ylabel('Document', fontsize=14)\n",
    "\n",
    "\n",
    "plt.savefig('study quality.jpg',  bbox_inches='tight')\n"
   ]
  },
  {
   "cell_type": "code",
   "execution_count": 22,
   "metadata": {},
   "outputs": [
    {
     "data": {
      "text/plain": [
       "count     34.000000\n",
       "mean      76.309412\n",
       "std       11.051577\n",
       "min       55.560000\n",
       "25%       66.670000\n",
       "50%       77.780000\n",
       "75%       77.780000\n",
       "max      100.000000\n",
       "Name: Study Quality, dtype: float64"
      ]
     },
     "execution_count": 22,
     "metadata": {},
     "output_type": "execute_result"
    }
   ],
   "source": [
    "df['Study Quality'].str.rstrip('%').astype('float').describe()"
   ]
  },
  {
   "cell_type": "code",
   "execution_count": 23,
   "metadata": {},
   "outputs": [],
   "source": [
    "qq=pd.read_csv('Data/Final_41 - QQ.csv')\n",
    "qq.drop(qq[qq.eleiminate == 1].index, inplace=True)"
   ]
  },
  {
   "cell_type": "code",
   "execution_count": 24,
   "metadata": {},
   "outputs": [
    {
     "data": {
      "text/plain": [
       "Index(['Unnamed: 0', 'KEY', 'Title', 'Q1', 'Q2', 'Q3', 'Q4', 'Q5', 'Q6', 'Q7',\n",
       "       'Q8', 'Q9', 'AVG', 'notes', 'questions', 'eleiminate'],\n",
       "      dtype='object')"
      ]
     },
     "execution_count": 24,
     "metadata": {},
     "output_type": "execute_result"
    }
   ],
   "source": [
    "qq.columns"
   ]
  },
  {
   "cell_type": "code",
   "execution_count": 25,
   "metadata": {},
   "outputs": [],
   "source": [
    "qqs=qq[['Q1', 'Q2', 'Q3', 'Q4', 'Q5', 'Q6', 'Q7',\n",
    "       'Q8', 'Q9']]"
   ]
  },
  {
   "cell_type": "code",
   "execution_count": 26,
   "metadata": {},
   "outputs": [],
   "source": [
    "qqs=qqs[['Q1', 'Q2', 'Q3', 'Q4', 'Q5', 'Q6']].apply(pd.to_numeric)"
   ]
  },
  {
   "cell_type": "code",
   "execution_count": 27,
   "metadata": {},
   "outputs": [],
   "source": [
    "qqs['sum'] = qqs['Q1']+ qqs['Q2']+qqs['Q3']+qqs['Q4']+qqs['Q5']+qqs['Q6']"
   ]
  },
  {
   "cell_type": "code",
   "execution_count": 28,
   "metadata": {},
   "outputs": [
    {
     "data": {
      "text/html": [
       "<div>\n",
       "<style scoped>\n",
       "    .dataframe tbody tr th:only-of-type {\n",
       "        vertical-align: middle;\n",
       "    }\n",
       "\n",
       "    .dataframe tbody tr th {\n",
       "        vertical-align: top;\n",
       "    }\n",
       "\n",
       "    .dataframe thead th {\n",
       "        text-align: right;\n",
       "    }\n",
       "</style>\n",
       "<table border=\"1\" class=\"dataframe\">\n",
       "  <thead>\n",
       "    <tr style=\"text-align: right;\">\n",
       "      <th></th>\n",
       "      <th>Q1</th>\n",
       "      <th>Q2</th>\n",
       "      <th>Q3</th>\n",
       "      <th>Q4</th>\n",
       "      <th>Q5</th>\n",
       "      <th>Q6</th>\n",
       "      <th>sum</th>\n",
       "    </tr>\n",
       "  </thead>\n",
       "  <tbody>\n",
       "    <tr>\n",
       "      <th>11</th>\n",
       "      <td>1.000000</td>\n",
       "      <td>1.00000</td>\n",
       "      <td>0.000000</td>\n",
       "      <td>0.000000</td>\n",
       "      <td>1.000000</td>\n",
       "      <td>0.000000</td>\n",
       "      <td>3.000000</td>\n",
       "    </tr>\n",
       "    <tr>\n",
       "      <th>13</th>\n",
       "      <td>1.000000</td>\n",
       "      <td>1.00000</td>\n",
       "      <td>1.000000</td>\n",
       "      <td>1.000000</td>\n",
       "      <td>1.000000</td>\n",
       "      <td>0.000000</td>\n",
       "      <td>5.000000</td>\n",
       "    </tr>\n",
       "    <tr>\n",
       "      <th>15</th>\n",
       "      <td>0.000000</td>\n",
       "      <td>1.00000</td>\n",
       "      <td>0.000000</td>\n",
       "      <td>1.000000</td>\n",
       "      <td>1.000000</td>\n",
       "      <td>1.000000</td>\n",
       "      <td>4.000000</td>\n",
       "    </tr>\n",
       "    <tr>\n",
       "      <th>19</th>\n",
       "      <td>1.000000</td>\n",
       "      <td>1.00000</td>\n",
       "      <td>1.000000</td>\n",
       "      <td>0.000000</td>\n",
       "      <td>1.000000</td>\n",
       "      <td>1.000000</td>\n",
       "      <td>5.000000</td>\n",
       "    </tr>\n",
       "    <tr>\n",
       "      <th>41</th>\n",
       "      <td>0.963415</td>\n",
       "      <td>0.97561</td>\n",
       "      <td>0.926829</td>\n",
       "      <td>0.914634</td>\n",
       "      <td>0.963415</td>\n",
       "      <td>0.926829</td>\n",
       "      <td>5.670732</td>\n",
       "    </tr>\n",
       "  </tbody>\n",
       "</table>\n",
       "</div>"
      ],
      "text/plain": [
       "          Q1       Q2        Q3        Q4        Q5        Q6       sum\n",
       "11  1.000000  1.00000  0.000000  0.000000  1.000000  0.000000  3.000000\n",
       "13  1.000000  1.00000  1.000000  1.000000  1.000000  0.000000  5.000000\n",
       "15  0.000000  1.00000  0.000000  1.000000  1.000000  1.000000  4.000000\n",
       "19  1.000000  1.00000  1.000000  0.000000  1.000000  1.000000  5.000000\n",
       "41  0.963415  0.97561  0.926829  0.914634  0.963415  0.926829  5.670732"
      ]
     },
     "execution_count": 28,
     "metadata": {},
     "output_type": "execute_result"
    }
   ],
   "source": [
    "qqs[qqs['sum']<6]"
   ]
  },
  {
   "cell_type": "code",
   "execution_count": 29,
   "metadata": {},
   "outputs": [
    {
     "data": {
      "text/plain": [
       "0.8823529411764706"
      ]
     },
     "execution_count": 29,
     "metadata": {},
     "output_type": "execute_result"
    }
   ],
   "source": [
    "# positively answer Q1-Q6\n",
    "30/34"
   ]
  },
  {
   "cell_type": "code",
   "execution_count": 30,
   "metadata": {},
   "outputs": [
    {
     "data": {
      "text/plain": [
       "0.8185078909617647"
      ]
     },
     "execution_count": 30,
     "metadata": {},
     "output_type": "execute_result"
    }
   ],
   "source": [
    "# do not provide source code\n",
    "1 - sum(qq['Q8'])/34"
   ]
  },
  {
   "cell_type": "code",
   "execution_count": null,
   "metadata": {},
   "outputs": [],
   "source": []
  },
  {
   "cell_type": "code",
   "execution_count": null,
   "metadata": {},
   "outputs": [],
   "source": []
  },
  {
   "cell_type": "code",
   "execution_count": null,
   "metadata": {},
   "outputs": [],
   "source": []
  },
  {
   "cell_type": "code",
   "execution_count": 31,
   "metadata": {},
   "outputs": [
    {
     "data": {
      "image/png": "[encoded data removed]",
      "text/plain": [
       "<Figure size 576x432 with 1 Axes>"
      ]
     },
     "metadata": {
      "needs_background": "light"
     },
     "output_type": "display_data"
    }
   ],
   "source": [
    "###Additional plots \n",
    "fig, ax = plt.subplots(figsize=(8,6))\n",
    "\n",
    "counts, bins, patches = ax.hist(df['Year'], edgecolor='gray')\n",
    "\n",
    "plt.title('Publication Year Distribution')\n",
    "plt.xlabel('Publication Year')\n",
    "plt.ylabel('Number of Articles')\n",
    "\n",
    "# Set the ticks to be at the edges of the bins.\n",
    "ax.set_xticks(bins)\n",
    "\n",
    "# Change the colors of bars at the edges...\n",
    "twentyfifth, seventyfifth = np.percentile(df['Year'], [25, 75])\n",
    "\n",
    "# Label the raw counts and the percentages below the x-axis...\n",
    "bin_centers = 0.5 * np.diff(bins) + bins[:-1]\n",
    "for count, x in zip(counts, bin_centers):\n",
    "    # Label the raw counts\n",
    "    if(count):\n",
    "        ax.annotate(int(count), xy=(x, 0.03), xycoords=('data', 'axes fraction'), xytext=(0, -18), textcoords='offset points', va='top', ha='center')\n",
    "\n",
    "ax.tick_params(axis='x', which='major', pad=15)\n",
    "\n",
    "    # Label the percentages\n",
    "   # percent = '%0.0f%%' % (100 * float(count) / counts.sum())\n",
    "    #ax.annotate(percent, xy=(x, 0), xycoords=('data', 'axes fraction'),\n",
    "     #   xytext=(0, -32), textcoords='offset points', va='top', ha='center')"
   ]
  },
  {
   "cell_type": "code",
   "execution_count": 32,
   "metadata": {},
   "outputs": [
    {
     "data": {
      "text/plain": [
       "Private                                                                                                                                                                               2\n",
       "SoMoral                                                                                                                                                                               1\n",
       "Spider                                                                                                                                                                                1\n",
       "SemEval-2010                                                                                                                                                                          1\n",
       "CORA                                                                                                                                                                                  1\n",
       "AffectiveText, ISEAR, and Fairy Tales, Facebook posts                                                                                                                                 1\n",
       "BBC News database, BBC SPORTS database, Kaagle news                                                                                                                                   1\n",
       "Kinsources, Geoquery                                                                                                                                                                  1\n",
       "COPA benchmark set (Choice of Plausible Alternatives)                                                                                                                                 1\n",
       " Liar data set                                                                                                                                                                        1\n",
       "DBpedia                                                                                                                                                                               1\n",
       "FB15K, WN18                                                                                                                                                                           1\n",
       "multiple, multi-modal                                                                                                                                                                 1\n",
       "MIER-19                                                                                                                                                                               1\n",
       "NLTK                                                                                                                                                                                  1\n",
       "CLEVR                                                                                                                                                                                 1\n",
       "Wikitext                                                                                                                                                                              1\n",
       "MDG-C, MDG-D                                                                                                                                                                          1\n",
       "COCO, Penn TreeBank                                                                                                                                                                   1\n",
       "Pang and Lee,\\nAffectNet benchmark                                                                                                                                                    1\n",
       "ClueWeb, Freebase                                                                                                                                                                     1\n",
       "MathQA                                                                                                                                                                                1\n",
       "bAbI-20                                                                                                                                                                               1\n",
       "SemEval 2016                                                                                                                                                                          1\n",
       "semeval2019, semeval2019,\\nmbti,\\nFox,\\nBBC,\\netc..                                                                                                                                   1\n",
       "UIUC dataset,                                                                                                                                                                         1\n",
       "IAPR TC-12 image benchmark                                                                                                                                                            1\n",
       "Medical Guideline Central, word2vec -> lstm (5 class prediction for each word) -> 125 successfully obtained fuzzy rules in the fuzzy rules database in MATLAB -> defuzzification\\n    1\n",
       "DialogRE                                                                                                                                                                              1\n",
       "sentiment140, sentiment140,\\nCOVID-19_Sentiments                                                                                                                                      1\n",
       "Reuters Corpus Volume 1, RCV1-2K, AmazonCat-13K                                                                                                                                       1\n",
       "CRAFT                                                                                                                                                                                 1\n",
       "CEMR                                                                                                                                                                                  1\n",
       "Name: Datasets, dtype: int64"
      ]
     },
     "execution_count": 32,
     "metadata": {},
     "output_type": "execute_result"
    }
   ],
   "source": [
    "df['Datasets'].value_counts()"
   ]
  },
  {
   "cell_type": "code",
   "execution_count": 33,
   "metadata": {},
   "outputs": [],
   "source": [
    "# symbolic terms\n",
    "sym_terms=df['Symbolic terms']\n",
    "sym_list=[[i.rstrip(',') for i in str(s).split(\"\\n\")] for s in sym_terms]"
   ]
  },
  {
   "cell_type": "code",
   "execution_count": 34,
   "metadata": {},
   "outputs": [],
   "source": [
    "neu_terms=df['Neural terms']\n",
    "neu_list=[[i.rstrip(',') for i in str(s).split(\"\\n\")] for s in neu_terms]"
   ]
  },
  {
   "cell_type": "code",
   "execution_count": 35,
   "metadata": {},
   "outputs": [],
   "source": [
    "sym_set=set(sum(sym_list,[]))"
   ]
  },
  {
   "cell_type": "code",
   "execution_count": 36,
   "metadata": {},
   "outputs": [],
   "source": [
    "neu_set=set(sum(neu_list,[]))"
   ]
  },
  {
   "cell_type": "code",
   "execution_count": 37,
   "metadata": {},
   "outputs": [
    {
     "data": {
      "text/plain": [
       "{'',\n",
       " 'Memory Network',\n",
       " 'SVM',\n",
       " 'Tensor Product Representation (TPR)',\n",
       " 'attention network (Attn)',\n",
       " 'convolutional neural network (CNN)',\n",
       " 'deep belief network (DBN)',\n",
       " 'graph neural network (GNN)',\n",
       " 'logic tensor network (LTN)',\n",
       " 'neural network (NN)',\n",
       " 'neuroevolution (NE)',\n",
       " 'recurrent neural network (RNN)',\n",
       " 'recursive neural knowledge network (RNKN)',\n",
       " 'recursive neural network (RcNN)',\n",
       " 'reinforcement learning (RL)',\n",
       " 'transformer'}"
      ]
     },
     "execution_count": 37,
     "metadata": {},
     "output_type": "execute_result"
    }
   ],
   "source": [
    "neu_set"
   ]
  },
  {
   "cell_type": "code",
   "execution_count": 38,
   "metadata": {},
   "outputs": [
    {
     "data": {
      "text/plain": [
       "{'ConceptNet KG',\n",
       " 'Huffman tree',\n",
       " 'Neutrosophy',\n",
       " 'Sequencial decision making',\n",
       " 'binding problem',\n",
       " 'case based reasoning (CBR)',\n",
       " 'cognitive linguistics',\n",
       " 'commonsense knowledge',\n",
       " 'constituency parsing',\n",
       " 'deduction',\n",
       " 'dependency parsing',\n",
       " 'domain specific language (DSL)',\n",
       " 'first order logic (FOL)',\n",
       " 'fuzzy logic',\n",
       " 'fuzzy neural network (FNN)',\n",
       " 'fuzzy rules',\n",
       " 'graph reasoning',\n",
       " 'graph representation',\n",
       " 'grounding',\n",
       " 'knowledge graph (KG)',\n",
       " 'logic',\n",
       " 'logical connectives',\n",
       " 'mamdani fuzzy system (MFS)',\n",
       " 'ontology',\n",
       " 'predicate logic',\n",
       " 'program synthesis',\n",
       " 'propositionalization',\n",
       " 'relational logic',\n",
       " 'rule based',\n",
       " 'rule induction',\n",
       " 'semantic enrichment',\n",
       " 'semantic net',\n",
       " 'semantic parsing',\n",
       " 'sememe',\n",
       " 'statistical relational learning (SLR)',\n",
       " 'symbolic learner',\n",
       " 'symbolic node embedding',\n",
       " 'symbolic processing',\n",
       " 'symbolic representations',\n",
       " 'transductive learning'}"
      ]
     },
     "execution_count": 38,
     "metadata": {},
     "output_type": "execute_result"
    }
   ],
   "source": [
    "sym_set"
   ]
  },
  {
   "cell_type": "code",
   "execution_count": 39,
   "metadata": {},
   "outputs": [],
   "source": [
    "tup_dict=defaultdict(int)\n",
    "for i in range(len(sym_list)):\n",
    "    lists = list(itertools.product(sym_list[i],neu_list[i]))\n",
    "    \n",
    "    for j in lists:\n",
    "        tup_dict[j]+=1\n"
   ]
  },
  {
   "cell_type": "code",
   "execution_count": 40,
   "metadata": {},
   "outputs": [
    {
     "data": {
      "text/plain": [
       "defaultdict(int,\n",
       "            {('deduction', 'recurrent neural network (RNN)'): 1,\n",
       "             ('dependency parsing', 'recurrent neural network (RNN)'): 1,\n",
       "             ('rule based', 'recurrent neural network (RNN)'): 3,\n",
       "             ('semantic enrichment', 'recurrent neural network (RNN)'): 3,\n",
       "             ('first order logic (FOL)', 'recurrent neural network (RNN)'): 1,\n",
       "             ('first order logic (FOL)', 'logic tensor network (LTN)'): 1,\n",
       "             ('knowledge graph (KG)', 'logic tensor network (LTN)'): 1,\n",
       "             ('semantic enrichment', 'graph neural network (GNN)'): 1,\n",
       "             ('sememe', 'neural network (NN)'): 1,\n",
       "             ('rule based', 'SVM'): 2,\n",
       "             ('semantic enrichment', 'SVM'): 3,\n",
       "             ('symbolic learner', 'SVM'): 1,\n",
       "             ('symbolic learner', 'neuroevolution (NE)'): 1,\n",
       "             ('symbolic representations', 'SVM'): 1,\n",
       "             ('symbolic representations', 'neuroevolution (NE)'): 1,\n",
       "             ('ConceptNet KG', 'SVM'): 1,\n",
       "             ('ConceptNet KG', 'neuroevolution (NE)'): 1,\n",
       "             ('logic', 'recurrent neural network (RNN)'): 1,\n",
       "             ('statistical relational learning (SLR)', 'SVM'): 1,\n",
       "             ('fuzzy logic', 'SVM'): 1,\n",
       "             ('first order logic (FOL)', 'SVM'): 1,\n",
       "             ('transductive learning', 'SVM'): 1,\n",
       "             ('grounding', 'SVM'): 1,\n",
       "             ('propositionalization', 'SVM'): 1,\n",
       "             ('first order logic (FOL)',\n",
       "              'recursive neural knowledge network (RNKN)'): 1,\n",
       "             ('first order logic (FOL)', 'recursive neural network (RcNN)'): 1,\n",
       "             ('Huffman tree', 'recursive neural knowledge network (RNKN)'): 1,\n",
       "             ('Huffman tree', 'recursive neural network (RcNN)'): 1,\n",
       "             ('dependency parsing', 'SVM'): 1,\n",
       "             ('commonsense knowledge', 'SVM'): 1,\n",
       "             ('graph representation', 'SVM'): 1,\n",
       "             ('knowledge graph (KG)', 'recurrent neural network (RNN)'): 1,\n",
       "             ('Sequencial decision making', 'reinforcement learning (RL)'): 1,\n",
       "             ('Sequencial decision making', 'Memory Network'): 1,\n",
       "             ('Sequencial decision making', 'neural network (NN)'): 1,\n",
       "             ('Sequencial decision making', ''): 1,\n",
       "             ('predicate logic', 'reinforcement learning (RL)'): 1,\n",
       "             ('predicate logic', 'Memory Network'): 1,\n",
       "             ('predicate logic', 'neural network (NN)'): 1,\n",
       "             ('predicate logic', ''): 1,\n",
       "             ('relational logic', 'reinforcement learning (RL)'): 1,\n",
       "             ('relational logic', 'Memory Network'): 1,\n",
       "             ('relational logic', 'neural network (NN)'): 1,\n",
       "             ('relational logic', ''): 1,\n",
       "             ('rule based', 'reinforcement learning (RL)'): 1,\n",
       "             ('rule based', 'Memory Network'): 1,\n",
       "             ('rule based', 'neural network (NN)'): 1,\n",
       "             ('rule based', ''): 1,\n",
       "             ('rule induction', 'reinforcement learning (RL)'): 1,\n",
       "             ('rule induction', 'Memory Network'): 1,\n",
       "             ('rule induction', 'neural network (NN)'): 1,\n",
       "             ('rule induction', ''): 1,\n",
       "             ('cognitive linguistics', 'reinforcement learning (RL)'): 1,\n",
       "             ('cognitive linguistics', 'Memory Network'): 1,\n",
       "             ('cognitive linguistics', 'neural network (NN)'): 1,\n",
       "             ('cognitive linguistics', ''): 1,\n",
       "             ('fuzzy logic', 'convolutional neural network (CNN)'): 2,\n",
       "             ('fuzzy logic', 'recurrent neural network (RNN)'): 2,\n",
       "             ('fuzzy logic', 'deep belief network (DBN)'): 1,\n",
       "             ('fuzzy neural network (FNN)',\n",
       "              'convolutional neural network (CNN)'): 1,\n",
       "             ('fuzzy neural network (FNN)',\n",
       "              'recurrent neural network (RNN)'): 1,\n",
       "             ('fuzzy neural network (FNN)', 'deep belief network (DBN)'): 1,\n",
       "             ('logical connectives', 'convolutional neural network (CNN)'): 1,\n",
       "             ('logical connectives', 'recurrent neural network (RNN)'): 1,\n",
       "             ('logical connectives', 'deep belief network (DBN)'): 1,\n",
       "             ('fuzzy logic', 'neural network (NN)'): 2,\n",
       "             ('Neutrosophy', 'neural network (NN)'): 1,\n",
       "             ('symbolic processing', 'transformer'): 1,\n",
       "             ('semantic net', 'convolutional neural network (CNN)'): 1,\n",
       "             ('semantic net', 'recurrent neural network (RNN)'): 1,\n",
       "             ('fuzzy rules', 'convolutional neural network (CNN)'): 1,\n",
       "             ('fuzzy rules', 'neural network (NN)'): 1,\n",
       "             ('mamdani fuzzy system (MFS)',\n",
       "              'convolutional neural network (CNN)'): 1,\n",
       "             ('mamdani fuzzy system (MFS)', 'neural network (NN)'): 1,\n",
       "             ('case based reasoning (CBR)',\n",
       "              'recurrent neural network (RNN)'): 1,\n",
       "             ('constituency parsing', 'convolutional neural network (CNN)'): 1,\n",
       "             ('graph representation', 'attention network (Attn)'): 1,\n",
       "             ('graph representation', 'graph neural network (GNN)'): 2,\n",
       "             ('graph reasoning', 'attention network (Attn)'): 1,\n",
       "             ('graph reasoning', 'graph neural network (GNN)'): 1,\n",
       "             ('ontology', 'recurrent neural network (RNN)'): 1,\n",
       "             ('domain specific language (DSL)', 'neural network (NN)'): 1,\n",
       "             ('transductive learning', 'neural network (NN)'): 1,\n",
       "             ('program synthesis', 'neural network (NN)'): 1,\n",
       "             ('fuzzy rules', 'recurrent neural network (RNN)'): 1,\n",
       "             ('domain specific language (DSL)',\n",
       "              'recurrent neural network (RNN)'): 1,\n",
       "             ('domain specific language (DSL)',\n",
       "              'reinforcement learning (RL)'): 1,\n",
       "             ('constituency parsing', 'recursive neural network (RcNN)'): 1,\n",
       "             ('constituency parsing',\n",
       "              'Tensor Product Representation (TPR)'): 1,\n",
       "             ('semantic enrichment', 'convolutional neural network (CNN)'): 1,\n",
       "             ('semantic enrichment', 'attention network (Attn)'): 1,\n",
       "             ('symbolic node embedding', 'graph neural network (GNN)'): 1,\n",
       "             ('semantic parsing', 'graph neural network (GNN)'): 1,\n",
       "             ('binding problem', 'Tensor Product Representation (TPR)'): 1,\n",
       "             ('binding problem', 'recurrent neural network (RNN)'): 1})"
      ]
     },
     "execution_count": 40,
     "metadata": {},
     "output_type": "execute_result"
    }
   ],
   "source": [
    "tup_dict"
   ]
  },
  {
   "cell_type": "code",
   "execution_count": 41,
   "metadata": {},
   "outputs": [],
   "source": [
    "d=defaultdict(dict)\n",
    "\n",
    "for i in sym_set:\n",
    "    inner_dict=defaultdict(dict)\n",
    "    for j in neu_set:\n",
    "        inner_dict[j]=tup_dict[(i,j)]\n",
    "    d[i]=inner_dict\n",
    "    \n",
    "assd=pd.DataFrame(d)"
   ]
  },
  {
   "cell_type": "code",
   "execution_count": 42,
   "metadata": {},
   "outputs": [
    {
     "data": {
      "text/html": [
       "<div>\n",
       "<style scoped>\n",
       "    .dataframe tbody tr th:only-of-type {\n",
       "        vertical-align: middle;\n",
       "    }\n",
       "\n",
       "    .dataframe tbody tr th {\n",
       "        vertical-align: top;\n",
       "    }\n",
       "\n",
       "    .dataframe thead th {\n",
       "        text-align: right;\n",
       "    }\n",
       "</style>\n",
       "<table border=\"1\" class=\"dataframe\">\n",
       "  <thead>\n",
       "    <tr style=\"text-align: right;\">\n",
       "      <th></th>\n",
       "      <th>logic</th>\n",
       "      <th>knowledge graph (KG)</th>\n",
       "      <th>symbolic representations</th>\n",
       "      <th>domain specific language (DSL)</th>\n",
       "      <th>dependency parsing</th>\n",
       "      <th>sememe</th>\n",
       "      <th>symbolic processing</th>\n",
       "      <th>case based reasoning (CBR)</th>\n",
       "      <th>program synthesis</th>\n",
       "      <th>first order logic (FOL)</th>\n",
       "      <th>...</th>\n",
       "      <th>constituency parsing</th>\n",
       "      <th>graph reasoning</th>\n",
       "      <th>grounding</th>\n",
       "      <th>propositionalization</th>\n",
       "      <th>binding problem</th>\n",
       "      <th>ontology</th>\n",
       "      <th>semantic enrichment</th>\n",
       "      <th>fuzzy logic</th>\n",
       "      <th>semantic net</th>\n",
       "      <th>predicate logic</th>\n",
       "    </tr>\n",
       "  </thead>\n",
       "  <tbody>\n",
       "    <tr>\n",
       "      <th></th>\n",
       "      <td>0</td>\n",
       "      <td>0</td>\n",
       "      <td>0</td>\n",
       "      <td>0</td>\n",
       "      <td>0</td>\n",
       "      <td>0</td>\n",
       "      <td>0</td>\n",
       "      <td>0</td>\n",
       "      <td>0</td>\n",
       "      <td>0</td>\n",
       "      <td>...</td>\n",
       "      <td>0</td>\n",
       "      <td>0</td>\n",
       "      <td>0</td>\n",
       "      <td>0</td>\n",
       "      <td>0</td>\n",
       "      <td>0</td>\n",
       "      <td>0</td>\n",
       "      <td>0</td>\n",
       "      <td>0</td>\n",
       "      <td>1</td>\n",
       "    </tr>\n",
       "    <tr>\n",
       "      <th>neural network (NN)</th>\n",
       "      <td>0</td>\n",
       "      <td>0</td>\n",
       "      <td>0</td>\n",
       "      <td>1</td>\n",
       "      <td>0</td>\n",
       "      <td>1</td>\n",
       "      <td>0</td>\n",
       "      <td>0</td>\n",
       "      <td>1</td>\n",
       "      <td>0</td>\n",
       "      <td>...</td>\n",
       "      <td>0</td>\n",
       "      <td>0</td>\n",
       "      <td>0</td>\n",
       "      <td>0</td>\n",
       "      <td>0</td>\n",
       "      <td>0</td>\n",
       "      <td>0</td>\n",
       "      <td>2</td>\n",
       "      <td>0</td>\n",
       "      <td>1</td>\n",
       "    </tr>\n",
       "    <tr>\n",
       "      <th>SVM</th>\n",
       "      <td>0</td>\n",
       "      <td>0</td>\n",
       "      <td>1</td>\n",
       "      <td>0</td>\n",
       "      <td>1</td>\n",
       "      <td>0</td>\n",
       "      <td>0</td>\n",
       "      <td>0</td>\n",
       "      <td>0</td>\n",
       "      <td>1</td>\n",
       "      <td>...</td>\n",
       "      <td>0</td>\n",
       "      <td>0</td>\n",
       "      <td>1</td>\n",
       "      <td>1</td>\n",
       "      <td>0</td>\n",
       "      <td>0</td>\n",
       "      <td>3</td>\n",
       "      <td>1</td>\n",
       "      <td>0</td>\n",
       "      <td>0</td>\n",
       "    </tr>\n",
       "    <tr>\n",
       "      <th>deep belief network (DBN)</th>\n",
       "      <td>0</td>\n",
       "      <td>0</td>\n",
       "      <td>0</td>\n",
       "      <td>0</td>\n",
       "      <td>0</td>\n",
       "      <td>0</td>\n",
       "      <td>0</td>\n",
       "      <td>0</td>\n",
       "      <td>0</td>\n",
       "      <td>0</td>\n",
       "      <td>...</td>\n",
       "      <td>0</td>\n",
       "      <td>0</td>\n",
       "      <td>0</td>\n",
       "      <td>0</td>\n",
       "      <td>0</td>\n",
       "      <td>0</td>\n",
       "      <td>0</td>\n",
       "      <td>1</td>\n",
       "      <td>0</td>\n",
       "      <td>0</td>\n",
       "    </tr>\n",
       "    <tr>\n",
       "      <th>attention network (Attn)</th>\n",
       "      <td>0</td>\n",
       "      <td>0</td>\n",
       "      <td>0</td>\n",
       "      <td>0</td>\n",
       "      <td>0</td>\n",
       "      <td>0</td>\n",
       "      <td>0</td>\n",
       "      <td>0</td>\n",
       "      <td>0</td>\n",
       "      <td>0</td>\n",
       "      <td>...</td>\n",
       "      <td>0</td>\n",
       "      <td>1</td>\n",
       "      <td>0</td>\n",
       "      <td>0</td>\n",
       "      <td>0</td>\n",
       "      <td>0</td>\n",
       "      <td>1</td>\n",
       "      <td>0</td>\n",
       "      <td>0</td>\n",
       "      <td>0</td>\n",
       "    </tr>\n",
       "    <tr>\n",
       "      <th>recurrent neural network (RNN)</th>\n",
       "      <td>1</td>\n",
       "      <td>1</td>\n",
       "      <td>0</td>\n",
       "      <td>1</td>\n",
       "      <td>1</td>\n",
       "      <td>0</td>\n",
       "      <td>0</td>\n",
       "      <td>1</td>\n",
       "      <td>0</td>\n",
       "      <td>1</td>\n",
       "      <td>...</td>\n",
       "      <td>0</td>\n",
       "      <td>0</td>\n",
       "      <td>0</td>\n",
       "      <td>0</td>\n",
       "      <td>1</td>\n",
       "      <td>1</td>\n",
       "      <td>3</td>\n",
       "      <td>2</td>\n",
       "      <td>1</td>\n",
       "      <td>0</td>\n",
       "    </tr>\n",
       "    <tr>\n",
       "      <th>recursive neural network (RcNN)</th>\n",
       "      <td>0</td>\n",
       "      <td>0</td>\n",
       "      <td>0</td>\n",
       "      <td>0</td>\n",
       "      <td>0</td>\n",
       "      <td>0</td>\n",
       "      <td>0</td>\n",
       "      <td>0</td>\n",
       "      <td>0</td>\n",
       "      <td>1</td>\n",
       "      <td>...</td>\n",
       "      <td>1</td>\n",
       "      <td>0</td>\n",
       "      <td>0</td>\n",
       "      <td>0</td>\n",
       "      <td>0</td>\n",
       "      <td>0</td>\n",
       "      <td>0</td>\n",
       "      <td>0</td>\n",
       "      <td>0</td>\n",
       "      <td>0</td>\n",
       "    </tr>\n",
       "    <tr>\n",
       "      <th>reinforcement learning (RL)</th>\n",
       "      <td>0</td>\n",
       "      <td>0</td>\n",
       "      <td>0</td>\n",
       "      <td>1</td>\n",
       "      <td>0</td>\n",
       "      <td>0</td>\n",
       "      <td>0</td>\n",
       "      <td>0</td>\n",
       "      <td>0</td>\n",
       "      <td>0</td>\n",
       "      <td>...</td>\n",
       "      <td>0</td>\n",
       "      <td>0</td>\n",
       "      <td>0</td>\n",
       "      <td>0</td>\n",
       "      <td>0</td>\n",
       "      <td>0</td>\n",
       "      <td>0</td>\n",
       "      <td>0</td>\n",
       "      <td>0</td>\n",
       "      <td>1</td>\n",
       "    </tr>\n",
       "    <tr>\n",
       "      <th>convolutional neural network (CNN)</th>\n",
       "      <td>0</td>\n",
       "      <td>0</td>\n",
       "      <td>0</td>\n",
       "      <td>0</td>\n",
       "      <td>0</td>\n",
       "      <td>0</td>\n",
       "      <td>0</td>\n",
       "      <td>0</td>\n",
       "      <td>0</td>\n",
       "      <td>0</td>\n",
       "      <td>...</td>\n",
       "      <td>1</td>\n",
       "      <td>0</td>\n",
       "      <td>0</td>\n",
       "      <td>0</td>\n",
       "      <td>0</td>\n",
       "      <td>0</td>\n",
       "      <td>1</td>\n",
       "      <td>2</td>\n",
       "      <td>1</td>\n",
       "      <td>0</td>\n",
       "    </tr>\n",
       "    <tr>\n",
       "      <th>neuroevolution (NE)</th>\n",
       "      <td>0</td>\n",
       "      <td>0</td>\n",
       "      <td>1</td>\n",
       "      <td>0</td>\n",
       "      <td>0</td>\n",
       "      <td>0</td>\n",
       "      <td>0</td>\n",
       "      <td>0</td>\n",
       "      <td>0</td>\n",
       "      <td>0</td>\n",
       "      <td>...</td>\n",
       "      <td>0</td>\n",
       "      <td>0</td>\n",
       "      <td>0</td>\n",
       "      <td>0</td>\n",
       "      <td>0</td>\n",
       "      <td>0</td>\n",
       "      <td>0</td>\n",
       "      <td>0</td>\n",
       "      <td>0</td>\n",
       "      <td>0</td>\n",
       "    </tr>\n",
       "    <tr>\n",
       "      <th>recursive neural knowledge network (RNKN)</th>\n",
       "      <td>0</td>\n",
       "      <td>0</td>\n",
       "      <td>0</td>\n",
       "      <td>0</td>\n",
       "      <td>0</td>\n",
       "      <td>0</td>\n",
       "      <td>0</td>\n",
       "      <td>0</td>\n",
       "      <td>0</td>\n",
       "      <td>1</td>\n",
       "      <td>...</td>\n",
       "      <td>0</td>\n",
       "      <td>0</td>\n",
       "      <td>0</td>\n",
       "      <td>0</td>\n",
       "      <td>0</td>\n",
       "      <td>0</td>\n",
       "      <td>0</td>\n",
       "      <td>0</td>\n",
       "      <td>0</td>\n",
       "      <td>0</td>\n",
       "    </tr>\n",
       "    <tr>\n",
       "      <th>transformer</th>\n",
       "      <td>0</td>\n",
       "      <td>0</td>\n",
       "      <td>0</td>\n",
       "      <td>0</td>\n",
       "      <td>0</td>\n",
       "      <td>0</td>\n",
       "      <td>1</td>\n",
       "      <td>0</td>\n",
       "      <td>0</td>\n",
       "      <td>0</td>\n",
       "      <td>...</td>\n",
       "      <td>0</td>\n",
       "      <td>0</td>\n",
       "      <td>0</td>\n",
       "      <td>0</td>\n",
       "      <td>0</td>\n",
       "      <td>0</td>\n",
       "      <td>0</td>\n",
       "      <td>0</td>\n",
       "      <td>0</td>\n",
       "      <td>0</td>\n",
       "    </tr>\n",
       "    <tr>\n",
       "      <th>Tensor Product Representation (TPR)</th>\n",
       "      <td>0</td>\n",
       "      <td>0</td>\n",
       "      <td>0</td>\n",
       "      <td>0</td>\n",
       "      <td>0</td>\n",
       "      <td>0</td>\n",
       "      <td>0</td>\n",
       "      <td>0</td>\n",
       "      <td>0</td>\n",
       "      <td>0</td>\n",
       "      <td>...</td>\n",
       "      <td>1</td>\n",
       "      <td>0</td>\n",
       "      <td>0</td>\n",
       "      <td>0</td>\n",
       "      <td>1</td>\n",
       "      <td>0</td>\n",
       "      <td>0</td>\n",
       "      <td>0</td>\n",
       "      <td>0</td>\n",
       "      <td>0</td>\n",
       "    </tr>\n",
       "    <tr>\n",
       "      <th>logic tensor network (LTN)</th>\n",
       "      <td>0</td>\n",
       "      <td>1</td>\n",
       "      <td>0</td>\n",
       "      <td>0</td>\n",
       "      <td>0</td>\n",
       "      <td>0</td>\n",
       "      <td>0</td>\n",
       "      <td>0</td>\n",
       "      <td>0</td>\n",
       "      <td>1</td>\n",
       "      <td>...</td>\n",
       "      <td>0</td>\n",
       "      <td>0</td>\n",
       "      <td>0</td>\n",
       "      <td>0</td>\n",
       "      <td>0</td>\n",
       "      <td>0</td>\n",
       "      <td>0</td>\n",
       "      <td>0</td>\n",
       "      <td>0</td>\n",
       "      <td>0</td>\n",
       "    </tr>\n",
       "    <tr>\n",
       "      <th>graph neural network (GNN)</th>\n",
       "      <td>0</td>\n",
       "      <td>0</td>\n",
       "      <td>0</td>\n",
       "      <td>0</td>\n",
       "      <td>0</td>\n",
       "      <td>0</td>\n",
       "      <td>0</td>\n",
       "      <td>0</td>\n",
       "      <td>0</td>\n",
       "      <td>0</td>\n",
       "      <td>...</td>\n",
       "      <td>0</td>\n",
       "      <td>1</td>\n",
       "      <td>0</td>\n",
       "      <td>0</td>\n",
       "      <td>0</td>\n",
       "      <td>0</td>\n",
       "      <td>1</td>\n",
       "      <td>0</td>\n",
       "      <td>0</td>\n",
       "      <td>0</td>\n",
       "    </tr>\n",
       "    <tr>\n",
       "      <th>Memory Network</th>\n",
       "      <td>0</td>\n",
       "      <td>0</td>\n",
       "      <td>0</td>\n",
       "      <td>0</td>\n",
       "      <td>0</td>\n",
       "      <td>0</td>\n",
       "      <td>0</td>\n",
       "      <td>0</td>\n",
       "      <td>0</td>\n",
       "      <td>0</td>\n",
       "      <td>...</td>\n",
       "      <td>0</td>\n",
       "      <td>0</td>\n",
       "      <td>0</td>\n",
       "      <td>0</td>\n",
       "      <td>0</td>\n",
       "      <td>0</td>\n",
       "      <td>0</td>\n",
       "      <td>0</td>\n",
       "      <td>0</td>\n",
       "      <td>1</td>\n",
       "    </tr>\n",
       "  </tbody>\n",
       "</table>\n",
       "<p>16 rows × 40 columns</p>\n",
       "</div>"
      ],
      "text/plain": [
       "                                           logic  knowledge graph (KG)  \\\n",
       "                                               0                     0   \n",
       "neural network (NN)                            0                     0   \n",
       "SVM                                            0                     0   \n",
       "deep belief network (DBN)                      0                     0   \n",
       "attention network (Attn)                       0                     0   \n",
       "recurrent neural network (RNN)                 1                     1   \n",
       "recursive neural network (RcNN)                0                     0   \n",
       "reinforcement learning (RL)                    0                     0   \n",
       "convolutional neural network (CNN)             0                     0   \n",
       "neuroevolution (NE)                            0                     0   \n",
       "recursive neural knowledge network (RNKN)      0                     0   \n",
       "transformer                                    0                     0   \n",
       "Tensor Product Representation (TPR)            0                     0   \n",
       "logic tensor network (LTN)                     0                     1   \n",
       "graph neural network (GNN)                     0                     0   \n",
       "Memory Network                                 0                     0   \n",
       "\n",
       "                                           symbolic representations  \\\n",
       "                                                                  0   \n",
       "neural network (NN)                                               0   \n",
       "SVM                                                               1   \n",
       "deep belief network (DBN)                                         0   \n",
       "attention network (Attn)                                          0   \n",
       "recurrent neural network (RNN)                                    0   \n",
       "recursive neural network (RcNN)                                   0   \n",
       "reinforcement learning (RL)                                       0   \n",
       "convolutional neural network (CNN)                                0   \n",
       "neuroevolution (NE)                                               1   \n",
       "recursive neural knowledge network (RNKN)                         0   \n",
       "transformer                                                       0   \n",
       "Tensor Product Representation (TPR)                               0   \n",
       "logic tensor network (LTN)                                        0   \n",
       "graph neural network (GNN)                                        0   \n",
       "Memory Network                                                    0   \n",
       "\n",
       "                                           domain specific language (DSL)  \\\n",
       "                                                                        0   \n",
       "neural network (NN)                                                     1   \n",
       "SVM                                                                     0   \n",
       "deep belief network (DBN)                                               0   \n",
       "attention network (Attn)                                                0   \n",
       "recurrent neural network (RNN)                                          1   \n",
       "recursive neural network (RcNN)                                         0   \n",
       "reinforcement learning (RL)                                             1   \n",
       "convolutional neural network (CNN)                                      0   \n",
       "neuroevolution (NE)                                                     0   \n",
       "recursive neural knowledge network (RNKN)                               0   \n",
       "transformer                                                             0   \n",
       "Tensor Product Representation (TPR)                                     0   \n",
       "logic tensor network (LTN)                                              0   \n",
       "graph neural network (GNN)                                              0   \n",
       "Memory Network                                                          0   \n",
       "\n",
       "                                           dependency parsing  sememe  \\\n",
       "                                                            0       0   \n",
       "neural network (NN)                                         0       1   \n",
       "SVM                                                         1       0   \n",
       "deep belief network (DBN)                                   0       0   \n",
       "attention network (Attn)                                    0       0   \n",
       "recurrent neural network (RNN)                              1       0   \n",
       "recursive neural network (RcNN)                             0       0   \n",
       "reinforcement learning (RL)                                 0       0   \n",
       "convolutional neural network (CNN)                          0       0   \n",
       "neuroevolution (NE)                                         0       0   \n",
       "recursive neural knowledge network (RNKN)                   0       0   \n",
       "transformer                                                 0       0   \n",
       "Tensor Product Representation (TPR)                         0       0   \n",
       "logic tensor network (LTN)                                  0       0   \n",
       "graph neural network (GNN)                                  0       0   \n",
       "Memory Network                                              0       0   \n",
       "\n",
       "                                           symbolic processing  \\\n",
       "                                                             0   \n",
       "neural network (NN)                                          0   \n",
       "SVM                                                          0   \n",
       "deep belief network (DBN)                                    0   \n",
       "attention network (Attn)                                     0   \n",
       "recurrent neural network (RNN)                               0   \n",
       "recursive neural network (RcNN)                              0   \n",
       "reinforcement learning (RL)                                  0   \n",
       "convolutional neural network (CNN)                           0   \n",
       "neuroevolution (NE)                                          0   \n",
       "recursive neural knowledge network (RNKN)                    0   \n",
       "transformer                                                  1   \n",
       "Tensor Product Representation (TPR)                          0   \n",
       "logic tensor network (LTN)                                   0   \n",
       "graph neural network (GNN)                                   0   \n",
       "Memory Network                                               0   \n",
       "\n",
       "                                           case based reasoning (CBR)  \\\n",
       "                                                                    0   \n",
       "neural network (NN)                                                 0   \n",
       "SVM                                                                 0   \n",
       "deep belief network (DBN)                                           0   \n",
       "attention network (Attn)                                            0   \n",
       "recurrent neural network (RNN)                                      1   \n",
       "recursive neural network (RcNN)                                     0   \n",
       "reinforcement learning (RL)                                         0   \n",
       "convolutional neural network (CNN)                                  0   \n",
       "neuroevolution (NE)                                                 0   \n",
       "recursive neural knowledge network (RNKN)                           0   \n",
       "transformer                                                         0   \n",
       "Tensor Product Representation (TPR)                                 0   \n",
       "logic tensor network (LTN)                                          0   \n",
       "graph neural network (GNN)                                          0   \n",
       "Memory Network                                                      0   \n",
       "\n",
       "                                           program synthesis  \\\n",
       "                                                           0   \n",
       "neural network (NN)                                        1   \n",
       "SVM                                                        0   \n",
       "deep belief network (DBN)                                  0   \n",
       "attention network (Attn)                                   0   \n",
       "recurrent neural network (RNN)                             0   \n",
       "recursive neural network (RcNN)                            0   \n",
       "reinforcement learning (RL)                                0   \n",
       "convolutional neural network (CNN)                         0   \n",
       "neuroevolution (NE)                                        0   \n",
       "recursive neural knowledge network (RNKN)                  0   \n",
       "transformer                                                0   \n",
       "Tensor Product Representation (TPR)                        0   \n",
       "logic tensor network (LTN)                                 0   \n",
       "graph neural network (GNN)                                 0   \n",
       "Memory Network                                             0   \n",
       "\n",
       "                                           first order logic (FOL)  ...  \\\n",
       "                                                                 0  ...   \n",
       "neural network (NN)                                              0  ...   \n",
       "SVM                                                              1  ...   \n",
       "deep belief network (DBN)                                        0  ...   \n",
       "attention network (Attn)                                         0  ...   \n",
       "recurrent neural network (RNN)                                   1  ...   \n",
       "recursive neural network (RcNN)                                  1  ...   \n",
       "reinforcement learning (RL)                                      0  ...   \n",
       "convolutional neural network (CNN)                               0  ...   \n",
       "neuroevolution (NE)                                              0  ...   \n",
       "recursive neural knowledge network (RNKN)                        1  ...   \n",
       "transformer                                                      0  ...   \n",
       "Tensor Product Representation (TPR)                              0  ...   \n",
       "logic tensor network (LTN)                                       1  ...   \n",
       "graph neural network (GNN)                                       0  ...   \n",
       "Memory Network                                                   0  ...   \n",
       "\n",
       "                                           constituency parsing  \\\n",
       "                                                              0   \n",
       "neural network (NN)                                           0   \n",
       "SVM                                                           0   \n",
       "deep belief network (DBN)                                     0   \n",
       "attention network (Attn)                                      0   \n",
       "recurrent neural network (RNN)                                0   \n",
       "recursive neural network (RcNN)                               1   \n",
       "reinforcement learning (RL)                                   0   \n",
       "convolutional neural network (CNN)                            1   \n",
       "neuroevolution (NE)                                           0   \n",
       "recursive neural knowledge network (RNKN)                     0   \n",
       "transformer                                                   0   \n",
       "Tensor Product Representation (TPR)                           1   \n",
       "logic tensor network (LTN)                                    0   \n",
       "graph neural network (GNN)                                    0   \n",
       "Memory Network                                                0   \n",
       "\n",
       "                                           graph reasoning  grounding  \\\n",
       "                                                         0          0   \n",
       "neural network (NN)                                      0          0   \n",
       "SVM                                                      0          1   \n",
       "deep belief network (DBN)                                0          0   \n",
       "attention network (Attn)                                 1          0   \n",
       "recurrent neural network (RNN)                           0          0   \n",
       "recursive neural network (RcNN)                          0          0   \n",
       "reinforcement learning (RL)                              0          0   \n",
       "convolutional neural network (CNN)                       0          0   \n",
       "neuroevolution (NE)                                      0          0   \n",
       "recursive neural knowledge network (RNKN)                0          0   \n",
       "transformer                                              0          0   \n",
       "Tensor Product Representation (TPR)                      0          0   \n",
       "logic tensor network (LTN)                               0          0   \n",
       "graph neural network (GNN)                               1          0   \n",
       "Memory Network                                           0          0   \n",
       "\n",
       "                                           propositionalization  \\\n",
       "                                                              0   \n",
       "neural network (NN)                                           0   \n",
       "SVM                                                           1   \n",
       "deep belief network (DBN)                                     0   \n",
       "attention network (Attn)                                      0   \n",
       "recurrent neural network (RNN)                                0   \n",
       "recursive neural network (RcNN)                               0   \n",
       "reinforcement learning (RL)                                   0   \n",
       "convolutional neural network (CNN)                            0   \n",
       "neuroevolution (NE)                                           0   \n",
       "recursive neural knowledge network (RNKN)                     0   \n",
       "transformer                                                   0   \n",
       "Tensor Product Representation (TPR)                           0   \n",
       "logic tensor network (LTN)                                    0   \n",
       "graph neural network (GNN)                                    0   \n",
       "Memory Network                                                0   \n",
       "\n",
       "                                           binding problem  ontology  \\\n",
       "                                                         0         0   \n",
       "neural network (NN)                                      0         0   \n",
       "SVM                                                      0         0   \n",
       "deep belief network (DBN)                                0         0   \n",
       "attention network (Attn)                                 0         0   \n",
       "recurrent neural network (RNN)                           1         1   \n",
       "recursive neural network (RcNN)                          0         0   \n",
       "reinforcement learning (RL)                              0         0   \n",
       "convolutional neural network (CNN)                       0         0   \n",
       "neuroevolution (NE)                                      0         0   \n",
       "recursive neural knowledge network (RNKN)                0         0   \n",
       "transformer                                              0         0   \n",
       "Tensor Product Representation (TPR)                      1         0   \n",
       "logic tensor network (LTN)                               0         0   \n",
       "graph neural network (GNN)                               0         0   \n",
       "Memory Network                                           0         0   \n",
       "\n",
       "                                           semantic enrichment  fuzzy logic  \\\n",
       "                                                             0            0   \n",
       "neural network (NN)                                          0            2   \n",
       "SVM                                                          3            1   \n",
       "deep belief network (DBN)                                    0            1   \n",
       "attention network (Attn)                                     1            0   \n",
       "recurrent neural network (RNN)                               3            2   \n",
       "recursive neural network (RcNN)                              0            0   \n",
       "reinforcement learning (RL)                                  0            0   \n",
       "convolutional neural network (CNN)                           1            2   \n",
       "neuroevolution (NE)                                          0            0   \n",
       "recursive neural knowledge network (RNKN)                    0            0   \n",
       "transformer                                                  0            0   \n",
       "Tensor Product Representation (TPR)                          0            0   \n",
       "logic tensor network (LTN)                                   0            0   \n",
       "graph neural network (GNN)                                   1            0   \n",
       "Memory Network                                               0            0   \n",
       "\n",
       "                                           semantic net  predicate logic  \n",
       "                                                      0                1  \n",
       "neural network (NN)                                   0                1  \n",
       "SVM                                                   0                0  \n",
       "deep belief network (DBN)                             0                0  \n",
       "attention network (Attn)                              0                0  \n",
       "recurrent neural network (RNN)                        1                0  \n",
       "recursive neural network (RcNN)                       0                0  \n",
       "reinforcement learning (RL)                           0                1  \n",
       "convolutional neural network (CNN)                    1                0  \n",
       "neuroevolution (NE)                                   0                0  \n",
       "recursive neural knowledge network (RNKN)             0                0  \n",
       "transformer                                           0                0  \n",
       "Tensor Product Representation (TPR)                   0                0  \n",
       "logic tensor network (LTN)                            0                0  \n",
       "graph neural network (GNN)                            0                0  \n",
       "Memory Network                                        0                1  \n",
       "\n",
       "[16 rows x 40 columns]"
      ]
     },
     "execution_count": 42,
     "metadata": {},
     "output_type": "execute_result"
    }
   ],
   "source": [
    "assd"
   ]
  },
  {
   "cell_type": "code",
   "execution_count": 43,
   "metadata": {},
   "outputs": [
    {
     "data": {
      "image/png": "[encoded data removed]",
      "text/plain": [
       "<Figure size 1296x720 with 2 Axes>"
      ]
     },
     "metadata": {
      "needs_background": "light"
     },
     "output_type": "display_data"
    }
   ],
   "source": [
    "plt.style.use('presentation.mplstyle')\n",
    "mpl.matplotlib_fname()\n",
    "fig, ax = plt.subplots(figsize=(18, 10))\n",
    "color_map = plt.cm.get_cmap('magma')\n",
    "reversed_color_map = color_map.reversed()\n",
    "\n",
    "plt.hlines(y=np.arange(0, len(assd.index), 1), xmin=np.full(len(assd.index),0), xmax=np.full(len(assd.index),len(assd.columns)), color=\"#cccccc\", linewidth=.25)\n",
    "plt.vlines(x=np.arange(0, len(assd.columns), 1), ymin=np.full(len(assd.columns),0), ymax=np.full(len(assd.columns),len(assd.index)), color=\"#cccccc\",linewidth=.25)\n",
    "plt.yticks(np.arange(0.5, len(assd.index), 1), assd.index)\n",
    "plt.xticks(np.arange(0.5, len(assd.columns), 1), assd.columns, rotation=90)\n",
    "plt.ylabel(\"Neural\")\n",
    "plt.xlabel(\"Symbolic\")\n",
    "plt.title(\"Neural-Symbolic\")\n",
    "\n",
    "graph=plt.pcolor(assd, cmap=reversed_color_map)\n",
    "cb = fig.colorbar(graph)\n",
    "# cb.set_label('Support', rotation=0, va='bottom')\n",
    "cb.outline.set_visible(False)\n",
    "plt.show()"
   ]
  },
  {
   "cell_type": "markdown",
   "metadata": {},
   "source": []
  },
  {
   "cell_type": "markdown",
   "metadata": {},
   "source": [
    "The two studies missing a DOI:\n",
    "* 2-s2.0-85106687657\n",
    "* 2-s2.0-85105153943\n",
    "\n",
    "Scopus search which makes references(25)scopus.csv:\n",
    "<pre>\n",
    "DOI (\"10.1007/978-3-030-48279-4_55\" OR \"10.1016/j.neunet.2016.09.001\"  OR  \"10.1108/IJWIS-11-2020-0067\"  OR  \"10.1007/s10994-021-05968-x\"  OR \n",
    "\"10.1016/j.eswa.2016.01.007\"  OR \"10.1016/j.neucom.2020.12.040\"  OR  \"10.1007/s10462-010-9188-4\"  OR  \"10.1016/j.patrec.2019.04.024\"  OR  \n",
    "\"10.1016/j.neucom.2021.02.021\"  OR \"10.1109/ACCESS.2020.2972751\"  OR  \"10.1016/j.neunet.2018.06.012\"  OR  \"10.1016/j.artmed.2019.101772\"  OR \n",
    "\"10.1007/978-3-030-61609-0_51\"  OR \"10.1109/ACCESS.2019.2948081\"  OR  \"10.1109/TASLP.2021.3082295\"  OR  \"10.1109/ACCESS.2020.3019586\"  OR  \n",
    "\"10.1016/j.artint.2015.08.011\"  OR \"10.1007/978-3-030-82147-0_34\"  OR  \"10.1016/j.neucom.2017.10.010\"  OR  \"10.1109/ACCESS.2021.3053917\"  OR\n",
    "\"10.1007/s13218-019-00601-5\"  OR \"10.1007/s12065-019-00301-x\"  OR  \"10.1145/3453483.3454047\" OR \"10.1016/j.neunet.2012.02.013\" OR\n",
    "\"10.1007/s11042-019-08125-8\")  \n",
    "\n",
    "OR  EID ( \"2-s2.0-85106687657\"  OR  \"2-s2.0-85105153943\" ) \n",
    "</pre>"
   ]
  },
  {
   "cell_type": "code",
   "execution_count": null,
   "metadata": {},
   "outputs": [],
   "source": []
  },
  {
   "cell_type": "code",
   "execution_count": null,
   "metadata": {},
   "outputs": [],
   "source": []
  },
  {
   "cell_type": "code",
   "execution_count": null,
   "metadata": {},
   "outputs": [],
   "source": []
  },
  {
   "cell_type": "code",
   "execution_count": null,
   "metadata": {},
   "outputs": [],
   "source": []
  },
  {
   "cell_type": "code",
   "execution_count": null,
   "metadata": {},
   "outputs": [],
   "source": []
  },
  {
   "cell_type": "code",
   "execution_count": null,
   "metadata": {},
   "outputs": [],
   "source": []
  },
  {
   "cell_type": "code",
   "execution_count": null,
   "metadata": {},
   "outputs": [],
   "source": []
  }
 ],
 "metadata": {
  "kernelspec": {
   "display_name": "Python 3",
   "language": "python",
   "name": "python3"
  },
  "language_info": {
   "codemirror_mode": {
    "name": "ipython",
    "version": 3
   },
   "file_extension": ".py",
   "mimetype": "text/x-python",
   "name": "python",
   "nbconvert_exporter": "python",
   "pygments_lexer": "ipython3",
   "version": "3.7.3"
  }
 },
 "nbformat": 4,
 "nbformat_minor": 4
}
