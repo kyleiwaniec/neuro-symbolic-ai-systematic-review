{
 "cells": [
  {
   "cell_type": "markdown",
   "metadata": {},
   "source": [
    "# Surveys"
   ]
  },
  {
   "cell_type": "markdown",
   "metadata": {},
   "source": [
    "There are other surveys on Arxiv, and the 2021 AAAI conference had a panel dedicated to neuro-sybolic AI where some of the top scientists of the field spoke. These are not included in the Scopus file because they have not yet been published in journals. But they are important for us to review. They are:\n",
    "* [Neural-Symbolic Learning and Reasoning: A Survey and Interpretation](https://arxiv.org/abs/1711.03902)  (Garcez et al. 2017)\n",
    "* [Neurosymbolic AI: The 3rd Wave](https://arxiv.org/abs/2012.05876)  (Garcez, Lamb 2020)\n",
    "* [Thinking Fast and Slow in AI](https://arxiv.org/abs/2010.06002) (AAAI 2021)\n",
    "* [Graph Neural Networks Meet Neural-Symbolic Computing](https://www.ijcai.org/proceedings/2020/0679.pdf) (Garcez, Lamb, et al. 2020)\n",
    "* [The Neuro-Symbolic AI Panel at AAAI 2021](https://slideslive.com/38952405/the-neurosymbolic-ai-panel) (Lamb, et al. 2021)\n",
    "* [Neuro-Symbolic Artificial Intelligence: Current Trends](https://daselab.cs.ksu.edu/publications/neuro-symbolic-artificial-intelligence-current-trends?fbclid=IwAR1Px-AFiyR-DVP0eVLfV65PPWHVFdblDTRZr1QTC6LLVxq5loEbYjnN1qM) (Hitzler et al. 2021)\n",
    "\n",
    "Related but not exaclty within the inclusion criteria:\n",
    "* [Value-based Argumentation Frameworks as Neural-symbolic Learning Systems](https://www.researchgate.net/publication/220388060_Value-based_Argumentation_Frameworks_as_Neural-symbolic_Learning_Systems) (Garcez, Lamb, et al. 2005)\n"
   ]
  },
  {
   "cell_type": "code",
   "execution_count": 69,
   "metadata": {},
   "outputs": [],
   "source": [
    "%matplotlib inline \n",
    "import matplotlib.pyplot as plt\n",
    "import matplotlib as mpl\n",
    "plt.style.use('presentation.mplstyle')\n",
    "mpl.matplotlib_fname()\n",
    "from collections import Counter\n",
    "import pandas as pd\n",
    "pd.set_option('display.max_colwidth', 100)"
   ]
  },
  {
   "cell_type": "code",
   "execution_count": 27,
   "metadata": {},
   "outputs": [],
   "source": [
    "df1=pd.read_csv(\"scopus-filtered-by-on-topic.csv\")"
   ]
  },
  {
   "cell_type": "code",
   "execution_count": 28,
   "metadata": {},
   "outputs": [],
   "source": [
    "df2=pd.read_csv(\"scopus (233).csv\")"
   ]
  },
  {
   "cell_type": "code",
   "execution_count": 30,
   "metadata": {},
   "outputs": [
    {
     "data": {
      "text/html": [
       "<div>\n",
       "<style scoped>\n",
       "    .dataframe tbody tr th:only-of-type {\n",
       "        vertical-align: middle;\n",
       "    }\n",
       "\n",
       "    .dataframe tbody tr th {\n",
       "        vertical-align: top;\n",
       "    }\n",
       "\n",
       "    .dataframe thead th {\n",
       "        text-align: right;\n",
       "    }\n",
       "</style>\n",
       "<table border=\"1\" class=\"dataframe\">\n",
       "  <thead>\n",
       "    <tr style=\"text-align: right;\">\n",
       "      <th></th>\n",
       "      <th>Publication Year</th>\n",
       "      <th>Title</th>\n",
       "      <th>Author</th>\n",
       "    </tr>\n",
       "  </thead>\n",
       "  <tbody>\n",
       "    <tr>\n",
       "      <th>5</th>\n",
       "      <td>2021</td>\n",
       "      <td>Informed Machine Learning - A Taxonomy and Survey of Integrating Prior Knowledge into Learning S...</td>\n",
       "      <td>Vonrueden, L.; Mayer, S.; Beckh, K.; Georgiev, B.; Giesselbach, S.; Heese, R.; Kirsch, B.; Walcz...</td>\n",
       "    </tr>\n",
       "    <tr>\n",
       "      <th>6</th>\n",
       "      <td>2021</td>\n",
       "      <td>Modular design patterns for hybrid learning and reasoning systems: a taxonomy, patterns and use ...</td>\n",
       "      <td>van Bekkum, M.; de Boer, M.; van Harmelen, F.; Meyer-Vitali, A.; Teije, A.</td>\n",
       "    </tr>\n",
       "    <tr>\n",
       "      <th>10</th>\n",
       "      <td>2021</td>\n",
       "      <td>Some thoughts on knowledge-enhanced machine learning</td>\n",
       "      <td>Cozman, F.G.; Munhoz, H.N.</td>\n",
       "    </tr>\n",
       "  </tbody>\n",
       "</table>\n",
       "</div>"
      ],
      "text/plain": [
       "    Publication Year  \\\n",
       "5               2021   \n",
       "6               2021   \n",
       "10              2021   \n",
       "\n",
       "                                                                                                  Title  \\\n",
       "5   Informed Machine Learning - A Taxonomy and Survey of Integrating Prior Knowledge into Learning S...   \n",
       "6   Modular design patterns for hybrid learning and reasoning systems: a taxonomy, patterns and use ...   \n",
       "10                                                 Some thoughts on knowledge-enhanced machine learning   \n",
       "\n",
       "                                                                                                 Author  \n",
       "5   Vonrueden, L.; Mayer, S.; Beckh, K.; Georgiev, B.; Giesselbach, S.; Heese, R.; Kirsch, B.; Walcz...  \n",
       "6                            van Bekkum, M.; de Boer, M.; van Harmelen, F.; Meyer-Vitali, A.; Teije, A.  \n",
       "10                                                                           Cozman, F.G.; Munhoz, H.N.  "
      ]
     },
     "execution_count": 30,
     "metadata": {},
     "output_type": "execute_result"
    }
   ],
   "source": [
    "surveys=df1[df1['Notes/Criteria']=='survey']\n",
    "#surveys=surveys[surveys['Publication Year']>=2019]\n",
    "surveys=surveys[['Publication Year','Title','Author']]\n",
    "surveys.sort_values(by=['Publication Year'], ascending=False).head(3)"
   ]
  },
  {
   "cell_type": "code",
   "execution_count": 31,
   "metadata": {},
   "outputs": [],
   "source": [
    "survey_authors=surveys['Author']"
   ]
  },
  {
   "cell_type": "code",
   "execution_count": 43,
   "metadata": {},
   "outputs": [],
   "source": [
    "authors_list=(';'.join(survey_authors)).split(';')\n",
    "authors_list=[x.strip() for x in authors_list]"
   ]
  },
  {
   "cell_type": "code",
   "execution_count": 71,
   "metadata": {
    "collapsed": true,
    "jupyter": {
     "outputs_hidden": true
    }
   },
   "outputs": [
    {
     "data": {
      "text/plain": [
       "Counter({'Hitzler, P.': 2,\n",
       "         'Bianchi, F.': 2,\n",
       "         'Ebrahimi, M.': 2,\n",
       "         'Sarker, M.K.': 1,\n",
       "         'Eberhart, A.': 1,\n",
       "         'Gromann, D.': 1,\n",
       "         'Espinosa Anke, L.': 1,\n",
       "         'Declerck, T.': 1,\n",
       "         'Vonrueden, L.': 1,\n",
       "         'Mayer, S.': 1,\n",
       "         'Beckh, K.': 1,\n",
       "         'Georgiev, B.': 1,\n",
       "         'Giesselbach, S.': 1,\n",
       "         'Heese, R.': 1,\n",
       "         'Kirsch, B.': 1,\n",
       "         'Walczak, M.': 1,\n",
       "         'Pfrommer, J.': 1,\n",
       "         'Pick, A.': 1,\n",
       "         'Ramamurthy, R.': 1,\n",
       "         'Garcke, J.': 1,\n",
       "         'Bauckhage, C.': 1,\n",
       "         'Schuecker, J.': 1,\n",
       "         'van Bekkum, M.': 1,\n",
       "         'de Boer, M.': 1,\n",
       "         'van Harmelen, F.': 1,\n",
       "         'Meyer-Vitali, A.': 1,\n",
       "         'Teije, A.': 1,\n",
       "         'Spelda, P.': 1,\n",
       "         'Polkowski, L.': 1,\n",
       "         'Tangiuchi, T.': 1,\n",
       "         'Mochihashi, D.': 1,\n",
       "         'Nagai, T.': 1,\n",
       "         'Uchida, S.': 1,\n",
       "         'Inoue, N.': 1,\n",
       "         'Kobayashi, I.': 1,\n",
       "         'Nakamura, T.': 1,\n",
       "         'Hagiwara, Y.': 1,\n",
       "         'Iwahashi, N.': 1,\n",
       "         'Inamura, T.': 1,\n",
       "         'Cozman, F.G.': 1,\n",
       "         'Munhoz, H.N.': 1,\n",
       "         'Hüllermeier, E.': 1,\n",
       "         'Khemlani, S.': 1,\n",
       "         'Johnson-Laird, P.N.': 1,\n",
       "         'Leeuwenberg, A.': 1,\n",
       "         'Moens, M.-F.': 1,\n",
       "         'Bottou, L.': 1,\n",
       "         'Prentzas, J.': 1,\n",
       "         'Hatzilygeroudis, I.': 1,\n",
       "         'Couso, I.': 1,\n",
       "         'Borgelt, C.': 1,\n",
       "         'Hullermeier, E.': 1,\n",
       "         'Kruse, R.': 1,\n",
       "         'Rettinger, A.': 1,\n",
       "         'Lösch, U.': 1,\n",
       "         'Tresp, V.': 1,\n",
       "         \"D'Amato, C.\": 1,\n",
       "         'Fanizzi, N.': 1,\n",
       "         'Dodig-Crnkovic, G.': 1,\n",
       "         'Rossi, F.': 1,\n",
       "         'Sheth, A.': 1,\n",
       "         'Gaur, M.': 1,\n",
       "         'Kursuncu, U.': 1,\n",
       "         'Wickramarachchi, R.': 1,\n",
       "         'Guo, L.': 1,\n",
       "         'Wu, J.': 1,\n",
       "         'Li, J.': 1,\n",
       "         'Forbus, K.D.': 1,\n",
       "         'Liang, C.': 1,\n",
       "         'Rabkina, I.': 1,\n",
       "         'Fuller, T.J.': 1,\n",
       "         'Licato, J.': 1,\n",
       "         'Zhang, Z.': 1,\n",
       "         'Olier, J.S.': 1,\n",
       "         'Barakova, E.': 1,\n",
       "         'Regazzoni, C.': 1,\n",
       "         'Rauterberg, M.': 1})"
      ]
     },
     "execution_count": 71,
     "metadata": {},
     "output_type": "execute_result"
    }
   ],
   "source": [
    "Counter(authors_list)"
   ]
  },
  {
   "cell_type": "code",
   "execution_count": 72,
   "metadata": {},
   "outputs": [],
   "source": [
    "# fig, ax = plt.subplots(figsize=(4, 20))\n",
    "# plt.barh(x,y)"
   ]
  },
  {
   "cell_type": "markdown",
   "metadata": {},
   "source": [
    "# Findings"
   ]
  },
  {
   "cell_type": "code",
   "execution_count": null,
   "metadata": {},
   "outputs": [],
   "source": []
  },
  {
   "cell_type": "code",
   "execution_count": null,
   "metadata": {},
   "outputs": [],
   "source": []
  },
  {
   "cell_type": "code",
   "execution_count": null,
   "metadata": {},
   "outputs": [],
   "source": []
  },
  {
   "cell_type": "code",
   "execution_count": null,
   "metadata": {},
   "outputs": [],
   "source": []
  },
  {
   "cell_type": "code",
   "execution_count": null,
   "metadata": {},
   "outputs": [],
   "source": []
  }
 ],
 "metadata": {
  "kernelspec": {
   "display_name": "Python 3",
   "language": "python",
   "name": "python3"
  },
  "language_info": {
   "codemirror_mode": {
    "name": "ipython",
    "version": 3
   },
   "file_extension": ".py",
   "mimetype": "text/x-python",
   "name": "python",
   "nbconvert_exporter": "python",
   "pygments_lexer": "ipython3",
   "version": "3.7.3"
  }
 },
 "nbformat": 4,
 "nbformat_minor": 4
}
